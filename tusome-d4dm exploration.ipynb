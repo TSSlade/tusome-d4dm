{
 "cells": [
  {
   "cell_type": "code",
   "execution_count": 1,
   "metadata": {
    "ExecuteTime": {
     "end_time": "2018-10-20T19:38:26.015806Z",
     "start_time": "2018-10-20T19:38:17.799625Z"
    }
   },
   "outputs": [
    {
     "data": {
      "text/plain": [
       "RendererRegistry.enable('notebook')"
      ]
     },
     "execution_count": 1,
     "metadata": {},
     "output_type": "execute_result"
    }
   ],
   "source": [
    "import pandas as pd\n",
    "import numpy as np\n",
    "import altair as alt\n",
    "from altair import datum, expr\n",
    "import matplotlib.pyplot as plt\n",
    "import datetime as dt\n",
    "alt.renderers.enable('notebook')"
   ]
  },
  {
   "cell_type": "code",
   "execution_count": 3,
   "metadata": {
    "ExecuteTime": {
     "end_time": "2018-10-20T19:38:51.254457Z",
     "start_time": "2018-10-20T19:38:50.559426Z"
    }
   },
   "outputs": [],
   "source": [
    "tchrs = pd.read_stata(\"teacher_data.dta\", convert_categoricals=False)\n",
    "csos = pd.read_stata(\"cso_data.dta\", convert_categoricals=False)\n",
    "dirs = pd.read_stata(\"director_data.dta\", convert_categoricals=False)"
   ]
  },
  {
   "cell_type": "code",
   "execution_count": 4,
   "metadata": {
    "ExecuteTime": {
     "end_time": "2018-10-20T19:38:55.938329Z",
     "start_time": "2018-10-20T19:38:55.907078Z"
    }
   },
   "outputs": [
    {
     "name": "stdout",
     "output_type": "stream",
     "text": [
      "The Teacher dataset contains 709 records\n",
      "The CSO dataset contains 132 records\n",
      "The Director dataset contains 203 records\n"
     ]
    }
   ],
   "source": [
    "print(f\"The Teacher dataset contains {tchrs.shape[0]} records\\nThe CSO dataset contains {csos.shape[0]} records\\nThe Director dataset contains {dirs.shape[0]} records\")"
   ]
  },
  {
   "cell_type": "markdown",
   "metadata": {
    "ExecuteTime": {
     "end_time": "2018-10-12T13:38:15.821761Z",
     "start_time": "2018-10-12T13:38:15.784758Z"
    }
   },
   "source": [
    "The main questions we want to ask are documented in the [analysis plan](https://github.com/TSSlade/tusome-d4dm/blob/master/analysis_plan.md), which is an evolving document."
   ]
  },
  {
   "cell_type": "markdown",
   "metadata": {
    "ExecuteTime": {
     "end_time": "2018-10-12T13:38:15.821761Z",
     "start_time": "2018-10-12T13:38:15.784758Z"
    }
   },
   "source": [
    "## Teacher Instrument"
   ]
  },
  {
   "cell_type": "markdown",
   "metadata": {},
   "source": [
    "Here we begin exploring the data we obtained from interviewing the teachers."
   ]
  },
  {
   "cell_type": "code",
   "execution_count": 6,
   "metadata": {
    "ExecuteTime": {
     "end_time": "2018-10-20T19:39:29.788534Z",
     "start_time": "2018-10-20T19:39:29.772906Z"
    }
   },
   "outputs": [],
   "source": [
    "tchr_ct = tchrs.shape[0]"
   ]
  },
  {
   "cell_type": "markdown",
   "metadata": {
    "ExecuteTime": {
     "end_time": "2018-10-20T18:13:56.874778Z",
     "start_time": "2018-10-20T18:13:56.859149Z"
    },
    "variables": {
     "tchr_ct": "709"
    }
   },
   "source": [
    "Our dataset contains interviews with {{tchr_ct}} teachers."
   ]
  },
  {
   "cell_type": "markdown",
   "metadata": {},
   "source": [
    "### Teachers visited previously by CSOs\n",
    "\n",
    "The underlying assumption of most of the interview protocol is that the teacher has had a coaching interaction with a CSO. The first issue we should then address is the proportion of teachers who have received a visit from a CSO."
   ]
  },
  {
   "cell_type": "code",
   "execution_count": 7,
   "metadata": {
    "ExecuteTime": {
     "end_time": "2018-10-20T19:43:59.001761Z",
     "start_time": "2018-10-20T19:43:58.986144Z"
    }
   },
   "outputs": [],
   "source": [
    "never = 100 * ((tchr_ct - tchrs.vis_before.sum())/tchr_ct)"
   ]
  },
  {
   "cell_type": "markdown",
   "metadata": {
    "ExecuteTime": {
     "end_time": "2018-10-20T18:13:56.874778Z",
     "start_time": "2018-10-20T18:13:56.859149Z"
    },
    "variables": {
     "np.round(never, decimals=2)": "6.91"
    }
   },
   "source": [
    "We see that {{np.round(never, decimals=2)}}% of teachers interviewed had never been previously visited by CSOs."
   ]
  },
  {
   "cell_type": "markdown",
   "metadata": {},
   "source": [
    "### Number of coaching visits in the last academic term\n",
    "\n",
    "We have confirmed that the overwhelming majority of our teachers have been visited. We can have greater confidence in the responses they give us over the course of the interview if they have had a visit in the recent past. We therefore asked the teachers to tell us how many times they had been visited by their CSO in the preceding academic term (Term 2 of the Kenyan academic year, running from roughly May-July 2018)."
   ]
  },
  {
   "cell_type": "code",
   "execution_count": 47,
   "metadata": {
    "ExecuteTime": {
     "end_time": "2018-10-20T20:13:57.582256Z",
     "start_time": "2018-10-20T20:13:57.519753Z"
    }
   },
   "outputs": [
    {
     "data": {
      "application/javascript": [
       "var spec = {\"config\": {\"view\": {\"width\": 400, \"height\": 300}}, \"data\": {\"name\": \"data-19b8ebfa981446b240c44a467b5c316d\"}, \"mark\": \"bar\", \"encoding\": {\"tooltip\": {\"type\": \"quantitative\", \"field\": \"pct\"}, \"x\": {\"type\": \"quantitative\", \"field\": \"vis_before_freq\", \"title\": \"# Teachers\"}, \"y\": {\"type\": \"ordinal\", \"field\": \"prevterm_vis\", \"title\": \"CSO visits last term\"}}, \"title\": \"# of times CSO visited in preceding term\", \"$schema\": \"https://vega.github.io/schema/vega-lite/v2.6.0.json\", \"datasets\": {\"data-19b8ebfa981446b240c44a467b5c316d\": [{\"prevterm_vis\": 0.0, \"vis_before_freq\": 70, \"pct\": 10.61}, {\"prevterm_vis\": 1.0, \"vis_before_freq\": 132, \"pct\": 20.0}, {\"prevterm_vis\": 2.0, \"vis_before_freq\": 144, \"pct\": 21.82}, {\"prevterm_vis\": 3.0, \"vis_before_freq\": 150, \"pct\": 22.73}, {\"prevterm_vis\": 4.0, \"vis_before_freq\": 73, \"pct\": 11.06}, {\"prevterm_vis\": \">4x\", \"vis_before_freq\": 121, \"pct\": 18.33}]}};\n",
       "var opt = {};\n",
       "var type = \"vega-lite\";\n",
       "var id = \"bd1f6b60-f3ba-42bb-810e-b23e590679e3\";\n",
       "\n",
       "var output_area = this;\n",
       "\n",
       "require([\"nbextensions/jupyter-vega/index\"], function(vega) {\n",
       "  var target = document.createElement(\"div\");\n",
       "  target.id = id;\n",
       "  target.className = \"vega-embed\";\n",
       "\n",
       "  var style = document.createElement(\"style\");\n",
       "  style.textContent = [\n",
       "    \".vega-embed .error p {\",\n",
       "    \"  color: firebrick;\",\n",
       "    \"  font-size: 14px;\",\n",
       "    \"}\",\n",
       "  ].join(\"\\\\n\");\n",
       "\n",
       "  // element is a jQuery wrapped DOM element inside the output area\n",
       "  // see http://ipython.readthedocs.io/en/stable/api/generated/\\\n",
       "  // IPython.display.html#IPython.display.Javascript.__init__\n",
       "  element[0].appendChild(target);\n",
       "  element[0].appendChild(style);\n",
       "\n",
       "  vega.render(\"#\" + id, spec, type, opt, output_area);\n",
       "}, function (err) {\n",
       "  if (err.requireType !== \"scripterror\") {\n",
       "    throw(err);\n",
       "  }\n",
       "});\n"
      ],
      "text/plain": [
       "<vega.vegalite.VegaLite at 0x1e06ab17e10>"
      ]
     },
     "metadata": {
      "jupyter-vega": "#bd1f6b60-f3ba-42bb-810e-b23e590679e3"
     },
     "output_type": "display_data"
    },
    {
     "data": {
      "text/plain": []
     },
     "execution_count": 47,
     "metadata": {},
     "output_type": "execute_result"
    },
    {
     "data": {
      "image/png": "[encoded data removed]"
     },
     "metadata": {
      "jupyter-vega": "#bd1f6b60-f3ba-42bb-810e-b23e590679e3"
     },
     "output_type": "display_data"
    }
   ],
   "source": [
    "tchrs.vis_before_freq = tchrs.vis_before_freq.replace({55: \">4x\"})\n",
    "viscount_df = pd.DataFrame(tchrs.vis_before_freq.value_counts(sort=False)).rename_axis(\"prevterm_vis\").reset_index()\n",
    "viscount_df[\"pct\"] = np.round(100 * (viscount_df.vis_before_freq / tchrs.vis_before.sum()), decimals=2)\n",
    "more_than_monthly = viscount_df[viscount_df.prevterm_vis.isin([4, \">4x\"])].pct.sum()\n",
    "alt.Chart(viscount_df, title=\"# of times CSO visited in preceding term\").mark_bar().encode(\n",
    "    alt.Y(\"prevterm_vis:O\", title=\"CSO visits last term\"),\n",
    "    alt.X(\"vis_before_freq:Q\", title=\"# Teachers\"),\n",
    "    tooltip=\"pct\")"
   ]
  },
  {
   "cell_type": "markdown",
   "metadata": {
    "ExecuteTime": {
     "end_time": "2018-10-20T19:51:28.176045Z",
     "start_time": "2018-10-20T19:51:28.127801Z"
    },
    "variables": {
     "more_than_monthly": "29.39",
     "viscount_df[viscount_df.prevterm_vis.isin([1, 2, 3])].pct.sum()": "64.55",
     "viscount_df[viscount_df.prevterm_vis==0].pct[0]": "10.61"
    }
   },
   "source": [
    "We see that roughly {{viscount_df[viscount_df.prevterm_vis==0].pct[0]}}% of the respondents, while they'd been visited by a CSO in the past, had not been visited in the preceding term. However, {{viscount_df[viscount_df.prevterm_vis.isin([1, 2, 3])].pct.sum()}}% of the respondents were visited between once per term and once per month. {{more_than_monthly}}% of the teachers were visited by their CSOs more frequently than monthly."
   ]
  },
  {
   "cell_type": "code",
   "execution_count": 46,
   "metadata": {
    "ExecuteTime": {
     "end_time": "2018-10-20T20:13:01.470788Z",
     "start_time": "2018-10-20T20:13:01.439539Z"
    }
   },
   "outputs": [
    {
     "data": {
      "text/plain": [
       "29.39"
      ]
     },
     "execution_count": 46,
     "metadata": {},
     "output_type": "execute_result"
    }
   ],
   "source": []
  },
  {
   "cell_type": "code",
   "execution_count": 72,
   "metadata": {
    "ExecuteTime": {
     "end_time": "2018-10-20T18:57:48.580766Z",
     "start_time": "2018-10-20T18:57:48.549521Z"
    }
   },
   "outputs": [
    {
     "data": {
      "text/html": [
       "<div>\n",
       "<style scoped>\n",
       "    .dataframe tbody tr th:only-of-type {\n",
       "        vertical-align: middle;\n",
       "    }\n",
       "\n",
       "    .dataframe tbody tr th {\n",
       "        vertical-align: top;\n",
       "    }\n",
       "\n",
       "    .dataframe thead th {\n",
       "        text-align: right;\n",
       "    }\n",
       "</style>\n",
       "<table border=\"1\" class=\"dataframe\">\n",
       "  <thead>\n",
       "    <tr style=\"text-align: right;\">\n",
       "      <th></th>\n",
       "      <th>activities</th>\n",
       "      <th>tchrs_reporting</th>\n",
       "    </tr>\n",
       "  </thead>\n",
       "  <tbody>\n",
       "    <tr>\n",
       "      <th>0</th>\n",
       "      <td>Assessed pupils</td>\n",
       "      <td>83.50</td>\n",
       "    </tr>\n",
       "    <tr>\n",
       "      <th>1</th>\n",
       "      <td>Talked to HT</td>\n",
       "      <td>62.62</td>\n",
       "    </tr>\n",
       "    <tr>\n",
       "      <th>2</th>\n",
       "      <td>Provided feedback on lesson</td>\n",
       "      <td>89.56</td>\n",
       "    </tr>\n",
       "    <tr>\n",
       "      <th>3</th>\n",
       "      <td>Had general talk</td>\n",
       "      <td>45.98</td>\n",
       "    </tr>\n",
       "    <tr>\n",
       "      <th>4</th>\n",
       "      <td>Other</td>\n",
       "      <td>16.36</td>\n",
       "    </tr>\n",
       "  </tbody>\n",
       "</table>\n",
       "</div>"
      ],
      "text/plain": [
       "                    activities  tchrs_reporting\n",
       "0  Assessed pupils              83.50          \n",
       "1  Talked to HT                 62.62          \n",
       "2  Provided feedback on lesson  89.56          \n",
       "3  Had general talk             45.98          \n",
       "4  Other                        16.36          "
      ]
     },
     "execution_count": 72,
     "metadata": {},
     "output_type": "execute_result"
    }
   ],
   "source": [
    "visact_df = pd.DataFrame.from_dict({\"activities\": [\"Assessed pupils\",\n",
    "                                                   \"Talked to HT\",\n",
    "                                                   \"Provided feedback on lesson\",\n",
    "                                                   \"Had general talk\",\n",
    "                                                   \"Other\"],\n",
    "                                    \"tchrs_reporting\": [tchrs.vis_act_kids.sum(),\n",
    "                                                        tchrs.vis_act_ht.sum(),\n",
    "                                                        tchrs.vis_act_fdbk.sum(),\n",
    "                                                        tchrs.vis_act_gen.sum(),\n",
    "                                                        tchrs.vis_act_other.sum()]})\n",
    "visact_df.tchrs_reporting = np.round(visact_df.tchrs_reporting.apply(lambda x: 100 * (x/tchr_ct)), decimals=2)\n",
    "visact_df"
   ]
  },
  {
   "cell_type": "code",
   "execution_count": 73,
   "metadata": {
    "ExecuteTime": {
     "end_time": "2018-10-20T18:57:52.782822Z",
     "start_time": "2018-10-20T18:57:52.735955Z"
    }
   },
   "outputs": [
    {
     "data": {
      "application/javascript": [
       "var spec = {\"config\": {\"view\": {\"width\": 400, \"height\": 300}}, \"data\": {\"name\": \"data-3ce2b5b3a5928efe6a1ef03c27e9dc94\"}, \"mark\": \"bar\", \"encoding\": {\"x\": {\"type\": \"quantitative\", \"field\": \"tchrs_reporting\", \"title\": \"% of teachers responding\"}, \"y\": {\"type\": \"ordinal\", \"field\": \"activities\", \"sort\": {\"op\": \"values\", \"field\": \"tchrs_reporting\", \"order\": \"ascending\"}, \"title\": \"Activities named\"}}, \"title\": \"CSO activities during previous visit\", \"$schema\": \"https://vega.github.io/schema/vega-lite/v2.6.0.json\", \"datasets\": {\"data-3ce2b5b3a5928efe6a1ef03c27e9dc94\": [{\"activities\": \"Assessed pupils\", \"tchrs_reporting\": 83.5}, {\"activities\": \"Talked to HT\", \"tchrs_reporting\": 62.62}, {\"activities\": \"Provided feedback on lesson\", \"tchrs_reporting\": 89.56}, {\"activities\": \"Had general talk\", \"tchrs_reporting\": 45.98}, {\"activities\": \"Other\", \"tchrs_reporting\": 16.36}]}};\n",
       "var opt = {};\n",
       "var type = \"vega-lite\";\n",
       "var id = \"5b32f3b4-9866-4ae5-8acf-088fe9ebc573\";\n",
       "\n",
       "var output_area = this;\n",
       "\n",
       "require([\"nbextensions/jupyter-vega/index\"], function(vega) {\n",
       "  var target = document.createElement(\"div\");\n",
       "  target.id = id;\n",
       "  target.className = \"vega-embed\";\n",
       "\n",
       "  var style = document.createElement(\"style\");\n",
       "  style.textContent = [\n",
       "    \".vega-embed .error p {\",\n",
       "    \"  color: firebrick;\",\n",
       "    \"  font-size: 14px;\",\n",
       "    \"}\",\n",
       "  ].join(\"\\\\n\");\n",
       "\n",
       "  // element is a jQuery wrapped DOM element inside the output area\n",
       "  // see http://ipython.readthedocs.io/en/stable/api/generated/\\\n",
       "  // IPython.display.html#IPython.display.Javascript.__init__\n",
       "  element[0].appendChild(target);\n",
       "  element[0].appendChild(style);\n",
       "\n",
       "  vega.render(\"#\" + id, spec, type, opt, output_area);\n",
       "}, function (err) {\n",
       "  if (err.requireType !== \"scripterror\") {\n",
       "    throw(err);\n",
       "  }\n",
       "});\n"
      ],
      "text/plain": [
       "<vega.vegalite.VegaLite at 0x17aa044b518>"
      ]
     },
     "metadata": {
      "jupyter-vega": "#5b32f3b4-9866-4ae5-8acf-088fe9ebc573"
     },
     "output_type": "display_data"
    },
    {
     "data": {
      "text/plain": []
     },
     "execution_count": 73,
     "metadata": {},
     "output_type": "execute_result"
    },
    {
     "data": {
      "image/png": "[encoded data removed]"
     },
     "metadata": {
      "jupyter-vega": "#5b32f3b4-9866-4ae5-8acf-088fe9ebc573"
     },
     "output_type": "display_data"
    },
    {
     "data": {
      "image/png": "[encoded data removed]"
     },
     "metadata": {
      "jupyter-vega": "#5b32f3b4-9866-4ae5-8acf-088fe9ebc573"
     },
     "output_type": "display_data"
    }
   ],
   "source": [
    "alt.Chart(visact_df, title=\"CSO activities during previous visit\").mark_bar().encode(\n",
    "alt.Y(\"activities:O\", \n",
    "      title=\"Activities named\",\n",
    "      sort = alt.EncodingSortField(field=\"tchrs_reporting\", op=\"values\", order=\"ascending\")),\n",
    "alt.X(\"tchrs_reporting:Q\",\n",
    "      title=\"% of teachers responding\"))"
   ]
  },
  {
   "cell_type": "code",
   "execution_count": 77,
   "metadata": {
    "ExecuteTime": {
     "end_time": "2018-10-20T19:01:15.984367Z",
     "start_time": "2018-10-20T19:01:15.953117Z"
    }
   },
   "outputs": [
    {
     "data": {
      "text/plain": [
       "3      asks where I have questions and gives me guidance, has also done TIPAD                                                                                                                                                                                                                                                         \n",
       "2      requests me to prepare for the lesson in adavnace and details of the lesson, boys and girls                                                                                                                                                                                                                                    \n",
       "400    spoke to head teacher,observed my class,asesed pupils and gave me feedback                                                                                                                                                                                                                                                     \n",
       "631    She looks at the general layout of th class, nature corner, charts etc                                                                                                                                                                                                                                                         \n",
       "399    He always telles us through the Ht about his coming .He picks 3 pupils for assessment then we sit to evaluate the lesson starting with what went well and areas of improvement.                                                                                                                                                \n",
       "91     She sits in class and observes the lesson and also looks at the books at the end of the lesson.                                                                                                                                                                                                                                \n",
       "619    The CSO observes me teach,after the lessons I sit with her to discuss what I did well and then she explains to me what I did not do well.She explains or modelles how I should have don e it.                                                                                                                                  \n",
       "349    Talked about implementation of Maths                                                                                                                                                                                                                                                                                           \n",
       "346    Talks to other staff memebers.                                                                                                                                                                                                                                                                                                 \n",
       "569    reminded me of steps of teaching vocubulary                                                                                                                                                                                                                                                                                    \n",
       "49     I was asked to give him the register,he looked at the books whether they are marked and asked about the storage of the books and covering                                                                                                                                                                                      \n",
       "512    He tells us through thr HT.He calls us to the office to agree on who to be observed in which subject and class.When in class he checks professional document and relevant material I am to use for the lesson..Observes a full lesson and then conducts a feedback session that is usually very friendly and teachers centered.\n",
       "134    The CSO retired so the Chemelil zone CSO is the one doubling up in our zone and there are so many schools in Menara zone. That is why I think he has never visited me in class. The good thing is that our head teacher has been supporting me regularly in class.                                                             \n",
       "584    I was given the strength and the weakness of my lesson and he guided me to improve                                                                                                                                                                                                                                             \n",
       "19     He asks for my professional documents                                                                                                                                                                                                                                                                                          \n",
       "126    She has a tablet, so whenever I teach she records and checks teaching records .                                                                                                                                                                                                                                                \n",
       "496    she advises on personal issues, TPAD                                                                                                                                                                                                                                                                                           \n",
       "365    She also talked to us at plenary where all the Tusome teachers were called to discuss some of the strengths and areas of improvements they encounter when teaching Tusome lessons                                                                                                                                              \n",
       "524    He checked the professional documents                                                                                                                                                                                                                                                                                          \n",
       "691    She talks to teachers in staff room                                                                                                                                                                                                                                                                                            \n",
       "Name: vis_act_other_det, dtype: object"
      ]
     },
     "execution_count": 77,
     "metadata": {},
     "output_type": "execute_result"
    }
   ],
   "source": [
    "tchrs[tchrs.vis_act_other_det.notna() & (tchrs.vis_act_other_det != \"\")].vis_act_other_det.sample(20)"
   ]
  },
  {
   "cell_type": "code",
   "execution_count": null,
   "metadata": {},
   "outputs": [],
   "source": []
  },
  {
   "cell_type": "code",
   "execution_count": null,
   "metadata": {},
   "outputs": [],
   "source": []
  },
  {
   "cell_type": "code",
   "execution_count": null,
   "metadata": {},
   "outputs": [],
   "source": []
  },
  {
   "cell_type": "markdown",
   "metadata": {},
   "source": [
    "## CSO Instrument"
   ]
  },
  {
   "cell_type": "markdown",
   "metadata": {
    "ExecuteTime": {
     "end_time": "2018-10-12T13:38:15.821761Z",
     "start_time": "2018-10-12T13:38:15.784758Z"
    }
   },
   "source": [
    "Here we begin exploring the data we obtained from interviewing the CSOs."
   ]
  },
  {
   "cell_type": "markdown",
   "metadata": {},
   "source": [
    "### Length of experience using tablet-based Tangerine\n",
    "_When did you first receive a tablet from Tusome or PRIMR?_\n",
    "\n",
    "We want to convert the year/month CSOs provided into a number so we can work with it easily. We'll make the simplifying assumption that the tablet was received on the first day of the month they provided, and that this interview was conducted on the first day of the month. Neither of those are true, but the marginal days are unlikely to make a practical difference in a CSO's facility with the tool"
   ]
  },
  {
   "cell_type": "code",
   "execution_count": 5,
   "metadata": {
    "ExecuteTime": {
     "end_time": "2018-10-20T18:07:53.234872Z",
     "start_time": "2018-10-20T18:07:52.984869Z"
    }
   },
   "outputs": [],
   "source": [
    "now = dt.datetime(2018, 10, 1)\n",
    "csos[\"tab_usage\"] = pd.to_timedelta(now - pd.to_datetime({\"year\": csos.recd_tab_yr, \"month\": csos.recd_tab_month, \"day\": 1})).dt.days"
   ]
  },
  {
   "cell_type": "markdown",
   "metadata": {
    "ExecuteTime": {
     "end_time": "2018-10-18T06:22:41.067578Z",
     "start_time": "2018-10-18T06:22:41.040577Z"
    }
   },
   "source": [
    "We'll also want to convert the duration to months, since that will be easier to digest, and filter out any missing values."
   ]
  },
  {
   "cell_type": "code",
   "execution_count": 6,
   "metadata": {
    "ExecuteTime": {
     "end_time": "2018-10-20T18:07:55.271358Z",
     "start_time": "2018-10-20T18:07:55.240105Z"
    },
    "scrolled": true
   },
   "outputs": [],
   "source": [
    "tab_usage = pd.DataFrame(csos[csos.tab_usage.notna()].tab_usage / 30)\n",
    "# tab_usage"
   ]
  },
  {
   "cell_type": "code",
   "execution_count": 7,
   "metadata": {
    "ExecuteTime": {
     "end_time": "2018-10-20T18:08:01.343306Z",
     "start_time": "2018-10-20T18:08:01.265185Z"
    }
   },
   "outputs": [
    {
     "data": {
      "application/javascript": [
       "var spec = {\"config\": {\"view\": {\"width\": 400, \"height\": 300}}, \"data\": {\"name\": \"data-3710880dbbcc0aa6f2f74c310024daf5\"}, \"mark\": \"bar\", \"encoding\": {\"x\": {\"type\": \"quantitative\", \"bin\": {\"step\": 1}, \"field\": \"tab_usage\", \"title\": \"# Months has had a tablet\"}, \"y\": {\"type\": \"quantitative\", \"aggregate\": \"count\", \"title\": \"# of CSOs\"}}, \"title\": \"Distribution of CSO tablet usage, months\", \"$schema\": \"https://vega.github.io/schema/vega-lite/v2.6.0.json\", \"datasets\": {\"data-3710880dbbcc0aa6f2f74c310024daf5\": [{\"tab_usage\": 44.6}, {\"tab_usage\": 46.666666666666664}, {\"tab_usage\": 5.1}, {\"tab_usage\": 26.366666666666667}, {\"tab_usage\": 18.266666666666666}, {\"tab_usage\": 2.033333333333333}, {\"tab_usage\": 26.366666666666667}, {\"tab_usage\": 42.63333333333333}, {\"tab_usage\": 42.63333333333333}, {\"tab_usage\": 32.43333333333333}, {\"tab_usage\": 41.63333333333333}, {\"tab_usage\": 20.233333333333334}, {\"tab_usage\": 17.266666666666666}, {\"tab_usage\": 18.266666666666666}, {\"tab_usage\": 15.233333333333333}, {\"tab_usage\": 14.2}, {\"tab_usage\": 38.56666666666667}, {\"tab_usage\": 42.63333333333333}, {\"tab_usage\": 2.033333333333333}, {\"tab_usage\": 41.63333333333333}, {\"tab_usage\": 42.63333333333333}, {\"tab_usage\": 41.63333333333333}, {\"tab_usage\": 46.666666666666664}, {\"tab_usage\": 6.1}, {\"tab_usage\": 42.63333333333333}, {\"tab_usage\": 26.366666666666667}, {\"tab_usage\": 21.266666666666666}, {\"tab_usage\": 41.63333333333333}, {\"tab_usage\": 41.63333333333333}, {\"tab_usage\": 30.433333333333334}, {\"tab_usage\": 42.63333333333333}, {\"tab_usage\": 42.63333333333333}, {\"tab_usage\": 26.366666666666667}, {\"tab_usage\": 25.333333333333332}, {\"tab_usage\": 19.3}, {\"tab_usage\": 25.333333333333332}, {\"tab_usage\": 45.63333333333333}, {\"tab_usage\": 19.3}, {\"tab_usage\": 50.733333333333334}, {\"tab_usage\": 41.63333333333333}, {\"tab_usage\": 42.63333333333333}, {\"tab_usage\": 45.63333333333333}, {\"tab_usage\": 21.266666666666666}, {\"tab_usage\": 42.63333333333333}, {\"tab_usage\": 25.333333333333332}, {\"tab_usage\": 17.266666666666666}, {\"tab_usage\": 41.63333333333333}, {\"tab_usage\": 41.63333333333333}, {\"tab_usage\": 42.63333333333333}, {\"tab_usage\": 25.333333333333332}, {\"tab_usage\": 19.3}, {\"tab_usage\": 30.433333333333334}, {\"tab_usage\": 16.233333333333334}, {\"tab_usage\": 41.63333333333333}, {\"tab_usage\": 41.63333333333333}, {\"tab_usage\": 42.63333333333333}, {\"tab_usage\": 41.63333333333333}, {\"tab_usage\": 36.53333333333333}, {\"tab_usage\": 42.63333333333333}, {\"tab_usage\": 22.3}, {\"tab_usage\": 40.6}, {\"tab_usage\": 40.6}, {\"tab_usage\": 29.433333333333334}, {\"tab_usage\": 40.6}, {\"tab_usage\": 42.63333333333333}, {\"tab_usage\": 54.8}, {\"tab_usage\": 42.63333333333333}, {\"tab_usage\": 19.3}, {\"tab_usage\": 41.63333333333333}, {\"tab_usage\": 42.63333333333333}, {\"tab_usage\": 42.63333333333333}, {\"tab_usage\": 48.7}, {\"tab_usage\": 26.366666666666667}, {\"tab_usage\": 42.63333333333333}, {\"tab_usage\": 42.63333333333333}, {\"tab_usage\": 15.233333333333333}, {\"tab_usage\": 17.266666666666666}, {\"tab_usage\": 42.63333333333333}, {\"tab_usage\": 19.3}, {\"tab_usage\": 42.63333333333333}, {\"tab_usage\": 41.63333333333333}, {\"tab_usage\": 5.1}, {\"tab_usage\": 17.266666666666666}, {\"tab_usage\": 34.5}, {\"tab_usage\": 17.266666666666666}, {\"tab_usage\": 25.333333333333332}, {\"tab_usage\": 42.63333333333333}, {\"tab_usage\": 25.333333333333332}, {\"tab_usage\": 1.0}, {\"tab_usage\": 41.63333333333333}, {\"tab_usage\": 41.63333333333333}, {\"tab_usage\": 41.63333333333333}, {\"tab_usage\": 16.233333333333334}, {\"tab_usage\": 15.233333333333333}, {\"tab_usage\": 22.3}, {\"tab_usage\": 13.166666666666666}, {\"tab_usage\": 8.066666666666666}, {\"tab_usage\": 4.066666666666666}, {\"tab_usage\": 41.63333333333333}, {\"tab_usage\": 34.5}, {\"tab_usage\": 2.033333333333333}, {\"tab_usage\": 30.433333333333334}, {\"tab_usage\": 41.63333333333333}, {\"tab_usage\": 41.63333333333333}, {\"tab_usage\": 37.53333333333333}, {\"tab_usage\": 42.63333333333333}, {\"tab_usage\": 5.1}, {\"tab_usage\": 46.666666666666664}, {\"tab_usage\": 5.1}, {\"tab_usage\": 16.233333333333334}]}};\n",
       "var opt = {};\n",
       "var type = \"vega-lite\";\n",
       "var id = \"529b465a-dfc8-463e-ab36-9e262aa19a11\";\n",
       "\n",
       "var output_area = this;\n",
       "\n",
       "require([\"nbextensions/jupyter-vega/index\"], function(vega) {\n",
       "  var target = document.createElement(\"div\");\n",
       "  target.id = id;\n",
       "  target.className = \"vega-embed\";\n",
       "\n",
       "  var style = document.createElement(\"style\");\n",
       "  style.textContent = [\n",
       "    \".vega-embed .error p {\",\n",
       "    \"  color: firebrick;\",\n",
       "    \"  font-size: 14px;\",\n",
       "    \"}\",\n",
       "  ].join(\"\\\\n\");\n",
       "\n",
       "  // element is a jQuery wrapped DOM element inside the output area\n",
       "  // see http://ipython.readthedocs.io/en/stable/api/generated/\\\n",
       "  // IPython.display.html#IPython.display.Javascript.__init__\n",
       "  element[0].appendChild(target);\n",
       "  element[0].appendChild(style);\n",
       "\n",
       "  vega.render(\"#\" + id, spec, type, opt, output_area);\n",
       "}, function (err) {\n",
       "  if (err.requireType !== \"scripterror\") {\n",
       "    throw(err);\n",
       "  }\n",
       "});\n"
      ],
      "text/plain": [
       "<vega.vegalite.VegaLite at 0x17aa036ef28>"
      ]
     },
     "metadata": {
      "jupyter-vega": "#529b465a-dfc8-463e-ab36-9e262aa19a11"
     },
     "output_type": "display_data"
    },
    {
     "data": {
      "text/plain": []
     },
     "execution_count": 7,
     "metadata": {},
     "output_type": "execute_result"
    },
    {
     "data": {
      "image/png": "[encoded data removed]"
     },
     "metadata": {
      "jupyter-vega": "#529b465a-dfc8-463e-ab36-9e262aa19a11"
     },
     "output_type": "display_data"
    },
    {
     "data": {
      "image/png": "[encoded data removed]"
     },
     "metadata": {
      "jupyter-vega": "#529b465a-dfc8-463e-ab36-9e262aa19a11"
     },
     "output_type": "display_data"
    }
   ],
   "source": [
    "alt.Chart(tab_usage, title=\"Distribution of CSO tablet usage, months\").mark_bar().encode(\n",
    "    alt.X(\"tab_usage:Q\", \n",
    "          bin=alt.BinParams(step=1), title=\"# Months has had a tablet\"),\n",
    "    alt.Y(\"count()\", title=\"# of CSOs\"))"
   ]
  },
  {
   "cell_type": "markdown",
   "metadata": {
    "ExecuteTime": {
     "end_time": "2018-10-18T06:06:58.475520Z",
     "start_time": "2018-10-18T06:06:58.294467Z"
    }
   },
   "source": [
    "We see that the majority of our CSOs have had their tablets for roughly 42 months (3.5 years). This is in keeping with the beginning of the Tusome program, and is as expected. CSOs who have had their tablets for longer are likely veterans of the PRIMR program (Tusome's predecessor); those who have had tablets for fewer months may have assumed their roles more recently. (CSO turnover due to retirement, promotion, maternity leave, etc. is an issue which Tusome is constantly needing to manage.)"
   ]
  },
  {
   "cell_type": "markdown",
   "metadata": {
    "ExecuteTime": {
     "end_time": "2018-10-12T13:38:15.821761Z",
     "start_time": "2018-10-12T13:38:15.784758Z"
    }
   },
   "source": [
    "### Proportion of CSOs reporting use of each application\n",
    "\n",
    "_Which applications do you use frequently when supporting teachers? ...After recording unprompted responses, read the list of options and record responses._\n",
    "  + Tangerine Tutor\n",
    "  + Papaya\n",
    "  + Tusome Books (in Adobe Acrobat)\n",
    "  + Tusome Videos (in MX Player)\n",
    "\n",
    "The CSOs' tablets come equipped with several tools meant to support their efforts as instructional coaches. These include the [_Tangerine:Tutor_](http://www.tangerinecentral.org/tutor/) application, the [_Papaya_](http://schoolsnetkenya.com/tusome-early-literacy-programme-sounds-application/) application, PDF versions of Tusome's instructional materials (pupil's books and teacher's guides), and videos that model effective instructional delivery.\n",
    "\n",
    "We are interested in which of those tools CSOs use, and how frequently. We will provide an analysis of their unprompted free-response answers to the question above. For the moment, we note the tools they said they use when we explicitly prompted them with the list of tools available."
   ]
  },
  {
   "cell_type": "code",
   "execution_count": 8,
   "metadata": {
    "ExecuteTime": {
     "end_time": "2018-10-20T18:08:14.958414Z",
     "start_time": "2018-10-20T18:08:14.927206Z"
    }
   },
   "outputs": [],
   "source": [
    "app_users = {\"tutor\": csos.freqapps_tt_promp.sum(),\n",
    "         \"papaya\": csos.freqapps_papaya_promp.sum(),\n",
    "         \"books\": csos.freqapps_bks_promp.sum(),\n",
    "         \"videos\": csos.freqapps_vids_promp.sum()}\n",
    "app_usage = pd.DataFrame.from_dict(app_users, orient=\"index\", columns=[\"ct\"])\n",
    "app_usage[\"pct\"] = 100 * np.round(app_usage[\"ct\"] / csos.shape[0], decimals=3)\n",
    "app_usage = app_usage.rename_axis(\"app\").reset_index()"
   ]
  },
  {
   "cell_type": "code",
   "execution_count": 11,
   "metadata": {
    "ExecuteTime": {
     "end_time": "2018-10-20T18:08:56.578552Z",
     "start_time": "2018-10-20T18:08:56.547305Z"
    }
   },
   "outputs": [
    {
     "data": {
      "application/javascript": [
       "var spec = {\"config\": {\"view\": {\"width\": 400, \"height\": 300}}, \"data\": {\"name\": \"data-5c7ea5cd185bce7ee7736459ed5e79b5\"}, \"mark\": \"bar\", \"encoding\": {\"tooltip\": {\"type\": \"quantitative\", \"field\": \"pct\"}, \"x\": {\"type\": \"quantitative\", \"field\": \"pct\", \"title\": \"% of CSOs reporting usage\"}, \"y\": {\"type\": \"ordinal\", \"field\": \"app\", \"sort\": {\"op\": \"values\", \"field\": \"pct\", \"order\": \"ascending\"}, \"title\": \"Application\"}}, \"title\": \"Proportion of CSOs reporting tool usage\", \"$schema\": \"https://vega.github.io/schema/vega-lite/v2.6.0.json\", \"datasets\": {\"data-5c7ea5cd185bce7ee7736459ed5e79b5\": [{\"app\": \"tutor\", \"ct\": 120, \"pct\": 90.9}, {\"app\": \"papaya\", \"ct\": 121, \"pct\": 91.7}, {\"app\": \"books\", \"ct\": 110, \"pct\": 83.3}, {\"app\": \"videos\", \"ct\": 107, \"pct\": 81.10000000000001}]}};\n",
       "var opt = {};\n",
       "var type = \"vega-lite\";\n",
       "var id = \"16fd61ba-e371-40e4-b87e-3c94c16f7f4c\";\n",
       "\n",
       "var output_area = this;\n",
       "\n",
       "require([\"nbextensions/jupyter-vega/index\"], function(vega) {\n",
       "  var target = document.createElement(\"div\");\n",
       "  target.id = id;\n",
       "  target.className = \"vega-embed\";\n",
       "\n",
       "  var style = document.createElement(\"style\");\n",
       "  style.textContent = [\n",
       "    \".vega-embed .error p {\",\n",
       "    \"  color: firebrick;\",\n",
       "    \"  font-size: 14px;\",\n",
       "    \"}\",\n",
       "  ].join(\"\\\\n\");\n",
       "\n",
       "  // element is a jQuery wrapped DOM element inside the output area\n",
       "  // see http://ipython.readthedocs.io/en/stable/api/generated/\\\n",
       "  // IPython.display.html#IPython.display.Javascript.__init__\n",
       "  element[0].appendChild(target);\n",
       "  element[0].appendChild(style);\n",
       "\n",
       "  vega.render(\"#\" + id, spec, type, opt, output_area);\n",
       "}, function (err) {\n",
       "  if (err.requireType !== \"scripterror\") {\n",
       "    throw(err);\n",
       "  }\n",
       "});\n"
      ],
      "text/plain": [
       "<vega.vegalite.VegaLite at 0x17aa0339dd8>"
      ]
     },
     "metadata": {
      "jupyter-vega": "#16fd61ba-e371-40e4-b87e-3c94c16f7f4c"
     },
     "output_type": "display_data"
    },
    {
     "data": {
      "text/plain": []
     },
     "execution_count": 11,
     "metadata": {},
     "output_type": "execute_result"
    },
    {
     "data": {
      "image/png": "[encoded data removed]"
     },
     "metadata": {
      "jupyter-vega": "#16fd61ba-e371-40e4-b87e-3c94c16f7f4c"
     },
     "output_type": "display_data"
    },
    {
     "data": {
      "image/png": "[encoded data removed]"
     },
     "metadata": {
      "jupyter-vega": "#16fd61ba-e371-40e4-b87e-3c94c16f7f4c"
     },
     "output_type": "display_data"
    }
   ],
   "source": [
    "alt.Chart(app_usage, title=\"Proportion of CSOs reporting tool usage\").mark_bar().encode(\n",
    "    alt.Y(\"app:O\",\n",
    "          title=\"Application\",\n",
    "          sort = alt.EncodingSortField(field=\"pct\", op=\"values\", order=\"ascending\"),\n",
    "          ),\n",
    "    alt.X(\"pct:Q\", title=\"% of CSOs reporting usage\"),\n",
    "    tooltip=\"pct\")"
   ]
  },
  {
   "cell_type": "markdown",
   "metadata": {
    "ExecuteTime": {
     "end_time": "2018-10-18T10:11:51.996964Z",
     "start_time": "2018-10-18T10:11:51.970463Z"
    }
   },
   "source": [
    "The overwhelming majority of the CSOs report using all of the applications. That said, the videos and books are used less frequently."
   ]
  },
  {
   "cell_type": "markdown",
   "metadata": {
    "ExecuteTime": {
     "end_time": "2018-10-18T10:14:09.150850Z",
     "start_time": "2018-10-18T10:14:09.136848Z"
    }
   },
   "source": [
    "### Proportion of CSOs who refer to Tangerine to provide post-observation feedback\n",
    "\n",
    "_Do you refer to Tangerine when giving teachers feedback after observing a lesson?_\n",
    "\n",
    "The _Tangerine:Tutor_ application analyzes the pattern of the CSO's responses to the observation items and surfaces actionable feedback that could be share with the teacher to improve her or his instruction. While the auto-generated feedback is intended as a tool to help CSOs give more effective guidance to teachers, it can be quite extensive and is not prioritized. We were interested to know whether the CSOs make reference to the application's auto-generated feedback when they hold their post-observation debriefing session with the teacher."
   ]
  },
  {
   "cell_type": "code",
   "execution_count": 12,
   "metadata": {
    "ExecuteTime": {
     "end_time": "2018-10-20T18:09:08.663642Z",
     "start_time": "2018-10-20T18:09:08.648016Z"
    }
   },
   "outputs": [
    {
     "data": {
      "text/plain": [
       "97.7"
      ]
     },
     "execution_count": 12,
     "metadata": {},
     "output_type": "execute_result"
    }
   ],
   "source": [
    "100 * np.round(csos.ref_tang_fdbk.sum() / csos.shape[0], decimals=3)"
   ]
  },
  {
   "cell_type": "markdown",
   "metadata": {
    "ExecuteTime": {
     "end_time": "2018-10-18T10:11:51.996964Z",
     "start_time": "2018-10-18T10:11:51.970463Z"
    }
   },
   "source": [
    "Again, the overwhelming majority of CSOs report using the auto-generated feedback when holding their debrief session with the teacher. We will separately provide an analysis of their open-ended answers regarding _what_ they refer to and what they find most useful."
   ]
  },
  {
   "cell_type": "markdown",
   "metadata": {
    "ExecuteTime": {
     "end_time": "2018-10-18T10:11:51.996964Z",
     "start_time": "2018-10-18T10:11:51.970463Z"
    }
   },
   "source": [
    "### Proportion of CSOs who use Tangerine to plan their work\n",
    "\n",
    "_Do you refer to Tangerine to help you plan your work when you are **not** either observing a teacher or giving the teacher feedback?_\n",
    "\n",
    "Version 3 of the _Tangerine:Tutor_ application features a screen which allows a CSO to see schools they have visited and which they have not. We were interested to know whether the CSOs are leveraging this feature—or others, such as the pupils' fluency rates, which are reported in the feedback—to make decisions about which schools to visit in the future."
   ]
  },
  {
   "cell_type": "code",
   "execution_count": 13,
   "metadata": {
    "ExecuteTime": {
     "end_time": "2018-10-20T18:09:13.692486Z",
     "start_time": "2018-10-20T18:09:13.661233Z"
    }
   },
   "outputs": [
    {
     "data": {
      "text/plain": [
       "59.8"
      ]
     },
     "execution_count": 13,
     "metadata": {},
     "output_type": "execute_result"
    }
   ],
   "source": [
    "100 * np.round(csos.refer_tang_nonobs.sum() / csos.shape[0], decimals=3)"
   ]
  },
  {
   "cell_type": "markdown",
   "metadata": {
    "ExecuteTime": {
     "end_time": "2018-10-18T10:11:51.996964Z",
     "start_time": "2018-10-18T10:11:51.970463Z"
    }
   },
   "source": [
    "Fewer than two-thirds of CSOs refer to Tangerine to plan their work. A sampling of their reasons is provided surfaced below:"
   ]
  },
  {
   "cell_type": "code",
   "execution_count": 14,
   "metadata": {
    "ExecuteTime": {
     "end_time": "2018-10-20T18:09:18.316328Z",
     "start_time": "2018-10-20T18:09:18.285086Z"
    }
   },
   "outputs": [
    {
     "data": {
      "text/plain": [
       "101    I normally use it for the observation and writing reports                                                                \n",
       "96     Tangerine might capture GPS and you will be seen like a cheat and it's not good. I only use it while supporting teachers.\n",
       "74     i fear to accidentally inerrupt the tangerine                                                                            \n",
       "107    Because to me Tangerine is meant for guidance during the specific lesson observation.                                    \n",
       "123    I have a lot of tasks to look into that are not so much related to the Tusome content on the Tangerine                   \n",
       "39     I just use it to observe lessons                                                                                         \n",
       "36     I was not trained on how to do it                                                                                        \n",
       "93     I normally use it for the observation and writing reports                                                                \n",
       "115    I do not know how to use tangerine to refer for planning purposes. Am still new in using it.                             \n",
       "58     There is no form or provision to enter work plans or any other planned                                                   \n",
       "Name: tang_nonobs_nowhynot, dtype: object"
      ]
     },
     "execution_count": 14,
     "metadata": {},
     "output_type": "execute_result"
    }
   ],
   "source": [
    "pd.set_option('display.max_colwidth', -1)\n",
    "csos[csos.tang_nonobs_nowhynot.notnull() & (csos.tang_nonobs_nowhynot != \"\")].tang_nonobs_nowhynot.sample(10)"
   ]
  },
  {
   "cell_type": "markdown",
   "metadata": {},
   "source": [
    "This result surfaces a few issues Tusome might consider addressing next time CSOs receive a refresher training on Tangerine's use.\n",
    "  1. A lack of awareness of how the information provided by the tablet (schools visited and not visited) could be operationalized\n",
    "  1. A fear that they would be accused of falsifying observation data, rooted specifically in a misunderstanding of the application's GPS-capture functionality\n",
    "  1. A mental compartmentalization of Tangerine as being a Tusome-specific tool, not for use in broader contexts\n",
    "\n",
    "Other reasons given suggest that the need which Tangerine might fill is already being addressed separately.\n",
    "  1. The CSO keeps a personal record (outside of the tablet) in which they track school visitation\n",
    "  1. The CSO has prepared a work schedule, and uses that as their guide until the month's activities have concluded."
   ]
  },
  {
   "cell_type": "markdown",
   "metadata": {},
   "source": [
    "### Frequency with which users refer to the application\n",
    "\n",
    "\\[If the CSO refers to the Tangerine for planning purposes\\], _how often do you reference the data?_\n",
    "\n"
   ]
  },
  {
   "cell_type": "code",
   "execution_count": 15,
   "metadata": {
    "ExecuteTime": {
     "end_time": "2018-10-20T18:09:28.879659Z",
     "start_time": "2018-10-20T18:09:28.848405Z"
    }
   },
   "outputs": [],
   "source": [
    "tchk_freq = csos[csos.freq_refer_tang_plan.notna()].freq_refer_tang_plan.sort_values().value_counts(sort=False).to_frame(name=\"ct\")\n",
    "tchk_freq = tchk_freq.rename_axis(\"frequency\").reset_index()\n",
    "tchk_freq[\"frequency\"] = tchk_freq[\"frequency\"].replace({\n",
    "    1: \"Daily\", \n",
    "    2: \"Weekly\",\n",
    "    3: \"Monthly\",\n",
    "    4: \"Termly\"})\n",
    "tchk_freq[\"sort_order\"] = tchk_freq.index"
   ]
  },
  {
   "cell_type": "markdown",
   "metadata": {
    "ExecuteTime": {
     "end_time": "2018-10-18T12:19:06.102224Z",
     "start_time": "2018-10-18T12:19:06.091229Z"
    }
   },
   "source": [
    "It appears that among the CSOs who check the application, it is most common to check it at least weekly."
   ]
  },
  {
   "cell_type": "code",
   "execution_count": 16,
   "metadata": {
    "ExecuteTime": {
     "end_time": "2018-10-20T18:09:34.005279Z",
     "start_time": "2018-10-20T18:09:33.958407Z"
    }
   },
   "outputs": [
    {
     "data": {
      "application/javascript": [
       "var spec = {\"config\": {\"view\": {\"width\": 400, \"height\": 300}}, \"data\": {\"name\": \"data-f08f6785feb4183320dd0a7bfbc392db\"}, \"mark\": \"bar\", \"encoding\": {\"color\": {\"type\": \"nominal\", \"field\": \"frequency\"}, \"x\": {\"type\": \"quantitative\", \"field\": \"ct\"}, \"y\": {\"type\": \"ordinal\", \"field\": \"frequency\", \"sort\": {\"op\": \"values\", \"field\": \"sort_order:Q\", \"order\": \"ascending\"}}}, \"title\": \"Tangerine app checking behavior\", \"$schema\": \"https://vega.github.io/schema/vega-lite/v2.6.0.json\", \"datasets\": {\"data-f08f6785feb4183320dd0a7bfbc392db\": [{\"frequency\": \"Daily\", \"ct\": 21, \"sort_order\": 0}, {\"frequency\": \"Weekly\", \"ct\": 38, \"sort_order\": 1}, {\"frequency\": \"Monthly\", \"ct\": 18, \"sort_order\": 2}, {\"frequency\": \"Termly\", \"ct\": 4, \"sort_order\": 3}]}};\n",
       "var opt = {};\n",
       "var type = \"vega-lite\";\n",
       "var id = \"4db61fc3-e091-4c00-9e10-fcc246f37b6c\";\n",
       "\n",
       "var output_area = this;\n",
       "\n",
       "require([\"nbextensions/jupyter-vega/index\"], function(vega) {\n",
       "  var target = document.createElement(\"div\");\n",
       "  target.id = id;\n",
       "  target.className = \"vega-embed\";\n",
       "\n",
       "  var style = document.createElement(\"style\");\n",
       "  style.textContent = [\n",
       "    \".vega-embed .error p {\",\n",
       "    \"  color: firebrick;\",\n",
       "    \"  font-size: 14px;\",\n",
       "    \"}\",\n",
       "  ].join(\"\\\\n\");\n",
       "\n",
       "  // element is a jQuery wrapped DOM element inside the output area\n",
       "  // see http://ipython.readthedocs.io/en/stable/api/generated/\\\n",
       "  // IPython.display.html#IPython.display.Javascript.__init__\n",
       "  element[0].appendChild(target);\n",
       "  element[0].appendChild(style);\n",
       "\n",
       "  vega.render(\"#\" + id, spec, type, opt, output_area);\n",
       "}, function (err) {\n",
       "  if (err.requireType !== \"scripterror\") {\n",
       "    throw(err);\n",
       "  }\n",
       "});\n"
      ],
      "text/plain": [
       "<vega.vegalite.VegaLite at 0x17aa042a2b0>"
      ]
     },
     "metadata": {
      "jupyter-vega": "#4db61fc3-e091-4c00-9e10-fcc246f37b6c"
     },
     "output_type": "display_data"
    },
    {
     "data": {
      "text/plain": []
     },
     "execution_count": 16,
     "metadata": {},
     "output_type": "execute_result"
    },
    {
     "data": {
      "image/png": "[encoded data removed]"
     },
     "metadata": {
      "jupyter-vega": "#4db61fc3-e091-4c00-9e10-fcc246f37b6c"
     },
     "output_type": "display_data"
    },
    {
     "data": {
      "image/png": "[encoded data removed]"
     },
     "metadata": {
      "jupyter-vega": "#4db61fc3-e091-4c00-9e10-fcc246f37b6c"
     },
     "output_type": "display_data"
    }
   ],
   "source": [
    "alt.Chart(tchk_freq, title=\"Tangerine app checking behavior\").mark_bar().encode(\n",
    "    alt.X(\"ct:Q\"),\n",
    "    alt.Y(\"frequency:O\", sort = alt.EncodingSortField(field=\"sort_order:Q\", op=\"values\", order=\"ascending\")),\n",
    "    color = \"frequency\")"
   ]
  },
  {
   "cell_type": "markdown",
   "metadata": {},
   "source": [
    "### CSO reference to the Tangerine Dashboard\n",
    "\n",
    "_In the last term, how often did you look at the Tangerine Dashboard?_\n",
    "\n",
    "The data that is generated by the CSOs' lesson observations is uploaded to the cloud and reported on the [Tangerine Dashboard](http://tools.tusome.tangerinecentral.org/_csv/report/group-national_tablet_program/00b0a09a-2a9f-baca-2acb-c6264d4247cb,c835fc38-de99-d064-59d3-e772ccefcf7d/2018/1/ep8yqMKT.html#tutor). This Dashboard is reviewed by senior management within the Ministry of Education: the Principal Secretary, his Directors, and their deputies. It is also sent to the Directors of MOE and TSC at the County level. As these latter personnel oversee the CSOs, the Dashboard may have an effect ..."
   ]
  },
  {
   "cell_type": "code",
   "execution_count": null,
   "metadata": {},
   "outputs": [],
   "source": []
  }
 ],
 "metadata": {
  "jupytext_formats": "py:percent",
  "kernelspec": {
   "display_name": "Python 3",
   "language": "python",
   "name": "python3"
  },
  "language_info": {
   "codemirror_mode": {
    "name": "ipython",
    "version": 3
   },
   "file_extension": ".py",
   "mimetype": "text/x-python",
   "name": "python",
   "nbconvert_exporter": "python",
   "pygments_lexer": "ipython3",
   "version": "3.6.6"
  },
  "toc": {
   "nav_menu": {},
   "number_sections": true,
   "sideBar": true,
   "skip_h1_title": false,
   "title_cell": "Table of Contents",
   "title_sidebar": "Contents",
   "toc_cell": false,
   "toc_position": {},
   "toc_section_display": true,
   "toc_window_display": false
  },
  "varInspector": {
   "cols": {
    "lenName": 16,
    "lenType": 16,
    "lenVar": 40
   },
   "kernels_config": {
    "python": {
     "delete_cmd_postfix": "",
     "delete_cmd_prefix": "del ",
     "library": "var_list.py",
     "varRefreshCmd": "print(var_dic_list())"
    },
    "r": {
     "delete_cmd_postfix": ") ",
     "delete_cmd_prefix": "rm(",
     "library": "var_list.r",
     "varRefreshCmd": "cat(var_dic_list()) "
    }
   },
   "oldHeight": 122,
   "position": {
    "height": "40px",
    "left": "1650px",
    "right": "20px",
    "top": "120px",
    "width": "250px"
   },
   "types_to_exclude": [
    "module",
    "function",
    "builtin_function_or_method",
    "instance",
    "_Feature"
   ],
   "varInspector_section_display": "none",
   "window_display": true
  }
 },
 "nbformat": 4,
 "nbformat_minor": 2
}
