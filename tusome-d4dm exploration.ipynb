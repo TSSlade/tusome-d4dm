{
 "cells": [
  {
   "cell_type": "code",
   "execution_count": 125,
   "metadata": {
    "ExecuteTime": {
     "end_time": "2018-10-18T09:58:34.656017Z",
     "start_time": "2018-10-18T09:58:34.645015Z"
    }
   },
   "outputs": [
    {
     "data": {
      "text/plain": [
       "RendererRegistry.enable('notebook')"
      ]
     },
     "execution_count": 125,
     "metadata": {},
     "output_type": "execute_result"
    }
   ],
   "source": [
    "import pandas as pd\n",
    "import numpy as np\n",
    "import altair as alt\n",
    "from altair import datum, expr\n",
    "import matplotlib.pyplot as plt\n",
    "import datetime as dt\n",
    "alt.renderers.enable('notebook')"
   ]
  },
  {
   "cell_type": "code",
   "execution_count": 3,
   "metadata": {
    "ExecuteTime": {
     "end_time": "2018-10-18T05:57:24.803117Z",
     "start_time": "2018-10-18T05:57:24.421521Z"
    }
   },
   "outputs": [],
   "source": [
    "tchrs = pd.read_stata(\"teacher_data.dta\", convert_categoricals=False)\n",
    "csos = pd.read_stata(\"cso_data.dta\", convert_categoricals=False)\n",
    "dirs = pd.read_stata(\"director_data.dta\", convert_categoricals=False)"
   ]
  },
  {
   "cell_type": "code",
   "execution_count": 4,
   "metadata": {
    "ExecuteTime": {
     "end_time": "2018-10-18T05:57:30.786309Z",
     "start_time": "2018-10-18T05:57:30.780305Z"
    }
   },
   "outputs": [
    {
     "name": "stdout",
     "output_type": "stream",
     "text": [
      "The Teacher dataset contains 634 records\n",
      "The CSO dataset contains 128 records\n",
      "The Director dataset contains 177 records\n"
     ]
    }
   ],
   "source": [
    "print(f\"The Teacher dataset contains {tchrs.shape[0]} records\\nThe CSO dataset contains {csos.shape[0]} records\\nThe Director dataset contains {dirs.shape[0]} records\")"
   ]
  },
  {
   "cell_type": "markdown",
   "metadata": {
    "ExecuteTime": {
     "end_time": "2018-10-12T13:38:15.821761Z",
     "start_time": "2018-10-12T13:38:15.784758Z"
    }
   },
   "source": [
    "The main questions we want to ask are documented in the (analysis plan)[https://github.com/TSSlade/tusome-d4dm/blob/master/analysis_plan.md], which is an evolving document."
   ]
  },
  {
   "cell_type": "markdown",
   "metadata": {
    "ExecuteTime": {
     "end_time": "2018-10-12T13:38:15.821761Z",
     "start_time": "2018-10-12T13:38:15.784758Z"
    }
   },
   "source": [
    "## Teacher Instrument"
   ]
  },
  {
   "cell_type": "markdown",
   "metadata": {},
   "source": [
    "Here we begin exploring the data we obtained from interviewing the teachers."
   ]
  },
  {
   "cell_type": "markdown",
   "metadata": {},
   "source": [
    "## CSO Instrument"
   ]
  },
  {
   "cell_type": "markdown",
   "metadata": {
    "ExecuteTime": {
     "end_time": "2018-10-12T13:38:15.821761Z",
     "start_time": "2018-10-12T13:38:15.784758Z"
    }
   },
   "source": [
    "Here we begin exploring the data we obtained from interviewing the CSOs."
   ]
  },
  {
   "cell_type": "markdown",
   "metadata": {},
   "source": [
    "### Length of experience using tablet-based Tangerine\n",
    "_When did you first receive a tablet from Tusome or PRIMR?_\n",
    "\n",
    "We want to convert the year/month CSOs provided into a number so we can work with it easily. We'll make the simplifying assumption that the tablet was received on the first day of the month they provided, and that this interview was conducted on the first day of the month. Neither of those are true, but the marginal days are unlikely to make a practical difference in a CSO's facility with the tool"
   ]
  },
  {
   "cell_type": "code",
   "execution_count": 5,
   "metadata": {
    "ExecuteTime": {
     "end_time": "2018-10-18T05:57:40.115952Z",
     "start_time": "2018-10-18T05:57:39.982421Z"
    }
   },
   "outputs": [],
   "source": [
    "now = dt.datetime(2018, 10, 1)\n",
    "csos[\"tab_usage\"] = pd.to_timedelta(now - pd.to_datetime({\"year\": csos.recd_tab_yr, \"month\": csos.recd_tab_month, \"day\": 1})).dt.days"
   ]
  },
  {
   "cell_type": "markdown",
   "metadata": {
    "ExecuteTime": {
     "end_time": "2018-10-18T06:22:41.067578Z",
     "start_time": "2018-10-18T06:22:41.040577Z"
    }
   },
   "source": [
    "We'll also want to convert the duration to months, since that will be easier to digest, and filter out any missing values."
   ]
  },
  {
   "cell_type": "code",
   "execution_count": 46,
   "metadata": {
    "ExecuteTime": {
     "end_time": "2018-10-18T06:28:31.710563Z",
     "start_time": "2018-10-18T06:28:31.700564Z"
    },
    "scrolled": true
   },
   "outputs": [],
   "source": [
    "tab_usage = pd.DataFrame(csos[csos.tab_usage.notna()].tab_usage / 30)\n",
    "# tab_usage"
   ]
  },
  {
   "cell_type": "code",
   "execution_count": 52,
   "metadata": {
    "ExecuteTime": {
     "end_time": "2018-10-18T06:34:38.311656Z",
     "start_time": "2018-10-18T06:34:38.284155Z"
    }
   },
   "outputs": [
    {
     "data": {
      "application/javascript": [
       "var spec = {\"config\": {\"view\": {\"width\": 400, \"height\": 300}}, \"data\": {\"name\": \"data-15f1bcd324d6d75e3247f8ae098a2056\"}, \"mark\": \"bar\", \"encoding\": {\"x\": {\"type\": \"quantitative\", \"bin\": {\"step\": 1}, \"field\": \"tab_usage\", \"title\": \"# Months has had a tablet\"}, \"y\": {\"type\": \"quantitative\", \"aggregate\": \"count\", \"title\": \"# of CSOs\"}}, \"title\": \"Distribution of CSO tablet usage, months\", \"$schema\": \"https://vega.github.io/schema/vega-lite/v2.6.0.json\", \"datasets\": {\"data-15f1bcd324d6d75e3247f8ae098a2056\": [{\"tab_usage\": 44.6}, {\"tab_usage\": 46.666666666666664}, {\"tab_usage\": 5.1}, {\"tab_usage\": 26.366666666666667}, {\"tab_usage\": 18.266666666666666}, {\"tab_usage\": 2.033333333333333}, {\"tab_usage\": 26.366666666666667}, {\"tab_usage\": 42.63333333333333}, {\"tab_usage\": 42.63333333333333}, {\"tab_usage\": 32.43333333333333}, {\"tab_usage\": 41.63333333333333}, {\"tab_usage\": 20.233333333333334}, {\"tab_usage\": 17.266666666666666}, {\"tab_usage\": 18.266666666666666}, {\"tab_usage\": 15.233333333333333}, {\"tab_usage\": 14.2}, {\"tab_usage\": 38.56666666666667}, {\"tab_usage\": 42.63333333333333}, {\"tab_usage\": 2.033333333333333}, {\"tab_usage\": 41.63333333333333}, {\"tab_usage\": 42.63333333333333}, {\"tab_usage\": 41.63333333333333}, {\"tab_usage\": 46.666666666666664}, {\"tab_usage\": 6.1}, {\"tab_usage\": 42.63333333333333}, {\"tab_usage\": 26.366666666666667}, {\"tab_usage\": 21.266666666666666}, {\"tab_usage\": 41.63333333333333}, {\"tab_usage\": 41.63333333333333}, {\"tab_usage\": 30.433333333333334}, {\"tab_usage\": 42.63333333333333}, {\"tab_usage\": 42.63333333333333}, {\"tab_usage\": 26.366666666666667}, {\"tab_usage\": 25.333333333333332}, {\"tab_usage\": 19.3}, {\"tab_usage\": 25.333333333333332}, {\"tab_usage\": 45.63333333333333}, {\"tab_usage\": 19.3}, {\"tab_usage\": 50.733333333333334}, {\"tab_usage\": 41.63333333333333}, {\"tab_usage\": 42.63333333333333}, {\"tab_usage\": 45.63333333333333}, {\"tab_usage\": 21.266666666666666}, {\"tab_usage\": 42.63333333333333}, {\"tab_usage\": 25.333333333333332}, {\"tab_usage\": 17.266666666666666}, {\"tab_usage\": 41.63333333333333}, {\"tab_usage\": 41.63333333333333}, {\"tab_usage\": 42.63333333333333}, {\"tab_usage\": 25.333333333333332}, {\"tab_usage\": 19.3}, {\"tab_usage\": 30.433333333333334}, {\"tab_usage\": 16.233333333333334}, {\"tab_usage\": 41.63333333333333}, {\"tab_usage\": 41.63333333333333}, {\"tab_usage\": 42.63333333333333}, {\"tab_usage\": 41.63333333333333}, {\"tab_usage\": 36.53333333333333}, {\"tab_usage\": 42.63333333333333}, {\"tab_usage\": 22.3}, {\"tab_usage\": 40.6}, {\"tab_usage\": 40.6}, {\"tab_usage\": 29.433333333333334}, {\"tab_usage\": 40.6}, {\"tab_usage\": 42.63333333333333}, {\"tab_usage\": 54.8}, {\"tab_usage\": 42.63333333333333}, {\"tab_usage\": 19.3}, {\"tab_usage\": 41.63333333333333}, {\"tab_usage\": 42.63333333333333}, {\"tab_usage\": 42.63333333333333}, {\"tab_usage\": 48.7}, {\"tab_usage\": 26.366666666666667}, {\"tab_usage\": 42.63333333333333}, {\"tab_usage\": 42.63333333333333}, {\"tab_usage\": 15.233333333333333}, {\"tab_usage\": 17.266666666666666}, {\"tab_usage\": 42.63333333333333}, {\"tab_usage\": 19.3}, {\"tab_usage\": 42.63333333333333}, {\"tab_usage\": 41.63333333333333}, {\"tab_usage\": 5.1}, {\"tab_usage\": 17.266666666666666}, {\"tab_usage\": 34.5}, {\"tab_usage\": 17.266666666666666}, {\"tab_usage\": 25.333333333333332}, {\"tab_usage\": 42.63333333333333}, {\"tab_usage\": 25.333333333333332}, {\"tab_usage\": 1.0}, {\"tab_usage\": 41.63333333333333}, {\"tab_usage\": 41.63333333333333}, {\"tab_usage\": 41.63333333333333}, {\"tab_usage\": 16.233333333333334}, {\"tab_usage\": 15.233333333333333}, {\"tab_usage\": 22.3}, {\"tab_usage\": 13.166666666666666}, {\"tab_usage\": 8.066666666666666}, {\"tab_usage\": 4.066666666666666}, {\"tab_usage\": 41.63333333333333}, {\"tab_usage\": 34.5}, {\"tab_usage\": 2.033333333333333}, {\"tab_usage\": 30.433333333333334}, {\"tab_usage\": 41.63333333333333}, {\"tab_usage\": 41.63333333333333}, {\"tab_usage\": 37.53333333333333}, {\"tab_usage\": 42.63333333333333}, {\"tab_usage\": 5.1}]}};\n",
       "var opt = {};\n",
       "var type = \"vega-lite\";\n",
       "var id = \"b7664b08-40b9-43d7-b6d1-7e67b7d7dda7\";\n",
       "\n",
       "var output_area = this;\n",
       "\n",
       "require([\"nbextensions/jupyter-vega/index\"], function(vega) {\n",
       "  var target = document.createElement(\"div\");\n",
       "  target.id = id;\n",
       "  target.className = \"vega-embed\";\n",
       "\n",
       "  var style = document.createElement(\"style\");\n",
       "  style.textContent = [\n",
       "    \".vega-embed .error p {\",\n",
       "    \"  color: firebrick;\",\n",
       "    \"  font-size: 14px;\",\n",
       "    \"}\",\n",
       "  ].join(\"\\\\n\");\n",
       "\n",
       "  // element is a jQuery wrapped DOM element inside the output area\n",
       "  // see http://ipython.readthedocs.io/en/stable/api/generated/\\\n",
       "  // IPython.display.html#IPython.display.Javascript.__init__\n",
       "  element[0].appendChild(target);\n",
       "  element[0].appendChild(style);\n",
       "\n",
       "  vega.render(\"#\" + id, spec, type, opt, output_area);\n",
       "}, function (err) {\n",
       "  if (err.requireType !== \"scripterror\") {\n",
       "    throw(err);\n",
       "  }\n",
       "});\n"
      ],
      "text/plain": [
       "<vega.vegalite.VegaLite at 0x2735f1d8c50>"
      ]
     },
     "metadata": {
      "jupyter-vega": "#b7664b08-40b9-43d7-b6d1-7e67b7d7dda7"
     },
     "output_type": "display_data"
    },
    {
     "data": {
      "text/plain": []
     },
     "execution_count": 52,
     "metadata": {},
     "output_type": "execute_result"
    },
    {
     "data": {
      "image/png": "[encoded data removed]"
     },
     "metadata": {
      "jupyter-vega": "#b7664b08-40b9-43d7-b6d1-7e67b7d7dda7"
     },
     "output_type": "display_data"
    }
   ],
   "source": [
    "alt.Chart(tab_usage, title=\"Distribution of CSO tablet usage, months\").mark_bar().encode(\n",
    "    alt.X(\"tab_usage:Q\", \n",
    "          bin=alt.BinParams(step=1), title=\"# Months has had a tablet\"),\n",
    "    alt.Y(\"count()\", title=\"# of CSOs\"))"
   ]
  },
  {
   "cell_type": "markdown",
   "metadata": {
    "ExecuteTime": {
     "end_time": "2018-10-18T06:06:58.475520Z",
     "start_time": "2018-10-18T06:06:58.294467Z"
    }
   },
   "source": [
    "We see that the majority of our CSOs have had their tablets for roughly 42 months (3.5 years). This is in keeping with the beginning of the Tusome program, and is as expected. CSOs who have had their tablets for longer are likely veterans of the PRIMR program (Tusome's predecessor); those who have had tablets for fewer months may have assumed their roles more recently. (CSO turnover due to retirement, promotion, maternity leave, etc. is an issue which Tusome is constantly needing to manage.)"
   ]
  },
  {
   "cell_type": "markdown",
   "metadata": {
    "ExecuteTime": {
     "end_time": "2018-10-12T13:38:15.821761Z",
     "start_time": "2018-10-12T13:38:15.784758Z"
    }
   },
   "source": [
    "### Proportion of CSOs reporting use of each application\n",
    "\n",
    "_Which applications do you use frequently when supporting teachers? ...After recording unprompted responses, read the list of options and record responses._\n",
    "  + Tangerine Tutor\n",
    "  + Papaya\n",
    "  + Tusome Books (in Adobe Acrobat)\n",
    "  + Tusome Videos (in MX Player)\n",
    "\n",
    "The CSOs' tablets come equipped with several tools meant to support their efforts as instructional coaches. These include the [_Tangerine:Tutor_](http://www.tangerinecentral.org/tutor/) application, the [_Papaya_](http://schoolsnetkenya.com/tusome-early-literacy-programme-sounds-application/) application, PDF versions of Tusome's instructional materials (pupil's books and teacher's guides), and videos that model effective instructional delivery.\n",
    "\n",
    "We are interested in which of those tools CSOs use, and how frequently. We will provide an analysis of their unprompted free-response answers to the question above. For the moment, we note the tools they said they use when we explicitly prompted them with the list of tools available."
   ]
  },
  {
   "cell_type": "code",
   "execution_count": 187,
   "metadata": {
    "ExecuteTime": {
     "end_time": "2018-10-18T11:52:55.491440Z",
     "start_time": "2018-10-18T11:52:55.476438Z"
    }
   },
   "outputs": [],
   "source": [
    "app_users = {\"tutor\": csos.freqapps_tt_promp.sum(),\n",
    "         \"papaya\": csos.freqapps_papaya_promp.sum(),\n",
    "         \"books\": csos.freqapps_bks_promp.sum(),\n",
    "         \"videos\": csos.freqapps_vids_promp.sum()}\n",
    "app_usage = pd.DataFrame.from_dict(app_users, orient=\"index\", columns=[\"ct\"])\n",
    "app_usage[\"pct\"] = 100 * np.round(app_usage[\"ct\"] / csos.shape[0], decimals=3)\n",
    "app_usage = app_usage.rename_axis(\"app\").reset_index()"
   ]
  },
  {
   "cell_type": "code",
   "execution_count": 188,
   "metadata": {
    "ExecuteTime": {
     "end_time": "2018-10-18T11:52:56.071941Z",
     "start_time": "2018-10-18T11:52:56.037937Z"
    }
   },
   "outputs": [
    {
     "data": {
      "application/javascript": [
       "var spec = {\"config\": {\"view\": {\"width\": 400, \"height\": 300}}, \"data\": {\"name\": \"data-2e098f8a10c40ffc35a06760c5a45222\"}, \"mark\": \"bar\", \"encoding\": {\"tooltip\": {\"type\": \"quantitative\", \"field\": \"pct\"}, \"x\": {\"type\": \"quantitative\", \"field\": \"pct\", \"title\": \"% of CSOs reporting usage\"}, \"y\": {\"type\": \"ordinal\", \"field\": \"app\", \"sort\": {\"op\": \"values\", \"field\": \"pct\", \"order\": \"ascending\"}, \"title\": \"Application\"}}, \"title\": \"Proportion of CSOs reporting tool usage\", \"$schema\": \"https://vega.github.io/schema/vega-lite/v2.6.0.json\", \"datasets\": {\"data-2e098f8a10c40ffc35a06760c5a45222\": [{\"app\": \"tutor\", \"ct\": 117, \"pct\": 91.4}, {\"app\": \"papaya\", \"ct\": 118, \"pct\": 92.2}, {\"app\": \"books\", \"ct\": 107, \"pct\": 83.6}, {\"app\": \"videos\", \"ct\": 104, \"pct\": 81.2}]}};\n",
       "var opt = {};\n",
       "var type = \"vega-lite\";\n",
       "var id = \"9ea07753-a1de-4ec9-9204-9ca8333c51ba\";\n",
       "\n",
       "var output_area = this;\n",
       "\n",
       "require([\"nbextensions/jupyter-vega/index\"], function(vega) {\n",
       "  var target = document.createElement(\"div\");\n",
       "  target.id = id;\n",
       "  target.className = \"vega-embed\";\n",
       "\n",
       "  var style = document.createElement(\"style\");\n",
       "  style.textContent = [\n",
       "    \".vega-embed .error p {\",\n",
       "    \"  color: firebrick;\",\n",
       "    \"  font-size: 14px;\",\n",
       "    \"}\",\n",
       "  ].join(\"\\\\n\");\n",
       "\n",
       "  // element is a jQuery wrapped DOM element inside the output area\n",
       "  // see http://ipython.readthedocs.io/en/stable/api/generated/\\\n",
       "  // IPython.display.html#IPython.display.Javascript.__init__\n",
       "  element[0].appendChild(target);\n",
       "  element[0].appendChild(style);\n",
       "\n",
       "  vega.render(\"#\" + id, spec, type, opt, output_area);\n",
       "}, function (err) {\n",
       "  if (err.requireType !== \"scripterror\") {\n",
       "    throw(err);\n",
       "  }\n",
       "});\n"
      ],
      "text/plain": [
       "<vega.vegalite.VegaLite at 0x2735f8a2e80>"
      ]
     },
     "metadata": {
      "jupyter-vega": "#9ea07753-a1de-4ec9-9204-9ca8333c51ba"
     },
     "output_type": "display_data"
    },
    {
     "data": {
      "text/plain": []
     },
     "execution_count": 188,
     "metadata": {},
     "output_type": "execute_result"
    },
    {
     "data": {
      "image/png": "[encoded data removed]"
     },
     "metadata": {
      "jupyter-vega": "#9ea07753-a1de-4ec9-9204-9ca8333c51ba"
     },
     "output_type": "display_data"
    }
   ],
   "source": [
    "alt.Chart(app_usage, title=\"Proportion of CSOs reporting tool usage\").mark_bar().encode(\n",
    "    alt.Y(\"app:O\",\n",
    "          title=\"Application\",\n",
    "          sort = alt.EncodingSortField(field=\"pct\", op=\"values\", order=\"ascending\"),\n",
    "          ),\n",
    "    alt.X(\"pct:Q\", title=\"% of CSOs reporting usage\"),\n",
    "    tooltip=\"pct\")"
   ]
  },
  {
   "cell_type": "markdown",
   "metadata": {
    "ExecuteTime": {
     "end_time": "2018-10-18T10:11:51.996964Z",
     "start_time": "2018-10-18T10:11:51.970463Z"
    }
   },
   "source": [
    "The overwhelming majority of the CSOs report using all of the applications. That said, the videos and books are used less frequently."
   ]
  },
  {
   "cell_type": "markdown",
   "metadata": {
    "ExecuteTime": {
     "end_time": "2018-10-18T10:14:09.150850Z",
     "start_time": "2018-10-18T10:14:09.136848Z"
    }
   },
   "source": [
    "### Proportion of CSOs who refer to Tangerine to provide post-observation feedback\n",
    "\n",
    "_Do you refer to Tangerine when giving teachers feedback after observing a lesson?_\n",
    "\n",
    "The _Tangerine:Tutor_ application analyzes the pattern of the CSO's responses to the observation items and surfaces actionable feedback that could be share with the teacher to improve her or his instruction. While the auto-generated feedback is intended as a tool to help CSOs give more effective guidance to teachers, it can be quite extensive and is not prioritized. We were interested to know whether the CSOs make reference to the application's auto-generated feedback when they hold their post-observation debriefing session with the teacher."
   ]
  },
  {
   "cell_type": "code",
   "execution_count": 198,
   "metadata": {
    "ExecuteTime": {
     "end_time": "2018-10-18T12:02:19.603528Z",
     "start_time": "2018-10-18T12:02:19.595526Z"
    }
   },
   "outputs": [
    {
     "data": {
      "text/plain": [
       "97.7"
      ]
     },
     "execution_count": 198,
     "metadata": {},
     "output_type": "execute_result"
    }
   ],
   "source": [
    "100 * np.round(csos.ref_tang_fdbk.sum() / csos.shape[0], decimals=3)"
   ]
  },
  {
   "cell_type": "markdown",
   "metadata": {
    "ExecuteTime": {
     "end_time": "2018-10-18T10:11:51.996964Z",
     "start_time": "2018-10-18T10:11:51.970463Z"
    }
   },
   "source": [
    "Again, the overwhelming majority of CSOs report using the auto-generated feedback when holding their debrief session with the teacher. We will separately provide an analysis of their open-ended answers regarding _what_ they refer to and what they find most useful."
   ]
  },
  {
   "cell_type": "markdown",
   "metadata": {
    "ExecuteTime": {
     "end_time": "2018-10-18T10:11:51.996964Z",
     "start_time": "2018-10-18T10:11:51.970463Z"
    }
   },
   "source": [
    "### Proportion of CSOs who use Tangerine to plan their work\n",
    "\n",
    "_Do you refer to Tangerine to help you plan your work when you are **not** either observing a teacher or giving the teacher feedback?_\n",
    "\n",
    "Version 3 of the _Tangerine:Tutor_ application features a screen which allows a CSO to see schools they have visited and which they have not. We were interested to know whether the CSOs are leveraging this feature—or others, such as the pupils' fluency rates, which are reported in the feedback—to make decisions about which schools to visit in the future."
   ]
  },
  {
   "cell_type": "code",
   "execution_count": 199,
   "metadata": {
    "ExecuteTime": {
     "end_time": "2018-10-18T12:02:22.715028Z",
     "start_time": "2018-10-18T12:02:22.706027Z"
    }
   },
   "outputs": [
    {
     "data": {
      "text/plain": [
       "60.199999999999996"
      ]
     },
     "execution_count": 199,
     "metadata": {},
     "output_type": "execute_result"
    }
   ],
   "source": [
    "100 * np.round(csos.refer_tang_nonobs.sum() / csos.shape[0], decimals=3)"
   ]
  },
  {
   "cell_type": "markdown",
   "metadata": {
    "ExecuteTime": {
     "end_time": "2018-10-18T10:11:51.996964Z",
     "start_time": "2018-10-18T10:11:51.970463Z"
    }
   },
   "source": [
    "Fewer than two-thirds of CSOs refer to Tangerine to plan their work. A sampling of their reasons is provided surfaced below:"
   ]
  },
  {
   "cell_type": "code",
   "execution_count": 207,
   "metadata": {
    "ExecuteTime": {
     "end_time": "2018-10-18T12:07:12.369678Z",
     "start_time": "2018-10-18T12:07:12.351677Z"
    }
   },
   "outputs": [
    {
     "data": {
      "text/plain": [
       "17     I do not know other useful features that can help me plan my work                                                      \n",
       "100    I only use it in schools                                                                                               \n",
       "123    I have a lot of tasks to look into that are not so much related to the Tusome content on the Tangerine                 \n",
       "101    I normally use it for the observation and writing reports                                                              \n",
       "53     I normally use it when i am in class. I thought it is related to GPS                                                   \n",
       "107    Because to me Tangerine is meant for guidance during the specific lesson observation.                                  \n",
       "60     I use my work schedule to monitor my school visits                                                                     \n",
       "87     I ussually don't have enough time for that despite knowing it's the right thing to do but i will improve from next time\n",
       "98     N/ A                                                                                                                   \n",
       "31     She uses the personal schools information record to plan which school and teachers to support                          \n",
       "Name: tang_nonobs_nowhynot, dtype: object"
      ]
     },
     "execution_count": 207,
     "metadata": {},
     "output_type": "execute_result"
    }
   ],
   "source": [
    "pd.set_option('display.max_colwidth', -1)\n",
    "csos[csos.tang_nonobs_nowhynot.notnull() & (csos.tang_nonobs_nowhynot != \"\")].tang_nonobs_nowhynot.sample(10)"
   ]
  },
  {
   "cell_type": "markdown",
   "metadata": {},
   "source": [
    "This result surfaces a few issues Tusome might consider addressing next time CSOs receive a refresher training on Tangerine's use.\n",
    "  1. A lack of awareness of how the information provided by the tablet (schools visited and not visited) could be operationalized\n",
    "  1. A fear that they would be accused of falsifying observation data, rooted specifically in a misunderstanding of the application's GPS-capture functionality\n",
    "  1. A mental compartmentalization of Tangerine as being a Tusome-specific tool, not for use in broader contexts\n",
    "\n",
    "Other reasons given suggest that the need which Tangerine might fill is already being addressed separately.\n",
    "  1. The CSO keeps a personal record (outside of the tablet) in which they track school visitation\n",
    "  1. The CSO has prepared a work schedule, and uses that as their guide until the month's activities have concluded."
   ]
  },
  {
   "cell_type": "markdown",
   "metadata": {},
   "source": [
    "### Frequency with which users refer to the application\n",
    "\n",
    "\\[If the CSO refers to the Tangerine for planning purposes\\], _how often do you reference the data?_\n",
    "\n"
   ]
  },
  {
   "cell_type": "code",
   "execution_count": 307,
   "metadata": {
    "ExecuteTime": {
     "end_time": "2018-10-18T13:11:25.855389Z",
     "start_time": "2018-10-18T13:11:25.833855Z"
    }
   },
   "outputs": [],
   "source": [
    "tchk_freq = csos[csos.freq_refer_tang_plan.notna()].freq_refer_tang_plan.sort_values().value_counts(sort=False).to_frame(name=\"ct\")\n",
    "tchk_freq = tchk_freq.rename_axis(\"frequency\").reset_index()\n",
    "tchk_freq[\"frequency\"] = tchk_freq[\"frequency\"].replace({\n",
    "    1: \"Daily\", \n",
    "    2: \"Weekly\",\n",
    "    3: \"Monthly\",\n",
    "    4: \"Termly\"})\n",
    "tchk_freq[\"sort_order\"] = tchk_freq.index"
   ]
  },
  {
   "cell_type": "markdown",
   "metadata": {
    "ExecuteTime": {
     "end_time": "2018-10-18T12:19:06.102224Z",
     "start_time": "2018-10-18T12:19:06.091229Z"
    }
   },
   "source": [
    "It appears that among the CSOs who check the application, it is most common to check it at least weekly."
   ]
  },
  {
   "cell_type": "code",
   "execution_count": 308,
   "metadata": {
    "ExecuteTime": {
     "end_time": "2018-10-18T13:11:26.766355Z",
     "start_time": "2018-10-18T13:11:26.735354Z"
    }
   },
   "outputs": [
    {
     "data": {
      "application/javascript": [
       "var spec = {\"config\": {\"view\": {\"width\": 400, \"height\": 300}}, \"data\": {\"name\": \"data-5d04f6c2c522f119900d9c56ba1509a9\"}, \"mark\": \"bar\", \"encoding\": {\"color\": {\"type\": \"nominal\", \"field\": \"frequency\"}, \"x\": {\"type\": \"quantitative\", \"field\": \"ct\"}, \"y\": {\"type\": \"ordinal\", \"field\": \"frequency\", \"sort\": {\"op\": \"values\", \"field\": \"sort_order:Q\", \"order\": \"ascending\"}}}, \"title\": \"Tangerine app checking behavior\", \"$schema\": \"https://vega.github.io/schema/vega-lite/v2.6.0.json\", \"datasets\": {\"data-5d04f6c2c522f119900d9c56ba1509a9\": [{\"frequency\": \"Daily\", \"ct\": 20, \"sort_order\": 0}, {\"frequency\": \"Weekly\", \"ct\": 36, \"sort_order\": 1}, {\"frequency\": \"Monthly\", \"ct\": 18, \"sort_order\": 2}, {\"frequency\": \"Termly\", \"ct\": 4, \"sort_order\": 3}]}};\n",
       "var opt = {};\n",
       "var type = \"vega-lite\";\n",
       "var id = \"af1f885b-7e0a-406e-9f56-3c44d7c94de7\";\n",
       "\n",
       "var output_area = this;\n",
       "\n",
       "require([\"nbextensions/jupyter-vega/index\"], function(vega) {\n",
       "  var target = document.createElement(\"div\");\n",
       "  target.id = id;\n",
       "  target.className = \"vega-embed\";\n",
       "\n",
       "  var style = document.createElement(\"style\");\n",
       "  style.textContent = [\n",
       "    \".vega-embed .error p {\",\n",
       "    \"  color: firebrick;\",\n",
       "    \"  font-size: 14px;\",\n",
       "    \"}\",\n",
       "  ].join(\"\\\\n\");\n",
       "\n",
       "  // element is a jQuery wrapped DOM element inside the output area\n",
       "  // see http://ipython.readthedocs.io/en/stable/api/generated/\\\n",
       "  // IPython.display.html#IPython.display.Javascript.__init__\n",
       "  element[0].appendChild(target);\n",
       "  element[0].appendChild(style);\n",
       "\n",
       "  vega.render(\"#\" + id, spec, type, opt, output_area);\n",
       "}, function (err) {\n",
       "  if (err.requireType !== \"scripterror\") {\n",
       "    throw(err);\n",
       "  }\n",
       "});\n"
      ],
      "text/plain": [
       "<vega.vegalite.VegaLite at 0x2735fa95f60>"
      ]
     },
     "metadata": {
      "jupyter-vega": "#af1f885b-7e0a-406e-9f56-3c44d7c94de7"
     },
     "output_type": "display_data"
    },
    {
     "data": {
      "text/plain": []
     },
     "execution_count": 308,
     "metadata": {},
     "output_type": "execute_result"
    },
    {
     "data": {
      "image/png": "[encoded data removed]"
     },
     "metadata": {
      "jupyter-vega": "#af1f885b-7e0a-406e-9f56-3c44d7c94de7"
     },
     "output_type": "display_data"
    }
   ],
   "source": [
    "alt.Chart(tchk_freq, title=\"Tangerine app checking behavior\").mark_bar().encode(\n",
    "    alt.X(\"ct:Q\"),\n",
    "    alt.Y(\"frequency:O\", sort = alt.EncodingSortField(field=\"sort_order:Q\", op=\"values\", order=\"ascending\")),\n",
    "    color = \"frequency\")"
   ]
  },
  {
   "cell_type": "markdown",
   "metadata": {},
   "source": [
    "### CSO reference to the Tangerine Dashboard\n",
    "\n",
    "_In the last term, how often did you look at the Tangerine Dashboard?_\n",
    "\n",
    "The data that is generated by the CSOs' lesson observations is uploaded to the cloud and reported on the [Tangerine Dashboard](http://tools.tusome.tangerinecentral.org/_csv/report/group-national_tablet_program/00b0a09a-2a9f-baca-2acb-c6264d4247cb,c835fc38-de99-d064-59d3-e772ccefcf7d/2018/1/ep8yqMKT.html#tutor). This Dashboard is reviewed by senior management within the Ministry of Education: the Principal Secretary, his Directors, and their deputies. It is also sent to the Directors of MOE and TSC at the County level. As these latter personnel oversee the CSOs, the Dashboard may have an effect ..."
   ]
  },
  {
   "cell_type": "code",
   "execution_count": null,
   "metadata": {},
   "outputs": [],
   "source": []
  }
 ],
 "metadata": {
  "jupytext_formats": "py:percent",
  "kernelspec": {
   "display_name": "Python 3",
   "language": "python",
   "name": "python3"
  },
  "language_info": {
   "codemirror_mode": {
    "name": "ipython",
    "version": 3
   },
   "file_extension": ".py",
   "mimetype": "text/x-python",
   "name": "python",
   "nbconvert_exporter": "python",
   "pygments_lexer": "ipython3",
   "version": "3.6.6"
  },
  "toc": {
   "nav_menu": {},
   "number_sections": true,
   "sideBar": true,
   "skip_h1_title": false,
   "title_cell": "Table of Contents",
   "title_sidebar": "Contents",
   "toc_cell": false,
   "toc_position": {},
   "toc_section_display": true,
   "toc_window_display": false
  },
  "varInspector": {
   "cols": {
    "lenName": 16,
    "lenType": 16,
    "lenVar": 40
   },
   "kernels_config": {
    "python": {
     "delete_cmd_postfix": "",
     "delete_cmd_prefix": "del ",
     "library": "var_list.py",
     "varRefreshCmd": "print(var_dic_list())"
    },
    "r": {
     "delete_cmd_postfix": ") ",
     "delete_cmd_prefix": "rm(",
     "library": "var_list.r",
     "varRefreshCmd": "cat(var_dic_list()) "
    }
   },
   "oldHeight": 122,
   "position": {
    "height": "40px",
    "left": "1650px",
    "right": "20px",
    "top": "120px",
    "width": "250px"
   },
   "types_to_exclude": [
    "module",
    "function",
    "builtin_function_or_method",
    "instance",
    "_Feature"
   ],
   "varInspector_section_display": "none",
   "window_display": true
  }
 },
 "nbformat": 4,
 "nbformat_minor": 2
}
