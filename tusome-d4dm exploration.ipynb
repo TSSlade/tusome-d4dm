{
 "cells": [
  {
   "cell_type": "code",
   "execution_count": 1,
   "metadata": {
    "ExecuteTime": {
     "end_time": "2018-10-25T12:54:15.948972Z",
     "start_time": "2018-10-25T12:54:13.599856Z"
    }
   },
   "outputs": [],
   "source": [
    "import pandas as pd\n",
    "import numpy as np\n",
    "import altair as alt\n",
    "from altair import datum, expr\n",
    "import matplotlib.pyplot as plt\n",
    "import datetime as dt\n",
    "alt.renderers.enable('notebook')\n",
    "pd.set_option('display.max_colwidth', -1)"
   ]
  },
  {
   "cell_type": "code",
   "execution_count": 2,
   "metadata": {
    "ExecuteTime": {
     "end_time": "2018-10-25T12:54:16.542524Z",
     "start_time": "2018-10-25T12:54:15.954971Z"
    }
   },
   "outputs": [],
   "source": [
    "tchrs = pd.read_stata(\"teacher_data.dta\", convert_categoricals=False)\n",
    "csos = pd.read_stata(\"cso_data.dta\", convert_categoricals=False)\n",
    "dirs = pd.read_stata(\"director_data.dta\", convert_categoricals=False)"
   ]
  },
  {
   "cell_type": "code",
   "execution_count": 3,
   "metadata": {
    "ExecuteTime": {
     "end_time": "2018-10-25T12:54:16.552516Z",
     "start_time": "2018-10-25T12:54:16.545513Z"
    }
   },
   "outputs": [
    {
     "name": "stdout",
     "output_type": "stream",
     "text": [
      "The Teacher dataset contains 828 records\n",
      "The CSO dataset contains 152 records\n",
      "The Director dataset contains 242 records\n"
     ]
    }
   ],
   "source": [
    "print(f\"The Teacher dataset contains {tchrs.shape[0]} records\\nThe CSO dataset contains {csos.shape[0]} records\\nThe Director dataset contains {dirs.shape[0]} records\")"
   ]
  },
  {
   "cell_type": "markdown",
   "metadata": {
    "ExecuteTime": {
     "end_time": "2018-10-12T13:38:15.821761Z",
     "start_time": "2018-10-12T13:38:15.784758Z"
    }
   },
   "source": [
    "The main questions we want to ask are documented in the [analysis plan](https://github.com/TSSlade/tusome-d4dm/blob/master/analysis_plan.md), which is an evolving document."
   ]
  },
  {
   "cell_type": "markdown",
   "metadata": {
    "ExecuteTime": {
     "end_time": "2018-10-12T13:38:15.821761Z",
     "start_time": "2018-10-12T13:38:15.784758Z"
    }
   },
   "source": [
    "## Teacher Instrument"
   ]
  },
  {
   "cell_type": "markdown",
   "metadata": {},
   "source": [
    "Here we begin exploring the data we obtained from interviewing the teachers."
   ]
  },
  {
   "cell_type": "code",
   "execution_count": 4,
   "metadata": {
    "ExecuteTime": {
     "end_time": "2018-10-25T12:54:16.572031Z",
     "start_time": "2018-10-25T12:54:16.557516Z"
    }
   },
   "outputs": [],
   "source": [
    "tchr_ct = tchrs.shape[0]"
   ]
  },
  {
   "cell_type": "markdown",
   "metadata": {
    "ExecuteTime": {
     "end_time": "2018-10-20T18:13:56.874778Z",
     "start_time": "2018-10-20T18:13:56.859149Z"
    },
    "variables": {
     "tchr_ct": "828"
    }
   },
   "source": [
    "Our dataset contains interviews with {{tchr_ct}} teachers."
   ]
  },
  {
   "cell_type": "markdown",
   "metadata": {},
   "source": [
    "### Teachers visited previously by CSOs\n",
    "\n",
    "The underlying assumption of most of the interview protocol is that the teacher has had a coaching interaction with a CSO. The first issue we should then address is the proportion of teachers who have received a visit from a CSO."
   ]
  },
  {
   "cell_type": "code",
   "execution_count": 5,
   "metadata": {
    "ExecuteTime": {
     "end_time": "2018-10-25T12:54:16.603548Z",
     "start_time": "2018-10-25T12:54:16.594549Z"
    }
   },
   "outputs": [],
   "source": [
    "never = 100 * ((tchr_ct - tchrs.vis_before.sum())/tchr_ct)"
   ]
  },
  {
   "cell_type": "markdown",
   "metadata": {
    "ExecuteTime": {
     "end_time": "2018-10-20T18:13:56.874778Z",
     "start_time": "2018-10-20T18:13:56.859149Z"
    },
    "variables": {
     "np.round(never, decimals=2)": "7.37"
    }
   },
   "source": [
    "We see that {{np.round(never, decimals=2)}}% of teachers interviewed had never been previously visited by CSOs."
   ]
  },
  {
   "cell_type": "markdown",
   "metadata": {},
   "source": [
    "### Number of coaching visits in the last academic term\n",
    "\n",
    "We have confirmed that the overwhelming majority of our teachers have been visited. We can have greater confidence in the responses they give us over the course of the interview if they have had a visit in the recent past. We therefore asked the teachers to tell us how many times they had been visited by their CSO in the preceding academic term (Term 2 of the Kenyan academic year, running from roughly May-July 2018)."
   ]
  },
  {
   "cell_type": "code",
   "execution_count": 6,
   "metadata": {
    "ExecuteTime": {
     "end_time": "2018-10-25T12:54:16.734580Z",
     "start_time": "2018-10-25T12:54:16.623546Z"
    }
   },
   "outputs": [
    {
     "data": {
      "application/javascript": [
       "var spec = {\"config\": {\"view\": {\"width\": 400, \"height\": 300}}, \"data\": {\"name\": \"data-2268ae746a22e261199a51936c9861c3\"}, \"mark\": \"bar\", \"encoding\": {\"tooltip\": {\"type\": \"quantitative\", \"field\": \"pct\"}, \"x\": {\"type\": \"quantitative\", \"field\": \"vis_before_freq\", \"title\": \"# Teachers\"}, \"y\": {\"type\": \"ordinal\", \"field\": \"prevterm_vis\", \"title\": \"CSO visits last term\"}}, \"title\": \"# of times CSO visited in preceding term\", \"$schema\": \"https://vega.github.io/schema/vega-lite/v2.6.0.json\", \"datasets\": {\"data-2268ae746a22e261199a51936c9861c3\": [{\"prevterm_vis\": 0.0, \"vis_before_freq\": 90, \"pct\": 11.73}, {\"prevterm_vis\": 1.0, \"vis_before_freq\": 155, \"pct\": 20.21}, {\"prevterm_vis\": 2.0, \"vis_before_freq\": 173, \"pct\": 22.56}, {\"prevterm_vis\": 3.0, \"vis_before_freq\": 170, \"pct\": 22.16}, {\"prevterm_vis\": 4.0, \"vis_before_freq\": 83, \"pct\": 10.82}, {\"prevterm_vis\": \">4x\", \"vis_before_freq\": 136, \"pct\": 17.73}]}};\n",
       "var opt = {};\n",
       "var type = \"vega-lite\";\n",
       "var id = \"b1270e88-2844-40cf-bea2-639a0f84b06b\";\n",
       "\n",
       "var output_area = this;\n",
       "\n",
       "require([\"nbextensions/jupyter-vega/index\"], function(vega) {\n",
       "  var target = document.createElement(\"div\");\n",
       "  target.id = id;\n",
       "  target.className = \"vega-embed\";\n",
       "\n",
       "  var style = document.createElement(\"style\");\n",
       "  style.textContent = [\n",
       "    \".vega-embed .error p {\",\n",
       "    \"  color: firebrick;\",\n",
       "    \"  font-size: 14px;\",\n",
       "    \"}\",\n",
       "  ].join(\"\\\\n\");\n",
       "\n",
       "  // element is a jQuery wrapped DOM element inside the output area\n",
       "  // see http://ipython.readthedocs.io/en/stable/api/generated/\\\n",
       "  // IPython.display.html#IPython.display.Javascript.__init__\n",
       "  element[0].appendChild(target);\n",
       "  element[0].appendChild(style);\n",
       "\n",
       "  vega.render(\"#\" + id, spec, type, opt, output_area);\n",
       "}, function (err) {\n",
       "  if (err.requireType !== \"scripterror\") {\n",
       "    throw(err);\n",
       "  }\n",
       "});\n"
      ],
      "text/plain": [
       "<vega.vegalite.VegaLite at 0x21a7198ec18>"
      ]
     },
     "metadata": {
      "jupyter-vega": "#b1270e88-2844-40cf-bea2-639a0f84b06b"
     },
     "output_type": "display_data"
    },
    {
     "data": {
      "text/plain": []
     },
     "execution_count": 6,
     "metadata": {},
     "output_type": "execute_result"
    },
    {
     "data": {
      "image/png": "[encoded data removed]"
     },
     "metadata": {
      "jupyter-vega": "#b1270e88-2844-40cf-bea2-639a0f84b06b"
     },
     "output_type": "display_data"
    }
   ],
   "source": [
    "tchrs.vis_before_freq = tchrs.vis_before_freq.replace({55: \">4x\"})\n",
    "viscount_df = pd.DataFrame(tchrs.vis_before_freq.value_counts(sort=False)).rename_axis(\"prevterm_vis\").reset_index()\n",
    "viscount_df[\"pct\"] = np.round(100 * (viscount_df.vis_before_freq / tchrs.vis_before.sum()), decimals=2)\n",
    "more_than_monthly = viscount_df[viscount_df.prevterm_vis.isin([4, \">4x\"])].pct.sum()\n",
    "alt.Chart(viscount_df, title=\"# of times CSO visited in preceding term\").mark_bar().encode(\n",
    "    alt.Y(\"prevterm_vis:O\", title=\"CSO visits last term\"),\n",
    "    alt.X(\"vis_before_freq:Q\", title=\"# Teachers\"),\n",
    "    tooltip=\"pct\")"
   ]
  },
  {
   "cell_type": "markdown",
   "metadata": {
    "ExecuteTime": {
     "end_time": "2018-10-20T19:51:28.176045Z",
     "start_time": "2018-10-20T19:51:28.127801Z"
    },
    "variables": {
     "more_than_monthly": "28.55",
     "viscount_df[viscount_df.prevterm_vis.isin([1, 2, 3])].pct.sum()": "64.92999999999999",
     "viscount_df[viscount_df.prevterm_vis==0].pct[0]": "11.73"
    }
   },
   "source": [
    "We see that roughly {{viscount_df[viscount_df.prevterm_vis==0].pct[0]}}% of the respondents, while they'd been visited by a CSO in the past, had not been visited in the preceding term. However, {{viscount_df[viscount_df.prevterm_vis.isin([1, 2, 3])].pct.sum()}}% of the respondents were visited between once per term and once per month. {{more_than_monthly}}% of the teachers were visited by their CSOs more frequently than monthly."
   ]
  },
  {
   "cell_type": "markdown",
   "metadata": {},
   "source": [
    "### CSOs' activities during last coaching visit\n",
    "\n",
    "We are interested in knowing what CSOs are focusing on when they pay a visit to a school. Are they observing a lesson? Are they giving feedback to the teacher? Do they assess pupils' fluency rates? Do they take advantage of their presence at the school to meet with the head teacher (HT)? What kinds of things are they doing _besides_ these activities?"
   ]
  },
  {
   "cell_type": "code",
   "execution_count": 26,
   "metadata": {
    "ExecuteTime": {
     "end_time": "2018-10-25T12:55:50.682816Z",
     "start_time": "2018-10-25T12:55:50.634812Z"
    }
   },
   "outputs": [
    {
     "data": {
      "text/html": [
       "<div>\n",
       "<style scoped>\n",
       "    .dataframe tbody tr th:only-of-type {\n",
       "        vertical-align: middle;\n",
       "    }\n",
       "\n",
       "    .dataframe tbody tr th {\n",
       "        vertical-align: top;\n",
       "    }\n",
       "\n",
       "    .dataframe thead th {\n",
       "        text-align: right;\n",
       "    }\n",
       "</style>\n",
       "<table border=\"1\" class=\"dataframe\">\n",
       "  <thead>\n",
       "    <tr style=\"text-align: right;\">\n",
       "      <th></th>\n",
       "      <th>activities</th>\n",
       "      <th>tchrs_reporting</th>\n",
       "      <th>pct</th>\n",
       "    </tr>\n",
       "  </thead>\n",
       "  <tbody>\n",
       "    <tr>\n",
       "      <th>0</th>\n",
       "      <td>Assessed pupils</td>\n",
       "      <td>688</td>\n",
       "      <td>83.84</td>\n",
       "    </tr>\n",
       "    <tr>\n",
       "      <th>1</th>\n",
       "      <td>Talked to HT</td>\n",
       "      <td>516</td>\n",
       "      <td>62.88</td>\n",
       "    </tr>\n",
       "    <tr>\n",
       "      <th>2</th>\n",
       "      <td>Provided feedback on lesson</td>\n",
       "      <td>734</td>\n",
       "      <td>89.44</td>\n",
       "    </tr>\n",
       "    <tr>\n",
       "      <th>3</th>\n",
       "      <td>Had general talk</td>\n",
       "      <td>364</td>\n",
       "      <td>44.36</td>\n",
       "    </tr>\n",
       "    <tr>\n",
       "      <th>4</th>\n",
       "      <td>Other</td>\n",
       "      <td>127</td>\n",
       "      <td>15.48</td>\n",
       "    </tr>\n",
       "  </tbody>\n",
       "</table>\n",
       "</div>"
      ],
      "text/plain": [
       "                    activities  tchrs_reporting    pct\n",
       "0  Assessed pupils              688              83.84\n",
       "1  Talked to HT                 516              62.88\n",
       "2  Provided feedback on lesson  734              89.44\n",
       "3  Had general talk             364              44.36\n",
       "4  Other                        127              15.48"
      ]
     },
     "execution_count": 26,
     "metadata": {},
     "output_type": "execute_result"
    }
   ],
   "source": [
    "visact_df = pd.DataFrame.from_dict({\"activities\": [\"Assessed pupils\",\n",
    "                                                   \"Talked to HT\",\n",
    "                                                   \"Provided feedback on lesson\",\n",
    "                                                   \"Had general talk\",\n",
    "                                                   \"Other\"],\n",
    "                                    \"tchrs_reporting\": [tchrs[tchrs.vis_before != 0].vis_act_kids.sum(),\n",
    "                                                        tchrs[tchrs.vis_before != 0].vis_act_ht.sum(),\n",
    "                                                        tchrs[tchrs.vis_before != 0].vis_act_fdbk.sum(),\n",
    "                                                        tchrs[tchrs.vis_before != 0].vis_act_gen.sum(),\n",
    "                                                        tchrs[tchrs.vis_before != 0].vis_act_other.sum()]})\n",
    "visact_df[\"pct\"] = np.round(visact_df.tchrs_reporting.apply(lambda x: 100 * (x/(tchr_ct - never))), decimals=2)\n",
    "visact_df"
   ]
  },
  {
   "cell_type": "code",
   "execution_count": 8,
   "metadata": {
    "ExecuteTime": {
     "end_time": "2018-10-25T12:54:16.860612Z",
     "start_time": "2018-10-25T12:54:16.820606Z"
    }
   },
   "outputs": [
    {
     "data": {
      "application/javascript": [
       "var spec = {\"config\": {\"view\": {\"width\": 400, \"height\": 300}}, \"data\": {\"name\": \"data-36b520553dd65d19a5bcb665a2aaf9e0\"}, \"mark\": \"bar\", \"encoding\": {\"tooltip\": {\"type\": \"quantitative\", \"field\": \"tchrs_reporting\"}, \"x\": {\"type\": \"quantitative\", \"field\": \"pct\", \"title\": \"% of teachers responding\"}, \"y\": {\"type\": \"ordinal\", \"field\": \"activities\", \"sort\": {\"op\": \"values\", \"field\": \"tchrs_reporting\", \"order\": \"ascending\"}, \"title\": \"Activities named\"}}, \"title\": \"CSO activities during previous visit\", \"$schema\": \"https://vega.github.io/schema/vega-lite/v2.6.0.json\", \"datasets\": {\"data-36b520553dd65d19a5bcb665a2aaf9e0\": [{\"activities\": \"Assessed pupils\", \"tchrs_reporting\": 688, \"pct\": 83.84}, {\"activities\": \"Talked to HT\", \"tchrs_reporting\": 516, \"pct\": 62.88}, {\"activities\": \"Provided feedback on lesson\", \"tchrs_reporting\": 734, \"pct\": 89.44}, {\"activities\": \"Had general talk\", \"tchrs_reporting\": 364, \"pct\": 44.36}, {\"activities\": \"Other\", \"tchrs_reporting\": 127, \"pct\": 15.48}]}};\n",
       "var opt = {};\n",
       "var type = \"vega-lite\";\n",
       "var id = \"2bffed80-12d9-421a-8373-57cd65e6d914\";\n",
       "\n",
       "var output_area = this;\n",
       "\n",
       "require([\"nbextensions/jupyter-vega/index\"], function(vega) {\n",
       "  var target = document.createElement(\"div\");\n",
       "  target.id = id;\n",
       "  target.className = \"vega-embed\";\n",
       "\n",
       "  var style = document.createElement(\"style\");\n",
       "  style.textContent = [\n",
       "    \".vega-embed .error p {\",\n",
       "    \"  color: firebrick;\",\n",
       "    \"  font-size: 14px;\",\n",
       "    \"}\",\n",
       "  ].join(\"\\\\n\");\n",
       "\n",
       "  // element is a jQuery wrapped DOM element inside the output area\n",
       "  // see http://ipython.readthedocs.io/en/stable/api/generated/\\\n",
       "  // IPython.display.html#IPython.display.Javascript.__init__\n",
       "  element[0].appendChild(target);\n",
       "  element[0].appendChild(style);\n",
       "\n",
       "  vega.render(\"#\" + id, spec, type, opt, output_area);\n",
       "}, function (err) {\n",
       "  if (err.requireType !== \"scripterror\") {\n",
       "    throw(err);\n",
       "  }\n",
       "});\n"
      ],
      "text/plain": [
       "<vega.vegalite.VegaLite at 0x21a6fac0b38>"
      ]
     },
     "metadata": {
      "jupyter-vega": "#2bffed80-12d9-421a-8373-57cd65e6d914"
     },
     "output_type": "display_data"
    },
    {
     "data": {
      "text/plain": []
     },
     "execution_count": 8,
     "metadata": {},
     "output_type": "execute_result"
    },
    {
     "data": {
      "image/png": "[encoded data removed]"
     },
     "metadata": {
      "jupyter-vega": "#2bffed80-12d9-421a-8373-57cd65e6d914"
     },
     "output_type": "display_data"
    }
   ],
   "source": [
    "alt.Chart(visact_df, title=\"CSO activities during previous visit\").mark_bar().encode(\n",
    "alt.Y(\"activities:O\", \n",
    "      title=\"Activities named\",\n",
    "      sort = alt.EncodingSortField(field=\"tchrs_reporting\", op=\"values\", order=\"ascending\")),\n",
    "alt.X(\"pct:Q\",\n",
    "      title=\"% of teachers responding\"),\n",
    "tooltip = \"tchrs_reporting\")"
   ]
  },
  {
   "cell_type": "markdown",
   "metadata": {
    "ExecuteTime": {
     "end_time": "2018-10-21T15:02:49.246011Z",
     "start_time": "2018-10-21T15:02:49.226011Z"
    },
    "variables": {
     "int(np.ceil(visact_df.pct.max()))": "90",
     "int(np.floor(visact_df[visact_df.activities==\"Other\"].pct))": "15"
    }
   },
   "source": [
    "Nearly {{int(np.ceil(visact_df.pct.max()))}}% of teachers report that when the CSO last visited, s/he provided feedback on a lesson. Nearly the same quantity said that the CSO assessed pupils. Neither of these is surprising, as those activities are key features of a \"reimbursable\" or \"valid\" lesson observation. If anything, it is interesting that these numbers are not higher, given that we have excluded from our denominator those teachers who said they had never received a visit from the CSO.\n",
    "\n",
    "Of note is the relatively low proportion of teachers reporting the CSO had spoken with the HT. While Tusome encourages CSOs to speak with HTs as part of the standard protocol for visiting a school, it is not explicitly considered as a factor for reimbursement of transportation costs for visiting that school.\n",
    "\n",
    "That said, it is also possible that teachers may simply not be aware of activities taking place outside of their classroom. They and their classrooms would have been the objects of the lesson observation and fluency assessment; they may not have as much visibility into what happened before or after the CSO entered their classroom.\n",
    "\n",
    "A little over {{int(np.floor(visact_df[visact_df.activities==\"Other\"].pct))}}% of teachers reported the CSO conducted an activity that was not listed in the questionnaire. Below we have sampled 20 of the things that they reported which were not captured in the questionnaire."
   ]
  },
  {
   "cell_type": "code",
   "execution_count": 9,
   "metadata": {
    "ExecuteTime": {
     "end_time": "2018-10-25T12:54:16.908658Z",
     "start_time": "2018-10-25T12:54:16.896654Z"
    }
   },
   "outputs": [
    {
     "name": "stdout",
     "output_type": "stream",
     "text": [
      "237    Took class enrollement by gender                                                                                                                                                                                                                                                   \n",
      "68     He inspected Tusome books                                                                                                                                                                                                                                                          \n",
      "74     Checked on CBC infusion                                                                                                                                                                                                                                                            \n",
      "507    When the CSO come he takes GPS then he comes to class to observe the lesson,he randomly checks pupils excise books.,assess 3 pupils,Give me me time to comment on myLselsson strength and areas of improvement.He uses T/Guide to advise me on what went well and areas to improve.\n",
      "523    He also checked whether we are correctly infusing the CBC into the lesson.                                                                                                                                                                                                         \n",
      "513    The CSO assesses my English and Kiswahili Lessons ,he also assess three learners and advises me on the infusion of the Competency based curriculum aspects. He shares with me the strength and weaknesses my lessons and advise me on how to improve on the weaknesses             \n",
      "258    checked on the shortage of Tusome books                                                                                                                                                                                                                                            \n",
      "734    The CSO assesssed me teaching tusome lessons and gave me feedback and at the same time he assessed three of my learners whom he picked randomly                                                                                                                                    \n",
      "668    Talked to the entire staff.                                                                                                                                                                                                                                                        \n",
      "697    the CSO spoke to head teacher,gave me feedback on my class and assesed pupls                                                                                                                                                                                                       \n",
      "620    I recall the CSO observes me teach,she supports and corrects me where need be,assess 3 pupils in each lesson,                                                                                                                                                                      \n",
      "319    Assed me in class and advised me.                                                                                                                                                                                                                                                  \n",
      "482    demonstrates on concepts that are not clear                                                                                                                                                                                                                                        \n",
      "807    CSO recorded my lesson performance on TPAD                                                                                                                                                                                                                                         \n",
      "531    He checked my professional documents, how to infuse CBC                                                                                                                                                                                                                            \n",
      "63     He talks with me as the headteacher of the school regarding the teachers performances                                                                                                                                                                                              \n",
      "630    She checks on the books                                                                                                                                                                                                                                                            \n",
      "728    The CSO checks how i deliver Tusome lessons and he also checks the rate at which learners are reading . He also gives me advise on how to improve on areas of weakness                                                                                                             \n",
      "635    To improve on resources in class.                                                                                                                                                                                                                                                  \n",
      "771    Talked with other members of staff                                                                                                                                                                                                                                                 \n",
      "Name: vis_act_other_det, dtype: object\n"
     ]
    }
   ],
   "source": [
    "print(tchrs[tchrs.vis_act_other_det.notna() & (tchrs.vis_act_other_det != \"\")].vis_act_other_det.sample(20))"
   ]
  },
  {
   "cell_type": "markdown",
   "metadata": {},
   "source": [
    "### CSOs using tablets or pen & paper during observation\n",
    "\n",
    "The _Tangerine:Tutor_ app was developed with the intent and belief that CSOs would use it _while observing_ the lesson. However, Tusome staff report that not all CSOs find the tablet interface comfortable, and not all use it with ease. So we asked teachers to report whether CSOs use the tablets during the lesson observation, and also whether they use pen and paper."
   ]
  },
  {
   "cell_type": "markdown",
   "metadata": {
    "ExecuteTime": {
     "end_time": "2018-10-21T15:27:58.583363Z",
     "start_time": "2018-10-21T15:27:58.575363Z"
    },
    "variables": {
     "int(np.round(100 * (tchrs.cso_usepcl_yn.sum()/tchr_ct), decimals=2))": "81",
     "int(np.round(100 * (tchrs.cso_usetab_yn.sum()/tchr_ct), decimals=2))": "90"
    }
   },
   "source": [
    "Roughly {{int(np.round(100 * (tchrs.cso_usetab_yn.sum()/tchr_ct), decimals=2))}}% of teachers reported that the CSOs use tablets during lesson observation; roughly {{int(np.round(100 * (tchrs.cso_usepcl_yn.sum()/tchr_ct), decimals=2))}}% of teachers reported the CSOs use pen and paper during the lesson observation."
   ]
  },
  {
   "cell_type": "code",
   "execution_count": 10,
   "metadata": {
    "ExecuteTime": {
     "end_time": "2018-10-25T12:54:16.967654Z",
     "start_time": "2018-10-25T12:54:16.937656Z"
    }
   },
   "outputs": [],
   "source": [
    "tabs_n_pencils = pd.crosstab(tchrs.cso_usetab_yn, tchrs.cso_usepcl_yn)"
   ]
  },
  {
   "cell_type": "code",
   "execution_count": 11,
   "metadata": {
    "ExecuteTime": {
     "end_time": "2018-10-25T12:54:16.985674Z",
     "start_time": "2018-10-25T12:54:16.971662Z"
    }
   },
   "outputs": [
    {
     "data": {
      "text/html": [
       "<div>\n",
       "<style scoped>\n",
       "    .dataframe tbody tr th:only-of-type {\n",
       "        vertical-align: middle;\n",
       "    }\n",
       "\n",
       "    .dataframe tbody tr th {\n",
       "        vertical-align: top;\n",
       "    }\n",
       "\n",
       "    .dataframe thead th {\n",
       "        text-align: right;\n",
       "    }\n",
       "</style>\n",
       "<table border=\"1\" class=\"dataframe\">\n",
       "  <thead>\n",
       "    <tr style=\"text-align: right;\">\n",
       "      <th>Uses pen and paper</th>\n",
       "      <th>No</th>\n",
       "      <th>Yes</th>\n",
       "    </tr>\n",
       "    <tr>\n",
       "      <th>Uses tablet</th>\n",
       "      <th></th>\n",
       "      <th></th>\n",
       "    </tr>\n",
       "  </thead>\n",
       "  <tbody>\n",
       "    <tr>\n",
       "      <th>No</th>\n",
       "      <td>3</td>\n",
       "      <td>17</td>\n",
       "    </tr>\n",
       "    <tr>\n",
       "      <th>Yes</th>\n",
       "      <td>72</td>\n",
       "      <td>657</td>\n",
       "    </tr>\n",
       "  </tbody>\n",
       "</table>\n",
       "</div>"
      ],
      "text/plain": [
       "Uses pen and paper  No  Yes\n",
       "Uses tablet                \n",
       "No                  3   17 \n",
       "Yes                 72  657"
      ]
     },
     "execution_count": 11,
     "metadata": {},
     "output_type": "execute_result"
    }
   ],
   "source": [
    "# tabs_n_pencils.rename(columns=[\"No pen\", \"Uses pen\"])\n",
    "tabs_n_pencils = tabs_n_pencils.rename_axis(\"Uses tablet\").rename_axis(\"Uses pen and paper\", axis=\"columns\")\n",
    "tabs_n_pencils = tabs_n_pencils.rename({0: \"No\", 1: \"Yes\"}, axis=\"columns\").rename({0: \"No\", 1: \"Yes\"}, axis=\"index\")\n",
    "tabs_n_pencils"
   ]
  },
  {
   "cell_type": "markdown",
   "metadata": {},
   "source": [
    "We see that the overwhelming majority of CSOs are using both tablets _and_ pen-and-paper systems when observing the teachers' lesson. There have historically been some instruments/data that CSOs were tasked by TSC to complete that were not rendered in _Tangerine_ format on the tablets; as of midway through Term 3 of the 2018 academic year, those instruments (mostly for the TSC's TPAD \\[Teacher Professional Appraisal and Development\\] project) are now in _Tangerine_. While the use of pen and paper does not appear to have come at the expense of using the tablets - indeed, it appears to be complementary, as nearly all CSOs are using both - Tusome should nonetheless follow up on these reports of CSOs' usage of pen and paper to understand the roots of the practice."
   ]
  },
  {
   "cell_type": "markdown",
   "metadata": {
    "variables": {
     "int(np.round(100 * (tchrs.cso_usetab_pup_yn.sum()/tchr_ct), decimals=2))": "88"
    }
   },
   "source": [
    "### CSOs' usage of the tablets to assess pupils' performance\n",
    "\n",
    "Tusome's coaching protocol requires CSOs to randomly select three children from the classroom at the end of the lesson to assess their reading fluency. The prompt the children are to read from is a laminated sheet of paper with a short passage printed on it; the CSOs are instructed to use the tablet to record the children's responses. The tablet is then able to calculate fluency rates and store those as data associated with that observation.\n",
    "\n",
    "Approximately {{int(np.round(100 * (tchrs.cso_usetab_pup_yn.sum()/tchr_ct), decimals=2))}}% of the teachers reported that CSOs use the tablets to assess children's reading fluency."
   ]
  },
  {
   "cell_type": "markdown",
   "metadata": {},
   "source": [
    "### Teachers' experience of feedback, and CSOs' use of tablets\n",
    "\n",
    "Tusome asked teachers whether the CSO gave feedback on the lesson last time s/he paid a visit, whether s/he used the tablet to do so, and whether the teacher was able to recall specific feedback the CSO provided."
   ]
  },
  {
   "cell_type": "code",
   "execution_count": 12,
   "metadata": {
    "ExecuteTime": {
     "end_time": "2018-10-25T12:54:17.028676Z",
     "start_time": "2018-10-25T12:54:17.002676Z"
    }
   },
   "outputs": [
    {
     "data": {
      "text/html": [
       "<div>\n",
       "<style scoped>\n",
       "    .dataframe tbody tr th:only-of-type {\n",
       "        vertical-align: middle;\n",
       "    }\n",
       "\n",
       "    .dataframe tbody tr th {\n",
       "        vertical-align: top;\n",
       "    }\n",
       "\n",
       "    .dataframe thead th {\n",
       "        text-align: right;\n",
       "    }\n",
       "</style>\n",
       "<table border=\"1\" class=\"dataframe\">\n",
       "  <thead>\n",
       "    <tr style=\"text-align: right;\">\n",
       "      <th></th>\n",
       "      <th>event</th>\n",
       "      <th>ct</th>\n",
       "      <th>pct</th>\n",
       "    </tr>\n",
       "  </thead>\n",
       "  <tbody>\n",
       "    <tr>\n",
       "      <th>0</th>\n",
       "      <td>CSO gave feedback</td>\n",
       "      <td>757.0</td>\n",
       "      <td>91.4</td>\n",
       "    </tr>\n",
       "    <tr>\n",
       "      <th>1</th>\n",
       "      <td>CSO used a tablet</td>\n",
       "      <td>676.0</td>\n",
       "      <td>81.6</td>\n",
       "    </tr>\n",
       "    <tr>\n",
       "      <th>2</th>\n",
       "      <td>Tchr remembers feedback</td>\n",
       "      <td>725.0</td>\n",
       "      <td>87.6</td>\n",
       "    </tr>\n",
       "  </tbody>\n",
       "</table>\n",
       "</div>"
      ],
      "text/plain": [
       "                     event     ct   pct\n",
       "0  CSO gave feedback        757.0  91.4\n",
       "1  CSO used a tablet        676.0  81.6\n",
       "2  Tchr remembers feedback  725.0  87.6"
      ]
     },
     "execution_count": 12,
     "metadata": {},
     "output_type": "execute_result"
    }
   ],
   "source": [
    "feedback = {\"CSO gave feedback\": tchrs.cso_gave_fdbk_yn.sum(),\n",
    "            \"CSO used a tablet\": tchrs.cso_usetab_fdbk_yn.sum(),\n",
    "            \"Tchr remembers feedback\": tchrs.cso_fdbk_remember.sum()}\n",
    "fdbk_df = pd.DataFrame.from_dict(feedback, orient=\"index\", columns=[\"ct\"])\n",
    "fdbk_df[\"pct\"] = 100 * np.round(fdbk_df[\"ct\"] / tchrs.shape[0], decimals=3)\n",
    "fdbk_df = fdbk_df.rename_axis(\"event\").reset_index()\n",
    "fdbk_df"
   ]
  },
  {
   "cell_type": "code",
   "execution_count": 13,
   "metadata": {
    "ExecuteTime": {
     "end_time": "2018-10-25T12:54:17.046677Z",
     "start_time": "2018-10-25T12:54:17.033676Z"
    }
   },
   "outputs": [
    {
     "data": {
      "text/plain": [
       "35     areas of improvement, ie to meet the bench mark of reading since it was low in english                                                                                                                                                         \n",
       "600    We should prepare more before going to class to teach.                                                                                                                                                                                         \n",
       "317    Encouraged me to use the old books edition when the grade 3 books had not been given out.Advised me to write the story on the board other than reading.Improve on the speed at which the pupils read the story through the reading competition.\n",
       "463    Learners fluency rate he said was ok for as per the Tusome bench mark for Grade 1.                                                                                                                                                             \n",
       "543    You have improved in perky pace and letter sound articulation which was a challenge before.                                                                                                                                                    \n",
       "91     The last time she talked about using of teaching aids especially in teaching the new words. She emphasized on use the right language by the pupils when responding.                                                                            \n",
       "445    She advised us on following the correct steps of teaching the lesson without skipping any part.                                                                                                                                                \n",
       "94     Was told to make sentences using all vocabulary items, to make teaching aids, to have regular lesson plans, Infusion of CBC                                                                                                                    \n",
       "297    She modelled how to follow N/T/U while teaching blending activities in Kiswahili. I was guided on teacher read aloud stories and reminded to read the story without involving the learners                                                     \n",
       "279    Preparation of tecahing aids, Time management                                                                                                                                                                                                  \n",
       "352    he advised me on how to teach grammar, asked me to spend time on it and explain it to the pupil's level                                                                                                                                        \n",
       "415    I forgot to tell the pupils that the sounds I was teaching were the same in English and Kiswahili and he reminded me.                                                                                                                          \n",
       "684    To review predictions after the reading.                                                                                                                                                                                                       \n",
       "157    I was advised to improve on the handwriting of the pupils. To assist the slow learners to be able to read.                                                                                                                                     \n",
       "196    Not to write items on the c/b during oral lessons.                                                                                                                                                                                             \n",
       "399    He advised that I get an extra excise book for homework.                                                                                                                                                                                       \n",
       "507    It was a Kiswahili lesson and he advised me on steps of teaching vocabulary that should be the same as in English                                                                                                                              \n",
       "809    he corrected on how to pronounce letter sounds that were challenging me, he also corrected me on how to handle the thumbs up/down activity                                                                                                     \n",
       "639    The CSO told me the pupils were good and can read fluently and faster. He sad i used DIM well. .                                                                                                                                               \n",
       "709    teach every lesson                                                                                                                                                                                                                             \n",
       "Name: cso_fdbk_det, dtype: object"
      ]
     },
     "execution_count": 13,
     "metadata": {},
     "output_type": "execute_result"
    }
   ],
   "source": [
    "tchrs[tchrs.cso_fdbk_det.notna() & (tchrs.cso_fdbk_det != \"\")].cso_fdbk_det.sample(20)"
   ]
  },
  {
   "cell_type": "code",
   "execution_count": null,
   "metadata": {
    "ExecuteTime": {
     "end_time": "2018-10-21T16:01:03.622834Z",
     "start_time": "2018-10-21T16:01:03.615837Z"
    }
   },
   "outputs": [],
   "source": []
  },
  {
   "cell_type": "code",
   "execution_count": null,
   "metadata": {},
   "outputs": [],
   "source": []
  },
  {
   "cell_type": "code",
   "execution_count": null,
   "metadata": {},
   "outputs": [],
   "source": []
  },
  {
   "cell_type": "markdown",
   "metadata": {},
   "source": [
    "## CSO Instrument"
   ]
  },
  {
   "cell_type": "markdown",
   "metadata": {
    "ExecuteTime": {
     "end_time": "2018-10-12T13:38:15.821761Z",
     "start_time": "2018-10-12T13:38:15.784758Z"
    }
   },
   "source": [
    "Here we begin exploring the data we obtained from interviewing the CSOs."
   ]
  },
  {
   "cell_type": "markdown",
   "metadata": {},
   "source": [
    "### Length of experience using tablet-based Tangerine\n",
    "_When did you first receive a tablet from Tusome or PRIMR?_\n",
    "\n",
    "We want to convert the year/month CSOs provided into a number so we can work with it easily. We'll make the simplifying assumption that the tablet was received on the first day of the month they provided, and that this interview was conducted on the first day of the month. Neither of those are true, but the marginal days are unlikely to make a practical difference in a CSO's facility with the tool."
   ]
  },
  {
   "cell_type": "code",
   "execution_count": 14,
   "metadata": {
    "ExecuteTime": {
     "end_time": "2018-10-25T12:54:17.067675Z",
     "start_time": "2018-10-25T12:54:17.052674Z"
    }
   },
   "outputs": [],
   "source": [
    "now = dt.datetime(2018, 10, 1)\n",
    "csos[\"tab_usage\"] = pd.to_timedelta(now - pd.to_datetime({\"year\": csos.recd_tab_yr, \"month\": csos.recd_tab_month, \"day\": 1})).dt.days"
   ]
  },
  {
   "cell_type": "markdown",
   "metadata": {
    "ExecuteTime": {
     "end_time": "2018-10-18T06:22:41.067578Z",
     "start_time": "2018-10-18T06:22:41.040577Z"
    }
   },
   "source": [
    "We'll also want to convert the duration to months, since that will be easier to digest, and filter out any missing values."
   ]
  },
  {
   "cell_type": "code",
   "execution_count": 15,
   "metadata": {
    "ExecuteTime": {
     "end_time": "2018-10-25T12:54:17.132696Z",
     "start_time": "2018-10-25T12:54:17.071686Z"
    },
    "scrolled": true
   },
   "outputs": [],
   "source": [
    "tab_usage = pd.DataFrame(csos[csos.tab_usage.notna()].tab_usage / 30)\n",
    "# tab_usage"
   ]
  },
  {
   "cell_type": "code",
   "execution_count": 16,
   "metadata": {
    "ExecuteTime": {
     "end_time": "2018-10-25T12:54:17.221737Z",
     "start_time": "2018-10-25T12:54:17.136699Z"
    }
   },
   "outputs": [
    {
     "data": {
      "application/javascript": [
       "var spec = {\"config\": {\"view\": {\"width\": 400, \"height\": 300}}, \"data\": {\"name\": \"data-3b244c189a682ad7e2da9b5f2e9abe5c\"}, \"mark\": \"bar\", \"encoding\": {\"x\": {\"type\": \"quantitative\", \"bin\": {\"step\": 1}, \"field\": \"tab_usage\", \"title\": \"# Months has had a tablet\"}, \"y\": {\"type\": \"quantitative\", \"aggregate\": \"count\", \"title\": \"# of CSOs\"}}, \"title\": \"Distribution of CSO tablet usage, months\", \"$schema\": \"https://vega.github.io/schema/vega-lite/v2.6.0.json\", \"datasets\": {\"data-3b244c189a682ad7e2da9b5f2e9abe5c\": [{\"tab_usage\": 44.6}, {\"tab_usage\": 46.666666666666664}, {\"tab_usage\": 5.1}, {\"tab_usage\": 26.366666666666667}, {\"tab_usage\": 18.266666666666666}, {\"tab_usage\": 2.033333333333333}, {\"tab_usage\": 26.366666666666667}, {\"tab_usage\": 42.63333333333333}, {\"tab_usage\": 42.63333333333333}, {\"tab_usage\": 32.43333333333333}, {\"tab_usage\": 41.63333333333333}, {\"tab_usage\": 20.233333333333334}, {\"tab_usage\": 17.266666666666666}, {\"tab_usage\": 18.266666666666666}, {\"tab_usage\": 15.233333333333333}, {\"tab_usage\": 14.2}, {\"tab_usage\": 38.56666666666667}, {\"tab_usage\": 42.63333333333333}, {\"tab_usage\": 2.033333333333333}, {\"tab_usage\": 41.63333333333333}, {\"tab_usage\": 42.63333333333333}, {\"tab_usage\": 41.63333333333333}, {\"tab_usage\": 46.666666666666664}, {\"tab_usage\": 6.1}, {\"tab_usage\": 42.63333333333333}, {\"tab_usage\": 26.366666666666667}, {\"tab_usage\": 21.266666666666666}, {\"tab_usage\": 41.63333333333333}, {\"tab_usage\": 41.63333333333333}, {\"tab_usage\": 30.433333333333334}, {\"tab_usage\": 42.63333333333333}, {\"tab_usage\": 42.63333333333333}, {\"tab_usage\": 26.366666666666667}, {\"tab_usage\": 25.333333333333332}, {\"tab_usage\": 19.3}, {\"tab_usage\": 25.333333333333332}, {\"tab_usage\": 45.63333333333333}, {\"tab_usage\": 19.3}, {\"tab_usage\": 50.733333333333334}, {\"tab_usage\": 41.63333333333333}, {\"tab_usage\": 42.63333333333333}, {\"tab_usage\": 45.63333333333333}, {\"tab_usage\": 21.266666666666666}, {\"tab_usage\": 42.63333333333333}, {\"tab_usage\": 25.333333333333332}, {\"tab_usage\": 17.266666666666666}, {\"tab_usage\": 41.63333333333333}, {\"tab_usage\": 41.63333333333333}, {\"tab_usage\": 42.63333333333333}, {\"tab_usage\": 25.333333333333332}, {\"tab_usage\": 19.3}, {\"tab_usage\": 30.433333333333334}, {\"tab_usage\": 16.233333333333334}, {\"tab_usage\": 41.63333333333333}, {\"tab_usage\": 41.63333333333333}, {\"tab_usage\": 42.63333333333333}, {\"tab_usage\": 41.63333333333333}, {\"tab_usage\": 36.53333333333333}, {\"tab_usage\": 42.63333333333333}, {\"tab_usage\": 22.3}, {\"tab_usage\": 40.6}, {\"tab_usage\": 40.6}, {\"tab_usage\": 29.433333333333334}, {\"tab_usage\": 40.6}, {\"tab_usage\": 42.63333333333333}, {\"tab_usage\": 54.8}, {\"tab_usage\": 42.63333333333333}, {\"tab_usage\": 19.3}, {\"tab_usage\": 41.63333333333333}, {\"tab_usage\": 42.63333333333333}, {\"tab_usage\": 42.63333333333333}, {\"tab_usage\": 48.7}, {\"tab_usage\": 26.366666666666667}, {\"tab_usage\": 42.63333333333333}, {\"tab_usage\": 42.63333333333333}, {\"tab_usage\": 15.233333333333333}, {\"tab_usage\": 17.266666666666666}, {\"tab_usage\": 42.63333333333333}, {\"tab_usage\": 19.3}, {\"tab_usage\": 42.63333333333333}, {\"tab_usage\": 41.63333333333333}, {\"tab_usage\": 5.1}, {\"tab_usage\": 17.266666666666666}, {\"tab_usage\": 34.5}, {\"tab_usage\": 17.266666666666666}, {\"tab_usage\": 25.333333333333332}, {\"tab_usage\": 42.63333333333333}, {\"tab_usage\": 25.333333333333332}, {\"tab_usage\": 1.0}, {\"tab_usage\": 41.63333333333333}, {\"tab_usage\": 41.63333333333333}, {\"tab_usage\": 41.63333333333333}, {\"tab_usage\": 16.233333333333334}, {\"tab_usage\": 15.233333333333333}, {\"tab_usage\": 22.3}, {\"tab_usage\": 13.166666666666666}, {\"tab_usage\": 8.066666666666666}, {\"tab_usage\": 4.066666666666666}, {\"tab_usage\": 41.63333333333333}, {\"tab_usage\": 34.5}, {\"tab_usage\": 2.033333333333333}, {\"tab_usage\": 30.433333333333334}, {\"tab_usage\": 41.63333333333333}, {\"tab_usage\": 41.63333333333333}, {\"tab_usage\": 37.53333333333333}, {\"tab_usage\": 42.63333333333333}, {\"tab_usage\": 5.1}, {\"tab_usage\": 46.666666666666664}, {\"tab_usage\": 5.1}, {\"tab_usage\": 16.233333333333334}, {\"tab_usage\": 41.63333333333333}, {\"tab_usage\": 13.166666666666666}, {\"tab_usage\": 20.233333333333334}, {\"tab_usage\": 41.63333333333333}, {\"tab_usage\": 41.63333333333333}, {\"tab_usage\": 29.433333333333334}, {\"tab_usage\": 42.63333333333333}, {\"tab_usage\": 42.63333333333333}, {\"tab_usage\": 38.56666666666667}, {\"tab_usage\": 27.4}, {\"tab_usage\": 42.63333333333333}, {\"tab_usage\": 41.63333333333333}, {\"tab_usage\": 41.63333333333333}, {\"tab_usage\": 41.63333333333333}, {\"tab_usage\": 41.63333333333333}, {\"tab_usage\": 42.63333333333333}, {\"tab_usage\": 26.366666666666667}]}};\n",
       "var opt = {};\n",
       "var type = \"vega-lite\";\n",
       "var id = \"1ca0c309-2216-4fe3-bae0-e7cc71ff87bb\";\n",
       "\n",
       "var output_area = this;\n",
       "\n",
       "require([\"nbextensions/jupyter-vega/index\"], function(vega) {\n",
       "  var target = document.createElement(\"div\");\n",
       "  target.id = id;\n",
       "  target.className = \"vega-embed\";\n",
       "\n",
       "  var style = document.createElement(\"style\");\n",
       "  style.textContent = [\n",
       "    \".vega-embed .error p {\",\n",
       "    \"  color: firebrick;\",\n",
       "    \"  font-size: 14px;\",\n",
       "    \"}\",\n",
       "  ].join(\"\\\\n\");\n",
       "\n",
       "  // element is a jQuery wrapped DOM element inside the output area\n",
       "  // see http://ipython.readthedocs.io/en/stable/api/generated/\\\n",
       "  // IPython.display.html#IPython.display.Javascript.__init__\n",
       "  element[0].appendChild(target);\n",
       "  element[0].appendChild(style);\n",
       "\n",
       "  vega.render(\"#\" + id, spec, type, opt, output_area);\n",
       "}, function (err) {\n",
       "  if (err.requireType !== \"scripterror\") {\n",
       "    throw(err);\n",
       "  }\n",
       "});\n"
      ],
      "text/plain": [
       "<vega.vegalite.VegaLite at 0x21a71410c50>"
      ]
     },
     "metadata": {
      "jupyter-vega": "#1ca0c309-2216-4fe3-bae0-e7cc71ff87bb"
     },
     "output_type": "display_data"
    },
    {
     "data": {
      "text/plain": []
     },
     "execution_count": 16,
     "metadata": {},
     "output_type": "execute_result"
    },
    {
     "data": {
      "image/png": "[encoded data removed]"
     },
     "metadata": {
      "jupyter-vega": "#1ca0c309-2216-4fe3-bae0-e7cc71ff87bb"
     },
     "output_type": "display_data"
    }
   ],
   "source": [
    "alt.Chart(tab_usage, title=\"Distribution of CSO tablet usage, months\").mark_bar().encode(\n",
    "    alt.X(\"tab_usage:Q\", \n",
    "          bin=alt.BinParams(step=1), title=\"# Months has had a tablet\"),\n",
    "    alt.Y(\"count()\", title=\"# of CSOs\"))"
   ]
  },
  {
   "cell_type": "markdown",
   "metadata": {
    "ExecuteTime": {
     "end_time": "2018-10-18T06:06:58.475520Z",
     "start_time": "2018-10-18T06:06:58.294467Z"
    },
    "variables": {
     "int(tab_usage.tab_usage.mode()[0])": "41",
     "np.round(tab_usage.tab_usage.mode()[0]/12, decimals=1)": "3.5"
    }
   },
   "source": [
    "We see that the majority of our CSOs have had their tablets for roughly {{int(tab_usage.tab_usage.mode()[0])}} months ({{np.round(tab_usage.tab_usage.mode()[0]/12, decimals=1)}} years). This is in keeping with the beginning of the Tusome program, and is as expected. CSOs who have had their tablets for longer are likely veterans of the PRIMR program (Tusome's predecessor); those who have had tablets for fewer months may have assumed their roles more recently. (CSO turnover due to retirement, promotion, maternity leave, etc. is an issue which Tusome is constantly needing to manage.)"
   ]
  },
  {
   "cell_type": "markdown",
   "metadata": {
    "ExecuteTime": {
     "end_time": "2018-10-12T13:38:15.821761Z",
     "start_time": "2018-10-12T13:38:15.784758Z"
    }
   },
   "source": [
    "### Proportion of CSOs reporting use of each application\n",
    "\n",
    "_Which applications do you use frequently when supporting teachers? ...After recording unprompted responses, read the list of options and record responses._\n",
    "  + Tangerine Tutor\n",
    "  + Papaya\n",
    "  + Tusome Books (in Adobe Acrobat)\n",
    "  + Tusome Videos (in MX Player)\n",
    "\n",
    "The CSOs' tablets come equipped with several tools meant to support their efforts as instructional coaches. These include the [_Tangerine:Tutor_](http://www.tangerinecentral.org/tutor/) application, the [_Papaya_](http://schoolsnetkenya.com/tusome-early-literacy-programme-sounds-application/) application, PDF versions of Tusome's instructional materials (pupil's books and teacher's guides), and videos that model effective instructional delivery.\n",
    "\n",
    "We are interested in which of those tools CSOs use, and how frequently. We will provide an analysis of their unprompted free-response answers to the question above. For the moment, we note the tools they said they use when we explicitly prompted them with the list of tools available."
   ]
  },
  {
   "cell_type": "code",
   "execution_count": 17,
   "metadata": {
    "ExecuteTime": {
     "end_time": "2018-10-25T12:54:17.277244Z",
     "start_time": "2018-10-25T12:54:17.248731Z"
    }
   },
   "outputs": [],
   "source": [
    "app_users = {\"tutor\": csos.freqapps_tt_promp.sum(),\n",
    "         \"papaya\": csos.freqapps_papaya_promp.sum(),\n",
    "         \"books\": csos.freqapps_bks_promp.sum(),\n",
    "         \"videos\": csos.freqapps_vids_promp.sum()}\n",
    "app_usage = pd.DataFrame.from_dict(app_users, orient=\"index\", columns=[\"ct\"])\n",
    "app_usage[\"pct\"] = 100 * np.round(app_usage[\"ct\"] / csos.shape[0], decimals=3)\n",
    "app_usage = app_usage.rename_axis(\"app\").reset_index()"
   ]
  },
  {
   "cell_type": "code",
   "execution_count": 18,
   "metadata": {
    "ExecuteTime": {
     "end_time": "2018-10-25T12:54:17.327766Z",
     "start_time": "2018-10-25T12:54:17.281245Z"
    }
   },
   "outputs": [
    {
     "data": {
      "application/javascript": [
       "var spec = {\"config\": {\"view\": {\"width\": 400, \"height\": 300}}, \"data\": {\"name\": \"data-8c0dc4d2068fb66b0a5ab5b21bfe3f27\"}, \"mark\": \"bar\", \"encoding\": {\"tooltip\": {\"type\": \"quantitative\", \"field\": \"pct\"}, \"x\": {\"type\": \"quantitative\", \"field\": \"pct\", \"title\": \"% of CSOs reporting usage\"}, \"y\": {\"type\": \"ordinal\", \"field\": \"app\", \"sort\": {\"op\": \"values\", \"field\": \"pct\", \"order\": \"ascending\"}, \"title\": \"Application\"}}, \"title\": \"Proportion of CSOs reporting tool usage\", \"$schema\": \"https://vega.github.io/schema/vega-lite/v2.6.0.json\", \"datasets\": {\"data-8c0dc4d2068fb66b0a5ab5b21bfe3f27\": [{\"app\": \"tutor\", \"ct\": 140, \"pct\": 92.10000000000001}, {\"app\": \"papaya\", \"ct\": 140, \"pct\": 92.10000000000001}, {\"app\": \"books\", \"ct\": 129, \"pct\": 84.89999999999999}, {\"app\": \"videos\", \"ct\": 124, \"pct\": 81.6}]}};\n",
       "var opt = {};\n",
       "var type = \"vega-lite\";\n",
       "var id = \"74bdbc1a-a611-4d44-b9ca-493995ee13bb\";\n",
       "\n",
       "var output_area = this;\n",
       "\n",
       "require([\"nbextensions/jupyter-vega/index\"], function(vega) {\n",
       "  var target = document.createElement(\"div\");\n",
       "  target.id = id;\n",
       "  target.className = \"vega-embed\";\n",
       "\n",
       "  var style = document.createElement(\"style\");\n",
       "  style.textContent = [\n",
       "    \".vega-embed .error p {\",\n",
       "    \"  color: firebrick;\",\n",
       "    \"  font-size: 14px;\",\n",
       "    \"}\",\n",
       "  ].join(\"\\\\n\");\n",
       "\n",
       "  // element is a jQuery wrapped DOM element inside the output area\n",
       "  // see http://ipython.readthedocs.io/en/stable/api/generated/\\\n",
       "  // IPython.display.html#IPython.display.Javascript.__init__\n",
       "  element[0].appendChild(target);\n",
       "  element[0].appendChild(style);\n",
       "\n",
       "  vega.render(\"#\" + id, spec, type, opt, output_area);\n",
       "}, function (err) {\n",
       "  if (err.requireType !== \"scripterror\") {\n",
       "    throw(err);\n",
       "  }\n",
       "});\n"
      ],
      "text/plain": [
       "<vega.vegalite.VegaLite at 0x21a71647588>"
      ]
     },
     "metadata": {
      "jupyter-vega": "#74bdbc1a-a611-4d44-b9ca-493995ee13bb"
     },
     "output_type": "display_data"
    },
    {
     "data": {
      "text/plain": []
     },
     "execution_count": 18,
     "metadata": {},
     "output_type": "execute_result"
    },
    {
     "data": {
      "image/png": "[encoded data removed]"
     },
     "metadata": {
      "jupyter-vega": "#74bdbc1a-a611-4d44-b9ca-493995ee13bb"
     },
     "output_type": "display_data"
    }
   ],
   "source": [
    "alt.Chart(app_usage, title=\"Proportion of CSOs reporting tool usage\").mark_bar().encode(\n",
    "    alt.Y(\"app:O\",\n",
    "          title=\"Application\",\n",
    "          sort = alt.EncodingSortField(field=\"pct\", op=\"values\", order=\"ascending\"),\n",
    "          ),\n",
    "    alt.X(\"pct:Q\", title=\"% of CSOs reporting usage\"),\n",
    "    tooltip=\"pct\")"
   ]
  },
  {
   "cell_type": "markdown",
   "metadata": {
    "ExecuteTime": {
     "end_time": "2018-10-18T10:11:51.996964Z",
     "start_time": "2018-10-18T10:11:51.970463Z"
    }
   },
   "source": [
    "The overwhelming majority of the CSOs report using all of the applications. That said, the videos and books are used less frequently."
   ]
  },
  {
   "cell_type": "markdown",
   "metadata": {
    "ExecuteTime": {
     "end_time": "2018-10-18T10:14:09.150850Z",
     "start_time": "2018-10-18T10:14:09.136848Z"
    }
   },
   "source": [
    "### Proportion of CSOs who refer to Tangerine to provide post-observation feedback\n",
    "\n",
    "_Do you refer to Tangerine when giving teachers feedback after observing a lesson?_\n",
    "\n",
    "The _Tangerine:Tutor_ application analyzes the pattern of the CSO's responses to the observation items and surfaces actionable feedback that could be share with the teacher to improve her or his instruction. While the auto-generated feedback is intended as a tool to help CSOs give more effective guidance to teachers, it can be quite extensive and is not prioritized. We were interested to know whether the CSOs make reference to the application's auto-generated feedback when they hold their post-observation debriefing session with the teacher."
   ]
  },
  {
   "cell_type": "code",
   "execution_count": 19,
   "metadata": {
    "ExecuteTime": {
     "end_time": "2018-10-25T12:54:17.339764Z",
     "start_time": "2018-10-25T12:54:17.331765Z"
    }
   },
   "outputs": [
    {
     "data": {
      "text/plain": [
       "96.7"
      ]
     },
     "execution_count": 19,
     "metadata": {},
     "output_type": "execute_result"
    }
   ],
   "source": [
    "100 * np.round(csos.ref_tang_fdbk.sum() / csos.shape[0], decimals=3)"
   ]
  },
  {
   "cell_type": "markdown",
   "metadata": {
    "ExecuteTime": {
     "end_time": "2018-10-18T10:11:51.996964Z",
     "start_time": "2018-10-18T10:11:51.970463Z"
    }
   },
   "source": [
    "Again, the overwhelming majority of CSOs report using the auto-generated feedback when holding their debrief session with the teacher. We will separately provide an analysis of their open-ended answers regarding _what_ they refer to and what they find most useful."
   ]
  },
  {
   "cell_type": "markdown",
   "metadata": {
    "ExecuteTime": {
     "end_time": "2018-10-18T10:11:51.996964Z",
     "start_time": "2018-10-18T10:11:51.970463Z"
    }
   },
   "source": [
    "### Proportion of CSOs who use Tangerine to plan their work\n",
    "\n",
    "_Do you refer to Tangerine to help you plan your work when you are **not** either observing a teacher or giving the teacher feedback?_\n",
    "\n",
    "Version 3 of the _Tangerine:Tutor_ application features a screen which allows a CSO to see schools they have visited and which they have not. We were interested to know whether the CSOs are leveraging this feature—or others, such as the pupils' fluency rates, which are reported in the feedback—to make decisions about which schools to visit in the future."
   ]
  },
  {
   "cell_type": "code",
   "execution_count": 20,
   "metadata": {
    "ExecuteTime": {
     "end_time": "2018-10-25T12:54:17.359765Z",
     "start_time": "2018-10-25T12:54:17.344760Z"
    }
   },
   "outputs": [
    {
     "data": {
      "text/plain": [
       "59.9"
      ]
     },
     "execution_count": 20,
     "metadata": {},
     "output_type": "execute_result"
    }
   ],
   "source": [
    "100 * np.round(csos.refer_tang_nonobs.sum() / csos.shape[0], decimals=3)"
   ]
  },
  {
   "cell_type": "markdown",
   "metadata": {
    "ExecuteTime": {
     "end_time": "2018-10-18T10:11:51.996964Z",
     "start_time": "2018-10-18T10:11:51.970463Z"
    }
   },
   "source": [
    "Fewer than two-thirds of CSOs refer to Tangerine to plan their work. A sampling of their reasons is provided surfaced below:"
   ]
  },
  {
   "cell_type": "code",
   "execution_count": 21,
   "metadata": {
    "ExecuteTime": {
     "end_time": "2018-10-25T12:54:17.403789Z",
     "start_time": "2018-10-25T12:54:17.363762Z"
    }
   },
   "outputs": [
    {
     "data": {
      "text/plain": [
       "101    I normally use it for the observation and writing reports                                                                                           \n",
       "146    Since i am not supporting the teachers, i don't open the tangerine but i open pdf books                                                             \n",
       "105    I normally use it for the observation and writing reports                                                                                           \n",
       "50     The problem is that i don't have enough time to check on it, there is a lot of work nowadays                                                        \n",
       "47     I don't think I have any reason because I have my own program. I only use it when I am going to school. We normally prepare our own program of work.\n",
       "39     I just use it to observe lessons                                                                                                                    \n",
       "102    N/ A                                                                                                                                                \n",
       "100    I only use it in schools                                                                                                                            \n",
       "88     I don't because use of tangerine captures GPS which should in for a school and not away from school.                                                \n",
       "144    I have not used any other form from the Tangerine.                                                                                                  \n",
       "Name: tang_nonobs_nowhynot, dtype: object"
      ]
     },
     "execution_count": 21,
     "metadata": {},
     "output_type": "execute_result"
    }
   ],
   "source": [
    "pd.set_option('display.max_colwidth', -1)\n",
    "csos[csos.tang_nonobs_nowhynot.notnull() & (csos.tang_nonobs_nowhynot != \"\")].tang_nonobs_nowhynot.sample(10)"
   ]
  },
  {
   "cell_type": "markdown",
   "metadata": {},
   "source": [
    "This result surfaces a few issues Tusome might consider addressing next time CSOs receive a refresher training on Tangerine's use.\n",
    "  1. A lack of awareness of how the information provided by the tablet (schools visited and not visited) could be operationalized\n",
    "  1. A fear that they would be accused of falsifying observation data, rooted specifically in a misunderstanding of the application's GPS-capture functionality\n",
    "  1. A mental compartmentalization of Tangerine as being a Tusome-specific tool, not for use in broader contexts\n",
    "\n",
    "Other reasons given suggest that the need which Tangerine might fill is already being addressed separately.\n",
    "  1. The CSO keeps a personal record (outside of the tablet) in which they track school visitation\n",
    "  1. The CSO has prepared a work schedule, and uses that as their guide until the month's activities have concluded."
   ]
  },
  {
   "cell_type": "markdown",
   "metadata": {},
   "source": [
    "### Frequency with which users refer to the application\n",
    "\n",
    "\\[If the CSO refers to the Tangerine for planning purposes\\], _how often do you reference the data?_\n",
    "\n"
   ]
  },
  {
   "cell_type": "code",
   "execution_count": 22,
   "metadata": {
    "ExecuteTime": {
     "end_time": "2018-10-25T12:54:17.428785Z",
     "start_time": "2018-10-25T12:54:17.407792Z"
    }
   },
   "outputs": [],
   "source": [
    "tchk_freq = csos[csos.freq_refer_tang_plan.notna()].freq_refer_tang_plan.sort_values().value_counts(sort=False).to_frame(name=\"ct\")\n",
    "tchk_freq = tchk_freq.rename_axis(\"frequency\").reset_index()\n",
    "tchk_freq[\"frequency\"] = tchk_freq[\"frequency\"].replace({\n",
    "    1: \"Daily\", \n",
    "    2: \"Weekly\",\n",
    "    3: \"Monthly\",\n",
    "    4: \"Termly\"})\n",
    "tchk_freq[\"sort_order\"] = tchk_freq.index"
   ]
  },
  {
   "cell_type": "markdown",
   "metadata": {
    "ExecuteTime": {
     "end_time": "2018-10-18T12:19:06.102224Z",
     "start_time": "2018-10-18T12:19:06.091229Z"
    }
   },
   "source": [
    "It appears that among the CSOs who check the application, it is most common to check it at least weekly."
   ]
  },
  {
   "cell_type": "code",
   "execution_count": 23,
   "metadata": {
    "ExecuteTime": {
     "end_time": "2018-10-25T12:54:17.466789Z",
     "start_time": "2018-10-25T12:54:17.433785Z"
    }
   },
   "outputs": [
    {
     "data": {
      "application/javascript": [
       "var spec = {\"config\": {\"view\": {\"width\": 400, \"height\": 300}}, \"data\": {\"name\": \"data-e0c8178a2859fbedfd43b9603c42779d\"}, \"mark\": \"bar\", \"encoding\": {\"color\": {\"type\": \"nominal\", \"field\": \"frequency\"}, \"x\": {\"type\": \"quantitative\", \"field\": \"ct\"}, \"y\": {\"type\": \"ordinal\", \"field\": \"frequency\", \"sort\": {\"op\": \"values\", \"field\": \"sort_order:Q\", \"order\": \"ascending\"}}}, \"title\": \"Tangerine app checking behavior\", \"$schema\": \"https://vega.github.io/schema/vega-lite/v2.6.0.json\", \"datasets\": {\"data-e0c8178a2859fbedfd43b9603c42779d\": [{\"frequency\": \"Daily\", \"ct\": 23, \"sort_order\": 0}, {\"frequency\": \"Weekly\", \"ct\": 46, \"sort_order\": 1}, {\"frequency\": \"Monthly\", \"ct\": 19, \"sort_order\": 2}, {\"frequency\": \"Termly\", \"ct\": 4, \"sort_order\": 3}, {\"frequency\": 88.0, \"ct\": 1, \"sort_order\": 4}]}};\n",
       "var opt = {};\n",
       "var type = \"vega-lite\";\n",
       "var id = \"e7a056ba-7ff6-4fc9-81c7-3e396821e36e\";\n",
       "\n",
       "var output_area = this;\n",
       "\n",
       "require([\"nbextensions/jupyter-vega/index\"], function(vega) {\n",
       "  var target = document.createElement(\"div\");\n",
       "  target.id = id;\n",
       "  target.className = \"vega-embed\";\n",
       "\n",
       "  var style = document.createElement(\"style\");\n",
       "  style.textContent = [\n",
       "    \".vega-embed .error p {\",\n",
       "    \"  color: firebrick;\",\n",
       "    \"  font-size: 14px;\",\n",
       "    \"}\",\n",
       "  ].join(\"\\\\n\");\n",
       "\n",
       "  // element is a jQuery wrapped DOM element inside the output area\n",
       "  // see http://ipython.readthedocs.io/en/stable/api/generated/\\\n",
       "  // IPython.display.html#IPython.display.Javascript.__init__\n",
       "  element[0].appendChild(target);\n",
       "  element[0].appendChild(style);\n",
       "\n",
       "  vega.render(\"#\" + id, spec, type, opt, output_area);\n",
       "}, function (err) {\n",
       "  if (err.requireType !== \"scripterror\") {\n",
       "    throw(err);\n",
       "  }\n",
       "});\n"
      ],
      "text/plain": [
       "<vega.vegalite.VegaLite at 0x21a71470cc0>"
      ]
     },
     "metadata": {
      "jupyter-vega": "#e7a056ba-7ff6-4fc9-81c7-3e396821e36e"
     },
     "output_type": "display_data"
    },
    {
     "data": {
      "text/plain": []
     },
     "execution_count": 23,
     "metadata": {},
     "output_type": "execute_result"
    },
    {
     "data": {
      "image/png": "[encoded data removed]"
     },
     "metadata": {
      "jupyter-vega": "#e7a056ba-7ff6-4fc9-81c7-3e396821e36e"
     },
     "output_type": "display_data"
    }
   ],
   "source": [
    "alt.Chart(tchk_freq, title=\"Tangerine app checking behavior\").mark_bar().encode(\n",
    "    alt.X(\"ct:Q\"),\n",
    "    alt.Y(\"frequency:O\", sort = alt.EncodingSortField(field=\"sort_order:Q\", op=\"values\", order=\"ascending\")),\n",
    "    color = \"frequency\")"
   ]
  },
  {
   "cell_type": "markdown",
   "metadata": {},
   "source": [
    "### CSO reference to the Tangerine Dashboard\n",
    "\n",
    "_In the last term, how often did you look at the Tangerine Dashboard?_\n",
    "\n",
    "The data that is generated by the CSOs' lesson observations is uploaded to the cloud and reported on the [Tangerine Dashboard](http://tools.tusome.tangerinecentral.org/_csv/report/group-national_tablet_program/00b0a09a-2a9f-baca-2acb-c6264d4247cb,c835fc38-de99-d064-59d3-e772ccefcf7d/2018/1/ep8yqMKT.html#tutor). This Dashboard is reviewed by senior management within the Ministry of Education: the Principal Secretary, his Directors, and their deputies. It is also sent to the Directors of MOE and TSC at the County level. As these latter personnel oversee the CSOs, the Dashboard may have an effect ..."
   ]
  },
  {
   "cell_type": "code",
   "execution_count": null,
   "metadata": {},
   "outputs": [],
   "source": []
  },
  {
   "cell_type": "code",
   "execution_count": null,
   "metadata": {},
   "outputs": [],
   "source": []
  }
 ],
 "metadata": {
  "jupytext_formats": "py:percent",
  "kernelspec": {
   "display_name": "Python 3",
   "language": "python",
   "name": "python3"
  },
  "language_info": {
   "codemirror_mode": {
    "name": "ipython",
    "version": 3
   },
   "file_extension": ".py",
   "mimetype": "text/x-python",
   "name": "python",
   "nbconvert_exporter": "python",
   "pygments_lexer": "ipython3",
   "version": "3.6.6"
  },
  "toc": {
   "nav_menu": {},
   "number_sections": true,
   "sideBar": true,
   "skip_h1_title": false,
   "title_cell": "Table of Contents",
   "title_sidebar": "Contents",
   "toc_cell": false,
   "toc_position": {},
   "toc_section_display": true,
   "toc_window_display": false
  },
  "varInspector": {
   "cols": {
    "lenName": 16,
    "lenType": 16,
    "lenVar": 40
   },
   "kernels_config": {
    "python": {
     "delete_cmd_postfix": "",
     "delete_cmd_prefix": "del ",
     "library": "var_list.py",
     "varRefreshCmd": "print(var_dic_list())"
    },
    "r": {
     "delete_cmd_postfix": ") ",
     "delete_cmd_prefix": "rm(",
     "library": "var_list.r",
     "varRefreshCmd": "cat(var_dic_list()) "
    }
   },
   "oldHeight": 122,
   "position": {
    "height": "144px",
    "left": "1650px",
    "right": "20px",
    "top": "120px",
    "width": "250px"
   },
   "types_to_exclude": [
    "module",
    "function",
    "builtin_function_or_method",
    "instance",
    "_Feature"
   ],
   "varInspector_section_display": "block",
   "window_display": false
  }
 },
 "nbformat": 4,
 "nbformat_minor": 2
}
