{
 "cells": [
  {
   "cell_type": "code",
   "execution_count": 1,
   "metadata": {
    "ExecuteTime": {
     "end_time": "2018-10-26T05:01:55.603026Z",
     "start_time": "2018-10-26T05:01:52.880667Z"
    }
   },
   "outputs": [],
   "source": [
    "import pandas as pd\n",
    "import numpy as np\n",
    "import altair as alt\n",
    "from altair import datum, expr\n",
    "import matplotlib.pyplot as plt\n",
    "import datetime as dt\n",
    "alt.renderers.enable('notebook')\n",
    "pd.set_option('display.max_colwidth', -1)"
   ]
  },
  {
   "cell_type": "code",
   "execution_count": 2,
   "metadata": {
    "ExecuteTime": {
     "end_time": "2018-10-26T05:01:56.064656Z",
     "start_time": "2018-10-26T05:01:55.606025Z"
    }
   },
   "outputs": [
    {
     "ename": "FileNotFoundError",
     "evalue": "[Errno 2] No such file or directory: 'teacher_data.dta'",
     "output_type": "error",
     "traceback": [
      "\u001b[1;31m---------------------------------------------------------------------------\u001b[0m",
      "\u001b[1;31mFileNotFoundError\u001b[0m                         Traceback (most recent call last)",
      "\u001b[1;32m<ipython-input-2-fa1b614ee6b1>\u001b[0m in \u001b[0;36m<module>\u001b[1;34m()\u001b[0m\n\u001b[1;32m----> 1\u001b[1;33m \u001b[0mtchrs\u001b[0m \u001b[1;33m=\u001b[0m \u001b[0mpd\u001b[0m\u001b[1;33m.\u001b[0m\u001b[0mread_stata\u001b[0m\u001b[1;33m(\u001b[0m\u001b[1;34m\"teacher_data.dta\"\u001b[0m\u001b[1;33m,\u001b[0m \u001b[0mconvert_categoricals\u001b[0m\u001b[1;33m=\u001b[0m\u001b[1;32mFalse\u001b[0m\u001b[1;33m)\u001b[0m\u001b[1;33m\u001b[0m\u001b[0m\n\u001b[0m\u001b[0;32m      2\u001b[0m \u001b[0mcsos\u001b[0m \u001b[1;33m=\u001b[0m \u001b[0mpd\u001b[0m\u001b[1;33m.\u001b[0m\u001b[0mread_stata\u001b[0m\u001b[1;33m(\u001b[0m\u001b[1;34m\"cso_data.dta\"\u001b[0m\u001b[1;33m,\u001b[0m \u001b[0mconvert_categoricals\u001b[0m\u001b[1;33m=\u001b[0m\u001b[1;32mFalse\u001b[0m\u001b[1;33m)\u001b[0m\u001b[1;33m\u001b[0m\u001b[0m\n\u001b[0;32m      3\u001b[0m \u001b[0mdirs\u001b[0m \u001b[1;33m=\u001b[0m \u001b[0mpd\u001b[0m\u001b[1;33m.\u001b[0m\u001b[0mread_stata\u001b[0m\u001b[1;33m(\u001b[0m\u001b[1;34m\"director_data.dta\"\u001b[0m\u001b[1;33m,\u001b[0m \u001b[0mconvert_categoricals\u001b[0m\u001b[1;33m=\u001b[0m\u001b[1;32mFalse\u001b[0m\u001b[1;33m)\u001b[0m\u001b[1;33m\u001b[0m\u001b[0m\n",
      "\u001b[1;32m~\\AppData\\Local\\Continuum\\anaconda3\\lib\\site-packages\\pandas\\util\\_decorators.py\u001b[0m in \u001b[0;36mwrapper\u001b[1;34m(*args, **kwargs)\u001b[0m\n\u001b[0;32m    176\u001b[0m                 \u001b[1;32melse\u001b[0m\u001b[1;33m:\u001b[0m\u001b[1;33m\u001b[0m\u001b[0m\n\u001b[0;32m    177\u001b[0m                     \u001b[0mkwargs\u001b[0m\u001b[1;33m[\u001b[0m\u001b[0mnew_arg_name\u001b[0m\u001b[1;33m]\u001b[0m \u001b[1;33m=\u001b[0m \u001b[0mnew_arg_value\u001b[0m\u001b[1;33m\u001b[0m\u001b[0m\n\u001b[1;32m--> 178\u001b[1;33m             \u001b[1;32mreturn\u001b[0m \u001b[0mfunc\u001b[0m\u001b[1;33m(\u001b[0m\u001b[1;33m*\u001b[0m\u001b[0margs\u001b[0m\u001b[1;33m,\u001b[0m \u001b[1;33m**\u001b[0m\u001b[0mkwargs\u001b[0m\u001b[1;33m)\u001b[0m\u001b[1;33m\u001b[0m\u001b[0m\n\u001b[0m\u001b[0;32m    179\u001b[0m         \u001b[1;32mreturn\u001b[0m \u001b[0mwrapper\u001b[0m\u001b[1;33m\u001b[0m\u001b[0m\n\u001b[0;32m    180\u001b[0m     \u001b[1;32mreturn\u001b[0m \u001b[0m_deprecate_kwarg\u001b[0m\u001b[1;33m\u001b[0m\u001b[0m\n",
      "\u001b[1;32m~\\AppData\\Local\\Continuum\\anaconda3\\lib\\site-packages\\pandas\\io\\stata.py\u001b[0m in \u001b[0;36mread_stata\u001b[1;34m(filepath_or_buffer, convert_dates, convert_categoricals, encoding, index_col, convert_missing, preserve_dtypes, columns, order_categoricals, chunksize, iterator)\u001b[0m\n\u001b[0;32m    183\u001b[0m                          \u001b[0mcolumns\u001b[0m\u001b[1;33m=\u001b[0m\u001b[0mcolumns\u001b[0m\u001b[1;33m,\u001b[0m\u001b[1;33m\u001b[0m\u001b[0m\n\u001b[0;32m    184\u001b[0m                          \u001b[0morder_categoricals\u001b[0m\u001b[1;33m=\u001b[0m\u001b[0morder_categoricals\u001b[0m\u001b[1;33m,\u001b[0m\u001b[1;33m\u001b[0m\u001b[0m\n\u001b[1;32m--> 185\u001b[1;33m                          chunksize=chunksize, encoding=encoding)\n\u001b[0m\u001b[0;32m    186\u001b[0m \u001b[1;33m\u001b[0m\u001b[0m\n\u001b[0;32m    187\u001b[0m     \u001b[1;32mif\u001b[0m \u001b[0miterator\u001b[0m \u001b[1;32mor\u001b[0m \u001b[0mchunksize\u001b[0m\u001b[1;33m:\u001b[0m\u001b[1;33m\u001b[0m\u001b[0m\n",
      "\u001b[1;32m~\\AppData\\Local\\Continuum\\anaconda3\\lib\\site-packages\\pandas\\util\\_decorators.py\u001b[0m in \u001b[0;36mwrapper\u001b[1;34m(*args, **kwargs)\u001b[0m\n\u001b[0;32m    176\u001b[0m                 \u001b[1;32melse\u001b[0m\u001b[1;33m:\u001b[0m\u001b[1;33m\u001b[0m\u001b[0m\n\u001b[0;32m    177\u001b[0m                     \u001b[0mkwargs\u001b[0m\u001b[1;33m[\u001b[0m\u001b[0mnew_arg_name\u001b[0m\u001b[1;33m]\u001b[0m \u001b[1;33m=\u001b[0m \u001b[0mnew_arg_value\u001b[0m\u001b[1;33m\u001b[0m\u001b[0m\n\u001b[1;32m--> 178\u001b[1;33m             \u001b[1;32mreturn\u001b[0m \u001b[0mfunc\u001b[0m\u001b[1;33m(\u001b[0m\u001b[1;33m*\u001b[0m\u001b[0margs\u001b[0m\u001b[1;33m,\u001b[0m \u001b[1;33m**\u001b[0m\u001b[0mkwargs\u001b[0m\u001b[1;33m)\u001b[0m\u001b[1;33m\u001b[0m\u001b[0m\n\u001b[0m\u001b[0;32m    179\u001b[0m         \u001b[1;32mreturn\u001b[0m \u001b[0mwrapper\u001b[0m\u001b[1;33m\u001b[0m\u001b[0m\n\u001b[0;32m    180\u001b[0m     \u001b[1;32mreturn\u001b[0m \u001b[0m_deprecate_kwarg\u001b[0m\u001b[1;33m\u001b[0m\u001b[0m\n",
      "\u001b[1;32m~\\AppData\\Local\\Continuum\\anaconda3\\lib\\site-packages\\pandas\\io\\stata.py\u001b[0m in \u001b[0;36m__init__\u001b[1;34m(self, path_or_buf, convert_dates, convert_categoricals, index_col, convert_missing, preserve_dtypes, columns, order_categoricals, encoding, chunksize)\u001b[0m\n\u001b[0;32m   1003\u001b[0m \u001b[1;33m\u001b[0m\u001b[0m\n\u001b[0;32m   1004\u001b[0m         \u001b[1;32mif\u001b[0m \u001b[0misinstance\u001b[0m\u001b[1;33m(\u001b[0m\u001b[0mpath_or_buf\u001b[0m\u001b[1;33m,\u001b[0m \u001b[1;33m(\u001b[0m\u001b[0mstr\u001b[0m\u001b[1;33m,\u001b[0m \u001b[0mtext_type\u001b[0m\u001b[1;33m,\u001b[0m \u001b[0mbytes\u001b[0m\u001b[1;33m)\u001b[0m\u001b[1;33m)\u001b[0m\u001b[1;33m:\u001b[0m\u001b[1;33m\u001b[0m\u001b[0m\n\u001b[1;32m-> 1005\u001b[1;33m             \u001b[0mself\u001b[0m\u001b[1;33m.\u001b[0m\u001b[0mpath_or_buf\u001b[0m \u001b[1;33m=\u001b[0m \u001b[0mopen\u001b[0m\u001b[1;33m(\u001b[0m\u001b[0mpath_or_buf\u001b[0m\u001b[1;33m,\u001b[0m \u001b[1;34m'rb'\u001b[0m\u001b[1;33m)\u001b[0m\u001b[1;33m\u001b[0m\u001b[0m\n\u001b[0m\u001b[0;32m   1006\u001b[0m         \u001b[1;32melse\u001b[0m\u001b[1;33m:\u001b[0m\u001b[1;33m\u001b[0m\u001b[0m\n\u001b[0;32m   1007\u001b[0m             \u001b[1;31m# Copy to BytesIO, and ensure no encoding\u001b[0m\u001b[1;33m\u001b[0m\u001b[1;33m\u001b[0m\u001b[0m\n",
      "\u001b[1;31mFileNotFoundError\u001b[0m: [Errno 2] No such file or directory: 'teacher_data.dta'"
     ]
    }
   ],
   "source": [
    "tchrs = pd.read_stata(\"../src/teacher_data.dta\", convert_categoricals=False)\n",
    "csos = pd.read_stata(\"../src/cso_data.dta\", convert_categoricals=False)\n",
    "dirs = pd.read_stata(\"../src/director_data.dta\", convert_categoricals=False)"
   ]
  },
  {
   "cell_type": "code",
   "execution_count": null,
   "metadata": {
    "ExecuteTime": {
     "end_time": "2018-10-26T05:01:56.066669Z",
     "start_time": "2018-10-26T05:01:52.889Z"
    }
   },
   "outputs": [],
   "source": [
    "print(f\"The Teacher dataset contains {tchrs.shape[0]} records\\nThe CSO dataset contains {csos.shape[0]} records\\nThe Director dataset contains {dirs.shape[0]} records\")"
   ]
  },
  {
   "cell_type": "markdown",
   "metadata": {
    "ExecuteTime": {
     "end_time": "2018-10-12T13:38:15.821761Z",
     "start_time": "2018-10-12T13:38:15.784758Z"
    }
   },
   "source": [
    "The main questions we want to ask are documented in the [analysis plan](https://github.com/TSSlade/tusome-d4dm/blob/master/analysis_plan.md), which is an evolving document."
   ]
  },
  {
   "cell_type": "markdown",
   "metadata": {
    "ExecuteTime": {
     "end_time": "2018-10-12T13:38:15.821761Z",
     "start_time": "2018-10-12T13:38:15.784758Z"
    }
   },
   "source": [
    "## Teacher Instrument"
   ]
  },
  {
   "cell_type": "markdown",
   "metadata": {},
   "source": [
    "Here we begin exploring the data we obtained from interviewing the teachers."
   ]
  },
  {
   "cell_type": "code",
   "execution_count": null,
   "metadata": {
    "ExecuteTime": {
     "end_time": "2018-10-26T05:01:56.070169Z",
     "start_time": "2018-10-26T05:01:53.148Z"
    },
    "code_folding": [
     0
    ]
   },
   "outputs": [],
   "source": [
    "# Counting teacher records\n",
    "tchr_ct = tchrs.shape[0]"
   ]
  },
  {
   "cell_type": "markdown",
   "metadata": {
    "ExecuteTime": {
     "end_time": "2018-10-20T18:13:56.874778Z",
     "start_time": "2018-10-20T18:13:56.859149Z"
    },
    "variables": {
     "tchr_ct": {}
    }
   },
   "source": [
    "Our dataset contains interviews with {{tchr_ct}} teachers."
   ]
  },
  {
   "cell_type": "markdown",
   "metadata": {},
   "source": [
    "### Teachers visited previously by CSOs\n",
    "\n",
    "The underlying assumption of most of the interview protocol is that the teacher has had a coaching interaction with a CSO. The first issue we should then address is the proportion of teachers who have received a visit from a CSO."
   ]
  },
  {
   "cell_type": "code",
   "execution_count": null,
   "metadata": {
    "ExecuteTime": {
     "end_time": "2018-10-26T05:01:56.074173Z",
     "start_time": "2018-10-26T05:01:53.328Z"
    },
    "code_folding": [
     0
    ]
   },
   "outputs": [],
   "source": [
    "# Counting teachers never visited\n",
    "never = 100 * ((tchr_ct - tchrs.vis_before.sum())/tchr_ct)"
   ]
  },
  {
   "cell_type": "markdown",
   "metadata": {
    "ExecuteTime": {
     "end_time": "2018-10-20T18:13:56.874778Z",
     "start_time": "2018-10-20T18:13:56.859149Z"
    },
    "variables": {
     "np.round(never, decimals=2)": {}
    }
   },
   "source": [
    "We see that {{np.round(never, decimals=2)}}% of teachers interviewed had never been previously visited by CSOs."
   ]
  },
  {
   "cell_type": "markdown",
   "metadata": {},
   "source": [
    "### Number of coaching visits in the last academic term\n",
    "\n",
    "We have confirmed that the overwhelming majority of our teachers have been visited. We can have greater confidence in the responses they give us over the course of the interview if they have had a visit in the recent past. We therefore asked the teachers to tell us how many times they had been visited by their CSO in the preceding academic term (Term 2 of the Kenyan academic year, running from roughly May-July 2018)."
   ]
  },
  {
   "cell_type": "code",
   "execution_count": null,
   "metadata": {
    "ExecuteTime": {
     "end_time": "2018-10-26T05:01:56.078171Z",
     "start_time": "2018-10-26T05:01:53.484Z"
    },
    "code_folding": []
   },
   "outputs": [],
   "source": [
    "# Generating CSO visit counts\n",
    "tchrs.vis_before_freq = tchrs.vis_before_freq.replace({55: \">4x\"})\n",
    "viscount_df = pd.DataFrame(tchrs.vis_before_freq.value_counts(sort=False)).rename_axis(\"prevterm_vis\").reset_index()\n",
    "viscount_df[\"pct\"] = np.round(100 * (viscount_df.vis_before_freq / tchrs.vis_before.sum()), decimals=2)\n",
    "more_than_monthly = viscount_df[viscount_df.prevterm_vis.isin([4, \">4x\"])].pct.sum()\n",
    "csovisct_ch = alt.Chart(viscount_df, title=\"# of times CSO visited in preceding term\").mark_bar().encode(\n",
    "    alt.Y(\"prevterm_vis:O\", title=\"CSO visits last term\"),\n",
    "    alt.X(\"vis_before_freq:Q\", title=\"# Teachers\"),\n",
    "    tooltip=\"pct\")\n",
    "\n",
    "csovisct_ch.save(\"../img/csovisct_ch.png\", scale_factor=2.0)"
   ]
  },
  {
   "cell_type": "markdown",
   "metadata": {
    "ExecuteTime": {
     "end_time": "2018-10-20T19:51:28.176045Z",
     "start_time": "2018-10-20T19:51:28.127801Z"
    }
   },
   "source": [
    "![title](../img/csovisct_ch.png)"
   ]
  },
  {
   "cell_type": "markdown",
   "metadata": {
    "ExecuteTime": {
     "end_time": "2018-10-20T19:51:28.176045Z",
     "start_time": "2018-10-20T19:51:28.127801Z"
    },
    "variables": {
     "int(more_than_monthly)": {},
     "int(viscount_df[viscount_df.prevterm_vis.isin([1, 2, 3])].pct.sum())": {},
     "int(viscount_df[viscount_df.prevterm_vis==0].pct[0])": {}
    }
   },
   "source": [
    "We see that roughly {{int(viscount_df[viscount_df.prevterm_vis==0].pct[0])}}% of the respondents, while they'd been visited by a CSO in the past, had not been visited in the preceding term. However, {{int(viscount_df[viscount_df.prevterm_vis.isin([1, 2, 3])].pct.sum())}}% of the respondents were visited between once per term and once per month. Roughly {{int(more_than_monthly)}}% of the teachers were visited by their CSOs more frequently than monthly."
   ]
  },
  {
   "cell_type": "markdown",
   "metadata": {},
   "source": [
    "### CSOs' activities during last coaching visit\n",
    "\n",
    "We are interested in knowing what CSOs are focusing on when they pay a visit to a school. Are they observing a lesson? Are they giving feedback to the teacher? Do they assess pupils' fluency rates? Do they take advantage of their presence at the school to meet with the head teacher (HT)? What kinds of things are they doing _besides_ these activities?"
   ]
  },
  {
   "cell_type": "code",
   "execution_count": null,
   "metadata": {
    "ExecuteTime": {
     "end_time": "2018-10-26T05:01:56.087681Z",
     "start_time": "2018-10-26T05:01:53.670Z"
    },
    "code_folding": [
     0
    ]
   },
   "outputs": [],
   "source": [
    "# Generating table of CSOs' activities during visits\n",
    "visact_df = pd.DataFrame.from_dict({\"activities\": [\"Assessed pupils\",\n",
    "                                                   \"Talked to HT\",\n",
    "                                                   \"Provided feedback on lesson\",\n",
    "                                                   \"Had general talk\",\n",
    "                                                   \"Other\"],\n",
    "                                    \"tchrs_reporting\": [tchrs[tchrs.vis_before != 0].vis_act_kids.sum(),\n",
    "                                                        tchrs[tchrs.vis_before != 0].vis_act_ht.sum(),\n",
    "                                                        tchrs[tchrs.vis_before != 0].vis_act_fdbk.sum(),\n",
    "                                                        tchrs[tchrs.vis_before != 0].vis_act_gen.sum(),\n",
    "                                                        tchrs[tchrs.vis_before != 0].vis_act_other.sum()]})\n",
    "visact_df[\"pct\"] = np.round(visact_df.tchrs_reporting.apply(lambda x: 100 * (x/(tchr_ct - never))), decimals=2)\n",
    "visact_df"
   ]
  },
  {
   "cell_type": "code",
   "execution_count": null,
   "metadata": {
    "ExecuteTime": {
     "end_time": "2018-10-26T05:01:56.089693Z",
     "start_time": "2018-10-26T05:01:53.674Z"
    },
    "code_folding": []
   },
   "outputs": [],
   "source": [
    "# Generating the graph of CSOs' activities during the previous visit\n",
    "csoprevvis_ch = alt.Chart(visact_df, title=\"CSO activities during previous visit\").mark_bar().encode(\n",
    "alt.Y(\"activities:O\", \n",
    "      title=\"Activities named\",\n",
    "      sort = alt.EncodingSortField(field=\"tchrs_reporting\", op=\"values\", order=\"ascending\")),\n",
    "alt.X(\"pct:Q\",\n",
    "      title=\"% of teachers responding\"),\n",
    "tooltip = \"tchrs_reporting\")\n",
    "\n",
    "csoprevvis_ch.save(\"../img/csoprevvis_ch.png\", scale_factor=2.0)"
   ]
  },
  {
   "cell_type": "markdown",
   "metadata": {
    "ExecuteTime": {
     "end_time": "2018-10-25T18:53:54.468291Z",
     "start_time": "2018-10-25T18:53:54.093247Z"
    }
   },
   "source": [
    "![title](../img/csoprevvis_ch.png)"
   ]
  },
  {
   "cell_type": "markdown",
   "metadata": {
    "ExecuteTime": {
     "end_time": "2018-10-21T15:02:49.246011Z",
     "start_time": "2018-10-21T15:02:49.226011Z"
    },
    "variables": {
     "int(np.ceil(visact_df.pct.max()))": {},
     "int(np.floor(visact_df[visact_df.activities==\"Other\"].pct))": {}
    }
   },
   "source": [
    "Nearly {{int(np.ceil(visact_df.pct.max()))}}% of teachers report that when the CSO last visited, s/he provided feedback on a lesson. Nearly the same quantity said that the CSO assessed pupils. Neither of these is surprising, as those activities are key features of a \"reimbursable\" or \"valid\" lesson observation. If anything, it is interesting that these numbers are not higher, given that we have excluded from our denominator those teachers who said they had never received a visit from the CSO.\n",
    "\n",
    "Of note is the relatively low proportion of teachers reporting the CSO had spoken with the HT. While Tusome encourages CSOs to speak with HTs as part of the standard protocol for visiting a school, it is not explicitly considered as a factor for reimbursement of transportation costs for visiting that school.\n",
    "\n",
    "That said, it is also possible that teachers may simply not be aware of activities taking place outside of their classroom. They and their classrooms would have been the objects of the lesson observation and fluency assessment; they may not have as much visibility into what happened before or after the CSO entered their classroom.\n",
    "\n",
    "A little over {{int(np.floor(visact_df[visact_df.activities==\"Other\"].pct))}}% of teachers reported the CSO conducted an activity that was not listed in the questionnaire. Below we have sampled 20 of the things that they reported which were not captured in the questionnaire."
   ]
  },
  {
   "cell_type": "code",
   "execution_count": null,
   "metadata": {
    "ExecuteTime": {
     "end_time": "2018-10-26T05:01:56.102683Z",
     "start_time": "2018-10-26T05:01:53.766Z"
    },
    "code_folding": [
     0
    ]
   },
   "outputs": [],
   "source": [
    "# Generating a list of the 'other' activities CSOs did when visiting\n",
    "print(tchrs[tchrs.vis_act_other_det.notna() & (tchrs.vis_act_other_det != \"\")].vis_act_other_det.sample(20))"
   ]
  },
  {
   "cell_type": "markdown",
   "metadata": {},
   "source": [
    "### CSOs using tablets or pen & paper during observation\n",
    "\n",
    "The _Tangerine:Tutor_ app was developed with the intent and belief that CSOs would use it _while observing_ the lesson. However, Tusome staff report that not all CSOs find the tablet interface comfortable, and not all use it with ease. So we asked teachers to report whether CSOs use the tablets during the lesson observation, and also whether they use pen and paper."
   ]
  },
  {
   "cell_type": "markdown",
   "metadata": {
    "ExecuteTime": {
     "end_time": "2018-10-21T15:27:58.583363Z",
     "start_time": "2018-10-21T15:27:58.575363Z"
    },
    "variables": {
     "int(np.round(100 * (tchrs.cso_usepcl_yn.sum()/tchr_ct), decimals=2))": {},
     "int(np.round(100 * (tchrs.cso_usetab_yn.sum()/tchr_ct), decimals=2))": {}
    }
   },
   "source": [
    "Roughly {{int(np.round(100 * (tchrs.cso_usetab_yn.sum()/tchr_ct), decimals=2))}}% of teachers reported that the CSOs use tablets during lesson observation; roughly {{int(np.round(100 * (tchrs.cso_usepcl_yn.sum()/tchr_ct), decimals=2))}}% of teachers reported the CSOs use pen and paper during the lesson observation."
   ]
  },
  {
   "cell_type": "code",
   "execution_count": null,
   "metadata": {
    "ExecuteTime": {
     "end_time": "2018-10-26T05:01:56.109681Z",
     "start_time": "2018-10-26T05:01:53.877Z"
    },
    "code_folding": [
     0
    ]
   },
   "outputs": [],
   "source": [
    "# Generating the table about usage of tablets and pencils\n",
    "tabs_n_pencils = pd.crosstab(tchrs.cso_usetab_yn, tchrs.cso_usepcl_yn)\n",
    "tabs_n_pencils = tabs_n_pencils.rename_axis(\"Uses tablet\").rename_axis(\"Uses pen and paper\", axis=\"columns\")\n",
    "tabs_n_pencils = tabs_n_pencils.rename({0: \"No\", 1: \"Yes\"}, axis=\"columns\").rename({0: \"No\", 1: \"Yes\"}, axis=\"index\")\n",
    "tabs_n_pencils"
   ]
  },
  {
   "cell_type": "markdown",
   "metadata": {},
   "source": [
    "We see that the overwhelming majority of CSOs are using both tablets _and_ pen-and-paper systems when observing the teachers' lesson. There have historically been some instruments/data that CSOs were tasked by TSC to complete that were not rendered in _Tangerine_ format on the tablets; as of midway through Term 3 of the 2018 academic year, those instruments (mostly for the TSC's TPAD \\[Teacher Professional Appraisal and Development\\] project) are now in _Tangerine_. While the use of pen and paper does not appear to have come at the expense of using the tablets - indeed, it appears to be complementary, as nearly all CSOs are using both - Tusome should nonetheless follow up on these reports of CSOs' usage of pen and paper to understand the roots of the practice."
   ]
  },
  {
   "cell_type": "markdown",
   "metadata": {
    "variables": {
     "int(np.round(100 * (tchrs.cso_usetab_pup_yn.sum()/tchr_ct), decimals=2))": {}
    }
   },
   "source": [
    "### CSOs' usage of the tablets to assess pupils' performance\n",
    "\n",
    "Tusome's coaching protocol requires CSOs to randomly select three children from the classroom at the end of the lesson to assess their reading fluency. The prompt the children are to read from is a laminated sheet of paper with a short passage printed on it; the CSOs are instructed to use the tablet to record the children's responses. The tablet is then able to calculate fluency rates and store those as data associated with that observation.\n",
    "\n",
    "Approximately {{int(np.round(100 * (tchrs.cso_usetab_pup_yn.sum()/tchr_ct), decimals=2))}}% of the teachers reported that CSOs use the tablets to assess children's reading fluency."
   ]
  },
  {
   "cell_type": "markdown",
   "metadata": {},
   "source": [
    "### Teachers' experience of feedback, and CSOs' use of tablets\n",
    "\n",
    "Tusome asked teachers whether the CSO gave feedback on the lesson last time s/he paid a visit, whether s/he used the tablet to do so, and whether the teacher was able to recall specific feedback the CSO provided."
   ]
  },
  {
   "cell_type": "code",
   "execution_count": null,
   "metadata": {
    "ExecuteTime": {
     "end_time": "2018-10-26T05:01:56.114682Z",
     "start_time": "2018-10-26T05:01:54.148Z"
    },
    "code_folding": [
     0
    ]
   },
   "outputs": [],
   "source": [
    "# Generating table of CSO use of tablets for feedback\n",
    "feedback = {\"CSO gave feedback\": tchrs.cso_gave_fdbk_yn.sum(),\n",
    "            \"CSO used a tablet\": tchrs.cso_usetab_fdbk_yn.sum(),\n",
    "            \"Tchr remembers feedback\": tchrs.cso_fdbk_remember.sum()}\n",
    "fdbk_df = pd.DataFrame.from_dict(feedback, orient=\"index\", columns=[\"ct\"])\n",
    "fdbk_df[\"pct\"] = 100 * np.round(fdbk_df[\"ct\"] / tchrs.shape[0], decimals=3)\n",
    "fdbk_df = fdbk_df.rename_axis(\"event\").reset_index()\n",
    "fdbk_df"
   ]
  },
  {
   "cell_type": "code",
   "execution_count": null,
   "metadata": {
    "ExecuteTime": {
     "end_time": "2018-10-26T05:01:56.115681Z",
     "start_time": "2018-10-26T05:01:54.153Z"
    },
    "code_folding": [
     0
    ]
   },
   "outputs": [],
   "source": [
    "# Sample of details regarding the details of feedback CSOs provided\n",
    "tchrs[tchrs.cso_fdbk_det.notna() & (tchrs.cso_fdbk_det != \"\")].cso_fdbk_det.sample(20)"
   ]
  },
  {
   "cell_type": "markdown",
   "metadata": {},
   "source": [
    "## CSO Instrument"
   ]
  },
  {
   "cell_type": "markdown",
   "metadata": {
    "ExecuteTime": {
     "end_time": "2018-10-12T13:38:15.821761Z",
     "start_time": "2018-10-12T13:38:15.784758Z"
    }
   },
   "source": [
    "Here we begin exploring the data we obtained from interviewing the CSOs."
   ]
  },
  {
   "cell_type": "markdown",
   "metadata": {},
   "source": [
    "### Length of experience using tablet-based Tangerine\n",
    "_When did you first receive a tablet from Tusome or PRIMR?_\n",
    "\n",
    "We want to convert the year/month CSOs provided into a number so we can work with it easily. We'll make the simplifying assumption that the tablet was received on the first day of the month they provided, and that this interview was conducted on the first day of the month. Neither of those are true, but the marginal days are unlikely to make a practical difference in a CSO's facility with the tool."
   ]
  },
  {
   "cell_type": "code",
   "execution_count": null,
   "metadata": {
    "ExecuteTime": {
     "end_time": "2018-10-26T05:01:56.118686Z",
     "start_time": "2018-10-26T05:01:54.339Z"
    },
    "code_folding": [
     0
    ]
   },
   "outputs": [],
   "source": [
    "# Converting the tablet years, months into a duration\n",
    "now = dt.datetime(2018, 10, 1)\n",
    "csos[\"tab_usage\"] = pd.to_timedelta(now - pd.to_datetime({\"year\": csos.recd_tab_yr, \"month\": csos.recd_tab_month, \"day\": 1})).dt.days"
   ]
  },
  {
   "cell_type": "markdown",
   "metadata": {
    "ExecuteTime": {
     "end_time": "2018-10-18T06:22:41.067578Z",
     "start_time": "2018-10-18T06:22:41.040577Z"
    }
   },
   "source": [
    "We'll also want to convert the duration to months, since that will be easier to digest, and filter out any missing values."
   ]
  },
  {
   "cell_type": "code",
   "execution_count": null,
   "metadata": {
    "ExecuteTime": {
     "end_time": "2018-10-26T05:01:56.121683Z",
     "start_time": "2018-10-26T05:01:54.396Z"
    },
    "code_folding": [],
    "scrolled": true
   },
   "outputs": [],
   "source": [
    "# Generating the df and chart for tablet usage\n",
    "tab_usage = pd.DataFrame(csos[csos.tab_usage.notna()].tab_usage / 30)\n",
    "tabdur_ch = alt.Chart(tab_usage, title=\"Distribution of CSO tablet usage, months\").mark_bar().encode(\n",
    "    alt.X(\"tab_usage:Q\", \n",
    "          bin=alt.BinParams(step=1), title=\"# Months has had a tablet\"),\n",
    "    alt.Y(\"count()\", title=\"# of CSOs\"))\n",
    "\n",
    "tabdur_ch.save(\"../img/tabdur_ch.png\", scale_factor=2.0)"
   ]
  },
  {
   "cell_type": "markdown",
   "metadata": {
    "ExecuteTime": {
     "end_time": "2018-10-25T17:39:55.190891Z",
     "start_time": "2018-10-25T17:39:55.118893Z"
    }
   },
   "source": [
    "![title](../img/tabdur_ch.png)"
   ]
  },
  {
   "cell_type": "markdown",
   "metadata": {
    "ExecuteTime": {
     "end_time": "2018-10-18T06:06:58.475520Z",
     "start_time": "2018-10-18T06:06:58.294467Z"
    },
    "variables": {
     "int(tab_usage.tab_usage.mode()[0])": {},
     "np.round(tab_usage.tab_usage.mode()[0]/12, decimals=1)": {}
    }
   },
   "source": [
    "We see that the majority of our CSOs have had their tablets for roughly {{int(tab_usage.tab_usage.mode()[0])}} months ({{np.round(tab_usage.tab_usage.mode()[0]/12, decimals=1)}} years). This is in keeping with the beginning of the Tusome program, and is as expected. CSOs who have had their tablets for longer are likely veterans of the PRIMR program (Tusome's predecessor); those who have had tablets for fewer months may have assumed their roles more recently. (CSO turnover due to retirement, promotion, maternity leave, etc. is an issue which Tusome is constantly needing to manage.)"
   ]
  },
  {
   "cell_type": "markdown",
   "metadata": {
    "ExecuteTime": {
     "end_time": "2018-10-12T13:38:15.821761Z",
     "start_time": "2018-10-12T13:38:15.784758Z"
    }
   },
   "source": [
    "### Proportion of CSOs reporting use of each application\n",
    "\n",
    "_Which applications do you use frequently when supporting teachers? ...After recording unprompted responses, read the list of options and record responses._\n",
    "  + Tangerine Tutor\n",
    "  + Papaya\n",
    "  + Tusome Books (in Adobe Acrobat)\n",
    "  + Tusome Videos (in MX Player)\n",
    "\n",
    "The CSOs' tablets come equipped with several tools meant to support their efforts as instructional coaches. These include the [_Tangerine:Tutor_](http://www.tangerinecentral.org/tutor/) application, the [_Papaya_](http://schoolsnetkenya.com/tusome-early-literacy-programme-sounds-application/) application, PDF versions of Tusome's instructional materials (pupil's books and teacher's guides), and videos that model effective instructional delivery.\n",
    "\n",
    "We are interested in which of those tools CSOs use, and how frequently. We will provide an analysis of their unprompted free-response answers to the question above. For the moment, we note the tools they said they use when we explicitly prompted them with the list of tools available."
   ]
  },
  {
   "cell_type": "code",
   "execution_count": null,
   "metadata": {
    "ExecuteTime": {
     "end_time": "2018-10-26T05:01:56.127685Z",
     "start_time": "2018-10-26T05:01:54.570Z"
    },
    "code_folding": [
     0
    ]
   },
   "outputs": [],
   "source": [
    "# Generating the df of app usage\n",
    "app_users = {\"tutor\": csos.freqapps_tt_promp.sum(),\n",
    "         \"papaya\": csos.freqapps_papaya_promp.sum(),\n",
    "         \"books\": csos.freqapps_bks_promp.sum(),\n",
    "         \"videos\": csos.freqapps_vids_promp.sum()}\n",
    "app_usage = pd.DataFrame.from_dict(app_users, orient=\"index\", columns=[\"ct\"])\n",
    "app_usage[\"pct\"] = 100 * np.round(app_usage[\"ct\"] / csos.shape[0], decimals=3)\n",
    "app_usage = app_usage.rename_axis(\"app\").reset_index()"
   ]
  },
  {
   "cell_type": "code",
   "execution_count": null,
   "metadata": {
    "ExecuteTime": {
     "end_time": "2018-10-26T05:01:56.129682Z",
     "start_time": "2018-10-26T05:01:54.575Z"
    }
   },
   "outputs": [],
   "source": [
    "appuse_ch = alt.Chart(app_usage, title=\"Proportion of CSOs reporting tool usage\").mark_bar().encode(\n",
    "    alt.Y(\"app:O\",\n",
    "          title=\"Application\",\n",
    "          sort = alt.EncodingSortField(field=\"pct\", op=\"values\", order=\"ascending\"),\n",
    "          ),\n",
    "    alt.X(\"pct:Q\", title=\"% of CSOs reporting usage\"),\n",
    "    tooltip=\"pct\")\n",
    "\n",
    "appuse_ch.save(\"../img/appuse_ch.png\", scale_factor=2.0)"
   ]
  },
  {
   "cell_type": "markdown",
   "metadata": {},
   "source": [
    "![title](../img/appuse_ch.png)"
   ]
  },
  {
   "cell_type": "markdown",
   "metadata": {
    "ExecuteTime": {
     "end_time": "2018-10-18T10:11:51.996964Z",
     "start_time": "2018-10-18T10:11:51.970463Z"
    }
   },
   "source": [
    "The overwhelming majority of the CSOs report using all of the applications. That said, the videos and books are used less frequently."
   ]
  },
  {
   "cell_type": "markdown",
   "metadata": {
    "ExecuteTime": {
     "end_time": "2018-10-18T10:14:09.150850Z",
     "start_time": "2018-10-18T10:14:09.136848Z"
    }
   },
   "source": [
    "### Proportion of CSOs who refer to Tangerine to provide post-observation feedback\n",
    "\n",
    "_Do you refer to Tangerine when giving teachers feedback after observing a lesson?_\n",
    "\n",
    "The _Tangerine:Tutor_ application analyzes the pattern of the CSO's responses to the observation items and surfaces actionable feedback that could be share with the teacher to improve her or his instruction. While the auto-generated feedback is intended as a tool to help CSOs give more effective guidance to teachers, it can be quite extensive and is not prioritized. We were interested to know whether the CSOs make reference to the application's auto-generated feedback when they hold their post-observation debriefing session with the teacher."
   ]
  },
  {
   "cell_type": "code",
   "execution_count": null,
   "metadata": {
    "ExecuteTime": {
     "end_time": "2018-10-26T05:01:56.131681Z",
     "start_time": "2018-10-26T05:01:54.760Z"
    },
    "code_folding": [
     0
    ]
   },
   "outputs": [],
   "source": [
    "# Calculating proportion of CSOs who refer to Tangerine during feedback\n",
    "100 * np.round(csos.ref_tang_fdbk.sum() / csos.shape[0], decimals=3)"
   ]
  },
  {
   "cell_type": "markdown",
   "metadata": {
    "ExecuteTime": {
     "end_time": "2018-10-18T10:11:51.996964Z",
     "start_time": "2018-10-18T10:11:51.970463Z"
    }
   },
   "source": [
    "Again, the overwhelming majority of CSOs report using the auto-generated feedback when holding their debrief session with the teacher. We will separately provide an analysis of their open-ended answers regarding _what_ they refer to and what they find most useful."
   ]
  },
  {
   "cell_type": "markdown",
   "metadata": {
    "ExecuteTime": {
     "end_time": "2018-10-18T10:11:51.996964Z",
     "start_time": "2018-10-18T10:11:51.970463Z"
    }
   },
   "source": [
    "### Proportion of CSOs who use Tangerine to plan their work\n",
    "\n",
    "_Do you refer to Tangerine to help you plan your work when you are **not** either observing a teacher or giving the teacher feedback?_\n",
    "\n",
    "Version 3 of the _Tangerine:Tutor_ application features a screen which allows a CSO to see schools they have visited and which they have not. We were interested to know whether the CSOs are leveraging this feature—or others, such as the pupils' fluency rates, which are reported in the feedback—to make decisions about which schools to visit in the future."
   ]
  },
  {
   "cell_type": "code",
   "execution_count": null,
   "metadata": {
    "ExecuteTime": {
     "end_time": "2018-10-26T05:01:56.134684Z",
     "start_time": "2018-10-26T05:01:54.959Z"
    },
    "code_folding": [
     0
    ]
   },
   "outputs": [],
   "source": [
    "# Generating proportion of CSOs who use Tangerine to plan their work\n",
    "100 * np.round(csos.refer_tang_nonobs.sum() / csos.shape[0], decimals=3)"
   ]
  },
  {
   "cell_type": "markdown",
   "metadata": {
    "ExecuteTime": {
     "end_time": "2018-10-18T10:11:51.996964Z",
     "start_time": "2018-10-18T10:11:51.970463Z"
    }
   },
   "source": [
    "Fewer than two-thirds of CSOs refer to Tangerine to plan their work. A sampling of their reasons is provided surfaced below:"
   ]
  },
  {
   "cell_type": "code",
   "execution_count": null,
   "metadata": {
    "ExecuteTime": {
     "end_time": "2018-10-26T05:01:56.136683Z",
     "start_time": "2018-10-26T05:01:55.026Z"
    },
    "code_folding": [
     0
    ]
   },
   "outputs": [],
   "source": [
    "# Generating list of sampled statements re: why CSOs didn't use Tangerine for planning\n",
    "pd.set_option('display.max_colwidth', -1)\n",
    "csos[csos.tang_nonobs_nowhynot.notnull() & (csos.tang_nonobs_nowhynot != \"\")].tang_nonobs_nowhynot.sample(10)"
   ]
  },
  {
   "cell_type": "markdown",
   "metadata": {},
   "source": [
    "This result surfaces a few issues Tusome might consider addressing next time CSOs receive a refresher training on Tangerine's use.\n",
    "  1. A lack of awareness of how the information provided by the tablet (schools visited and not visited) could be operationalized\n",
    "  1. A fear that they would be accused of falsifying observation data, rooted specifically in a misunderstanding of the application's GPS-capture functionality\n",
    "  1. A mental compartmentalization of Tangerine as being a Tusome-specific tool, not for use in broader contexts\n",
    "\n",
    "Other reasons given suggest that the need which Tangerine might fill is already being addressed separately.\n",
    "  1. The CSO keeps a personal record (outside of the tablet) in which they track school visitation\n",
    "  1. The CSO has prepared a work schedule, and uses that as their guide until the month's activities have concluded."
   ]
  },
  {
   "cell_type": "markdown",
   "metadata": {},
   "source": [
    "### Frequency with which users refer to the application\n",
    "\n",
    "\\[If the CSO refers to the Tangerine for planning purposes\\], _how often do you reference the data?_\n",
    "\n"
   ]
  },
  {
   "cell_type": "code",
   "execution_count": null,
   "metadata": {
    "ExecuteTime": {
     "end_time": "2018-10-26T05:01:56.138684Z",
     "start_time": "2018-10-26T05:01:55.167Z"
    },
    "code_folding": [
     0
    ]
   },
   "outputs": [],
   "source": [
    "# Generating the dataset of Tangerine checking behavior\n",
    "tchk_freq = csos[csos.freq_refer_tang_plan.notna()].freq_refer_tang_plan.sort_values().value_counts(sort=False).to_frame(name=\"ct\")\n",
    "tchk_freq = tchk_freq.rename_axis(\"frequency\").reset_index()\n",
    "tchk_freq[\"frequency\"] = tchk_freq[\"frequency\"].replace({\n",
    "    1: \"Daily\", \n",
    "    2: \"Weekly\",\n",
    "    3: \"Monthly\",\n",
    "    4: \"Termly\"})\n",
    "tchk_freq[\"sort_order\"] = tchk_freq.index"
   ]
  },
  {
   "cell_type": "markdown",
   "metadata": {
    "ExecuteTime": {
     "end_time": "2018-10-18T12:19:06.102224Z",
     "start_time": "2018-10-18T12:19:06.091229Z"
    }
   },
   "source": [
    "It appears that among the CSOs who check the application, it is most common to check it at least weekly."
   ]
  },
  {
   "cell_type": "code",
   "execution_count": null,
   "metadata": {
    "ExecuteTime": {
     "end_time": "2018-10-26T05:01:56.140681Z",
     "start_time": "2018-10-26T05:01:55.241Z"
    },
    "code_folding": []
   },
   "outputs": [],
   "source": [
    "# Generating graph of Tangerine app checking behavior\n",
    "tangchk_ch = alt.Chart(tchk_freq, title=\"Tangerine app checking behavior\").mark_bar().encode(\n",
    "    alt.X(\"ct:Q\"),\n",
    "    alt.Y(\"frequency:O\", sort = alt.EncodingSortField(field=\"sort_order:Q\", op=\"values\", order=\"ascending\")),\n",
    "    color = \"frequency\")\n",
    "\n",
    "tangchk_ch.save(\"../img/tangchk_ch.png\", scale_factor=2.0) "
   ]
  },
  {
   "cell_type": "markdown",
   "metadata": {},
   "source": [
    "![title](../img/tangchk_ch.png)"
   ]
  },
  {
   "cell_type": "markdown",
   "metadata": {},
   "source": [
    "### CSO reference to the Tangerine Dashboard\n",
    "\n",
    "_In the last term, how often did you look at the Tangerine Dashboard?_\n",
    "\n",
    "The data that is generated by the CSOs' lesson observations is uploaded to the cloud and reported on the [Tangerine Dashboard](http://tools.tusome.tangerinecentral.org/_csv/report/group-national_tablet_program/00b0a09a-2a9f-baca-2acb-c6264d4247cb,c835fc38-de99-d064-59d3-e772ccefcf7d/2018/1/ep8yqMKT.html#tutor). This Dashboard is reviewed by senior management within the Ministry of Education: the Principal Secretary, his Directors, and their deputies. It is also sent to the Directors of MOE and TSC at the County level. As these latter personnel oversee the CSOs, the Dashboard may have an effect ..."
   ]
  },
  {
   "cell_type": "code",
   "execution_count": null,
   "metadata": {},
   "outputs": [],
   "source": []
  },
  {
   "cell_type": "code",
   "execution_count": null,
   "metadata": {},
   "outputs": [],
   "source": []
  }
 ],
 "metadata": {
  "jupytext_formats": "py:percent",
  "kernelspec": {
   "display_name": "Python 3",
   "language": "python",
   "name": "python3"
  },
  "language_info": {
   "codemirror_mode": {
    "name": "ipython",
    "version": 3
   },
   "file_extension": ".py",
   "mimetype": "text/x-python",
   "name": "python",
   "nbconvert_exporter": "python",
   "pygments_lexer": "ipython3",
   "version": "3.6.6"
  },
  "toc": {
   "nav_menu": {},
   "number_sections": true,
   "sideBar": true,
   "skip_h1_title": false,
   "title_cell": "Table of Contents",
   "title_sidebar": "Contents",
   "toc_cell": false,
   "toc_position": {},
   "toc_section_display": true,
   "toc_window_display": false
  },
  "varInspector": {
   "cols": {
    "lenName": 16,
    "lenType": 16,
    "lenVar": 40
   },
   "kernels_config": {
    "python": {
     "delete_cmd_postfix": "",
     "delete_cmd_prefix": "del ",
     "library": "var_list.py",
     "varRefreshCmd": "print(var_dic_list())"
    },
    "r": {
     "delete_cmd_postfix": ") ",
     "delete_cmd_prefix": "rm(",
     "library": "var_list.r",
     "varRefreshCmd": "cat(var_dic_list()) "
    }
   },
   "oldHeight": 122,
   "position": {
    "height": "144px",
    "left": "1650px",
    "right": "20px",
    "top": "120px",
    "width": "250px"
   },
   "types_to_exclude": [
    "module",
    "function",
    "builtin_function_or_method",
    "instance",
    "_Feature"
   ],
   "varInspector_section_display": "block",
   "window_display": false
  }
 },
 "nbformat": 4,
 "nbformat_minor": 2
}
