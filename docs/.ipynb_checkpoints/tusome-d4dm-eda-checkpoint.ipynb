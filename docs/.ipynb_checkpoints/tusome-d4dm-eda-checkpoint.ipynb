{
 "cells": [
  {
   "cell_type": "code",
   "execution_count": 1,
   "metadata": {
    "ExecuteTime": {
     "end_time": "2018-11-03T12:11:46.772282Z",
     "start_time": "2018-11-03T12:11:35.455236Z"
    },
    "scrolled": false
   },
   "outputs": [],
   "source": [
    "# Importing required libraries and setting display options\n",
    "import pandas as pd\n",
    "import numpy as np\n",
    "import altair as alt\n",
    "from altair import datum, expr\n",
    "import matplotlib.pyplot as plt\n",
    "import datetime as dt\n",
    "alt.renderers.enable('notebook')\n",
    "pd.set_option('display.max_colwidth', -1)"
   ]
  },
  {
   "cell_type": "code",
   "execution_count": 2,
   "metadata": {
    "ExecuteTime": {
     "end_time": "2018-11-03T12:11:47.551866Z",
     "start_time": "2018-11-03T12:11:46.776285Z"
    },
    "scrolled": false
   },
   "outputs": [],
   "source": [
    "# Reading in data\n",
    "tchrs = pd.read_stata(\"../src/teacher_data.dta\", convert_categoricals=False)\n",
    "csos = pd.read_stata(\"../src/cso_data.dta\", convert_categoricals=False)\n",
    "dirs = pd.read_stata(\"../src/director_data.dta\", convert_categoricals=False)"
   ]
  },
  {
   "cell_type": "code",
   "execution_count": 3,
   "metadata": {
    "ExecuteTime": {
     "end_time": "2018-11-03T12:11:47.565868Z",
     "start_time": "2018-11-03T12:11:47.556371Z"
    },
    "scrolled": false
   },
   "outputs": [
    {
     "name": "stdout",
     "output_type": "stream",
     "text": [
      "The Teacher dataset contains 851 records\n",
      "The CSO dataset contains 157 records\n",
      "The Director dataset contains 257 records\n"
     ]
    }
   ],
   "source": [
    "# Reporting interview counts by dataset\n",
    "print(f\"The Teacher dataset contains {tchrs.shape[0]} records\\nThe CSO dataset contains {csos.shape[0]} records\\nThe Director dataset contains {dirs.shape[0]} records\")"
   ]
  },
  {
   "cell_type": "markdown",
   "metadata": {
    "ExecuteTime": {
     "end_time": "2018-10-12T13:38:15.821761Z",
     "start_time": "2018-10-12T13:38:15.784758Z"
    }
   },
   "source": [
    "The main questions we want to ask are documented in the [analysis plan](https://github.com/TSSlade/tusome-d4dm/blob/master/analysis_plan.md), which is an evolving document."
   ]
  },
  {
   "cell_type": "markdown",
   "metadata": {
    "ExecuteTime": {
     "end_time": "2018-10-12T13:38:15.821761Z",
     "start_time": "2018-10-12T13:38:15.784758Z"
    }
   },
   "source": [
    "## Teacher Instrument"
   ]
  },
  {
   "cell_type": "markdown",
   "metadata": {},
   "source": [
    "Here we begin exploring the data we obtained from interviewing the teachers."
   ]
  },
  {
   "cell_type": "code",
   "execution_count": 4,
   "metadata": {
    "ExecuteTime": {
     "end_time": "2018-11-03T12:11:47.586368Z",
     "start_time": "2018-11-03T12:11:47.571369Z"
    },
    "scrolled": false
   },
   "outputs": [],
   "source": [
    "# Counting teacher records\n",
    "tchr_ct = tchrs.shape[0]"
   ]
  },
  {
   "cell_type": "markdown",
   "metadata": {
    "ExecuteTime": {
     "end_time": "2018-10-20T18:13:56.874778Z",
     "start_time": "2018-10-20T18:13:56.859149Z"
    }
   },
   "source": [
    "Our dataset contains interviews with {{tchr_ct}} teachers."
   ]
  },
  {
   "cell_type": "markdown",
   "metadata": {},
   "source": [
    "### Teachers visited previously by CSOs\n",
    "\n",
    "The underlying assumption of most of the interview protocol is that the teacher has had a coaching interaction with a CSO. The first issue we should then address is the proportion of teachers who have received a visit from a CSO."
   ]
  },
  {
   "cell_type": "code",
   "execution_count": 5,
   "metadata": {
    "ExecuteTime": {
     "end_time": "2018-11-03T12:11:47.631370Z",
     "start_time": "2018-11-03T12:11:47.624366Z"
    },
    "scrolled": false
   },
   "outputs": [],
   "source": [
    "# Counting teachers never visited\n",
    "never = 100 * ((tchr_ct - tchrs.vis_before.sum())/tchr_ct)"
   ]
  },
  {
   "cell_type": "markdown",
   "metadata": {
    "ExecuteTime": {
     "end_time": "2018-10-20T18:13:56.874778Z",
     "start_time": "2018-10-20T18:13:56.859149Z"
    }
   },
   "source": [
    "We see that {{np.round(never, decimals=2)}}% of teachers interviewed had never been previously visited by CSOs."
   ]
  },
  {
   "cell_type": "markdown",
   "metadata": {},
   "source": [
    "### Number of coaching visits in the last academic term\n",
    "\n",
    "We have confirmed that the overwhelming majority of our teachers have been visited. We can have greater confidence in the responses they give us over the course of the interview if they have had a visit in the recent past. We therefore asked the teachers to tell us how many times they had been visited by their CSO in the preceding academic term (Term 2 of the Kenyan academic year, running from roughly May-July 2018)."
   ]
  },
  {
   "cell_type": "code",
   "execution_count": 6,
   "metadata": {
    "ExecuteTime": {
     "end_time": "2018-11-03T12:11:58.268090Z",
     "start_time": "2018-11-03T12:11:47.648370Z"
    },
    "scrolled": false
   },
   "outputs": [],
   "source": [
    "# Generating CSO visit counts\n",
    "tchrs.vis_before_freq = tchrs.vis_before_freq.replace({55: \">4x\"})\n",
    "viscount_df = pd.DataFrame(tchrs.vis_before_freq.value_counts(sort=False)).rename_axis(\"prevterm_vis\").reset_index()\n",
    "viscount_df[\"pct\"] = np.round(100 * (viscount_df.vis_before_freq / tchrs.vis_before.sum()), decimals=2)\n",
    "more_than_monthly = viscount_df[viscount_df.prevterm_vis.isin([4, \">4x\"])].pct.sum()\n",
    "\n",
    "csovisct_ch = alt.Chart(viscount_df, title=\"# of times CSO visited in preceding term\").mark_bar().encode(\n",
    "    alt.Y(\"prevterm_vis:O\", title=\"CSO visits last term\"),\n",
    "    alt.X(\"vis_before_freq:Q\", title=\"# Teachers\"),\n",
    "    tooltip=\"pct\")\n",
    "\n",
    "csovisct_ch.save(\"../img/csovisct_ch.svg\", scale_factor=2.0)"
   ]
  },
  {
   "cell_type": "markdown",
   "metadata": {},
   "source": [
    "![CSO Visits](../img/csovisct_ch.svg)"
   ]
  },
  {
   "cell_type": "markdown",
   "metadata": {
    "ExecuteTime": {
     "end_time": "2018-10-20T19:51:28.176045Z",
     "start_time": "2018-10-20T19:51:28.127801Z"
    }
   },
   "source": [
    "We see that roughly {{int(viscount_df[viscount_df.prevterm_vis==0].pct[0])}}% of the respondents, while they'd been visited by a CSO in the past, had not been visited in the preceding term. However, roughly {{int(viscount_df[viscount_df.prevterm_vis.isin([1, 2, 3])].pct.sum())}}% of the respondents were visited between once per term and once per month. Roughly {{int(more_than_monthly)}}% of the teachers were visited by their CSOs more frequently than monthly."
   ]
  },
  {
   "cell_type": "markdown",
   "metadata": {},
   "source": [
    "### CSOs' activities during last coaching visit\n",
    "\n",
    "We are interested in knowing what CSOs are focusing on when they pay a visit to a school. Are they observing a lesson? Are they giving feedback to the teacher? Do they assess pupils' fluency rates? Do they take advantage of their presence at the school to meet with the head teacher (HT)? What kinds of things are they doing _besides_ these activities?"
   ]
  },
  {
   "cell_type": "code",
   "execution_count": 7,
   "metadata": {
    "ExecuteTime": {
     "end_time": "2018-11-03T12:11:58.396588Z",
     "start_time": "2018-11-03T12:11:58.319092Z"
    },
    "scrolled": false
   },
   "outputs": [
    {
     "data": {
      "text/html": [
       "<div>\n",
       "<style scoped>\n",
       "    .dataframe tbody tr th:only-of-type {\n",
       "        vertical-align: middle;\n",
       "    }\n",
       "\n",
       "    .dataframe tbody tr th {\n",
       "        vertical-align: top;\n",
       "    }\n",
       "\n",
       "    .dataframe thead th {\n",
       "        text-align: right;\n",
       "    }\n",
       "</style>\n",
       "<table border=\"1\" class=\"dataframe\">\n",
       "  <thead>\n",
       "    <tr style=\"text-align: right;\">\n",
       "      <th></th>\n",
       "      <th>activities</th>\n",
       "      <th>tchrs_reporting</th>\n",
       "      <th>pct</th>\n",
       "    </tr>\n",
       "  </thead>\n",
       "  <tbody>\n",
       "    <tr>\n",
       "      <th>0</th>\n",
       "      <td>Assessed pupils</td>\n",
       "      <td>705</td>\n",
       "      <td>83.62</td>\n",
       "    </tr>\n",
       "    <tr>\n",
       "      <th>1</th>\n",
       "      <td>Talked to HT</td>\n",
       "      <td>533</td>\n",
       "      <td>63.22</td>\n",
       "    </tr>\n",
       "    <tr>\n",
       "      <th>2</th>\n",
       "      <td>Provided feedback on lesson</td>\n",
       "      <td>751</td>\n",
       "      <td>89.07</td>\n",
       "    </tr>\n",
       "    <tr>\n",
       "      <th>3</th>\n",
       "      <td>Had general talk</td>\n",
       "      <td>381</td>\n",
       "      <td>45.19</td>\n",
       "    </tr>\n",
       "    <tr>\n",
       "      <th>4</th>\n",
       "      <td>Other</td>\n",
       "      <td>133</td>\n",
       "      <td>15.77</td>\n",
       "    </tr>\n",
       "  </tbody>\n",
       "</table>\n",
       "</div>"
      ],
      "text/plain": [
       "                    activities  tchrs_reporting    pct\n",
       "0  Assessed pupils              705              83.62\n",
       "1  Talked to HT                 533              63.22\n",
       "2  Provided feedback on lesson  751              89.07\n",
       "3  Had general talk             381              45.19\n",
       "4  Other                        133              15.77"
      ]
     },
     "execution_count": 7,
     "metadata": {},
     "output_type": "execute_result"
    }
   ],
   "source": [
    "# Generating table of CSOs' activities during visits\n",
    "visact_df = pd.DataFrame.from_dict({\"activities\": [\"Assessed pupils\",\n",
    "                                                   \"Talked to HT\",\n",
    "                                                   \"Provided feedback on lesson\",\n",
    "                                                   \"Had general talk\",\n",
    "                                                   \"Other\"],\n",
    "                                    \"tchrs_reporting\": [tchrs[tchrs.vis_before != 0].vis_act_kids.sum(),\n",
    "                                                        tchrs[tchrs.vis_before != 0].vis_act_ht.sum(),\n",
    "                                                        tchrs[tchrs.vis_before != 0].vis_act_fdbk.sum(),\n",
    "                                                        tchrs[tchrs.vis_before != 0].vis_act_gen.sum(),\n",
    "                                                        tchrs[tchrs.vis_before != 0].vis_act_other.sum()]})\n",
    "visact_df[\"pct\"] = np.round(visact_df.tchrs_reporting.apply(lambda x: 100 * (x/(tchr_ct - never))), decimals=2)\n",
    "visact_df"
   ]
  },
  {
   "cell_type": "code",
   "execution_count": 8,
   "metadata": {
    "ExecuteTime": {
     "end_time": "2018-11-03T12:12:06.272674Z",
     "start_time": "2018-11-03T12:11:58.402092Z"
    },
    "scrolled": false
   },
   "outputs": [],
   "source": [
    "# Generating the graph of CSOs' activities during the previous visit\n",
    "csoprevvis_ch = alt.Chart(visact_df, title=\"CSO activities during previous visit\").mark_bar().encode(\n",
    "alt.Y(\"activities:O\", \n",
    "      title=\"Activities named\",\n",
    "      sort = alt.EncodingSortField(field=\"tchrs_reporting\", op=\"values\", order=\"ascending\")),\n",
    "alt.X(\"pct:Q\",\n",
    "      title=\"% of teachers responding\"),\n",
    "tooltip = \"tchrs_reporting\")\n",
    "csoprevvis_ch.save(\"../img/csoprevvis_ch.svg\", scale_factor=2.0)"
   ]
  },
  {
   "cell_type": "markdown",
   "metadata": {},
   "source": [
    "![CSOs' Activities](../img/csoprevvis_ch.svg)"
   ]
  },
  {
   "cell_type": "markdown",
   "metadata": {
    "ExecuteTime": {
     "end_time": "2018-10-21T15:02:49.246011Z",
     "start_time": "2018-10-21T15:02:49.226011Z"
    }
   },
   "source": [
    "Nearly {{int(np.ceil(visact_df.pct.max()))}}% of teachers report that when the CSO last visited, s/he provided feedback on a lesson. A fairly comparable proportion said that the CSO assessed pupils. Neither of these is surprising, as those activities are key features of a \"reimbursable\" or \"valid\" lesson observation. If anything, it is interesting that these numbers are not higher, given that we have excluded from our denominator those teachers who said they had never received a visit from the CSO.\n",
    "\n",
    "Of note is the relatively low proportion of teachers reporting the CSO had spoken with the HT. While Tusome encourages CSOs to speak with HTs as part of the standard protocol for visiting a school, it is not explicitly considered as a factor for reimbursement of transportation costs for visiting that school.\n",
    "\n",
    "That said, it is also possible that teachers may simply not be aware of activities taking place outside of their classroom. They and their classrooms would have been the objects of the lesson observation and fluency assessment; they may not have as much visibility into what happened before or after the CSO entered their classroom.\n",
    "\n",
    "A little over {{int(np.floor(visact_df[visact_df.activities==\"Other\"].pct))}}% of teachers reported the CSO conducted an activity that was not listed in the questionnaire. Below we have sampled 20 of the things that they reported which were not captured in the questionnaire."
   ]
  },
  {
   "cell_type": "code",
   "execution_count": 9,
   "metadata": {
    "ExecuteTime": {
     "end_time": "2018-11-03T12:12:06.323189Z",
     "start_time": "2018-11-03T12:12:06.301675Z"
    },
    "scrolled": true
   },
   "outputs": [
    {
     "name": "stdout",
     "output_type": "stream",
     "text": [
      "74     Checked on CBC infusion                                                                                                                                             \n",
      "583    I see him move around the class as he looks at the charts on the wall                                                                                               \n",
      "491    shortage of books                                                                                                                                                   \n",
      "766    He sits back, watch as I teach, check pupils books, lesson plans, teaching notes and schemes of work.                                                               \n",
      "635    To improve on resources in class.                                                                                                                                   \n",
      "108    The CSO identified slow and non readers and guide me to suport them                                                                                                 \n",
      "584    I was given the strength and the weakness of my lesson and he guided me to improve                                                                                  \n",
      "49     I was asked to give him the register,he looked at the books whether they are marked and asked about the storage of the books and covering                           \n",
      "125    She observses the lessons and even modeling the lesson on areas I am not able to teach properly.                                                                    \n",
      "648    guidance on preparation of teacher documentation                                                                                                                    \n",
      "697    the CSO spoke to head teacher,gave me feedback on my class and assesed pupls                                                                                        \n",
      "257    \"the CSO does check my professional documents i.e. lesson plan and schemes of work                                                                                  \n",
      "160    Talks to other staff memebers.                                                                                                                                      \n",
      "253    CSO talked to the school drop outs in lower grades and encourages them to attend school regularly and even promised to award those who will attend school regularly.\n",
      "91     She sits in class and observes the lesson and also looks at the books at the end of the lesson.                                                                     \n",
      "734    The CSO assesssed me teaching tusome lessons and gave me feedback and at the same time he assessed three of my learners whom he picked randomly                     \n",
      "267    CSO checks attendance register, performs TPAD activities                                                                                                            \n",
      "845    Observed lessons                                                                                                                                                    \n",
      "771    Talked with other members of staff                                                                                                                                  \n",
      "463    He trained me before I went to class..After assssing 3 pupils he calls me for feedback sesssion that was so friendly.He modelled areas that I didn't well.          \n",
      "Name: vis_act_other_det, dtype: object\n"
     ]
    }
   ],
   "source": [
    "# Generating a list of the 'other' activities CSOs did when visiting\n",
    "print(tchrs[tchrs.vis_act_other_det.notna() & (tchrs.vis_act_other_det != \"\")].vis_act_other_det.sample(20))"
   ]
  },
  {
   "cell_type": "markdown",
   "metadata": {},
   "source": [
    "### CSOs using tablets or pen & paper during observation\n",
    "\n",
    "The _Tangerine:Tutor_ app was developed with the intent and belief that CSOs would use it _while observing_ the lesson. However, Tusome staff report that not all CSOs find the tablet interface comfortable, and not all use it with ease. So we asked teachers to report whether CSOs use the tablets during the lesson observation, and also whether they use pen and paper."
   ]
  },
  {
   "cell_type": "markdown",
   "metadata": {
    "ExecuteTime": {
     "end_time": "2018-10-21T15:27:58.583363Z",
     "start_time": "2018-10-21T15:27:58.575363Z"
    }
   },
   "source": [
    "Roughly {{int(np.round(100 * (tchrs.cso_usetab_yn.sum()/tchr_ct), decimals=2))}}% of teachers reported that the CSOs use tablets during lesson observation; roughly {{int(np.round(100 * (tchrs.cso_usepcl_yn.sum()/tchr_ct), decimals=2))}}% of teachers reported the CSOs use pen and paper during the lesson observation."
   ]
  },
  {
   "cell_type": "code",
   "execution_count": 10,
   "metadata": {
    "ExecuteTime": {
     "end_time": "2018-11-03T12:12:08.685042Z",
     "start_time": "2018-11-03T12:12:06.362191Z"
    },
    "scrolled": false
   },
   "outputs": [
    {
     "data": {
      "text/html": [
       "<div>\n",
       "<style scoped>\n",
       "    .dataframe tbody tr th:only-of-type {\n",
       "        vertical-align: middle;\n",
       "    }\n",
       "\n",
       "    .dataframe tbody tr th {\n",
       "        vertical-align: top;\n",
       "    }\n",
       "\n",
       "    .dataframe thead th {\n",
       "        text-align: right;\n",
       "    }\n",
       "</style>\n",
       "<table border=\"1\" class=\"dataframe\">\n",
       "  <thead>\n",
       "    <tr style=\"text-align: right;\">\n",
       "      <th>Uses pen and paper</th>\n",
       "      <th>No</th>\n",
       "      <th>Yes</th>\n",
       "    </tr>\n",
       "    <tr>\n",
       "      <th>Uses tablet</th>\n",
       "      <th></th>\n",
       "      <th></th>\n",
       "    </tr>\n",
       "  </thead>\n",
       "  <tbody>\n",
       "    <tr>\n",
       "      <th>No</th>\n",
       "      <td>3</td>\n",
       "      <td>17</td>\n",
       "    </tr>\n",
       "    <tr>\n",
       "      <th>Yes</th>\n",
       "      <td>74</td>\n",
       "      <td>672</td>\n",
       "    </tr>\n",
       "  </tbody>\n",
       "</table>\n",
       "</div>"
      ],
      "text/plain": [
       "Uses pen and paper  No  Yes\n",
       "Uses tablet                \n",
       "No                  3   17 \n",
       "Yes                 74  672"
      ]
     },
     "execution_count": 10,
     "metadata": {},
     "output_type": "execute_result"
    }
   ],
   "source": [
    "# Generating the table about usage of tablets and pencils\n",
    "tabs_n_pencils = pd.crosstab(tchrs.cso_usetab_yn, tchrs.cso_usepcl_yn)\n",
    "tabs_n_pencils = tabs_n_pencils.rename_axis(\"Uses tablet\").rename_axis(\"Uses pen and paper\", axis=\"columns\")\n",
    "tabs_n_pencils = tabs_n_pencils.rename({0: \"No\", 1: \"Yes\"}, axis=\"columns\").rename({0: \"No\", 1: \"Yes\"}, axis=\"index\")\n",
    "tabs_n_pencils"
   ]
  },
  {
   "cell_type": "markdown",
   "metadata": {},
   "source": [
    "We see that the overwhelming majority of CSOs are using both tablets _and_ pen-and-paper systems when observing the teachers' lesson. There have historically been some instruments/data that CSOs were tasked by TSC to complete that were not rendered in _Tangerine_ format on the tablets; as of midway through Term 3 of the 2018 academic year, those instruments (mostly for the TSC's TPAD \\[Teacher Performance Appraisal and Development\\] project) are now in _Tangerine_. While the use of pen and paper does not appear to have come at the expense of using the tablets - indeed, it appears to be complementary, as nearly all CSOs are using both - Tusome should nonetheless follow up on these reports of CSOs' usage of pen and paper to understand the roots of the practice."
   ]
  },
  {
   "cell_type": "markdown",
   "metadata": {},
   "source": [
    "### CSOs' usage of the tablets to assess pupils' performance\n",
    "\n",
    "Tusome's coaching protocol requires CSOs to randomly select three children from the classroom at the end of the lesson to assess their reading fluency. The prompt the children are to read from is a laminated sheet of paper with a short passage printed on it; the CSOs are instructed to use the tablet to record the children's responses. The tablet is then able to calculate fluency rates and store those as data associated with that observation.\n",
    "\n",
    "Approximately {{int(np.round(100 * (tchrs.cso_usetab_pup_yn.sum()/tchr_ct), decimals=2))}}% of the teachers reported that CSOs use the tablets to assess children's reading fluency."
   ]
  },
  {
   "cell_type": "markdown",
   "metadata": {},
   "source": [
    "### Teachers' experience of feedback, and CSOs' use of tablets during feedback\n",
    "\n",
    "Tusome asked teachers whether the CSO gave feedback on the lesson last time s/he paid a visit, whether s/he used the tablet to do so, and whether the teacher was able to recall specific feedback the CSO provided."
   ]
  },
  {
   "cell_type": "code",
   "execution_count": 11,
   "metadata": {
    "ExecuteTime": {
     "end_time": "2018-11-03T12:12:08.731045Z",
     "start_time": "2018-11-03T12:12:08.702078Z"
    },
    "scrolled": false
   },
   "outputs": [
    {
     "data": {
      "text/html": [
       "<div>\n",
       "<style scoped>\n",
       "    .dataframe tbody tr th:only-of-type {\n",
       "        vertical-align: middle;\n",
       "    }\n",
       "\n",
       "    .dataframe tbody tr th {\n",
       "        vertical-align: top;\n",
       "    }\n",
       "\n",
       "    .dataframe thead th {\n",
       "        text-align: right;\n",
       "    }\n",
       "</style>\n",
       "<table border=\"1\" class=\"dataframe\">\n",
       "  <thead>\n",
       "    <tr style=\"text-align: right;\">\n",
       "      <th></th>\n",
       "      <th>event</th>\n",
       "      <th>ct</th>\n",
       "      <th>pct</th>\n",
       "    </tr>\n",
       "  </thead>\n",
       "  <tbody>\n",
       "    <tr>\n",
       "      <th>0</th>\n",
       "      <td>CSO gave feedback</td>\n",
       "      <td>771.0</td>\n",
       "      <td>90.6</td>\n",
       "    </tr>\n",
       "    <tr>\n",
       "      <th>1</th>\n",
       "      <td>CSO used a tablet for feedback</td>\n",
       "      <td>692.0</td>\n",
       "      <td>81.3</td>\n",
       "    </tr>\n",
       "    <tr>\n",
       "      <th>2</th>\n",
       "      <td>Tchr remembers feedback</td>\n",
       "      <td>740.0</td>\n",
       "      <td>87.0</td>\n",
       "    </tr>\n",
       "  </tbody>\n",
       "</table>\n",
       "</div>"
      ],
      "text/plain": [
       "                            event     ct   pct\n",
       "0  CSO gave feedback               771.0  90.6\n",
       "1  CSO used a tablet for feedback  692.0  81.3\n",
       "2  Tchr remembers feedback         740.0  87.0"
      ]
     },
     "execution_count": 11,
     "metadata": {},
     "output_type": "execute_result"
    }
   ],
   "source": [
    "# Generating table of CSO use of tablets for feedback\n",
    "feedback = {\"CSO gave feedback\": tchrs.cso_gave_fdbk_yn.sum(),\n",
    "            \"CSO used a tablet for feedback\": tchrs.cso_usetab_fdbk_yn.sum(),\n",
    "            \"Tchr remembers feedback\": tchrs.cso_fdbk_remember.sum()}\n",
    "fdbk_df = pd.DataFrame.from_dict(feedback, orient=\"index\", columns=[\"ct\"])\n",
    "fdbk_df[\"pct\"] = 100 * np.round(fdbk_df[\"ct\"] / tchrs.shape[0], decimals=3)\n",
    "fdbk_df = fdbk_df.rename_axis(\"event\").reset_index()\n",
    "fdbk_df"
   ]
  },
  {
   "cell_type": "markdown",
   "metadata": {
    "ExecuteTime": {
     "end_time": "2018-10-25T04:37:24.468447Z",
     "start_time": "2018-10-25T04:37:24.452443Z"
    }
   },
   "source": [
    "Below we have sampled 20 of the things that they reported which were not captured in the questionnaire."
   ]
  },
  {
   "cell_type": "code",
   "execution_count": 12,
   "metadata": {
    "ExecuteTime": {
     "end_time": "2018-11-03T12:12:08.756061Z",
     "start_time": "2018-11-03T12:12:08.737042Z"
    },
    "scrolled": true
   },
   "outputs": [
    {
     "name": "stdout",
     "output_type": "stream",
     "text": [
      "85     In English, he talked about sounds. There are some sounds that are challenging to me. So he helped me practice the sounds on his phone. He told me to download the sounds on my phone so that I can practice alot.                                     \n",
      "788    I was new to the program, i had forgot to do prediction and he guided me during feedback session. I had also forgotten to give homework and he advised it is very important to give and mark homework                                                  \n",
      "151    reinforced my understanding on the things i had done well during teaching,told me to follow the steps of teaching comprehension/ predictions, advised me on how to ensure that all pupils read to the expected fluency                                 \n",
      "517    The CSO gave me feedback on the reading levels of my learners.                                                                                                                                                                                         \n",
      "261    CSO told me to manage time well. I had taken a lot of time and he explained to me how I can save time.He explained how I can support slow readers in class by creating more time for reading activities.                                               \n",
      "340    I have learnt proper letter name and sounds                                                                                                                                                                                                            \n",
      "819    The CSO told me that the lesson was well taught and he advised me to improve on the part of reading in that i was to follow the I do/we do/you do/,likewise I was told that that during reading pupils needed to be given time for individual practice.\n",
      "402    Guided me how to teach prediction activity                                                                                                                                                                                                             \n",
      "308    Infusion of CBC                                                                                                                                                                                                                                        \n",
      "328    I obeyed the script, that is, followed the steps of teaching the lesson well. Create my own remedial time to assist slow learners.                                                                                                                     \n",
      "804    CSO told me to improve on reading, that is to support pupils so that they get to read fluently.                                                                                                                                                        \n",
      "498    she demonstrated the i/we/you do, she guided me on retelling - to use uestions to help the learners remember the story                                                                                                                                 \n",
      "374    Do more in blending. Encourage learners to sound the letters well                                                                                                                                                                                      \n",
      "726    asked me to teach with perky pace                                                                                                                                                                                                                      \n",
      "257    The CSO shared with me the lesson duration, number of words read by learners selected by random selection                                                                                                                                              \n",
      "651    pupils enjoyed the reading assessment                                                                                                                                                                                                                  \n",
      "545    She told me to support slow learners to read word by first blending before reading sentence cards                                                                                                                                                      \n",
      "71     He told me to follow Teachers guide and assist slow pupils                                                                                                                                                                                             \n",
      "827    the CSO advised me to check on the time spent during the lesson, i was told to improve on the use of I do/we do/you do/                                                                                                                                \n",
      "146    The CSO showed me how to give a child immediate formative feedback.                                                                                                                                                                                    \n",
      "Name: cso_fdbk_det, dtype: object\n"
     ]
    }
   ],
   "source": [
    "# Sample of details regarding the details of feedback CSOs provided\n",
    "print(tchrs[tchrs.cso_fdbk_det.notna() & (tchrs.cso_fdbk_det != \"\")].cso_fdbk_det.sample(20))"
   ]
  },
  {
   "cell_type": "markdown",
   "metadata": {
    "ExecuteTime": {
     "end_time": "2018-10-21T16:01:03.622834Z",
     "start_time": "2018-10-21T16:01:03.615837Z"
    }
   },
   "source": [
    "The tablets come equipped with various aids that CSOs could use to help coach teachers. In addition to the contents of the auto-generated feedback, CSOs could use the _Papaya_ application to model pronunciation of letter sounds, the videos demonstrating effective lesson delivery, etc. Of the teachers reporting CSOs provided feedback of some kind, {{int(100* (tchrs.cso_fdbk_showtab_yn.sum() / tchrs.vis_act_fdbk.sum()))}}% indicated that the CSO showed them something directly on the tablet."
   ]
  },
  {
   "cell_type": "code",
   "execution_count": 13,
   "metadata": {
    "ExecuteTime": {
     "end_time": "2018-11-03T12:12:08.827072Z",
     "start_time": "2018-11-03T12:12:08.772072Z"
    },
    "scrolled": false
   },
   "outputs": [
    {
     "data": {
      "text/html": [
       "<div>\n",
       "<style scoped>\n",
       "    .dataframe tbody tr th:only-of-type {\n",
       "        vertical-align: middle;\n",
       "    }\n",
       "\n",
       "    .dataframe tbody tr th {\n",
       "        vertical-align: top;\n",
       "    }\n",
       "\n",
       "    .dataframe thead th {\n",
       "        text-align: right;\n",
       "    }\n",
       "</style>\n",
       "<table border=\"1\" class=\"dataframe\">\n",
       "  <thead>\n",
       "    <tr style=\"text-align: right;\">\n",
       "      <th></th>\n",
       "      <th>resources</th>\n",
       "      <th>tchrs_reporting</th>\n",
       "      <th>pct</th>\n",
       "    </tr>\n",
       "  </thead>\n",
       "  <tbody>\n",
       "    <tr>\n",
       "      <th>0</th>\n",
       "      <td>Tips from feedback screen</td>\n",
       "      <td>172</td>\n",
       "      <td>22.90</td>\n",
       "    </tr>\n",
       "    <tr>\n",
       "      <th>1</th>\n",
       "      <td>Pupils' reading fluency</td>\n",
       "      <td>272</td>\n",
       "      <td>36.22</td>\n",
       "    </tr>\n",
       "    <tr>\n",
       "      <th>2</th>\n",
       "      <td>Videos of lesson delivery</td>\n",
       "      <td>131</td>\n",
       "      <td>17.44</td>\n",
       "    </tr>\n",
       "    <tr>\n",
       "      <th>3</th>\n",
       "      <td>Letter sounds in Papaya</td>\n",
       "      <td>232</td>\n",
       "      <td>30.89</td>\n",
       "    </tr>\n",
       "    <tr>\n",
       "      <th>4</th>\n",
       "      <td>Other</td>\n",
       "      <td>57</td>\n",
       "      <td>7.59</td>\n",
       "    </tr>\n",
       "  </tbody>\n",
       "</table>\n",
       "</div>"
      ],
      "text/plain": [
       "                   resources  tchrs_reporting    pct\n",
       "0  Tips from feedback screen  172              22.90\n",
       "1  Pupils' reading fluency    272              36.22\n",
       "2  Videos of lesson delivery  131              17.44\n",
       "3  Letter sounds in Papaya    232              30.89\n",
       "4  Other                      57               7.59 "
      ]
     },
     "execution_count": 13,
     "metadata": {},
     "output_type": "execute_result"
    }
   ],
   "source": [
    "# Generating dataframe of feedback shown by CSOs to teachers\n",
    "fdbk_shown_df = pd.DataFrame.from_dict({\"resources\": [\"Tips from feedback screen\",\n",
    "                                                   \"Pupils' reading fluency\",\n",
    "                                                   \"Videos of lesson delivery\",\n",
    "                                                   \"Letter sounds in Papaya\",\n",
    "                                                   \"Other\"],\n",
    "                                    \"tchrs_reporting\":[\n",
    "                                        tchrs[tchrs.vis_act_fdbk != 0].cso_shw_tips.sum(),\n",
    "                                        tchrs[tchrs.vis_act_fdbk != 0].cso_shw_fluency.sum(),\n",
    "                                        tchrs[tchrs.vis_act_fdbk != 0].cso_shw_video.sum(),\n",
    "                                        tchrs[tchrs.vis_act_fdbk != 0].cso_shw_lsnd.sum(),\n",
    "                                        tchrs[tchrs.vis_act_fdbk != 0].cso_shw_other.sum()]})\n",
    "fdbk_shown_df[\"pct\"] = np.round(\n",
    "    fdbk_shown_df.tchrs_reporting.apply(\n",
    "    lambda x: 100 * (x/visact_df[visact_df.activities==\"Provided feedback on lesson\"].tchrs_reporting)),\n",
    "    decimals=2)\n",
    "fdbk_shown_df"
   ]
  },
  {
   "cell_type": "code",
   "execution_count": 14,
   "metadata": {
    "ExecuteTime": {
     "end_time": "2018-11-03T12:12:14.760744Z",
     "start_time": "2018-11-03T12:12:08.830076Z"
    },
    "scrolled": true
   },
   "outputs": [],
   "source": [
    "# Generating chart of tablet-based resources shown to teachers\n",
    "tabres_ch = alt.Chart(fdbk_shown_df, title=\"Tablet-based resources shown to Teachers by CSOs\").mark_bar().encode(\n",
    "alt.Y(\"resources:O\", \n",
    "      title=\"Resources named\",\n",
    "      sort = alt.EncodingSortField(field=\"tchrs_reporting\", op=\"values\", order=\"ascending\")),\n",
    "alt.X(\"pct:Q\",\n",
    "      title=\"% of teachers responding\"),\n",
    "tooltip = \"tchrs_reporting\")\n",
    "tabres_ch.save(\"../img/tabres_ch.svg\", scale_factor=2.0)"
   ]
  },
  {
   "cell_type": "markdown",
   "metadata": {
    "ExecuteTime": {
     "end_time": "2018-10-25T04:51:04.504886Z",
     "start_time": "2018-10-25T04:51:04.494938Z"
    }
   },
   "source": [
    "![Tablet Resources Chart](../img/tabres_ch.svg)"
   ]
  },
  {
   "cell_type": "markdown",
   "metadata": {
    "ExecuteTime": {
     "end_time": "2018-10-25T04:51:04.504886Z",
     "start_time": "2018-10-25T04:51:04.494938Z"
    }
   },
   "source": [
    "Overall, fewer than 50% of teachers indicated that CSOs showed them something on the tablet as part of the feedback session. Where the CSO showed something to the teacher, it was most frequently pupils' reading fluency (at {{int(fdbk_shown_df[fdbk_shown_df.resources==\"Pupils' reading fluency\"].pct)}}%), with Papaya letter sounds the next most common (at {{int(fdbk_shown_df[fdbk_shown_df.resources==\"Letter sounds in Papaya\"].pct)}}%)."
   ]
  },
  {
   "cell_type": "markdown",
   "metadata": {
    "ExecuteTime": {
     "end_time": "2018-10-25T05:02:19.094526Z",
     "start_time": "2018-10-25T05:02:19.086535Z"
    }
   },
   "source": [
    "**N.B.**: <span style=\"color:red\"> Update cell w literate programming re: which activity is in the lead. (Abstract one level further.)</span>\n",
    "\n",
    "Below we have sampled 20 of the things that they reported which were not captured in the questionnaire."
   ]
  },
  {
   "cell_type": "code",
   "execution_count": 15,
   "metadata": {
    "ExecuteTime": {
     "end_time": "2018-11-03T12:12:14.815254Z",
     "start_time": "2018-11-03T12:12:14.791769Z"
    },
    "scrolled": true
   },
   "outputs": [
    {
     "name": "stdout",
     "output_type": "stream",
     "text": [
      "719    Downloaded the letter sounds on my smart phone                                                                                        \n",
      "814    lesson duration                                                                                                                       \n",
      "439    Video on teaching vocabulary                                                                                                          \n",
      "220    The CSO recorded the lesson I taught and showed me how I was teaching                                                                 \n",
      "549    pronounciation of a word in the dictionary                                                                                            \n",
      "514    He showed me a video of a teacher teaching silent blending                                                                            \n",
      "718    Downloaded the letter sounds on my smart phone                                                                                        \n",
      "785    I was shown the time the lesson took                                                                                                  \n",
      "325    He showed me the fluency ability of learners                                                                                          \n",
      "47     Time taken in the lesson                                                                                                              \n",
      "260    Lesson Duration, lesson plan                                                                                                          \n",
      "447    The pupils assessment reading and how the tool counts the average number of words read by the pupils                                  \n",
      "841    Assessment Tools.                                                                                                                     \n",
      "470    He advised me to ensure that I model fluent reading with respect to punction marks for my learners to emulate.                        \n",
      "806    words that the pupils were not able to read during the pupils asssement exercise                                                      \n",
      "185    What I missed in the lesson.                                                                                                          \n",
      "399    He showed me the words that were correctly read per minute by specific pupils and those that some pupils could not read .             \n",
      "326    He showed me the pupils fluency ability                                                                                               \n",
      "40     He showed me the area of CBC in the tablet that shows the values, PCIs and competences and asked me to work on the ones I had not used\n",
      "400    He shared with me my pupils average fluency and a video of model lesson                                                               \n",
      "Name: cso_shw_other_det, dtype: object\n"
     ]
    }
   ],
   "source": [
    "# Printing sample of teachers' feedback re: things CSOs showed them on the tablet\n",
    "print(tchrs[tchrs.cso_shw_other_det.notna() & (tchrs.cso_shw_other_det != \"\")].cso_shw_other_det.sample(20))"
   ]
  },
  {
   "cell_type": "markdown",
   "metadata": {},
   "source": [
    "### CSOs' use of feedback visit-over-visit\n",
    "\n",
    "Tusome's theory of change stipulates that smaller, more frequent, and more targeted coaching interactions will shift teacher behavior more effectively than larger-scale, episodic training events that cover a broad range of topics. This is the reason Tusome invests so heavily in supporting CSOs to provide coaching support to teachers in the span between large-scale training events.\n",
    "\n",
    "Teachers, like most people, will be more likely to alter their behavior if feedback is timely and consistent, and the teachers' response to it is monitored rather than assumed. In this survey, roughly {{int(100 * (tchrs[tchrs.vis_before != 0].cso_ref_prev_fdbk_yn.sum()/tchrs.vis_before.sum()))}}% of teachers indicated that when CSOs visited the school and observed the teacher, they follow up on feedback from earlier visits."
   ]
  },
  {
   "cell_type": "markdown",
   "metadata": {
    "ExecuteTime": {
     "end_time": "2018-10-25T05:15:42.173892Z",
     "start_time": "2018-10-25T05:15:42.161890Z"
    }
   },
   "source": [
    "**T.D.**: <span style=\"color:red\"> Update cells so definitions of variable `literate programming` inputs are visible.</span>"
   ]
  },
  {
   "cell_type": "markdown",
   "metadata": {},
   "source": [
    "### Teachers self-reported improvement in response to coaching\n",
    "\n",
    "Effectively measuring the quality of instruction or lesson delivery is a very, very difficult task. (**T.D.**: <span style=\"color:red\"> Provide citations, examples of various approaches.</span>)\n",
    "\n",
    "The current study was not able to directly assess the quality of teachers' lesson delivery, although Tusome is working on various other studies which attempt to do so. However, we asked teachers whether they felt the coaching received from CSOs had improved the quality of their teaching. We first posed the question in regard to the teaching of reading in Kiswahili and English, and then asked them whether the coaching had improved their teaching in other subjects as well."
   ]
  },
  {
   "cell_type": "code",
   "execution_count": 16,
   "metadata": {
    "ExecuteTime": {
     "end_time": "2018-11-03T12:12:17.178912Z",
     "start_time": "2018-11-03T12:12:14.836254Z"
    },
    "scrolled": true
   },
   "outputs": [
    {
     "data": {
      "text/html": [
       "<div>\n",
       "<style scoped>\n",
       "    .dataframe tbody tr th:only-of-type {\n",
       "        vertical-align: middle;\n",
       "    }\n",
       "\n",
       "    .dataframe tbody tr th {\n",
       "        vertical-align: top;\n",
       "    }\n",
       "\n",
       "    .dataframe thead th {\n",
       "        text-align: right;\n",
       "    }\n",
       "</style>\n",
       "<table border=\"1\" class=\"dataframe\">\n",
       "  <thead>\n",
       "    <tr style=\"text-align: right;\">\n",
       "      <th></th>\n",
       "      <th>subject</th>\n",
       "      <th>tchrs_reporting</th>\n",
       "      <th>pct</th>\n",
       "    </tr>\n",
       "  </thead>\n",
       "  <tbody>\n",
       "    <tr>\n",
       "      <th>0</th>\n",
       "      <td>Kiswahili &amp; English reading</td>\n",
       "      <td>748.0</td>\n",
       "      <td>99.73</td>\n",
       "    </tr>\n",
       "    <tr>\n",
       "      <th>1</th>\n",
       "      <td>Other subjects</td>\n",
       "      <td>722.0</td>\n",
       "      <td>96.27</td>\n",
       "    </tr>\n",
       "  </tbody>\n",
       "</table>\n",
       "</div>"
      ],
      "text/plain": [
       "                       subject  tchrs_reporting    pct\n",
       "0  Kiswahili & English reading  748.0            99.73\n",
       "1  Other subjects               722.0            96.27"
      ]
     },
     "execution_count": 16,
     "metadata": {},
     "output_type": "execute_result"
    }
   ],
   "source": [
    "# Generating dataframe of teacher's self-reported improvement due to coaching\n",
    "better_tchr_df = pd.DataFrame.from_dict(\n",
    "    {\"subject\": [\"Kiswahili & English reading\",\n",
    "                  \"Other subjects\"],\n",
    "     \"tchrs_reporting\": [tchrs[(tchrs.vis_act_fdbk != 0) &\n",
    "                                (tchrs.vis_before != 0)].cso_fdbk_better_tus.sum(),\n",
    "                          tchrs[(tchrs.vis_act_fdbk != 0) &\n",
    "                                (tchrs.vis_before != 0)].cso_fdbk_better_nont.sum()]})\n",
    "better_tchr_df[\"pct\"] = np.round(\n",
    "    better_tchr_df.tchrs_reporting.apply(\n",
    "    lambda x: 100 * (x/tchrs[(tchrs.vis_act_fdbk !=0) & (tchrs.vis_before != 0)].vis_before.sum())),\n",
    "    decimals=2)\n",
    "\n",
    "bttr_tus_pct = better_tchr_df[better_tchr_df.subject==\"Kiswahili & English reading\"].pct\n",
    "bttr_nont_pct = better_tchr_df[better_tchr_df.subject==\"Other subjects\"].pct\n",
    "better_tchr_df"
   ]
  },
  {
   "cell_type": "markdown",
   "metadata": {
    "ExecuteTime": {
     "end_time": "2018-10-25T08:00:36.505220Z",
     "start_time": "2018-10-25T08:00:36.491218Z"
    },
    "scrolled": true
   },
   "source": [
    "Encouragingly, {{float(bttr_tus_pct)}}% and {{float(bttr_nont_pct)}}% - effectively all - teachers have indicated that the feedback they receive from CSOs has enabled them to be better teachers.\n",
    "\n",
    "Below we have sampled 20 of the examples teachers gave for how their teaching has improved as a result of the feedback."
   ]
  },
  {
   "cell_type": "code",
   "execution_count": 17,
   "metadata": {
    "ExecuteTime": {
     "end_time": "2018-11-03T12:12:17.233976Z",
     "start_time": "2018-11-03T12:12:17.214961Z"
    },
    "scrolled": true
   },
   "outputs": [
    {
     "name": "stdout",
     "output_type": "stream",
     "text": [
      "509    advised me follow the script and always have a lesson plan                                                                                                                                               \n",
      "130    I normally apply the aspect of I do we do you do in other learning areas                                                                                                                                 \n",
      "248    showed me how to infuse the new curriculum to other learning areas, use of teaching materials line counters and charts                                                                                   \n",
      "52     she told me by proper use of teachers lesson notes , the lesson flow is easy for the learners                                                                                                            \n",
      "806    he told me to do proper lesson preparation, time management and pupils fluency levels                                                                                                                    \n",
      "531    For example in English, using the smart phone when teaching sounds; taught that the chidren should follow with their fingers;                                                                            \n",
      "550    The CSOs feedback on how to teach prediction has helped me to improve in my teaching even in other subjects because this is the part that helps learners critical thinking which is part of the new CBC..\n",
      "790    Use of real items when teaching in the other subjects to make it easier for the pupils to understand.                                                                                                    \n",
      "188    I now give formative feedback to learners in other subjects                                                                                                                                              \n",
      "829    Encoorage learners to do Maths because they are able to read.                                                                                                                                            \n",
      "629    I apply skills in learned in Tusome to teach other subjects                                                                                                                                              \n",
      "653    use the sounds to read words in other subjects                                                                                                                                                           \n",
      "741    to teach in a pace the learners could understand                                                                                                                                                         \n",
      "25     Mathematics, Science Activities                                                                                                                                                                          \n",
      "703    i use the i/we/you do to teach other learning areas                                                                                                                                                      \n",
      "431    \"In other subjects like environmental there are also new words that learners need to read as well as know its meaningâ¦I use the advice of the CSO on how to teach vocabulary to make learning easy\\r\"  \n",
      "153    I have managed to reduce the time i take while teaching other subjects from the time he talked about the importance of perky pace in relation to pupils concentration                                    \n",
      "119    She has encouraged me to teach with learning/teaching materials for quick understanding of new concept                                                                                                   \n",
      "604    N/.                                                                                                                                                                                                      \n",
      "206    I use Tusome skill when teaching other subjects                                                                                                                                                          \n",
      "Name: cso_fdbk_better_det, dtype: object\n"
     ]
    }
   ],
   "source": [
    "# Printing sample of things teachers say they do better\n",
    "print(tchrs[tchrs.cso_fdbk_better_det.notna() & (tchrs.cso_fdbk_better_det != \"\")].cso_fdbk_better_det.sample(20))"
   ]
  },
  {
   "cell_type": "markdown",
   "metadata": {
    "ExecuteTime": {
     "end_time": "2018-10-25T08:20:22.847466Z",
     "start_time": "2018-10-25T08:20:22.839964Z"
    },
    "scrolled": true
   },
   "source": [
    "### CSOs' discussion of pupil fluency\n",
    "\n",
    "The ultimate goal of Tusome is to improve reading outcomes in grades 1-3. Whether the project has been successful is determined by the pupils' reading skills (with an emphasis on _oral reading fluency_, or ORF, and reading comprehension) as demonstrated by their performance on an early grade reading assessment (EGRA).\n",
    "\n",
    "For a CSO's visit to be considered _complete_ or _valid_, one of the criteria is that it include an assessment of the reading skills of three randomly-selected pupils. These pupils are then provided a stimulus that contains a brief reading passage of ~50-100 words. As they read aloud from the stimulus, the CSO uses the _Tangerine_ application on the tablet to make note of any inaccurately read words. When the child has finished reading - or when 60 seconds elapses, whichever comes first - the assessment is complete. The child's fluency is then calculated using the formula\n",
    "\n",
    "$$\\frac{\\text{# of correct words}}{\\big(\\frac{60 \\ - \\ \\text{time remaining (s)}}{60}\\big)} = \\text{correct words per minute}$$\n",
    "\n",
    "The _Tangerine_ software calculates the average fluency in _cwpm_ across all three pupils and reports it as part of the lesson feedback. The CSO is able - but not required - to bring up the pupils' fluency as part of their feedback session."
   ]
  },
  {
   "cell_type": "code",
   "execution_count": 18,
   "metadata": {
    "ExecuteTime": {
     "end_time": "2018-11-03T12:12:17.275979Z",
     "start_time": "2018-11-03T12:12:17.239977Z"
    },
    "scrolled": false
   },
   "outputs": [
    {
     "data": {
      "text/html": [
       "<div>\n",
       "<style scoped>\n",
       "    .dataframe tbody tr th:only-of-type {\n",
       "        vertical-align: middle;\n",
       "    }\n",
       "\n",
       "    .dataframe tbody tr th {\n",
       "        vertical-align: top;\n",
       "    }\n",
       "\n",
       "    .dataframe thead th {\n",
       "        text-align: right;\n",
       "    }\n",
       "</style>\n",
       "<table border=\"1\" class=\"dataframe\">\n",
       "  <thead>\n",
       "    <tr style=\"text-align: right;\">\n",
       "      <th></th>\n",
       "      <th>response</th>\n",
       "      <th>tchrs_responding</th>\n",
       "      <th>pct</th>\n",
       "    </tr>\n",
       "  </thead>\n",
       "  <tbody>\n",
       "    <tr>\n",
       "      <th>0</th>\n",
       "      <td>CSO discusses fluency in feedback session</td>\n",
       "      <td>720.0</td>\n",
       "      <td>91.84</td>\n",
       "    </tr>\n",
       "    <tr>\n",
       "      <th>1</th>\n",
       "      <td>Teacher finds discussion of fluency useful</td>\n",
       "      <td>724.0</td>\n",
       "      <td>92.35</td>\n",
       "    </tr>\n",
       "  </tbody>\n",
       "</table>\n",
       "</div>"
      ],
      "text/plain": [
       "                                     response  tchrs_responding    pct\n",
       "0  CSO discusses fluency in feedback session   720.0             91.84\n",
       "1  Teacher finds discussion of fluency useful  724.0             92.35"
      ]
     },
     "execution_count": 18,
     "metadata": {},
     "output_type": "execute_result"
    }
   ],
   "source": [
    "# Generating dataframe CSOs' discussions of fluency\n",
    "fluency_disc_df = pd.DataFrame.from_dict({\"response\": [\n",
    "    \"CSO discusses fluency in feedback session\",\n",
    "    \"Teacher finds discussion of fluency useful\"],\n",
    "    \"tchrs_responding\": [\n",
    "        tchrs[tchrs.vis_before != 0].cso_fdbk_discfluency.sum(),\n",
    "        tchrs[tchrs.vis_before != 0].cso_fdbk_flu_useful.sum()]})\n",
    "\n",
    "fluency_disc_df[\"pct\"] = np.round(100 * \n",
    "                        fluency_disc_df.tchrs_responding.apply(\n",
    "                            lambda x: x / (tchrs.vis_before.sum())), decimals=2)\n",
    "\n",
    "flu_cso_disc = fluency_disc_df[fluency_disc_df.response==\"CSO discusses fluency in feedback session\"].pct\n",
    "flu_disc_use = fluency_disc_df[fluency_disc_df.response==\"Teacher finds discussion of fluency useful\"].pct\n",
    "fluency_disc_df"
   ]
  },
  {
   "cell_type": "markdown",
   "metadata": {},
   "source": [
    "It appears the overwhelming majority of CSOs ({{float(flu_cso_disc)}}%) discuss the pupils' fluency with the teachers, and the teachers overwhelmingly ({{float(flu_disc_use)}}%) find it a useful discussion. But how do teachers make use of that insight?\n",
    "\n",
    "Below we have sampled 20 of the examples teachers gave for what they do with knowledge of their pupils' fluency rates."
   ]
  },
  {
   "cell_type": "code",
   "execution_count": 19,
   "metadata": {
    "ExecuteTime": {
     "end_time": "2018-11-03T12:12:17.321497Z",
     "start_time": "2018-11-03T12:12:17.305977Z"
    },
    "scrolled": true
   },
   "outputs": [
    {
     "name": "stdout",
     "output_type": "stream",
     "text": [
      "611    For those learners who are slow I do remedial                                                                                                                            \n",
      "40     Like there were times the learners were reading words with silent e wrongly e.g bike so I take time with the learners to perfect the same in class                       \n",
      "517    I use this information to improve in the weak areas.                                                                                                                     \n",
      "117    I use that information to improve on the reading levels when thay are low                                                                                                \n",
      "406    I use the information to assist slow/non-readers and encourage them work in groups of mixed ability for peer support                                                     \n",
      "269    am able to understand the fluency level of my learners so that i encourage those who are reading well and also support those who have challenges                         \n",
      "690    You know the problem with the child e.g. the sounds and you know how to teach                                                                                            \n",
      "283    To suport weak readers                                                                                                                                                   \n",
      "37     i use the fluency rates to group my pupils those who can read and those who cannot read for further help on those who cannot read after classes                          \n",
      "500    I create more time to assist the weak learners in class and try to use more resources to improve the fluency.                                                            \n",
      "154    I usually emphasize of reading the sounds and words (blending), segmenting and this helps my learners to be fluent readers almost 98% of my pupils are now fluent readers\n",
      "323    It helped me help my children improve how to read.                                                                                                                       \n",
      "168    i try to model fluent reading to my pupils                                                                                                                               \n",
      "287    Use to support weak readers                                                                                                                                              \n",
      "672    I was able to note the reader and the non readers in my class. I now do a lot of individual learning. I must say the struggling learners have greatly improved           \n",
      "633    I am now able to know the pupils who are struggling in class and now give more attention to them.                                                                        \n",
      "377    to implement the feedback on the lesson.                                                                                                                                 \n",
      "30     I use that information to help the learner to improve in the reading fluency and mastery of the concepts.                                                                \n",
      "122    I use that information to concentrate more on learners still facing a challenge in reading so that they can also improve on their reading levels                         \n",
      "249    It helps me understand the reading levels of my children and know where to put more effort                                                                               \n",
      "Name: cso_fdbk_flu_dowith, dtype: object\n"
     ]
    }
   ],
   "source": [
    "# Printing a sample of teachers' responses re: what they do with knowledge of fluency\n",
    "print(tchrs[tchrs.cso_fdbk_flu_dowith.notna() & (tchrs.cso_fdbk_flu_dowith != \"\")].cso_fdbk_flu_dowith.sample(20))"
   ]
  },
  {
   "cell_type": "markdown",
   "metadata": {},
   "source": [
    "### Disruption caused by tablet use\n",
    "\n",
    "Pupils are easily distracted by the presence of unfamiliar adults in the classroom. However, if the adult sits quietly and unobtrusively in the rear of the classroom, the children rapidly become acclimated to the visitor's presence and are able to focus on the lesson.\n",
    "\n",
    "For many children in rural schools, however, tablet computers are an unfamiliar sight. Tusome was interested to know whether the CSOs' use of tablets to conduct the classroom observation or assess the pupils' fluency is perceived as disruptive."
   ]
  },
  {
   "cell_type": "code",
   "execution_count": 20,
   "metadata": {
    "ExecuteTime": {
     "end_time": "2018-11-03T12:12:17.375999Z",
     "start_time": "2018-11-03T12:12:17.326495Z"
    },
    "scrolled": false
   },
   "outputs": [
    {
     "data": {
      "text/html": [
       "<div>\n",
       "<style scoped>\n",
       "    .dataframe tbody tr th:only-of-type {\n",
       "        vertical-align: middle;\n",
       "    }\n",
       "\n",
       "    .dataframe tbody tr th {\n",
       "        vertical-align: top;\n",
       "    }\n",
       "\n",
       "    .dataframe thead th {\n",
       "        text-align: right;\n",
       "    }\n",
       "</style>\n",
       "<table border=\"1\" class=\"dataframe\">\n",
       "  <thead>\n",
       "    <tr style=\"text-align: right;\">\n",
       "      <th></th>\n",
       "      <th>case</th>\n",
       "      <th>distracting</th>\n",
       "      <th>pct</th>\n",
       "    </tr>\n",
       "  </thead>\n",
       "  <tbody>\n",
       "    <tr>\n",
       "      <th>0</th>\n",
       "      <td>CSO tablet use for observation</td>\n",
       "      <td>35</td>\n",
       "      <td>4.0</td>\n",
       "    </tr>\n",
       "    <tr>\n",
       "      <th>1</th>\n",
       "      <td>CSO tablet use for feedback</td>\n",
       "      <td>16</td>\n",
       "      <td>2.0</td>\n",
       "    </tr>\n",
       "  </tbody>\n",
       "</table>\n",
       "</div>"
      ],
      "text/plain": [
       "                             case  distracting  pct\n",
       "0  CSO tablet use for observation  35           4.0\n",
       "1  CSO tablet use for feedback     16           2.0"
      ]
     },
     "execution_count": 20,
     "metadata": {},
     "output_type": "execute_result"
    }
   ],
   "source": [
    "# Generating dataframe re: pupils' distraction due to tablet use\n",
    "tchr_dist_df = pd.DataFrame.from_dict({\n",
    "    \"case\": [\n",
    "        \"CSO tablet use for observation\",\n",
    "        \"CSO tablet use for feedback\"],\n",
    "    \"distracting\": [\n",
    "        int(tchrs[tchrs.vis_before != 0].cso_tab_distract_yn.sum()),\n",
    "        int(tchrs[tchrs.vis_before != 0].cso_tab_fdbk_distrac.sum())]})\n",
    "\n",
    "tchr_dist_df[\"pct\"] = 100 * np.round(tchr_dist_df.distracting.apply(\n",
    "    lambda x: x / tchrs.vis_before.sum()),\n",
    "             decimals=2)\n",
    "\n",
    "distracting_tab_obs = float(tchr_dist_df[tchr_dist_df.case==\"CSO tablet use for observation\"].pct)\n",
    "distracting_tab_fdbk = float(tchr_dist_df[tchr_dist_df.case==\"CSO tablet use for feedback\"].pct)\n",
    "\n",
    "tchr_dist_df"
   ]
  },
  {
   "cell_type": "markdown",
   "metadata": {},
   "source": [
    "Reassuringly, very few teachers responded that they find it distracting when the CSO used a tablet during observation or during feedback ({{distracting_tab_obs}}% and {{distracting_tab_fdbk}}%, respectively). It is worth considering why they found the tablet use distracting; because the numbers are so low, the lists below present all responses rather than just a sample."
   ]
  },
  {
   "cell_type": "code",
   "execution_count": 21,
   "metadata": {
    "ExecuteTime": {
     "end_time": "2018-11-03T12:12:17.442028Z",
     "start_time": "2018-11-03T12:12:17.424996Z"
    },
    "scrolled": true
   },
   "outputs": [
    {
     "name": "stdout",
     "output_type": "stream",
     "text": [
      "1      Pupils get attention of the tablet                                                                                                                                                          \n",
      "13     at times it is distracting when the CSO takes a photo using the tablet. This mostly affects the pupils. It was a challenge to me the first time she took the photos but now I am used to it.\n",
      "26     some learners look at the CSO at the back of the class as he he uses tablet hence distracting their attention                                                                               \n",
      "47     The curious one always keep on looking at the tablet instead of listening to me                                                                                                             \n",
      "89     Some of the children sitting next to the children get distraccted and stop looking and the board.They are are also not comfortable because they are not used to it.                         \n",
      "108    N/A s                                                                                                                                                                                       \n",
      "113    N/As                                                                                                                                                                                        \n",
      "132    Because the pupils keep on looking at the CSO and not the teacher when am teaching                                                                                                          \n",
      "148    N/A                                                                                                                                                                                         \n",
      "165    N/A                                                                                                                                                                                         \n",
      "224    Sometimes the learners try to look behind but i control them.                                                                                                                               \n",
      "231    sometimes the pupils are atrracted by the tablet as the CSO type                                                                                                                            \n",
      "264    N/A                                                                                                                                                                                         \n",
      "273    N/A                                                                                                                                                                                         \n",
      "278    Pupils are glued to the tablet.                                                                                                                                                             \n",
      "284    The kids concentrate on the tablet                                                                                                                                                          \n",
      "297    My pupils are eager to find out what the CSO is keying in the tablet                                                                                                                        \n",
      "298    My pupils would be interested to know more about the tablet and hence poor concentration during the lesson                                                                                  \n",
      "324    helps me put those with difficulties in reading under remedial                                                                                                                              \n",
      "341    N/A                                                                                                                                                                                         \n",
      "387    I m not used to it                                                                                                                                                                          \n",
      "596    Some pupils tend to concetrate at the CSO using the tablets behind the class while am teaching in class                                                                                     \n",
      "625    Sometimes my learners become interested in what the CSO is doing                                                                                                                            \n",
      "654    It creates curiosit to my learners                                                                                                                                                          \n",
      "676    sometimes the learners turn to see what the CSo is doing, for me its not                                                                                                                    \n",
      "728    The table diverts the learners attention and they will not concentrate on the lesson i am teaching                                                                                          \n",
      "774    This is because i have a class of 71 learners and the ones who were near the CSO, were being distracted by the CSO's tablet. Majority of the learners were OK                               \n",
      "828    When the CSO captures learners for the photo session, they get distracted                                                                                                                   \n",
      "Name: cso_tab_distract_why, dtype: object\n"
     ]
    }
   ],
   "source": [
    "# Printing the reasons teachers think the tablets are distracting during observations\n",
    "print(tchrs[(tchrs.cso_tab_distract_why != \"\") & tchrs.cso_tab_distract_why.notna()].cso_tab_distract_why)"
   ]
  },
  {
   "cell_type": "code",
   "execution_count": 22,
   "metadata": {
    "ExecuteTime": {
     "end_time": "2018-11-03T12:12:17.482996Z",
     "start_time": "2018-11-03T12:12:17.446495Z"
    },
    "scrolled": true
   },
   "outputs": [
    {
     "name": "stdout",
     "output_type": "stream",
     "text": [
      "35     it arouses curiosity therefore disrupt concentration of the learners                                                                                                                                                                                                         \n",
      "50     I am distracted because i don't know what he will tell me                                                                                                                                                                                                                    \n",
      "176    Because i am not aware what he is doing with the tablet but if both are looking at it, i will not find it distracting                                                                                                                                                        \n",
      "206    My thinking is that the CSO is recording me and can be used in other places                                                                                                                                                                                                  \n",
      "241    When he is giving me feedback find it distracting that the CSO has to keep on looking on the tablet, I wonder what he is looking at or reading from the tablet. I prefer that he uses a a hardcopy of a real book not from his tablet since i cant see what he is looking at.\n",
      "423    N/A                                                                                                                                                                                                                                                                          \n",
      "522    No                                                                                                                                                                                                                                                                           \n",
      "749    N/A                                                                                                                                                                                                                                                                          \n",
      "Name: cso_fdbk_tab_diswhy, dtype: object\n"
     ]
    }
   ],
   "source": [
    "# Printing the reasons teachers feel the tablet use during feedback is distracting\n",
    "print(tchrs[(tchrs.cso_fdbk_tab_diswhy != \"\") & tchrs.cso_fdbk_tab_diswhy.notna()].cso_fdbk_tab_diswhy)"
   ]
  },
  {
   "cell_type": "markdown",
   "metadata": {},
   "source": [
    "While these results are encouraging, it may be that CSOs' tablet use is more distracting when it is the pupils themselves who are the object of the CSO's attention. We asked teachers whether they were present during the assessment of pupils' reading skills, and if so, whether it was their sense that pupils were distracted by the tablet use."
   ]
  },
  {
   "cell_type": "code",
   "execution_count": 23,
   "metadata": {
    "ExecuteTime": {
     "end_time": "2018-11-03T12:12:17.538496Z",
     "start_time": "2018-11-03T12:12:17.487994Z"
    },
    "scrolled": false
   },
   "outputs": [
    {
     "data": {
      "text/html": [
       "<div>\n",
       "<style scoped>\n",
       "    .dataframe tbody tr th:only-of-type {\n",
       "        vertical-align: middle;\n",
       "    }\n",
       "\n",
       "    .dataframe tbody tr th {\n",
       "        vertical-align: top;\n",
       "    }\n",
       "\n",
       "    .dataframe thead th {\n",
       "        text-align: right;\n",
       "    }\n",
       "</style>\n",
       "<table border=\"1\" class=\"dataframe\">\n",
       "  <thead>\n",
       "    <tr style=\"text-align: right;\">\n",
       "      <th></th>\n",
       "      <th>response</th>\n",
       "      <th>tchrs_responding</th>\n",
       "      <th>numerator</th>\n",
       "      <th>pct</th>\n",
       "    </tr>\n",
       "  </thead>\n",
       "  <tbody>\n",
       "    <tr>\n",
       "      <th>0</th>\n",
       "      <td>Teacher observed the assessment</td>\n",
       "      <td>462</td>\n",
       "      <td>784</td>\n",
       "      <td>59.0</td>\n",
       "    </tr>\n",
       "    <tr>\n",
       "      <th>1</th>\n",
       "      <td>Pupils found the tablet distracting</td>\n",
       "      <td>99</td>\n",
       "      <td>462</td>\n",
       "      <td>21.0</td>\n",
       "    </tr>\n",
       "  </tbody>\n",
       "</table>\n",
       "</div>"
      ],
      "text/plain": [
       "                              response  tchrs_responding  numerator   pct\n",
       "0  Teacher observed the assessment      462               784        59.0\n",
       "1  Pupils found the tablet distracting  99                462        21.0"
      ]
     },
     "execution_count": 23,
     "metadata": {},
     "output_type": "execute_result"
    }
   ],
   "source": [
    "# Generating dataframe re: pupils' distraction due to tablet use during assessment\n",
    "pupil_dist_df = pd.DataFrame.from_dict({\n",
    "    \"response\": [\n",
    "        \"Teacher observed the assessment\",\n",
    "        \"Pupils found the tablet distracting\"],\n",
    "    \"tchrs_responding\": [\n",
    "        int(tchrs[tchrs.vis_before != 0].cso_pres_ass_tab.sum()),\n",
    "        int(tchrs[tchrs.vis_before != 0].cso_pup_distract_ass.sum())]})\n",
    "\n",
    "pupil_dist_df[\"numerator\"] = [\n",
    "    int(tchrs.vis_before.sum()),\n",
    "    int(pupil_dist_df[pupil_dist_df.response==\"Teacher observed the assessment\"].tchrs_responding)]\n",
    "\n",
    "pupil_dist_df[\"pct\"] = 100 * np.round(pupil_dist_df.tchrs_responding / pupil_dist_df.numerator, 2)\n",
    "\n",
    "tchrs_obsd_assmt = int(pupil_dist_df[pupil_dist_df.response==\"Teacher observed the assessment\"].pct)\n",
    "pupils_distracted = int(pupil_dist_df[pupil_dist_df.response==\"Pupils found the tablet distracting\"].pct)\n",
    "\n",
    "pupil_dist_df"
   ]
  },
  {
   "cell_type": "markdown",
   "metadata": {
    "ExecuteTime": {
     "end_time": "2018-10-25T09:43:54.269939Z",
     "start_time": "2018-10-25T09:43:54.259439Z"
    }
   },
   "source": [
    "Roughly {{tchrs_obsd_assmt}}% of the teachers said they had observed the CSO's assessment of the pupils' reading skills. Of those, {{pupils_distracted}}% thought the pupils found the tablet distracting. This may suggest a need for Tusome to provide additional training or orientation to CSOs on best practices in assessment administration.\n",
    "\n",
    "Below we sample 20 of the reasons teachers provided for why they thought pupils found tablet use distracting during the assessment."
   ]
  },
  {
   "cell_type": "code",
   "execution_count": 24,
   "metadata": {
    "ExecuteTime": {
     "end_time": "2018-11-03T12:12:17.584500Z",
     "start_time": "2018-11-03T12:12:17.564995Z"
    },
    "scrolled": true
   },
   "outputs": [
    {
     "name": "stdout",
     "output_type": "stream",
     "text": [
      "395    It was their first time to see the tablet and are not used to the CSO.                                                                                                                                                                                                                                                                                                                                                                                  \n",
      "503    some pupils want to see what is on the tablet                                                                                                                                                                                                                                                                                                                                                                                                           \n",
      "608    The pupils are distracted since they were reading directly from the tablet                                                                                                                                                                                                                                                                                                                                                                              \n",
      "76     These children are from the rural area and they haven't see such a thing so they fear and when the CSO is making some marking they stop to see what he is doing.                                                                                                                                                                                                                                                                                        \n",
      "647    they are excited to see a visitor and the concetration is low                                                                                                                                                                                                                                                                                                                                                                                           \n",
      "234    The pupils were excited                                                                                                                                                                                                                                                                                                                                                                                                                                 \n",
      "601    Some learners could not concentrate fully on what they were reading and could look at what the CSO is doing on his tablet.                                                                                                                                                                                                                                                                                                                              \n",
      "65     The CSO tablets draws attension to my student and they look back often                                                                                                                                                                                                                                                                                                                                                                                  \n",
      "657    Fear of the use of the tablet at the first time                                                                                                                                                                                                                                                                                                                                                                                                         \n",
      "609    Some pupils were fearing to read                                                                                                                                                                                                                                                                                                                                                                                                                        \n",
      "382    some are distracted from reading and stare at the tablet                                                                                                                                                                                                                                                                                                                                                                                                \n",
      "63     i find the CSOs use of the tablet to assess learners create fear or anxiety among learners because the learners feel them as strangers                                                                                                                                                                                                                                                                                                                  \n",
      "740    writing on the chalkboard/ text is different from the wiring in the tablet and pupils get excited                                                                                                                                                                                                                                                                                                                                                       \n",
      "650    For the first time due to curiosity                                                                                                                                                                                                                                                                                                                                                                                                                     \n",
      "389    Yes I have observed the pupils being assesed but not at a close range because as a teacher I do my part and the assessment by the CSO forms part of his feedback to me for improvement                                                                                                                                                                                                                                                                  \n",
      "245    In class 1 the pupils look more at the tablet than the stimulus which affects the reading ability of the child. Sometimes the pupils just look at the tablets because they havent seen such a tablet before so they focus more on the tablet. The stimulus is also distracting because pupils are used to reading books. Small children are not used to new people so by the time they get used to the CSO, they fear her a lot affecting their reading.\n",
      "567    The pupils were intrested in the tablet more than reading                                                                                                                                                                                                                                                                                                                                                                                               \n",
      "91     They are used to the tablets since they also use them in class. So they are never distracted.                                                                                                                                                                                                                                                                                                                                                           \n",
      "300    My learners got distracted by looking at the colour, the shape and the tablet itself because it is not a common phenomena                                                                                                                                                                                                                                                                                                                               \n",
      "591    The pupils were afraid of the tablet that made them abit mixed up. The pupils commented that the CSO was taking a vidoe of them since they thought the tablet was for videos.                                                                                                                                                                                                                                                                           \n",
      "Name: cso_pup_dist_why, dtype: object\n"
     ]
    }
   ],
   "source": [
    "# Printing a sample of the reasons teachers think pupils find the tablet distracting\n",
    "print(tchrs[(tchrs.cso_pup_dist_why != \"\") & tchrs.cso_pup_dist_why.notna()].cso_pup_dist_why.sample(20))"
   ]
  },
  {
   "cell_type": "markdown",
   "metadata": {},
   "source": [
    "### Teachers' ongoing assessment of pupil fluency\n",
    "\n",
    "Teachers are fully capable of assessing their pupils' reading fluency without recourse to a tablet. However, RTI has experimented with an Android-based pupil performance tracking tool that might be of use to teachers. Therefore we were interested to understand the extent to which teachers are already assessing pupils' fluency, what tools they are using for the task, whether they have access to phones on which such a tool could be deployed, and whether they would want to use it if so."
   ]
  },
  {
   "cell_type": "code",
   "execution_count": 25,
   "metadata": {
    "ExecuteTime": {
     "end_time": "2018-11-03T12:12:17.597996Z",
     "start_time": "2018-11-03T12:12:17.590496Z"
    },
    "scrolled": true
   },
   "outputs": [],
   "source": [
    "# Calculating proportion of teachers who assess their pupils' fluency\n",
    "tchrs_assessing = 100 * np.round(tchrs.tchr_ass_pup_flu_yn.sum() / tchrs.shape[0], decimals=2)"
   ]
  },
  {
   "cell_type": "markdown",
   "metadata": {},
   "source": [
    "Roughly {{int(tchrs_assessing)}}% of teachers we spoke to indicated they assess their pupils' fluency. When asked to specify what tools they use for the task, they specified the following."
   ]
  },
  {
   "cell_type": "code",
   "execution_count": 26,
   "metadata": {
    "ExecuteTime": {
     "end_time": "2018-11-03T12:12:17.644996Z",
     "start_time": "2018-11-03T12:12:17.613998Z"
    },
    "scrolled": true
   },
   "outputs": [
    {
     "name": "stdout",
     "output_type": "stream",
     "text": [
      "699    I write words or sentences on either the board or paper and choose individual learners at random to read.                                                                                                                    \n",
      "267    a piece paper with writen text, Tusome textbook                                                                                                                                                                              \n",
      "739    stories in the textbook                                                                                                                                                                                                      \n",
      "570    I GIVE THEM THEIR BOOKS AND CALL ONE BY ONE TO READ THE SAME STORY TO FIND OUT WHO HAS PROBLEMS                                                                                                                              \n",
      "50     I take a written paper with words and i time them as they read                                                                                                                                                               \n",
      "194    I use my smart phone to time the pupils and read on Tusome story books                                                                                                                                                       \n",
      "288    stories from Tusome books                                                                                                                                                                                                    \n",
      "444    I just give them words and sentences which they read for me at individual levels                                                                                                                                             \n",
      "383    I use printed story and stories from text books to improve on fluency                                                                                                                                                        \n",
      "367    I just call them to my table and let them read a specific passage while I time them                                                                                                                                          \n",
      "376    Flash cards                                                                                                                                                                                                                  \n",
      "192    I use tusome text books, tusome readers. I also time them using my phone.                                                                                                                                                    \n",
      "155    i use exam papers and use a stop watch to time                                                                                                                                                                               \n",
      "740    textbooks                                                                                                                                                                                                                    \n",
      "108    My phone to record reading speed,I use my phone to record learners reading, listen, account words and award marks.I do competion reading in groups where they are able to assess themselves                                  \n",
      "456    At times I write the words on manila paper or on the chalk board and call the pupils to read for me.I also use the stories on the text book and story books to assess individual pupils;mostly I deal with the slow learners.\n",
      "778    I give pupils written texts to read and I mark though not often because I teach in upper classes too.                                                                                                                        \n",
      "247    story books, Tusome books                                                                                                                                                                                                    \n",
      "493    My pupils are in grade 1 but I at times take simple stories in grade 2 and give them an opportunity to read the stories while I time them. Whoever finishes first is given a reward                                          \n",
      "440    I give them some words to read, the fluent readers are the ones who are able to complete the task                                                                                                                            \n",
      "Name: tchr_ass_pup_tools, dtype: object\n"
     ]
    }
   ],
   "source": [
    "# Printing sample of tools teachers use to assess pupils' fluency\n",
    "print(tchrs[(tchrs.tchr_ass_pup_flu_yn != 0) & (tchrs.tchr_ass_pup_tools != \"\") & tchrs.tchr_ass_pup_tools.notna()].tchr_ass_pup_tools.sample(20))"
   ]
  },
  {
   "cell_type": "code",
   "execution_count": 27,
   "metadata": {
    "ExecuteTime": {
     "end_time": "2018-11-03T12:12:17.676996Z",
     "start_time": "2018-11-03T12:12:17.650997Z"
    },
    "scrolled": true
   },
   "outputs": [
    {
     "data": {
      "text/html": [
       "<div>\n",
       "<style scoped>\n",
       "    .dataframe tbody tr th:only-of-type {\n",
       "        vertical-align: middle;\n",
       "    }\n",
       "\n",
       "    .dataframe tbody tr th {\n",
       "        vertical-align: top;\n",
       "    }\n",
       "\n",
       "    .dataframe thead th {\n",
       "        text-align: right;\n",
       "    }\n",
       "</style>\n",
       "<table border=\"1\" class=\"dataframe\">\n",
       "  <thead>\n",
       "    <tr style=\"text-align: right;\">\n",
       "      <th></th>\n",
       "      <th>response</th>\n",
       "      <th>tchrs_responding</th>\n",
       "      <th>pct</th>\n",
       "    </tr>\n",
       "  </thead>\n",
       "  <tbody>\n",
       "    <tr>\n",
       "      <th>0</th>\n",
       "      <td>Teacher has a phone</td>\n",
       "      <td>837.0</td>\n",
       "      <td>98.0</td>\n",
       "    </tr>\n",
       "    <tr>\n",
       "      <th>1</th>\n",
       "      <td>Phone is an Android</td>\n",
       "      <td>668.0</td>\n",
       "      <td>78.0</td>\n",
       "    </tr>\n",
       "    <tr>\n",
       "      <th>2</th>\n",
       "      <td>Teacher would like a tool</td>\n",
       "      <td>836.0</td>\n",
       "      <td>98.0</td>\n",
       "    </tr>\n",
       "  </tbody>\n",
       "</table>\n",
       "</div>"
      ],
      "text/plain": [
       "                    response  tchrs_responding   pct\n",
       "0  Teacher has a phone        837.0             98.0\n",
       "1  Phone is an Android        668.0             78.0\n",
       "2  Teacher would like a tool  836.0             98.0"
      ]
     },
     "execution_count": 27,
     "metadata": {},
     "output_type": "execute_result"
    }
   ],
   "source": [
    "# Generating dataframe of teachers' access to phones and interest in a tool\n",
    "tang_tool_df = pd.DataFrame.from_dict({\n",
    "    \"response\": [\"Teacher has a phone\",\n",
    "                 \"Phone is an Android\",\n",
    "                 \"Teacher would like a tool\"],\n",
    "    \"tchrs_responding\": [\n",
    "        tchrs.tch_mob_phone.sum(),\n",
    "        tchrs.tch_has_android.sum(),\n",
    "        tchrs.tch_wants_assess.sum()]})\n",
    "\n",
    "tang_tool_df[\"pct\"] = 100 * np.round(tang_tool_df.tchrs_responding.apply(lambda x: x / tchrs.shape[0]), decimals=2)\n",
    "tang_tool_df"
   ]
  },
  {
   "cell_type": "markdown",
   "metadata": {},
   "source": [
    "Nearly all teachers interviewed indicated they have access to a mobile phone; nearly 4 out of 5 teachers indicated their phone is an Android. Nearly all teachers - even those who don't have an Android - said they would like to have access to a tool that would provide them sample assessments they could do with their pupils."
   ]
  },
  {
   "cell_type": "markdown",
   "metadata": {},
   "source": [
    "## CSO Instrument"
   ]
  },
  {
   "cell_type": "markdown",
   "metadata": {
    "ExecuteTime": {
     "end_time": "2018-10-12T13:38:15.821761Z",
     "start_time": "2018-10-12T13:38:15.784758Z"
    }
   },
   "source": [
    "Here we begin exploring the data we obtained from interviewing the CSOs."
   ]
  },
  {
   "cell_type": "markdown",
   "metadata": {},
   "source": [
    "### Respondent Types\n",
    "\n",
    "The CSO instrument was applied not only to CSOs, but also instructional coaches and (potentially) CSO-SNEs. We explore the number of respondents of each type in our dataset."
   ]
  },
  {
   "cell_type": "code",
   "execution_count": 28,
   "metadata": {
    "ExecuteTime": {
     "end_time": "2018-11-03T12:12:17.707495Z",
     "start_time": "2018-11-03T12:12:17.682998Z"
    }
   },
   "outputs": [
    {
     "data": {
      "text/plain": [
       "CSO (Z)    157\n",
       "Name: designation, dtype: int64"
      ]
     },
     "execution_count": 28,
     "metadata": {},
     "output_type": "execute_result"
    }
   ],
   "source": [
    "cso_desig_df = csos.designation\n",
    "cso_desig_df.replace(\n",
    "    [11, 12, 13, 88],\n",
    "    [\"CSO (Z)\", \"CSO-SNE (Z)\", \"Instructional Coach (Z)\", \"Other\"],\n",
    "    inplace=True)\n",
    "# w.female.replace(['male', 'female'], [1, 0], inplace=True)\n",
    "cso_desig_df.value_counts()"
   ]
  },
  {
   "cell_type": "markdown",
   "metadata": {},
   "source": [
    "### Length of experience using tablet-based Tangerine\n",
    "_When did you first receive a tablet from Tusome or PRIMR?_\n",
    "\n",
    "We want to convert the year/month CSOs provided into a number so we can work with it easily. We'll make the simplifying assumption that the tablet was received on the first day of the month they provided, and that this interview was conducted on the first day of the month. Neither of those are true, but the marginal days are unlikely to make a practical difference in a CSO's facility with the tool."
   ]
  },
  {
   "cell_type": "code",
   "execution_count": 29,
   "metadata": {
    "ExecuteTime": {
     "end_time": "2018-11-03T12:12:17.728009Z",
     "start_time": "2018-11-03T12:12:17.711996Z"
    },
    "scrolled": false
   },
   "outputs": [],
   "source": [
    "# Converting date tablet received into duration of tablet usage\n",
    "now = dt.datetime(2018, 10, 1)\n",
    "csos[\"tab_usage\"] = pd.to_timedelta(now - pd.to_datetime({\"year\": csos.recd_tab_yr, \"month\": csos.recd_tab_month, \"day\": 1})).dt.days"
   ]
  },
  {
   "cell_type": "markdown",
   "metadata": {
    "ExecuteTime": {
     "end_time": "2018-10-18T06:22:41.067578Z",
     "start_time": "2018-10-18T06:22:41.040577Z"
    }
   },
   "source": [
    "We'll also want to convert the duration to months, since that will be easier to digest, and filter out any missing values."
   ]
  },
  {
   "cell_type": "code",
   "execution_count": 30,
   "metadata": {
    "ExecuteTime": {
     "end_time": "2018-11-03T12:12:17.759496Z",
     "start_time": "2018-11-03T12:12:17.732995Z"
    },
    "scrolled": true
   },
   "outputs": [],
   "source": [
    "# Generating dataframe of CSOs' tablet usage\n",
    "tab_usage = pd.DataFrame(csos[csos.tab_usage.notna()].tab_usage / 30)"
   ]
  },
  {
   "cell_type": "code",
   "execution_count": 31,
   "metadata": {
    "ExecuteTime": {
     "end_time": "2018-11-03T12:12:23.629009Z",
     "start_time": "2018-11-03T12:12:17.763995Z"
    },
    "scrolled": false
   },
   "outputs": [],
   "source": [
    "# Generating histogram of CSOs' tablet usage duration\n",
    "csotabusage_ch = alt.Chart(tab_usage, title=\"Distribution of CSO tablet usage, months\").mark_bar().encode(\n",
    "    alt.X(\"tab_usage:Q\", \n",
    "          bin=alt.BinParams(step=1), title=\"# Months has had a tablet\"),\n",
    "    alt.Y(\"count()\", title=\"# of CSOs\"))\n",
    "\n",
    "csotabusage_ch.save(\"../img/csotabusage_ch.svg\", scale_factor=2.0)"
   ]
  },
  {
   "cell_type": "markdown",
   "metadata": {},
   "source": [
    "![Histogram of CSOs' tablet usage duration](../img/csotabusage_ch.svg)"
   ]
  },
  {
   "cell_type": "markdown",
   "metadata": {
    "ExecuteTime": {
     "end_time": "2018-10-18T06:06:58.475520Z",
     "start_time": "2018-10-18T06:06:58.294467Z"
    }
   },
   "source": [
    "We see that the majority of our CSOs have had their tablets for roughly {{int(tab_usage.tab_usage.mode()[0])}} months ({{np.round(tab_usage.tab_usage.mode()[0]/12, decimals=1)}} years). This is in keeping with the beginning of the Tusome program, and is as expected. CSOs who have had their tablets for longer are likely veterans of the PRIMR program (Tusome's predecessor); those who have had tablets for fewer months may have assumed their roles more recently. (CSO turnover due to retirement, promotion, maternity leave, etc. is an issue which Tusome is constantly needing to manage.)"
   ]
  },
  {
   "cell_type": "markdown",
   "metadata": {
    "ExecuteTime": {
     "end_time": "2018-10-12T13:38:15.821761Z",
     "start_time": "2018-10-12T13:38:15.784758Z"
    }
   },
   "source": [
    "### Proportion of CSOs reporting use of each application\n",
    "\n",
    "_Which applications do you use frequently when supporting teachers? ...After recording unprompted responses, read the list of options and record responses._\n",
    "  + Tangerine Tutor\n",
    "  + Papaya\n",
    "  + Tusome Books (in Adobe Acrobat)\n",
    "  + Tusome Videos (in MX Player)\n",
    "\n",
    "The CSOs' tablets come equipped with several tools meant to support their efforts as instructional coaches. These include the [_Tangerine:Tutor_](http://www.tangerinecentral.org/tutor/) application, the [_Papaya_](http://schoolsnetkenya.com/tusome-early-literacy-programme-sounds-application/) application, PDF versions of Tusome's instructional materials (pupil's books and teacher's guides), and videos that model effective instructional delivery.\n",
    "\n",
    "We are interested in which of those tools CSOs use, and how frequently. We will provide an analysis of their unprompted free-response answers to the question above. For the moment, we note the tools they said they use when we explicitly prompted them with the list of tools available."
   ]
  },
  {
   "cell_type": "code",
   "execution_count": 32,
   "metadata": {
    "ExecuteTime": {
     "end_time": "2018-11-03T12:12:23.683024Z",
     "start_time": "2018-11-03T12:12:23.657007Z"
    },
    "scrolled": false
   },
   "outputs": [],
   "source": [
    "# Generating a dataframe of CSOs' application usage\n",
    "app_users = {\"tutor\": csos.freqapps_tt_promp.sum(),\n",
    "         \"papaya\": csos.freqapps_papaya_promp.sum(),\n",
    "         \"books\": csos.freqapps_bks_promp.sum(),\n",
    "         \"videos\": csos.freqapps_vids_promp.sum()}\n",
    "app_usage = pd.DataFrame.from_dict(app_users, orient=\"index\", columns=[\"ct\"])\n",
    "app_usage[\"pct\"] = 100 * np.round(app_usage[\"ct\"] / csos.shape[0], decimals=3)\n",
    "app_usage = app_usage.rename_axis(\"app\").reset_index()"
   ]
  },
  {
   "cell_type": "code",
   "execution_count": 33,
   "metadata": {
    "ExecuteTime": {
     "end_time": "2018-11-03T12:12:33.453433Z",
     "start_time": "2018-11-03T12:12:23.687022Z"
    },
    "scrolled": true
   },
   "outputs": [],
   "source": [
    "# Generating bar chart of CSOs' tablet usage\n",
    "tooluse_ch = alt.Chart(app_usage, title=\"Proportion of CSOs reporting tool usage\").mark_bar().encode(\n",
    "    alt.Y(\"app:O\",\n",
    "          title=\"Application\",\n",
    "          sort = alt.EncodingSortField(field=\"pct\", op=\"values\", order=\"ascending\"),\n",
    "          ),\n",
    "    alt.X(\"pct:Q\", title=\"% of CSOs reporting usage\"),\n",
    "    tooltip=\"pct\")\n",
    "\n",
    "tooluse_ch.save(\"../img/tooluse_ch.svg\", scale_factor=2.0)"
   ]
  },
  {
   "cell_type": "markdown",
   "metadata": {
    "ExecuteTime": {
     "end_time": "2018-10-27T08:51:06.355293Z",
     "start_time": "2018-10-27T08:51:03.013Z"
    },
    "scrolled": true
   },
   "source": [
    "![Chart of CSOs reported tool usage patterns](../img/tooluse_ch.svg)"
   ]
  },
  {
   "cell_type": "markdown",
   "metadata": {
    "ExecuteTime": {
     "end_time": "2018-10-18T10:11:51.996964Z",
     "start_time": "2018-10-18T10:11:51.970463Z"
    }
   },
   "source": [
    "The overwhelming majority of the CSOs report using all of the applications. That said, the videos and books are used less frequently."
   ]
  },
  {
   "cell_type": "markdown",
   "metadata": {
    "ExecuteTime": {
     "end_time": "2018-10-18T10:14:09.150850Z",
     "start_time": "2018-10-18T10:14:09.136848Z"
    }
   },
   "source": [
    "### Proportion of CSOs who refer to Tangerine to provide post-observation feedback\n",
    "\n",
    "_Do you refer to Tangerine when giving teachers feedback after observing a lesson?_\n",
    "\n",
    "The _Tangerine:Tutor_ application analyzes the pattern of the CSO's responses to the observation items and surfaces actionable feedback that could be shared with the teacher to improve her or his instruction. While the auto-generated feedback is intended as a tool to help CSOs give more effective guidance to teachers, it can be quite extensive and is not prioritized. We were interested to know whether the CSOs make reference to the application's auto-generated feedback when they hold their post-observation debriefing session with the teacher."
   ]
  },
  {
   "cell_type": "code",
   "execution_count": 34,
   "metadata": {
    "ExecuteTime": {
     "end_time": "2018-11-03T12:12:33.466944Z",
     "start_time": "2018-11-03T12:12:33.459430Z"
    },
    "scrolled": false
   },
   "outputs": [],
   "source": [
    "# Calculating pct of CSOs wo give feedback after a lesson\n",
    "cso_ls_fdbk_sc = 100 * np.round(csos.ref_tang_fdbk.sum() / csos.shape[0], decimals=3)"
   ]
  },
  {
   "cell_type": "markdown",
   "metadata": {
    "ExecuteTime": {
     "end_time": "2018-10-18T10:11:51.996964Z",
     "start_time": "2018-10-18T10:11:51.970463Z"
    }
   },
   "source": [
    "Again, the overwhelming majority of CSOs - {{cso_ls_fdbk_sc}}% - report using the auto-generated feedback when holding their debrief session with the teacher. We will separately provide an analysis of their open-ended answers regarding _what_ they refer to and what they find most useful."
   ]
  },
  {
   "cell_type": "markdown",
   "metadata": {
    "ExecuteTime": {
     "end_time": "2018-10-18T10:11:51.996964Z",
     "start_time": "2018-10-18T10:11:51.970463Z"
    }
   },
   "source": [
    "### Proportion of CSOs who use Tangerine to plan their work\n",
    "\n",
    "_Do you refer to Tangerine to help you plan your work when you are **not** either observing a teacher or giving the teacher feedback?_\n",
    "\n",
    "Version 3 of the _Tangerine:Tutor_ application features a screen which allows a CSO to see schools they have visited and which they have not. We were interested to know whether the CSOs are leveraging this feature—or others, such as the pupils' fluency rates, which are reported in the feedback—to make decisions about which schools to visit in the future."
   ]
  },
  {
   "cell_type": "code",
   "execution_count": 35,
   "metadata": {
    "ExecuteTime": {
     "end_time": "2018-11-03T12:12:33.523944Z",
     "start_time": "2018-11-03T12:12:33.486941Z"
    },
    "scrolled": false
   },
   "outputs": [],
   "source": [
    "# Generating proportion of CSOs who use Tangerine to plan their work\n",
    "cso_tangplanners = 100 * np.round(csos.refer_tang_nonobs.sum() / csos.shape[0], decimals=3)"
   ]
  },
  {
   "cell_type": "markdown",
   "metadata": {
    "ExecuteTime": {
     "end_time": "2018-10-18T10:11:51.996964Z",
     "start_time": "2018-10-18T10:11:51.970463Z"
    }
   },
   "source": [
    "Fewer than two-thirds of CSOs ({{cso_tangplanners}}%) refer to Tangerine to plan their work. A sampling of the reasons they gave for not using it is provided below:"
   ]
  },
  {
   "cell_type": "code",
   "execution_count": 36,
   "metadata": {
    "ExecuteTime": {
     "end_time": "2018-11-03T12:12:33.576442Z",
     "start_time": "2018-11-03T12:12:33.538941Z"
    },
    "scrolled": false
   },
   "outputs": [
    {
     "data": {
      "text/plain": [
       "93     I normally use it for the observation and writing reports                                                                                           \n",
       "26     Tangerine is only meant for school.                                                                                                                 \n",
       "47     I don't think I have any reason because I have my own program. I only use it when I am going to school. We normally prepare our own program of work.\n",
       "31     She uses the personal schools information record to plan which school and teachers to support                                                       \n",
       "58     There is no form or provision to enter work plans or any other planned                                                                              \n",
       "62     I am still learning how to use the various features of the tangerine. With time, I will be able to use it more efficiently.                         \n",
       "152    The fear of GPS readings                                                                                                                            \n",
       "123    I have a lot of tasks to look into that are not so much related to the Tusome content on the Tangerine                                              \n",
       "21     Yes Tangerine has schools visited or not visted hence useful for programming and familiaration of the tool                                          \n",
       "130    I only use it for CLO only.                                                                                                                         \n",
       "Name: tang_nonobs_nowhynot, dtype: object"
      ]
     },
     "execution_count": 36,
     "metadata": {},
     "output_type": "execute_result"
    }
   ],
   "source": [
    "# Generating sample of reasons CSOs don't use Tangerine to plan their work\n",
    "csos[csos.tang_nonobs_nowhynot.notnull() & (csos.tang_nonobs_nowhynot != \"\")].tang_nonobs_nowhynot.sample(10)"
   ]
  },
  {
   "cell_type": "markdown",
   "metadata": {},
   "source": [
    "This result surfaces a few issues Tusome might consider addressing next time CSOs receive a refresher training on Tangerine's use.\n",
    "  1. A lack of awareness of how the information provided by the tablet (schools visited and not visited) could be operationalized\n",
    "  1. A fear that they would be accused of falsifying observation data, rooted specifically in a misunderstanding of the application's GPS-capture functionality\n",
    "  1. A mental compartmentalization of Tangerine as being a Tusome-specific tool, not for use in broader contexts\n",
    "\n",
    "Other reasons given suggest that the need which Tangerine might fill is already being addressed separately.\n",
    "  1. The CSO keeps a personal record (outside of the tablet) in which they track school visitation\n",
    "  1. The CSO has prepared a work schedule, and uses that as their guide until the month's activities have concluded."
   ]
  },
  {
   "cell_type": "markdown",
   "metadata": {},
   "source": [
    "### Frequency with which CSOs refer to the application\n",
    "\n",
    "\\[If the CSO refers to the Tangerine for planning purposes\\], _how often do you reference the data?_\n",
    "\n"
   ]
  },
  {
   "cell_type": "code",
   "execution_count": 37,
   "metadata": {
    "ExecuteTime": {
     "end_time": "2018-11-03T12:12:33.637944Z",
     "start_time": "2018-11-03T12:12:33.581443Z"
    },
    "scrolled": false
   },
   "outputs": [
    {
     "data": {
      "text/html": [
       "<div>\n",
       "<style scoped>\n",
       "    .dataframe tbody tr th:only-of-type {\n",
       "        vertical-align: middle;\n",
       "    }\n",
       "\n",
       "    .dataframe tbody tr th {\n",
       "        vertical-align: top;\n",
       "    }\n",
       "\n",
       "    .dataframe thead th {\n",
       "        text-align: right;\n",
       "    }\n",
       "</style>\n",
       "<table border=\"1\" class=\"dataframe\">\n",
       "  <thead>\n",
       "    <tr style=\"text-align: right;\">\n",
       "      <th></th>\n",
       "      <th>frequency</th>\n",
       "      <th>ct</th>\n",
       "      <th>sort_order</th>\n",
       "    </tr>\n",
       "  </thead>\n",
       "  <tbody>\n",
       "    <tr>\n",
       "      <th>0</th>\n",
       "      <td>Daily</td>\n",
       "      <td>24</td>\n",
       "      <td>0</td>\n",
       "    </tr>\n",
       "    <tr>\n",
       "      <th>1</th>\n",
       "      <td>Weekly</td>\n",
       "      <td>48</td>\n",
       "      <td>1</td>\n",
       "    </tr>\n",
       "    <tr>\n",
       "      <th>2</th>\n",
       "      <td>Monthly</td>\n",
       "      <td>19</td>\n",
       "      <td>2</td>\n",
       "    </tr>\n",
       "    <tr>\n",
       "      <th>3</th>\n",
       "      <td>Termly</td>\n",
       "      <td>4</td>\n",
       "      <td>3</td>\n",
       "    </tr>\n",
       "    <tr>\n",
       "      <th>4</th>\n",
       "      <td>Other</td>\n",
       "      <td>1</td>\n",
       "      <td>4</td>\n",
       "    </tr>\n",
       "  </tbody>\n",
       "</table>\n",
       "</div>"
      ],
      "text/plain": [
       "  frequency  ct  sort_order\n",
       "0  Daily     24  0         \n",
       "1  Weekly    48  1         \n",
       "2  Monthly   19  2         \n",
       "3  Termly    4   3         \n",
       "4  Other     1   4         "
      ]
     },
     "execution_count": 37,
     "metadata": {},
     "output_type": "execute_result"
    }
   ],
   "source": [
    "# Generating dataframe of how frequently CSOs refer to the Tangerine application\n",
    "tchk_freq = csos[csos.freq_refer_tang_plan.notna()].freq_refer_tang_plan.sort_values().value_counts(sort=False).to_frame(name=\"ct\")\n",
    "tchk_freq = tchk_freq.rename_axis(\"frequency\").reset_index()\n",
    "tchk_freq[\"frequency\"] = tchk_freq[\"frequency\"].replace({\n",
    "    1: \"Daily\", \n",
    "    2: \"Weekly\",\n",
    "    3: \"Monthly\",\n",
    "    4: \"Termly\",\n",
    "    88: \"Other\"})\n",
    "tchk_freq[\"sort_order\"] = tchk_freq.index\n",
    "tchk_freq"
   ]
  },
  {
   "cell_type": "markdown",
   "metadata": {
    "ExecuteTime": {
     "end_time": "2018-10-18T12:19:06.102224Z",
     "start_time": "2018-10-18T12:19:06.091229Z"
    }
   },
   "source": [
    "It appears that among the CSOs who check the application, it is most common to check it at least {{tchk_freq.frequency.loc[tchk_freq.ct == tchk_freq.ct.max()].str.lower()[1]}}."
   ]
  },
  {
   "cell_type": "code",
   "execution_count": 38,
   "metadata": {
    "ExecuteTime": {
     "end_time": "2018-11-03T12:12:41.939383Z",
     "start_time": "2018-11-03T12:12:33.658444Z"
    },
    "scrolled": true
   },
   "outputs": [],
   "source": [
    "# Generating chart of Tangerine App checking behavior\n",
    "tappchk_ch = alt.Chart(tchk_freq, title=\"Tangerine app checking behavior\").mark_bar().encode(\n",
    "    alt.X(\"ct:Q\"),\n",
    "    alt.Y(\"frequency:O\", sort = alt.EncodingSortField(field=\"sort_order:Q\", op=\"values\", order=\"ascending\")),\n",
    "    color = \"frequency\")\n",
    "\n",
    "tappchk_ch.save(\"../img/tappchk_ct.svg\", scale_factor=2.0)"
   ]
  },
  {
   "cell_type": "markdown",
   "metadata": {
    "ExecuteTime": {
     "end_time": "2018-10-27T08:51:06.366295Z",
     "start_time": "2018-10-27T08:51:04.367Z"
    },
    "scrolled": true
   },
   "source": [
    "![Chart of CSOs' Tangerine app-checking behavior](../img/tappchk_ct.svg)"
   ]
  },
  {
   "cell_type": "markdown",
   "metadata": {},
   "source": [
    "### CSO reference to the Tangerine Dashboard\n",
    "\n",
    "_In the last term, how often did you look at the Tangerine Dashboard?_\n",
    "\n",
    "The data that is generated by the CSOs' lesson observations is uploaded to the cloud and reported on the [Tangerine Dashboard](http://tools.tusome.tangerinecentral.org/_csv/report/group-national_tablet_program/00b0a09a-2a9f-baca-2acb-c6264d4247cb,c835fc38-de99-d064-59d3-e772ccefcf7d/2018/1/ep8yqMKT.html#tutor). This Dashboard is reviewed by senior management within the Ministry of Education: the Principal Secretary, his Directors, and their deputies. It is also sent to the Directors of MOE and TSC at the County level. As these latter personnel oversee the CSOs, the Dashboard may have an effect ..."
   ]
  },
  {
   "cell_type": "code",
   "execution_count": 39,
   "metadata": {
    "ExecuteTime": {
     "end_time": "2018-11-03T12:12:41.987881Z",
     "start_time": "2018-11-03T12:12:41.943882Z"
    },
    "scrolled": true
   },
   "outputs": [
    {
     "data": {
      "text/html": [
       "<div>\n",
       "<style scoped>\n",
       "    .dataframe tbody tr th:only-of-type {\n",
       "        vertical-align: middle;\n",
       "    }\n",
       "\n",
       "    .dataframe tbody tr th {\n",
       "        vertical-align: top;\n",
       "    }\n",
       "\n",
       "    .dataframe thead th {\n",
       "        text-align: right;\n",
       "    }\n",
       "</style>\n",
       "<table border=\"1\" class=\"dataframe\">\n",
       "  <thead>\n",
       "    <tr style=\"text-align: right;\">\n",
       "      <th></th>\n",
       "      <th>tapp_planning</th>\n",
       "      <th>db_check_ct</th>\n",
       "      <th>cdir_comm_reres</th>\n",
       "      <th>respondent_ct</th>\n",
       "    </tr>\n",
       "  </thead>\n",
       "  <tbody>\n",
       "    <tr>\n",
       "      <th>0</th>\n",
       "      <td>0.0</td>\n",
       "      <td>0.0</td>\n",
       "      <td>0.0</td>\n",
       "      <td>15</td>\n",
       "    </tr>\n",
       "    <tr>\n",
       "      <th>1</th>\n",
       "      <td>0.0</td>\n",
       "      <td>0.0</td>\n",
       "      <td>1.0</td>\n",
       "      <td>16</td>\n",
       "    </tr>\n",
       "    <tr>\n",
       "      <th>2</th>\n",
       "      <td>0.0</td>\n",
       "      <td>0.0</td>\n",
       "      <td>2.0</td>\n",
       "      <td>2</td>\n",
       "    </tr>\n",
       "    <tr>\n",
       "      <th>3</th>\n",
       "      <td>0.0</td>\n",
       "      <td>1.0</td>\n",
       "      <td>0.0</td>\n",
       "      <td>7</td>\n",
       "    </tr>\n",
       "    <tr>\n",
       "      <th>4</th>\n",
       "      <td>0.0</td>\n",
       "      <td>1.0</td>\n",
       "      <td>1.0</td>\n",
       "      <td>10</td>\n",
       "    </tr>\n",
       "    <tr>\n",
       "      <th>5</th>\n",
       "      <td>0.0</td>\n",
       "      <td>2.0</td>\n",
       "      <td>0.0</td>\n",
       "      <td>2</td>\n",
       "    </tr>\n",
       "    <tr>\n",
       "      <th>6</th>\n",
       "      <td>0.0</td>\n",
       "      <td>2.0</td>\n",
       "      <td>1.0</td>\n",
       "      <td>3</td>\n",
       "    </tr>\n",
       "    <tr>\n",
       "      <th>7</th>\n",
       "      <td>0.0</td>\n",
       "      <td>3.0</td>\n",
       "      <td>0.0</td>\n",
       "      <td>1</td>\n",
       "    </tr>\n",
       "    <tr>\n",
       "      <th>8</th>\n",
       "      <td>0.0</td>\n",
       "      <td>3.0</td>\n",
       "      <td>1.0</td>\n",
       "      <td>1</td>\n",
       "    </tr>\n",
       "    <tr>\n",
       "      <th>9</th>\n",
       "      <td>0.0</td>\n",
       "      <td>4.0</td>\n",
       "      <td>1.0</td>\n",
       "      <td>1</td>\n",
       "    </tr>\n",
       "    <tr>\n",
       "      <th>10</th>\n",
       "      <td>0.0</td>\n",
       "      <td>20.0</td>\n",
       "      <td>0.0</td>\n",
       "      <td>1</td>\n",
       "    </tr>\n",
       "    <tr>\n",
       "      <th>11</th>\n",
       "      <td>0.0</td>\n",
       "      <td>60.0</td>\n",
       "      <td>0.0</td>\n",
       "      <td>2</td>\n",
       "    </tr>\n",
       "    <tr>\n",
       "      <th>12</th>\n",
       "      <td>1.0</td>\n",
       "      <td>0.0</td>\n",
       "      <td>0.0</td>\n",
       "      <td>15</td>\n",
       "    </tr>\n",
       "    <tr>\n",
       "      <th>13</th>\n",
       "      <td>1.0</td>\n",
       "      <td>0.0</td>\n",
       "      <td>1.0</td>\n",
       "      <td>16</td>\n",
       "    </tr>\n",
       "    <tr>\n",
       "      <th>14</th>\n",
       "      <td>1.0</td>\n",
       "      <td>1.0</td>\n",
       "      <td>0.0</td>\n",
       "      <td>7</td>\n",
       "    </tr>\n",
       "    <tr>\n",
       "      <th>15</th>\n",
       "      <td>1.0</td>\n",
       "      <td>1.0</td>\n",
       "      <td>1.0</td>\n",
       "      <td>7</td>\n",
       "    </tr>\n",
       "    <tr>\n",
       "      <th>16</th>\n",
       "      <td>1.0</td>\n",
       "      <td>2.0</td>\n",
       "      <td>0.0</td>\n",
       "      <td>9</td>\n",
       "    </tr>\n",
       "    <tr>\n",
       "      <th>17</th>\n",
       "      <td>1.0</td>\n",
       "      <td>2.0</td>\n",
       "      <td>1.0</td>\n",
       "      <td>11</td>\n",
       "    </tr>\n",
       "    <tr>\n",
       "      <th>18</th>\n",
       "      <td>1.0</td>\n",
       "      <td>3.0</td>\n",
       "      <td>0.0</td>\n",
       "      <td>2</td>\n",
       "    </tr>\n",
       "    <tr>\n",
       "      <th>19</th>\n",
       "      <td>1.0</td>\n",
       "      <td>3.0</td>\n",
       "      <td>1.0</td>\n",
       "      <td>6</td>\n",
       "    </tr>\n",
       "    <tr>\n",
       "      <th>20</th>\n",
       "      <td>1.0</td>\n",
       "      <td>4.0</td>\n",
       "      <td>1.0</td>\n",
       "      <td>2</td>\n",
       "    </tr>\n",
       "    <tr>\n",
       "      <th>21</th>\n",
       "      <td>1.0</td>\n",
       "      <td>6.0</td>\n",
       "      <td>1.0</td>\n",
       "      <td>1</td>\n",
       "    </tr>\n",
       "    <tr>\n",
       "      <th>22</th>\n",
       "      <td>1.0</td>\n",
       "      <td>10.0</td>\n",
       "      <td>0.0</td>\n",
       "      <td>1</td>\n",
       "    </tr>\n",
       "    <tr>\n",
       "      <th>23</th>\n",
       "      <td>1.0</td>\n",
       "      <td>10.0</td>\n",
       "      <td>1.0</td>\n",
       "      <td>4</td>\n",
       "    </tr>\n",
       "    <tr>\n",
       "      <th>24</th>\n",
       "      <td>1.0</td>\n",
       "      <td>13.0</td>\n",
       "      <td>0.0</td>\n",
       "      <td>1</td>\n",
       "    </tr>\n",
       "    <tr>\n",
       "      <th>25</th>\n",
       "      <td>1.0</td>\n",
       "      <td>15.0</td>\n",
       "      <td>0.0</td>\n",
       "      <td>1</td>\n",
       "    </tr>\n",
       "    <tr>\n",
       "      <th>26</th>\n",
       "      <td>1.0</td>\n",
       "      <td>20.0</td>\n",
       "      <td>0.0</td>\n",
       "      <td>1</td>\n",
       "    </tr>\n",
       "    <tr>\n",
       "      <th>27</th>\n",
       "      <td>1.0</td>\n",
       "      <td>25.0</td>\n",
       "      <td>1.0</td>\n",
       "      <td>1</td>\n",
       "    </tr>\n",
       "    <tr>\n",
       "      <th>28</th>\n",
       "      <td>1.0</td>\n",
       "      <td>33.0</td>\n",
       "      <td>1.0</td>\n",
       "      <td>2</td>\n",
       "    </tr>\n",
       "    <tr>\n",
       "      <th>29</th>\n",
       "      <td>1.0</td>\n",
       "      <td>84.0</td>\n",
       "      <td>0.0</td>\n",
       "      <td>1</td>\n",
       "    </tr>\n",
       "    <tr>\n",
       "      <th>30</th>\n",
       "      <td>1.0</td>\n",
       "      <td>86.0</td>\n",
       "      <td>0.0</td>\n",
       "      <td>1</td>\n",
       "    </tr>\n",
       "  </tbody>\n",
       "</table>\n",
       "</div>"
      ],
      "text/plain": [
       "    tapp_planning  db_check_ct  cdir_comm_reres  respondent_ct\n",
       "0   0.0            0.0          0.0              15           \n",
       "1   0.0            0.0          1.0              16           \n",
       "2   0.0            0.0          2.0              2            \n",
       "3   0.0            1.0          0.0              7            \n",
       "4   0.0            1.0          1.0              10           \n",
       "5   0.0            2.0          0.0              2            \n",
       "6   0.0            2.0          1.0              3            \n",
       "7   0.0            3.0          0.0              1            \n",
       "8   0.0            3.0          1.0              1            \n",
       "9   0.0            4.0          1.0              1            \n",
       "10  0.0            20.0         0.0              1            \n",
       "11  0.0            60.0         0.0              2            \n",
       "12  1.0            0.0          0.0              15           \n",
       "13  1.0            0.0          1.0              16           \n",
       "14  1.0            1.0          0.0              7            \n",
       "15  1.0            1.0          1.0              7            \n",
       "16  1.0            2.0          0.0              9            \n",
       "17  1.0            2.0          1.0              11           \n",
       "18  1.0            3.0          0.0              2            \n",
       "19  1.0            3.0          1.0              6            \n",
       "20  1.0            4.0          1.0              2            \n",
       "21  1.0            6.0          1.0              1            \n",
       "22  1.0            10.0         0.0              1            \n",
       "23  1.0            10.0         1.0              4            \n",
       "24  1.0            13.0         0.0              1            \n",
       "25  1.0            15.0         0.0              1            \n",
       "26  1.0            20.0         0.0              1            \n",
       "27  1.0            25.0         1.0              1            \n",
       "28  1.0            33.0         1.0              2            \n",
       "29  1.0            84.0         0.0              1            \n",
       "30  1.0            86.0         0.0              1            "
      ]
     },
     "execution_count": 39,
     "metadata": {},
     "output_type": "execute_result"
    }
   ],
   "source": [
    "# Generating a dataframe of CSOs' Tangerine Dashboard viewing patterns\n",
    "cso_db_chk = pd.DataFrame(csos[[\"refer_tang_nonobs\", \"db_chk_prevterm_freq\", \"cdir_comm_reres\"]])\n",
    "cso_db_chk.rename(columns={\"refer_tang_nonobs\":\"tapp_planning\", \"db_chk_prevterm_freq\": \"db_check_ct\"}, inplace=True)\n",
    "grp_cso_db_chk = cso_db_chk.groupby([\"tapp_planning\", \"db_check_ct\", \"cdir_comm_reres\"])[\"db_check_ct\"].count().to_frame()\n",
    "grp_cso_db_chk = grp_cso_db_chk.rename(columns={\"db_check_ct\": \"respondent_ct\"}).reset_index()\n",
    "grp_cso_db_chk"
   ]
  },
  {
   "cell_type": "code",
   "execution_count": 40,
   "metadata": {
    "ExecuteTime": {
     "end_time": "2018-11-03T12:12:42.037883Z",
     "start_time": "2018-11-03T12:12:41.992883Z"
    }
   },
   "outputs": [],
   "source": [
    "# # Generating a bar chart of DB-checking behavior faceted by whether the CSO checks the Tangerine app for planning\n",
    "# base = alt.Chart(grp_cso_db_chk, title=\"CSOs' Dashboard checking behavior\").mark_bar().encode(\n",
    "#     alt.Y(\"respondent_ct:Q\"),\n",
    "#     alt.X(\"db_check_ct:O\"),\n",
    "#     color=\"tapp_planning:O\")\n",
    "\n",
    "# for check_yn in [0, 1]:\n",
    "#     csodbchk_ch |= base.transform_filter(datum.tapp_planning == check_yn)\n",
    "    \n",
    "# csodbchk_ch.save(\"../img/csodbchk_ch2.svg\", scale_factor=2.0)\n",
    "# # csodbchk_ch"
   ]
  },
  {
   "cell_type": "markdown",
   "metadata": {
    "ExecuteTime": {
     "end_time": "2018-11-02T11:30:00.009732Z",
     "start_time": "2018-11-02T11:29:59.656102Z"
    }
   },
   "source": [
    "![\"Graph of CSOs' DB-checking behavior\"](../img/csodbchk_ch.png)"
   ]
  },
  {
   "cell_type": "code",
   "execution_count": 41,
   "metadata": {
    "ExecuteTime": {
     "end_time": "2018-11-03T12:12:44.363711Z",
     "start_time": "2018-11-03T12:12:42.043383Z"
    },
    "scrolled": true
   },
   "outputs": [
    {
     "data": {
      "application/javascript": [
       "var spec = {\"config\": {\"view\": {\"width\": 400, \"height\": 300}}, \"vconcat\": [{\"hconcat\": []}, {\"hconcat\": [{\"vconcat\": []}, {\"data\": {\"name\": \"data-3feab35d2ce33738cab9557c9db1d27d\"}, \"mark\": \"bar\", \"encoding\": {\"color\": {\"type\": \"ordinal\", \"field\": \"tapp_planning\"}, \"x\": {\"type\": \"ordinal\", \"field\": \"db_check_ct\"}, \"y\": {\"type\": \"quantitative\", \"field\": \"respondent_ct\"}}, \"title\": \"CSOs' Dashboard checking behavior\", \"transform\": [{\"filter\": \"(datum.cdir_comm_reres === 0.0)\"}]}, {\"data\": {\"name\": \"data-3feab35d2ce33738cab9557c9db1d27d\"}, \"mark\": \"bar\", \"encoding\": {\"color\": {\"type\": \"ordinal\", \"field\": \"tapp_planning\"}, \"x\": {\"type\": \"ordinal\", \"field\": \"db_check_ct\"}, \"y\": {\"type\": \"quantitative\", \"field\": \"respondent_ct\"}}, \"title\": \"CSOs' Dashboard checking behavior\", \"transform\": [{\"filter\": \"(datum.cdir_comm_reres === 1.0)\"}]}, {\"data\": {\"name\": \"data-3feab35d2ce33738cab9557c9db1d27d\"}, \"mark\": \"bar\", \"encoding\": {\"color\": {\"type\": \"ordinal\", \"field\": \"tapp_planning\"}, \"x\": {\"type\": \"ordinal\", \"field\": \"db_check_ct\"}, \"y\": {\"type\": \"quantitative\", \"field\": \"respondent_ct\"}}, \"title\": \"CSOs' Dashboard checking behavior\", \"transform\": [{\"filter\": \"(datum.cdir_comm_reres === 2.0)\"}]}]}], \"$schema\": \"https://vega.github.io/schema/vega-lite/v2.6.0.json\", \"datasets\": {\"data-3feab35d2ce33738cab9557c9db1d27d\": [{\"tapp_planning\": 0.0, \"db_check_ct\": 0.0, \"cdir_comm_reres\": 0.0, \"respondent_ct\": 15}, {\"tapp_planning\": 0.0, \"db_check_ct\": 0.0, \"cdir_comm_reres\": 1.0, \"respondent_ct\": 16}, {\"tapp_planning\": 0.0, \"db_check_ct\": 0.0, \"cdir_comm_reres\": 2.0, \"respondent_ct\": 2}, {\"tapp_planning\": 0.0, \"db_check_ct\": 1.0, \"cdir_comm_reres\": 0.0, \"respondent_ct\": 7}, {\"tapp_planning\": 0.0, \"db_check_ct\": 1.0, \"cdir_comm_reres\": 1.0, \"respondent_ct\": 10}, {\"tapp_planning\": 0.0, \"db_check_ct\": 2.0, \"cdir_comm_reres\": 0.0, \"respondent_ct\": 2}, {\"tapp_planning\": 0.0, \"db_check_ct\": 2.0, \"cdir_comm_reres\": 1.0, \"respondent_ct\": 3}, {\"tapp_planning\": 0.0, \"db_check_ct\": 3.0, \"cdir_comm_reres\": 0.0, \"respondent_ct\": 1}, {\"tapp_planning\": 0.0, \"db_check_ct\": 3.0, \"cdir_comm_reres\": 1.0, \"respondent_ct\": 1}, {\"tapp_planning\": 0.0, \"db_check_ct\": 4.0, \"cdir_comm_reres\": 1.0, \"respondent_ct\": 1}, {\"tapp_planning\": 0.0, \"db_check_ct\": 20.0, \"cdir_comm_reres\": 0.0, \"respondent_ct\": 1}, {\"tapp_planning\": 0.0, \"db_check_ct\": 60.0, \"cdir_comm_reres\": 0.0, \"respondent_ct\": 2}, {\"tapp_planning\": 1.0, \"db_check_ct\": 0.0, \"cdir_comm_reres\": 0.0, \"respondent_ct\": 15}, {\"tapp_planning\": 1.0, \"db_check_ct\": 0.0, \"cdir_comm_reres\": 1.0, \"respondent_ct\": 16}, {\"tapp_planning\": 1.0, \"db_check_ct\": 1.0, \"cdir_comm_reres\": 0.0, \"respondent_ct\": 7}, {\"tapp_planning\": 1.0, \"db_check_ct\": 1.0, \"cdir_comm_reres\": 1.0, \"respondent_ct\": 7}, {\"tapp_planning\": 1.0, \"db_check_ct\": 2.0, \"cdir_comm_reres\": 0.0, \"respondent_ct\": 9}, {\"tapp_planning\": 1.0, \"db_check_ct\": 2.0, \"cdir_comm_reres\": 1.0, \"respondent_ct\": 11}, {\"tapp_planning\": 1.0, \"db_check_ct\": 3.0, \"cdir_comm_reres\": 0.0, \"respondent_ct\": 2}, {\"tapp_planning\": 1.0, \"db_check_ct\": 3.0, \"cdir_comm_reres\": 1.0, \"respondent_ct\": 6}, {\"tapp_planning\": 1.0, \"db_check_ct\": 4.0, \"cdir_comm_reres\": 1.0, \"respondent_ct\": 2}, {\"tapp_planning\": 1.0, \"db_check_ct\": 6.0, \"cdir_comm_reres\": 1.0, \"respondent_ct\": 1}, {\"tapp_planning\": 1.0, \"db_check_ct\": 10.0, \"cdir_comm_reres\": 0.0, \"respondent_ct\": 1}, {\"tapp_planning\": 1.0, \"db_check_ct\": 10.0, \"cdir_comm_reres\": 1.0, \"respondent_ct\": 4}, {\"tapp_planning\": 1.0, \"db_check_ct\": 13.0, \"cdir_comm_reres\": 0.0, \"respondent_ct\": 1}, {\"tapp_planning\": 1.0, \"db_check_ct\": 15.0, \"cdir_comm_reres\": 0.0, \"respondent_ct\": 1}, {\"tapp_planning\": 1.0, \"db_check_ct\": 20.0, \"cdir_comm_reres\": 0.0, \"respondent_ct\": 1}, {\"tapp_planning\": 1.0, \"db_check_ct\": 25.0, \"cdir_comm_reres\": 1.0, \"respondent_ct\": 1}, {\"tapp_planning\": 1.0, \"db_check_ct\": 33.0, \"cdir_comm_reres\": 1.0, \"respondent_ct\": 2}, {\"tapp_planning\": 1.0, \"db_check_ct\": 84.0, \"cdir_comm_reres\": 0.0, \"respondent_ct\": 1}, {\"tapp_planning\": 1.0, \"db_check_ct\": 86.0, \"cdir_comm_reres\": 0.0, \"respondent_ct\": 1}]}};\n",
       "var opt = {};\n",
       "var type = \"vega-lite\";\n",
       "var id = \"7cf37c89-95e1-45ad-9fee-661fe4579e73\";\n",
       "\n",
       "var output_area = this;\n",
       "\n",
       "require([\"nbextensions/jupyter-vega/index\"], function(vega) {\n",
       "  var target = document.createElement(\"div\");\n",
       "  target.id = id;\n",
       "  target.className = \"vega-embed\";\n",
       "\n",
       "  var style = document.createElement(\"style\");\n",
       "  style.textContent = [\n",
       "    \".vega-embed .error p {\",\n",
       "    \"  color: firebrick;\",\n",
       "    \"  font-size: 14px;\",\n",
       "    \"}\",\n",
       "  ].join(\"\\\\n\");\n",
       "\n",
       "  // element is a jQuery wrapped DOM element inside the output area\n",
       "  // see http://ipython.readthedocs.io/en/stable/api/generated/\\\n",
       "  // IPython.display.html#IPython.display.Javascript.__init__\n",
       "  element[0].appendChild(target);\n",
       "  element[0].appendChild(style);\n",
       "\n",
       "  vega.render(\"#\" + id, spec, type, opt, output_area);\n",
       "}, function (err) {\n",
       "  if (err.requireType !== \"scripterror\") {\n",
       "    throw(err);\n",
       "  }\n",
       "});\n"
      ],
      "text/plain": [
       "<vega.vegalite.VegaLite at 0x2a2d22fc128>"
      ]
     },
     "metadata": {
      "jupyter-vega": "#7cf37c89-95e1-45ad-9fee-661fe4579e73"
     },
     "output_type": "display_data"
    },
    {
     "data": {
      "text/plain": []
     },
     "execution_count": 41,
     "metadata": {},
     "output_type": "execute_result"
    },
    {
     "data": {
      "image/png": "[encoded data removed]"
     },
     "metadata": {
      "jupyter-vega": "#7cf37c89-95e1-45ad-9fee-661fe4579e73"
     },
     "output_type": "display_data"
    }
   ],
   "source": [
    "base2 = alt.Chart(grp_cso_db_chk, title=\"CSOs' Dashboard checking behavior\").mark_bar().encode(\n",
    "    alt.Y(\"respondent_ct:Q\"),\n",
    "    alt.X(\"db_check_ct:O\"),\n",
    "    color=\"tapp_planning:O\")\n",
    "\n",
    "# csodbchk_ch = alt.hconcat()\n",
    "# for dc in grp_cso_db_chk[\"cdir_comm_reres\"].unique():\n",
    "# for dc in [0., 1., 2.]:\n",
    "#     colch &= base2.transform_filter(datum.cdir_comm_reres == dc),\n",
    "# for check_yn in [1, 0]:\n",
    "#     row |= base2.transform_filter(datum.tapp_planning == check_yn)\n",
    "\n",
    "#create a list of subplots\n",
    "subplts = []\n",
    "for dc in grp_cso_db_chk['cdir_comm_reres'].unique():\n",
    "    subplts.append(base2.transform_filter(datum.cdir_comm_reres == dc))\n",
    "\n",
    "def facet_wrap(subplts, plots_per_row):\n",
    "    rows = [subplts[i:i+plots_per_row] for i in range(0, len(subplts), plots_per_row)]\n",
    "    compound_chart = alt.hconcat()\n",
    "    for r in rows:\n",
    "        rowplot = alt.vconcat() #start a new row\n",
    "        for item in r:\n",
    "            rowplot |= item #add suplot to current row as a new column\n",
    "        compound_chart &= rowplot # add the entire row of plots as a new row\n",
    "    return compound_chart\n",
    "\n",
    "compound_chart = facet_wrap(subplts, plots_per_row=3)    \n",
    "compound_chart"
   ]
  },
  {
   "cell_type": "code",
   "execution_count": 42,
   "metadata": {
    "ExecuteTime": {
     "end_time": "2018-11-03T12:12:44.407741Z",
     "start_time": "2018-11-03T12:12:44.368721Z"
    }
   },
   "outputs": [
    {
     "data": {
      "application/javascript": [
       "var spec = {\"config\": {\"view\": {\"width\": 400, \"height\": 300}}, \"repeat\": {\"column\": [\"db_check_ct\", \"cdir_comm_reres\"]}, \"spec\": {\"data\": {\"name\": \"data-3feab35d2ce33738cab9557c9db1d27d\"}, \"mark\": \"bar\", \"encoding\": {\"color\": {\"type\": \"ordinal\", \"field\": \"tapp_planning\"}, \"x\": {\"type\": \"quantitative\", \"field\": {\"repeat\": \"column\"}}, \"y\": {\"type\": \"quantitative\", \"field\": \"respondent_ct\"}}, \"title\": \"CSOs' Dashboard checking behavior\"}, \"$schema\": \"https://vega.github.io/schema/vega-lite/v2.6.0.json\", \"datasets\": {\"data-3feab35d2ce33738cab9557c9db1d27d\": [{\"tapp_planning\": 0.0, \"db_check_ct\": 0.0, \"cdir_comm_reres\": 0.0, \"respondent_ct\": 15}, {\"tapp_planning\": 0.0, \"db_check_ct\": 0.0, \"cdir_comm_reres\": 1.0, \"respondent_ct\": 16}, {\"tapp_planning\": 0.0, \"db_check_ct\": 0.0, \"cdir_comm_reres\": 2.0, \"respondent_ct\": 2}, {\"tapp_planning\": 0.0, \"db_check_ct\": 1.0, \"cdir_comm_reres\": 0.0, \"respondent_ct\": 7}, {\"tapp_planning\": 0.0, \"db_check_ct\": 1.0, \"cdir_comm_reres\": 1.0, \"respondent_ct\": 10}, {\"tapp_planning\": 0.0, \"db_check_ct\": 2.0, \"cdir_comm_reres\": 0.0, \"respondent_ct\": 2}, {\"tapp_planning\": 0.0, \"db_check_ct\": 2.0, \"cdir_comm_reres\": 1.0, \"respondent_ct\": 3}, {\"tapp_planning\": 0.0, \"db_check_ct\": 3.0, \"cdir_comm_reres\": 0.0, \"respondent_ct\": 1}, {\"tapp_planning\": 0.0, \"db_check_ct\": 3.0, \"cdir_comm_reres\": 1.0, \"respondent_ct\": 1}, {\"tapp_planning\": 0.0, \"db_check_ct\": 4.0, \"cdir_comm_reres\": 1.0, \"respondent_ct\": 1}, {\"tapp_planning\": 0.0, \"db_check_ct\": 20.0, \"cdir_comm_reres\": 0.0, \"respondent_ct\": 1}, {\"tapp_planning\": 0.0, \"db_check_ct\": 60.0, \"cdir_comm_reres\": 0.0, \"respondent_ct\": 2}, {\"tapp_planning\": 1.0, \"db_check_ct\": 0.0, \"cdir_comm_reres\": 0.0, \"respondent_ct\": 15}, {\"tapp_planning\": 1.0, \"db_check_ct\": 0.0, \"cdir_comm_reres\": 1.0, \"respondent_ct\": 16}, {\"tapp_planning\": 1.0, \"db_check_ct\": 1.0, \"cdir_comm_reres\": 0.0, \"respondent_ct\": 7}, {\"tapp_planning\": 1.0, \"db_check_ct\": 1.0, \"cdir_comm_reres\": 1.0, \"respondent_ct\": 7}, {\"tapp_planning\": 1.0, \"db_check_ct\": 2.0, \"cdir_comm_reres\": 0.0, \"respondent_ct\": 9}, {\"tapp_planning\": 1.0, \"db_check_ct\": 2.0, \"cdir_comm_reres\": 1.0, \"respondent_ct\": 11}, {\"tapp_planning\": 1.0, \"db_check_ct\": 3.0, \"cdir_comm_reres\": 0.0, \"respondent_ct\": 2}, {\"tapp_planning\": 1.0, \"db_check_ct\": 3.0, \"cdir_comm_reres\": 1.0, \"respondent_ct\": 6}, {\"tapp_planning\": 1.0, \"db_check_ct\": 4.0, \"cdir_comm_reres\": 1.0, \"respondent_ct\": 2}, {\"tapp_planning\": 1.0, \"db_check_ct\": 6.0, \"cdir_comm_reres\": 1.0, \"respondent_ct\": 1}, {\"tapp_planning\": 1.0, \"db_check_ct\": 10.0, \"cdir_comm_reres\": 0.0, \"respondent_ct\": 1}, {\"tapp_planning\": 1.0, \"db_check_ct\": 10.0, \"cdir_comm_reres\": 1.0, \"respondent_ct\": 4}, {\"tapp_planning\": 1.0, \"db_check_ct\": 13.0, \"cdir_comm_reres\": 0.0, \"respondent_ct\": 1}, {\"tapp_planning\": 1.0, \"db_check_ct\": 15.0, \"cdir_comm_reres\": 0.0, \"respondent_ct\": 1}, {\"tapp_planning\": 1.0, \"db_check_ct\": 20.0, \"cdir_comm_reres\": 0.0, \"respondent_ct\": 1}, {\"tapp_planning\": 1.0, \"db_check_ct\": 25.0, \"cdir_comm_reres\": 1.0, \"respondent_ct\": 1}, {\"tapp_planning\": 1.0, \"db_check_ct\": 33.0, \"cdir_comm_reres\": 1.0, \"respondent_ct\": 2}, {\"tapp_planning\": 1.0, \"db_check_ct\": 84.0, \"cdir_comm_reres\": 0.0, \"respondent_ct\": 1}, {\"tapp_planning\": 1.0, \"db_check_ct\": 86.0, \"cdir_comm_reres\": 0.0, \"respondent_ct\": 1}]}};\n",
       "var opt = {};\n",
       "var type = \"vega-lite\";\n",
       "var id = \"544f77a6-7855-4a97-a3c1-bb62edcffd88\";\n",
       "\n",
       "var output_area = this;\n",
       "\n",
       "require([\"nbextensions/jupyter-vega/index\"], function(vega) {\n",
       "  var target = document.createElement(\"div\");\n",
       "  target.id = id;\n",
       "  target.className = \"vega-embed\";\n",
       "\n",
       "  var style = document.createElement(\"style\");\n",
       "  style.textContent = [\n",
       "    \".vega-embed .error p {\",\n",
       "    \"  color: firebrick;\",\n",
       "    \"  font-size: 14px;\",\n",
       "    \"}\",\n",
       "  ].join(\"\\\\n\");\n",
       "\n",
       "  // element is a jQuery wrapped DOM element inside the output area\n",
       "  // see http://ipython.readthedocs.io/en/stable/api/generated/\\\n",
       "  // IPython.display.html#IPython.display.Javascript.__init__\n",
       "  element[0].appendChild(target);\n",
       "  element[0].appendChild(style);\n",
       "\n",
       "  vega.render(\"#\" + id, spec, type, opt, output_area);\n",
       "}, function (err) {\n",
       "  if (err.requireType !== \"scripterror\") {\n",
       "    throw(err);\n",
       "  }\n",
       "});\n"
      ],
      "text/plain": [
       "<vega.vegalite.VegaLite at 0x2a2d2545c88>"
      ]
     },
     "metadata": {
      "jupyter-vega": "#544f77a6-7855-4a97-a3c1-bb62edcffd88"
     },
     "output_type": "display_data"
    },
    {
     "data": {
      "text/plain": []
     },
     "execution_count": 42,
     "metadata": {},
     "output_type": "execute_result"
    },
    {
     "data": {
      "image/png": "[encoded data removed]"
     },
     "metadata": {
      "jupyter-vega": "#544f77a6-7855-4a97-a3c1-bb62edcffd88"
     },
     "output_type": "display_data"
    }
   ],
   "source": [
    "base3 = alt.Chart(grp_cso_db_chk, title=\"CSOs' Dashboard checking behavior\").mark_bar().encode(\n",
    "    alt.X(alt.repeat(\"column\"), type = 'quantitative'),\n",
    "    alt.Y(\"respondent_ct:Q\"),\n",
    "    color=\"tapp_planning:O\").repeat(\n",
    "#     row=['db_check_ct', 'cdir_comm_reres'],\n",
    "    column=['db_check_ct', 'cdir_comm_reres']\n",
    ")\n",
    "\n",
    "# csodbchk_ch = alt.hconcat()\n",
    "# grid = alt.vconcat(data=grp_cso_db_chk)\n",
    "# for y_encoding in [\"tapp_planning:O\", \"\"]:\n",
    "#     row = alt.hconcat()\n",
    "#     for dirchk in [\"Yes\", \"No\", 2]\n",
    "#         row |= base.encode(y = \"respondent_ct:Q\"),\n",
    "#     alt.X(\"db_check_ct:O\"),)\n",
    "# csodbchk_ch |= base.transform_filter(datum.tapp_planning == check_yn)\n",
    "    \n",
    "base3"
   ]
  },
  {
   "cell_type": "markdown",
   "metadata": {},
   "source": [
    "### Proportion of CSOs whose Directors communicate re Dashboard data\n"
   ]
  },
  {
   "cell_type": "code",
   "execution_count": 43,
   "metadata": {
    "ExecuteTime": {
     "end_time": "2018-11-03T12:12:44.428739Z",
     "start_time": "2018-11-03T12:12:44.411746Z"
    }
   },
   "outputs": [],
   "source": [
    "# Generating chart of directors' communication re Dashboard\n",
    "dircomms_df = pd.DataFrame.from_dict({\n",
    "    \"dir_comms\": [\"yes\", \"no\", \"unknown\"],\n",
    "    \"ct\": [\n",
    "        csos[csos.cdir_comm_reres==1].cdir_comm_reres.count(),\n",
    "        csos[csos.cdir_comm_reres==0].cdir_comm_reres.count(),\n",
    "        csos[csos.cdir_comm_reres==2].cdir_comm_reres.count(),\n",
    "    ]})\n",
    "                                      \n",
    "dircomms_df[\"pct\"] = 100 * np.round(dircomms_df.ct / csos.shape[0], decimals=1)"
   ]
  },
  {
   "cell_type": "code",
   "execution_count": 44,
   "metadata": {
    "ExecuteTime": {
     "end_time": "2018-11-03T12:12:44.440749Z",
     "start_time": "2018-11-03T12:12:44.433780Z"
    }
   },
   "outputs": [],
   "source": [
    "dircomms_ch = alt.Chart(dircomms_df).mark_bar().encode(\n",
    "    alt.Y(\"pct:Q\"),\n",
    "    alt.X(\"dir_comms:O\", sort = alt.EncodingSortField(field=\"sort_order:Q\", op=\"values\", order=\"ascending\")))"
   ]
  },
  {
   "cell_type": "code",
   "execution_count": 45,
   "metadata": {
    "ExecuteTime": {
     "end_time": "2018-11-03T12:12:44.471747Z",
     "start_time": "2018-11-03T12:12:44.444747Z"
    }
   },
   "outputs": [
    {
     "data": {
      "application/javascript": [
       "var spec = {\"config\": {\"view\": {\"width\": 400, \"height\": 300}}, \"data\": {\"name\": \"data-524b21e92e3f71b20a0953f0c46334d3\"}, \"mark\": \"bar\", \"encoding\": {\"x\": {\"type\": \"ordinal\", \"field\": \"dir_comms\", \"sort\": {\"op\": \"values\", \"field\": \"sort_order:Q\", \"order\": \"ascending\"}}, \"y\": {\"type\": \"quantitative\", \"field\": \"pct\"}}, \"$schema\": \"https://vega.github.io/schema/vega-lite/v2.6.0.json\", \"datasets\": {\"data-524b21e92e3f71b20a0953f0c46334d3\": [{\"dir_comms\": \"yes\", \"ct\": 85, \"pct\": 50.0}, {\"dir_comms\": \"no\", \"ct\": 68, \"pct\": 40.0}, {\"dir_comms\": \"unknown\", \"ct\": 2, \"pct\": 0.0}]}};\n",
       "var opt = {};\n",
       "var type = \"vega-lite\";\n",
       "var id = \"e9dc406d-1fce-46fc-be31-2213734ec0f4\";\n",
       "\n",
       "var output_area = this;\n",
       "\n",
       "require([\"nbextensions/jupyter-vega/index\"], function(vega) {\n",
       "  var target = document.createElement(\"div\");\n",
       "  target.id = id;\n",
       "  target.className = \"vega-embed\";\n",
       "\n",
       "  var style = document.createElement(\"style\");\n",
       "  style.textContent = [\n",
       "    \".vega-embed .error p {\",\n",
       "    \"  color: firebrick;\",\n",
       "    \"  font-size: 14px;\",\n",
       "    \"}\",\n",
       "  ].join(\"\\\\n\");\n",
       "\n",
       "  // element is a jQuery wrapped DOM element inside the output area\n",
       "  // see http://ipython.readthedocs.io/en/stable/api/generated/\\\n",
       "  // IPython.display.html#IPython.display.Javascript.__init__\n",
       "  element[0].appendChild(target);\n",
       "  element[0].appendChild(style);\n",
       "\n",
       "  vega.render(\"#\" + id, spec, type, opt, output_area);\n",
       "}, function (err) {\n",
       "  if (err.requireType !== \"scripterror\") {\n",
       "    throw(err);\n",
       "  }\n",
       "});\n"
      ],
      "text/plain": [
       "<vega.vegalite.VegaLite at 0x2a2d2292cc0>"
      ]
     },
     "metadata": {
      "jupyter-vega": "#e9dc406d-1fce-46fc-be31-2213734ec0f4"
     },
     "output_type": "display_data"
    },
    {
     "data": {
      "text/plain": []
     },
     "execution_count": 45,
     "metadata": {},
     "output_type": "execute_result"
    },
    {
     "data": {
      "image/png": "[encoded data removed]"
     },
     "metadata": {
      "jupyter-vega": "#e9dc406d-1fce-46fc-be31-2213734ec0f4"
     },
     "output_type": "display_data"
    }
   ],
   "source": [
    "dircomms_ch"
   ]
  },
  {
   "cell_type": "code",
   "execution_count": 46,
   "metadata": {
    "ExecuteTime": {
     "end_time": "2018-11-03T12:12:44.534775Z",
     "start_time": "2018-11-03T12:12:44.475744Z"
    }
   },
   "outputs": [
    {
     "data": {
      "text/html": [
       "<div>\n",
       "<style scoped>\n",
       "    .dataframe tbody tr th:only-of-type {\n",
       "        vertical-align: middle;\n",
       "    }\n",
       "\n",
       "    .dataframe tbody tr th {\n",
       "        vertical-align: top;\n",
       "    }\n",
       "\n",
       "    .dataframe thead th {\n",
       "        text-align: right;\n",
       "    }\n",
       "</style>\n",
       "<table border=\"1\" class=\"dataframe\">\n",
       "  <thead>\n",
       "    <tr style=\"text-align: right;\">\n",
       "      <th></th>\n",
       "      <th>role</th>\n",
       "      <th>got_better_ct</th>\n",
       "      <th>got_worse_ct</th>\n",
       "      <th>no_change_ct</th>\n",
       "      <th>got_better_pct</th>\n",
       "      <th>got_worse_pct</th>\n",
       "      <th>no_change_pct</th>\n",
       "    </tr>\n",
       "  </thead>\n",
       "  <tbody>\n",
       "    <tr>\n",
       "      <th>0</th>\n",
       "      <td>teacher</td>\n",
       "      <td>156</td>\n",
       "      <td>3</td>\n",
       "      <td>0</td>\n",
       "      <td>99.0</td>\n",
       "      <td>2.0</td>\n",
       "      <td>0.0</td>\n",
       "    </tr>\n",
       "    <tr>\n",
       "      <th>1</th>\n",
       "      <td>headteacher</td>\n",
       "      <td>149</td>\n",
       "      <td>3</td>\n",
       "      <td>6</td>\n",
       "      <td>95.0</td>\n",
       "      <td>2.0</td>\n",
       "      <td>4.0</td>\n",
       "    </tr>\n",
       "    <tr>\n",
       "      <th>2</th>\n",
       "      <td>TSC Subcounty Dir (SC)</td>\n",
       "      <td>102</td>\n",
       "      <td>9</td>\n",
       "      <td>32</td>\n",
       "      <td>65.0</td>\n",
       "      <td>6.0</td>\n",
       "      <td>20.0</td>\n",
       "    </tr>\n",
       "    <tr>\n",
       "      <th>3</th>\n",
       "      <td>TSC County Dir (C)</td>\n",
       "      <td>102</td>\n",
       "      <td>8</td>\n",
       "      <td>38</td>\n",
       "      <td>65.0</td>\n",
       "      <td>5.0</td>\n",
       "      <td>24.0</td>\n",
       "    </tr>\n",
       "    <tr>\n",
       "      <th>4</th>\n",
       "      <td>MOE Subcounty Dir (SC)</td>\n",
       "      <td>80</td>\n",
       "      <td>13</td>\n",
       "      <td>50</td>\n",
       "      <td>51.0</td>\n",
       "      <td>8.0</td>\n",
       "      <td>32.0</td>\n",
       "    </tr>\n",
       "    <tr>\n",
       "      <th>5</th>\n",
       "      <td>MOE County Dir (C)</td>\n",
       "      <td>75</td>\n",
       "      <td>11</td>\n",
       "      <td>58</td>\n",
       "      <td>48.0</td>\n",
       "      <td>7.0</td>\n",
       "      <td>37.0</td>\n",
       "    </tr>\n",
       "  </tbody>\n",
       "</table>\n",
       "</div>"
      ],
      "text/plain": [
       "                     role  got_better_ct  got_worse_ct  no_change_ct  \\\n",
       "0  teacher                 156            3             0              \n",
       "1  headteacher             149            3             6              \n",
       "2  TSC Subcounty Dir (SC)  102            9             32             \n",
       "3  TSC County Dir (C)      102            8             38             \n",
       "4  MOE Subcounty Dir (SC)  80             13            50             \n",
       "5  MOE County Dir (C)      75             11            58             \n",
       "\n",
       "   got_better_pct  got_worse_pct  no_change_pct  \n",
       "0  99.0            2.0            0.0            \n",
       "1  95.0            2.0            4.0            \n",
       "2  65.0            6.0            20.0           \n",
       "3  65.0            5.0            24.0           \n",
       "4  51.0            8.0            32.0           \n",
       "5  48.0            7.0            37.0           "
      ]
     },
     "execution_count": 46,
     "metadata": {},
     "output_type": "execute_result"
    }
   ],
   "source": [
    "relx_changes_df = pd.DataFrame.from_dict(\n",
    "    {\"role\": [\"teacher\",\n",
    "              \"headteacher\",\n",
    "              \"TSC Subcounty Dir (SC)\",\n",
    "              \"TSC County Dir (C)\",\n",
    "              \"MOE Subcounty Dir (SC)\",\n",
    "              \"MOE County Dir (C)\"],\n",
    "     \"got_better_ct\": [csos.relx_better_tchr.sum(),\n",
    "                    csos.relx_better_ht.sum(),\n",
    "                    csos.relx_better_tscscd.sum(),\n",
    "                    csos.relx_better_tsccd.sum(),\n",
    "                    csos.relx_better_moescd.sum(),\n",
    "                    csos.relx_better_moecd.sum(),],\n",
    "     \"got_worse_ct\": [csos.relx_worse_tchr.sum(),\n",
    "                   csos.relx_worse_ht.sum(),\n",
    "                   csos.relx_worse_tscscd.sum(),\n",
    "                   csos.relx_worse_tsccd.sum(),\n",
    "                   csos.relx_worse_moescd.sum(),\n",
    "                   csos.relx_worse_moecd.sum(),],\n",
    "     \"no_change_ct\": [csos.relx_nochg_tchr.sum(),\n",
    "                   csos.relx_nochg_ht.sum(),\n",
    "                   csos.relx_nochg_tscscd.sum(),\n",
    "                   csos.relx_nochg_tsccd.sum(),\n",
    "                   csos.relx_nochg_moescd.sum(),\n",
    "                   csos.relx_nochg_moecd.sum(),]})\n",
    "relx_changes_df[\"got_better_pct\"] = 100 * np.round(relx_changes_df.got_better_ct / csos.shape[0], decimals=2)\n",
    "relx_changes_df[\"got_worse_pct\"] = 100 * np.round(relx_changes_df.got_worse_ct / csos.shape[0], decimals=2)\n",
    "relx_changes_df[\"no_change_pct\"] = 100 * np.round(relx_changes_df.no_change_ct / csos.shape[0], decimals=2)\n",
    "\n",
    "relx_changes_df"
   ]
  },
  {
   "cell_type": "code",
   "execution_count": 47,
   "metadata": {
    "ExecuteTime": {
     "end_time": "2018-11-03T12:12:44.549772Z",
     "start_time": "2018-11-03T12:12:44.538771Z"
    }
   },
   "outputs": [],
   "source": [
    "# Generating a stacked bar chart of the relationship changes\n",
    "\n"
   ]
  },
  {
   "cell_type": "code",
   "execution_count": 48,
   "metadata": {
    "ExecuteTime": {
     "end_time": "2018-11-03T12:12:44.569775Z",
     "start_time": "2018-11-03T12:12:44.554774Z"
    }
   },
   "outputs": [
    {
     "data": {
      "text/plain": [
       "35.0"
      ]
     },
     "execution_count": 48,
     "metadata": {},
     "output_type": "execute_result"
    }
   ],
   "source": [
    "# Calculating the proportion of CSOs who say their Director has announced serious consequences\n",
    "consequence_sc = 100 * np.round(csos.cdir_conseq_yn.sum()/csos.shape[0], decimals=2)\n",
    "consequence_sc"
   ]
  },
  {
   "cell_type": "code",
   "execution_count": 49,
   "metadata": {
    "ExecuteTime": {
     "end_time": "2018-11-03T12:12:44.593286Z",
     "start_time": "2018-11-03T12:12:44.573774Z"
    }
   },
   "outputs": [
    {
     "name": "stdout",
     "output_type": "stream",
     "text": [
      "18     the CSO was given a warning but gave room for them to upload the data if there was any                                                                           \n",
      "123    Most of us were told to put more doing schoool support visit.                                                                                                    \n",
      "42     A warning that is the employer is watching and we wiil take stern action                                                                                         \n",
      "150    he promised to visit the concerned CSO especially those doing bad to assertain the reason behind poor achievementa among pupils.                                 \n",
      "121    The director told us we must improve because the data in the dashboard was not impressive.                                                                       \n",
      "59     I improved on my classroom observation visits and uploaded at the right time                                                                                     \n",
      "71     He normally give verbal warnings                                                                                                                                 \n",
      "31     Failing to support teachers is like an insurbodination and therefore we should take it seriously and support teachers more                                       \n",
      "22     She requested us to ensure we conduct school support visits and upload the data at the end of the day                                                            \n",
      "105    officers would be interdicted if no results were seen.                                                                                                           \n",
      "144    caution to those who had zero data                                                                                                                               \n",
      "55     the fomer cde was very angry about the few visits perfomances and called us for a meeting. He encouraged us to go for more visits.                               \n",
      "117    The director cautioned us that we are not doing well and we try our best to improve.                                                                             \n",
      "99     Through theTSC-Sub county director, the director warned that the CSOs who do not visit school will be required to explain why.                                   \n",
      "97     To explain the reasons there was no data.                                                                                                                        \n",
      "10     Improvements in the number of lesson observations for those who CSOs who present zero data                                                                       \n",
      "33     I had to work harder to atleast show some data on classroom lesson observation to evade any dire cosequences                                                     \n",
      "21     Warning letter because I had observed but not uploaded in time so the TSC Director was sure I had not done any observations as it was reflected on the Dashboard.\n",
      "9      Some CSOs have been given verbal warnings due to low number of visits.                                                                                           \n",
      "140    Verbal warnings                                                                                                                                                  \n",
      "Name: cdir_conseq_det, dtype: object\n"
     ]
    }
   ],
   "source": [
    "print(csos[(csos.cdir_conseq_yn==1) & (csos.cdir_conseq_det.notna()) & (csos.cdir_conseq_det != \"\")].cdir_conseq_det.sample(20))"
   ]
  },
  {
   "cell_type": "code",
   "execution_count": 50,
   "metadata": {
    "ExecuteTime": {
     "end_time": "2018-11-03T12:12:44.613804Z",
     "start_time": "2018-11-03T12:12:44.598285Z"
    },
    "scrolled": true
   },
   "outputs": [
    {
     "data": {
      "text/plain": [
       "'The CDE called a meeting to discuss the dashboard. We were informed that the dashboard gives the national and the county outlook. Thi sgives the impression to the donors. Once the support is not seen as necessary, then it affects funding to schools not just on CSOs facilitation, but also the books and everything about learning. so we have to be careful.'"
      ]
     },
     "execution_count": 50,
     "metadata": {},
     "output_type": "execute_result"
    }
   ],
   "source": [
    "# This is a really scary response!!\n",
    "csos.cdir_conseq_det[98]"
   ]
  },
  {
   "cell_type": "markdown",
   "metadata": {},
   "source": [
    "## Director Data"
   ]
  },
  {
   "cell_type": "markdown",
   "metadata": {},
   "source": [
    "### Roles and designations of respondents"
   ]
  },
  {
   "cell_type": "code",
   "execution_count": 51,
   "metadata": {
    "ExecuteTime": {
     "end_time": "2018-11-03T12:12:44.672804Z",
     "start_time": "2018-11-03T12:12:44.620804Z"
    },
    "scrolled": true
   },
   "outputs": [
    {
     "data": {
      "text/html": [
       "<div>\n",
       "<style scoped>\n",
       "    .dataframe tbody tr th:only-of-type {\n",
       "        vertical-align: middle;\n",
       "    }\n",
       "\n",
       "    .dataframe tbody tr th {\n",
       "        vertical-align: top;\n",
       "    }\n",
       "\n",
       "    .dataframe thead th {\n",
       "        text-align: right;\n",
       "    }\n",
       "</style>\n",
       "<table border=\"1\" class=\"dataframe\">\n",
       "  <thead>\n",
       "    <tr style=\"text-align: right;\">\n",
       "      <th></th>\n",
       "      <th>designation</th>\n",
       "      <th>ct</th>\n",
       "      <th>pct</th>\n",
       "      <th>location</th>\n",
       "    </tr>\n",
       "  </thead>\n",
       "  <tbody>\n",
       "    <tr>\n",
       "      <th>0</th>\n",
       "      <td>MOE Subcounty Dir [SC]</td>\n",
       "      <td>78</td>\n",
       "      <td>30.0</td>\n",
       "      <td>subcounty</td>\n",
       "    </tr>\n",
       "    <tr>\n",
       "      <th>1</th>\n",
       "      <td>Quality Assurance and Standards Officer (QASO) [SC]</td>\n",
       "      <td>66</td>\n",
       "      <td>26.0</td>\n",
       "      <td>subcounty</td>\n",
       "    </tr>\n",
       "    <tr>\n",
       "      <th>2</th>\n",
       "      <td>TSC Subcounty Dir [SC]</td>\n",
       "      <td>48</td>\n",
       "      <td>19.0</td>\n",
       "      <td>subcounty</td>\n",
       "    </tr>\n",
       "    <tr>\n",
       "      <th>3</th>\n",
       "      <td>TSC County Dir [C]</td>\n",
       "      <td>20</td>\n",
       "      <td>8.0</td>\n",
       "      <td>county</td>\n",
       "    </tr>\n",
       "    <tr>\n",
       "      <th>4</th>\n",
       "      <td>MOE County Dir [C]</td>\n",
       "      <td>20</td>\n",
       "      <td>8.0</td>\n",
       "      <td>county</td>\n",
       "    </tr>\n",
       "    <tr>\n",
       "      <th>5</th>\n",
       "      <td>County QASO [C]</td>\n",
       "      <td>5</td>\n",
       "      <td>2.0</td>\n",
       "      <td>county</td>\n",
       "    </tr>\n",
       "    <tr>\n",
       "      <th>6</th>\n",
       "      <td>Deputy County Dir [C]</td>\n",
       "      <td>3</td>\n",
       "      <td>1.0</td>\n",
       "      <td>county</td>\n",
       "    </tr>\n",
       "    <tr>\n",
       "      <th>7</th>\n",
       "      <td>Other</td>\n",
       "      <td>3</td>\n",
       "      <td>1.0</td>\n",
       "      <td>other</td>\n",
       "    </tr>\n",
       "    <tr>\n",
       "      <th>8</th>\n",
       "      <td>Chief Edu Officer [SC]</td>\n",
       "      <td>3</td>\n",
       "      <td>1.0</td>\n",
       "      <td>subcounty</td>\n",
       "    </tr>\n",
       "    <tr>\n",
       "      <th>9</th>\n",
       "      <td>Subcounty HR Officer [SC]</td>\n",
       "      <td>3</td>\n",
       "      <td>1.0</td>\n",
       "      <td>subcounty</td>\n",
       "    </tr>\n",
       "    <tr>\n",
       "      <th>10</th>\n",
       "      <td>Asst Dir QAS [N]</td>\n",
       "      <td>2</td>\n",
       "      <td>1.0</td>\n",
       "      <td>national</td>\n",
       "    </tr>\n",
       "    <tr>\n",
       "      <th>11</th>\n",
       "      <td>County Project Coord [C]</td>\n",
       "      <td>2</td>\n",
       "      <td>1.0</td>\n",
       "      <td>county</td>\n",
       "    </tr>\n",
       "    <tr>\n",
       "      <th>12</th>\n",
       "      <td>Regional Coord of Edu [R]</td>\n",
       "      <td>1</td>\n",
       "      <td>0.0</td>\n",
       "      <td>regional</td>\n",
       "    </tr>\n",
       "  </tbody>\n",
       "</table>\n",
       "</div>"
      ],
      "text/plain": [
       "                                            designation  ct   pct   location\n",
       "0   MOE Subcounty Dir [SC]                               78  30.0  subcounty\n",
       "1   Quality Assurance and Standards Officer (QASO) [SC]  66  26.0  subcounty\n",
       "2   TSC Subcounty Dir [SC]                               48  19.0  subcounty\n",
       "3   TSC County Dir [C]                                   20  8.0   county   \n",
       "4   MOE County Dir [C]                                   20  8.0   county   \n",
       "5   County QASO [C]                                      5   2.0   county   \n",
       "6   Deputy County Dir [C]                                3   1.0   county   \n",
       "7   Other                                                3   1.0   other    \n",
       "8   Chief Edu Officer [SC]                               3   1.0   subcounty\n",
       "9   Subcounty HR Officer [SC]                            3   1.0   subcounty\n",
       "10  Asst Dir QAS [N]                                     2   1.0   national \n",
       "11  County Project Coord [C]                             2   1.0   county   \n",
       "12  Regional Coord of Edu [R]                            1   0.0   regional "
      ]
     },
     "execution_count": 51,
     "metadata": {},
     "output_type": "execute_result"
    }
   ],
   "source": [
    "# Tabulating `designation`\n",
    "# resp_desig_df = dirs.designation\n",
    "# resp_desig_df.replace(\n",
    "dirs.designation.replace(\n",
    "    [21, 22, 23, 31, 32, 33, 34, 35, 36, 37, 38, 39, 88],\n",
    "    [\"MOE Subcounty Dir [SC]\", \"TSC Subcounty Dir [SC]\",\n",
    "     \"Quality Assurance and Standards Officer (QASO) [SC]\", \"MOE County Dir [C]\",\n",
    "     \"TSC County Dir [C]\", \"County QASO [C]\", \"Subcounty HR Officer [SC]\",\n",
    "     \"Regional Coord of Edu [R]\", \"County Project Coord [C]\",\n",
    "     \"Deputy County Dir [C]\", \"Chief Edu Officer [SC]\", \"Asst Dir QAS [N]\",\n",
    "     \"Other\"],\n",
    "    inplace=True)\n",
    "resp_desig_df = dirs.designation\n",
    "resp_desig_df = resp_desig_df.value_counts().rename_axis(\"designation\").reset_index(name=\"ct\")\n",
    "resp_desig_df[\"pct\"] = 100 * np.round(resp_desig_df.ct / dirs.shape[0], decimals=2)\n",
    "\n",
    "sites = [\"national\", \"regional\", \"county\", \"subcounty\", \"zone\"]\n",
    "conditions = [resp_desig_df.designation.str.contains(\"\\[N\\]\"),\n",
    "             resp_desig_df.designation.str.contains(\"\\[R\\]\"),\n",
    "             resp_desig_df.designation.str.contains(\"\\[C\\]\"),\n",
    "             resp_desig_df.designation.str.contains(\"\\[SC\\]\"),\n",
    "             resp_desig_df.designation.str.contains(\"\\[Z\\]\")]\n",
    "\n",
    "resp_desig_df[\"location\"] = np.select(conditions, sites, default=\"other\")\n",
    "resp_desig_df"
   ]
  },
  {
   "cell_type": "code",
   "execution_count": 52,
   "metadata": {
    "ExecuteTime": {
     "end_time": "2018-11-03T12:12:44.683804Z",
     "start_time": "2018-11-03T12:12:44.676805Z"
    }
   },
   "outputs": [
    {
     "data": {
      "text/plain": [
       "array(['MOE Subcounty Dir [SC]',\n",
       "       'Quality Assurance and Standards Officer (QASO) [SC]',\n",
       "       'TSC Subcounty Dir [SC]', 'TSC County Dir [C]', nan,\n",
       "       'County QASO [C]', 'Deputy County Dir [C]',\n",
       "       'County Project Coord [C]', 'MOE County Dir [C]', 'Other',\n",
       "       'Subcounty HR Officer [SC]', 'Chief Edu Officer [SC]',\n",
       "       'Asst Dir QAS [N]', 'Regional Coord of Edu [R]'], dtype=object)"
      ]
     },
     "execution_count": 52,
     "metadata": {},
     "output_type": "execute_result"
    }
   ],
   "source": [
    "dirs.designation.unique()"
   ]
  },
  {
   "cell_type": "code",
   "execution_count": 53,
   "metadata": {
    "ExecuteTime": {
     "end_time": "2018-11-03T12:12:44.702324Z",
     "start_time": "2018-11-03T12:12:44.688824Z"
    }
   },
   "outputs": [
    {
     "data": {
      "text/plain": [
       "Index(['county', 'subcounty', 'designation', 'desig_other_det', 'intro_db_yr',\n",
       "       'intro_db_month', 'src_pre_db_decaid', 'get_link_yn', 'get_link_freq',\n",
       "       'get_link_modality', 'db_lnk_chk_sday', 'db_lnk_chk_sweek',\n",
       "       'db_lnk_chk_smonth', 'db_lnk_chk_dont', 'db_lnk_chk_dont_why',\n",
       "       'db_lnk_chk_na', 'db_unp_devices', 'db_prmp_dev_phone',\n",
       "       'db_prmp_dev_tab', 'db_prmp_dev_laptop', 'db_prmp_dev_desktop',\n",
       "       'db_prmp_dev_colleague', 'db_prmp_dev_other', 'db_prmp_dev_other_det',\n",
       "       'db_dev_access_na', 'db_lnk_frm_other_yn', 'db_lnk_frm_other_det',\n",
       "       'no_lnk_wnt_yn', 'no_lnk_wnt_freq', 'del_mech_unprompted',\n",
       "       'del_mech_prp_sms', 'del_mech_prp_wa', 'del_mech_prp_email',\n",
       "       'del_mech_prp_app', 'del_mech_prp_other', 'del_mech_prp_det',\n",
       "       'db_sect_consulted', 'db_chk_freq', 'mgmt_dec_from_db',\n",
       "       'db_info_wnt_yn', 'db_info_wnt_det', 'diff_mgmt_nodata_yn',\n",
       "       'diff_mgmt_nodata_det', 'db_rev_feat_det', 'filename', 'duplicatecheck',\n",
       "       'instrument'],\n",
       "      dtype='object')"
      ]
     },
     "execution_count": 53,
     "metadata": {},
     "output_type": "execute_result"
    }
   ],
   "source": [
    "# sorted(dirs[(dirs.desig_other_det.notna()) & (dirs.desig_other_det != \"N/A\")].desig_other_det)\n",
    "# dirs[dirs.designation==88].desig_other_det\n",
    "dirs.columns"
   ]
  },
  {
   "cell_type": "markdown",
   "metadata": {},
   "source": [
    "### Duration of experience with the Tangerine Dashboard"
   ]
  },
  {
   "cell_type": "code",
   "execution_count": 54,
   "metadata": {
    "ExecuteTime": {
     "end_time": "2018-11-03T12:12:44.725836Z",
     "start_time": "2018-11-03T12:12:44.706841Z"
    },
    "scrolled": true
   },
   "outputs": [],
   "source": [
    "# Convert `intro_db_yr`, `intro_db_month` into months as we did with CSOs\n",
    "now = dt.datetime(2018, 10, 1)\n",
    "dirs[\"db_usage\"] = pd.to_timedelta(now - pd.to_datetime({\"year\": dirs.intro_db_yr, \"month\": dirs.intro_db_month, \"day\": 1})).dt.days\n",
    "dirs.db_usage = dirs.db_usage / 30"
   ]
  },
  {
   "cell_type": "code",
   "execution_count": 55,
   "metadata": {
    "ExecuteTime": {
     "end_time": "2018-11-03T12:12:53.520607Z",
     "start_time": "2018-11-03T12:12:44.729840Z"
    },
    "scrolled": true
   },
   "outputs": [],
   "source": [
    "# Generate a histogram from the duration of time they've known about the Dashboard; facet by `designation`\n",
    "# db_usage_df = pd.DataFrame(dirs[dirs.db_usage.notna()].db_usage / 30)\n",
    "db_usage_df = dirs[[\"db_usage\", \"designation\"]]\n",
    "dirdbusage_ch = alt.Chart(db_usage_df, title=\"Distribution of Dirs' Dashboard usage, months\").mark_bar().encode(\n",
    "    alt.X(\"db_usage:Q\", \n",
    "          bin=alt.BinParams(step=1), title=\"# Months has known about Dashboard\"),\n",
    "    alt.Y(\"count()\", title=\"# of Respondents\"))\n",
    "#     color=\"designation:N\")\n",
    "\n",
    "dirdbusage_ch.save(\"../img/dirdbusage_ch.svg\", scale_factor=2.0)"
   ]
  },
  {
   "cell_type": "markdown",
   "metadata": {},
   "source": [
    "**T.D.**: <span style=\"color:red\"> Facet the graph by respondent type.</span>"
   ]
  },
  {
   "cell_type": "markdown",
   "metadata": {},
   "source": [
    "![Histogram of Dirs' Dashboard Usage](../img/dirdbusage_ch.svg)"
   ]
  },
  {
   "cell_type": "markdown",
   "metadata": {},
   "source": [
    "### Respondents' decision-making supports pre-Tangerine Dashboard"
   ]
  },
  {
   "cell_type": "code",
   "execution_count": 56,
   "metadata": {
    "ExecuteTime": {
     "end_time": "2018-11-03T12:12:53.715620Z",
     "start_time": "2018-11-03T12:12:53.525111Z"
    },
    "scrolled": true
   },
   "outputs": [
    {
     "name": "stdout",
     "output_type": "stream",
     "text": [
      "******************** \n",
      "******************** \n",
      "20 statements sampled from the 76 MOE Subcounty Dir [SC] responses regarding how they made decisions before the Dashboard was available\n",
      "********************\n",
      "******************** \n",
      "\n",
      "96     I was doing a follow up on what was agreed upon and enquired from the officers. I was also refering to other records .                                                                                                                                                                                                                                                                                          \n",
      "53     I was not posted as a director by then and even this Sub County was not in existence                                                                                                                                                                                                                                                                                                                            \n",
      "25     Basically we are guided by the policy of the MOE which guides our officers job on what we assign them. Whenevr they go in the field they are supposed the programs e.g. Tusome                                                                                                                                                                                                                                  \n",
      "42     performance, years of service and appraisal                                                                                                                                                                                                                                                                                                                                                                     \n",
      "172    It was ruther complicated but depended on Tusome officials and field reports.                                                                                                                                                                                                                                                                                                                                   \n",
      "120    We used to go to the field with them and looked and their workplan what they achieved and whats was pending to judge or make decision                                                                                                                                                                                                                                                                           \n",
      "239    I was not a SCDE                                                                                                                                                                                                                                                                                                                                                                                                \n",
      "7      It was ruther complicated but depended on Tusome officials and field reports.                                                                                                                                                                                                                                                                                                                                   \n",
      "163    We used to work with their monthly work plans.I would only facilitate them.                                                                                                                                                                                                                                                                                                                                     \n",
      "71     WAS NOT QUITE UPDATED ON IT                                                                                                                                                                                                                                                                                                                                                                                     \n",
      "183    I have not been fully assigned the duties of making decisions yet,they are mostly made by my senior                                                                                                                                                                                                                                                                                                             \n",
      "38     By calling the CSOs and asking them to step in where we could not find some other officer to undertake tasks in a zone                                                                                                                                                                                                                                                                                          \n",
      "204    Relied mostly on the assessment reports                                                                                                                                                                                                                                                                                                                                                                         \n",
      "49     I collected data on textbooks distribution from CSOs                                                                                                                                                                                                                                                                                                                                                            \n",
      "108    I used the target and schedule of duties and work plans.                                                                                                                                                                                                                                                                                                                                                        \n",
      "151    mainly we would have csos reports on perfomance of schools on end term exams and schools visited that term                                                                                                                                                                                                                                                                                                      \n",
      "18     I had work plans and I would follow the termly work plans which are reevaluated and assignment asssigned based on it                                                                                                                                                                                                                                                                                            \n",
      "58     Our work is broad, we had officers at zonal levels we used to call TAC tutors who were in charge of the 2 zones. We would make a small programe of how we will go to schools for inspections. During inspection we would observe the teachers teaching and also supervise the headteacher. Then we would make our findings and leave the TAC tutor to implement. We would give the TAC tutors small faclitaions.\n",
      "190    Based on the work program of the sub-county                                                                                                                                                                                                                                                                                                                                                                     \n",
      "201    Through QASO reports collected from the schools, Through one on one responses from the treacher during normal routine monitoring school visits done as a panel or individual visit                                                                                                                                                                                                                              \n",
      "Name: src_pre_db_decaid, dtype: object\n",
      "\n",
      "\n",
      "******************** \n",
      "******************** \n",
      "20 statements sampled from the 64 Quality Assurance and Standards Officer (QASO) [SC] responses regarding how they made decisions before the Dashboard was available\n",
      "********************\n",
      "******************** \n",
      "\n",
      "94     I Used annual reports, monthly and quoterly returns                                                                                                                                                                                                 \n",
      "224    Actually for me, i request them to give me reports from the ground.                                                                                                                                                                                 \n",
      "226    I am guided by my work plan                                                                                                                                                                                                                         \n",
      "39     I used to visit schools to observe lessons and based on on the on the teachers performance would make decisions on rassigning taechers,                                                                                                             \n",
      "213    Daily duty templates for MOE officer only but for CSO, the template needs to be updated to include emerging issues like tusome and priede for now                                                                                                   \n",
      "48     I would consult with TSC on matters on staffing                                                                                                                                                                                                     \n",
      "243    By then I was a deputy QASO, so we could have meetings within ourselves and we could serve as monitors and evaluators, by being expected to visit schools and it was based on the visits and the feedback that I could make decisions.              \n",
      "153    As QASOs, we are so depleted and by the functions we don't have officers who report directly to us. As for the CSOs, they directly report to their employer TSC- SCDE                                                                               \n",
      "121    I look at my work plan which is normally disrupted by the other demands. There are also emerging issues like the cases of unrest in schools, maybe some complains in a school.                                                                      \n",
      "65     I would hold meetings with my team and they are able to update me on their work and from the meetings we work on our work plans, identify gaps and find a way to fill them.                                                                         \n",
      "106    I was using a work plan prepared by the officers to understand the target and gauge their performance. The target is usually 20% of the school. I do not see the direct connection between the dashboard and officers work apart from Tusome's work.\n",
      "57     I was categorising schools in different categires and pick a zone to visit. I would caryt the other CSOs of other zones so that we share experience.                                                                                                \n",
      "146    They were directly applouding                                                                                                                                                                                                                       \n",
      "170    Through field supervision, lesson observations and use of exams results performs                                                                                                                                                                    \n",
      "148    We were at the mercy of the CSOs                                                                                                                                                                                                                    \n",
      "9      I use field reports from the officers.                                                                                                                                                                                                              \n",
      "82     Mainly this role is done by TSC                                                                                                                                                                                                                     \n",
      "67     I would hold meetings with my team and they are able to update me on their work and from the meetings we work on our work plans, identify gaps and find a way to fill them.                                                                         \n",
      "26     they were given different duty allocations by DEOs, from meetings, from feedback meetings of the programs                                                                                                                                           \n",
      "111    It is hard to make decision but I just observe what has been done or not done but mostly it is reaction againist planning..                                                                                                                         \n",
      "Name: src_pre_db_decaid, dtype: object\n",
      "\n",
      "\n",
      "******************** \n",
      "******************** \n",
      "20 statements sampled from the 45 TSC Subcounty Dir [SC] responses regarding how they made decisions before the Dashboard was available\n",
      "********************\n",
      "******************** \n",
      "\n",
      "167    We referred to the work plan to justify the expected, the accomplished, not accomplished and way forward                                                                                             \n",
      "253    Reports on tasks                                                                                                                                                                                     \n",
      "101    duty performance, monitoring qaulity and TPAd through and TPAD monitoring tools                                                                                                                      \n",
      "235    By then I was a pricipal hence I depended on the demand from the syllabus to make decisions about the work of my teachers.                                                                           \n",
      "84     Record of work from officers personal files showing work covered/not covered                                                                                                                         \n",
      "112    I was relying on our meetings and so from the views and needs expressed I was able to make the necessary decisions.                                                                                  \n",
      "56     used only there reports which could be doctored.                                                                                                                                                     \n",
      "14                                                                                                                                                                                                          \n",
      "136                                                                                                                                                                                                         \n",
      "233    I allocated as per the demand and someone's orientation.                                                                                                                                             \n",
      "17     I had prepared termly work plan with activities assigned to each officer ,setting targets to be achieved for each officer and gave logistic support to the officers to have them perform their duties\n",
      "144    I get information mainly from going to the ground and looking at handwritten reports from the school or in the log books in the school.                                                              \n",
      "215    I normally call for meetings and also look at the reports they provide. Field monitoring also helps in makinng decision.                                                                             \n",
      "251    No                                                                                                                                                                                                   \n",
      "107    I used to do field work. Also I get reports from the field officers that I used to make decisions on performance.                                                                                    \n",
      "173    It was using field reports based on the TPAD                                                                                                                                                         \n",
      "90     I do not use it for decision making because i have not been formally introduced to it since the onset of Tusome however i interacted with it briefly on directors tablets                            \n",
      "206    I directed the officers prepare their workplan with targets of what they intend to achieve for the term ,i normally review what they were able to achieve monthly                                    \n",
      "3      I make decisions based on hard copies of the TPAD from field officers especially the CSOs.                                                                                                           \n",
      "73     verbal and written information from the field.                                                                                                                                                       \n",
      "Name: src_pre_db_decaid, dtype: object\n",
      "\n",
      "\n",
      "******************** \n",
      "******************** \n",
      "20 statements sampled from the 20 TSC County Dir [C] responses regarding how they made decisions before the Dashboard was available\n",
      "********************\n",
      "******************** \n",
      "\n",
      "195    Colleected data and analyze it based on staffiing role                                                                                                                                                                                                                                                                                                                                                                                                                                                                                                                          \n",
      "20     using montly repors as basis for decision making                                                                                                                                                                                                                                                                                                                                                                                                                                                                                                                                \n",
      "149    PC Apraisals National Resuls, feedback from stakeholders                                                                                                                                                                                                                                                                                                                                                                                                                                                                                                                        \n",
      "205    I would work through sub-county tsc officers either the reports they give or what is said in our meetings with them,I also held Meetings with the other tsc officers including CSOs and got input from such meetings                                                                                                                                                                                                                                                                                                                                                            \n",
      "33     I used to bse o field reports from officers on the ground.                                                                                                                                                                                                                                                                                                                                                                                                                                                                                                                      \n",
      "10     Based on individual work plans and reports/decisions submitted or made.                                                                                                                                                                                                                                                                                                                                                                                                                                                                                                         \n",
      "176    I never had a chance to make decisions because I was not a director at that time.                                                                                                                                                                                                                                                                                                                                                                                                                                                                                               \n",
      "11     Based on individual work plans and reports/decisions submitted or made.                                                                                                                                                                                                                                                                                                                                                                                                                                                                                                         \n",
      "159    I made my decisions based on professional record maintained in schools and in my office                                                                                                                                                                                                                                                                                                                                                                                                                                                                                         \n",
      "80     We used general performance and general stay in the areas of performance                                                                                                                                                                                                                                                                                                                                                                                                                                                                                                        \n",
      "32     I used to bse o field reports from officers on the ground.                                                                                                                                                                                                                                                                                                                                                                                                                                                                                                                      \n",
      "122    We have the work plans and we would also have meetings to plan for the whole Term. This involves monitoring of the curriculum and mounting insets twice a term.                                                                                                                                                                                                                                                                                                                                                                                                                 \n",
      "105    Through field visits to schools. Using feedback from the schools head teachers. Oral interviews with officers concerned like CSOs.                                                                                                                                                                                                                                                                                                                                                                                                                                              \n",
      "88     I relied on reports showing performaces of officrs                                                                                                                                                                                                                                                                                                                                                                                                                                                                                                                              \n",
      "207    I formerly i used the sub county Directors Tsc to monitor the CSOs regarding school visits , lesson observations they do and the feedback from the teachers . I used to have appraisals for CSOs/tTermly evaluation of their work program where they submitted workplan for the term and monthly work program. Using the workplan and the monthly work program we evaluated their achievements depending on the targets set before the start of the term.. Dispite giving the targets some of them gave falsified data on the number of visits and classroom lesson observations\n",
      "223    Through visitation, actually what we call checking system, through improptu visits, meetings., analysis of exam and sometimes through complains though was not commont                                                                                                                                                                                                                                                                                                                                                                                                          \n",
      "217    When we met with CSO they'll would raise issues and I would take action and I would also do a lot of field monitoring                                                                                                                                                                                                                                                                                                                                                                                                                                                           \n",
      "162    i used perfomance, appraisal and job groups                                                                                                                                                                                                                                                                                                                                                                                                                                                                                                                                     \n",
      "100    I would make decisions when i recevie complaints from a supervisor,interested parties who are not satsified with work performance                                                                                                                                                                                                                                                                                                                                                                                                                                               \n",
      "22     THROUGH OUR CONSULTATIVE MEETINGS                                                                                                                                                                                                                                                                                                                                                                                                                                                                                                                                               \n",
      "Name: src_pre_db_decaid, dtype: object\n",
      "\n",
      "\n",
      "******************** \n",
      "******************** \n",
      "5 statements sampled from the 5 County QASO [C] responses regarding how they made decisions before the Dashboard was available\n",
      "********************\n",
      "******************** \n",
      "\n",
      "72     relied on reports from the field and returns,general Assesment.                             \n",
      "254    By meeting the CSOs and encouraging them to support there zonal teachers                    \n",
      "178    My decisions were based on the monthly and quarterly reports submitted by the SCQASOs       \n",
      "231    Through meetings and reports                                                                \n",
      "43     We had monthly assessment return report which were used to assess school and CSO performance\n",
      "Name: src_pre_db_decaid, dtype: object\n",
      "\n",
      "\n",
      "******************** \n",
      "******************** \n",
      "3 statements sampled from the 3 Deputy County Dir [C] responses regarding how they made decisions before the Dashboard was available\n",
      "********************\n",
      "******************** \n",
      "\n",
      "92     Weekly Reports from the Sub County Directors                                                                                                                                                                          \n",
      "232    I was looking at the KCPE performance or hold consultative meetings with other stakeholders and sometimes I acted on personal requests.                                                                               \n",
      "60     I used the curriculum based stablishments to determine the number of teachers and their workload in a school. Geographical location was considered. Policies and commission act was used including field work reports.\n",
      "Name: src_pre_db_decaid, dtype: object\n",
      "\n",
      "\n",
      "******************** \n",
      "******************** \n",
      "2 statements sampled from the 2 County Project Coord [C] responses regarding how they made decisions before the Dashboard was available\n",
      "********************\n",
      "******************** \n",
      "\n",
      "209    I would plan using reports that are sent from HQ that shows the CSOs who have done classroom observation.                          \n",
      "61     I used to visit schools and I would identify any challenges and address based on the observation and reports from the field visits.\n",
      "Name: src_pre_db_decaid, dtype: object\n",
      "\n",
      "\n",
      "******************** \n",
      "******************** \n",
      "19 statements sampled from the 19 MOE County Dir [C] responses regarding how they made decisions before the Dashboard was available\n",
      "********************\n",
      "******************** \n",
      "\n",
      "186    I use a workplan which includes all officers in the county and tasks they are undertaking in a term. By referencing the plan, I am able to reallocate tasks as they arise                                                                                                                                                                                                        \n",
      "127    The county held assements in different schools and findings influencd decisions                                                                                                                                                                                                                                                                                                  \n",
      "175    I relied on the report given by the CSOs.                                                                                                                                                                                                                                                                                                                                        \n",
      "104    i were making decisions through formal discussions                                                                                                                                                                                                                                                                                                                               \n",
      "216    The skill level of the officers and specialization and feedback from the field or his area of work                                                                                                                                                                                                                                                                               \n",
      "220    The county work plan                                                                                                                                                                                                                                                                                                                                                             \n",
      "158    I made all my decisions based of indivials or general work plan implimentation for my subordinates                                                                                                                                                                                                                                                                               \n",
      "66     We used to relie on the usuall channels of information via sms, phone call to the officers or i go to the ground and see for my self how things are and make decisions.                                                                                                                                                                                                          \n",
      "212    CSOs are not under my docket                                                                                                                                                                                                                                                                                                                                                     \n",
      "117    I evaluate performance of the officers and hold quartely meetings and set targets agreed upon                                                                                                                                                                                                                                                                                    \n",
      "64     We used to relie on the usuall channels of information via sms, phone call to the officers or i go to the ground and see for my self how things are and make decisions.                                                                                                                                                                                                          \n",
      "210    I would plan based on reports and work plans .                                                                                                                                                                                                                                                                                                                                   \n",
      "240                                                                                                                                                                                                                                                                                                                                                                                     \n",
      "99     I may not give details but it was hard to do so since it was impossible to know how they were fairing                                                                                                                                                                                                                                                                            \n",
      "256    Looking at performance, quality and tasks completion.                                                                                                                                                                                                                                                                                                                            \n",
      "182    through reports and one-on-one conversation                                                                                                                                                                                                                                                                                                                                      \n",
      "62     We used to relie on the usuall channels of information via sms, phone call to the officers or i go to the ground and see for my self how things are and make decisions.                                                                                                                                                                                                          \n",
      "200    I assignened them as per ther Job deployement.I could assign a less challenging task depending on ones ability or health condition and give more tasks to an officer I knew would do much work correctly and effeciently.I would also assign them depending on their capacity.I did internal training where necessary and team working ,ocassioinally job rotation was also done.\n",
      "177    Through the reports provided by the SCDEs from the sub county levels                                                                                                                                                                                                                                                                                                             \n",
      "Name: src_pre_db_decaid, dtype: object\n",
      "\n",
      "\n",
      "******************** \n",
      "******************** \n",
      "3 statements sampled from the 3 Other responses regarding how they made decisions before the Dashboard was available\n",
      "********************\n",
      "******************** \n",
      "\n",
      "69     I used to gather data from schools also the raised issues by officers and other administrators.                                                                                                                                                                                                                                                                                       \n",
      "199    We were guided by available human resource and their individual abilities and levels of education.They worked based on their own workplan shecdules which also dependented on the number of human resouce available.                                                                                                                                                                  \n",
      "246    Each officer had his /her Job Descriptions as per their appointment letters.They worked within Each officers is on perfomance contracting and they made work plans which are evaluated Quaterly. their areas as per posting.Where there was need for special assignment all the officers could be called and communication made to them during staff meetings.We mornitor what is done\n",
      "Name: src_pre_db_decaid, dtype: object\n",
      "\n",
      "\n",
      "******************** \n",
      "******************** \n",
      "3 statements sampled from the 3 Subcounty HR Officer [SC] responses regarding how they made decisions before the Dashboard was available\n",
      "********************\n",
      "******************** \n",
      "\n",
      "164    I relied on manual data collected from the primary sources                                                                                                                                     \n",
      "77     since there was no standardized system like the Tusome dashbord I simply relied on hard copy reports from the CSO and some times section of minutes captured during education - based meetings.\n",
      "208    ability of officers meeting the set deadlines as per the work plans                                                                                                                            \n",
      "Name: src_pre_db_decaid, dtype: object\n",
      "\n",
      "\n",
      "******************** \n",
      "******************** \n",
      "2 statements sampled from the 2 Chief Edu Officer [SC] responses regarding how they made decisions before the Dashboard was available\n",
      "********************\n",
      "******************** \n",
      "\n",
      "102                              \n",
      "211    I would use manual reports\n",
      "Name: src_pre_db_decaid, dtype: object\n",
      "\n",
      "\n",
      "******************** \n",
      "******************** \n",
      "2 statements sampled from the 2 Asst Dir QAS [N] responses regarding how they made decisions before the Dashboard was available\n",
      "********************\n",
      "******************** \n",
      "\n",
      "241    The issue is that we don't only focus on Tusome, so we were doing other duties. I could request the officers to come up with work plans to see what their main responsibilities and engagements were.\n",
      "166    Yes, we have few members of staff in the office. We always distribute work amongst ourselves ie school visits so as to ensure everything is well covered.                                            \n",
      "Name: src_pre_db_decaid, dtype: object\n",
      "\n",
      "\n",
      "******************** \n",
      "******************** \n",
      "1 statements sampled from the 1 Regional Coord of Edu [R] responses regarding how they made decisions before the Dashboard was available\n",
      "********************\n",
      "******************** \n",
      "\n",
      "194    Depenedent on officers that I have and officers that I have in critical departments together with skills of the officers + expanse of the region\n",
      "Name: src_pre_db_decaid, dtype: object\n",
      "\n",
      "\n"
     ]
    }
   ],
   "source": [
    "# Print a sample of `src_pre_db_decaid`\n",
    "for rtype in dirs[dirs.designation.notna()].designation.unique():\n",
    "    i = 20\n",
    "    j = dirs[(dirs.designation==rtype) & (dirs.src_pre_db_decaid!=\"\") & (dirs.src_pre_db_decaid.notna())].shape[0]\n",
    "    while i > j:\n",
    "        i -= 1\n",
    "    print(\"*\"*20, \"\\n\" + \"*\"*20,\"\\n\" +\n",
    "          f\"{i} statements sampled from the {j} {rtype} responses \" +\n",
    "          \"regarding how they made decisions before the Dashboard was \" +\n",
    "          \"available\\n\" +\n",
    "          \"*\"*20 + \"\\n\" +\n",
    "          \"*\"*20, \"\\n\")\n",
    "    print(dirs[dirs.designation==rtype].src_pre_db_decaid.sample(i))\n",
    "    print(\"\\n\")\n"
   ]
  },
  {
   "cell_type": "code",
   "execution_count": 57,
   "metadata": {
    "ExecuteTime": {
     "end_time": "2018-11-03T12:12:55.870273Z",
     "start_time": "2018-11-03T12:12:53.723109Z"
    },
    "scrolled": false
   },
   "outputs": [
    {
     "data": {
      "text/html": [
       "<div>\n",
       "<style scoped>\n",
       "    .dataframe tbody tr th:only-of-type {\n",
       "        vertical-align: middle;\n",
       "    }\n",
       "\n",
       "    .dataframe tbody tr th {\n",
       "        vertical-align: top;\n",
       "    }\n",
       "\n",
       "    .dataframe thead th {\n",
       "        text-align: right;\n",
       "    }\n",
       "</style>\n",
       "<table border=\"1\" class=\"dataframe\">\n",
       "  <thead>\n",
       "    <tr style=\"text-align: right;\">\n",
       "      <th>diff_mgmt_nodata_yn</th>\n",
       "      <th>no</th>\n",
       "      <th>yes</th>\n",
       "      <th>pct</th>\n",
       "      <th>location</th>\n",
       "    </tr>\n",
       "    <tr>\n",
       "      <th>designation</th>\n",
       "      <th></th>\n",
       "      <th></th>\n",
       "      <th></th>\n",
       "      <th></th>\n",
       "    </tr>\n",
       "  </thead>\n",
       "  <tbody>\n",
       "    <tr>\n",
       "      <th>County Project Coord [C]</th>\n",
       "      <td>2.0</td>\n",
       "      <td>0.0</td>\n",
       "      <td>0.0</td>\n",
       "      <td>county</td>\n",
       "    </tr>\n",
       "    <tr>\n",
       "      <th>County QASO [C]</th>\n",
       "      <td>3.0</td>\n",
       "      <td>2.0</td>\n",
       "      <td>40.0</td>\n",
       "      <td>county</td>\n",
       "    </tr>\n",
       "    <tr>\n",
       "      <th>Deputy County Dir [C]</th>\n",
       "      <td>2.0</td>\n",
       "      <td>1.0</td>\n",
       "      <td>33.0</td>\n",
       "      <td>county</td>\n",
       "    </tr>\n",
       "    <tr>\n",
       "      <th>MOE County Dir [C]</th>\n",
       "      <td>10.0</td>\n",
       "      <td>10.0</td>\n",
       "      <td>50.0</td>\n",
       "      <td>county</td>\n",
       "    </tr>\n",
       "    <tr>\n",
       "      <th>TSC County Dir [C]</th>\n",
       "      <td>8.0</td>\n",
       "      <td>12.0</td>\n",
       "      <td>60.0</td>\n",
       "      <td>county</td>\n",
       "    </tr>\n",
       "    <tr>\n",
       "      <th>Asst Dir QAS [N]</th>\n",
       "      <td>2.0</td>\n",
       "      <td>0.0</td>\n",
       "      <td>0.0</td>\n",
       "      <td>national</td>\n",
       "    </tr>\n",
       "    <tr>\n",
       "      <th>Other</th>\n",
       "      <td>1.0</td>\n",
       "      <td>2.0</td>\n",
       "      <td>67.0</td>\n",
       "      <td>other</td>\n",
       "    </tr>\n",
       "    <tr>\n",
       "      <th>Regional Coord of Edu [R]</th>\n",
       "      <td>0.0</td>\n",
       "      <td>1.0</td>\n",
       "      <td>100.0</td>\n",
       "      <td>regional</td>\n",
       "    </tr>\n",
       "    <tr>\n",
       "      <th>Chief Edu Officer [SC]</th>\n",
       "      <td>1.0</td>\n",
       "      <td>2.0</td>\n",
       "      <td>67.0</td>\n",
       "      <td>subcounty</td>\n",
       "    </tr>\n",
       "    <tr>\n",
       "      <th>MOE Subcounty Dir [SC]</th>\n",
       "      <td>45.0</td>\n",
       "      <td>33.0</td>\n",
       "      <td>42.0</td>\n",
       "      <td>subcounty</td>\n",
       "    </tr>\n",
       "    <tr>\n",
       "      <th>Quality Assurance and Standards Officer (QASO) [SC]</th>\n",
       "      <td>30.0</td>\n",
       "      <td>35.0</td>\n",
       "      <td>54.0</td>\n",
       "      <td>subcounty</td>\n",
       "    </tr>\n",
       "    <tr>\n",
       "      <th>Subcounty HR Officer [SC]</th>\n",
       "      <td>2.0</td>\n",
       "      <td>1.0</td>\n",
       "      <td>33.0</td>\n",
       "      <td>subcounty</td>\n",
       "    </tr>\n",
       "    <tr>\n",
       "      <th>TSC Subcounty Dir [SC]</th>\n",
       "      <td>22.0</td>\n",
       "      <td>26.0</td>\n",
       "      <td>54.0</td>\n",
       "      <td>subcounty</td>\n",
       "    </tr>\n",
       "  </tbody>\n",
       "</table>\n",
       "</div>"
      ],
      "text/plain": [
       "diff_mgmt_nodata_yn                                    no   yes    pct  \\\n",
       "designation                                                              \n",
       "County Project Coord [C]                             2.0   0.0   0.0     \n",
       "County QASO [C]                                      3.0   2.0   40.0    \n",
       "Deputy County Dir [C]                                2.0   1.0   33.0    \n",
       "MOE County Dir [C]                                   10.0  10.0  50.0    \n",
       "TSC County Dir [C]                                   8.0   12.0  60.0    \n",
       "Asst Dir QAS [N]                                     2.0   0.0   0.0     \n",
       "Other                                                1.0   2.0   67.0    \n",
       "Regional Coord of Edu [R]                            0.0   1.0   100.0   \n",
       "Chief Edu Officer [SC]                               1.0   2.0   67.0    \n",
       "MOE Subcounty Dir [SC]                               45.0  33.0  42.0    \n",
       "Quality Assurance and Standards Officer (QASO) [SC]  30.0  35.0  54.0    \n",
       "Subcounty HR Officer [SC]                            2.0   1.0   33.0    \n",
       "TSC Subcounty Dir [SC]                               22.0  26.0  54.0    \n",
       "\n",
       "diff_mgmt_nodata_yn                                   location  \n",
       "designation                                                     \n",
       "County Project Coord [C]                             county     \n",
       "County QASO [C]                                      county     \n",
       "Deputy County Dir [C]                                county     \n",
       "MOE County Dir [C]                                   county     \n",
       "TSC County Dir [C]                                   county     \n",
       "Asst Dir QAS [N]                                     national   \n",
       "Other                                                other      \n",
       "Regional Coord of Edu [R]                            regional   \n",
       "Chief Edu Officer [SC]                               subcounty  \n",
       "MOE Subcounty Dir [SC]                               subcounty  \n",
       "Quality Assurance and Standards Officer (QASO) [SC]  subcounty  \n",
       "Subcounty HR Officer [SC]                            subcounty  \n",
       "TSC Subcounty Dir [SC]                               subcounty  "
      ]
     },
     "execution_count": 57,
     "metadata": {},
     "output_type": "execute_result"
    }
   ],
   "source": [
    "# Tabulate the responses to `diff_mgmt_nodata_yn` and sample the responses to `diff_mgmt_nodata_det`.\n",
    "# mgmt_diff_df = dirs[[\"designation\",\"diff_mgmt_nodata_yn\"]].groupby([\"designation\", \"diff_mgmt_nodata_yn\"])\n",
    "mgmt_diff_df = dirs.groupby([\"designation\", \"diff_mgmt_nodata_yn\"])[\"diff_mgmt_nodata_yn\"].count().to_frame()\n",
    "mgmt_diff_df = mgmt_diff_df.rename(columns={\"diff_mgmt_nodata_yn\": \"has_difficulty\"}).reset_index()\n",
    "mgmt_diff_df = mgmt_diff_df.pivot(index=\"designation\", columns=\"diff_mgmt_nodata_yn\", values=\"has_difficulty\")\n",
    "mgmt_diff_df = mgmt_diff_df.rename(columns={0: \"no\", 1: \"yes\"}).fillna(0)\n",
    "mgmt_diff_df[\"pct\"] = 100 * np.round(mgmt_diff_df.yes / (mgmt_diff_df.no + mgmt_diff_df.yes), decimals = 2)\n",
    "sites = [\"national\", \"regional\", \"county\", \"subcounty\", \"zone\"]\n",
    "conditions = [mgmt_diff_df.index.str.contains(\"\\[N\\]\"),\n",
    "              mgmt_diff_df.index.str.contains(\"\\[R\\]\"),\n",
    "              mgmt_diff_df.index.str.contains(\"\\[C\\]\"),\n",
    "              mgmt_diff_df.index.str.contains(\"\\[SC\\]\"),\n",
    "              mgmt_diff_df.index.str.contains(\"\\[Z\\]\")]\n",
    "\n",
    "mgmt_diff_df[\"location\"] = np.select(conditions, sites, default=\"other\")\n",
    "mgmt_diff_df.sort_values(\"location\")"
   ]
  },
  {
   "cell_type": "code",
   "execution_count": 58,
   "metadata": {
    "ExecuteTime": {
     "end_time": "2018-11-03T12:12:56.033778Z",
     "start_time": "2018-11-03T12:12:55.874774Z"
    }
   },
   "outputs": [
    {
     "name": "stdout",
     "output_type": "stream",
     "text": [
      "******************** \n",
      "******************** \n",
      "20 statements sampled from the 37 MOE Subcounty Dir [SC] responses regarding specific examples of daily decisions they have difficulty taking because of a lack of relevant, actionable data\n",
      "********************\n",
      "******************** \n",
      "\n",
      "244                                                                                                                                                                                                                                  \n",
      "172                                                                                                                                                                                                                                  \n",
      "155    Though it may not come to me directly, enrolment and teacher presence per day.                                                                                                                                                \n",
      "55     i dobt have a tablet, it can help me to monitor visits in the zones                                                                                                                                                           \n",
      "227    Lack of enrollment data as well as teacher pupil to infer their effect on delivery                                                                                                                                            \n",
      "4                                                                                                                                                                                                                                    \n",
      "70                                                                                                                                                                                                                                   \n",
      "96                                                                                                                                                                                                                                   \n",
      "234                                                                                                                                                                                                                                  \n",
      "41                                                                                                                                                                                                                                   \n",
      "21     not easy yo aportion support to specific CSO                                                                                                                                                                                  \n",
      "95                                                                                                                                                                                                                                   \n",
      "204    Like in capitation, deworming, distribution of materials, they all require data                                                                                                                                               \n",
      "25     On the issue of accessing some of our schools which are found in remote areas; when you have done some monitoring and you want to upload yet it has erratic/intermittent network becomes beyond us to make decisions over them\n",
      "50                                                                                                                                                                                                                                   \n",
      "196                                                                                                                                                                                                                                  \n",
      "142    It takes a long time to get data on enrolment, classroom observations etc from the head teachers because these are given as hard copies, yet the schools are very far apart.                                                  \n",
      "58                                                                                                                                                                                                                                   \n",
      "189    When work is done by CSOs and it is made avaiable to us it becomes difficult to make decisions                                                                                                                                \n",
      "190                                                                                                                                                                                                                                  \n",
      "Name: diff_mgmt_nodata_det, dtype: object\n",
      "\n",
      "\n",
      "******************** \n",
      "******************** \n",
      "20 statements sampled from the 35 Quality Assurance and Standards Officer (QASO) [SC] responses regarding specific examples of daily decisions they have difficulty taking because of a lack of relevant, actionable data\n",
      "********************\n",
      "******************** \n",
      "\n",
      "121    I in my work , we also do registration. I will need data on registration status of schools to set my objective on registration of school. That is not updated daily but for the annual work. it can also include Grade 1 and 2 data.\n",
      "47     I sometimes lack information on book ratio. Lack of information on the current enrolment of pupils                                                                                                                                  \n",
      "36                                                                                                                                                                                                                                         \n",
      "63     I supervise quality assuarance officer and am not able to see therir data. Am not able to know if they are contributing to the data i see on the dashboard or they are not contributing.                                            \n",
      "141    If people want to know the performance of the school, I can't get the necessary data.                                                                                                                                               \n",
      "146                                                                                                                                                                                                                                        \n",
      "28     Data on sanitation and water status in schools                                                                                                                                                                                      \n",
      "106                                                                                                                                                                                                                                        \n",
      "1      I would like to see especially areas like staffing situation in lower grades so that this can be handled in consultation with TSC.                                                                                                  \n",
      "174                                                                                                                                                                                                                                        \n",
      "94                                                                                                                                                                                                                                         \n",
      "6                                                                                                                                                                                                                                          \n",
      "39                                                                                                                                                                                                                                         \n",
      "187    For example I would want to do follow up on the use of Tusome materials and the infusion of Tusome into the CBC.                                                                                                                    \n",
      "15                                                                                                                                                                                                                                         \n",
      "185    Fires/unrest in schools.                                                                                                                                                                                                            \n",
      "192    I do not have a workplan for the CSOs and whenever a task that requires urgent attention arises, I have to enquire from them whether they are available                                                                             \n",
      "48                                                                                                                                                                                                                                         \n",
      "221    N/ A.                                                                                                                                                                                                                               \n",
      "226    Some of the schools do not send enrolment data in good time. Sometimes the data is not reliable                                                                                                                                     \n",
      "Name: diff_mgmt_nodata_det, dtype: object\n",
      "\n",
      "\n",
      "******************** \n",
      "******************** \n",
      "20 statements sampled from the 28 TSC Subcounty Dir [SC] responses regarding specific examples of daily decisions they have difficulty taking because of a lack of relevant, actionable data\n",
      "********************\n",
      "******************** \n",
      "\n",
      "165                                                                                                     \n",
      "40                                                                                                      \n",
      "140    I lack updated data on staffing amd enrollment which makes you to make decsions on staffing needs\n",
      "206                                                                                                     \n",
      "150    Accurate data on enrolment, Data on staffing                                                     \n",
      "238                                                                                                     \n",
      "68                                                                                                      \n",
      "56     You are told this class is not doing well, you cannot substantiate. I need to see the gaps       \n",
      "14     Transfer of Tusome teachers                                                                      \n",
      "3      N/A.                                                                                             \n",
      "112    Enrolment of pupils to decide which school requires a teacher more urgently                      \n",
      "173                                                                                                     \n",
      "17                                                                                                      \n",
      "167                                                                                                     \n",
      "5                                                                                                       \n",
      "12     The specific teacher handling the less                                                           \n",
      "91     Reports or feedbacks given to teachers by CSOs                                                   \n",
      "235                                                                                                     \n",
      "143                                                                                                     \n",
      "52     data on lesson observation by school administrators,                                             \n",
      "Name: diff_mgmt_nodata_det, dtype: object\n",
      "\n",
      "\n",
      "******************** \n",
      "******************** \n",
      "12 statements sampled from the 12 TSC County Dir [C] responses regarding specific examples of daily decisions they have difficulty taking because of a lack of relevant, actionable data\n",
      "********************\n",
      "******************** \n",
      "\n",
      "100    I am unable to make decisions when i lack relevant data such as examination results,teachers transfers                                                                                               \n",
      "11                                                                                                                                                                                                          \n",
      "162                                                                                                                                                                                                         \n",
      "80                                                                                                                                                                                                          \n",
      "10                                                                                                                                                                                                          \n",
      "159    Acuurate and timely data on staffing per school is usually challenge for us to get,. This has sometimes forced me to postpone making some decisions.                                                 \n",
      "195    Movement of a teacher i.e. to know their specifications and subjects; officers who are missing work;                                                                                                 \n",
      "217                                                                                                                                                                                                         \n",
      "149    Accurate data on staffing and enrolment, database for Tusome teachers                                                                                                                                \n",
      "33     Lack of reading levels per class per individual schools supported and enrolment trends. These can help me determine the teacher/pupil absentism so that I take remedial action before it is too late.\n",
      "22     SOME OF THE ISSUES INVOLVE TRANSPORT BECAUSE OF THE VASTNESS OF THE COUNTY WHICH ARE DIFFICULBTO CONTROL                                                                                             \n",
      "176    When I want to visit schools to find out if there are issues I have call the CSOs to give me information because I don't have any information.                                                       \n",
      "Name: diff_mgmt_nodata_det, dtype: object\n",
      "\n",
      "\n",
      "******************** \n",
      "******************** \n",
      "2 statements sampled from the 2 County QASO [C] responses regarding specific examples of daily decisions they have difficulty taking because of a lack of relevant, actionable data\n",
      "********************\n",
      "******************** \n",
      "\n",
      "43     \n",
      "254    \n",
      "Name: diff_mgmt_nodata_det, dtype: object\n",
      "\n",
      "\n",
      "******************** \n",
      "******************** \n",
      "2 statements sampled from the 2 Deputy County Dir [C] responses regarding specific examples of daily decisions they have difficulty taking because of a lack of relevant, actionable data\n",
      "********************\n",
      "******************** \n",
      "\n",
      "232       \n",
      "60     N/A\n",
      "Name: diff_mgmt_nodata_det, dtype: object\n",
      "\n",
      "\n",
      "******************** \n",
      "******************** \n",
      "1 statements sampled from the 1 County Project Coord [C] responses regarding specific examples of daily decisions they have difficulty taking because of a lack of relevant, actionable data\n",
      "********************\n",
      "******************** \n",
      "\n",
      "61    N/A\n",
      "Name: diff_mgmt_nodata_det, dtype: object\n",
      "\n",
      "\n",
      "******************** \n",
      "******************** \n",
      "11 statements sampled from the 11 MOE County Dir [C] responses regarding specific examples of daily decisions they have difficulty taking because of a lack of relevant, actionable data\n",
      "********************\n",
      "******************** \n",
      "\n",
      "128                                                                                                                                                                                                  \n",
      "175    I cannot be able to make any decision on grade 3 because there is no data.I am not able to track CSOs actual activities and achievement especially in grade 3 due to lack of tangible results.\n",
      "212    Attendance, retention and turnover of teachers                                                                                                                                                \n",
      "62     The data of CSOs that have not visisted schools, since CSOS are NOT MoE employees so i struggle to follow up with them.                                                                       \n",
      "240    As MoE, we get data from different officer i.e. QASOs, TSC and many are the times or scenarios that i will end up with irrelevant data and this delays decisions.                             \n",
      "66     The data of CSOs that have not visisted schools, since CSOS are NOT MoE employees so i struggle to follow up with them.                                                                       \n",
      "64     The data of CSOs that have not visisted schools, since CSOS are NOT MoE employees so i struggle to follow up with them.                                                                       \n",
      "104                                                                                                                                                                                                  \n",
      "158                                                                                                                                                                                                  \n",
      "177                                                                                                                                                                                                  \n",
      "99                                                                                                                                                                                                   \n",
      "Name: diff_mgmt_nodata_det, dtype: object\n",
      "\n",
      "\n",
      "******************** \n",
      "******************** \n",
      "2 statements sampled from the 2 Other responses regarding specific examples of daily decisions they have difficulty taking because of a lack of relevant, actionable data\n",
      "********************\n",
      "******************** \n",
      "\n",
      "69     It is difficult to advice a CSO that does not have a tablet and their data is not displayed on the dashboard(CSO SNE).                                                                                                                                                                                                                                                                                                                        \n",
      "199    Transfers of Tusome teachers is tricky because their coiuld a security/health problem that makes it necessary to release the teacher without suitable replacement.The TSC head office what CSOs to do TPAD and PRIEDE only yet Tusome is one of the powerful programs that the CSOs support.Talk to the TSC chair person not to blame CSOs for supporting Tusome because we have seen the positive impact of Tusome.Why TPAD and Priede alone?\n",
      "Name: diff_mgmt_nodata_det, dtype: object\n",
      "\n",
      "\n",
      "******************** \n",
      "******************** \n",
      "1 statements sampled from the 1 Subcounty HR Officer [SC] responses regarding specific examples of daily decisions they have difficulty taking because of a lack of relevant, actionable data\n",
      "********************\n",
      "******************** \n",
      "\n",
      "77    \n",
      "Name: diff_mgmt_nodata_det, dtype: object\n",
      "\n",
      "\n",
      "******************** \n",
      "******************** \n",
      "3 statements sampled from the 3 Chief Edu Officer [SC] responses regarding specific examples of daily decisions they have difficulty taking because of a lack of relevant, actionable data\n",
      "********************\n",
      "******************** \n",
      "\n",
      "230    N/A.                                                                                                                                                                                              \n",
      "211    I find it difficult to make decisions regarding frequency of lesson observation because of lack of data                                                                                           \n",
      "102    Data for the BOMs (2/3 gender rule), toilet:pupil ratios, data on drop outs, transition data from class 8 to form 1 because the head teachers don't provide when submitting their monthly returns.\n",
      "Name: diff_mgmt_nodata_det, dtype: object\n",
      "\n",
      "\n",
      "******************** \n",
      "******************** \n",
      "0 statements sampled from the 0 Asst Dir QAS [N] responses regarding specific examples of daily decisions they have difficulty taking because of a lack of relevant, actionable data\n",
      "********************\n",
      "******************** \n",
      "\n",
      "Series([], Name: diff_mgmt_nodata_det, dtype: object)\n",
      "\n",
      "\n",
      "******************** \n",
      "******************** \n",
      "1 statements sampled from the 1 Regional Coord of Edu [R] responses regarding specific examples of daily decisions they have difficulty taking because of a lack of relevant, actionable data\n",
      "********************\n",
      "******************** \n",
      "\n",
      "194    Funding of schools, balancing of teachers, performance of schools which can help on what trainings and resources should be given\n",
      "Name: diff_mgmt_nodata_det, dtype: object\n",
      "\n",
      "\n"
     ]
    }
   ],
   "source": [
    "# Print a sample of `diff_mgmt_nodata_det`\n",
    "for rtype in dirs[dirs.designation.notna()].designation.unique():\n",
    "    i = 20\n",
    "    j = dirs[(dirs.designation==rtype) & (dirs.diff_mgmt_nodata_det!=\"\") & (dirs.diff_mgmt_nodata_det.notna())].shape[0]\n",
    "    while i > j:\n",
    "        i -= 1\n",
    "    print(\"*\"*20, \"\\n\" + \"*\"*20,\"\\n\" +\n",
    "          f\"{i} statements sampled from the {j} {rtype} responses \" +\n",
    "          \"regarding specific examples of daily decisions they have \" +\n",
    "          \"difficulty taking because of a lack of relevant, actionable data\\n\" +\n",
    "          \"*\"*20 + \"\\n\" +\n",
    "          \"*\"*20, \"\\n\")\n",
    "    print(dirs[dirs.designation==rtype].diff_mgmt_nodata_det.sample(i))\n",
    "    print(\"\\n\")"
   ]
  },
  {
   "cell_type": "markdown",
   "metadata": {},
   "source": [
    "### Respondents' receipt of the Tangerine Dashboard link"
   ]
  },
  {
   "cell_type": "code",
   "execution_count": 59,
   "metadata": {
    "ExecuteTime": {
     "end_time": "2018-11-03T12:12:56.049273Z",
     "start_time": "2018-11-03T12:12:56.038772Z"
    },
    "scrolled": true
   },
   "outputs": [
    {
     "data": {
      "text/plain": [
       "97.0"
      ]
     },
     "execution_count": 59,
     "metadata": {},
     "output_type": "execute_result"
    }
   ],
   "source": [
    "# Report % of respondents who receive the dashboard link (`get_link_yn`)\n",
    "lnk_receipt = 100 * np.round(dirs.get_link_yn.count()/dirs.shape[0], decimals=2)\n",
    "lnk_receipt"
   ]
  },
  {
   "cell_type": "code",
   "execution_count": 99,
   "metadata": {
    "ExecuteTime": {
     "end_time": "2018-11-03T12:21:36.952902Z",
     "start_time": "2018-11-03T12:21:36.930899Z"
    },
    "scrolled": true
   },
   "outputs": [
    {
     "data": {
      "text/html": [
       "<div>\n",
       "<style scoped>\n",
       "    .dataframe tbody tr th:only-of-type {\n",
       "        vertical-align: middle;\n",
       "    }\n",
       "\n",
       "    .dataframe tbody tr th {\n",
       "        vertical-align: top;\n",
       "    }\n",
       "\n",
       "    .dataframe thead th {\n",
       "        text-align: right;\n",
       "    }\n",
       "</style>\n",
       "<table border=\"1\" class=\"dataframe\">\n",
       "  <thead>\n",
       "    <tr style=\"text-align: right;\">\n",
       "      <th></th>\n",
       "      <th>frequency</th>\n",
       "      <th>ct</th>\n",
       "      <th>pct</th>\n",
       "    </tr>\n",
       "  </thead>\n",
       "  <tbody>\n",
       "    <tr>\n",
       "      <th>0</th>\n",
       "      <td>At least monthly</td>\n",
       "      <td>26</td>\n",
       "      <td>10.0</td>\n",
       "    </tr>\n",
       "    <tr>\n",
       "      <th>1</th>\n",
       "      <td>At least termly</td>\n",
       "      <td>24</td>\n",
       "      <td>9.0</td>\n",
       "    </tr>\n",
       "    <tr>\n",
       "      <th>2</th>\n",
       "      <td>Infrequently or unknown</td>\n",
       "      <td>17</td>\n",
       "      <td>7.0</td>\n",
       "    </tr>\n",
       "    <tr>\n",
       "      <th>3</th>\n",
       "      <td>At least yearly</td>\n",
       "      <td>5</td>\n",
       "      <td>2.0</td>\n",
       "    </tr>\n",
       "  </tbody>\n",
       "</table>\n",
       "</div>"
      ],
      "text/plain": [
       "                 frequency  ct   pct\n",
       "0  At least monthly         26  10.0\n",
       "1  At least termly          24  9.0 \n",
       "2  Infrequently or unknown  17  7.0 \n",
       "3  At least yearly          5   2.0 "
      ]
     },
     "execution_count": 99,
     "metadata": {},
     "output_type": "execute_result"
    }
   ],
   "source": [
    "# Summarize the frequency with which it is received (`get_link_freq`)\n",
    "lnk_receipt_freq_df = dirs.get_link_freq.value_counts().rename_axis(\"frequency\").reset_index(name=\"ct\")\n",
    "lnk_receipt_freq_df.frequency = lnk_receipt_freq_df.frequency.map({\n",
    "    0: \"Does not receive\",\n",
    "    1: \"At least daily\",\n",
    "    2: \"At least weekly\",\n",
    "    3: \"At least monthly\",\n",
    "    4: \"At least termly\",\n",
    "    5: \"At least yearly\",\n",
    "    6: \"Infrequently or unknown\"})\n",
    "lnk_receipt_freq_df[\"pct\"] = 100 * np.round(lnk_receipt_freq_df.ct / dirs.shape[0], decimals=2)\n",
    "lnk_receipt_freq_df"
   ]
  },
  {
   "cell_type": "code",
   "execution_count": 100,
   "metadata": {
    "ExecuteTime": {
     "end_time": "2018-11-03T12:25:17.367583Z",
     "start_time": "2018-11-03T12:25:17.362591Z"
    },
    "scrolled": true
   },
   "outputs": [],
   "source": [
    "# Summarize the modality (`get_link_modality`)\n"
   ]
  },
  {
   "cell_type": "markdown",
   "metadata": {
    "ExecuteTime": {
     "end_time": "2018-11-03T12:25:53.763214Z",
     "start_time": "2018-11-03T12:25:53.756252Z"
    }
   },
   "source": [
    "**T.D.**: <span style=\"color:red\"> Clean the Director modality-of-receipt data and analyze here.</span>"
   ]
  },
  {
   "cell_type": "code",
   "execution_count": 62,
   "metadata": {
    "ExecuteTime": {
     "end_time": "2018-11-03T12:12:56.123776Z",
     "start_time": "2018-11-03T12:12:56.106773Z"
    },
    "scrolled": true
   },
   "outputs": [],
   "source": [
    "# Consider faceting the above by `designation`"
   ]
  },
  {
   "cell_type": "code",
   "execution_count": 113,
   "metadata": {
    "ExecuteTime": {
     "end_time": "2018-11-03T12:37:04.785221Z",
     "start_time": "2018-11-03T12:37:04.756258Z"
    }
   },
   "outputs": [
    {
     "data": {
      "text/html": [
       "<div>\n",
       "<style scoped>\n",
       "    .dataframe tbody tr th:only-of-type {\n",
       "        vertical-align: middle;\n",
       "    }\n",
       "\n",
       "    .dataframe tbody tr th {\n",
       "        vertical-align: top;\n",
       "    }\n",
       "\n",
       "    .dataframe thead th {\n",
       "        text-align: right;\n",
       "    }\n",
       "</style>\n",
       "<table border=\"1\" class=\"dataframe\">\n",
       "  <thead>\n",
       "    <tr style=\"text-align: right;\">\n",
       "      <th></th>\n",
       "      <th>phone</th>\n",
       "      <th>laptop</th>\n",
       "      <th>desktop</th>\n",
       "      <th>colleague</th>\n",
       "      <th>other</th>\n",
       "    </tr>\n",
       "    <tr>\n",
       "      <th>designation</th>\n",
       "      <th></th>\n",
       "      <th></th>\n",
       "      <th></th>\n",
       "      <th></th>\n",
       "      <th></th>\n",
       "    </tr>\n",
       "  </thead>\n",
       "  <tbody>\n",
       "    <tr>\n",
       "      <th>Asst Dir QAS [N]</th>\n",
       "      <td>0</td>\n",
       "      <td>2</td>\n",
       "      <td>0</td>\n",
       "      <td>1</td>\n",
       "      <td>0</td>\n",
       "    </tr>\n",
       "    <tr>\n",
       "      <th>Chief Edu Officer [SC]</th>\n",
       "      <td>1</td>\n",
       "      <td>0</td>\n",
       "      <td>1</td>\n",
       "      <td>0</td>\n",
       "      <td>0</td>\n",
       "    </tr>\n",
       "    <tr>\n",
       "      <th>County Project Coord [C]</th>\n",
       "      <td>2</td>\n",
       "      <td>0</td>\n",
       "      <td>0</td>\n",
       "      <td>0</td>\n",
       "      <td>0</td>\n",
       "    </tr>\n",
       "    <tr>\n",
       "      <th>County QASO [C]</th>\n",
       "      <td>1</td>\n",
       "      <td>1</td>\n",
       "      <td>1</td>\n",
       "      <td>0</td>\n",
       "      <td>0</td>\n",
       "    </tr>\n",
       "    <tr>\n",
       "      <th>Deputy County Dir [C]</th>\n",
       "      <td>1</td>\n",
       "      <td>0</td>\n",
       "      <td>0</td>\n",
       "      <td>0</td>\n",
       "      <td>0</td>\n",
       "    </tr>\n",
       "    <tr>\n",
       "      <th>MOE County Dir [C]</th>\n",
       "      <td>8</td>\n",
       "      <td>4</td>\n",
       "      <td>4</td>\n",
       "      <td>3</td>\n",
       "      <td>4</td>\n",
       "    </tr>\n",
       "    <tr>\n",
       "      <th>MOE Subcounty Dir [SC]</th>\n",
       "      <td>33</td>\n",
       "      <td>9</td>\n",
       "      <td>20</td>\n",
       "      <td>9</td>\n",
       "      <td>1</td>\n",
       "    </tr>\n",
       "    <tr>\n",
       "      <th>Other</th>\n",
       "      <td>2</td>\n",
       "      <td>1</td>\n",
       "      <td>2</td>\n",
       "      <td>0</td>\n",
       "      <td>0</td>\n",
       "    </tr>\n",
       "    <tr>\n",
       "      <th>Quality Assurance and Standards Officer (QASO) [SC]</th>\n",
       "      <td>19</td>\n",
       "      <td>10</td>\n",
       "      <td>5</td>\n",
       "      <td>5</td>\n",
       "      <td>3</td>\n",
       "    </tr>\n",
       "    <tr>\n",
       "      <th>Regional Coord of Edu [R]</th>\n",
       "      <td>1</td>\n",
       "      <td>1</td>\n",
       "      <td>1</td>\n",
       "      <td>1</td>\n",
       "      <td>0</td>\n",
       "    </tr>\n",
       "    <tr>\n",
       "      <th>Subcounty HR Officer [SC]</th>\n",
       "      <td>2</td>\n",
       "      <td>2</td>\n",
       "      <td>1</td>\n",
       "      <td>0</td>\n",
       "      <td>1</td>\n",
       "    </tr>\n",
       "    <tr>\n",
       "      <th>TSC County Dir [C]</th>\n",
       "      <td>13</td>\n",
       "      <td>8</td>\n",
       "      <td>7</td>\n",
       "      <td>3</td>\n",
       "      <td>0</td>\n",
       "    </tr>\n",
       "    <tr>\n",
       "      <th>TSC Subcounty Dir [SC]</th>\n",
       "      <td>18</td>\n",
       "      <td>4</td>\n",
       "      <td>0</td>\n",
       "      <td>2</td>\n",
       "      <td>1</td>\n",
       "    </tr>\n",
       "    <tr>\n",
       "      <th>Total</th>\n",
       "      <td>101</td>\n",
       "      <td>42</td>\n",
       "      <td>42</td>\n",
       "      <td>24</td>\n",
       "      <td>10</td>\n",
       "    </tr>\n",
       "  </tbody>\n",
       "</table>\n",
       "</div>"
      ],
      "text/plain": [
       "                                                     phone  laptop  desktop  \\\n",
       "designation                                                                   \n",
       "Asst Dir QAS [N]                                     0      2       0         \n",
       "Chief Edu Officer [SC]                               1      0       1         \n",
       "County Project Coord [C]                             2      0       0         \n",
       "County QASO [C]                                      1      1       1         \n",
       "Deputy County Dir [C]                                1      0       0         \n",
       "MOE County Dir [C]                                   8      4       4         \n",
       "MOE Subcounty Dir [SC]                               33     9       20        \n",
       "Other                                                2      1       2         \n",
       "Quality Assurance and Standards Officer (QASO) [SC]  19     10      5         \n",
       "Regional Coord of Edu [R]                            1      1       1         \n",
       "Subcounty HR Officer [SC]                            2      2       1         \n",
       "TSC County Dir [C]                                   13     8       7         \n",
       "TSC Subcounty Dir [SC]                               18     4       0         \n",
       "Total                                                101    42      42        \n",
       "\n",
       "                                                     colleague  other  \n",
       "designation                                                            \n",
       "Asst Dir QAS [N]                                     1          0      \n",
       "Chief Edu Officer [SC]                               0          0      \n",
       "County Project Coord [C]                             0          0      \n",
       "County QASO [C]                                      0          0      \n",
       "Deputy County Dir [C]                                0          0      \n",
       "MOE County Dir [C]                                   3          4      \n",
       "MOE Subcounty Dir [SC]                               9          1      \n",
       "Other                                                0          0      \n",
       "Quality Assurance and Standards Officer (QASO) [SC]  5          3      \n",
       "Regional Coord of Edu [R]                            1          0      \n",
       "Subcounty HR Officer [SC]                            0          1      \n",
       "TSC County Dir [C]                                   3          0      \n",
       "TSC Subcounty Dir [SC]                               2          1      \n",
       "Total                                                24         10     "
      ]
     },
     "execution_count": 113,
     "metadata": {},
     "output_type": "execute_result"
    }
   ],
   "source": [
    "# Generate a stacked bar chart of the prompted dashboard receipt device frequencies:\n",
    "# ```\n",
    "# db_prmp_dev_phone\n",
    "# db_prmp_dev_laptop\n",
    "# db_prmp_dev_desktop\n",
    "# db_prmp_dev_colleague\n",
    "# db_prmp_dev_other\n",
    "# ```\n",
    "pref_mod_df = dirs[[\"designation\",\"db_prmp_dev_phone\",\"db_prmp_dev_laptop\",\n",
    "                    \"db_prmp_dev_desktop\", \"db_prmp_dev_colleague\",\n",
    "                    \"db_prmp_dev_other\"]]\n",
    "pref_mod_df = pref_mod_df.groupby(\"designation\").sum()\n",
    "pref_mod_df.rename(\n",
    "    columns = {\"db_prmp_dev_phone\": \"phone\",\n",
    "               \"db_prmp_dev_laptop\": \"laptop\",\n",
    "               \"db_prmp_dev_desktop\": \"desktop\",\n",
    "               \"db_prmp_dev_colleague\": \"colleague\",\n",
    "               \"db_prmp_dev_other\": \"other\"}, inplace=True)\n",
    "pref_mod_df.loc[\"Total\"] = pref_mod_df.sum(axis=0)\n",
    "pref_mod_df"
   ]
  },
  {
   "cell_type": "code",
   "execution_count": 114,
   "metadata": {
    "ExecuteTime": {
     "end_time": "2018-11-03T12:38:50.617726Z",
     "start_time": "2018-11-03T12:38:50.608729Z"
    },
    "scrolled": true
   },
   "outputs": [
    {
     "data": {
      "text/plain": [
       "62     Printed paper                                                                                                     \n",
       "160    I can get updates throgh these divices                                                                            \n",
       "131    I can receive through the personal phone,office emails or personal email address.                                 \n",
       "161    I have phone,Tusome tablet and personal laptop                                                                    \n",
       "199    I have a personal phone and laptop in addition to office desk top                                                 \n",
       "135    During training                                                                                                   \n",
       "163    I have all the three                                                                                              \n",
       "180    office desktop                                                                                                    \n",
       "64     Printed paper                                                                                                     \n",
       "27     I don't have the dash board but have have divices to receive the link                                             \n",
       "99     Its printed and brought to me by my secretary                                                                     \n",
       "126    I have an anoroid phone but I deleted the link I had been given while working in Nyeri because it was not opening.\n",
       "148    DURING MEETING AT CDEs OFFICE                                                                                     \n",
       "201    during stakeholders meeting where the link is displayed using the projector                                       \n",
       "164    shared via projector during stake holders' meeting                                                                \n",
       "246    I can only access the link throgh my phone and office desk top                                                    \n",
       "206    I receive through my phone                                                                                        \n",
       "181    office desktop                                                                                                    \n",
       "23     NOT ANY THAT I CAN THINK OF NOW                                                                                   \n",
       "66     Printed paper                                                                                                     \n",
       "Name: db_prmp_dev_other_det, dtype: object"
      ]
     },
     "execution_count": 114,
     "metadata": {},
     "output_type": "execute_result"
    }
   ],
   "source": [
    "# Sample responses to `db_prmp_dev_other_det`.\n",
    "dirs[(dirs.db_prmp_dev_other_det.notna()) & (dirs.db_prmp_dev_other_det != \"\")].db_prmp_dev_other_det.sample(20)"
   ]
  },
  {
   "cell_type": "code",
   "execution_count": 65,
   "metadata": {
    "ExecuteTime": {
     "end_time": "2018-11-03T12:12:56.199777Z",
     "start_time": "2018-11-03T12:12:56.189772Z"
    },
    "scrolled": true
   },
   "outputs": [],
   "source": [
    "# Consider faceting all of the above by `designation`."
   ]
  },
  {
   "cell_type": "code",
   "execution_count": 116,
   "metadata": {
    "ExecuteTime": {
     "end_time": "2018-11-03T12:40:05.826831Z",
     "start_time": "2018-11-03T12:40:05.817854Z"
    },
    "scrolled": true
   },
   "outputs": [
    {
     "data": {
      "text/plain": [
       "12.0"
      ]
     },
     "execution_count": 116,
     "metadata": {},
     "output_type": "execute_result"
    }
   ],
   "source": [
    "# Report the frequency of `db_lnk_frm_other_yn` by designation, sample the `db_lnk_frm_other_det`.\n",
    "100 * np.round(dirs.db_lnk_frm_other_yn.sum() / dirs.shape[0], decimals=2)"
   ]
  },
  {
   "cell_type": "code",
   "execution_count": 119,
   "metadata": {
    "ExecuteTime": {
     "end_time": "2018-11-03T12:41:15.418095Z",
     "start_time": "2018-11-03T12:41:15.407111Z"
    }
   },
   "outputs": [
    {
     "data": {
      "text/plain": [
       "100    I recevie the link from the CQASO                                      \n",
       "27     From the CSOs and the TSC CD.                                          \n",
       "220    N/A                                                                    \n",
       "82     Not received yet                                                       \n",
       "21     TSC Cd isiolo                                                          \n",
       "121    N/A                                                                    \n",
       "84     N/A                                                                    \n",
       "221    N/A                                                                    \n",
       "129    TSC County Director                                                    \n",
       "206    I receive from the CD-TSC Mandera County                               \n",
       "201    county qaso. CQASO -Nakuru county                                      \n",
       "75     I receive the dash board from the CDE                                  \n",
       "242    CQASO                                                                  \n",
       "122    N/A                                                                    \n",
       "60     Former TSC director used to share the link                             \n",
       "196    Our CDE who shares screenshots.                                        \n",
       "142    CDE                                                                    \n",
       "130    Our TSC County Director                                                \n",
       "124    N/A                                                                    \n",
       "61     National PRIEDE cordinator Mr. Ogwen used to share the link to all CPCs\n",
       "Name: db_lnk_frm_other_det, dtype: object"
      ]
     },
     "execution_count": 119,
     "metadata": {},
     "output_type": "execute_result"
    }
   ],
   "source": [
    "dirs[(dirs.db_lnk_frm_other_det.notna()) & (dirs.db_lnk_frm_other_det!= \"\")].db_lnk_frm_other_det.sample(20)"
   ]
  },
  {
   "cell_type": "markdown",
   "metadata": {},
   "source": [
    "### Respondents' consumption of the Tangerine Dashboard"
   ]
  },
  {
   "cell_type": "code",
   "execution_count": 121,
   "metadata": {
    "ExecuteTime": {
     "end_time": "2018-11-03T12:42:03.241411Z",
     "start_time": "2018-11-03T12:42:03.235409Z"
    },
    "scrolled": true
   },
   "outputs": [
    {
     "data": {
      "text/plain": [
       "96"
      ]
     },
     "execution_count": 121,
     "metadata": {},
     "output_type": "execute_result"
    }
   ],
   "source": [
    "# Tabulate the frequency of `db_dev_access_na` for those who do not access the dashboard at all.\n",
    "dirs.db_dev_access_na.sum()"
   ]
  },
  {
   "cell_type": "code",
   "execution_count": 124,
   "metadata": {
    "ExecuteTime": {
     "end_time": "2018-11-03T12:44:37.142260Z",
     "start_time": "2018-11-03T12:44:37.134263Z"
    },
    "scrolled": true
   },
   "outputs": [],
   "source": [
    "# Generate a stacked bar chart from the dashboard link-checking frequencies:\n",
    "\n",
    "# ```\n",
    "# db_lnk_chk_sday\n",
    "# db_lnk_chk_sweek\n",
    "# db_lnk_chk_smonth\n",
    "\n",
    "# ```\n",
    "\n",
    "db_checking_df = dirs[[\"designation\",\"db_lnk_chk_sday\",\"db_lnk_chk_sweek\",\n",
    "                      \"db_lnk_chk_smonth\", \"db_lnk_chk_dont\",\n",
    "                      \"db_lnk_chk_dont_why\", \"db_lnk_chk_na\"]]"
   ]
  },
  {
   "cell_type": "code",
   "execution_count": 69,
   "metadata": {
    "ExecuteTime": {
     "end_time": "2018-11-03T12:12:56.268272Z",
     "start_time": "2018-11-03T12:12:56.256778Z"
    },
    "scrolled": true
   },
   "outputs": [],
   "source": [
    "# Sample the responses to `db_lnk_chk_dont_why`."
   ]
  },
  {
   "cell_type": "code",
   "execution_count": 70,
   "metadata": {
    "ExecuteTime": {
     "end_time": "2018-11-03T12:12:56.283277Z",
     "start_time": "2018-11-03T12:12:56.272773Z"
    },
    "scrolled": true
   },
   "outputs": [],
   "source": [
    "# Tabulate the responses to `db_sect_consulted`"
   ]
  },
  {
   "cell_type": "code",
   "execution_count": 71,
   "metadata": {
    "ExecuteTime": {
     "end_time": "2018-11-03T12:12:56.300275Z",
     "start_time": "2018-11-03T12:12:56.291273Z"
    },
    "scrolled": true
   },
   "outputs": [],
   "source": [
    "# Tabulate the responses to `db_chk_freq`."
   ]
  },
  {
   "cell_type": "code",
   "execution_count": 72,
   "metadata": {
    "ExecuteTime": {
     "end_time": "2018-11-03T12:12:56.319272Z",
     "start_time": "2018-11-03T12:12:56.304773Z"
    },
    "scrolled": true
   },
   "outputs": [],
   "source": [
    "# Sample responses to `mgmt_dec_from_db`."
   ]
  },
  {
   "cell_type": "markdown",
   "metadata": {},
   "source": [
    "### Respondents' expressed demand for the Tangerine Dashboard"
   ]
  },
  {
   "cell_type": "code",
   "execution_count": 73,
   "metadata": {
    "ExecuteTime": {
     "end_time": "2018-11-03T12:12:56.334282Z",
     "start_time": "2018-11-03T12:12:56.323776Z"
    },
    "scrolled": true
   },
   "outputs": [],
   "source": [
    "# Tabulate `no_lnk_wnt_yn` and with it the `no_lnk_wnt_freq`."
   ]
  },
  {
   "cell_type": "code",
   "execution_count": 74,
   "metadata": {
    "ExecuteTime": {
     "end_time": "2018-11-03T12:12:56.352280Z",
     "start_time": "2018-11-03T12:12:56.338774Z"
    },
    "scrolled": true
   },
   "outputs": [],
   "source": [
    "# Tabulate the responses to `db_info_wnt_yn` and sample the responses to `db_info_wnt_det`."
   ]
  },
  {
   "cell_type": "markdown",
   "metadata": {},
   "source": [
    "### Respondents' preferences for Tangerine Dashboard receipt"
   ]
  },
  {
   "cell_type": "code",
   "execution_count": 75,
   "metadata": {
    "ExecuteTime": {
     "end_time": "2018-11-03T12:12:56.367776Z",
     "start_time": "2018-11-03T12:12:56.356774Z"
    },
    "scrolled": true
   },
   "outputs": [],
   "source": [
    "# Generate a faceted stacked bar chart of the delivery mechanism responses:\n",
    "\n",
    "# ```\n",
    "# del_mech_prp_sms\n",
    "# del_mech_prp_wa\n",
    "# del_mech_prp_email\n",
    "# del_mech_prp_app\n",
    "# del_mech_prp_other\n",
    "# ```"
   ]
  },
  {
   "cell_type": "code",
   "execution_count": 76,
   "metadata": {
    "ExecuteTime": {
     "end_time": "2018-11-03T12:12:56.383278Z",
     "start_time": "2018-11-03T12:12:56.372280Z"
    },
    "scrolled": true
   },
   "outputs": [],
   "source": [
    "# Sample the responses to `del_mech_prp_det` and `del_mech_unprompted`."
   ]
  },
  {
   "cell_type": "markdown",
   "metadata": {},
   "source": [
    "### Respondents' preferences for Tangerine Dashboard "
   ]
  },
  {
   "cell_type": "code",
   "execution_count": 77,
   "metadata": {
    "ExecuteTime": {
     "end_time": "2018-11-03T12:12:56.412272Z",
     "start_time": "2018-11-03T12:12:56.388775Z"
    },
    "scrolled": true
   },
   "outputs": [],
   "source": [
    "# Sample the responses to `db_rev_feat_det`."
   ]
  }
 ],
 "metadata": {
  "jupytext_formats": "py:percent",
  "kernelspec": {
   "display_name": "Python 3",
   "language": "python",
   "name": "python3"
  },
  "language_info": {
   "codemirror_mode": {
    "name": "ipython",
    "version": 3
   },
   "file_extension": ".py",
   "mimetype": "text/x-python",
   "name": "python",
   "nbconvert_exporter": "python",
   "pygments_lexer": "ipython3",
   "version": "3.6.6"
  },
  "toc": {
   "nav_menu": {},
   "number_sections": true,
   "sideBar": true,
   "skip_h1_title": false,
   "title_cell": "Table of Contents",
   "title_sidebar": "Contents",
   "toc_cell": false,
   "toc_position": {},
   "toc_section_display": true,
   "toc_window_display": false
  },
  "varInspector": {
   "cols": {
    "lenName": 16,
    "lenType": 16,
    "lenVar": 40
   },
   "kernels_config": {
    "python": {
     "delete_cmd_postfix": "",
     "delete_cmd_prefix": "del ",
     "library": "var_list.py",
     "varRefreshCmd": "print(var_dic_list())"
    },
    "r": {
     "delete_cmd_postfix": ") ",
     "delete_cmd_prefix": "rm(",
     "library": "var_list.r",
     "varRefreshCmd": "cat(var_dic_list()) "
    }
   },
   "oldHeight": 122,
   "position": {
    "height": "144px",
    "left": "1650px",
    "right": "20px",
    "top": "120px",
    "width": "250px"
   },
   "types_to_exclude": [
    "module",
    "function",
    "builtin_function_or_method",
    "instance",
    "_Feature"
   ],
   "varInspector_section_display": "block",
   "window_display": true
  }
 },
 "nbformat": 4,
 "nbformat_minor": 2
}
