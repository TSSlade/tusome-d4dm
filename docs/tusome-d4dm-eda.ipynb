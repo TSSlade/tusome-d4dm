{
 "cells": [
  {
   "cell_type": "code",
   "execution_count": 141,
   "metadata": {
    "ExecuteTime": {
     "end_time": "2018-10-28T00:49:06.381625Z",
     "start_time": "2018-10-28T00:49:06.373626Z"
    },
    "scrolled": false
   },
   "outputs": [],
   "source": [
    "# Importing required libraries and setting display options\n",
    "import pandas as pd\n",
    "import numpy as np\n",
    "import altair as alt\n",
    "from altair import datum, expr\n",
    "import matplotlib.pyplot as plt\n",
    "import datetime as dt\n",
    "alt.renderers.enable('notebook')\n",
    "pd.set_option('display.max_colwidth', -1)"
   ]
  },
  {
   "cell_type": "code",
   "execution_count": 142,
   "metadata": {
    "ExecuteTime": {
     "end_time": "2018-10-28T00:49:06.892187Z",
     "start_time": "2018-10-28T00:49:06.385625Z"
    },
    "scrolled": false
   },
   "outputs": [],
   "source": [
    "# Reading in data\n",
    "tchrs = pd.read_stata(\"../src/teacher_data.dta\", convert_categoricals=False)\n",
    "csos = pd.read_stata(\"../src/cso_data.dta\", convert_categoricals=False)\n",
    "dirs = pd.read_stata(\"../src/director_data.dta\", convert_categoricals=False)"
   ]
  },
  {
   "cell_type": "code",
   "execution_count": 143,
   "metadata": {
    "ExecuteTime": {
     "end_time": "2018-10-28T00:49:06.903188Z",
     "start_time": "2018-10-28T00:49:06.896189Z"
    },
    "scrolled": false
   },
   "outputs": [
    {
     "name": "stdout",
     "output_type": "stream",
     "text": [
      "The Teacher dataset contains 828 records\n",
      "The CSO dataset contains 153 records\n",
      "The Director dataset contains 248 records\n"
     ]
    }
   ],
   "source": [
    "# Reporting interview counts by dataset\n",
    "print(f\"The Teacher dataset contains {tchrs.shape[0]} records\\nThe CSO dataset contains {csos.shape[0]} records\\nThe Director dataset contains {dirs.shape[0]} records\")"
   ]
  },
  {
   "cell_type": "markdown",
   "metadata": {
    "ExecuteTime": {
     "end_time": "2018-10-12T13:38:15.821761Z",
     "start_time": "2018-10-12T13:38:15.784758Z"
    }
   },
   "source": [
    "The main questions we want to ask are documented in the [analysis plan](https://github.com/TSSlade/tusome-d4dm/blob/master/analysis_plan.md), which is an evolving document."
   ]
  },
  {
   "cell_type": "markdown",
   "metadata": {
    "ExecuteTime": {
     "end_time": "2018-10-12T13:38:15.821761Z",
     "start_time": "2018-10-12T13:38:15.784758Z"
    }
   },
   "source": [
    "## Teacher Instrument"
   ]
  },
  {
   "cell_type": "markdown",
   "metadata": {},
   "source": [
    "Here we begin exploring the data we obtained from interviewing the teachers."
   ]
  },
  {
   "cell_type": "code",
   "execution_count": 144,
   "metadata": {
    "ExecuteTime": {
     "end_time": "2018-10-28T00:49:06.930684Z",
     "start_time": "2018-10-28T00:49:06.918689Z"
    },
    "scrolled": false
   },
   "outputs": [],
   "source": [
    "# Counting teacher records\n",
    "tchr_ct = tchrs.shape[0]"
   ]
  },
  {
   "cell_type": "markdown",
   "metadata": {
    "ExecuteTime": {
     "end_time": "2018-10-20T18:13:56.874778Z",
     "start_time": "2018-10-20T18:13:56.859149Z"
    },
    "variables": {
     "tchr_ct": "828"
    }
   },
   "source": [
    "Our dataset contains interviews with {{tchr_ct}} teachers."
   ]
  },
  {
   "cell_type": "markdown",
   "metadata": {},
   "source": [
    "### Teachers visited previously by CSOs\n",
    "\n",
    "The underlying assumption of most of the interview protocol is that the teacher has had a coaching interaction with a CSO. The first issue we should then address is the proportion of teachers who have received a visit from a CSO."
   ]
  },
  {
   "cell_type": "code",
   "execution_count": 145,
   "metadata": {
    "ExecuteTime": {
     "end_time": "2018-10-28T00:49:06.973186Z",
     "start_time": "2018-10-28T00:49:06.947187Z"
    },
    "scrolled": false
   },
   "outputs": [],
   "source": [
    "# Counting teachers never visited\n",
    "never = 100 * ((tchr_ct - tchrs.vis_before.sum())/tchr_ct)"
   ]
  },
  {
   "cell_type": "markdown",
   "metadata": {
    "ExecuteTime": {
     "end_time": "2018-10-20T18:13:56.874778Z",
     "start_time": "2018-10-20T18:13:56.859149Z"
    },
    "variables": {
     "np.round(never, decimals=2)": "7.37"
    }
   },
   "source": [
    "We see that {{np.round(never, decimals=2)}}% of teachers interviewed had never been previously visited by CSOs."
   ]
  },
  {
   "cell_type": "markdown",
   "metadata": {},
   "source": [
    "### Number of coaching visits in the last academic term\n",
    "\n",
    "We have confirmed that the overwhelming majority of our teachers have been visited. We can have greater confidence in the responses they give us over the course of the interview if they have had a visit in the recent past. We therefore asked the teachers to tell us how many times they had been visited by their CSO in the preceding academic term (Term 2 of the Kenyan academic year, running from roughly May-July 2018)."
   ]
  },
  {
   "cell_type": "code",
   "execution_count": 146,
   "metadata": {
    "ExecuteTime": {
     "end_time": "2018-10-28T00:49:13.360203Z",
     "start_time": "2018-10-28T00:49:07.161187Z"
    },
    "scrolled": false
   },
   "outputs": [],
   "source": [
    "# Generating CSO visit counts\n",
    "tchrs.vis_before_freq = tchrs.vis_before_freq.replace({55: \">4x\"})\n",
    "viscount_df = pd.DataFrame(tchrs.vis_before_freq.value_counts(sort=False)).rename_axis(\"prevterm_vis\").reset_index()\n",
    "viscount_df[\"pct\"] = np.round(100 * (viscount_df.vis_before_freq / tchrs.vis_before.sum()), decimals=2)\n",
    "more_than_monthly = viscount_df[viscount_df.prevterm_vis.isin([4, \">4x\"])].pct.sum()\n",
    "\n",
    "csovisct_ch = alt.Chart(viscount_df, title=\"# of times CSO visited in preceding term\").mark_bar().encode(\n",
    "    alt.Y(\"prevterm_vis:O\", title=\"CSO visits last term\"),\n",
    "    alt.X(\"vis_before_freq:Q\", title=\"# Teachers\"),\n",
    "    tooltip=\"pct\")\n",
    "\n",
    "csovisct_ch.save(\"../img/csovisct_ch.svg\", scale_factor=2.0)"
   ]
  },
  {
   "cell_type": "markdown",
   "metadata": {},
   "source": [
    "![CSO Visits](../img/csovisct_ch.svg)"
   ]
  },
  {
   "cell_type": "markdown",
   "metadata": {
    "ExecuteTime": {
     "end_time": "2018-10-20T19:51:28.176045Z",
     "start_time": "2018-10-20T19:51:28.127801Z"
    },
    "variables": {
     "int(more_than_monthly)": "28",
     "int(viscount_df[viscount_df.prevterm_vis.isin([1, 2, 3])].pct.sum())": "64",
     "int(viscount_df[viscount_df.prevterm_vis==0].pct[0])": "11"
    }
   },
   "source": [
    "We see that roughly {{int(viscount_df[viscount_df.prevterm_vis==0].pct[0])}}% of the respondents, while they'd been visited by a CSO in the past, had not been visited in the preceding term. However, roughly {{int(viscount_df[viscount_df.prevterm_vis.isin([1, 2, 3])].pct.sum())}}% of the respondents were visited between once per term and once per month. Roughly {{int(more_than_monthly)}}% of the teachers were visited by their CSOs more frequently than monthly."
   ]
  },
  {
   "cell_type": "markdown",
   "metadata": {},
   "source": [
    "### CSOs' activities during last coaching visit\n",
    "\n",
    "We are interested in knowing what CSOs are focusing on when they pay a visit to a school. Are they observing a lesson? Are they giving feedback to the teacher? Do they assess pupils' fluency rates? Do they take advantage of their presence at the school to meet with the head teacher (HT)? What kinds of things are they doing _besides_ these activities?"
   ]
  },
  {
   "cell_type": "code",
   "execution_count": 147,
   "metadata": {
    "ExecuteTime": {
     "end_time": "2018-10-28T00:49:13.464201Z",
     "start_time": "2018-10-28T00:49:13.418203Z"
    },
    "scrolled": false
   },
   "outputs": [
    {
     "data": {
      "text/html": [
       "<div>\n",
       "<style scoped>\n",
       "    .dataframe tbody tr th:only-of-type {\n",
       "        vertical-align: middle;\n",
       "    }\n",
       "\n",
       "    .dataframe tbody tr th {\n",
       "        vertical-align: top;\n",
       "    }\n",
       "\n",
       "    .dataframe thead th {\n",
       "        text-align: right;\n",
       "    }\n",
       "</style>\n",
       "<table border=\"1\" class=\"dataframe\">\n",
       "  <thead>\n",
       "    <tr style=\"text-align: right;\">\n",
       "      <th></th>\n",
       "      <th>activities</th>\n",
       "      <th>tchrs_reporting</th>\n",
       "      <th>pct</th>\n",
       "    </tr>\n",
       "  </thead>\n",
       "  <tbody>\n",
       "    <tr>\n",
       "      <th>0</th>\n",
       "      <td>Assessed pupils</td>\n",
       "      <td>688</td>\n",
       "      <td>83.84</td>\n",
       "    </tr>\n",
       "    <tr>\n",
       "      <th>1</th>\n",
       "      <td>Talked to HT</td>\n",
       "      <td>516</td>\n",
       "      <td>62.88</td>\n",
       "    </tr>\n",
       "    <tr>\n",
       "      <th>2</th>\n",
       "      <td>Provided feedback on lesson</td>\n",
       "      <td>734</td>\n",
       "      <td>89.44</td>\n",
       "    </tr>\n",
       "    <tr>\n",
       "      <th>3</th>\n",
       "      <td>Had general talk</td>\n",
       "      <td>364</td>\n",
       "      <td>44.36</td>\n",
       "    </tr>\n",
       "    <tr>\n",
       "      <th>4</th>\n",
       "      <td>Other</td>\n",
       "      <td>127</td>\n",
       "      <td>15.48</td>\n",
       "    </tr>\n",
       "  </tbody>\n",
       "</table>\n",
       "</div>"
      ],
      "text/plain": [
       "                    activities  tchrs_reporting    pct\n",
       "0  Assessed pupils              688              83.84\n",
       "1  Talked to HT                 516              62.88\n",
       "2  Provided feedback on lesson  734              89.44\n",
       "3  Had general talk             364              44.36\n",
       "4  Other                        127              15.48"
      ]
     },
     "execution_count": 147,
     "metadata": {},
     "output_type": "execute_result"
    }
   ],
   "source": [
    "# Generating table of CSOs' activities during visits\n",
    "visact_df = pd.DataFrame.from_dict({\"activities\": [\"Assessed pupils\",\n",
    "                                                   \"Talked to HT\",\n",
    "                                                   \"Provided feedback on lesson\",\n",
    "                                                   \"Had general talk\",\n",
    "                                                   \"Other\"],\n",
    "                                    \"tchrs_reporting\": [tchrs[tchrs.vis_before != 0].vis_act_kids.sum(),\n",
    "                                                        tchrs[tchrs.vis_before != 0].vis_act_ht.sum(),\n",
    "                                                        tchrs[tchrs.vis_before != 0].vis_act_fdbk.sum(),\n",
    "                                                        tchrs[tchrs.vis_before != 0].vis_act_gen.sum(),\n",
    "                                                        tchrs[tchrs.vis_before != 0].vis_act_other.sum()]})\n",
    "visact_df[\"pct\"] = np.round(visact_df.tchrs_reporting.apply(lambda x: 100 * (x/(tchr_ct - never))), decimals=2)\n",
    "visact_df"
   ]
  },
  {
   "cell_type": "code",
   "execution_count": 148,
   "metadata": {
    "ExecuteTime": {
     "end_time": "2018-10-28T00:49:21.673785Z",
     "start_time": "2018-10-28T00:49:13.468706Z"
    },
    "scrolled": false
   },
   "outputs": [],
   "source": [
    "# Generating the graph of CSOs' activities during the previous visit\n",
    "csoprevvis_ch = alt.Chart(visact_df, title=\"CSO activities during previous visit\").mark_bar().encode(\n",
    "alt.Y(\"activities:O\", \n",
    "      title=\"Activities named\",\n",
    "      sort = alt.EncodingSortField(field=\"tchrs_reporting\", op=\"values\", order=\"ascending\")),\n",
    "alt.X(\"pct:Q\",\n",
    "      title=\"% of teachers responding\"),\n",
    "tooltip = \"tchrs_reporting\")\n",
    "csoprevvis_ch.save(\"../img/csoprevvis_ch.svg\", scale_factor=2.0)"
   ]
  },
  {
   "cell_type": "markdown",
   "metadata": {},
   "source": [
    "![CSOs' Activities](../img/csoprevvis_ch.svg)"
   ]
  },
  {
   "cell_type": "markdown",
   "metadata": {
    "ExecuteTime": {
     "end_time": "2018-10-21T15:02:49.246011Z",
     "start_time": "2018-10-21T15:02:49.226011Z"
    },
    "variables": {
     "int(np.ceil(visact_df.pct.max()))": "90",
     "int(np.floor(visact_df[visact_df.activities==\"Other\"].pct))": "15"
    }
   },
   "source": [
    "Nearly {{int(np.ceil(visact_df.pct.max()))}}% of teachers report that when the CSO last visited, s/he provided feedback on a lesson. A fairly comparable proportion said that the CSO assessed pupils. Neither of these is surprising, as those activities are key features of a \"reimbursable\" or \"valid\" lesson observation. If anything, it is interesting that these numbers are not higher, given that we have excluded from our denominator those teachers who said they had never received a visit from the CSO.\n",
    "\n",
    "Of note is the relatively low proportion of teachers reporting the CSO had spoken with the HT. While Tusome encourages CSOs to speak with HTs as part of the standard protocol for visiting a school, it is not explicitly considered as a factor for reimbursement of transportation costs for visiting that school.\n",
    "\n",
    "That said, it is also possible that teachers may simply not be aware of activities taking place outside of their classroom. They and their classrooms would have been the objects of the lesson observation and fluency assessment; they may not have as much visibility into what happened before or after the CSO entered their classroom.\n",
    "\n",
    "A little over {{int(np.floor(visact_df[visact_df.activities==\"Other\"].pct))}}% of teachers reported the CSO conducted an activity that was not listed in the questionnaire. Below we have sampled 20 of the things that they reported which were not captured in the questionnaire."
   ]
  },
  {
   "cell_type": "code",
   "execution_count": 149,
   "metadata": {
    "ExecuteTime": {
     "end_time": "2018-10-28T00:49:21.730782Z",
     "start_time": "2018-10-28T00:49:21.709285Z"
    },
    "scrolled": true
   },
   "outputs": [
    {
     "name": "stdout",
     "output_type": "stream",
     "text": [
      "248    Encourages learners to improve on their reading speed                                                                                                                                                                                                                 \n",
      "127    She looks at how we conduct the new curriculum through the learning activities.                                                                                                                                                                                       \n",
      "760    Looked at my teaching records                                                                                                                                                                                                                                         \n",
      "553    reminded me of steps of teaching vocubulary                                                                                                                                                                                                                           \n",
      "648    guidance on preparation of teacher documentation                                                                                                                                                                                                                      \n",
      "534    Looked at the schemes of work                                                                                                                                                                                                                                         \n",
      "250    Trains us in areas where we are struggling                                                                                                                                                                                                                            \n",
      "569    reminded me of steps of teaching vocubulary                                                                                                                                                                                                                           \n",
      "160    Talks to other staff memebers.                                                                                                                                                                                                                                        \n",
      "268    CSO checks all my professional documents                                                                                                                                                                                                                              \n",
      "479    He observes lessons and gives me feedback that helps me to improve on my lesson delivery.                                                                                                                                                                             \n",
      "598    Met all teachers in the school and informed them about the new curriculum and advised them on how to support Tusome teachers, use of teaching aids and lesson plan preparations                                                                                       \n",
      "524    He checked the professional documents                                                                                                                                                                                                                                 \n",
      "11     She observed a Kiswahili lesson and a mathematics lesson                                                                                                                                                                                                              \n",
      "745    Has helped me to pronounce sounds as am new in Tusome.                                                                                                                                                                                                                \n",
      "788    Checked my lesson plans                                                                                                                                                                                                                                               \n",
      "691    She talks to teachers in staff room                                                                                                                                                                                                                                   \n",
      "513    The CSO assesses my English and Kiswahili Lessons ,he also assess three learners and advises me on the infusion of the Competency based curriculum aspects. He shares with me the strength and weaknesses my lessons and advise me on how to improve on the weaknesses\n",
      "108    The CSO identified slow and non readers and guide me to suport them                                                                                                                                                                                                   \n",
      "820    .                                                                                                                                                                                                                                                                     \n",
      "Name: vis_act_other_det, dtype: object\n"
     ]
    }
   ],
   "source": [
    "# Generating a list of the 'other' activities CSOs did when visiting\n",
    "print(tchrs[tchrs.vis_act_other_det.notna() & (tchrs.vis_act_other_det != \"\")].vis_act_other_det.sample(20))"
   ]
  },
  {
   "cell_type": "markdown",
   "metadata": {},
   "source": [
    "### CSOs using tablets or pen & paper during observation\n",
    "\n",
    "The _Tangerine:Tutor_ app was developed with the intent and belief that CSOs would use it _while observing_ the lesson. However, Tusome staff report that not all CSOs find the tablet interface comfortable, and not all use it with ease. So we asked teachers to report whether CSOs use the tablets during the lesson observation, and also whether they use pen and paper."
   ]
  },
  {
   "cell_type": "markdown",
   "metadata": {
    "ExecuteTime": {
     "end_time": "2018-10-21T15:27:58.583363Z",
     "start_time": "2018-10-21T15:27:58.575363Z"
    },
    "variables": {
     "int(np.round(100 * (tchrs.cso_usepcl_yn.sum()/tchr_ct), decimals=2))": "81",
     "int(np.round(100 * (tchrs.cso_usetab_yn.sum()/tchr_ct), decimals=2))": "90"
    }
   },
   "source": [
    "Roughly {{int(np.round(100 * (tchrs.cso_usetab_yn.sum()/tchr_ct), decimals=2))}}% of teachers reported that the CSOs use tablets during lesson observation; roughly {{int(np.round(100 * (tchrs.cso_usepcl_yn.sum()/tchr_ct), decimals=2))}}% of teachers reported the CSOs use pen and paper during the lesson observation."
   ]
  },
  {
   "cell_type": "code",
   "execution_count": 150,
   "metadata": {
    "ExecuteTime": {
     "end_time": "2018-10-28T00:49:21.815288Z",
     "start_time": "2018-10-28T00:49:21.769784Z"
    },
    "scrolled": false
   },
   "outputs": [
    {
     "data": {
      "text/html": [
       "<div>\n",
       "<style scoped>\n",
       "    .dataframe tbody tr th:only-of-type {\n",
       "        vertical-align: middle;\n",
       "    }\n",
       "\n",
       "    .dataframe tbody tr th {\n",
       "        vertical-align: top;\n",
       "    }\n",
       "\n",
       "    .dataframe thead th {\n",
       "        text-align: right;\n",
       "    }\n",
       "</style>\n",
       "<table border=\"1\" class=\"dataframe\">\n",
       "  <thead>\n",
       "    <tr style=\"text-align: right;\">\n",
       "      <th>Uses pen and paper</th>\n",
       "      <th>No</th>\n",
       "      <th>Yes</th>\n",
       "    </tr>\n",
       "    <tr>\n",
       "      <th>Uses tablet</th>\n",
       "      <th></th>\n",
       "      <th></th>\n",
       "    </tr>\n",
       "  </thead>\n",
       "  <tbody>\n",
       "    <tr>\n",
       "      <th>No</th>\n",
       "      <td>3</td>\n",
       "      <td>17</td>\n",
       "    </tr>\n",
       "    <tr>\n",
       "      <th>Yes</th>\n",
       "      <td>72</td>\n",
       "      <td>657</td>\n",
       "    </tr>\n",
       "  </tbody>\n",
       "</table>\n",
       "</div>"
      ],
      "text/plain": [
       "Uses pen and paper  No  Yes\n",
       "Uses tablet                \n",
       "No                  3   17 \n",
       "Yes                 72  657"
      ]
     },
     "execution_count": 150,
     "metadata": {},
     "output_type": "execute_result"
    }
   ],
   "source": [
    "# Generating the table about usage of tablets and pencils\n",
    "tabs_n_pencils = pd.crosstab(tchrs.cso_usetab_yn, tchrs.cso_usepcl_yn)\n",
    "tabs_n_pencils = tabs_n_pencils.rename_axis(\"Uses tablet\").rename_axis(\"Uses pen and paper\", axis=\"columns\")\n",
    "tabs_n_pencils = tabs_n_pencils.rename({0: \"No\", 1: \"Yes\"}, axis=\"columns\").rename({0: \"No\", 1: \"Yes\"}, axis=\"index\")\n",
    "tabs_n_pencils"
   ]
  },
  {
   "cell_type": "markdown",
   "metadata": {},
   "source": [
    "We see that the overwhelming majority of CSOs are using both tablets _and_ pen-and-paper systems when observing the teachers' lesson. There have historically been some instruments/data that CSOs were tasked by TSC to complete that were not rendered in _Tangerine_ format on the tablets; as of midway through Term 3 of the 2018 academic year, those instruments (mostly for the TSC's TPAD \\[Teacher Performance Appraisal and Development\\] project) are now in _Tangerine_. While the use of pen and paper does not appear to have come at the expense of using the tablets - indeed, it appears to be complementary, as nearly all CSOs are using both - Tusome should nonetheless follow up on these reports of CSOs' usage of pen and paper to understand the roots of the practice."
   ]
  },
  {
   "cell_type": "markdown",
   "metadata": {
    "variables": {
     "int(np.round(100 * (tchrs.cso_usetab_pup_yn.sum()/tchr_ct), decimals=2))": "88"
    }
   },
   "source": [
    "### CSOs' usage of the tablets to assess pupils' performance\n",
    "\n",
    "Tusome's coaching protocol requires CSOs to randomly select three children from the classroom at the end of the lesson to assess their reading fluency. The prompt the children are to read from is a laminated sheet of paper with a short passage printed on it; the CSOs are instructed to use the tablet to record the children's responses. The tablet is then able to calculate fluency rates and store those as data associated with that observation.\n",
    "\n",
    "Approximately {{int(np.round(100 * (tchrs.cso_usetab_pup_yn.sum()/tchr_ct), decimals=2))}}% of the teachers reported that CSOs use the tablets to assess children's reading fluency."
   ]
  },
  {
   "cell_type": "markdown",
   "metadata": {},
   "source": [
    "### Teachers' experience of feedback, and CSOs' use of tablets during feedback\n",
    "\n",
    "Tusome asked teachers whether the CSO gave feedback on the lesson last time s/he paid a visit, whether s/he used the tablet to do so, and whether the teacher was able to recall specific feedback the CSO provided."
   ]
  },
  {
   "cell_type": "code",
   "execution_count": 151,
   "metadata": {
    "ExecuteTime": {
     "end_time": "2018-10-28T00:49:21.865781Z",
     "start_time": "2018-10-28T00:49:21.836783Z"
    },
    "scrolled": false
   },
   "outputs": [
    {
     "data": {
      "text/html": [
       "<div>\n",
       "<style scoped>\n",
       "    .dataframe tbody tr th:only-of-type {\n",
       "        vertical-align: middle;\n",
       "    }\n",
       "\n",
       "    .dataframe tbody tr th {\n",
       "        vertical-align: top;\n",
       "    }\n",
       "\n",
       "    .dataframe thead th {\n",
       "        text-align: right;\n",
       "    }\n",
       "</style>\n",
       "<table border=\"1\" class=\"dataframe\">\n",
       "  <thead>\n",
       "    <tr style=\"text-align: right;\">\n",
       "      <th></th>\n",
       "      <th>event</th>\n",
       "      <th>ct</th>\n",
       "      <th>pct</th>\n",
       "    </tr>\n",
       "  </thead>\n",
       "  <tbody>\n",
       "    <tr>\n",
       "      <th>0</th>\n",
       "      <td>CSO gave feedback</td>\n",
       "      <td>757.0</td>\n",
       "      <td>91.4</td>\n",
       "    </tr>\n",
       "    <tr>\n",
       "      <th>1</th>\n",
       "      <td>CSO used a tablet for feedback</td>\n",
       "      <td>676.0</td>\n",
       "      <td>81.6</td>\n",
       "    </tr>\n",
       "    <tr>\n",
       "      <th>2</th>\n",
       "      <td>Tchr remembers feedback</td>\n",
       "      <td>725.0</td>\n",
       "      <td>87.6</td>\n",
       "    </tr>\n",
       "  </tbody>\n",
       "</table>\n",
       "</div>"
      ],
      "text/plain": [
       "                            event     ct   pct\n",
       "0  CSO gave feedback               757.0  91.4\n",
       "1  CSO used a tablet for feedback  676.0  81.6\n",
       "2  Tchr remembers feedback         725.0  87.6"
      ]
     },
     "execution_count": 151,
     "metadata": {},
     "output_type": "execute_result"
    }
   ],
   "source": [
    "# Generating table of CSO use of tablets for feedback\n",
    "feedback = {\"CSO gave feedback\": tchrs.cso_gave_fdbk_yn.sum(),\n",
    "            \"CSO used a tablet for feedback\": tchrs.cso_usetab_fdbk_yn.sum(),\n",
    "            \"Tchr remembers feedback\": tchrs.cso_fdbk_remember.sum()}\n",
    "fdbk_df = pd.DataFrame.from_dict(feedback, orient=\"index\", columns=[\"ct\"])\n",
    "fdbk_df[\"pct\"] = 100 * np.round(fdbk_df[\"ct\"] / tchrs.shape[0], decimals=3)\n",
    "fdbk_df = fdbk_df.rename_axis(\"event\").reset_index()\n",
    "fdbk_df"
   ]
  },
  {
   "cell_type": "markdown",
   "metadata": {
    "ExecuteTime": {
     "end_time": "2018-10-25T04:37:24.468447Z",
     "start_time": "2018-10-25T04:37:24.452443Z"
    }
   },
   "source": [
    "Below we have sampled 20 of the things that they reported which were not captured in the questionnaire."
   ]
  },
  {
   "cell_type": "code",
   "execution_count": 152,
   "metadata": {
    "ExecuteTime": {
     "end_time": "2018-10-28T00:49:21.885284Z",
     "start_time": "2018-10-28T00:49:21.869783Z"
    },
    "scrolled": true
   },
   "outputs": [
    {
     "name": "stdout",
     "output_type": "stream",
     "text": [
      "36     Aliniambia mambo ya sounds.                                                                                                                                                                                          \n",
      "479    iI had a challenge with herufi m na sauti but the CSO helped me get the correct name and sound.He advised me on proper planning to improve on perky pace.                                                            \n",
      "113    I was advised on time management                                                                                                                                                                                     \n",
      "536    He told me about class control and some pupils were not mastering the sounds. I was to go and download the sounds to help the pupils to master them.                                                                 \n",
      "412    He told me the fluency levels and told me to give pupils more practice in reading and to make sure that I listen to the sounds and check on the pupils who have difficlties in raeding                               \n",
      "378    Improve on letter sounds and reading words correctly                                                                                                                                                                 \n",
      "560    he told me to identify non readers and have remedial teaching                                                                                                                                                        \n",
      "390    To ensure that all the pupils are able to read the words.                                                                                                                                                            \n",
      "659    She told me to make sure that children follow with their fingers when reading..                                                                                                                                      \n",
      "451    increase the involvement of learners through the i/we/you do, i move round the class to monitor what the learners are doing and support                                                                              \n",
      "46     He told me to follow the tusome guidelines so that the lesson is easy to teach                                                                                                                                       \n",
      "169    He taught me the importance of perky pace and how it helps both slow learners and fast learners                                                                                                                      \n",
      "408    He told me about the sounds                                                                                                                                                                                          \n",
      "561    he told me to put more effort so that all children could know how to read                                                                                                                                            \n",
      "594    During the last visit, there were some children who were not able to read the expected number of words. He asked me to put more effort to assisst those children reach the target of words they are supposed to read.\n",
      "144    I had skipped the picture walkthrough and prediction                                                                                                                                                                 \n",
      "23     How to use the jedwali in Kiswahili, change the teaching of jedwali                                                                                                                                                  \n",
      "446    She encouraged me to put more effort in instruction delivery. She said the pupils were able to read. She also told me to lay emphasy on the CBC infusion into my lessons                                             \n",
      "510    To help my learners read at a fast pace as required.                                                                                                                                                                 \n",
      "249    The children in class 2 that i assessed read well at an average of 80 correct words per minute. The lesson flow was also good                                                                                        \n",
      "Name: cso_fdbk_det, dtype: object\n"
     ]
    }
   ],
   "source": [
    "# Sample of details regarding the details of feedback CSOs provided\n",
    "print(tchrs[tchrs.cso_fdbk_det.notna() & (tchrs.cso_fdbk_det != \"\")].cso_fdbk_det.sample(20))"
   ]
  },
  {
   "cell_type": "markdown",
   "metadata": {
    "ExecuteTime": {
     "end_time": "2018-10-21T16:01:03.622834Z",
     "start_time": "2018-10-21T16:01:03.615837Z"
    },
    "variables": {
     "int(100* (tchrs.cso_fdbk_showtab_yn.sum() / tchrs.vis_act_fdbk.sum()))": "56"
    }
   },
   "source": [
    "The tablets come equipped with various aids that CSOs could use to help coach teachers. In addition to the contents of the auto-generated feedback, CSOs could use the _Papaya_ application to model pronunciation of letter sounds, the videos demonstrating effective lesson delivery, etc. Of the teachers reporting CSOs provided feedback of some kind, {{int(100* (tchrs.cso_fdbk_showtab_yn.sum() / tchrs.vis_act_fdbk.sum()))}}% indicated that the CSO showed them something directly on the tablet."
   ]
  },
  {
   "cell_type": "code",
   "execution_count": 153,
   "metadata": {
    "ExecuteTime": {
     "end_time": "2018-10-28T00:49:23.994766Z",
     "start_time": "2018-10-28T00:49:21.907281Z"
    },
    "scrolled": false
   },
   "outputs": [
    {
     "data": {
      "text/html": [
       "<div>\n",
       "<style scoped>\n",
       "    .dataframe tbody tr th:only-of-type {\n",
       "        vertical-align: middle;\n",
       "    }\n",
       "\n",
       "    .dataframe tbody tr th {\n",
       "        vertical-align: top;\n",
       "    }\n",
       "\n",
       "    .dataframe thead th {\n",
       "        text-align: right;\n",
       "    }\n",
       "</style>\n",
       "<table border=\"1\" class=\"dataframe\">\n",
       "  <thead>\n",
       "    <tr style=\"text-align: right;\">\n",
       "      <th></th>\n",
       "      <th>resources</th>\n",
       "      <th>tchrs_reporting</th>\n",
       "      <th>pct</th>\n",
       "    </tr>\n",
       "  </thead>\n",
       "  <tbody>\n",
       "    <tr>\n",
       "      <th>0</th>\n",
       "      <td>Tips from feedback screen</td>\n",
       "      <td>167</td>\n",
       "      <td>22.75</td>\n",
       "    </tr>\n",
       "    <tr>\n",
       "      <th>1</th>\n",
       "      <td>Pupils' reading fluency</td>\n",
       "      <td>260</td>\n",
       "      <td>35.42</td>\n",
       "    </tr>\n",
       "    <tr>\n",
       "      <th>2</th>\n",
       "      <td>Videos of lesson delivery</td>\n",
       "      <td>128</td>\n",
       "      <td>17.44</td>\n",
       "    </tr>\n",
       "    <tr>\n",
       "      <th>3</th>\n",
       "      <td>Letter sounds in Papaya</td>\n",
       "      <td>230</td>\n",
       "      <td>31.34</td>\n",
       "    </tr>\n",
       "    <tr>\n",
       "      <th>4</th>\n",
       "      <td>Other</td>\n",
       "      <td>54</td>\n",
       "      <td>7.36</td>\n",
       "    </tr>\n",
       "  </tbody>\n",
       "</table>\n",
       "</div>"
      ],
      "text/plain": [
       "                   resources  tchrs_reporting    pct\n",
       "0  Tips from feedback screen  167              22.75\n",
       "1  Pupils' reading fluency    260              35.42\n",
       "2  Videos of lesson delivery  128              17.44\n",
       "3  Letter sounds in Papaya    230              31.34\n",
       "4  Other                      54               7.36 "
      ]
     },
     "execution_count": 153,
     "metadata": {},
     "output_type": "execute_result"
    }
   ],
   "source": [
    "# Generating dataframe of feedback shown by CSOs to teachers\n",
    "fdbk_shown_df = pd.DataFrame.from_dict({\"resources\": [\"Tips from feedback screen\",\n",
    "                                                   \"Pupils' reading fluency\",\n",
    "                                                   \"Videos of lesson delivery\",\n",
    "                                                   \"Letter sounds in Papaya\",\n",
    "                                                   \"Other\"],\n",
    "                                    \"tchrs_reporting\":[\n",
    "                                        tchrs[tchrs.vis_act_fdbk != 0].cso_shw_tips.sum(),\n",
    "                                        tchrs[tchrs.vis_act_fdbk != 0].cso_shw_fluency.sum(),\n",
    "                                        tchrs[tchrs.vis_act_fdbk != 0].cso_shw_video.sum(),\n",
    "                                        tchrs[tchrs.vis_act_fdbk != 0].cso_shw_lsnd.sum(),\n",
    "                                        tchrs[tchrs.vis_act_fdbk != 0].cso_shw_other.sum()]})\n",
    "fdbk_shown_df[\"pct\"] = np.round(\n",
    "    fdbk_shown_df.tchrs_reporting.apply(\n",
    "    lambda x: 100 * (x/visact_df[visact_df.activities==\"Provided feedback on lesson\"].tchrs_reporting)),\n",
    "    decimals=2)\n",
    "fdbk_shown_df"
   ]
  },
  {
   "cell_type": "code",
   "execution_count": 154,
   "metadata": {
    "ExecuteTime": {
     "end_time": "2018-10-28T00:49:29.588923Z",
     "start_time": "2018-10-28T00:49:23.994766Z"
    },
    "scrolled": true
   },
   "outputs": [],
   "source": [
    "# Generating chart of tablet-based resources shown to teachers\n",
    "tabres_ch = alt.Chart(fdbk_shown_df, title=\"Tablet-based resources shown to Teachers by CSOs\").mark_bar().encode(\n",
    "alt.Y(\"resources:O\", \n",
    "      title=\"Resources named\",\n",
    "      sort = alt.EncodingSortField(field=\"tchrs_reporting\", op=\"values\", order=\"ascending\")),\n",
    "alt.X(\"pct:Q\",\n",
    "      title=\"% of teachers responding\"),\n",
    "tooltip = \"tchrs_reporting\")\n",
    "tabres_ch.save(\"../img/tabres_ch.svg\", scale_factor=2.0)"
   ]
  },
  {
   "cell_type": "markdown",
   "metadata": {
    "ExecuteTime": {
     "end_time": "2018-10-25T04:51:04.504886Z",
     "start_time": "2018-10-25T04:51:04.494938Z"
    }
   },
   "source": [
    "![Tablet Resources Chart](../img/tabres_ch.svg)"
   ]
  },
  {
   "cell_type": "markdown",
   "metadata": {
    "ExecuteTime": {
     "end_time": "2018-10-25T04:51:04.504886Z",
     "start_time": "2018-10-25T04:51:04.494938Z"
    },
    "variables": {
     "int(fdbk_shown_df[fdbk_shown_df.resources==\"Letter sounds in Papaya\"].pct)": "31",
     "int(fdbk_shown_df[fdbk_shown_df.resources==\"Pupils' reading fluency\"].pct)": "35"
    }
   },
   "source": [
    "Overall, fewer than 50% of teachers indicated that CSOs showed them something on the tablet as part of the feedback session. Where the CSO showed something to the teacher, it was most frequently pupils' reading fluency (at {{int(fdbk_shown_df[fdbk_shown_df.resources==\"Pupils' reading fluency\"].pct)}}%), with Papaya letter sounds the next most common (at {{int(fdbk_shown_df[fdbk_shown_df.resources==\"Letter sounds in Papaya\"].pct)}}%)."
   ]
  },
  {
   "cell_type": "markdown",
   "metadata": {
    "ExecuteTime": {
     "end_time": "2018-10-25T05:02:19.094526Z",
     "start_time": "2018-10-25T05:02:19.086535Z"
    }
   },
   "source": [
    "**N.B.**: <span style=\"color:red\"> Update cell w literate programming re: which activity is in the lead. (Abstract one level further.)</span>\n",
    "\n",
    "Below we have sampled 20 of the things that they reported which were not captured in the questionnaire."
   ]
  },
  {
   "cell_type": "code",
   "execution_count": 155,
   "metadata": {
    "ExecuteTime": {
     "end_time": "2018-10-28T00:49:29.640955Z",
     "start_time": "2018-10-28T00:49:29.621939Z"
    },
    "scrolled": true
   },
   "outputs": [
    {
     "name": "stdout",
     "output_type": "stream",
     "text": [
      "317    A video on a teacher teaching vocabulary                                                                                    \n",
      "470    He advised me to ensure that I model fluent reading with respect to punction marks for my learners to emulate.              \n",
      "460    During feedback the CSO uses his tablet for reference where he can model eg letter name and sound.                          \n",
      "66     The time i took teaching the lesson                                                                                         \n",
      "757    A story she used to assess pupils with.                                                                                     \n",
      "257    lesson duration, sometimes she does show me areas highlighted for improvement directly from the tablets                     \n",
      "283    videos and pictures                                                                                                         \n",
      "367    She talked about the areas that I had done wrong                                                                            \n",
      "729    He gave me feedback on areas of improvement after observing lessons                                                         \n",
      "617    I have been shown lesson modeles thr ough video and letter name and sound on papaya.                                        \n",
      "577    the feedback on the tablet                                                                                                  \n",
      "718    Downloaded the letter sounds on my smart phone                                                                              \n",
      "85     I was able to see what he recorded about the lesson when I was teaching.                                                    \n",
      "208    What I did at the start of my lesson, how it went until the end.                                                            \n",
      "534    Has never been visited                                                                                                      \n",
      "129    The time I took to teach the lesson.                                                                                        \n",
      "130    I was shown some steps i had skipped during the lesson                                                                      \n",
      "736    He showed me how to pronounce letter sounds from the tablet                                                                 \n",
      "447    The pupils assessment reading and how the tool counts the average number of words read by the pupils                        \n",
      "507    He only reads to me eg he reads the sections on how I needed to conduct the lesson or pupils reading outcome and time taken,\n",
      "Name: cso_shw_other_det, dtype: object\n"
     ]
    }
   ],
   "source": [
    "# Printing sample of teachers' feedback re: things CSOs showed them on the tablet\n",
    "print(tchrs[tchrs.cso_shw_other_det.notna() & (tchrs.cso_shw_other_det != \"\")].cso_shw_other_det.sample(20))"
   ]
  },
  {
   "cell_type": "markdown",
   "metadata": {
    "variables": {
     "int(100 * (tchrs[tchrs.vis_before != 0].cso_ref_prev_fdbk_yn.sum()/tchrs.vis_before.sum()))": "63"
    }
   },
   "source": [
    "### CSOs' use of feedback visit-over-visit\n",
    "\n",
    "Tusome's theory of change stipulates that smaller, more frequent, and more targeted coaching interactions will shift teacher behavior more effectively than larger-scale, episodic training events that cover a broad range of topics. This is the reason Tusome invests so heavily in supporting CSOs to provide coaching support to teachers in the span between large-scale training events.\n",
    "\n",
    "Teachers, like most people, will be more likely to alter their behavior if feedback is timely and consistent, and the teachers' response to it is monitored rather than assumed. In this survey, roughly {{int(100 * (tchrs[tchrs.vis_before != 0].cso_ref_prev_fdbk_yn.sum()/tchrs.vis_before.sum()))}}% of teachers indicated that when CSOs visited the school and observed the teacher, they follow up on feedback from earlier visits."
   ]
  },
  {
   "cell_type": "markdown",
   "metadata": {
    "ExecuteTime": {
     "end_time": "2018-10-25T05:15:42.173892Z",
     "start_time": "2018-10-25T05:15:42.161890Z"
    }
   },
   "source": [
    "**T.D.**: <span style=\"color:red\"> Update cells so definitions of variable `literate programming` inputs are visible.</span>"
   ]
  },
  {
   "cell_type": "markdown",
   "metadata": {},
   "source": [
    "### Teachers self-reported improvement in response to coaching\n",
    "\n",
    "Effectively measuring the quality of instruction or lesson delivery is a very, very difficult task. (**T.D.**: <span style=\"color:red\"> Provide citations, examples of various approaches.</span>)\n",
    "\n",
    "The current study was not able to directly assess the quality of teachers' lesson delivery, although Tusome is working on various other studies which attempt to do so. However, we asked teachers whether they felt the coaching received from CSOs had improved the quality of their teaching. We first posed the question in regard to the teaching of reading in Kiswahili and English, and then asked them whether the coaching had improved their teaching in other subjects as well."
   ]
  },
  {
   "cell_type": "code",
   "execution_count": 156,
   "metadata": {
    "ExecuteTime": {
     "end_time": "2018-10-28T00:49:29.710383Z",
     "start_time": "2018-10-28T00:49:29.660954Z"
    },
    "scrolled": true
   },
   "outputs": [
    {
     "data": {
      "text/html": [
       "<div>\n",
       "<style scoped>\n",
       "    .dataframe tbody tr th:only-of-type {\n",
       "        vertical-align: middle;\n",
       "    }\n",
       "\n",
       "    .dataframe tbody tr th {\n",
       "        vertical-align: top;\n",
       "    }\n",
       "\n",
       "    .dataframe thead th {\n",
       "        text-align: right;\n",
       "    }\n",
       "</style>\n",
       "<table border=\"1\" class=\"dataframe\">\n",
       "  <thead>\n",
       "    <tr style=\"text-align: right;\">\n",
       "      <th></th>\n",
       "      <th>subject</th>\n",
       "      <th>tchrs_reporting</th>\n",
       "      <th>pct</th>\n",
       "    </tr>\n",
       "  </thead>\n",
       "  <tbody>\n",
       "    <tr>\n",
       "      <th>0</th>\n",
       "      <td>Kiswahili &amp; English reading</td>\n",
       "      <td>732.0</td>\n",
       "      <td>99.86</td>\n",
       "    </tr>\n",
       "    <tr>\n",
       "      <th>1</th>\n",
       "      <td>Other subjects</td>\n",
       "      <td>706.0</td>\n",
       "      <td>96.32</td>\n",
       "    </tr>\n",
       "  </tbody>\n",
       "</table>\n",
       "</div>"
      ],
      "text/plain": [
       "                       subject  tchrs_reporting    pct\n",
       "0  Kiswahili & English reading  732.0            99.86\n",
       "1  Other subjects               706.0            96.32"
      ]
     },
     "execution_count": 156,
     "metadata": {},
     "output_type": "execute_result"
    }
   ],
   "source": [
    "# Generating dataframe of teacher's self-reported improvement due to coaching\n",
    "better_tchr_df = pd.DataFrame.from_dict(\n",
    "    {\"subject\": [\"Kiswahili & English reading\",\n",
    "                  \"Other subjects\"],\n",
    "     \"tchrs_reporting\": [tchrs[(tchrs.vis_act_fdbk != 0) &\n",
    "                                (tchrs.vis_before != 0)].cso_fdbk_better_tus.sum(),\n",
    "                          tchrs[(tchrs.vis_act_fdbk != 0) &\n",
    "                                (tchrs.vis_before != 0)].cso_fdbk_better_nont.sum()]})\n",
    "better_tchr_df[\"pct\"] = np.round(\n",
    "    better_tchr_df.tchrs_reporting.apply(\n",
    "    lambda x: 100 * (x/tchrs[(tchrs.vis_act_fdbk !=0) & (tchrs.vis_before != 0)].vis_before.sum())),\n",
    "    decimals=2)\n",
    "\n",
    "bttr_tus_pct = better_tchr_df[better_tchr_df.subject==\"Kiswahili & English reading\"].pct\n",
    "bttr_nont_pct = better_tchr_df[better_tchr_df.subject==\"Other subjects\"].pct\n",
    "better_tchr_df"
   ]
  },
  {
   "cell_type": "markdown",
   "metadata": {
    "ExecuteTime": {
     "end_time": "2018-10-25T08:00:36.505220Z",
     "start_time": "2018-10-25T08:00:36.491218Z"
    },
    "scrolled": true,
    "variables": {
     "float(bttr_nont_pct)": "96.32",
     "float(bttr_tus_pct)": "99.86"
    }
   },
   "source": [
    "Encouragingly, {{float(bttr_tus_pct)}}% and {{float(bttr_nont_pct)}}% - effectively all - teachers have indicated that the feedback they receive from CSOs has enabled them to be better teachers.\n",
    "\n",
    "Below we have sampled 20 of the examples teachers gave for how their teaching has improved as a result of the feedback."
   ]
  },
  {
   "cell_type": "code",
   "execution_count": 157,
   "metadata": {
    "ExecuteTime": {
     "end_time": "2018-10-28T00:49:29.786393Z",
     "start_time": "2018-10-28T00:49:29.761394Z"
    },
    "scrolled": true
   },
   "outputs": [
    {
     "name": "stdout",
     "output_type": "stream",
     "text": [
      "363    helping me to rectify mistakes, use the steps of I do/WE DO/you do to make learning easy                                                                                                                                                           \n",
      "269    use of teaching learning materials when teaching other subjets i.e. Hygiene and Nutrition                                                                                                                                                          \n",
      "778    The ability to infuse the CBCs in other subjects linking from the English and Kiswahili.                                                                                                                                                           \n",
      "455    How to use key inquiry questions in subjects like CRE and Environmental                                                                                                                                                                            \n",
      "622    Extend time management strategy in Tusome lessons to other subjects to help in syllabus coverage                                                                                                                                                   \n",
      "126    Like teaching of vocabulary, the steps are quite helpful and I can use this to also teach other unknown words in other subjects.                                                                                                                   \n",
      "419    I was asked to work closely with slow learners and none readers so that they are not left behind                                                                                                                                                   \n",
      "524    The feedback he gave on discussing the title, picture walk and prediction has been very helpful. When I describe the topics to the pupils in other learning areas, the learners are able to comprehend what they what the story or essay is about  \n",
      "594    The language acquisation has helped learners also read in other subjects. The feedback shared by CSO in reading has helped me assist pupils which has made them able to read in other learning areas and also the speed at which they read is good.\n",
      "662    The DIM, the skills of reading of words in other learning areas.                                                                                                                                                                                   \n",
      "175    He advised me to be following the teacher's guide faithfully and also the use of I Do We Do You in teachig other subjects                                                                                                                          \n",
      "142    I use DIM methodology to help learners understand other subjects                                                                                                                                                                                   \n",
      "139    I have applied the use of I do we do you in other subjects, also allowing learners to collaborate or do partner work                                                                                                                               \n",
      "752    I was given advice on reading the letter sounds which i apply when teaching hygiene and nutrition                                                                                                                                                  \n",
      "250    It has helped me improve in lesson planning both in English, Kiswahili and even other subjects.It has helped children to embrace a reading culture                                                                                                 \n",
      "189    I linked the content on numbers from English to a maths lesson on number counting                                                                                                                                                                  \n",
      "257    i use the direct instruction model in teaching other subjects, i make use partnerwork activities in when teaching other subjects                                                                                                                   \n",
      "543    I Use DIM in other subjects .Particularly when introducing a new concept in a a subject learners will get it faster and clearly                                                                                                                    \n",
      "119    She has encouraged me to teach with learning/teaching materials for quick understanding of new concept                                                                                                                                             \n",
      "558    She told me teach the vocabulary clearly because this are the same words to be used in other subjects                                                                                                                                              \n",
      "Name: cso_fdbk_better_det, dtype: object\n"
     ]
    }
   ],
   "source": [
    "# Printing sample of things teachers say they do better\n",
    "print(tchrs[tchrs.cso_fdbk_better_det.notna() & (tchrs.cso_fdbk_better_det != \"\")].cso_fdbk_better_det.sample(20))"
   ]
  },
  {
   "cell_type": "markdown",
   "metadata": {
    "ExecuteTime": {
     "end_time": "2018-10-25T08:20:22.847466Z",
     "start_time": "2018-10-25T08:20:22.839964Z"
    },
    "scrolled": true
   },
   "source": [
    "### CSOs' discussion of pupil fluency\n",
    "\n",
    "The ultimate goal of Tusome is to improve reading outcomes in grades 1-3. Whether the project has been successful is determined by the pupils' reading skills (with an emphasis on _oral reading fluency_, or ORF, and reading comprehension) as demonstrated by their performance on an early grade reading assessment (EGRA).\n",
    "\n",
    "For a CSO's visit to be considered _complete_ or _valid_, one of the criteria is that it include an assessment of the reading skills of three randomly-selected pupils. These pupils are then provided a stimulus that contains a brief reading passage of ~50-100 words. As they read aloud from the stimulus, the CSO uses the _Tangerine_ application on the tablet to make note of any inaccurately read words. When the child has finished reading - or when 60 seconds elapses, whichever comes first - the assessment is complete. The child's fluency is then calculated using the formula\n",
    "\n",
    "$$\\frac{\\text{# of correct words}}{\\big(\\frac{60 \\ - \\ \\text{time remaining (s)}}{60}\\big)} = \\text{correct words per minute}$$\n",
    "\n",
    "The _Tangerine_ software calculates the average fluency in _cwpm_ across all three pupils and reports it as part of the lesson feedback. The CSO is able - but not required - to bring up the pupils' fluency as part of their feedback session."
   ]
  },
  {
   "cell_type": "code",
   "execution_count": 158,
   "metadata": {
    "ExecuteTime": {
     "end_time": "2018-10-28T00:49:29.831900Z",
     "start_time": "2018-10-28T00:49:29.790894Z"
    },
    "scrolled": false
   },
   "outputs": [
    {
     "data": {
      "text/html": [
       "<div>\n",
       "<style scoped>\n",
       "    .dataframe tbody tr th:only-of-type {\n",
       "        vertical-align: middle;\n",
       "    }\n",
       "\n",
       "    .dataframe tbody tr th {\n",
       "        vertical-align: top;\n",
       "    }\n",
       "\n",
       "    .dataframe thead th {\n",
       "        text-align: right;\n",
       "    }\n",
       "</style>\n",
       "<table border=\"1\" class=\"dataframe\">\n",
       "  <thead>\n",
       "    <tr style=\"text-align: right;\">\n",
       "      <th></th>\n",
       "      <th>response</th>\n",
       "      <th>tchrs_responding</th>\n",
       "      <th>pct</th>\n",
       "    </tr>\n",
       "  </thead>\n",
       "  <tbody>\n",
       "    <tr>\n",
       "      <th>0</th>\n",
       "      <td>CSO discusses fluency in feedback session</td>\n",
       "      <td>706.0</td>\n",
       "      <td>92.05</td>\n",
       "    </tr>\n",
       "    <tr>\n",
       "      <th>1</th>\n",
       "      <td>Teacher finds discussion of fluency useful</td>\n",
       "      <td>710.0</td>\n",
       "      <td>92.57</td>\n",
       "    </tr>\n",
       "  </tbody>\n",
       "</table>\n",
       "</div>"
      ],
      "text/plain": [
       "                                     response  tchrs_responding    pct\n",
       "0  CSO discusses fluency in feedback session   706.0             92.05\n",
       "1  Teacher finds discussion of fluency useful  710.0             92.57"
      ]
     },
     "execution_count": 158,
     "metadata": {},
     "output_type": "execute_result"
    }
   ],
   "source": [
    "# Generating dataframe CSOs' discussions of fluency\n",
    "fluency_disc_df = pd.DataFrame.from_dict({\"response\": [\n",
    "    \"CSO discusses fluency in feedback session\",\n",
    "    \"Teacher finds discussion of fluency useful\"],\n",
    "    \"tchrs_responding\": [\n",
    "        tchrs[tchrs.vis_before != 0].cso_fdbk_discfluency.sum(),\n",
    "        tchrs[tchrs.vis_before != 0].cso_fdbk_flu_useful.sum()]})\n",
    "\n",
    "fluency_disc_df[\"pct\"] = np.round(100 * \n",
    "                        fluency_disc_df.tchrs_responding.apply(\n",
    "                            lambda x: x / (tchrs.vis_before.sum())), decimals=2)\n",
    "\n",
    "flu_cso_disc = fluency_disc_df[fluency_disc_df.response==\"CSO discusses fluency in feedback session\"].pct\n",
    "flu_disc_use = fluency_disc_df[fluency_disc_df.response==\"Teacher finds discussion of fluency useful\"].pct\n",
    "fluency_disc_df"
   ]
  },
  {
   "cell_type": "markdown",
   "metadata": {
    "variables": {
     "float(flu_cso_disc)": "92.05",
     "float(flu_disc_use)": "92.57"
    }
   },
   "source": [
    "It appears the overwhelming majority of CSOs ({{float(flu_cso_disc)}}%) discuss the pupils' fluency with the teachers, and the teachers overwhelmingly ({{float(flu_disc_use)}}%) find it a useful discussion. But how do teachers make use of that insight?\n",
    "\n",
    "Below we have sampled 20 of the examples teachers gave for what they do with knowledge of their pupils' fluency rates."
   ]
  },
  {
   "cell_type": "code",
   "execution_count": 159,
   "metadata": {
    "ExecuteTime": {
     "end_time": "2018-10-28T00:49:29.899398Z",
     "start_time": "2018-10-28T00:49:29.880897Z"
    },
    "scrolled": true
   },
   "outputs": [
    {
     "name": "stdout",
     "output_type": "stream",
     "text": [
      "571    I was able to match weak and strong learners to facilitate peer support.                                                                                                                                                                            \n",
      "201    The CSO told me the children were supposed to read 60 words per minute. Two of them read well but the other one was not able to read In the afternoon I deal with individuals by repeating the sound and I even go back to start from the beginning.\n",
      "206    I build on the strengths to assist pupils to read                                                                                                                                                                                                   \n",
      "590    The feedback helped me to apply Tusome methodology seriuosly to have my learners have the ability to read..                                                                                                                                         \n",
      "401    it helped me help learners read faster                                                                                                                                                                                                              \n",
      "241    I was able to put more make sure my pupils were able to read fluently by teachng them things like punctuation marks, and sounds pronounction. I also gave them a lot of reading materials to improve their reading skills.                          \n",
      "16     I use the information to check the level of my pupils and when am teaching i know the level of attention i give to each pupil                                                                                                                       \n",
      "10     Yes very useful. So that I can know what to improve on. i.e. if she finds a struggling learner after the assessment, I take the opportunity to assist the learner to improve.                                                                       \n",
      "247    i appreciate learners to be motivated in reading                                                                                                                                                                                                    \n",
      "537    It helps me support my weak learners when i identify them                                                                                                                                                                                           \n",
      "363    N/A                                                                                                                                                                                                                                                 \n",
      "797    It guides me to plan for remedial work.                                                                                                                                                                                                             \n",
      "738    I will be able to tell how many can read and also can assess myself                                                                                                                                                                                 \n",
      "668    I use this information to plan for remedial work for the slow learners.                                                                                                                                                                             \n",
      "452    it helps me gauge the learners and to identify the weak one who i give personalised attention                                                                                                                                                       \n",
      "813    Helps me to assist learners in class to be faster readers                                                                                                                                                                                           \n",
      "107    It helps to improve on the weaker learners by creating extra time to help them                                                                                                                                                                      \n",
      "159    I use this information to improve on the reading levels of my learners.                                                                                                                                                                             \n",
      "203    I use the information to plan for the coming lessons                                                                                                                                                                                                \n",
      "53     i try to do what she advised me to improve on fluency levels                                                                                                                                                                                        \n",
      "Name: cso_fdbk_flu_dowith, dtype: object\n"
     ]
    }
   ],
   "source": [
    "# Printing a sample of teachers' responses re: what they do with knowledge of fluency\n",
    "print(tchrs[tchrs.cso_fdbk_flu_dowith.notna() & (tchrs.cso_fdbk_flu_dowith != \"\")].cso_fdbk_flu_dowith.sample(20))"
   ]
  },
  {
   "cell_type": "markdown",
   "metadata": {},
   "source": [
    "### Disruption caused by tablet use\n",
    "\n",
    "Pupils are easily distracted by the presence of unfamiliar adults in the classroom. However, if the adult sits quietly and unobtrusively in the rear of the classroom, the children rapidly become acclimated to the visitor's presence and are able to focus on the lesson.\n",
    "\n",
    "For many children in rural schools, however, tablet computers are an unfamiliar sight. Tusome was interested to know whether the CSOs' use of tablets to conduct the classroom observation or assess the pupils' fluency is perceived as disruptive."
   ]
  },
  {
   "cell_type": "code",
   "execution_count": 160,
   "metadata": {
    "ExecuteTime": {
     "end_time": "2018-10-28T00:49:29.982895Z",
     "start_time": "2018-10-28T00:49:29.904395Z"
    },
    "scrolled": false
   },
   "outputs": [
    {
     "data": {
      "text/html": [
       "<div>\n",
       "<style scoped>\n",
       "    .dataframe tbody tr th:only-of-type {\n",
       "        vertical-align: middle;\n",
       "    }\n",
       "\n",
       "    .dataframe tbody tr th {\n",
       "        vertical-align: top;\n",
       "    }\n",
       "\n",
       "    .dataframe thead th {\n",
       "        text-align: right;\n",
       "    }\n",
       "</style>\n",
       "<table border=\"1\" class=\"dataframe\">\n",
       "  <thead>\n",
       "    <tr style=\"text-align: right;\">\n",
       "      <th></th>\n",
       "      <th>case</th>\n",
       "      <th>distracting</th>\n",
       "      <th>pct</th>\n",
       "    </tr>\n",
       "  </thead>\n",
       "  <tbody>\n",
       "    <tr>\n",
       "      <th>0</th>\n",
       "      <td>CSO tablet use for observation</td>\n",
       "      <td>34</td>\n",
       "      <td>4.0</td>\n",
       "    </tr>\n",
       "    <tr>\n",
       "      <th>1</th>\n",
       "      <td>CSO tablet use for feedback</td>\n",
       "      <td>16</td>\n",
       "      <td>2.0</td>\n",
       "    </tr>\n",
       "  </tbody>\n",
       "</table>\n",
       "</div>"
      ],
      "text/plain": [
       "                             case  distracting  pct\n",
       "0  CSO tablet use for observation  34           4.0\n",
       "1  CSO tablet use for feedback     16           2.0"
      ]
     },
     "execution_count": 160,
     "metadata": {},
     "output_type": "execute_result"
    }
   ],
   "source": [
    "# Generating dataframe re: pupils' distraction due to tablet use\n",
    "tchr_dist_df = pd.DataFrame.from_dict({\n",
    "    \"case\": [\n",
    "        \"CSO tablet use for observation\",\n",
    "        \"CSO tablet use for feedback\"],\n",
    "    \"distracting\": [\n",
    "        int(tchrs[tchrs.vis_before != 0].cso_tab_distract_yn.sum()),\n",
    "        int(tchrs[tchrs.vis_before != 0].cso_tab_fdbk_distrac.sum())]})\n",
    "\n",
    "tchr_dist_df[\"pct\"] = 100 * np.round(tchr_dist_df.distracting.apply(\n",
    "    lambda x: x / tchrs.vis_before.sum()),\n",
    "             decimals=2)\n",
    "\n",
    "distracting_tab_obs = float(tchr_dist_df[tchr_dist_df.case==\"CSO tablet use for observation\"].pct)\n",
    "distracting_tab_fdbk = float(tchr_dist_df[tchr_dist_df.case==\"CSO tablet use for feedback\"].pct)\n",
    "\n",
    "tchr_dist_df"
   ]
  },
  {
   "cell_type": "markdown",
   "metadata": {
    "variables": {
     "distracting_tab_fdbk": "2.0",
     "distracting_tab_obs": "4.0"
    }
   },
   "source": [
    "Reassuringly, very few teachers responded that they find it distracting when the CSO used a tablet during observation or during feedback ({{distracting_tab_obs}}% and {{distracting_tab_fdbk}}%, respectively). It is worth considering why they found the tablet use distracting; because the numbers are so low, the lists below present all responses rather than just a sample."
   ]
  },
  {
   "cell_type": "code",
   "execution_count": 161,
   "metadata": {
    "ExecuteTime": {
     "end_time": "2018-10-28T00:49:30.036901Z",
     "start_time": "2018-10-28T00:49:30.020896Z"
    },
    "scrolled": true
   },
   "outputs": [
    {
     "name": "stdout",
     "output_type": "stream",
     "text": [
      "1      Pupils get attention of the tablet                                                                                                                                                          \n",
      "13     at times it is distracting when the CSO takes a photo using the tablet. This mostly affects the pupils. It was a challenge to me the first time she took the photos but now I am used to it.\n",
      "26     some learners look at the CSO at the back of the class as he he uses tablet hence distracting their attention                                                                               \n",
      "47     The curious one always keep on looking at the tablet instead of listening to me                                                                                                             \n",
      "89     Some of the children sitting next to the children get distraccted and stop looking and the board.They are are also not comfortable because they are not used to it.                         \n",
      "108    N/A s                                                                                                                                                                                       \n",
      "113    N/As                                                                                                                                                                                        \n",
      "132    Because the pupils keep on looking at the CSO and not the teacher when am teaching                                                                                                          \n",
      "148    N/A                                                                                                                                                                                         \n",
      "165    N/A                                                                                                                                                                                         \n",
      "224    Sometimes the learners try to look behind but i control them.                                                                                                                               \n",
      "231    sometimes the pupils are atrracted by the tablet as the CSO type                                                                                                                            \n",
      "264    N/A                                                                                                                                                                                         \n",
      "273    N/A                                                                                                                                                                                         \n",
      "278    Pupils are glued to the tablet.                                                                                                                                                             \n",
      "284    The kids concentrate on the tablet                                                                                                                                                          \n",
      "297    My pupils are eager to find out what the CSO is keying in the tablet                                                                                                                        \n",
      "298    My pupils would be interested to know more about the tablet and hence poor concentration during the lesson                                                                                  \n",
      "324    helps me put those with difficulties in reading under remedial                                                                                                                              \n",
      "341    N/A                                                                                                                                                                                         \n",
      "387    I m not used to it                                                                                                                                                                          \n",
      "596    Some pupils tend to concetrate at the CSO using the tablets behind the class while am teaching in class                                                                                     \n",
      "625    Sometimes my learners become interested in what the CSO is doing                                                                                                                            \n",
      "654    It creates curiosit to my learners                                                                                                                                                          \n",
      "676    sometimes the learners turn to see what the CSo is doing, for me its not                                                                                                                    \n",
      "728    The table diverts the learners attention and they will not concentrate on the lesson i am teaching                                                                                          \n",
      "774    This is because i have a class of 71 learners and the ones who were near the CSO, were being distracted by the CSO's tablet. Majority of the learners were OK                               \n",
      "Name: cso_tab_distract_why, dtype: object\n"
     ]
    }
   ],
   "source": [
    "# Printing the reasons teachers think the tablets are distracting during observations\n",
    "print(tchrs[(tchrs.cso_tab_distract_why != \"\") & tchrs.cso_tab_distract_why.notna()].cso_tab_distract_why)"
   ]
  },
  {
   "cell_type": "code",
   "execution_count": 162,
   "metadata": {
    "ExecuteTime": {
     "end_time": "2018-10-28T00:49:30.076900Z",
     "start_time": "2018-10-28T00:49:30.044399Z"
    },
    "scrolled": true
   },
   "outputs": [
    {
     "name": "stdout",
     "output_type": "stream",
     "text": [
      "35     it arouses curiosity therefore disrupt concentration of the learners                                                                                                                                                                                                         \n",
      "50     I am distracted because i don't know what he will tell me                                                                                                                                                                                                                    \n",
      "176    Because i am not aware what he is doing with the tablet but if both are looking at it, i will not find it distracting                                                                                                                                                        \n",
      "206    My thinking is that the CSO is recording me and can be used in other places                                                                                                                                                                                                  \n",
      "241    When he is giving me feedback find it distracting that the CSO has to keep on looking on the tablet, I wonder what he is looking at or reading from the tablet. I prefer that he uses a a hardcopy of a real book not from his tablet since i cant see what he is looking at.\n",
      "423    N/A                                                                                                                                                                                                                                                                          \n",
      "522    No                                                                                                                                                                                                                                                                           \n",
      "749    N/A                                                                                                                                                                                                                                                                          \n",
      "Name: cso_fdbk_tab_diswhy, dtype: object\n"
     ]
    }
   ],
   "source": [
    "# Printing the reasons teachers feel the tablet use during feedback is distracting\n",
    "print(tchrs[(tchrs.cso_fdbk_tab_diswhy != \"\") & tchrs.cso_fdbk_tab_diswhy.notna()].cso_fdbk_tab_diswhy)"
   ]
  },
  {
   "cell_type": "markdown",
   "metadata": {},
   "source": [
    "While these results are encouraging, it may be that CSOs' tablet use is more distracting when it is the pupils themselves who are the object of the CSO's attention. We asked teachers whether they were present during the assessment of pupils' reading skills, and if so, whether it was their sense that pupils were distracted by the tablet use."
   ]
  },
  {
   "cell_type": "code",
   "execution_count": 163,
   "metadata": {
    "ExecuteTime": {
     "end_time": "2018-10-28T00:49:32.144397Z",
     "start_time": "2018-10-28T00:49:30.082397Z"
    },
    "scrolled": false
   },
   "outputs": [
    {
     "data": {
      "text/html": [
       "<div>\n",
       "<style scoped>\n",
       "    .dataframe tbody tr th:only-of-type {\n",
       "        vertical-align: middle;\n",
       "    }\n",
       "\n",
       "    .dataframe tbody tr th {\n",
       "        vertical-align: top;\n",
       "    }\n",
       "\n",
       "    .dataframe thead th {\n",
       "        text-align: right;\n",
       "    }\n",
       "</style>\n",
       "<table border=\"1\" class=\"dataframe\">\n",
       "  <thead>\n",
       "    <tr style=\"text-align: right;\">\n",
       "      <th></th>\n",
       "      <th>response</th>\n",
       "      <th>tchrs_responding</th>\n",
       "      <th>numerator</th>\n",
       "      <th>pct</th>\n",
       "    </tr>\n",
       "  </thead>\n",
       "  <tbody>\n",
       "    <tr>\n",
       "      <th>0</th>\n",
       "      <td>Teacher observed the assessment</td>\n",
       "      <td>449</td>\n",
       "      <td>767</td>\n",
       "      <td>59.0</td>\n",
       "    </tr>\n",
       "    <tr>\n",
       "      <th>1</th>\n",
       "      <td>Pupils found the tablet distracting</td>\n",
       "      <td>98</td>\n",
       "      <td>449</td>\n",
       "      <td>22.0</td>\n",
       "    </tr>\n",
       "  </tbody>\n",
       "</table>\n",
       "</div>"
      ],
      "text/plain": [
       "                              response  tchrs_responding  numerator   pct\n",
       "0  Teacher observed the assessment      449               767        59.0\n",
       "1  Pupils found the tablet distracting  98                449        22.0"
      ]
     },
     "execution_count": 163,
     "metadata": {},
     "output_type": "execute_result"
    }
   ],
   "source": [
    "# Generating dataframe re: pupils' distraction due to tablet use during assessment\n",
    "pupil_dist_df = pd.DataFrame.from_dict({\n",
    "    \"response\": [\n",
    "        \"Teacher observed the assessment\",\n",
    "        \"Pupils found the tablet distracting\"],\n",
    "    \"tchrs_responding\": [\n",
    "        int(tchrs[tchrs.vis_before != 0].cso_pres_ass_tab.sum()),\n",
    "        int(tchrs[tchrs.vis_before != 0].cso_pup_distract_ass.sum())]})\n",
    "\n",
    "pupil_dist_df[\"numerator\"] = [\n",
    "    int(tchrs.vis_before.sum()),\n",
    "    int(pupil_dist_df[pupil_dist_df.response==\"Teacher observed the assessment\"].tchrs_responding)]\n",
    "\n",
    "pupil_dist_df[\"pct\"] = 100 * np.round(pupil_dist_df.tchrs_responding / pupil_dist_df.numerator, 2)\n",
    "\n",
    "tchrs_obsd_assmt = int(pupil_dist_df[pupil_dist_df.response==\"Teacher observed the assessment\"].pct)\n",
    "pupils_distracted = int(pupil_dist_df[pupil_dist_df.response==\"Pupils found the tablet distracting\"].pct)\n",
    "\n",
    "pupil_dist_df"
   ]
  },
  {
   "cell_type": "markdown",
   "metadata": {
    "ExecuteTime": {
     "end_time": "2018-10-25T09:43:54.269939Z",
     "start_time": "2018-10-25T09:43:54.259439Z"
    },
    "variables": {
     "pupils_distracted": "22",
     "tchrs_obsd_assmt": "59"
    }
   },
   "source": [
    "Roughly {{tchrs_obsd_assmt}}% of the teachers said they had observed the CSO's assessment of the pupils' reading skills. Of those, {{pupils_distracted}}% thought the pupils found the tablet distracting. This may suggest a need for Tusome to provide additional training or orientation to CSOs on best practices in assessment administration.\n",
    "\n",
    "Below we sample 20 of the reasons teachers provided for why they thought pupils found tablet use distracting during the assessment."
   ]
  },
  {
   "cell_type": "code",
   "execution_count": 164,
   "metadata": {
    "ExecuteTime": {
     "end_time": "2018-10-28T00:49:32.193397Z",
     "start_time": "2018-10-28T00:49:32.179396Z"
    },
    "scrolled": true
   },
   "outputs": [
    {
     "name": "stdout",
     "output_type": "stream",
     "text": [
      "525    Some of the learners are always carried away by the tablet and some fidget while being assesed making them not to read fluently.                                                                \n",
      "202    The learner is used to reading on paper, so when the CSO asked them to read on the tablet it was distracting because this is not what they are used to.                                         \n",
      "442    My learners are always wondering what the CSO is doing on the tablet                                                                                                                            \n",
      "424    The learners get excited about the tablet and forgets to read.                                                                                                                                  \n",
      "176    N/A                                                                                                                                                                                             \n",
      "63     i find the CSOs use of the tablet to assess learners create fear or anxiety among learners because the learners feel them as strangers                                                          \n",
      "602    One of the pupils assessed was not able to read because she was concentrating on the tablet                                                                                                     \n",
      "69     They read from the tablet                                                                                                                                                                       \n",
      "814    my pupils become a bit nervous as they are not used to the tablet/s                                                                                                                             \n",
      "103    N/A                                                                                                                                                                                             \n",
      "203    The pupils were fearing the assessment                                                                                                                                                          \n",
      "826    \"the rest of the learners who havent been selected for the reading activity keep on peeping at the back hoping to be called by the CSO to read.However the CSO sticks on the three pupils..\"    \n",
      "591    The pupils were afraid of the tablet that made them abit mixed up. The pupils commented that the CSO was taking a vidoe of them since they thought the tablet was for videos.                   \n",
      "85     The pupils tend to look at the tablet all the time. And other than that, the pupils are always very anxious when the CSO uses the tablet to take pictures, so they look behind most of the time.\n",
      "609    Some pupils were fearing to read                                                                                                                                                                \n",
      "65     The CSO tablets draws attension to my student and they look back often                                                                                                                          \n",
      "300    My learners got distracted by looking at the colour, the shape and the tablet itself because it is not a common phenomena                                                                       \n",
      "102    N/A                                                                                                                                                                                             \n",
      "433    their concentration was more on the tablet than the stimulus.It raised anxiety among pupils                                                                                                     \n",
      "610    The pupils were very much interested with the gadget and not the stimuli                                                                                                                        \n",
      "Name: cso_pup_dist_why, dtype: object\n"
     ]
    }
   ],
   "source": [
    "# Printing a sample of the reasons teachers think pupils find the tablet distracting\n",
    "print(tchrs[(tchrs.cso_pup_dist_why != \"\") & tchrs.cso_pup_dist_why.notna()].cso_pup_dist_why.sample(20))"
   ]
  },
  {
   "cell_type": "markdown",
   "metadata": {},
   "source": [
    "### Teachers' ongoing assessment of pupil fluency\n",
    "\n",
    "Teachers are fully capable of assessing their pupils' reading fluency without recourse to a tablet. However, RTI has experimented with an Android-based pupil performance tracking tool that might be of use to teachers. Therefore we were interested to understand the extent to which teachers are already assessing pupils' fluency, what tools they are using for the task, whether they have access to phones on which such a tool could be deployed, and whether they would want to use it if so."
   ]
  },
  {
   "cell_type": "code",
   "execution_count": 165,
   "metadata": {
    "ExecuteTime": {
     "end_time": "2018-10-28T00:49:32.208895Z",
     "start_time": "2018-10-28T00:49:32.197898Z"
    },
    "scrolled": true
   },
   "outputs": [],
   "source": [
    "# Calculating proportion of teachers who assess their pupils' fluency\n",
    "tchrs_assessing = 100 * np.round(tchrs.tchr_ass_pup_flu_yn.sum() / tchrs.shape[0], decimals=2)"
   ]
  },
  {
   "cell_type": "markdown",
   "metadata": {
    "variables": {
     "int(tchrs_assessing)": "91"
    }
   },
   "source": [
    "Roughly {{int(tchrs_assessing)}}% of teachers we spoke to indicated they assess their pupils' fluency. When asked to specify what tools they use for the task, they specified the following."
   ]
  },
  {
   "cell_type": "code",
   "execution_count": 166,
   "metadata": {
    "ExecuteTime": {
     "end_time": "2018-10-28T00:49:32.246900Z",
     "start_time": "2018-10-28T00:49:32.225398Z"
    },
    "scrolled": true
   },
   "outputs": [
    {
     "name": "stdout",
     "output_type": "stream",
     "text": [
      "300    I use a watch and a chosen text to see how many words they can read in a minute, two minutes or five minutes.                                                                                 \n",
      "747    i write some words on the board and call some pupils to read                                                                                                                                  \n",
      "153    i ussualy give them a section to read from books and i time with my watch in the phone                                                                                                        \n",
      "494    I use my phone to time the pupils while reading. Sometimes I use the exam papers that I can see how fluent they are in reading                                                                \n",
      "247    story books, Tusome books                                                                                                                                                                     \n",
      "627    I use my phone to check on time a learner spends to read a story that I have identified                                                                                                       \n",
      "598    I normally give them a passage to read and time their reading speed                                                                                                                           \n",
      "113    The learners read passages from their books, I time them using my phone to establish words read per minute                                                                                    \n",
      "752    I use the Tusome books to assess their reading and I time them                                                                                                                                \n",
      "333    I call them to read for from the Tusome text book                                                                                                                                             \n",
      "557    I use the stories in english and swahili books where i identify a story for the learners to read.                                                                                             \n",
      "408    i use the text books                                                                                                                                                                          \n",
      "630    I give them stories from the Tusome books. I check on their fluency and speed. I also use the supplmentary stories which we were given to administer the reading assessments in the afternoon.\n",
      "781    I call the pupils one by one and ask them to read from a book                                                                                                                                 \n",
      "727    i use mock exams the school buys to assess the learners reading ability and i also use charts with selected sentences and words from Tusome books                                             \n",
      "691    Use the Tusome text book                                                                                                                                                                      \n",
      "155    i use exam papers and use a stop watch to time                                                                                                                                                \n",
      "339    I use stories in the books and get questions to test comprehension.                                                                                                                           \n",
      "676    i give them a set of words and i time them using a stop watch                                                                                                                                 \n",
      "637    During remedial i call the pupils and ask them to read from Tusome books, i sometimes my watch to time and see how many words they can read in a minute.                                      \n",
      "Name: tchr_ass_pup_tools, dtype: object\n"
     ]
    }
   ],
   "source": [
    "# Printing sample of tools teachers use to assess pupils' fluency\n",
    "print(tchrs[(tchrs.tchr_ass_pup_flu_yn != 0) & (tchrs.tchr_ass_pup_tools != \"\") & tchrs.tchr_ass_pup_tools.notna()].tchr_ass_pup_tools.sample(20))"
   ]
  },
  {
   "cell_type": "code",
   "execution_count": 167,
   "metadata": {
    "ExecuteTime": {
     "end_time": "2018-10-28T00:49:32.285399Z",
     "start_time": "2018-10-28T00:49:32.252399Z"
    },
    "scrolled": true
   },
   "outputs": [
    {
     "data": {
      "text/html": [
       "<div>\n",
       "<style scoped>\n",
       "    .dataframe tbody tr th:only-of-type {\n",
       "        vertical-align: middle;\n",
       "    }\n",
       "\n",
       "    .dataframe tbody tr th {\n",
       "        vertical-align: top;\n",
       "    }\n",
       "\n",
       "    .dataframe thead th {\n",
       "        text-align: right;\n",
       "    }\n",
       "</style>\n",
       "<table border=\"1\" class=\"dataframe\">\n",
       "  <thead>\n",
       "    <tr style=\"text-align: right;\">\n",
       "      <th></th>\n",
       "      <th>response</th>\n",
       "      <th>tchrs_responding</th>\n",
       "      <th>pct</th>\n",
       "    </tr>\n",
       "  </thead>\n",
       "  <tbody>\n",
       "    <tr>\n",
       "      <th>0</th>\n",
       "      <td>Teacher has a phone</td>\n",
       "      <td>814.0</td>\n",
       "      <td>98.0</td>\n",
       "    </tr>\n",
       "    <tr>\n",
       "      <th>1</th>\n",
       "      <td>Phone is an Android</td>\n",
       "      <td>654.0</td>\n",
       "      <td>79.0</td>\n",
       "    </tr>\n",
       "    <tr>\n",
       "      <th>2</th>\n",
       "      <td>Teacher would like a tool</td>\n",
       "      <td>813.0</td>\n",
       "      <td>98.0</td>\n",
       "    </tr>\n",
       "  </tbody>\n",
       "</table>\n",
       "</div>"
      ],
      "text/plain": [
       "                    response  tchrs_responding   pct\n",
       "0  Teacher has a phone        814.0             98.0\n",
       "1  Phone is an Android        654.0             79.0\n",
       "2  Teacher would like a tool  813.0             98.0"
      ]
     },
     "execution_count": 167,
     "metadata": {},
     "output_type": "execute_result"
    }
   ],
   "source": [
    "# Generating dataframe of teachers' access to phones and interest in a tool\n",
    "tang_tool_df = pd.DataFrame.from_dict({\n",
    "    \"response\": [\"Teacher has a phone\",\n",
    "                 \"Phone is an Android\",\n",
    "                 \"Teacher would like a tool\"],\n",
    "    \"tchrs_responding\": [\n",
    "        tchrs.tch_mob_phone.sum(),\n",
    "        tchrs.tch_has_android.sum(),\n",
    "        tchrs.tch_wants_assess.sum()]})\n",
    "\n",
    "tang_tool_df[\"pct\"] = 100 * np.round(tang_tool_df.tchrs_responding.apply(lambda x: x / tchrs.shape[0]), decimals=2)\n",
    "tang_tool_df"
   ]
  },
  {
   "cell_type": "markdown",
   "metadata": {},
   "source": [
    "Nearly all teachers interviewed indicated they have access to a mobile phone; nearly 4 out of 5 teachers indicated their phone is an Android. Nearly all teachers - even those who don't have an Android - said they would like to have access to a tool that would provide them sample assessments they could do with their pupils."
   ]
  },
  {
   "cell_type": "markdown",
   "metadata": {},
   "source": [
    "## CSO Instrument"
   ]
  },
  {
   "cell_type": "markdown",
   "metadata": {
    "ExecuteTime": {
     "end_time": "2018-10-12T13:38:15.821761Z",
     "start_time": "2018-10-12T13:38:15.784758Z"
    }
   },
   "source": [
    "Here we begin exploring the data we obtained from interviewing the CSOs."
   ]
  },
  {
   "cell_type": "markdown",
   "metadata": {},
   "source": [
    "### Length of experience using tablet-based Tangerine\n",
    "_When did you first receive a tablet from Tusome or PRIMR?_\n",
    "\n",
    "We want to convert the year/month CSOs provided into a number so we can work with it easily. We'll make the simplifying assumption that the tablet was received on the first day of the month they provided, and that this interview was conducted on the first day of the month. Neither of those are true, but the marginal days are unlikely to make a practical difference in a CSO's facility with the tool."
   ]
  },
  {
   "cell_type": "code",
   "execution_count": 168,
   "metadata": {
    "ExecuteTime": {
     "end_time": "2018-10-28T00:49:32.312398Z",
     "start_time": "2018-10-28T00:49:32.289897Z"
    },
    "scrolled": false
   },
   "outputs": [],
   "source": [
    "# Converting date tablet received into duration of tablet usage\n",
    "now = dt.datetime(2018, 10, 1)\n",
    "csos[\"tab_usage\"] = pd.to_timedelta(now - pd.to_datetime({\"year\": csos.recd_tab_yr, \"month\": csos.recd_tab_month, \"day\": 1})).dt.days"
   ]
  },
  {
   "cell_type": "markdown",
   "metadata": {
    "ExecuteTime": {
     "end_time": "2018-10-18T06:22:41.067578Z",
     "start_time": "2018-10-18T06:22:41.040577Z"
    }
   },
   "source": [
    "We'll also want to convert the duration to months, since that will be easier to digest, and filter out any missing values."
   ]
  },
  {
   "cell_type": "code",
   "execution_count": 169,
   "metadata": {
    "ExecuteTime": {
     "end_time": "2018-10-28T00:49:32.339897Z",
     "start_time": "2018-10-28T00:49:32.317396Z"
    },
    "scrolled": true
   },
   "outputs": [],
   "source": [
    "# Generating dataframe of CSOs' tablet usage\n",
    "tab_usage = pd.DataFrame(csos[csos.tab_usage.notna()].tab_usage / 30)"
   ]
  },
  {
   "cell_type": "code",
   "execution_count": 170,
   "metadata": {
    "ExecuteTime": {
     "end_time": "2018-10-28T00:49:37.880566Z",
     "start_time": "2018-10-28T00:49:32.344897Z"
    },
    "scrolled": false
   },
   "outputs": [],
   "source": [
    "# Generating histogram of CSOs' tablet usage duration\n",
    "csotabusage_ch = alt.Chart(tab_usage, title=\"Distribution of CSO tablet usage, months\").mark_bar().encode(\n",
    "    alt.X(\"tab_usage:Q\", \n",
    "          bin=alt.BinParams(step=1), title=\"# Months has had a tablet\"),\n",
    "    alt.Y(\"count()\", title=\"# of CSOs\"))\n",
    "\n",
    "csotabusage_ch.save(\"../img/csotabusage_ch.svg\", scale_factor=2.0)"
   ]
  },
  {
   "cell_type": "markdown",
   "metadata": {},
   "source": [
    "![Histogram of CSOs' tablet usage duration](../img/csotabusage_ch.svg)"
   ]
  },
  {
   "cell_type": "markdown",
   "metadata": {
    "ExecuteTime": {
     "end_time": "2018-10-18T06:06:58.475520Z",
     "start_time": "2018-10-18T06:06:58.294467Z"
    },
    "variables": {
     "int(tab_usage.tab_usage.mode()[0])": "41",
     "np.round(tab_usage.tab_usage.mode()[0]/12, decimals=1)": "3.5"
    }
   },
   "source": [
    "We see that the majority of our CSOs have had their tablets for roughly {{int(tab_usage.tab_usage.mode()[0])}} months ({{np.round(tab_usage.tab_usage.mode()[0]/12, decimals=1)}} years). This is in keeping with the beginning of the Tusome program, and is as expected. CSOs who have had their tablets for longer are likely veterans of the PRIMR program (Tusome's predecessor); those who have had tablets for fewer months may have assumed their roles more recently. (CSO turnover due to retirement, promotion, maternity leave, etc. is an issue which Tusome is constantly needing to manage.)"
   ]
  },
  {
   "cell_type": "markdown",
   "metadata": {
    "ExecuteTime": {
     "end_time": "2018-10-12T13:38:15.821761Z",
     "start_time": "2018-10-12T13:38:15.784758Z"
    }
   },
   "source": [
    "### Proportion of CSOs reporting use of each application\n",
    "\n",
    "_Which applications do you use frequently when supporting teachers? ...After recording unprompted responses, read the list of options and record responses._\n",
    "  + Tangerine Tutor\n",
    "  + Papaya\n",
    "  + Tusome Books (in Adobe Acrobat)\n",
    "  + Tusome Videos (in MX Player)\n",
    "\n",
    "The CSOs' tablets come equipped with several tools meant to support their efforts as instructional coaches. These include the [_Tangerine:Tutor_](http://www.tangerinecentral.org/tutor/) application, the [_Papaya_](http://schoolsnetkenya.com/tusome-early-literacy-programme-sounds-application/) application, PDF versions of Tusome's instructional materials (pupil's books and teacher's guides), and videos that model effective instructional delivery.\n",
    "\n",
    "We are interested in which of those tools CSOs use, and how frequently. We will provide an analysis of their unprompted free-response answers to the question above. For the moment, we note the tools they said they use when we explicitly prompted them with the list of tools available."
   ]
  },
  {
   "cell_type": "code",
   "execution_count": 171,
   "metadata": {
    "ExecuteTime": {
     "end_time": "2018-10-28T00:49:37.927581Z",
     "start_time": "2018-10-28T00:49:37.904570Z"
    },
    "scrolled": false
   },
   "outputs": [],
   "source": [
    "# Generating a dataframe of CSOs' application usage\n",
    "app_users = {\"tutor\": csos.freqapps_tt_promp.sum(),\n",
    "         \"papaya\": csos.freqapps_papaya_promp.sum(),\n",
    "         \"books\": csos.freqapps_bks_promp.sum(),\n",
    "         \"videos\": csos.freqapps_vids_promp.sum()}\n",
    "app_usage = pd.DataFrame.from_dict(app_users, orient=\"index\", columns=[\"ct\"])\n",
    "app_usage[\"pct\"] = 100 * np.round(app_usage[\"ct\"] / csos.shape[0], decimals=3)\n",
    "app_usage = app_usage.rename_axis(\"app\").reset_index()"
   ]
  },
  {
   "cell_type": "code",
   "execution_count": 172,
   "metadata": {
    "ExecuteTime": {
     "end_time": "2018-10-28T00:49:45.045979Z",
     "start_time": "2018-10-28T00:49:37.931079Z"
    },
    "scrolled": true
   },
   "outputs": [],
   "source": [
    "# Generating bar chart of CSOs' tablet usage\n",
    "tooluse_ch = alt.Chart(app_usage, title=\"Proportion of CSOs reporting tool usage\").mark_bar().encode(\n",
    "    alt.Y(\"app:O\",\n",
    "          title=\"Application\",\n",
    "          sort = alt.EncodingSortField(field=\"pct\", op=\"values\", order=\"ascending\"),\n",
    "          ),\n",
    "    alt.X(\"pct:Q\", title=\"% of CSOs reporting usage\"),\n",
    "    tooltip=\"pct\")\n",
    "\n",
    "tooluse_ch.save(\"../img/tooluse_ch.svg\", scale_factor=2.0)"
   ]
  },
  {
   "cell_type": "markdown",
   "metadata": {
    "ExecuteTime": {
     "end_time": "2018-10-27T08:51:06.355293Z",
     "start_time": "2018-10-27T08:51:03.013Z"
    },
    "scrolled": true
   },
   "source": [
    "![Chart of CSOs reported tool usage patterns](../img/tooluse_ch.svg)"
   ]
  },
  {
   "cell_type": "markdown",
   "metadata": {
    "ExecuteTime": {
     "end_time": "2018-10-18T10:11:51.996964Z",
     "start_time": "2018-10-18T10:11:51.970463Z"
    }
   },
   "source": [
    "The overwhelming majority of the CSOs report using all of the applications. That said, the videos and books are used less frequently."
   ]
  },
  {
   "cell_type": "markdown",
   "metadata": {
    "ExecuteTime": {
     "end_time": "2018-10-18T10:14:09.150850Z",
     "start_time": "2018-10-18T10:14:09.136848Z"
    }
   },
   "source": [
    "### Proportion of CSOs who refer to Tangerine to provide post-observation feedback\n",
    "\n",
    "_Do you refer to Tangerine when giving teachers feedback after observing a lesson?_\n",
    "\n",
    "The _Tangerine:Tutor_ application analyzes the pattern of the CSO's responses to the observation items and surfaces actionable feedback that could be shared with the teacher to improve her or his instruction. While the auto-generated feedback is intended as a tool to help CSOs give more effective guidance to teachers, it can be quite extensive and is not prioritized. We were interested to know whether the CSOs make reference to the application's auto-generated feedback when they hold their post-observation debriefing session with the teacher."
   ]
  },
  {
   "cell_type": "code",
   "execution_count": 173,
   "metadata": {
    "ExecuteTime": {
     "end_time": "2018-10-28T00:49:45.058001Z",
     "start_time": "2018-10-28T00:49:45.049978Z"
    },
    "scrolled": false
   },
   "outputs": [],
   "source": [
    "# Calculating pct of CSOs wo give feedback after a lesson\n",
    "cso_ls_fdbk_sc = 100 * np.round(csos.ref_tang_fdbk.sum() / csos.shape[0], decimals=3)"
   ]
  },
  {
   "cell_type": "markdown",
   "metadata": {
    "ExecuteTime": {
     "end_time": "2018-10-18T10:11:51.996964Z",
     "start_time": "2018-10-18T10:11:51.970463Z"
    },
    "variables": {
     "cso_ls_fdbk_sc": "96.7"
    }
   },
   "source": [
    "Again, the overwhelming majority of CSOs - {{cso_ls_fdbk_sc}}% - report using the auto-generated feedback when holding their debrief session with the teacher. We will separately provide an analysis of their open-ended answers regarding _what_ they refer to and what they find most useful."
   ]
  },
  {
   "cell_type": "markdown",
   "metadata": {
    "ExecuteTime": {
     "end_time": "2018-10-18T10:11:51.996964Z",
     "start_time": "2018-10-18T10:11:51.970463Z"
    }
   },
   "source": [
    "### Proportion of CSOs who use Tangerine to plan their work\n",
    "\n",
    "_Do you refer to Tangerine to help you plan your work when you are **not** either observing a teacher or giving the teacher feedback?_\n",
    "\n",
    "Version 3 of the _Tangerine:Tutor_ application features a screen which allows a CSO to see schools they have visited and which they have not. We were interested to know whether the CSOs are leveraging this feature—or others, such as the pupils' fluency rates, which are reported in the feedback—to make decisions about which schools to visit in the future."
   ]
  },
  {
   "cell_type": "code",
   "execution_count": 174,
   "metadata": {
    "ExecuteTime": {
     "end_time": "2018-10-28T00:49:45.081978Z",
     "start_time": "2018-10-28T00:49:45.073980Z"
    },
    "scrolled": false
   },
   "outputs": [],
   "source": [
    "# Generating proportion of CSOs who use Tangerine to plan their work\n",
    "cso_tangplanners = 100 * np.round(csos.refer_tang_nonobs.sum() / csos.shape[0], decimals=3)"
   ]
  },
  {
   "cell_type": "markdown",
   "metadata": {
    "ExecuteTime": {
     "end_time": "2018-10-18T10:11:51.996964Z",
     "start_time": "2018-10-18T10:11:51.970463Z"
    },
    "variables": {
     "cso_tangplanners": "59.5"
    }
   },
   "source": [
    "Fewer than two-thirds of CSOs ({{cso_tangplanners}}%) refer to Tangerine to plan their work. A sampling of the reasons they gave for not using it is provided below:"
   ]
  },
  {
   "cell_type": "code",
   "execution_count": 175,
   "metadata": {
    "ExecuteTime": {
     "end_time": "2018-10-28T00:49:45.117002Z",
     "start_time": "2018-10-28T00:49:45.101981Z"
    },
    "scrolled": false
   },
   "outputs": [
    {
     "data": {
      "text/plain": [
       "98     N/ A                                                                                                                                                \n",
       "6      I think that I only need to use it when I am at a school doing observations                                                                         \n",
       "100    I only use it in schools                                                                                                                            \n",
       "53     I normally use it when i am in class. I thought it is related to GPS                                                                                \n",
       "96     Tangerine might capture GPS and you will be seen like a cheat and it's not good. I only use it while supporting teachers.                           \n",
       "36     I was not trained on how to do it                                                                                                                   \n",
       "39     I just use it to observe lessons                                                                                                                    \n",
       "47     I don't think I have any reason because I have my own program. I only use it when I am going to school. We normally prepare our own program of work.\n",
       "102    N/ A                                                                                                                                                \n",
       "148    Because i capture most of my work on paper so i don't need to refer to the Tangerine.                                                               \n",
       "Name: tang_nonobs_nowhynot, dtype: object"
      ]
     },
     "execution_count": 175,
     "metadata": {},
     "output_type": "execute_result"
    }
   ],
   "source": [
    "# Generating sample of reasons CSOs don't use Tangerine to plan their work\n",
    "csos[csos.tang_nonobs_nowhynot.notnull() & (csos.tang_nonobs_nowhynot != \"\")].tang_nonobs_nowhynot.sample(10)"
   ]
  },
  {
   "cell_type": "markdown",
   "metadata": {},
   "source": [
    "This result surfaces a few issues Tusome might consider addressing next time CSOs receive a refresher training on Tangerine's use.\n",
    "  1. A lack of awareness of how the information provided by the tablet (schools visited and not visited) could be operationalized\n",
    "  1. A fear that they would be accused of falsifying observation data, rooted specifically in a misunderstanding of the application's GPS-capture functionality\n",
    "  1. A mental compartmentalization of Tangerine as being a Tusome-specific tool, not for use in broader contexts\n",
    "\n",
    "Other reasons given suggest that the need which Tangerine might fill is already being addressed separately.\n",
    "  1. The CSO keeps a personal record (outside of the tablet) in which they track school visitation\n",
    "  1. The CSO has prepared a work schedule, and uses that as their guide until the month's activities have concluded."
   ]
  },
  {
   "cell_type": "markdown",
   "metadata": {},
   "source": [
    "### Frequency with which CSOs refer to the application\n",
    "\n",
    "\\[If the CSO refers to the Tangerine for planning purposes\\], _how often do you reference the data?_\n",
    "\n"
   ]
  },
  {
   "cell_type": "code",
   "execution_count": 176,
   "metadata": {
    "ExecuteTime": {
     "end_time": "2018-10-28T00:49:47.325447Z",
     "start_time": "2018-10-28T00:49:45.121000Z"
    },
    "scrolled": false
   },
   "outputs": [
    {
     "data": {
      "text/html": [
       "<div>\n",
       "<style scoped>\n",
       "    .dataframe tbody tr th:only-of-type {\n",
       "        vertical-align: middle;\n",
       "    }\n",
       "\n",
       "    .dataframe tbody tr th {\n",
       "        vertical-align: top;\n",
       "    }\n",
       "\n",
       "    .dataframe thead th {\n",
       "        text-align: right;\n",
       "    }\n",
       "</style>\n",
       "<table border=\"1\" class=\"dataframe\">\n",
       "  <thead>\n",
       "    <tr style=\"text-align: right;\">\n",
       "      <th></th>\n",
       "      <th>frequency</th>\n",
       "      <th>ct</th>\n",
       "      <th>sort_order</th>\n",
       "    </tr>\n",
       "  </thead>\n",
       "  <tbody>\n",
       "    <tr>\n",
       "      <th>0</th>\n",
       "      <td>Daily</td>\n",
       "      <td>23</td>\n",
       "      <td>0</td>\n",
       "    </tr>\n",
       "    <tr>\n",
       "      <th>1</th>\n",
       "      <td>Weekly</td>\n",
       "      <td>46</td>\n",
       "      <td>1</td>\n",
       "    </tr>\n",
       "    <tr>\n",
       "      <th>2</th>\n",
       "      <td>Monthly</td>\n",
       "      <td>19</td>\n",
       "      <td>2</td>\n",
       "    </tr>\n",
       "    <tr>\n",
       "      <th>3</th>\n",
       "      <td>Termly</td>\n",
       "      <td>4</td>\n",
       "      <td>3</td>\n",
       "    </tr>\n",
       "    <tr>\n",
       "      <th>4</th>\n",
       "      <td>88</td>\n",
       "      <td>1</td>\n",
       "      <td>4</td>\n",
       "    </tr>\n",
       "  </tbody>\n",
       "</table>\n",
       "</div>"
      ],
      "text/plain": [
       "  frequency  ct  sort_order\n",
       "0  Daily     23  0         \n",
       "1  Weekly    46  1         \n",
       "2  Monthly   19  2         \n",
       "3  Termly    4   3         \n",
       "4  88        1   4         "
      ]
     },
     "execution_count": 176,
     "metadata": {},
     "output_type": "execute_result"
    }
   ],
   "source": [
    "# Generating dataframe of how frequently CSOs refer to the Tangerine application\n",
    "tchk_freq = csos[csos.freq_refer_tang_plan.notna()].freq_refer_tang_plan.sort_values().value_counts(sort=False).to_frame(name=\"ct\")\n",
    "tchk_freq = tchk_freq.rename_axis(\"frequency\").reset_index()\n",
    "tchk_freq[\"frequency\"] = tchk_freq[\"frequency\"].replace({\n",
    "    1: \"Daily\", \n",
    "    2: \"Weekly\",\n",
    "    3: \"Monthly\",\n",
    "    4: \"Termly\"})\n",
    "tchk_freq[\"sort_order\"] = tchk_freq.index\n",
    "tchk_freq"
   ]
  },
  {
   "cell_type": "markdown",
   "metadata": {
    "ExecuteTime": {
     "end_time": "2018-10-18T12:19:06.102224Z",
     "start_time": "2018-10-18T12:19:06.091229Z"
    },
    "variables": {
     "tchk_freq.frequency.loc[tchk_freq.ct == tchk_freq.ct.max()].str.lower()[1]": "weekly"
    }
   },
   "source": [
    "It appears that among the CSOs who check the application, it is most common to check it at least {{tchk_freq.frequency.loc[tchk_freq.ct == tchk_freq.ct.max()].str.lower()[1]}}."
   ]
  },
  {
   "cell_type": "code",
   "execution_count": 177,
   "metadata": {
    "ExecuteTime": {
     "end_time": "2018-10-28T00:49:52.129561Z",
     "start_time": "2018-10-28T00:49:47.345453Z"
    },
    "scrolled": true
   },
   "outputs": [],
   "source": [
    "# Generating chart of Tangerine App checking behavior\n",
    "tappchk_ch = alt.Chart(tchk_freq, title=\"Tangerine app checking behavior\").mark_bar().encode(\n",
    "    alt.X(\"ct:Q\"),\n",
    "    alt.Y(\"frequency:O\", sort = alt.EncodingSortField(field=\"sort_order:Q\", op=\"values\", order=\"ascending\")),\n",
    "    color = \"frequency\")\n",
    "\n",
    "tappchk_ch.save(\"../img/tappchk_ct.svg\", scale_factor=2.0)"
   ]
  },
  {
   "cell_type": "markdown",
   "metadata": {
    "ExecuteTime": {
     "end_time": "2018-10-27T08:51:06.366295Z",
     "start_time": "2018-10-27T08:51:04.367Z"
    },
    "scrolled": true
   },
   "source": [
    "![Chart of CSOs' Tangerine app-checking behavior](../img/tappchk_ct.svg)"
   ]
  },
  {
   "cell_type": "markdown",
   "metadata": {},
   "source": [
    "### CSO reference to the Tangerine Dashboard\n",
    "\n",
    "_In the last term, how often did you look at the Tangerine Dashboard?_\n",
    "\n",
    "The data that is generated by the CSOs' lesson observations is uploaded to the cloud and reported on the [Tangerine Dashboard](http://tools.tusome.tangerinecentral.org/_csv/report/group-national_tablet_program/00b0a09a-2a9f-baca-2acb-c6264d4247cb,c835fc38-de99-d064-59d3-e772ccefcf7d/2018/1/ep8yqMKT.html#tutor). This Dashboard is reviewed by senior management within the Ministry of Education: the Principal Secretary, his Directors, and their deputies. It is also sent to the Directors of MOE and TSC at the County level. As these latter personnel oversee the CSOs, the Dashboard may have an effect ..."
   ]
  },
  {
   "cell_type": "code",
   "execution_count": 208,
   "metadata": {
    "ExecuteTime": {
     "end_time": "2018-10-28T09:43:02.057988Z",
     "start_time": "2018-10-28T09:43:02.024490Z"
    },
    "scrolled": true
   },
   "outputs": [
    {
     "data": {
      "text/html": [
       "<div>\n",
       "<style scoped>\n",
       "    .dataframe tbody tr th:only-of-type {\n",
       "        vertical-align: middle;\n",
       "    }\n",
       "\n",
       "    .dataframe tbody tr th {\n",
       "        vertical-align: top;\n",
       "    }\n",
       "\n",
       "    .dataframe thead th {\n",
       "        text-align: right;\n",
       "    }\n",
       "</style>\n",
       "<table border=\"1\" class=\"dataframe\">\n",
       "  <thead>\n",
       "    <tr style=\"text-align: right;\">\n",
       "      <th></th>\n",
       "      <th>refer_tang_nonobs</th>\n",
       "      <th>db_chk_prevterm_freq</th>\n",
       "    </tr>\n",
       "  </thead>\n",
       "  <tbody>\n",
       "    <tr>\n",
       "      <th>0</th>\n",
       "      <td>0.0</td>\n",
       "      <td>0.0</td>\n",
       "    </tr>\n",
       "    <tr>\n",
       "      <th>1</th>\n",
       "      <td>NaN</td>\n",
       "      <td>0.0</td>\n",
       "    </tr>\n",
       "    <tr>\n",
       "      <th>2</th>\n",
       "      <td>1.0</td>\n",
       "      <td>2.0</td>\n",
       "    </tr>\n",
       "    <tr>\n",
       "      <th>3</th>\n",
       "      <td>0.0</td>\n",
       "      <td>0.0</td>\n",
       "    </tr>\n",
       "    <tr>\n",
       "      <th>4</th>\n",
       "      <td>1.0</td>\n",
       "      <td>13.0</td>\n",
       "    </tr>\n",
       "    <tr>\n",
       "      <th>5</th>\n",
       "      <td>1.0</td>\n",
       "      <td>10.0</td>\n",
       "    </tr>\n",
       "    <tr>\n",
       "      <th>6</th>\n",
       "      <td>0.0</td>\n",
       "      <td>0.0</td>\n",
       "    </tr>\n",
       "    <tr>\n",
       "      <th>7</th>\n",
       "      <td>1.0</td>\n",
       "      <td>3.0</td>\n",
       "    </tr>\n",
       "    <tr>\n",
       "      <th>8</th>\n",
       "      <td>1.0</td>\n",
       "      <td>2.0</td>\n",
       "    </tr>\n",
       "    <tr>\n",
       "      <th>9</th>\n",
       "      <td>1.0</td>\n",
       "      <td>1.0</td>\n",
       "    </tr>\n",
       "    <tr>\n",
       "      <th>10</th>\n",
       "      <td>0.0</td>\n",
       "      <td>1.0</td>\n",
       "    </tr>\n",
       "    <tr>\n",
       "      <th>11</th>\n",
       "      <td>0.0</td>\n",
       "      <td>20.0</td>\n",
       "    </tr>\n",
       "    <tr>\n",
       "      <th>12</th>\n",
       "      <td>1.0</td>\n",
       "      <td>3.0</td>\n",
       "    </tr>\n",
       "    <tr>\n",
       "      <th>13</th>\n",
       "      <td>1.0</td>\n",
       "      <td>33.0</td>\n",
       "    </tr>\n",
       "    <tr>\n",
       "      <th>14</th>\n",
       "      <td>1.0</td>\n",
       "      <td>0.0</td>\n",
       "    </tr>\n",
       "    <tr>\n",
       "      <th>15</th>\n",
       "      <td>0.0</td>\n",
       "      <td>0.0</td>\n",
       "    </tr>\n",
       "    <tr>\n",
       "      <th>16</th>\n",
       "      <td>0.0</td>\n",
       "      <td>60.0</td>\n",
       "    </tr>\n",
       "    <tr>\n",
       "      <th>17</th>\n",
       "      <td>0.0</td>\n",
       "      <td>0.0</td>\n",
       "    </tr>\n",
       "    <tr>\n",
       "      <th>18</th>\n",
       "      <td>1.0</td>\n",
       "      <td>0.0</td>\n",
       "    </tr>\n",
       "    <tr>\n",
       "      <th>19</th>\n",
       "      <td>1.0</td>\n",
       "      <td>84.0</td>\n",
       "    </tr>\n",
       "    <tr>\n",
       "      <th>20</th>\n",
       "      <td>1.0</td>\n",
       "      <td>0.0</td>\n",
       "    </tr>\n",
       "    <tr>\n",
       "      <th>21</th>\n",
       "      <td>1.0</td>\n",
       "      <td>3.0</td>\n",
       "    </tr>\n",
       "    <tr>\n",
       "      <th>22</th>\n",
       "      <td>1.0</td>\n",
       "      <td>2.0</td>\n",
       "    </tr>\n",
       "    <tr>\n",
       "      <th>23</th>\n",
       "      <td>1.0</td>\n",
       "      <td>0.0</td>\n",
       "    </tr>\n",
       "    <tr>\n",
       "      <th>24</th>\n",
       "      <td>1.0</td>\n",
       "      <td>2.0</td>\n",
       "    </tr>\n",
       "    <tr>\n",
       "      <th>25</th>\n",
       "      <td>0.0</td>\n",
       "      <td>2.0</td>\n",
       "    </tr>\n",
       "    <tr>\n",
       "      <th>26</th>\n",
       "      <td>0.0</td>\n",
       "      <td>0.0</td>\n",
       "    </tr>\n",
       "    <tr>\n",
       "      <th>27</th>\n",
       "      <td>1.0</td>\n",
       "      <td>4.0</td>\n",
       "    </tr>\n",
       "    <tr>\n",
       "      <th>28</th>\n",
       "      <td>0.0</td>\n",
       "      <td>0.0</td>\n",
       "    </tr>\n",
       "    <tr>\n",
       "      <th>29</th>\n",
       "      <td>0.0</td>\n",
       "      <td>0.0</td>\n",
       "    </tr>\n",
       "    <tr>\n",
       "      <th>...</th>\n",
       "      <td>...</td>\n",
       "      <td>...</td>\n",
       "    </tr>\n",
       "    <tr>\n",
       "      <th>123</th>\n",
       "      <td>0.0</td>\n",
       "      <td>1.0</td>\n",
       "    </tr>\n",
       "    <tr>\n",
       "      <th>124</th>\n",
       "      <td>1.0</td>\n",
       "      <td>0.0</td>\n",
       "    </tr>\n",
       "    <tr>\n",
       "      <th>125</th>\n",
       "      <td>1.0</td>\n",
       "      <td>0.0</td>\n",
       "    </tr>\n",
       "    <tr>\n",
       "      <th>126</th>\n",
       "      <td>1.0</td>\n",
       "      <td>0.0</td>\n",
       "    </tr>\n",
       "    <tr>\n",
       "      <th>127</th>\n",
       "      <td>0.0</td>\n",
       "      <td>0.0</td>\n",
       "    </tr>\n",
       "    <tr>\n",
       "      <th>128</th>\n",
       "      <td>1.0</td>\n",
       "      <td>4.0</td>\n",
       "    </tr>\n",
       "    <tr>\n",
       "      <th>129</th>\n",
       "      <td>0.0</td>\n",
       "      <td>4.0</td>\n",
       "    </tr>\n",
       "    <tr>\n",
       "      <th>130</th>\n",
       "      <td>0.0</td>\n",
       "      <td>0.0</td>\n",
       "    </tr>\n",
       "    <tr>\n",
       "      <th>131</th>\n",
       "      <td>1.0</td>\n",
       "      <td>0.0</td>\n",
       "    </tr>\n",
       "    <tr>\n",
       "      <th>132</th>\n",
       "      <td>1.0</td>\n",
       "      <td>10.0</td>\n",
       "    </tr>\n",
       "    <tr>\n",
       "      <th>133</th>\n",
       "      <td>1.0</td>\n",
       "      <td>6.0</td>\n",
       "    </tr>\n",
       "    <tr>\n",
       "      <th>134</th>\n",
       "      <td>1.0</td>\n",
       "      <td>3.0</td>\n",
       "    </tr>\n",
       "    <tr>\n",
       "      <th>135</th>\n",
       "      <td>1.0</td>\n",
       "      <td>10.0</td>\n",
       "    </tr>\n",
       "    <tr>\n",
       "      <th>136</th>\n",
       "      <td>1.0</td>\n",
       "      <td>1.0</td>\n",
       "    </tr>\n",
       "    <tr>\n",
       "      <th>137</th>\n",
       "      <td>1.0</td>\n",
       "      <td>2.0</td>\n",
       "    </tr>\n",
       "    <tr>\n",
       "      <th>138</th>\n",
       "      <td>0.0</td>\n",
       "      <td>1.0</td>\n",
       "    </tr>\n",
       "    <tr>\n",
       "      <th>139</th>\n",
       "      <td>0.0</td>\n",
       "      <td>1.0</td>\n",
       "    </tr>\n",
       "    <tr>\n",
       "      <th>140</th>\n",
       "      <td>1.0</td>\n",
       "      <td>2.0</td>\n",
       "    </tr>\n",
       "    <tr>\n",
       "      <th>141</th>\n",
       "      <td>0.0</td>\n",
       "      <td>2.0</td>\n",
       "    </tr>\n",
       "    <tr>\n",
       "      <th>142</th>\n",
       "      <td>1.0</td>\n",
       "      <td>1.0</td>\n",
       "    </tr>\n",
       "    <tr>\n",
       "      <th>143</th>\n",
       "      <td>1.0</td>\n",
       "      <td>1.0</td>\n",
       "    </tr>\n",
       "    <tr>\n",
       "      <th>144</th>\n",
       "      <td>0.0</td>\n",
       "      <td>0.0</td>\n",
       "    </tr>\n",
       "    <tr>\n",
       "      <th>145</th>\n",
       "      <td>1.0</td>\n",
       "      <td>1.0</td>\n",
       "    </tr>\n",
       "    <tr>\n",
       "      <th>146</th>\n",
       "      <td>0.0</td>\n",
       "      <td>0.0</td>\n",
       "    </tr>\n",
       "    <tr>\n",
       "      <th>147</th>\n",
       "      <td>1.0</td>\n",
       "      <td>0.0</td>\n",
       "    </tr>\n",
       "    <tr>\n",
       "      <th>148</th>\n",
       "      <td>0.0</td>\n",
       "      <td>0.0</td>\n",
       "    </tr>\n",
       "    <tr>\n",
       "      <th>149</th>\n",
       "      <td>0.0</td>\n",
       "      <td>1.0</td>\n",
       "    </tr>\n",
       "    <tr>\n",
       "      <th>150</th>\n",
       "      <td>0.0</td>\n",
       "      <td>2.0</td>\n",
       "    </tr>\n",
       "    <tr>\n",
       "      <th>151</th>\n",
       "      <td>1.0</td>\n",
       "      <td>0.0</td>\n",
       "    </tr>\n",
       "    <tr>\n",
       "      <th>152</th>\n",
       "      <td>0.0</td>\n",
       "      <td>1.0</td>\n",
       "    </tr>\n",
       "  </tbody>\n",
       "</table>\n",
       "<p>153 rows × 2 columns</p>\n",
       "</div>"
      ],
      "text/plain": [
       "     refer_tang_nonobs  db_chk_prevterm_freq\n",
       "0    0.0                0.0                 \n",
       "1   NaN                 0.0                 \n",
       "2    1.0                2.0                 \n",
       "3    0.0                0.0                 \n",
       "4    1.0                13.0                \n",
       "5    1.0                10.0                \n",
       "6    0.0                0.0                 \n",
       "7    1.0                3.0                 \n",
       "8    1.0                2.0                 \n",
       "9    1.0                1.0                 \n",
       "10   0.0                1.0                 \n",
       "11   0.0                20.0                \n",
       "12   1.0                3.0                 \n",
       "13   1.0                33.0                \n",
       "14   1.0                0.0                 \n",
       "15   0.0                0.0                 \n",
       "16   0.0                60.0                \n",
       "17   0.0                0.0                 \n",
       "18   1.0                0.0                 \n",
       "19   1.0                84.0                \n",
       "20   1.0                0.0                 \n",
       "21   1.0                3.0                 \n",
       "22   1.0                2.0                 \n",
       "23   1.0                0.0                 \n",
       "24   1.0                2.0                 \n",
       "25   0.0                2.0                 \n",
       "26   0.0                0.0                 \n",
       "27   1.0                4.0                 \n",
       "28   0.0                0.0                 \n",
       "29   0.0                0.0                 \n",
       "..   ...                ...                 \n",
       "123  0.0                1.0                 \n",
       "124  1.0                0.0                 \n",
       "125  1.0                0.0                 \n",
       "126  1.0                0.0                 \n",
       "127  0.0                0.0                 \n",
       "128  1.0                4.0                 \n",
       "129  0.0                4.0                 \n",
       "130  0.0                0.0                 \n",
       "131  1.0                0.0                 \n",
       "132  1.0                10.0                \n",
       "133  1.0                6.0                 \n",
       "134  1.0                3.0                 \n",
       "135  1.0                10.0                \n",
       "136  1.0                1.0                 \n",
       "137  1.0                2.0                 \n",
       "138  0.0                1.0                 \n",
       "139  0.0                1.0                 \n",
       "140  1.0                2.0                 \n",
       "141  0.0                2.0                 \n",
       "142  1.0                1.0                 \n",
       "143  1.0                1.0                 \n",
       "144  0.0                0.0                 \n",
       "145  1.0                1.0                 \n",
       "146  0.0                0.0                 \n",
       "147  1.0                0.0                 \n",
       "148  0.0                0.0                 \n",
       "149  0.0                1.0                 \n",
       "150  0.0                2.0                 \n",
       "151  1.0                0.0                 \n",
       "152  0.0                1.0                 \n",
       "\n",
       "[153 rows x 2 columns]"
      ]
     },
     "execution_count": 208,
     "metadata": {},
     "output_type": "execute_result"
    }
   ],
   "source": [
    "# Generating a dataframe of CSOs' Tangerine Dashboard viewing patterns\n",
    "cso_db_chk = pd.DataFrame(csos[[\"refer_tang_nonobs\", \"db_chk_prevterm_freq\"]])\n",
    "# dbchkprevterm_df = pd.DataFrame(csos.refer_tang_nonobs.groupby(csos.db_chk_prevterm_freq).count())\n",
    "# dbchkprevterm_df\n",
    "cso_db_chk"
   ]
  },
  {
   "cell_type": "code",
   "execution_count": 209,
   "metadata": {
    "ExecuteTime": {
     "end_time": "2018-10-28T09:44:07.587835Z",
     "start_time": "2018-10-28T09:44:07.558821Z"
    },
    "scrolled": true
   },
   "outputs": [
    {
     "data": {
      "text/html": [
       "<div>\n",
       "<style scoped>\n",
       "    .dataframe tbody tr th:only-of-type {\n",
       "        vertical-align: middle;\n",
       "    }\n",
       "\n",
       "    .dataframe tbody tr th {\n",
       "        vertical-align: top;\n",
       "    }\n",
       "\n",
       "    .dataframe thead th {\n",
       "        text-align: right;\n",
       "    }\n",
       "</style>\n",
       "<table border=\"1\" class=\"dataframe\">\n",
       "  <thead>\n",
       "    <tr style=\"text-align: right;\">\n",
       "      <th></th>\n",
       "      <th>tapp_planning</th>\n",
       "      <th>db_check_ct</th>\n",
       "    </tr>\n",
       "  </thead>\n",
       "  <tbody>\n",
       "    <tr>\n",
       "      <th>0</th>\n",
       "      <td>0.0</td>\n",
       "      <td>0.0</td>\n",
       "    </tr>\n",
       "    <tr>\n",
       "      <th>1</th>\n",
       "      <td>NaN</td>\n",
       "      <td>0.0</td>\n",
       "    </tr>\n",
       "    <tr>\n",
       "      <th>2</th>\n",
       "      <td>1.0</td>\n",
       "      <td>2.0</td>\n",
       "    </tr>\n",
       "    <tr>\n",
       "      <th>3</th>\n",
       "      <td>0.0</td>\n",
       "      <td>0.0</td>\n",
       "    </tr>\n",
       "    <tr>\n",
       "      <th>4</th>\n",
       "      <td>1.0</td>\n",
       "      <td>13.0</td>\n",
       "    </tr>\n",
       "    <tr>\n",
       "      <th>5</th>\n",
       "      <td>1.0</td>\n",
       "      <td>10.0</td>\n",
       "    </tr>\n",
       "    <tr>\n",
       "      <th>6</th>\n",
       "      <td>0.0</td>\n",
       "      <td>0.0</td>\n",
       "    </tr>\n",
       "    <tr>\n",
       "      <th>7</th>\n",
       "      <td>1.0</td>\n",
       "      <td>3.0</td>\n",
       "    </tr>\n",
       "    <tr>\n",
       "      <th>8</th>\n",
       "      <td>1.0</td>\n",
       "      <td>2.0</td>\n",
       "    </tr>\n",
       "    <tr>\n",
       "      <th>9</th>\n",
       "      <td>1.0</td>\n",
       "      <td>1.0</td>\n",
       "    </tr>\n",
       "    <tr>\n",
       "      <th>10</th>\n",
       "      <td>0.0</td>\n",
       "      <td>1.0</td>\n",
       "    </tr>\n",
       "    <tr>\n",
       "      <th>11</th>\n",
       "      <td>0.0</td>\n",
       "      <td>20.0</td>\n",
       "    </tr>\n",
       "    <tr>\n",
       "      <th>12</th>\n",
       "      <td>1.0</td>\n",
       "      <td>3.0</td>\n",
       "    </tr>\n",
       "    <tr>\n",
       "      <th>13</th>\n",
       "      <td>1.0</td>\n",
       "      <td>33.0</td>\n",
       "    </tr>\n",
       "    <tr>\n",
       "      <th>14</th>\n",
       "      <td>1.0</td>\n",
       "      <td>0.0</td>\n",
       "    </tr>\n",
       "    <tr>\n",
       "      <th>15</th>\n",
       "      <td>0.0</td>\n",
       "      <td>0.0</td>\n",
       "    </tr>\n",
       "    <tr>\n",
       "      <th>16</th>\n",
       "      <td>0.0</td>\n",
       "      <td>60.0</td>\n",
       "    </tr>\n",
       "    <tr>\n",
       "      <th>17</th>\n",
       "      <td>0.0</td>\n",
       "      <td>0.0</td>\n",
       "    </tr>\n",
       "    <tr>\n",
       "      <th>18</th>\n",
       "      <td>1.0</td>\n",
       "      <td>0.0</td>\n",
       "    </tr>\n",
       "    <tr>\n",
       "      <th>19</th>\n",
       "      <td>1.0</td>\n",
       "      <td>84.0</td>\n",
       "    </tr>\n",
       "    <tr>\n",
       "      <th>20</th>\n",
       "      <td>1.0</td>\n",
       "      <td>0.0</td>\n",
       "    </tr>\n",
       "    <tr>\n",
       "      <th>21</th>\n",
       "      <td>1.0</td>\n",
       "      <td>3.0</td>\n",
       "    </tr>\n",
       "    <tr>\n",
       "      <th>22</th>\n",
       "      <td>1.0</td>\n",
       "      <td>2.0</td>\n",
       "    </tr>\n",
       "    <tr>\n",
       "      <th>23</th>\n",
       "      <td>1.0</td>\n",
       "      <td>0.0</td>\n",
       "    </tr>\n",
       "    <tr>\n",
       "      <th>24</th>\n",
       "      <td>1.0</td>\n",
       "      <td>2.0</td>\n",
       "    </tr>\n",
       "    <tr>\n",
       "      <th>25</th>\n",
       "      <td>0.0</td>\n",
       "      <td>2.0</td>\n",
       "    </tr>\n",
       "    <tr>\n",
       "      <th>26</th>\n",
       "      <td>0.0</td>\n",
       "      <td>0.0</td>\n",
       "    </tr>\n",
       "    <tr>\n",
       "      <th>27</th>\n",
       "      <td>1.0</td>\n",
       "      <td>4.0</td>\n",
       "    </tr>\n",
       "    <tr>\n",
       "      <th>28</th>\n",
       "      <td>0.0</td>\n",
       "      <td>0.0</td>\n",
       "    </tr>\n",
       "    <tr>\n",
       "      <th>29</th>\n",
       "      <td>0.0</td>\n",
       "      <td>0.0</td>\n",
       "    </tr>\n",
       "    <tr>\n",
       "      <th>...</th>\n",
       "      <td>...</td>\n",
       "      <td>...</td>\n",
       "    </tr>\n",
       "    <tr>\n",
       "      <th>123</th>\n",
       "      <td>0.0</td>\n",
       "      <td>1.0</td>\n",
       "    </tr>\n",
       "    <tr>\n",
       "      <th>124</th>\n",
       "      <td>1.0</td>\n",
       "      <td>0.0</td>\n",
       "    </tr>\n",
       "    <tr>\n",
       "      <th>125</th>\n",
       "      <td>1.0</td>\n",
       "      <td>0.0</td>\n",
       "    </tr>\n",
       "    <tr>\n",
       "      <th>126</th>\n",
       "      <td>1.0</td>\n",
       "      <td>0.0</td>\n",
       "    </tr>\n",
       "    <tr>\n",
       "      <th>127</th>\n",
       "      <td>0.0</td>\n",
       "      <td>0.0</td>\n",
       "    </tr>\n",
       "    <tr>\n",
       "      <th>128</th>\n",
       "      <td>1.0</td>\n",
       "      <td>4.0</td>\n",
       "    </tr>\n",
       "    <tr>\n",
       "      <th>129</th>\n",
       "      <td>0.0</td>\n",
       "      <td>4.0</td>\n",
       "    </tr>\n",
       "    <tr>\n",
       "      <th>130</th>\n",
       "      <td>0.0</td>\n",
       "      <td>0.0</td>\n",
       "    </tr>\n",
       "    <tr>\n",
       "      <th>131</th>\n",
       "      <td>1.0</td>\n",
       "      <td>0.0</td>\n",
       "    </tr>\n",
       "    <tr>\n",
       "      <th>132</th>\n",
       "      <td>1.0</td>\n",
       "      <td>10.0</td>\n",
       "    </tr>\n",
       "    <tr>\n",
       "      <th>133</th>\n",
       "      <td>1.0</td>\n",
       "      <td>6.0</td>\n",
       "    </tr>\n",
       "    <tr>\n",
       "      <th>134</th>\n",
       "      <td>1.0</td>\n",
       "      <td>3.0</td>\n",
       "    </tr>\n",
       "    <tr>\n",
       "      <th>135</th>\n",
       "      <td>1.0</td>\n",
       "      <td>10.0</td>\n",
       "    </tr>\n",
       "    <tr>\n",
       "      <th>136</th>\n",
       "      <td>1.0</td>\n",
       "      <td>1.0</td>\n",
       "    </tr>\n",
       "    <tr>\n",
       "      <th>137</th>\n",
       "      <td>1.0</td>\n",
       "      <td>2.0</td>\n",
       "    </tr>\n",
       "    <tr>\n",
       "      <th>138</th>\n",
       "      <td>0.0</td>\n",
       "      <td>1.0</td>\n",
       "    </tr>\n",
       "    <tr>\n",
       "      <th>139</th>\n",
       "      <td>0.0</td>\n",
       "      <td>1.0</td>\n",
       "    </tr>\n",
       "    <tr>\n",
       "      <th>140</th>\n",
       "      <td>1.0</td>\n",
       "      <td>2.0</td>\n",
       "    </tr>\n",
       "    <tr>\n",
       "      <th>141</th>\n",
       "      <td>0.0</td>\n",
       "      <td>2.0</td>\n",
       "    </tr>\n",
       "    <tr>\n",
       "      <th>142</th>\n",
       "      <td>1.0</td>\n",
       "      <td>1.0</td>\n",
       "    </tr>\n",
       "    <tr>\n",
       "      <th>143</th>\n",
       "      <td>1.0</td>\n",
       "      <td>1.0</td>\n",
       "    </tr>\n",
       "    <tr>\n",
       "      <th>144</th>\n",
       "      <td>0.0</td>\n",
       "      <td>0.0</td>\n",
       "    </tr>\n",
       "    <tr>\n",
       "      <th>145</th>\n",
       "      <td>1.0</td>\n",
       "      <td>1.0</td>\n",
       "    </tr>\n",
       "    <tr>\n",
       "      <th>146</th>\n",
       "      <td>0.0</td>\n",
       "      <td>0.0</td>\n",
       "    </tr>\n",
       "    <tr>\n",
       "      <th>147</th>\n",
       "      <td>1.0</td>\n",
       "      <td>0.0</td>\n",
       "    </tr>\n",
       "    <tr>\n",
       "      <th>148</th>\n",
       "      <td>0.0</td>\n",
       "      <td>0.0</td>\n",
       "    </tr>\n",
       "    <tr>\n",
       "      <th>149</th>\n",
       "      <td>0.0</td>\n",
       "      <td>1.0</td>\n",
       "    </tr>\n",
       "    <tr>\n",
       "      <th>150</th>\n",
       "      <td>0.0</td>\n",
       "      <td>2.0</td>\n",
       "    </tr>\n",
       "    <tr>\n",
       "      <th>151</th>\n",
       "      <td>1.0</td>\n",
       "      <td>0.0</td>\n",
       "    </tr>\n",
       "    <tr>\n",
       "      <th>152</th>\n",
       "      <td>0.0</td>\n",
       "      <td>1.0</td>\n",
       "    </tr>\n",
       "  </tbody>\n",
       "</table>\n",
       "<p>153 rows × 2 columns</p>\n",
       "</div>"
      ],
      "text/plain": [
       "     tapp_planning  db_check_ct\n",
       "0    0.0            0.0        \n",
       "1   NaN             0.0        \n",
       "2    1.0            2.0        \n",
       "3    0.0            0.0        \n",
       "4    1.0            13.0       \n",
       "5    1.0            10.0       \n",
       "6    0.0            0.0        \n",
       "7    1.0            3.0        \n",
       "8    1.0            2.0        \n",
       "9    1.0            1.0        \n",
       "10   0.0            1.0        \n",
       "11   0.0            20.0       \n",
       "12   1.0            3.0        \n",
       "13   1.0            33.0       \n",
       "14   1.0            0.0        \n",
       "15   0.0            0.0        \n",
       "16   0.0            60.0       \n",
       "17   0.0            0.0        \n",
       "18   1.0            0.0        \n",
       "19   1.0            84.0       \n",
       "20   1.0            0.0        \n",
       "21   1.0            3.0        \n",
       "22   1.0            2.0        \n",
       "23   1.0            0.0        \n",
       "24   1.0            2.0        \n",
       "25   0.0            2.0        \n",
       "26   0.0            0.0        \n",
       "27   1.0            4.0        \n",
       "28   0.0            0.0        \n",
       "29   0.0            0.0        \n",
       "..   ...            ...        \n",
       "123  0.0            1.0        \n",
       "124  1.0            0.0        \n",
       "125  1.0            0.0        \n",
       "126  1.0            0.0        \n",
       "127  0.0            0.0        \n",
       "128  1.0            4.0        \n",
       "129  0.0            4.0        \n",
       "130  0.0            0.0        \n",
       "131  1.0            0.0        \n",
       "132  1.0            10.0       \n",
       "133  1.0            6.0        \n",
       "134  1.0            3.0        \n",
       "135  1.0            10.0       \n",
       "136  1.0            1.0        \n",
       "137  1.0            2.0        \n",
       "138  0.0            1.0        \n",
       "139  0.0            1.0        \n",
       "140  1.0            2.0        \n",
       "141  0.0            2.0        \n",
       "142  1.0            1.0        \n",
       "143  1.0            1.0        \n",
       "144  0.0            0.0        \n",
       "145  1.0            1.0        \n",
       "146  0.0            0.0        \n",
       "147  1.0            0.0        \n",
       "148  0.0            0.0        \n",
       "149  0.0            1.0        \n",
       "150  0.0            2.0        \n",
       "151  1.0            0.0        \n",
       "152  0.0            1.0        \n",
       "\n",
       "[153 rows x 2 columns]"
      ]
     },
     "execution_count": 209,
     "metadata": {},
     "output_type": "execute_result"
    }
   ],
   "source": [
    "cso_db_chk.rename(columns={\"refer_tang_nonobs\":\"tapp_planning\", \"db_chk_prevterm_freq\": \"db_check_ct\"}, inplace=True)\n",
    "cso_db_chk"
   ]
  },
  {
   "cell_type": "code",
   "execution_count": 195,
   "metadata": {
    "ExecuteTime": {
     "end_time": "2018-10-28T00:52:35.460835Z",
     "start_time": "2018-10-28T00:52:35.452837Z"
    }
   },
   "outputs": [
    {
     "name": "stdout",
     "output_type": "stream",
     "text": [
      "There are 91.0 CSOs who check tangerine...\n",
      "There are 153 records overall...\n"
     ]
    }
   ],
   "source": [
    "print(f\"There are {csos.refer_tang_nonobs.sum()} CSOs who check tangerine...\")\n",
    "print(f\"There are {csos.shape[0]} records overall...\")"
   ]
  },
  {
   "cell_type": "code",
   "execution_count": 179,
   "metadata": {
    "ExecuteTime": {
     "end_time": "2018-10-28T00:49:54.684121Z",
     "start_time": "2018-10-28T00:49:52.145559Z"
    }
   },
   "outputs": [
    {
     "data": {
      "text/plain": [
       "<matplotlib.axes._subplots.AxesSubplot at 0x1ab60d05f28>"
      ]
     },
     "execution_count": 179,
     "metadata": {},
     "output_type": "execute_result"
    },
    {
     "data": {
      "image/png": "[encoded data removed]",
      "text/plain": [
       "<Figure size 432x288 with 1 Axes>"
      ]
     },
     "metadata": {},
     "output_type": "display_data"
    }
   ],
   "source": [
    "csodbchk_ch = alt.Chart()"
   ]
  },
  {
   "cell_type": "markdown",
   "metadata": {},
   "source": [
    "## Directors"
   ]
  },
  {
   "cell_type": "markdown",
   "metadata": {},
   "source": [
    "### Roles and designations of respondents"
   ]
  },
  {
   "cell_type": "code",
   "execution_count": 180,
   "metadata": {
    "ExecuteTime": {
     "end_time": "2018-10-28T00:49:54.696124Z",
     "start_time": "2018-10-28T00:49:54.688122Z"
    },
    "scrolled": true
   },
   "outputs": [],
   "source": [
    "# Tabulating `designation`"
   ]
  },
  {
   "cell_type": "markdown",
   "metadata": {},
   "source": [
    "### Duration of experience with the Tangerine Dashboard"
   ]
  },
  {
   "cell_type": "code",
   "execution_count": 181,
   "metadata": {
    "ExecuteTime": {
     "end_time": "2018-10-28T00:49:54.708120Z",
     "start_time": "2018-10-28T00:49:54.700123Z"
    },
    "scrolled": true
   },
   "outputs": [],
   "source": [
    "# Convert `intro_db_yr`, `intro_db_month` into months as we did with CSOs"
   ]
  },
  {
   "cell_type": "code",
   "execution_count": 182,
   "metadata": {
    "ExecuteTime": {
     "end_time": "2018-10-28T00:49:54.723637Z",
     "start_time": "2018-10-28T00:49:54.712122Z"
    },
    "scrolled": true
   },
   "outputs": [],
   "source": [
    "# Generate a histogram from the duration of time they've known about the Dashboard; facet by `designation`"
   ]
  },
  {
   "cell_type": "markdown",
   "metadata": {},
   "source": [
    "### Respondents' decision-making supports pre-Tangerine Dashboard"
   ]
  },
  {
   "cell_type": "code",
   "execution_count": 183,
   "metadata": {
    "ExecuteTime": {
     "end_time": "2018-10-28T00:49:54.740159Z",
     "start_time": "2018-10-28T00:49:54.728136Z"
    },
    "scrolled": true
   },
   "outputs": [],
   "source": [
    "# Print a sample of `src_pre_db_decaid`"
   ]
  },
  {
   "cell_type": "code",
   "execution_count": 184,
   "metadata": {
    "ExecuteTime": {
     "end_time": "2018-10-28T00:49:54.748151Z",
     "start_time": "2018-10-28T00:49:54.744152Z"
    },
    "scrolled": true
   },
   "outputs": [],
   "source": [
    "# Tabulate the responses to `diff_mgmt_nodata_yn` and sample the responses to `diff_mgmt_nodata_det`."
   ]
  },
  {
   "cell_type": "markdown",
   "metadata": {},
   "source": [
    "### Respondents' receipt of the Tangerine Dashboard link"
   ]
  },
  {
   "cell_type": "code",
   "execution_count": 185,
   "metadata": {
    "ExecuteTime": {
     "end_time": "2018-10-28T00:49:54.768151Z",
     "start_time": "2018-10-28T00:49:54.752156Z"
    },
    "scrolled": true
   },
   "outputs": [],
   "source": [
    "# Report % of respondents who receive the dashboard link (`get_lnk_yn`)"
   ]
  },
  {
   "cell_type": "code",
   "execution_count": 186,
   "metadata": {
    "ExecuteTime": {
     "end_time": "2018-10-28T00:49:54.800166Z",
     "start_time": "2018-10-28T00:49:54.772152Z"
    },
    "scrolled": true
   },
   "outputs": [],
   "source": [
    "# Summarize the frequency with which it is received (`get_link_freq`)"
   ]
  },
  {
   "cell_type": "code",
   "execution_count": 187,
   "metadata": {
    "ExecuteTime": {
     "end_time": "2018-10-28T00:49:54.815672Z",
     "start_time": "2018-10-28T00:49:54.804155Z"
    },
    "scrolled": true
   },
   "outputs": [],
   "source": [
    "# Summarize the modality (`get_link_modality`)"
   ]
  },
  {
   "cell_type": "code",
   "execution_count": 188,
   "metadata": {
    "ExecuteTime": {
     "end_time": "2018-10-28T00:49:54.832194Z",
     "start_time": "2018-10-28T00:49:54.820172Z"
    },
    "scrolled": true
   },
   "outputs": [],
   "source": [
    "# Consider faceting the above by `designation`"
   ]
  },
  {
   "cell_type": "code",
   "execution_count": 189,
   "metadata": {
    "ExecuteTime": {
     "end_time": "2018-10-28T00:49:54.848193Z",
     "start_time": "2018-10-28T00:49:54.836191Z"
    },
    "scrolled": true
   },
   "outputs": [
    {
     "ename": "SyntaxError",
     "evalue": "invalid syntax (<ipython-input-189-331095cc34ee>, line 3)",
     "output_type": "error",
     "traceback": [
      "\u001b[1;36m  File \u001b[1;32m\"<ipython-input-189-331095cc34ee>\"\u001b[1;36m, line \u001b[1;32m3\u001b[0m\n\u001b[1;33m    ```\u001b[0m\n\u001b[1;37m    ^\u001b[0m\n\u001b[1;31mSyntaxError\u001b[0m\u001b[1;31m:\u001b[0m invalid syntax\n"
     ]
    }
   ],
   "source": [
    "# Generate a stacked bar chart of the prompted dashboard receipt device frequencies:\n",
    "\n",
    "```\n",
    "db_prmp_dev_phone\n",
    "db_prmp_dev_laptop\n",
    "db_prmp_dev_desktop\n",
    "db_prmp_dev_colleague\n",
    "db_prmp_dev_other\n",
    "```"
   ]
  },
  {
   "cell_type": "code",
   "execution_count": null,
   "metadata": {
    "ExecuteTime": {
     "end_time": "2018-10-28T00:49:54.848193Z",
     "start_time": "2018-10-28T00:49:16.035Z"
    },
    "scrolled": true
   },
   "outputs": [],
   "source": [
    "# Sample responses to `db_prmp_dev_other_det`."
   ]
  },
  {
   "cell_type": "code",
   "execution_count": null,
   "metadata": {
    "ExecuteTime": {
     "end_time": "2018-10-28T00:49:54.852193Z",
     "start_time": "2018-10-28T00:49:16.051Z"
    },
    "scrolled": true
   },
   "outputs": [],
   "source": [
    "# Consider faceting all of the above by `designation`."
   ]
  },
  {
   "cell_type": "code",
   "execution_count": null,
   "metadata": {
    "ExecuteTime": {
     "end_time": "2018-10-28T00:49:54.852193Z",
     "start_time": "2018-10-28T00:49:16.061Z"
    },
    "scrolled": true
   },
   "outputs": [],
   "source": [
    "# Report the frequency of `db_lnk_frm_other_yn` by designation, sample the `db_lnk_frm_other_det`."
   ]
  },
  {
   "cell_type": "markdown",
   "metadata": {},
   "source": [
    "### Respondents' consumption of the Tangerine Dashboard"
   ]
  },
  {
   "cell_type": "code",
   "execution_count": null,
   "metadata": {
    "ExecuteTime": {
     "end_time": "2018-10-28T00:49:54.856193Z",
     "start_time": "2018-10-28T00:49:16.271Z"
    },
    "scrolled": true
   },
   "outputs": [],
   "source": [
    "# Tabulate the frequency of `db_dev_access_na` for those who do not access the dashboard at all."
   ]
  },
  {
   "cell_type": "code",
   "execution_count": null,
   "metadata": {
    "ExecuteTime": {
     "end_time": "2018-10-28T00:49:54.860196Z",
     "start_time": "2018-10-28T00:49:16.280Z"
    },
    "scrolled": true
   },
   "outputs": [],
   "source": [
    "# Generate a stacked bar chart from the dashboard link-checking frequencies:\n",
    "\n",
    "```\n",
    "db_lnk_chk_sday\n",
    "db_lnk_chk_sweek\n",
    "db_lnk_chk_smonth\n",
    "db_lnk_chk_other\n",
    "```"
   ]
  },
  {
   "cell_type": "code",
   "execution_count": null,
   "metadata": {
    "ExecuteTime": {
     "end_time": "2018-10-28T00:49:54.860196Z",
     "start_time": "2018-10-28T00:49:16.286Z"
    },
    "scrolled": true
   },
   "outputs": [],
   "source": [
    "# Sample the responses to `db_lnk_chk_dont_why`."
   ]
  },
  {
   "cell_type": "code",
   "execution_count": null,
   "metadata": {
    "ExecuteTime": {
     "end_time": "2018-10-28T00:49:54.864194Z",
     "start_time": "2018-10-28T00:49:16.296Z"
    },
    "scrolled": true
   },
   "outputs": [],
   "source": [
    "# Tabulate the responses to `db_sect_consulted`"
   ]
  },
  {
   "cell_type": "code",
   "execution_count": null,
   "metadata": {
    "ExecuteTime": {
     "end_time": "2018-10-28T00:49:54.864194Z",
     "start_time": "2018-10-28T00:49:16.304Z"
    },
    "scrolled": true
   },
   "outputs": [],
   "source": [
    "# Tabulate the responses to `db_chk_freq`."
   ]
  },
  {
   "cell_type": "code",
   "execution_count": null,
   "metadata": {
    "ExecuteTime": {
     "end_time": "2018-10-28T00:49:54.868190Z",
     "start_time": "2018-10-28T00:49:16.312Z"
    },
    "scrolled": true
   },
   "outputs": [],
   "source": [
    "# Sample responses to `mgmt_dec_from_db`."
   ]
  },
  {
   "cell_type": "markdown",
   "metadata": {},
   "source": [
    "### Respondents' expressed demand for the Tangerine Dashboard"
   ]
  },
  {
   "cell_type": "code",
   "execution_count": null,
   "metadata": {
    "ExecuteTime": {
     "end_time": "2018-10-28T00:49:54.868190Z",
     "start_time": "2018-10-28T00:49:16.469Z"
    },
    "scrolled": true
   },
   "outputs": [],
   "source": [
    "# Tabulate `no_lnk_wnt_yn` and with it the `no_lnk_wnt_freq`."
   ]
  },
  {
   "cell_type": "code",
   "execution_count": null,
   "metadata": {
    "ExecuteTime": {
     "end_time": "2018-10-28T00:49:54.872195Z",
     "start_time": "2018-10-28T00:49:16.514Z"
    },
    "scrolled": true
   },
   "outputs": [],
   "source": [
    "# Tabulate the responses to `db_info_wnt_yn` and sample the responses to `db_info_wnt_det`."
   ]
  },
  {
   "cell_type": "markdown",
   "metadata": {},
   "source": [
    "### Respondents' preferences for Tangerine Dashboard receipt"
   ]
  },
  {
   "cell_type": "code",
   "execution_count": null,
   "metadata": {
    "ExecuteTime": {
     "end_time": "2018-10-28T00:49:54.876192Z",
     "start_time": "2018-10-28T00:49:18.056Z"
    },
    "scrolled": true
   },
   "outputs": [],
   "source": [
    "# Generate a faceted stacked bar chart of the delivery mechanism responses:\n",
    "\n",
    "```\n",
    "del_mech_prp_sms\n",
    "del_mech_prp_wa\n",
    "del_mech_prp_email\n",
    "del_mech_prp_app\n",
    "del_mech_prp_other\n",
    "```"
   ]
  },
  {
   "cell_type": "code",
   "execution_count": null,
   "metadata": {
    "ExecuteTime": {
     "end_time": "2018-10-28T00:49:54.876192Z",
     "start_time": "2018-10-28T00:49:18.067Z"
    },
    "scrolled": true
   },
   "outputs": [],
   "source": [
    "# Sample the responses to `del_mech_prp_det` and `del_mech_unprompted`."
   ]
  },
  {
   "cell_type": "markdown",
   "metadata": {},
   "source": [
    "### Respondents' preferences for Tangerine Dashboard "
   ]
  },
  {
   "cell_type": "code",
   "execution_count": null,
   "metadata": {
    "ExecuteTime": {
     "end_time": "2018-10-28T00:49:54.880191Z",
     "start_time": "2018-10-28T00:49:18.377Z"
    },
    "scrolled": true
   },
   "outputs": [],
   "source": [
    "# Sample the responses to `db_rev_feat_det`."
   ]
  }
 ],
 "metadata": {
  "jupytext_formats": "py:percent",
  "kernelspec": {
   "display_name": "Python 3",
   "language": "python",
   "name": "python3"
  },
  "language_info": {
   "codemirror_mode": {
    "name": "ipython",
    "version": 3
   },
   "file_extension": ".py",
   "mimetype": "text/x-python",
   "name": "python",
   "nbconvert_exporter": "python",
   "pygments_lexer": "ipython3",
   "version": "3.6.6"
  },
  "toc": {
   "nav_menu": {},
   "number_sections": true,
   "sideBar": true,
   "skip_h1_title": false,
   "title_cell": "Table of Contents",
   "title_sidebar": "Contents",
   "toc_cell": false,
   "toc_position": {},
   "toc_section_display": true,
   "toc_window_display": false
  },
  "varInspector": {
   "cols": {
    "lenName": 16,
    "lenType": 16,
    "lenVar": 40
   },
   "kernels_config": {
    "python": {
     "delete_cmd_postfix": "",
     "delete_cmd_prefix": "del ",
     "library": "var_list.py",
     "varRefreshCmd": "print(var_dic_list())"
    },
    "r": {
     "delete_cmd_postfix": ") ",
     "delete_cmd_prefix": "rm(",
     "library": "var_list.r",
     "varRefreshCmd": "cat(var_dic_list()) "
    }
   },
   "oldHeight": 122,
   "position": {
    "height": "144px",
    "left": "1650px",
    "right": "20px",
    "top": "120px",
    "width": "250px"
   },
   "types_to_exclude": [
    "module",
    "function",
    "builtin_function_or_method",
    "instance",
    "_Feature"
   ],
   "varInspector_section_display": "block",
   "window_display": true
  }
 },
 "nbformat": 4,
 "nbformat_minor": 2
}
