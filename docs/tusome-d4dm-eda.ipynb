{
 "cells": [
  {
   "cell_type": "code",
   "execution_count": 1,
   "metadata": {
    "ExecuteTime": {
     "end_time": "2018-10-26T17:47:29.446327Z",
     "start_time": "2018-10-26T17:47:27.403908Z"
    },
    "scrolled": true
   },
   "outputs": [],
   "source": [
    "import pandas as pd\n",
    "import numpy as np\n",
    "import altair as alt\n",
    "from altair import datum, expr\n",
    "import matplotlib.pyplot as plt\n",
    "import datetime as dt\n",
    "alt.renderers.enable('notebook')\n",
    "pd.set_option('display.max_colwidth', -1)"
   ]
  },
  {
   "cell_type": "code",
   "execution_count": 2,
   "metadata": {
    "ExecuteTime": {
     "end_time": "2018-10-26T17:47:29.978238Z",
     "start_time": "2018-10-26T17:47:29.450328Z"
    },
    "scrolled": true
   },
   "outputs": [],
   "source": [
    "tchrs = pd.read_stata(\"../src/teacher_data.dta\", convert_categoricals=False)\n",
    "csos = pd.read_stata(\"../src/cso_data.dta\", convert_categoricals=False)\n",
    "dirs = pd.read_stata(\"../src/director_data.dta\", convert_categoricals=False)"
   ]
  },
  {
   "cell_type": "code",
   "execution_count": 3,
   "metadata": {
    "ExecuteTime": {
     "end_time": "2018-10-26T17:47:29.993243Z",
     "start_time": "2018-10-26T17:47:29.982242Z"
    },
    "scrolled": true
   },
   "outputs": [
    {
     "name": "stdout",
     "output_type": "stream",
     "text": [
      "The Teacher dataset contains 828 records\n",
      "The CSO dataset contains 153 records\n",
      "The Director dataset contains 247 records\n"
     ]
    }
   ],
   "source": [
    "print(f\"The Teacher dataset contains {tchrs.shape[0]} records\\nThe CSO dataset contains {csos.shape[0]} records\\nThe Director dataset contains {dirs.shape[0]} records\")"
   ]
  },
  {
   "cell_type": "markdown",
   "metadata": {
    "ExecuteTime": {
     "end_time": "2018-10-12T13:38:15.821761Z",
     "start_time": "2018-10-12T13:38:15.784758Z"
    }
   },
   "source": [
    "The main questions we want to ask are documented in the [analysis plan](https://github.com/TSSlade/tusome-d4dm/blob/master/analysis_plan.md), which is an evolving document."
   ]
  },
  {
   "cell_type": "markdown",
   "metadata": {
    "ExecuteTime": {
     "end_time": "2018-10-12T13:38:15.821761Z",
     "start_time": "2018-10-12T13:38:15.784758Z"
    }
   },
   "source": [
    "## Teacher Instrument"
   ]
  },
  {
   "cell_type": "markdown",
   "metadata": {},
   "source": [
    "Here we begin exploring the data we obtained from interviewing the teachers."
   ]
  },
  {
   "cell_type": "code",
   "execution_count": 4,
   "metadata": {
    "ExecuteTime": {
     "end_time": "2018-10-26T17:47:30.004242Z",
     "start_time": "2018-10-26T17:47:29.997739Z"
    },
    "scrolled": true
   },
   "outputs": [],
   "source": [
    "# Counting teacher records\n",
    "tchr_ct = tchrs.shape[0]"
   ]
  },
  {
   "cell_type": "markdown",
   "metadata": {
    "ExecuteTime": {
     "end_time": "2018-10-20T18:13:56.874778Z",
     "start_time": "2018-10-20T18:13:56.859149Z"
    },
    "variables": {
     "tchr_ct": "828"
    }
   },
   "source": [
    "Our dataset contains interviews with {{tchr_ct}} teachers."
   ]
  },
  {
   "cell_type": "markdown",
   "metadata": {},
   "source": [
    "### Teachers visited previously by CSOs\n",
    "\n",
    "The underlying assumption of most of the interview protocol is that the teacher has had a coaching interaction with a CSO. The first issue we should then address is the proportion of teachers who have received a visit from a CSO."
   ]
  },
  {
   "cell_type": "code",
   "execution_count": 5,
   "metadata": {
    "ExecuteTime": {
     "end_time": "2018-10-26T17:47:30.038239Z",
     "start_time": "2018-10-26T17:47:30.031239Z"
    },
    "scrolled": true
   },
   "outputs": [],
   "source": [
    "# Counting teachers never visited\n",
    "never = 100 * ((tchr_ct - tchrs.vis_before.sum())/tchr_ct)"
   ]
  },
  {
   "cell_type": "markdown",
   "metadata": {
    "ExecuteTime": {
     "end_time": "2018-10-20T18:13:56.874778Z",
     "start_time": "2018-10-20T18:13:56.859149Z"
    },
    "variables": {
     "np.round(never, decimals=2)": "7.37"
    }
   },
   "source": [
    "We see that {{np.round(never, decimals=2)}}% of teachers interviewed had never been previously visited by CSOs."
   ]
  },
  {
   "cell_type": "markdown",
   "metadata": {},
   "source": [
    "### Number of coaching visits in the last academic term\n",
    "\n",
    "We have confirmed that the overwhelming majority of our teachers have been visited. We can have greater confidence in the responses they give us over the course of the interview if they have had a visit in the recent past. We therefore asked the teachers to tell us how many times they had been visited by their CSO in the preceding academic term (Term 2 of the Kenyan academic year, running from roughly May-July 2018)."
   ]
  },
  {
   "cell_type": "code",
   "execution_count": 6,
   "metadata": {
    "ExecuteTime": {
     "end_time": "2018-10-26T17:47:36.528418Z",
     "start_time": "2018-10-26T17:47:30.058241Z"
    },
    "scrolled": true
   },
   "outputs": [],
   "source": [
    "# Generating CSO visit counts\n",
    "tchrs.vis_before_freq = tchrs.vis_before_freq.replace({55: \">4x\"})\n",
    "viscount_df = pd.DataFrame(tchrs.vis_before_freq.value_counts(sort=False)).rename_axis(\"prevterm_vis\").reset_index()\n",
    "viscount_df[\"pct\"] = np.round(100 * (viscount_df.vis_before_freq / tchrs.vis_before.sum()), decimals=2)\n",
    "more_than_monthly = viscount_df[viscount_df.prevterm_vis.isin([4, \">4x\"])].pct.sum()\n",
    "csovisct_ch = alt.Chart(viscount_df, title=\"# of times CSO visited in preceding term\").mark_bar().encode(\n",
    "    alt.Y(\"prevterm_vis:O\", title=\"CSO visits last term\"),\n",
    "    alt.X(\"vis_before_freq:Q\", title=\"# Teachers\"),\n",
    "    tooltip=\"pct\")\n",
    "csovisct_ch.save(\"../img/csovisct_ch.png\", scale_factor=2.0)"
   ]
  },
  {
   "cell_type": "markdown",
   "metadata": {},
   "source": [
    "![CSO Visits](../img/csovisct_ch.png)"
   ]
  },
  {
   "cell_type": "markdown",
   "metadata": {
    "ExecuteTime": {
     "end_time": "2018-10-20T19:51:28.176045Z",
     "start_time": "2018-10-20T19:51:28.127801Z"
    },
    "variables": {
     "int(more_than_monthly)": "28",
     "int(viscount_df[viscount_df.prevterm_vis.isin([1, 2, 3])].pct.sum())": "64",
     "int(viscount_df[viscount_df.prevterm_vis==0].pct[0])": "11"
    }
   },
   "source": [
    "We see that roughly {{int(viscount_df[viscount_df.prevterm_vis==0].pct[0])}}% of the respondents, while they'd been visited by a CSO in the past, had not been visited in the preceding term. However, roughly {{int(viscount_df[viscount_df.prevterm_vis.isin([1, 2, 3])].pct.sum())}}% of the respondents were visited between once per term and once per month. Roughly {{int(more_than_monthly)}}% of the teachers were visited by their CSOs more frequently than monthly."
   ]
  },
  {
   "cell_type": "markdown",
   "metadata": {},
   "source": [
    "### CSOs' activities during last coaching visit\n",
    "\n",
    "We are interested in knowing what CSOs are focusing on when they pay a visit to a school. Are they observing a lesson? Are they giving feedback to the teacher? Do they assess pupils' fluency rates? Do they take advantage of their presence at the school to meet with the head teacher (HT)? What kinds of things are they doing _besides_ these activities?"
   ]
  },
  {
   "cell_type": "code",
   "execution_count": 7,
   "metadata": {
    "ExecuteTime": {
     "end_time": "2018-10-26T17:47:36.659957Z",
     "start_time": "2018-10-26T17:47:36.592929Z"
    },
    "scrolled": true
   },
   "outputs": [
    {
     "data": {
      "text/html": [
       "<div>\n",
       "<style scoped>\n",
       "    .dataframe tbody tr th:only-of-type {\n",
       "        vertical-align: middle;\n",
       "    }\n",
       "\n",
       "    .dataframe tbody tr th {\n",
       "        vertical-align: top;\n",
       "    }\n",
       "\n",
       "    .dataframe thead th {\n",
       "        text-align: right;\n",
       "    }\n",
       "</style>\n",
       "<table border=\"1\" class=\"dataframe\">\n",
       "  <thead>\n",
       "    <tr style=\"text-align: right;\">\n",
       "      <th></th>\n",
       "      <th>activities</th>\n",
       "      <th>tchrs_reporting</th>\n",
       "      <th>pct</th>\n",
       "    </tr>\n",
       "  </thead>\n",
       "  <tbody>\n",
       "    <tr>\n",
       "      <th>0</th>\n",
       "      <td>Assessed pupils</td>\n",
       "      <td>688</td>\n",
       "      <td>83.84</td>\n",
       "    </tr>\n",
       "    <tr>\n",
       "      <th>1</th>\n",
       "      <td>Talked to HT</td>\n",
       "      <td>516</td>\n",
       "      <td>62.88</td>\n",
       "    </tr>\n",
       "    <tr>\n",
       "      <th>2</th>\n",
       "      <td>Provided feedback on lesson</td>\n",
       "      <td>734</td>\n",
       "      <td>89.44</td>\n",
       "    </tr>\n",
       "    <tr>\n",
       "      <th>3</th>\n",
       "      <td>Had general talk</td>\n",
       "      <td>364</td>\n",
       "      <td>44.36</td>\n",
       "    </tr>\n",
       "    <tr>\n",
       "      <th>4</th>\n",
       "      <td>Other</td>\n",
       "      <td>127</td>\n",
       "      <td>15.48</td>\n",
       "    </tr>\n",
       "  </tbody>\n",
       "</table>\n",
       "</div>"
      ],
      "text/plain": [
       "                    activities  tchrs_reporting    pct\n",
       "0  Assessed pupils              688              83.84\n",
       "1  Talked to HT                 516              62.88\n",
       "2  Provided feedback on lesson  734              89.44\n",
       "3  Had general talk             364              44.36\n",
       "4  Other                        127              15.48"
      ]
     },
     "execution_count": 7,
     "metadata": {},
     "output_type": "execute_result"
    }
   ],
   "source": [
    "# Generating table of CSOs' activities during visits\n",
    "visact_df = pd.DataFrame.from_dict({\"activities\": [\"Assessed pupils\",\n",
    "                                                   \"Talked to HT\",\n",
    "                                                   \"Provided feedback on lesson\",\n",
    "                                                   \"Had general talk\",\n",
    "                                                   \"Other\"],\n",
    "                                    \"tchrs_reporting\": [tchrs[tchrs.vis_before != 0].vis_act_kids.sum(),\n",
    "                                                        tchrs[tchrs.vis_before != 0].vis_act_ht.sum(),\n",
    "                                                        tchrs[tchrs.vis_before != 0].vis_act_fdbk.sum(),\n",
    "                                                        tchrs[tchrs.vis_before != 0].vis_act_gen.sum(),\n",
    "                                                        tchrs[tchrs.vis_before != 0].vis_act_other.sum()]})\n",
    "visact_df[\"pct\"] = np.round(visact_df.tchrs_reporting.apply(lambda x: 100 * (x/(tchr_ct - never))), decimals=2)\n",
    "visact_df"
   ]
  },
  {
   "cell_type": "code",
   "execution_count": 8,
   "metadata": {
    "ExecuteTime": {
     "end_time": "2018-10-26T17:47:41.700826Z",
     "start_time": "2018-10-26T17:47:36.664932Z"
    },
    "scrolled": true
   },
   "outputs": [],
   "source": [
    "# Generating the graph of CSOs' activities during the previous visit\n",
    "csoprevvis_ch = alt.Chart(visact_df, title=\"CSO activities during previous visit\").mark_bar().encode(\n",
    "alt.Y(\"activities:O\", \n",
    "      title=\"Activities named\",\n",
    "      sort = alt.EncodingSortField(field=\"tchrs_reporting\", op=\"values\", order=\"ascending\")),\n",
    "alt.X(\"pct:Q\",\n",
    "      title=\"% of teachers responding\"),\n",
    "tooltip = \"tchrs_reporting\")\n",
    "csoprevvis_ch.save(\"../img/csoprevvis_ch.png\", scale_factor=2.0)"
   ]
  },
  {
   "cell_type": "markdown",
   "metadata": {},
   "source": [
    "![CSOs' Activities](../img/csoprevvis_ch.png)"
   ]
  },
  {
   "cell_type": "markdown",
   "metadata": {
    "ExecuteTime": {
     "end_time": "2018-10-21T15:02:49.246011Z",
     "start_time": "2018-10-21T15:02:49.226011Z"
    },
    "variables": {
     "int(np.ceil(visact_df.pct.max()))": "90",
     "int(np.floor(visact_df[visact_df.activities==\"Other\"].pct))": "15"
    }
   },
   "source": [
    "Nearly {{int(np.ceil(visact_df.pct.max()))}}% of teachers report that when the CSO last visited, s/he provided feedback on a lesson. A fairly comparable proportion said that the CSO assessed pupils. Neither of these is surprising, as those activities are key features of a \"reimbursable\" or \"valid\" lesson observation. If anything, it is interesting that these numbers are not higher, given that we have excluded from our denominator those teachers who said they had never received a visit from the CSO.\n",
    "\n",
    "Of note is the relatively low proportion of teachers reporting the CSO had spoken with the HT. While Tusome encourages CSOs to speak with HTs as part of the standard protocol for visiting a school, it is not explicitly considered as a factor for reimbursement of transportation costs for visiting that school.\n",
    "\n",
    "That said, it is also possible that teachers may simply not be aware of activities taking place outside of their classroom. They and their classrooms would have been the objects of the lesson observation and fluency assessment; they may not have as much visibility into what happened before or after the CSO entered their classroom.\n",
    "\n",
    "A little over {{int(np.floor(visact_df[visact_df.activities==\"Other\"].pct))}}% of teachers reported the CSO conducted an activity that was not listed in the questionnaire. Below we have sampled 20 of the things that they reported which were not captured in the questionnaire."
   ]
  },
  {
   "cell_type": "code",
   "execution_count": 9,
   "metadata": {
    "ExecuteTime": {
     "end_time": "2018-10-26T17:47:41.748362Z",
     "start_time": "2018-10-26T17:47:41.732359Z"
    },
    "scrolled": true
   },
   "outputs": [
    {
     "name": "stdout",
     "output_type": "stream",
     "text": [
      "437    checks if books are in good condition and monitors classwork, checks pupils attendance, asks challenges and successes I am facing                                                        \n",
      "258    checked on the shortage of Tusome books                                                                                                                                                  \n",
      "725    spoke to head teacher,assesed children and gave me feedback                                                                                                                              \n",
      "250    Trains us in areas where we are struggling                                                                                                                                               \n",
      "515    The CSO normally emphasize to me to take care of Tusome books by covering them and not allow learners go with them home                                                                  \n",
      "29     Talking to other teachers in the school                                                                                                                                                  \n",
      "463    He trained me before I went to class..After assssing 3 pupils he calls me for feedback sesssion that was so friendly.He modelled areas that I didn't well.                               \n",
      "157    Checked on the teacher and learners especially on the sitting arrangement                                                                                                                \n",
      "538    modeled a lesson                                                                                                                                                                         \n",
      "524    He checked the professional documents                                                                                                                                                    \n",
      "317    observed the lesson and after the lesson she called and gave me feedback                                                                                                                 \n",
      "617    The CSO communicates about her coming.She observes lessons,picks the pupils to assess.We sit to discuss the lesson.She checks book conditions,She encourages us generally for our effort.\n",
      "401    He spoke to headteacher,observed my class,assessed pupils and gave me feed back on my class                                                                                              \n",
      "160    Talks to other staff memebers.                                                                                                                                                           \n",
      "282    Check on book care, Check pupils books                                                                                                                                                   \n",
      "214    He checked my lesson plans and schemes of work                                                                                                                                           \n",
      "3      asks where I have questions and gives me guidance, has also done TIPAD                                                                                                                   \n",
      "496    she advises on personal issues, TPAD                                                                                                                                                     \n",
      "728    The CSO checks how i deliver Tusome lessons and he also checks the rate at which learners are reading . He also gives me advise on how to improve on areas of weakness                   \n",
      "353    checks on my documents, pupil's enrollment and lesson                                                                                                                                    \n",
      "Name: vis_act_other_det, dtype: object\n"
     ]
    }
   ],
   "source": [
    "# Generating a list of the 'other' activities CSOs did when visiting\n",
    "print(tchrs[tchrs.vis_act_other_det.notna() & (tchrs.vis_act_other_det != \"\")].vis_act_other_det.sample(20))"
   ]
  },
  {
   "cell_type": "markdown",
   "metadata": {},
   "source": [
    "### CSOs using tablets or pen & paper during observation\n",
    "\n",
    "The _Tangerine:Tutor_ app was developed with the intent and belief that CSOs would use it _while observing_ the lesson. However, Tusome staff report that not all CSOs find the tablet interface comfortable, and not all use it with ease. So we asked teachers to report whether CSOs use the tablets during the lesson observation, and also whether they use pen and paper."
   ]
  },
  {
   "cell_type": "markdown",
   "metadata": {
    "ExecuteTime": {
     "end_time": "2018-10-21T15:27:58.583363Z",
     "start_time": "2018-10-21T15:27:58.575363Z"
    },
    "variables": {
     "int(np.round(100 * (tchrs.cso_usepcl_yn.sum()/tchr_ct), decimals=2))": "81",
     "int(np.round(100 * (tchrs.cso_usetab_yn.sum()/tchr_ct), decimals=2))": "90"
    }
   },
   "source": [
    "Roughly {{int(np.round(100 * (tchrs.cso_usetab_yn.sum()/tchr_ct), decimals=2))}}% of teachers reported that the CSOs use tablets during lesson observation; roughly {{int(np.round(100 * (tchrs.cso_usepcl_yn.sum()/tchr_ct), decimals=2))}}% of teachers reported the CSOs use pen and paper during the lesson observation."
   ]
  },
  {
   "cell_type": "code",
   "execution_count": 10,
   "metadata": {
    "ExecuteTime": {
     "end_time": "2018-10-26T17:47:44.060718Z",
     "start_time": "2018-10-26T17:47:41.792358Z"
    },
    "scrolled": true
   },
   "outputs": [
    {
     "data": {
      "text/html": [
       "<div>\n",
       "<style scoped>\n",
       "    .dataframe tbody tr th:only-of-type {\n",
       "        vertical-align: middle;\n",
       "    }\n",
       "\n",
       "    .dataframe tbody tr th {\n",
       "        vertical-align: top;\n",
       "    }\n",
       "\n",
       "    .dataframe thead th {\n",
       "        text-align: right;\n",
       "    }\n",
       "</style>\n",
       "<table border=\"1\" class=\"dataframe\">\n",
       "  <thead>\n",
       "    <tr style=\"text-align: right;\">\n",
       "      <th>Uses pen and paper</th>\n",
       "      <th>No</th>\n",
       "      <th>Yes</th>\n",
       "    </tr>\n",
       "    <tr>\n",
       "      <th>Uses tablet</th>\n",
       "      <th></th>\n",
       "      <th></th>\n",
       "    </tr>\n",
       "  </thead>\n",
       "  <tbody>\n",
       "    <tr>\n",
       "      <th>No</th>\n",
       "      <td>3</td>\n",
       "      <td>17</td>\n",
       "    </tr>\n",
       "    <tr>\n",
       "      <th>Yes</th>\n",
       "      <td>72</td>\n",
       "      <td>657</td>\n",
       "    </tr>\n",
       "  </tbody>\n",
       "</table>\n",
       "</div>"
      ],
      "text/plain": [
       "Uses pen and paper  No  Yes\n",
       "Uses tablet                \n",
       "No                  3   17 \n",
       "Yes                 72  657"
      ]
     },
     "execution_count": 10,
     "metadata": {},
     "output_type": "execute_result"
    }
   ],
   "source": [
    "# Generating the table about usage of tablets and pencils\n",
    "tabs_n_pencils = pd.crosstab(tchrs.cso_usetab_yn, tchrs.cso_usepcl_yn)\n",
    "tabs_n_pencils = tabs_n_pencils.rename_axis(\"Uses tablet\").rename_axis(\"Uses pen and paper\", axis=\"columns\")\n",
    "tabs_n_pencils = tabs_n_pencils.rename({0: \"No\", 1: \"Yes\"}, axis=\"columns\").rename({0: \"No\", 1: \"Yes\"}, axis=\"index\")\n",
    "tabs_n_pencils"
   ]
  },
  {
   "cell_type": "markdown",
   "metadata": {},
   "source": [
    "We see that the overwhelming majority of CSOs are using both tablets _and_ pen-and-paper systems when observing the teachers' lesson. There have historically been some instruments/data that CSOs were tasked by TSC to complete that were not rendered in _Tangerine_ format on the tablets; as of midway through Term 3 of the 2018 academic year, those instruments (mostly for the TSC's TPAD \\[Teacher Performance Appraisal and Development\\] project) are now in _Tangerine_. While the use of pen and paper does not appear to have come at the expense of using the tablets - indeed, it appears to be complementary, as nearly all CSOs are using both - Tusome should nonetheless follow up on these reports of CSOs' usage of pen and paper to understand the roots of the practice."
   ]
  },
  {
   "cell_type": "markdown",
   "metadata": {
    "variables": {
     "int(np.round(100 * (tchrs.cso_usetab_pup_yn.sum()/tchr_ct), decimals=2))": "88"
    }
   },
   "source": [
    "### CSOs' usage of the tablets to assess pupils' performance\n",
    "\n",
    "Tusome's coaching protocol requires CSOs to randomly select three children from the classroom at the end of the lesson to assess their reading fluency. The prompt the children are to read from is a laminated sheet of paper with a short passage printed on it; the CSOs are instructed to use the tablet to record the children's responses. The tablet is then able to calculate fluency rates and store those as data associated with that observation.\n",
    "\n",
    "Approximately {{int(np.round(100 * (tchrs.cso_usetab_pup_yn.sum()/tchr_ct), decimals=2))}}% of the teachers reported that CSOs use the tablets to assess children's reading fluency."
   ]
  },
  {
   "cell_type": "markdown",
   "metadata": {},
   "source": [
    "### Teachers' experience of feedback, and CSOs' use of tablets during feedback\n",
    "\n",
    "Tusome asked teachers whether the CSO gave feedback on the lesson last time s/he paid a visit, whether s/he used the tablet to do so, and whether the teacher was able to recall specific feedback the CSO provided."
   ]
  },
  {
   "cell_type": "code",
   "execution_count": 11,
   "metadata": {
    "ExecuteTime": {
     "end_time": "2018-10-26T17:47:44.102489Z",
     "start_time": "2018-10-26T17:47:44.076284Z"
    },
    "scrolled": true
   },
   "outputs": [
    {
     "data": {
      "text/html": [
       "<div>\n",
       "<style scoped>\n",
       "    .dataframe tbody tr th:only-of-type {\n",
       "        vertical-align: middle;\n",
       "    }\n",
       "\n",
       "    .dataframe tbody tr th {\n",
       "        vertical-align: top;\n",
       "    }\n",
       "\n",
       "    .dataframe thead th {\n",
       "        text-align: right;\n",
       "    }\n",
       "</style>\n",
       "<table border=\"1\" class=\"dataframe\">\n",
       "  <thead>\n",
       "    <tr style=\"text-align: right;\">\n",
       "      <th></th>\n",
       "      <th>event</th>\n",
       "      <th>ct</th>\n",
       "      <th>pct</th>\n",
       "    </tr>\n",
       "  </thead>\n",
       "  <tbody>\n",
       "    <tr>\n",
       "      <th>0</th>\n",
       "      <td>CSO gave feedback</td>\n",
       "      <td>757.0</td>\n",
       "      <td>91.4</td>\n",
       "    </tr>\n",
       "    <tr>\n",
       "      <th>1</th>\n",
       "      <td>CSO used a tablet for feedback</td>\n",
       "      <td>676.0</td>\n",
       "      <td>81.6</td>\n",
       "    </tr>\n",
       "    <tr>\n",
       "      <th>2</th>\n",
       "      <td>Tchr remembers feedback</td>\n",
       "      <td>725.0</td>\n",
       "      <td>87.6</td>\n",
       "    </tr>\n",
       "  </tbody>\n",
       "</table>\n",
       "</div>"
      ],
      "text/plain": [
       "                            event     ct   pct\n",
       "0  CSO gave feedback               757.0  91.4\n",
       "1  CSO used a tablet for feedback  676.0  81.6\n",
       "2  Tchr remembers feedback         725.0  87.6"
      ]
     },
     "execution_count": 11,
     "metadata": {},
     "output_type": "execute_result"
    }
   ],
   "source": [
    "# Generating table of CSO use of tablets for feedback\n",
    "feedback = {\"CSO gave feedback\": tchrs.cso_gave_fdbk_yn.sum(),\n",
    "            \"CSO used a tablet for feedback\": tchrs.cso_usetab_fdbk_yn.sum(),\n",
    "            \"Tchr remembers feedback\": tchrs.cso_fdbk_remember.sum()}\n",
    "fdbk_df = pd.DataFrame.from_dict(feedback, orient=\"index\", columns=[\"ct\"])\n",
    "fdbk_df[\"pct\"] = 100 * np.round(fdbk_df[\"ct\"] / tchrs.shape[0], decimals=3)\n",
    "fdbk_df = fdbk_df.rename_axis(\"event\").reset_index()\n",
    "fdbk_df"
   ]
  },
  {
   "cell_type": "markdown",
   "metadata": {
    "ExecuteTime": {
     "end_time": "2018-10-25T04:37:24.468447Z",
     "start_time": "2018-10-25T04:37:24.452443Z"
    }
   },
   "source": [
    "Below we have sampled 20 of the things that they reported which were not captured in the questionnaire."
   ]
  },
  {
   "cell_type": "code",
   "execution_count": 12,
   "metadata": {
    "ExecuteTime": {
     "end_time": "2018-10-26T17:47:44.119486Z",
     "start_time": "2018-10-26T17:47:44.106486Z"
    },
    "scrolled": true
   },
   "outputs": [
    {
     "name": "stdout",
     "output_type": "stream",
     "text": [
      "599    I was taken through introduction of the lesson by starting with a song, how to achieve perky pace in the lesson and proper class control techniques                                                                                                                                            \n",
      "773    She said that the pupils had improved in reading,                                                                                                                                                                                                                                              \n",
      "601    I can remember he gave me feedback on pronounciation of some words during word study. he showed me on how to do it                                                                                                                                                                             \n",
      "119    She said, \"Your pronounciations has greatly improved\"                                                                                                                                                                                                                                          \n",
      "127    She insisted mostly on the use of teachers' guides to teach the lesson.                                                                                                                                                                                                                        \n",
      "72     We discussed what i failed to teach well especially in vocabulary                                                                                                                                                                                                                              \n",
      "68     He showed me how to use the teachers guide and discussed about the CBC                                                                                                                                                                                                                         \n",
      "411    i confused the teacher read aloud story with a pupil story and she corrected me                                                                                                                                                                                                                \n",
      "472    Create time and suppor non/slow readers to improve reading level in class.                                                                                                                                                                                                                     \n",
      "239    I was a new teacher so he told me i went beyond my 30 minutes in a lesson, he said i need to teach within 30mins. He said i improve on i do we do you do. He also said i spent a lot of time in comprehension.                                                                                 \n",
      "600    We should prepare more before going to class to teach.                                                                                                                                                                                                                                         \n",
      "671    The CSO gave me feedback on how to teach oral blending.                                                                                                                                                                                                                                        \n",
      "302    He advised me to predict during the lesson and also give learners think time when making sentences using vocabulary items                                                                                                                                                                      \n",
      "783    The CSO told me about the reading benchmarks and I should help them to read at the benchmark                                                                                                                                                                                                   \n",
      "697    the CSO asked me to teach lesson as planned and be guided by the teachers guide                                                                                                                                                                                                                \n",
      "128    In English, I forgot to predict, she reminded me to always introduce predictions before I read the story to bring out communication and collaboration with the pupils.                                                                                                                         \n",
      "467    I was advised on guiding pupils on partner pridtion then pick 2 or 3 to share their prictins with the class.                                                                                                                                                                                   \n",
      "301    He emphasised on helping learners reading through remedial teaching. He stressed on infusing the competence based curriuclum aspects in the Tusome lessons                                                                                                                                     \n",
      "333    She told me I was following the Teachers Guide. She advised me to involve the slow and I should use real objects to explain meaning of words,I was advised to give more practice on sounds to the weak readers, She also told me to give short passeges to the wek readers to practise reading.\n",
      "759    He said that i followed the lesson notes well but urged that i should improve on learners involvement.                                                                                                                                                                                         \n",
      "Name: cso_fdbk_det, dtype: object\n"
     ]
    }
   ],
   "source": [
    "# Sample of details regarding the details of feedback CSOs provided\n",
    "print(tchrs[tchrs.cso_fdbk_det.notna() & (tchrs.cso_fdbk_det != \"\")].cso_fdbk_det.sample(20))"
   ]
  },
  {
   "cell_type": "markdown",
   "metadata": {
    "ExecuteTime": {
     "end_time": "2018-10-21T16:01:03.622834Z",
     "start_time": "2018-10-21T16:01:03.615837Z"
    },
    "variables": {
     "int(100* (tchrs.cso_fdbk_showtab_yn.sum() / tchrs.vis_act_fdbk.sum()))": "56"
    }
   },
   "source": [
    "The tablets come equipped with various aids that CSOs could use to help coach teachers. In addition to the contents of the auto-generated feedback, CSOs could use the _Papaya_ application to model pronunciation of letter sounds, the videos demonstrating effective lesson delivery, etc. Of the teachers reporting CSOs provided feedback of some kind, {{int(100* (tchrs.cso_fdbk_showtab_yn.sum() / tchrs.vis_act_fdbk.sum()))}}% indicated that the CSO showed them something directly on the tablet."
   ]
  },
  {
   "cell_type": "code",
   "execution_count": 13,
   "metadata": {
    "ExecuteTime": {
     "end_time": "2018-10-26T17:47:44.209601Z",
     "start_time": "2018-10-26T17:47:44.149932Z"
    },
    "scrolled": true
   },
   "outputs": [
    {
     "data": {
      "text/html": [
       "<div>\n",
       "<style scoped>\n",
       "    .dataframe tbody tr th:only-of-type {\n",
       "        vertical-align: middle;\n",
       "    }\n",
       "\n",
       "    .dataframe tbody tr th {\n",
       "        vertical-align: top;\n",
       "    }\n",
       "\n",
       "    .dataframe thead th {\n",
       "        text-align: right;\n",
       "    }\n",
       "</style>\n",
       "<table border=\"1\" class=\"dataframe\">\n",
       "  <thead>\n",
       "    <tr style=\"text-align: right;\">\n",
       "      <th></th>\n",
       "      <th>resources</th>\n",
       "      <th>tchrs_reporting</th>\n",
       "      <th>pct</th>\n",
       "    </tr>\n",
       "  </thead>\n",
       "  <tbody>\n",
       "    <tr>\n",
       "      <th>0</th>\n",
       "      <td>Tips from feedback screen</td>\n",
       "      <td>167</td>\n",
       "      <td>22.75</td>\n",
       "    </tr>\n",
       "    <tr>\n",
       "      <th>1</th>\n",
       "      <td>Pupils' reading fluency</td>\n",
       "      <td>260</td>\n",
       "      <td>35.42</td>\n",
       "    </tr>\n",
       "    <tr>\n",
       "      <th>2</th>\n",
       "      <td>Videos of lesson delivery</td>\n",
       "      <td>128</td>\n",
       "      <td>17.44</td>\n",
       "    </tr>\n",
       "    <tr>\n",
       "      <th>3</th>\n",
       "      <td>Letter sounds in Papaya</td>\n",
       "      <td>230</td>\n",
       "      <td>31.34</td>\n",
       "    </tr>\n",
       "    <tr>\n",
       "      <th>4</th>\n",
       "      <td>Other</td>\n",
       "      <td>54</td>\n",
       "      <td>7.36</td>\n",
       "    </tr>\n",
       "  </tbody>\n",
       "</table>\n",
       "</div>"
      ],
      "text/plain": [
       "                   resources  tchrs_reporting    pct\n",
       "0  Tips from feedback screen  167              22.75\n",
       "1  Pupils' reading fluency    260              35.42\n",
       "2  Videos of lesson delivery  128              17.44\n",
       "3  Letter sounds in Papaya    230              31.34\n",
       "4  Other                      54               7.36 "
      ]
     },
     "execution_count": 13,
     "metadata": {},
     "output_type": "execute_result"
    }
   ],
   "source": [
    "# Generating dataframe of feedback shown by CSOs to teachers\n",
    "fdbk_shown_df = pd.DataFrame.from_dict({\"resources\": [\"Tips from feedback screen\",\n",
    "                                                   \"Pupils' reading fluency\",\n",
    "                                                   \"Videos of lesson delivery\",\n",
    "                                                   \"Letter sounds in Papaya\",\n",
    "                                                   \"Other\"],\n",
    "                                    \"tchrs_reporting\":[\n",
    "                                        tchrs[tchrs.vis_act_fdbk != 0].cso_shw_tips.sum(),\n",
    "                                        tchrs[tchrs.vis_act_fdbk != 0].cso_shw_fluency.sum(),\n",
    "                                        tchrs[tchrs.vis_act_fdbk != 0].cso_shw_video.sum(),\n",
    "                                        tchrs[tchrs.vis_act_fdbk != 0].cso_shw_lsnd.sum(),\n",
    "                                        tchrs[tchrs.vis_act_fdbk != 0].cso_shw_other.sum()]})\n",
    "fdbk_shown_df[\"pct\"] = np.round(\n",
    "    fdbk_shown_df.tchrs_reporting.apply(\n",
    "    lambda x: 100 * (x/visact_df[visact_df.activities==\"Provided feedback on lesson\"].tchrs_reporting)),\n",
    "    decimals=2)\n",
    "fdbk_shown_df"
   ]
  },
  {
   "cell_type": "code",
   "execution_count": 14,
   "metadata": {
    "ExecuteTime": {
     "end_time": "2018-10-26T17:47:49.685945Z",
     "start_time": "2018-10-26T17:47:44.213634Z"
    },
    "scrolled": true
   },
   "outputs": [],
   "source": [
    "# Generating chart of tablet-based resources shown to teachers\n",
    "tabres_ch = alt.Chart(fdbk_shown_df, title=\"Tablet-based resources shown to Teachers by CSOs\").mark_bar().encode(\n",
    "alt.Y(\"resources:O\", \n",
    "      title=\"Resources named\",\n",
    "      sort = alt.EncodingSortField(field=\"tchrs_reporting\", op=\"values\", order=\"ascending\")),\n",
    "alt.X(\"pct:Q\",\n",
    "      title=\"% of teachers responding\"),\n",
    "tooltip = \"tchrs_reporting\")\n",
    "tabres_ch.save(\"../img/tabres_ch.png\", scale_factor=2.0)"
   ]
  },
  {
   "cell_type": "markdown",
   "metadata": {
    "ExecuteTime": {
     "end_time": "2018-10-25T04:51:04.504886Z",
     "start_time": "2018-10-25T04:51:04.494938Z"
    }
   },
   "source": [
    "![Tablet Resources Chart](../img/tabres_ch.png)"
   ]
  },
  {
   "cell_type": "markdown",
   "metadata": {
    "ExecuteTime": {
     "end_time": "2018-10-25T04:51:04.504886Z",
     "start_time": "2018-10-25T04:51:04.494938Z"
    },
    "variables": {
     "int(fdbk_shown_df[fdbk_shown_df.resources==\"Letter sounds in Papaya\"].pct)": "31",
     "int(fdbk_shown_df[fdbk_shown_df.resources==\"Pupils' reading fluency\"].pct)": "35"
    }
   },
   "source": [
    "Overall, fewer than 50% of teachers indicated that CSOs showed them something on the tablet as part of the feedback session. Where the CSO showed something to the teacher, it was most frequently pupils' reading fluency (at {{int(fdbk_shown_df[fdbk_shown_df.resources==\"Pupils' reading fluency\"].pct)}}%), with Papaya letter sounds the next most common (at {{int(fdbk_shown_df[fdbk_shown_df.resources==\"Letter sounds in Papaya\"].pct)}}%)."
   ]
  },
  {
   "cell_type": "markdown",
   "metadata": {
    "ExecuteTime": {
     "end_time": "2018-10-25T05:02:19.094526Z",
     "start_time": "2018-10-25T05:02:19.086535Z"
    }
   },
   "source": [
    "**N.B.**: <span style=\"color:red\"> Update cell w literate programming re: which activity is in the lead. (Abstract one level further.)</span>\n",
    "\n",
    "Below we have sampled 20 of the things that they reported which were not captured in the questionnaire."
   ]
  },
  {
   "cell_type": "code",
   "execution_count": 15,
   "metadata": {
    "ExecuteTime": {
     "end_time": "2018-10-26T17:47:49.737946Z",
     "start_time": "2018-10-26T17:47:49.717946Z"
    },
    "scrolled": true
   },
   "outputs": [
    {
     "name": "stdout",
     "output_type": "stream",
     "text": [
      "616    Teacher is new in Tusome programm                                                                                           \n",
      "257    lesson duration, sometimes she does show me areas highlighted for improvement directly from the tablets                     \n",
      "222    The CSO showed me the feedback on his tablet                                                                                \n",
      "584    I could see him refer to the tablet as he gave me feedback                                                                  \n",
      "467    After the lesson is over he shows me the reading outcomes.                                                                  \n",
      "106    Installed Papaya application in phones during trainings which I use whenever I had challenge in letter sounds.              \n",
      "727    He showed me the number of words the learners were able to read with a specified time                                       \n",
      "47     Time taken in the lesson                                                                                                    \n",
      "806    words that the pupils were not able to read during the pupils asssement exercise                                            \n",
      "130    I was shown some steps i had skipped during the lesson                                                                      \n",
      "534    Has never been visited                                                                                                      \n",
      "288    He shows pics of the pupils reading n motivates pupils                                                                      \n",
      "732    The CSO showed me a video on letter names and their sounds                                                                  \n",
      "202    TE Page                                                                                                                     \n",
      "392    Yes he uses the tablet to help me get pupils fluency rates,time taken for the lesson                                        \n",
      "465    To read the tablet feedback by myself                                                                                       \n",
      "618    I have not been shown anything directly on the tablet.                                                                      \n",
      "447    The pupils assessment reading and how the tool counts the average number of words read by the pupils                        \n",
      "507    He only reads to me eg he reads the sections on how I needed to conduct the lesson or pupils reading outcome and time taken,\n",
      "514    He showed me a video of a teacher teaching silent blending                                                                  \n",
      "Name: cso_shw_other_det, dtype: object\n"
     ]
    }
   ],
   "source": [
    "# Printing sample of teachers' feedback re: things CSOs showed them on the tablet\n",
    "print(tchrs[tchrs.cso_shw_other_det.notna() & (tchrs.cso_shw_other_det != \"\")].cso_shw_other_det.sample(20))"
   ]
  },
  {
   "cell_type": "markdown",
   "metadata": {
    "variables": {
     "int(100 * (tchrs[tchrs.vis_before != 0].cso_ref_prev_fdbk_yn.sum()/tchrs.vis_before.sum()))": "63"
    }
   },
   "source": [
    "### CSOs' use of feedback visit-over-visit\n",
    "\n",
    "Tusome's theory of change stipulates that smaller, more frequent, and more targeted coaching interactions will shift teacher behavior more effectively than larger-scale, episodic training events that cover a broad range of topics. This is the reason Tusome invests so heavily in supporting CSOs to provide coaching support to teachers in the span between large-scale training events.\n",
    "\n",
    "Teachers, like most people, will be more likely to alter their behavior if feedback is timely and consistent, and the teachers' response to it is monitored rather than assumed. In this survey, roughly {{int(100 * (tchrs[tchrs.vis_before != 0].cso_ref_prev_fdbk_yn.sum()/tchrs.vis_before.sum()))}}% of teachers indicated that when CSOs visited the school and observed the teacher, they follow up on feedback from earlier visits."
   ]
  },
  {
   "cell_type": "markdown",
   "metadata": {
    "ExecuteTime": {
     "end_time": "2018-10-25T05:15:42.173892Z",
     "start_time": "2018-10-25T05:15:42.161890Z"
    }
   },
   "source": [
    "**T.D.**: <span style=\"color:red\"> Update cells so definitions of variable `literate programming` inputs are visible.</span>"
   ]
  },
  {
   "cell_type": "markdown",
   "metadata": {},
   "source": [
    "### Teachers self-reported improvement in response to coaching\n",
    "\n",
    "Effectively measuring the quality of instruction or lesson delivery is a very, very difficult task. (**T.D.**: <span style=\"color:red\"> Provide citations, examples of various approaches.</span>)\n",
    "\n",
    "The current study was not able to directly assess the quality of teachers' lesson delivery, although Tusome is working on various other studies which attempt to do so. However, we asked teachers whether they felt the coaching received from CSOs had improved the quality of their teaching. We first posed the question in regard to the teaching of reading in Kiswahili and English, and then asked them whether the coaching had improved their teaching in other subjects as well."
   ]
  },
  {
   "cell_type": "code",
   "execution_count": 16,
   "metadata": {
    "ExecuteTime": {
     "end_time": "2018-10-26T17:47:52.057758Z",
     "start_time": "2018-10-26T17:47:49.760462Z"
    },
    "scrolled": false
   },
   "outputs": [
    {
     "data": {
      "text/html": [
       "<div>\n",
       "<style scoped>\n",
       "    .dataframe tbody tr th:only-of-type {\n",
       "        vertical-align: middle;\n",
       "    }\n",
       "\n",
       "    .dataframe tbody tr th {\n",
       "        vertical-align: top;\n",
       "    }\n",
       "\n",
       "    .dataframe thead th {\n",
       "        text-align: right;\n",
       "    }\n",
       "</style>\n",
       "<table border=\"1\" class=\"dataframe\">\n",
       "  <thead>\n",
       "    <tr style=\"text-align: right;\">\n",
       "      <th></th>\n",
       "      <th>subject</th>\n",
       "      <th>tchrs_reporting</th>\n",
       "      <th>pct</th>\n",
       "    </tr>\n",
       "  </thead>\n",
       "  <tbody>\n",
       "    <tr>\n",
       "      <th>0</th>\n",
       "      <td>Kiswahili &amp; English reading</td>\n",
       "      <td>732.0</td>\n",
       "      <td>99.86</td>\n",
       "    </tr>\n",
       "    <tr>\n",
       "      <th>1</th>\n",
       "      <td>Other subjects</td>\n",
       "      <td>706.0</td>\n",
       "      <td>96.32</td>\n",
       "    </tr>\n",
       "  </tbody>\n",
       "</table>\n",
       "</div>"
      ],
      "text/plain": [
       "                       subject  tchrs_reporting    pct\n",
       "0  Kiswahili & English reading  732.0            99.86\n",
       "1  Other subjects               706.0            96.32"
      ]
     },
     "execution_count": 16,
     "metadata": {},
     "output_type": "execute_result"
    }
   ],
   "source": [
    "# Generating dataframe of teacher's self-reported improvement due to coaching\n",
    "better_tchr_df = pd.DataFrame.from_dict(\n",
    "    {\"subject\": [\"Kiswahili & English reading\",\n",
    "                  \"Other subjects\"],\n",
    "     \"tchrs_reporting\": [tchrs[(tchrs.vis_act_fdbk != 0) &\n",
    "                                (tchrs.vis_before != 0)].cso_fdbk_better_tus.sum(),\n",
    "                          tchrs[(tchrs.vis_act_fdbk != 0) &\n",
    "                                (tchrs.vis_before != 0)].cso_fdbk_better_nont.sum()]})\n",
    "better_tchr_df[\"pct\"] = np.round(\n",
    "    better_tchr_df.tchrs_reporting.apply(\n",
    "    lambda x: 100 * (x/tchrs[(tchrs.vis_act_fdbk !=0) & (tchrs.vis_before != 0)].vis_before.sum())),\n",
    "    decimals=2)\n",
    "\n",
    "bttr_tus_pct = better_tchr_df[better_tchr_df.subject==\"Kiswahili & English reading\"].pct\n",
    "bttr_nont_pct = better_tchr_df[better_tchr_df.subject==\"Other subjects\"].pct\n",
    "better_tchr_df"
   ]
  },
  {
   "cell_type": "markdown",
   "metadata": {
    "ExecuteTime": {
     "end_time": "2018-10-25T08:00:36.505220Z",
     "start_time": "2018-10-25T08:00:36.491218Z"
    },
    "scrolled": true,
    "variables": {
     "float(bttr_nont_pct)": "96.32",
     "float(bttr_tus_pct)": "99.86"
    }
   },
   "source": [
    "Encouragingly, {{float(bttr_tus_pct)}}% and {{float(bttr_nont_pct)}}% - effectively all - teachers have indicated that the feedback they receive from CSOs has enabled them to be better teachers.\n",
    "\n",
    "Below we have sampled 20 of the examples teachers gave for how their teaching has improved as a result of the feedback."
   ]
  },
  {
   "cell_type": "code",
   "execution_count": 17,
   "metadata": {
    "ExecuteTime": {
     "end_time": "2018-10-26T17:47:52.109793Z",
     "start_time": "2018-10-26T17:47:52.093794Z"
    },
    "scrolled": false
   },
   "outputs": [
    {
     "name": "stdout",
     "output_type": "stream",
     "text": [
      "317    use the method to teach other classes I teach in upper.                                                                                                                                                                                                                                               \n",
      "438    the charts on infusion help me even in other learning areas and also use teaching and learning aids                                                                                                                                                                                                   \n",
      "375    Slow reaading among the learners                                                                                                                                                                                                                                                                      \n",
      "191    His advise on infusing the CBC aspects has really helped me to infuse CBC in other subjects and also use of a projector where sometimes i download some materials from internet.                                                                                                                      \n",
      "150    reviewed how to infuse the CBC im now keen when planning for the lesson ensuring that I infuse accordingily, I use tusome approach to help learners answer questions in other learning areas.                                                                                                         \n",
      "477    She told me that I used 30 minutes and I was right with time.                                                                                                                                                                                                                                         \n",
      "573    She told me to ensure that i give formative feedback to correct the learners all th times.                                                                                                                                                                                                            \n",
      "448    I use Direct INstruction in the other subjects.                                                                                                                                                                                                                                                       \n",
      "565    I use Tusome procedure in other lesson that is i do we do you do.                                                                                                                                                                                                                                     \n",
      "225    One of them is using charts, teaching aids i.e. i should have talking walls, lialia i.e. using real materials especially when i am teaching vocabulary words where applicable. He also advised on using teaching materials, schemes of work, lesson plans, progress records and updating the register.\n",
      "464    I use English to help children under other subjects eg cart in scernce                                                                                                                                                                                                                                \n",
      "657    Use of sounds, speed of teaching has improved to average perky pace                                                                                                                                                                                                                                   \n",
      "431    \"In other subjects like environmental there are also new words that learners need to read as well as know its meaningâ¦I use the advice of the CSO on how to teach vocabulary to make learning easy\\r\"                                                                                               \n",
      "667    The CSOs feedback on how to ifusing the CBC and intergrating one subject to others has helped me iprove my teaching even in other subjects.                                                                                                                                                           \n",
      "674    Using the feedback on how to ensure every learner participates in the lesson has helped improve reading in my class. Learners are now motivated and have a lot of interest in reading                                                                                                                 \n",
      "153    I have managed to reduce the time i take while teaching other subjects from the time he talked about the importance of perky pace in relation to pupils concentration                                                                                                                                 \n",
      "625    I find it easier to communicate with the learners since they have mastered how to read                                                                                                                                                                                                                \n",
      "679    like in environment and health education i have learnt to teach from known to unknow by enquiring what the learners know before explaining the new concept, i have also improved in planning other lessons from Tusome lessons                                                                        \n",
      "643    I had a problem with the pronounciation of sound/w/ and he corrected me using the sounds from the tablet                                                                                                                                                                                              \n",
      "686    when teaching comprehension ensure that pupils read fluently whille following punctuation mark                                                                                                                                                                                                        \n",
      "Name: cso_fdbk_better_det, dtype: object\n"
     ]
    }
   ],
   "source": [
    "# Printing sample of things teachers say they do better\n",
    "print(tchrs[tchrs.cso_fdbk_better_det.notna() & (tchrs.cso_fdbk_better_det != \"\")].cso_fdbk_better_det.sample(20))"
   ]
  },
  {
   "cell_type": "markdown",
   "metadata": {
    "ExecuteTime": {
     "end_time": "2018-10-25T08:20:22.847466Z",
     "start_time": "2018-10-25T08:20:22.839964Z"
    },
    "scrolled": true
   },
   "source": [
    "### CSOs' discussion of pupil fluency\n",
    "\n",
    "The ultimate goal of Tusome is to improve reading outcomes in grades 1-3. Whether the project has been successful is determined by the pupils' reading skills (with an emphasis on _oral reading fluency_, or ORF, and reading comprehension) as demonstrated by their performance on an early grade reading assessment (EGRA).\n",
    "\n",
    "For a CSO's visit to be considered _complete_ or _valid_, one of the criteria is that it include an assessment of the reading skills of three randomly-selected pupils. These pupils are then provided a stimulus that contains a brief reading passage of ~50-100 words. As they read aloud from the stimulus, the CSO uses the _Tangerine_ application on the tablet to make note of any inaccurately read words. When the child has finished reading - or when 60 seconds elapses, whichever comes first - the assessment is complete. The child's fluency is then calculated using the formula\n",
    "\n",
    "$$\\frac{\\text{# of correct words}}{\\big(\\frac{60 \\ - \\ \\text{time remaining (s)}}{60}\\big)} = \\text{correct words per minute}$$\n",
    "\n",
    "The _Tangerine_ software calculates the average fluency in _cwpm_ across all three pupils and reports it as part of the lesson feedback. The CSO is able - but not required - to bring up the pupils' fluency as part of their feedback session."
   ]
  },
  {
   "cell_type": "code",
   "execution_count": 18,
   "metadata": {
    "ExecuteTime": {
     "end_time": "2018-10-26T17:47:52.174617Z",
     "start_time": "2018-10-26T17:47:52.117794Z"
    },
    "scrolled": true
   },
   "outputs": [
    {
     "data": {
      "text/html": [
       "<div>\n",
       "<style scoped>\n",
       "    .dataframe tbody tr th:only-of-type {\n",
       "        vertical-align: middle;\n",
       "    }\n",
       "\n",
       "    .dataframe tbody tr th {\n",
       "        vertical-align: top;\n",
       "    }\n",
       "\n",
       "    .dataframe thead th {\n",
       "        text-align: right;\n",
       "    }\n",
       "</style>\n",
       "<table border=\"1\" class=\"dataframe\">\n",
       "  <thead>\n",
       "    <tr style=\"text-align: right;\">\n",
       "      <th></th>\n",
       "      <th>response</th>\n",
       "      <th>tchrs_responding</th>\n",
       "      <th>pct</th>\n",
       "    </tr>\n",
       "  </thead>\n",
       "  <tbody>\n",
       "    <tr>\n",
       "      <th>0</th>\n",
       "      <td>CSO discusses fluency in feedback session</td>\n",
       "      <td>706.0</td>\n",
       "      <td>92.05</td>\n",
       "    </tr>\n",
       "    <tr>\n",
       "      <th>1</th>\n",
       "      <td>Teacher finds discussion of fluency useful</td>\n",
       "      <td>710.0</td>\n",
       "      <td>92.57</td>\n",
       "    </tr>\n",
       "  </tbody>\n",
       "</table>\n",
       "</div>"
      ],
      "text/plain": [
       "                                     response  tchrs_responding    pct\n",
       "0  CSO discusses fluency in feedback session   706.0             92.05\n",
       "1  Teacher finds discussion of fluency useful  710.0             92.57"
      ]
     },
     "execution_count": 18,
     "metadata": {},
     "output_type": "execute_result"
    }
   ],
   "source": [
    "# Generating dataframe CSOs' discussions of fluency\n",
    "fluency_disc_df = pd.DataFrame.from_dict({\"response\": [\n",
    "    \"CSO discusses fluency in feedback session\",\n",
    "    \"Teacher finds discussion of fluency useful\"],\n",
    "    \"tchrs_responding\": [\n",
    "        tchrs[tchrs.vis_before != 0].cso_fdbk_discfluency.sum(),\n",
    "        tchrs[tchrs.vis_before != 0].cso_fdbk_flu_useful.sum()]})\n",
    "\n",
    "fluency_disc_df[\"pct\"] = np.round(100 * \n",
    "                        fluency_disc_df.tchrs_responding.apply(\n",
    "                            lambda x: x / (tchrs.vis_before.sum())), decimals=2)\n",
    "\n",
    "flu_cso_disc = fluency_disc_df[fluency_disc_df.response==\"CSO discusses fluency in feedback session\"].pct\n",
    "flu_disc_use = fluency_disc_df[fluency_disc_df.response==\"Teacher finds discussion of fluency useful\"].pct\n",
    "fluency_disc_df"
   ]
  },
  {
   "cell_type": "markdown",
   "metadata": {
    "variables": {
     "float(flu_cso_disc)": "92.05",
     "float(flu_disc_use)": "92.57"
    }
   },
   "source": [
    "It appears the overwhelming majority of CSOs ({{float(flu_cso_disc)}}%) discuss the pupils' fluency with the teachers, and the teachers overwhelmingly ({{float(flu_disc_use)}}%) find it a useful discussion. But how do teachers make use of that insight?\n",
    "\n",
    "Below we have sampled 20 of the examples teachers gave for what they do with knowledge of their pupils' fluency rates."
   ]
  },
  {
   "cell_type": "code",
   "execution_count": 19,
   "metadata": {
    "ExecuteTime": {
     "end_time": "2018-10-26T17:47:52.223120Z",
     "start_time": "2018-10-26T17:47:52.209120Z"
    },
    "scrolled": false
   },
   "outputs": [
    {
     "name": "stdout",
     "output_type": "stream",
     "text": [
      "376    to implement the feedback on the lesson.                                                                                                                                                                                                   \n",
      "397    I use the information to group my learners according to reading abiity to assist in specific learner needs                                                                                                                                 \n",
      "607    I do more practice with the pupils to raise their fluency levels.                                                                                                                                                                          \n",
      "343    i will see which learners in the class need special attention to improve their reading ability. i also provide suplimenatry readers to learners with reading challenges                                                                    \n",
      "477    The information helps me to know the weak readers so that I plan to help them                                                                                                                                                              \n",
      "623    I USE IT TO PLAN for ability grouping to improve reading speed                                                                                                                                                                             \n",
      "140    I will know how to assist the child to improve on fluency levels                                                                                                                                                                           \n",
      "615    Like if the pupils are not reading fluently I model using DIM.                                                                                                                                                                             \n",
      "499    it helps me plan and give them exercises to practice reading, i give support to the learners who are struggling                                                                                                                            \n",
      "723    help learners read faster                                                                                                                                                                                                                  \n",
      "482    it is encouraging to know they can read                                                                                                                                                                                                    \n",
      "396    help the learners improve in their reading speed                                                                                                                                                                                           \n",
      "310    I use it to better my lessons                                                                                                                                                                                                              \n",
      "236    Discuss with other teachers on reading benchmarks and how they can help the non readers                                                                                                                                                    \n",
      "754    I try to help those who are lagging behind in reading to improve and read fluently                                                                                                                                                         \n",
      "644    I create some extra time for those learners who cannot really read fluently                                                                                                                                                                \n",
      "778    I'm able to know what to concentrate on after the fluency level discussion.                                                                                                                                                                \n",
      "6      It is useful beacause i know the true picture of the pupils and i can guage the level of my learners, for example if the pupils have problems with some word, I always do a remendial and also i check for more details about the learners.\n",
      "783    If I get feedback that they are not reading at the benchmark, I try to help them improve                                                                                                                                                   \n",
      "735    The information helps me put more effort in improving my teaching methodology and in turn improve on the learners fluency                                                                                                                  \n",
      "Name: cso_fdbk_flu_dowith, dtype: object\n"
     ]
    }
   ],
   "source": [
    "# Printing a sample of teachers' responses re: what they do with knowledge of fluency\n",
    "print(tchrs[tchrs.cso_fdbk_flu_dowith.notna() & (tchrs.cso_fdbk_flu_dowith != \"\")].cso_fdbk_flu_dowith.sample(20))"
   ]
  },
  {
   "cell_type": "markdown",
   "metadata": {},
   "source": [
    "### Disruption caused by tablet use\n",
    "\n",
    "Pupils are easily distracted by the presence of unfamiliar adults in the classroom. However, if the adult sits quietly and unobtrusively in the rear of the classroom, the children rapidly become acclimated to the visitor's presence and are able to focus on the lesson.\n",
    "\n",
    "For many children in rural schools, however, tablet computers are an unfamiliar sight. Tusome was interested to know whether the CSOs' use of tablets to conduct the classroom observation or assess the pupils' fluency is perceived as disruptive."
   ]
  },
  {
   "cell_type": "code",
   "execution_count": 20,
   "metadata": {
    "ExecuteTime": {
     "end_time": "2018-10-26T17:47:52.276118Z",
     "start_time": "2018-10-26T17:47:52.227620Z"
    },
    "scrolled": true
   },
   "outputs": [
    {
     "data": {
      "text/html": [
       "<div>\n",
       "<style scoped>\n",
       "    .dataframe tbody tr th:only-of-type {\n",
       "        vertical-align: middle;\n",
       "    }\n",
       "\n",
       "    .dataframe tbody tr th {\n",
       "        vertical-align: top;\n",
       "    }\n",
       "\n",
       "    .dataframe thead th {\n",
       "        text-align: right;\n",
       "    }\n",
       "</style>\n",
       "<table border=\"1\" class=\"dataframe\">\n",
       "  <thead>\n",
       "    <tr style=\"text-align: right;\">\n",
       "      <th></th>\n",
       "      <th>case</th>\n",
       "      <th>distracting</th>\n",
       "      <th>pct</th>\n",
       "    </tr>\n",
       "  </thead>\n",
       "  <tbody>\n",
       "    <tr>\n",
       "      <th>0</th>\n",
       "      <td>CSO tablet use for observation</td>\n",
       "      <td>34</td>\n",
       "      <td>4.0</td>\n",
       "    </tr>\n",
       "    <tr>\n",
       "      <th>1</th>\n",
       "      <td>CSO tablet use for feedback</td>\n",
       "      <td>16</td>\n",
       "      <td>2.0</td>\n",
       "    </tr>\n",
       "  </tbody>\n",
       "</table>\n",
       "</div>"
      ],
      "text/plain": [
       "                             case  distracting  pct\n",
       "0  CSO tablet use for observation  34           4.0\n",
       "1  CSO tablet use for feedback     16           2.0"
      ]
     },
     "execution_count": 20,
     "metadata": {},
     "output_type": "execute_result"
    }
   ],
   "source": [
    "# Generating dataframe re: pupils' distraction due to tablet use\n",
    "tchr_dist_df = pd.DataFrame.from_dict({\n",
    "    \"case\": [\n",
    "        \"CSO tablet use for observation\",\n",
    "        \"CSO tablet use for feedback\"],\n",
    "    \"distracting\": [\n",
    "        int(tchrs[tchrs.vis_before != 0].cso_tab_distract_yn.sum()),\n",
    "        int(tchrs[tchrs.vis_before != 0].cso_tab_fdbk_distrac.sum())]})\n",
    "\n",
    "tchr_dist_df[\"pct\"] = 100 * np.round(tchr_dist_df.distracting.apply(\n",
    "    lambda x: x / tchrs.vis_before.sum()),\n",
    "             decimals=2)\n",
    "\n",
    "distracting_tab_obs = float(tchr_dist_df[tchr_dist_df.case==\"CSO tablet use for observation\"].pct)\n",
    "distracting_tab_fdbk = float(tchr_dist_df[tchr_dist_df.case==\"CSO tablet use for feedback\"].pct)\n",
    "\n",
    "tchr_dist_df"
   ]
  },
  {
   "cell_type": "markdown",
   "metadata": {
    "variables": {
     "distracting_tab_fdbk": "2.0",
     "distracting_tab_obs": "4.0"
    }
   },
   "source": [
    "Reassuringly, very few teachers responded that they find it distracting when the CSO used a tablet during observation or during feedback ({{distracting_tab_obs}}% and {{distracting_tab_fdbk}}%, respectively). It is worth considering why they found the tablet use distracting; because the numbers are so low, the lists below present all responses rather than just a sample."
   ]
  },
  {
   "cell_type": "code",
   "execution_count": 21,
   "metadata": {
    "ExecuteTime": {
     "end_time": "2018-10-26T17:47:52.328621Z",
     "start_time": "2018-10-26T17:47:52.311621Z"
    },
    "scrolled": true
   },
   "outputs": [
    {
     "name": "stdout",
     "output_type": "stream",
     "text": [
      "1      Pupils get attention of the tablet                                                                                                                                                          \n",
      "13     at times it is distracting when the CSO takes a photo using the tablet. This mostly affects the pupils. It was a challenge to me the first time she took the photos but now I am used to it.\n",
      "26     some learners look at the CSO at the back of the class as he he uses tablet hence distracting their attention                                                                               \n",
      "47     The curious one always keep on looking at the tablet instead of listening to me                                                                                                             \n",
      "89     Some of the children sitting next to the children get distraccted and stop looking and the board.They are are also not comfortable because they are not used to it.                         \n",
      "108    N/A s                                                                                                                                                                                       \n",
      "113    N/As                                                                                                                                                                                        \n",
      "132    Because the pupils keep on looking at the CSO and not the teacher when am teaching                                                                                                          \n",
      "148    N/A                                                                                                                                                                                         \n",
      "165    N/A                                                                                                                                                                                         \n",
      "224    Sometimes the learners try to look behind but i control them.                                                                                                                               \n",
      "231    sometimes the pupils are atrracted by the tablet as the CSO type                                                                                                                            \n",
      "264    N/A                                                                                                                                                                                         \n",
      "273    N/A                                                                                                                                                                                         \n",
      "278    Pupils are glued to the tablet.                                                                                                                                                             \n",
      "284    The kids concentrate on the tablet                                                                                                                                                          \n",
      "297    My pupils are eager to find out what the CSO is keying in the tablet                                                                                                                        \n",
      "298    My pupils would be interested to know more about the tablet and hence poor concentration during the lesson                                                                                  \n",
      "324    helps me put those with difficulties in reading under remedial                                                                                                                              \n",
      "341    N/A                                                                                                                                                                                         \n",
      "387    I m not used to it                                                                                                                                                                          \n",
      "596    Some pupils tend to concetrate at the CSO using the tablets behind the class while am teaching in class                                                                                     \n",
      "625    Sometimes my learners become interested in what the CSO is doing                                                                                                                            \n",
      "654    It creates curiosit to my learners                                                                                                                                                          \n",
      "676    sometimes the learners turn to see what the CSo is doing, for me its not                                                                                                                    \n",
      "728    The table diverts the learners attention and they will not concentrate on the lesson i am teaching                                                                                          \n",
      "774    This is because i have a class of 71 learners and the ones who were near the CSO, were being distracted by the CSO's tablet. Majority of the learners were OK                               \n",
      "Name: cso_tab_distract_why, dtype: object\n"
     ]
    }
   ],
   "source": [
    "# Printing the reasons teachers think the tablets are distracting during observations\n",
    "print(tchrs[(tchrs.cso_tab_distract_why != \"\") & tchrs.cso_tab_distract_why.notna()].cso_tab_distract_why)"
   ]
  },
  {
   "cell_type": "code",
   "execution_count": 22,
   "metadata": {
    "ExecuteTime": {
     "end_time": "2018-10-26T17:47:52.351620Z",
     "start_time": "2018-10-26T17:47:52.334621Z"
    },
    "scrolled": true
   },
   "outputs": [
    {
     "name": "stdout",
     "output_type": "stream",
     "text": [
      "35     it arouses curiosity therefore disrupt concentration of the learners                                                                                                                                                                                                         \n",
      "50     I am distracted because i don't know what he will tell me                                                                                                                                                                                                                    \n",
      "176    Because i am not aware what he is doing with the tablet but if both are looking at it, i will not find it distracting                                                                                                                                                        \n",
      "206    My thinking is that the CSO is recording me and can be used in other places                                                                                                                                                                                                  \n",
      "241    When he is giving me feedback find it distracting that the CSO has to keep on looking on the tablet, I wonder what he is looking at or reading from the tablet. I prefer that he uses a a hardcopy of a real book not from his tablet since i cant see what he is looking at.\n",
      "423    N/A                                                                                                                                                                                                                                                                          \n",
      "522    No                                                                                                                                                                                                                                                                           \n",
      "749    N/A                                                                                                                                                                                                                                                                          \n",
      "Name: cso_fdbk_tab_diswhy, dtype: object\n"
     ]
    }
   ],
   "source": [
    "# Printing the reasons teachers feel the tablet use during feedback is distracting\n",
    "print(tchrs[(tchrs.cso_fdbk_tab_diswhy != \"\") & tchrs.cso_fdbk_tab_diswhy.notna()].cso_fdbk_tab_diswhy)"
   ]
  },
  {
   "cell_type": "markdown",
   "metadata": {},
   "source": [
    "While these results are encouraging, it may be that CSOs' tablet use is more distracting when it is the pupils themselves who are the object of the CSO's attention. We asked teachers whether they were present during the assessment of pupils' reading skills, and if so, whether it was their sense that pupils were distracted by the tablet use."
   ]
  },
  {
   "cell_type": "code",
   "execution_count": 23,
   "metadata": {
    "ExecuteTime": {
     "end_time": "2018-10-26T17:47:52.404120Z",
     "start_time": "2018-10-26T17:47:52.357119Z"
    },
    "scrolled": true
   },
   "outputs": [
    {
     "data": {
      "text/html": [
       "<div>\n",
       "<style scoped>\n",
       "    .dataframe tbody tr th:only-of-type {\n",
       "        vertical-align: middle;\n",
       "    }\n",
       "\n",
       "    .dataframe tbody tr th {\n",
       "        vertical-align: top;\n",
       "    }\n",
       "\n",
       "    .dataframe thead th {\n",
       "        text-align: right;\n",
       "    }\n",
       "</style>\n",
       "<table border=\"1\" class=\"dataframe\">\n",
       "  <thead>\n",
       "    <tr style=\"text-align: right;\">\n",
       "      <th></th>\n",
       "      <th>response</th>\n",
       "      <th>tchrs_responding</th>\n",
       "      <th>numerator</th>\n",
       "      <th>pct</th>\n",
       "    </tr>\n",
       "  </thead>\n",
       "  <tbody>\n",
       "    <tr>\n",
       "      <th>0</th>\n",
       "      <td>Teacher observed the assessment</td>\n",
       "      <td>449</td>\n",
       "      <td>767</td>\n",
       "      <td>59.0</td>\n",
       "    </tr>\n",
       "    <tr>\n",
       "      <th>1</th>\n",
       "      <td>Pupils found the tablet distracting</td>\n",
       "      <td>98</td>\n",
       "      <td>449</td>\n",
       "      <td>22.0</td>\n",
       "    </tr>\n",
       "  </tbody>\n",
       "</table>\n",
       "</div>"
      ],
      "text/plain": [
       "                              response  tchrs_responding  numerator   pct\n",
       "0  Teacher observed the assessment      449               767        59.0\n",
       "1  Pupils found the tablet distracting  98                449        22.0"
      ]
     },
     "execution_count": 23,
     "metadata": {},
     "output_type": "execute_result"
    }
   ],
   "source": [
    "# Generating dataframe re: pupils' distraction due to tablet use during assessment\n",
    "pupil_dist_df = pd.DataFrame.from_dict({\n",
    "    \"response\": [\n",
    "        \"Teacher observed the assessment\",\n",
    "        \"Pupils found the tablet distracting\"],\n",
    "    \"tchrs_responding\": [\n",
    "        int(tchrs[tchrs.vis_before != 0].cso_pres_ass_tab.sum()),\n",
    "        int(tchrs[tchrs.vis_before != 0].cso_pup_distract_ass.sum())]})\n",
    "\n",
    "pupil_dist_df[\"numerator\"] = [\n",
    "    int(tchrs.vis_before.sum()),\n",
    "    int(pupil_dist_df[pupil_dist_df.response==\"Teacher observed the assessment\"].tchrs_responding)]\n",
    "\n",
    "pupil_dist_df[\"pct\"] = 100 * np.round(pupil_dist_df.tchrs_responding / pupil_dist_df.numerator, 2)\n",
    "\n",
    "tchrs_obsd_assmt = int(pupil_dist_df[pupil_dist_df.response==\"Teacher observed the assessment\"].pct)\n",
    "pupils_distracted = int(pupil_dist_df[pupil_dist_df.response==\"Pupils found the tablet distracting\"].pct)\n",
    "\n",
    "pupil_dist_df"
   ]
  },
  {
   "cell_type": "markdown",
   "metadata": {
    "ExecuteTime": {
     "end_time": "2018-10-25T09:43:54.269939Z",
     "start_time": "2018-10-25T09:43:54.259439Z"
    },
    "variables": {
     "pupils_distracted": "22",
     "tchrs_obsd_assmt": "59"
    }
   },
   "source": [
    "Roughly {{tchrs_obsd_assmt}}% of the teachers said they had observed the CSO's assessment of the pupils' reading skills. Of those, {{pupils_distracted}}% thought the pupils found the tablet distracting. This may suggest a need for Tusome to provide additional training or orientation to CSOs on best practices in assessment administration.\n",
    "\n",
    "Below we sample 20 of the reasons teachers provided for why they thought pupils found tablet use distracting during the assessment."
   ]
  },
  {
   "cell_type": "code",
   "execution_count": 24,
   "metadata": {
    "ExecuteTime": {
     "end_time": "2018-10-26T17:47:52.447121Z",
     "start_time": "2018-10-26T17:47:52.434121Z"
    }
   },
   "outputs": [
    {
     "name": "stdout",
     "output_type": "stream",
     "text": [
      "102    N/A                                                                                                                                                     \n",
      "176    N/A                                                                                                                                                     \n",
      "647    they are excited to see a visitor and the concetration is low                                                                                           \n",
      "191    I only find it distracting when the learners are reading on the tablet directly but today it was NOT since the learners were reading on a printed paper.\n",
      "63     i find the CSOs use of the tablet to assess learners create fear or anxiety among learners because the learners feel them as strangers                  \n",
      "202    The learner is used to reading on paper, so when the CSO asked them to read on the tablet it was distracting because this is not what they are used to. \n",
      "382    some are distracted from reading and stare at the tablet                                                                                                \n",
      "740    writing on the chalkboard/ text is different from the wiring in the tablet and pupils get excited                                                       \n",
      "523    Some of the pupils panic and are not able to read fluently when they use the device to read since they are not used to reading from the Tablet.         \n",
      "567    The pupils were intrested in the tablet more than reading                                                                                               \n",
      "295    Students just look at what the CSO is doing instead on concentrating with what the teacher is teaching.                                                 \n",
      "395    It was their first time to see the tablet and are not used to the CSO.                                                                                  \n",
      "390    They are not used to the tablet.                                                                                                                        \n",
      "442    My learners are always wondering what the CSO is doing on the tablet                                                                                    \n",
      "433    their concentration was more on the tablet than the stimulus.It raised anxiety among pupils                                                             \n",
      "290    the tablet was distracting as they were not used to it                                                                                                  \n",
      "825    n/a                                                                                                                                                     \n",
      "65     The CSO tablets draws attension to my student and they look back often                                                                                  \n",
      "317    THEY ARE NOT USED TO THE GADGETS                                                                                                                        \n",
      "201    N/ A.                                                                                                                                                   \n",
      "Name: cso_pup_dist_why, dtype: object\n"
     ]
    }
   ],
   "source": [
    "# Printing a sample of the reasons teachers think pupils find the tablet distracting\n",
    "print(tchrs[(tchrs.cso_pup_dist_why != \"\") & tchrs.cso_pup_dist_why.notna()].cso_pup_dist_why.sample(20))"
   ]
  },
  {
   "cell_type": "markdown",
   "metadata": {},
   "source": [
    "### Teachers' ongoing assessment of pupil fluency\n",
    "\n",
    "Teachers are fully capable of assessing their pupils' reading fluency without recourse to a tablet. However, RTI has experimented with an Android-based pupil performance tracking tool that might be of use to teachers. Therefore we were interested to understand the extent to which teachers are already assessing pupils' fluency, what tools they are using for the task, whether they have access to phones on which such a tool could be deployed, and whether they would want to use it if so."
   ]
  },
  {
   "cell_type": "code",
   "execution_count": 25,
   "metadata": {
    "ExecuteTime": {
     "end_time": "2018-10-26T17:47:52.463619Z",
     "start_time": "2018-10-26T17:47:52.451621Z"
    }
   },
   "outputs": [],
   "source": [
    "# Calculating proportion of teachers who assess their pupils' fluency\n",
    "tchrs_assessing = 100 * np.round(tchrs.tchr_ass_pup_flu_yn.sum() / tchrs.shape[0], decimals=2)"
   ]
  },
  {
   "cell_type": "markdown",
   "metadata": {
    "variables": {
     "int(tchrs_assessing)": "91"
    }
   },
   "source": [
    "Roughly {{int(tchrs_assessing)}}% of teachers we spoke to indicated they assess their pupils' fluency. When asked to specify what tools they use for the task, they specified the following."
   ]
  },
  {
   "cell_type": "code",
   "execution_count": 26,
   "metadata": {
    "ExecuteTime": {
     "end_time": "2018-10-26T17:47:52.504621Z",
     "start_time": "2018-10-26T17:47:52.487644Z"
    }
   },
   "outputs": [
    {
     "name": "stdout",
     "output_type": "stream",
     "text": [
      "188    I do oral reading exams set at the zone level                                                                                                                                                                \n",
      "19     I call them one by one to read for others in class, i use the tusome text books and story books.                                                                                                             \n",
      "117    I use flip charts with words written on it                                                                                                                                                                   \n",
      "238    In the afternoon take the weak leaners and help them to be able to read then i access them using Tusome books. This is because i don't want when the CSO comes again these pupils who cant read embarrase me.\n",
      "388    give short stories for them to read                                                                                                                                                                          \n",
      "187    I use reading exam that are brought. I also make charts for children to read.                                                                                                                                \n",
      "72     I give homework to the pupils                                                                                                                                                                                \n",
      "243    I call the pupils and ask them to read for me. I time them using a phone, I put on the timer and then set the time.                                                                                          \n",
      "387    Exam papers we buy-the reading part.                                                                                                                                                                         \n",
      "752    I use the Tusome books to assess their reading and I time them                                                                                                                                               \n",
      "414    I tell the speed by estimating from the way pupils read.                                                                                                                                                     \n",
      "708    Exam papers at end of term.                                                                                                                                                                                  \n",
      "206    I use the passages in the text books and time pupils as they read                                                                                                                                            \n",
      "335    I give them passage from the text book and I use my phone to time them.                                                                                                                                      \n",
      "607    I use the day 5 lesson content to test the pupils to see if they got the week's content as I mark their knowledge of letters, sounds and reading.                                                            \n",
      "375    Flash cards                                                                                                                                                                                                  \n",
      "176    Stories from past exam papers.                                                                                                                                                                               \n",
      "93     i use reading materials only                                                                                                                                                                                 \n",
      "294    They are given a reading exam. The teacher writes words on the board and asks them to read. There is also dictation.                                                                                         \n",
      "558    I used the stories and words where the learners read for me but i don't time them .                                                                                                                          \n",
      "Name: tchr_ass_pup_tools, dtype: object\n"
     ]
    }
   ],
   "source": [
    "# Printing sample of tools teachers use to assess pupils' fluency\n",
    "print(tchrs[(tchrs.tchr_ass_pup_flu_yn != 0) & (tchrs.tchr_ass_pup_tools != \"\") & tchrs.tchr_ass_pup_tools.notna()].tchr_ass_pup_tools.sample(20))"
   ]
  },
  {
   "cell_type": "code",
   "execution_count": 27,
   "metadata": {
    "ExecuteTime": {
     "end_time": "2018-10-26T17:47:52.536636Z",
     "start_time": "2018-10-26T17:47:52.510120Z"
    }
   },
   "outputs": [
    {
     "data": {
      "text/html": [
       "<div>\n",
       "<style scoped>\n",
       "    .dataframe tbody tr th:only-of-type {\n",
       "        vertical-align: middle;\n",
       "    }\n",
       "\n",
       "    .dataframe tbody tr th {\n",
       "        vertical-align: top;\n",
       "    }\n",
       "\n",
       "    .dataframe thead th {\n",
       "        text-align: right;\n",
       "    }\n",
       "</style>\n",
       "<table border=\"1\" class=\"dataframe\">\n",
       "  <thead>\n",
       "    <tr style=\"text-align: right;\">\n",
       "      <th></th>\n",
       "      <th>response</th>\n",
       "      <th>tchrs_responding</th>\n",
       "      <th>pct</th>\n",
       "    </tr>\n",
       "  </thead>\n",
       "  <tbody>\n",
       "    <tr>\n",
       "      <th>0</th>\n",
       "      <td>Teacher has a phone</td>\n",
       "      <td>814.0</td>\n",
       "      <td>98.0</td>\n",
       "    </tr>\n",
       "    <tr>\n",
       "      <th>1</th>\n",
       "      <td>Phone is an Android</td>\n",
       "      <td>654.0</td>\n",
       "      <td>79.0</td>\n",
       "    </tr>\n",
       "    <tr>\n",
       "      <th>2</th>\n",
       "      <td>Teacher would like a tool</td>\n",
       "      <td>813.0</td>\n",
       "      <td>98.0</td>\n",
       "    </tr>\n",
       "  </tbody>\n",
       "</table>\n",
       "</div>"
      ],
      "text/plain": [
       "                    response  tchrs_responding   pct\n",
       "0  Teacher has a phone        814.0             98.0\n",
       "1  Phone is an Android        654.0             79.0\n",
       "2  Teacher would like a tool  813.0             98.0"
      ]
     },
     "execution_count": 27,
     "metadata": {},
     "output_type": "execute_result"
    }
   ],
   "source": [
    "# Generating dataframe of teachers' access to phones and interest in a tool\n",
    "tang_tool_df = pd.DataFrame.from_dict({\n",
    "    \"response\": [\"Teacher has a phone\",\n",
    "                 \"Phone is an Android\",\n",
    "                 \"Teacher would like a tool\"],\n",
    "    \"tchrs_responding\": [\n",
    "        tchrs.tch_mob_phone.sum(),\n",
    "        tchrs.tch_has_android.sum(),\n",
    "        tchrs.tch_wants_assess.sum()]})\n",
    "\n",
    "tang_tool_df[\"pct\"] = 100 * np.round(tang_tool_df.tchrs_responding.apply(lambda x: x / tchrs.shape[0]), decimals=2)\n",
    "tang_tool_df"
   ]
  },
  {
   "cell_type": "markdown",
   "metadata": {},
   "source": [
    "Nearly all teachers interviewed indicated they have access to a mobile phone; nearly 4 out of 5 teachers indicated their phone is an Android. Nearly all teachers - even those who don't have an Android - said they would like to have access to a tool that would provide them sample assessments they could do with their pupils."
   ]
  },
  {
   "cell_type": "markdown",
   "metadata": {},
   "source": [
    "## CSO Instrument"
   ]
  },
  {
   "cell_type": "markdown",
   "metadata": {
    "ExecuteTime": {
     "end_time": "2018-10-12T13:38:15.821761Z",
     "start_time": "2018-10-12T13:38:15.784758Z"
    }
   },
   "source": [
    "Here we begin exploring the data we obtained from interviewing the CSOs."
   ]
  },
  {
   "cell_type": "markdown",
   "metadata": {},
   "source": [
    "### Length of experience using tablet-based Tangerine\n",
    "_When did you first receive a tablet from Tusome or PRIMR?_\n",
    "\n",
    "We want to convert the year/month CSOs provided into a number so we can work with it easily. We'll make the simplifying assumption that the tablet was received on the first day of the month they provided, and that this interview was conducted on the first day of the month. Neither of those are true, but the marginal days are unlikely to make a practical difference in a CSO's facility with the tool."
   ]
  },
  {
   "cell_type": "code",
   "execution_count": 28,
   "metadata": {
    "ExecuteTime": {
     "end_time": "2018-10-26T17:47:52.555636Z",
     "start_time": "2018-10-26T17:47:52.541634Z"
    },
    "scrolled": true
   },
   "outputs": [],
   "source": [
    "now = dt.datetime(2018, 10, 1)\n",
    "csos[\"tab_usage\"] = pd.to_timedelta(now - pd.to_datetime({\"year\": csos.recd_tab_yr, \"month\": csos.recd_tab_month, \"day\": 1})).dt.days"
   ]
  },
  {
   "cell_type": "markdown",
   "metadata": {
    "ExecuteTime": {
     "end_time": "2018-10-18T06:22:41.067578Z",
     "start_time": "2018-10-18T06:22:41.040577Z"
    }
   },
   "source": [
    "We'll also want to convert the duration to months, since that will be easier to digest, and filter out any missing values."
   ]
  },
  {
   "cell_type": "code",
   "execution_count": 29,
   "metadata": {
    "ExecuteTime": {
     "end_time": "2018-10-26T17:47:52.579639Z",
     "start_time": "2018-10-26T17:47:52.559634Z"
    },
    "scrolled": false
   },
   "outputs": [],
   "source": [
    "tab_usage = pd.DataFrame(csos[csos.tab_usage.notna()].tab_usage / 30)\n",
    "# tab_usage"
   ]
  },
  {
   "cell_type": "code",
   "execution_count": 30,
   "metadata": {
    "ExecuteTime": {
     "end_time": "2018-10-26T17:47:52.611637Z",
     "start_time": "2018-10-26T17:47:52.584634Z"
    },
    "scrolled": true
   },
   "outputs": [
    {
     "data": {
      "application/javascript": [
       "var spec = {\"config\": {\"view\": {\"width\": 400, \"height\": 300}}, \"data\": {\"name\": \"data-3b244c189a682ad7e2da9b5f2e9abe5c\"}, \"mark\": \"bar\", \"encoding\": {\"x\": {\"type\": \"quantitative\", \"bin\": {\"step\": 1}, \"field\": \"tab_usage\", \"title\": \"# Months has had a tablet\"}, \"y\": {\"type\": \"quantitative\", \"aggregate\": \"count\", \"title\": \"# of CSOs\"}}, \"title\": \"Distribution of CSO tablet usage, months\", \"$schema\": \"https://vega.github.io/schema/vega-lite/v2.6.0.json\", \"datasets\": {\"data-3b244c189a682ad7e2da9b5f2e9abe5c\": [{\"tab_usage\": 44.6}, {\"tab_usage\": 46.666666666666664}, {\"tab_usage\": 5.1}, {\"tab_usage\": 26.366666666666667}, {\"tab_usage\": 18.266666666666666}, {\"tab_usage\": 2.033333333333333}, {\"tab_usage\": 26.366666666666667}, {\"tab_usage\": 42.63333333333333}, {\"tab_usage\": 42.63333333333333}, {\"tab_usage\": 32.43333333333333}, {\"tab_usage\": 41.63333333333333}, {\"tab_usage\": 20.233333333333334}, {\"tab_usage\": 17.266666666666666}, {\"tab_usage\": 18.266666666666666}, {\"tab_usage\": 15.233333333333333}, {\"tab_usage\": 14.2}, {\"tab_usage\": 38.56666666666667}, {\"tab_usage\": 42.63333333333333}, {\"tab_usage\": 2.033333333333333}, {\"tab_usage\": 41.63333333333333}, {\"tab_usage\": 42.63333333333333}, {\"tab_usage\": 41.63333333333333}, {\"tab_usage\": 46.666666666666664}, {\"tab_usage\": 6.1}, {\"tab_usage\": 42.63333333333333}, {\"tab_usage\": 26.366666666666667}, {\"tab_usage\": 21.266666666666666}, {\"tab_usage\": 41.63333333333333}, {\"tab_usage\": 41.63333333333333}, {\"tab_usage\": 30.433333333333334}, {\"tab_usage\": 42.63333333333333}, {\"tab_usage\": 42.63333333333333}, {\"tab_usage\": 26.366666666666667}, {\"tab_usage\": 25.333333333333332}, {\"tab_usage\": 19.3}, {\"tab_usage\": 25.333333333333332}, {\"tab_usage\": 45.63333333333333}, {\"tab_usage\": 19.3}, {\"tab_usage\": 50.733333333333334}, {\"tab_usage\": 41.63333333333333}, {\"tab_usage\": 42.63333333333333}, {\"tab_usage\": 45.63333333333333}, {\"tab_usage\": 21.266666666666666}, {\"tab_usage\": 42.63333333333333}, {\"tab_usage\": 25.333333333333332}, {\"tab_usage\": 17.266666666666666}, {\"tab_usage\": 41.63333333333333}, {\"tab_usage\": 41.63333333333333}, {\"tab_usage\": 42.63333333333333}, {\"tab_usage\": 25.333333333333332}, {\"tab_usage\": 19.3}, {\"tab_usage\": 30.433333333333334}, {\"tab_usage\": 16.233333333333334}, {\"tab_usage\": 41.63333333333333}, {\"tab_usage\": 41.63333333333333}, {\"tab_usage\": 42.63333333333333}, {\"tab_usage\": 41.63333333333333}, {\"tab_usage\": 36.53333333333333}, {\"tab_usage\": 42.63333333333333}, {\"tab_usage\": 22.3}, {\"tab_usage\": 40.6}, {\"tab_usage\": 40.6}, {\"tab_usage\": 29.433333333333334}, {\"tab_usage\": 40.6}, {\"tab_usage\": 42.63333333333333}, {\"tab_usage\": 54.8}, {\"tab_usage\": 42.63333333333333}, {\"tab_usage\": 19.3}, {\"tab_usage\": 41.63333333333333}, {\"tab_usage\": 42.63333333333333}, {\"tab_usage\": 42.63333333333333}, {\"tab_usage\": 48.7}, {\"tab_usage\": 26.366666666666667}, {\"tab_usage\": 42.63333333333333}, {\"tab_usage\": 42.63333333333333}, {\"tab_usage\": 15.233333333333333}, {\"tab_usage\": 17.266666666666666}, {\"tab_usage\": 42.63333333333333}, {\"tab_usage\": 19.3}, {\"tab_usage\": 42.63333333333333}, {\"tab_usage\": 41.63333333333333}, {\"tab_usage\": 5.1}, {\"tab_usage\": 17.266666666666666}, {\"tab_usage\": 34.5}, {\"tab_usage\": 17.266666666666666}, {\"tab_usage\": 25.333333333333332}, {\"tab_usage\": 42.63333333333333}, {\"tab_usage\": 25.333333333333332}, {\"tab_usage\": 1.0}, {\"tab_usage\": 41.63333333333333}, {\"tab_usage\": 41.63333333333333}, {\"tab_usage\": 41.63333333333333}, {\"tab_usage\": 16.233333333333334}, {\"tab_usage\": 15.233333333333333}, {\"tab_usage\": 22.3}, {\"tab_usage\": 13.166666666666666}, {\"tab_usage\": 8.066666666666666}, {\"tab_usage\": 4.066666666666666}, {\"tab_usage\": 41.63333333333333}, {\"tab_usage\": 34.5}, {\"tab_usage\": 2.033333333333333}, {\"tab_usage\": 30.433333333333334}, {\"tab_usage\": 41.63333333333333}, {\"tab_usage\": 41.63333333333333}, {\"tab_usage\": 37.53333333333333}, {\"tab_usage\": 42.63333333333333}, {\"tab_usage\": 5.1}, {\"tab_usage\": 46.666666666666664}, {\"tab_usage\": 5.1}, {\"tab_usage\": 16.233333333333334}, {\"tab_usage\": 41.63333333333333}, {\"tab_usage\": 13.166666666666666}, {\"tab_usage\": 20.233333333333334}, {\"tab_usage\": 41.63333333333333}, {\"tab_usage\": 41.63333333333333}, {\"tab_usage\": 29.433333333333334}, {\"tab_usage\": 42.63333333333333}, {\"tab_usage\": 42.63333333333333}, {\"tab_usage\": 38.56666666666667}, {\"tab_usage\": 27.4}, {\"tab_usage\": 42.63333333333333}, {\"tab_usage\": 41.63333333333333}, {\"tab_usage\": 41.63333333333333}, {\"tab_usage\": 41.63333333333333}, {\"tab_usage\": 41.63333333333333}, {\"tab_usage\": 42.63333333333333}, {\"tab_usage\": 26.366666666666667}]}};\n",
       "var opt = {};\n",
       "var type = \"vega-lite\";\n",
       "var id = \"f41e5d18-8b88-46c9-8e3e-06b2d15d497c\";\n",
       "\n",
       "var output_area = this;\n",
       "\n",
       "require([\"nbextensions/jupyter-vega/index\"], function(vega) {\n",
       "  var target = document.createElement(\"div\");\n",
       "  target.id = id;\n",
       "  target.className = \"vega-embed\";\n",
       "\n",
       "  var style = document.createElement(\"style\");\n",
       "  style.textContent = [\n",
       "    \".vega-embed .error p {\",\n",
       "    \"  color: firebrick;\",\n",
       "    \"  font-size: 14px;\",\n",
       "    \"}\",\n",
       "  ].join(\"\\\\n\");\n",
       "\n",
       "  // element is a jQuery wrapped DOM element inside the output area\n",
       "  // see http://ipython.readthedocs.io/en/stable/api/generated/\\\n",
       "  // IPython.display.html#IPython.display.Javascript.__init__\n",
       "  element[0].appendChild(target);\n",
       "  element[0].appendChild(style);\n",
       "\n",
       "  vega.render(\"#\" + id, spec, type, opt, output_area);\n",
       "}, function (err) {\n",
       "  if (err.requireType !== \"scripterror\") {\n",
       "    throw(err);\n",
       "  }\n",
       "});\n"
      ],
      "text/plain": [
       "<vega.vegalite.VegaLite at 0x1f5e6a2d6d8>"
      ]
     },
     "metadata": {
      "jupyter-vega": "#f41e5d18-8b88-46c9-8e3e-06b2d15d497c"
     },
     "output_type": "display_data"
    },
    {
     "data": {
      "text/plain": []
     },
     "execution_count": 30,
     "metadata": {},
     "output_type": "execute_result"
    },
    {
     "data": {
      "image/png": "[encoded data removed]"
     },
     "metadata": {
      "jupyter-vega": "#f41e5d18-8b88-46c9-8e3e-06b2d15d497c"
     },
     "output_type": "display_data"
    }
   ],
   "source": [
    "alt.Chart(tab_usage, title=\"Distribution of CSO tablet usage, months\").mark_bar().encode(\n",
    "    alt.X(\"tab_usage:Q\", \n",
    "          bin=alt.BinParams(step=1), title=\"# Months has had a tablet\"),\n",
    "    alt.Y(\"count()\", title=\"# of CSOs\"))"
   ]
  },
  {
   "cell_type": "markdown",
   "metadata": {
    "ExecuteTime": {
     "end_time": "2018-10-18T06:06:58.475520Z",
     "start_time": "2018-10-18T06:06:58.294467Z"
    },
    "variables": {
     "int(tab_usage.tab_usage.mode()[0])": "41",
     "np.round(tab_usage.tab_usage.mode()[0]/12, decimals=1)": "3.5"
    }
   },
   "source": [
    "We see that the majority of our CSOs have had their tablets for roughly {{int(tab_usage.tab_usage.mode()[0])}} months ({{np.round(tab_usage.tab_usage.mode()[0]/12, decimals=1)}} years). This is in keeping with the beginning of the Tusome program, and is as expected. CSOs who have had their tablets for longer are likely veterans of the PRIMR program (Tusome's predecessor); those who have had tablets for fewer months may have assumed their roles more recently. (CSO turnover due to retirement, promotion, maternity leave, etc. is an issue which Tusome is constantly needing to manage.)"
   ]
  },
  {
   "cell_type": "markdown",
   "metadata": {
    "ExecuteTime": {
     "end_time": "2018-10-12T13:38:15.821761Z",
     "start_time": "2018-10-12T13:38:15.784758Z"
    }
   },
   "source": [
    "### Proportion of CSOs reporting use of each application\n",
    "\n",
    "_Which applications do you use frequently when supporting teachers? ...After recording unprompted responses, read the list of options and record responses._\n",
    "  + Tangerine Tutor\n",
    "  + Papaya\n",
    "  + Tusome Books (in Adobe Acrobat)\n",
    "  + Tusome Videos (in MX Player)\n",
    "\n",
    "The CSOs' tablets come equipped with several tools meant to support their efforts as instructional coaches. These include the [_Tangerine:Tutor_](http://www.tangerinecentral.org/tutor/) application, the [_Papaya_](http://schoolsnetkenya.com/tusome-early-literacy-programme-sounds-application/) application, PDF versions of Tusome's instructional materials (pupil's books and teacher's guides), and videos that model effective instructional delivery.\n",
    "\n",
    "We are interested in which of those tools CSOs use, and how frequently. We will provide an analysis of their unprompted free-response answers to the question above. For the moment, we note the tools they said they use when we explicitly prompted them with the list of tools available."
   ]
  },
  {
   "cell_type": "code",
   "execution_count": 31,
   "metadata": {
    "ExecuteTime": {
     "end_time": "2018-10-26T17:47:52.664671Z",
     "start_time": "2018-10-26T17:47:52.648668Z"
    },
    "scrolled": true
   },
   "outputs": [],
   "source": [
    "app_users = {\"tutor\": csos.freqapps_tt_promp.sum(),\n",
    "         \"papaya\": csos.freqapps_papaya_promp.sum(),\n",
    "         \"books\": csos.freqapps_bks_promp.sum(),\n",
    "         \"videos\": csos.freqapps_vids_promp.sum()}\n",
    "app_usage = pd.DataFrame.from_dict(app_users, orient=\"index\", columns=[\"ct\"])\n",
    "app_usage[\"pct\"] = 100 * np.round(app_usage[\"ct\"] / csos.shape[0], decimals=3)\n",
    "app_usage = app_usage.rename_axis(\"app\").reset_index()"
   ]
  },
  {
   "cell_type": "code",
   "execution_count": 32,
   "metadata": {
    "ExecuteTime": {
     "end_time": "2018-10-26T17:47:52.713113Z",
     "start_time": "2018-10-26T17:47:52.674666Z"
    },
    "scrolled": true
   },
   "outputs": [
    {
     "data": {
      "application/javascript": [
       "var spec = {\"config\": {\"view\": {\"width\": 400, \"height\": 300}}, \"data\": {\"name\": \"data-f6b7acbba767f6c75f5ce80c9b10b3db\"}, \"mark\": \"bar\", \"encoding\": {\"tooltip\": {\"type\": \"quantitative\", \"field\": \"pct\"}, \"x\": {\"type\": \"quantitative\", \"field\": \"pct\", \"title\": \"% of CSOs reporting usage\"}, \"y\": {\"type\": \"ordinal\", \"field\": \"app\", \"sort\": {\"op\": \"values\", \"field\": \"pct\", \"order\": \"ascending\"}, \"title\": \"Application\"}}, \"title\": \"Proportion of CSOs reporting tool usage\", \"$schema\": \"https://vega.github.io/schema/vega-lite/v2.6.0.json\", \"datasets\": {\"data-f6b7acbba767f6c75f5ce80c9b10b3db\": [{\"app\": \"tutor\", \"ct\": 141, \"pct\": 92.2}, {\"app\": \"papaya\", \"ct\": 141, \"pct\": 92.2}, {\"app\": \"books\", \"ct\": 130, \"pct\": 85.0}, {\"app\": \"videos\", \"ct\": 125, \"pct\": 81.69999999999999}]}};\n",
       "var opt = {};\n",
       "var type = \"vega-lite\";\n",
       "var id = \"2b12e1af-13cf-4d4a-8ed9-41b48e3b498c\";\n",
       "\n",
       "var output_area = this;\n",
       "\n",
       "require([\"nbextensions/jupyter-vega/index\"], function(vega) {\n",
       "  var target = document.createElement(\"div\");\n",
       "  target.id = id;\n",
       "  target.className = \"vega-embed\";\n",
       "\n",
       "  var style = document.createElement(\"style\");\n",
       "  style.textContent = [\n",
       "    \".vega-embed .error p {\",\n",
       "    \"  color: firebrick;\",\n",
       "    \"  font-size: 14px;\",\n",
       "    \"}\",\n",
       "  ].join(\"\\\\n\");\n",
       "\n",
       "  // element is a jQuery wrapped DOM element inside the output area\n",
       "  // see http://ipython.readthedocs.io/en/stable/api/generated/\\\n",
       "  // IPython.display.html#IPython.display.Javascript.__init__\n",
       "  element[0].appendChild(target);\n",
       "  element[0].appendChild(style);\n",
       "\n",
       "  vega.render(\"#\" + id, spec, type, opt, output_area);\n",
       "}, function (err) {\n",
       "  if (err.requireType !== \"scripterror\") {\n",
       "    throw(err);\n",
       "  }\n",
       "});\n"
      ],
      "text/plain": [
       "<vega.vegalite.VegaLite at 0x1f5e67a8908>"
      ]
     },
     "metadata": {
      "jupyter-vega": "#2b12e1af-13cf-4d4a-8ed9-41b48e3b498c"
     },
     "output_type": "display_data"
    },
    {
     "data": {
      "text/plain": []
     },
     "execution_count": 32,
     "metadata": {},
     "output_type": "execute_result"
    },
    {
     "data": {
      "image/png": "[encoded data removed]"
     },
     "metadata": {
      "jupyter-vega": "#2b12e1af-13cf-4d4a-8ed9-41b48e3b498c"
     },
     "output_type": "display_data"
    }
   ],
   "source": [
    "alt.Chart(app_usage, title=\"Proportion of CSOs reporting tool usage\").mark_bar().encode(\n",
    "    alt.Y(\"app:O\",\n",
    "          title=\"Application\",\n",
    "          sort = alt.EncodingSortField(field=\"pct\", op=\"values\", order=\"ascending\"),\n",
    "          ),\n",
    "    alt.X(\"pct:Q\", title=\"% of CSOs reporting usage\"),\n",
    "    tooltip=\"pct\")"
   ]
  },
  {
   "cell_type": "markdown",
   "metadata": {
    "ExecuteTime": {
     "end_time": "2018-10-18T10:11:51.996964Z",
     "start_time": "2018-10-18T10:11:51.970463Z"
    }
   },
   "source": [
    "The overwhelming majority of the CSOs report using all of the applications. That said, the videos and books are used less frequently."
   ]
  },
  {
   "cell_type": "markdown",
   "metadata": {
    "ExecuteTime": {
     "end_time": "2018-10-18T10:14:09.150850Z",
     "start_time": "2018-10-18T10:14:09.136848Z"
    }
   },
   "source": [
    "### Proportion of CSOs who refer to Tangerine to provide post-observation feedback\n",
    "\n",
    "_Do you refer to Tangerine when giving teachers feedback after observing a lesson?_\n",
    "\n",
    "The _Tangerine:Tutor_ application analyzes the pattern of the CSO's responses to the observation items and surfaces actionable feedback that could be share with the teacher to improve her or his instruction. While the auto-generated feedback is intended as a tool to help CSOs give more effective guidance to teachers, it can be quite extensive and is not prioritized. We were interested to know whether the CSOs make reference to the application's auto-generated feedback when they hold their post-observation debriefing session with the teacher."
   ]
  },
  {
   "cell_type": "code",
   "execution_count": 33,
   "metadata": {
    "ExecuteTime": {
     "end_time": "2018-10-26T17:47:52.728640Z",
     "start_time": "2018-10-26T17:47:52.717112Z"
    },
    "scrolled": true
   },
   "outputs": [
    {
     "data": {
      "text/plain": [
       "96.7"
      ]
     },
     "execution_count": 33,
     "metadata": {},
     "output_type": "execute_result"
    }
   ],
   "source": [
    "100 * np.round(csos.ref_tang_fdbk.sum() / csos.shape[0], decimals=3)"
   ]
  },
  {
   "cell_type": "markdown",
   "metadata": {
    "ExecuteTime": {
     "end_time": "2018-10-18T10:11:51.996964Z",
     "start_time": "2018-10-18T10:11:51.970463Z"
    }
   },
   "source": [
    "Again, the overwhelming majority of CSOs report using the auto-generated feedback when holding their debrief session with the teacher. We will separately provide an analysis of their open-ended answers regarding _what_ they refer to and what they find most useful."
   ]
  },
  {
   "cell_type": "markdown",
   "metadata": {
    "ExecuteTime": {
     "end_time": "2018-10-18T10:11:51.996964Z",
     "start_time": "2018-10-18T10:11:51.970463Z"
    }
   },
   "source": [
    "### Proportion of CSOs who use Tangerine to plan their work\n",
    "\n",
    "_Do you refer to Tangerine to help you plan your work when you are **not** either observing a teacher or giving the teacher feedback?_\n",
    "\n",
    "Version 3 of the _Tangerine:Tutor_ application features a screen which allows a CSO to see schools they have visited and which they have not. We were interested to know whether the CSOs are leveraging this feature—or others, such as the pupils' fluency rates, which are reported in the feedback—to make decisions about which schools to visit in the future."
   ]
  },
  {
   "cell_type": "code",
   "execution_count": 34,
   "metadata": {
    "ExecuteTime": {
     "end_time": "2018-10-26T17:47:52.751655Z",
     "start_time": "2018-10-26T17:47:52.732138Z"
    },
    "scrolled": true
   },
   "outputs": [
    {
     "data": {
      "text/plain": [
       "59.5"
      ]
     },
     "execution_count": 34,
     "metadata": {},
     "output_type": "execute_result"
    }
   ],
   "source": [
    "100 * np.round(csos.refer_tang_nonobs.sum() / csos.shape[0], decimals=3)"
   ]
  },
  {
   "cell_type": "markdown",
   "metadata": {
    "ExecuteTime": {
     "end_time": "2018-10-18T10:11:51.996964Z",
     "start_time": "2018-10-18T10:11:51.970463Z"
    }
   },
   "source": [
    "Fewer than two-thirds of CSOs refer to Tangerine to plan their work. A sampling of their reasons is provided surfaced below:"
   ]
  },
  {
   "cell_type": "code",
   "execution_count": 35,
   "metadata": {
    "ExecuteTime": {
     "end_time": "2018-10-26T17:47:52.779655Z",
     "start_time": "2018-10-26T17:47:52.751655Z"
    },
    "scrolled": true
   },
   "outputs": [
    {
     "data": {
      "text/plain": [
       "93     I normally use it for the observation and writing reports                                             \n",
       "144    I have not used any other form from the Tangerine.                                                    \n",
       "149    i use my notebook to record my intended activities                                                    \n",
       "26     Tangerine is only meant for school.                                                                   \n",
       "123    I have a lot of tasks to look into that are not so much related to the Tusome content on the Tangerine\n",
       "31     She uses the personal schools information record to plan which school and teachers to support         \n",
       "105    I normally use it for the observation and writing reports                                             \n",
       "148    Because i capture most of my work on paper so i don't need to refer to the Tangerine.                 \n",
       "152    The fear of GPS readings                                                                              \n",
       "74     i fear to accidentally inerrupt the tangerine                                                         \n",
       "Name: tang_nonobs_nowhynot, dtype: object"
      ]
     },
     "execution_count": 35,
     "metadata": {},
     "output_type": "execute_result"
    }
   ],
   "source": [
    "pd.set_option('display.max_colwidth', -1)\n",
    "csos[csos.tang_nonobs_nowhynot.notnull() & (csos.tang_nonobs_nowhynot != \"\")].tang_nonobs_nowhynot.sample(10)"
   ]
  },
  {
   "cell_type": "markdown",
   "metadata": {},
   "source": [
    "This result surfaces a few issues Tusome might consider addressing next time CSOs receive a refresher training on Tangerine's use.\n",
    "  1. A lack of awareness of how the information provided by the tablet (schools visited and not visited) could be operationalized\n",
    "  1. A fear that they would be accused of falsifying observation data, rooted specifically in a misunderstanding of the application's GPS-capture functionality\n",
    "  1. A mental compartmentalization of Tangerine as being a Tusome-specific tool, not for use in broader contexts\n",
    "\n",
    "Other reasons given suggest that the need which Tangerine might fill is already being addressed separately.\n",
    "  1. The CSO keeps a personal record (outside of the tablet) in which they track school visitation\n",
    "  1. The CSO has prepared a work schedule, and uses that as their guide until the month's activities have concluded."
   ]
  },
  {
   "cell_type": "markdown",
   "metadata": {},
   "source": [
    "### Frequency with which users refer to the application\n",
    "\n",
    "\\[If the CSO refers to the Tangerine for planning purposes\\], _how often do you reference the data?_\n",
    "\n"
   ]
  },
  {
   "cell_type": "code",
   "execution_count": 36,
   "metadata": {
    "ExecuteTime": {
     "end_time": "2018-10-26T17:47:52.815654Z",
     "start_time": "2018-10-26T17:47:52.783654Z"
    },
    "scrolled": true
   },
   "outputs": [],
   "source": [
    "tchk_freq = csos[csos.freq_refer_tang_plan.notna()].freq_refer_tang_plan.sort_values().value_counts(sort=False).to_frame(name=\"ct\")\n",
    "tchk_freq = tchk_freq.rename_axis(\"frequency\").reset_index()\n",
    "tchk_freq[\"frequency\"] = tchk_freq[\"frequency\"].replace({\n",
    "    1: \"Daily\", \n",
    "    2: \"Weekly\",\n",
    "    3: \"Monthly\",\n",
    "    4: \"Termly\"})\n",
    "tchk_freq[\"sort_order\"] = tchk_freq.index"
   ]
  },
  {
   "cell_type": "markdown",
   "metadata": {
    "ExecuteTime": {
     "end_time": "2018-10-18T12:19:06.102224Z",
     "start_time": "2018-10-18T12:19:06.091229Z"
    }
   },
   "source": [
    "It appears that among the CSOs who check the application, it is most common to check it at least weekly."
   ]
  },
  {
   "cell_type": "code",
   "execution_count": 37,
   "metadata": {
    "ExecuteTime": {
     "end_time": "2018-10-26T17:47:52.868676Z",
     "start_time": "2018-10-26T17:47:52.819655Z"
    },
    "scrolled": true
   },
   "outputs": [
    {
     "data": {
      "application/javascript": [
       "var spec = {\"config\": {\"view\": {\"width\": 400, \"height\": 300}}, \"data\": {\"name\": \"data-e0c8178a2859fbedfd43b9603c42779d\"}, \"mark\": \"bar\", \"encoding\": {\"color\": {\"type\": \"nominal\", \"field\": \"frequency\"}, \"x\": {\"type\": \"quantitative\", \"field\": \"ct\"}, \"y\": {\"type\": \"ordinal\", \"field\": \"frequency\", \"sort\": {\"op\": \"values\", \"field\": \"sort_order:Q\", \"order\": \"ascending\"}}}, \"title\": \"Tangerine app checking behavior\", \"$schema\": \"https://vega.github.io/schema/vega-lite/v2.6.0.json\", \"datasets\": {\"data-e0c8178a2859fbedfd43b9603c42779d\": [{\"frequency\": \"Daily\", \"ct\": 23, \"sort_order\": 0}, {\"frequency\": \"Weekly\", \"ct\": 46, \"sort_order\": 1}, {\"frequency\": \"Monthly\", \"ct\": 19, \"sort_order\": 2}, {\"frequency\": \"Termly\", \"ct\": 4, \"sort_order\": 3}, {\"frequency\": 88.0, \"ct\": 1, \"sort_order\": 4}]}};\n",
       "var opt = {};\n",
       "var type = \"vega-lite\";\n",
       "var id = \"85894322-b274-4710-b749-f862bec1c3c8\";\n",
       "\n",
       "var output_area = this;\n",
       "\n",
       "require([\"nbextensions/jupyter-vega/index\"], function(vega) {\n",
       "  var target = document.createElement(\"div\");\n",
       "  target.id = id;\n",
       "  target.className = \"vega-embed\";\n",
       "\n",
       "  var style = document.createElement(\"style\");\n",
       "  style.textContent = [\n",
       "    \".vega-embed .error p {\",\n",
       "    \"  color: firebrick;\",\n",
       "    \"  font-size: 14px;\",\n",
       "    \"}\",\n",
       "  ].join(\"\\\\n\");\n",
       "\n",
       "  // element is a jQuery wrapped DOM element inside the output area\n",
       "  // see http://ipython.readthedocs.io/en/stable/api/generated/\\\n",
       "  // IPython.display.html#IPython.display.Javascript.__init__\n",
       "  element[0].appendChild(target);\n",
       "  element[0].appendChild(style);\n",
       "\n",
       "  vega.render(\"#\" + id, spec, type, opt, output_area);\n",
       "}, function (err) {\n",
       "  if (err.requireType !== \"scripterror\") {\n",
       "    throw(err);\n",
       "  }\n",
       "});\n"
      ],
      "text/plain": [
       "<vega.vegalite.VegaLite at 0x1f5e67a8fd0>"
      ]
     },
     "metadata": {
      "jupyter-vega": "#85894322-b274-4710-b749-f862bec1c3c8"
     },
     "output_type": "display_data"
    },
    {
     "data": {
      "text/plain": []
     },
     "execution_count": 37,
     "metadata": {},
     "output_type": "execute_result"
    },
    {
     "data": {
      "image/png": "[encoded data removed]"
     },
     "metadata": {
      "jupyter-vega": "#85894322-b274-4710-b749-f862bec1c3c8"
     },
     "output_type": "display_data"
    }
   ],
   "source": [
    "alt.Chart(tchk_freq, title=\"Tangerine app checking behavior\").mark_bar().encode(\n",
    "    alt.X(\"ct:Q\"),\n",
    "    alt.Y(\"frequency:O\", sort = alt.EncodingSortField(field=\"sort_order:Q\", op=\"values\", order=\"ascending\")),\n",
    "    color = \"frequency\")"
   ]
  },
  {
   "cell_type": "markdown",
   "metadata": {},
   "source": [
    "### CSO reference to the Tangerine Dashboard\n",
    "\n",
    "_In the last term, how often did you look at the Tangerine Dashboard?_\n",
    "\n",
    "The data that is generated by the CSOs' lesson observations is uploaded to the cloud and reported on the [Tangerine Dashboard](http://tools.tusome.tangerinecentral.org/_csv/report/group-national_tablet_program/00b0a09a-2a9f-baca-2acb-c6264d4247cb,c835fc38-de99-d064-59d3-e772ccefcf7d/2018/1/ep8yqMKT.html#tutor). This Dashboard is reviewed by senior management within the Ministry of Education: the Principal Secretary, his Directors, and their deputies. It is also sent to the Directors of MOE and TSC at the County level. As these latter personnel oversee the CSOs, the Dashboard may have an effect ..."
   ]
  }
 ],
 "metadata": {
  "jupytext_formats": "py:percent",
  "kernelspec": {
   "display_name": "Python 3",
   "language": "python",
   "name": "python3"
  },
  "language_info": {
   "codemirror_mode": {
    "name": "ipython",
    "version": 3
   },
   "file_extension": ".py",
   "mimetype": "text/x-python",
   "name": "python",
   "nbconvert_exporter": "python",
   "pygments_lexer": "ipython3",
   "version": "3.6.6"
  },
  "toc": {
   "nav_menu": {},
   "number_sections": true,
   "sideBar": true,
   "skip_h1_title": false,
   "title_cell": "Table of Contents",
   "title_sidebar": "Contents",
   "toc_cell": false,
   "toc_position": {},
   "toc_section_display": true,
   "toc_window_display": false
  },
  "varInspector": {
   "cols": {
    "lenName": 16,
    "lenType": 16,
    "lenVar": 40
   },
   "kernels_config": {
    "python": {
     "delete_cmd_postfix": "",
     "delete_cmd_prefix": "del ",
     "library": "var_list.py",
     "varRefreshCmd": "print(var_dic_list())"
    },
    "r": {
     "delete_cmd_postfix": ") ",
     "delete_cmd_prefix": "rm(",
     "library": "var_list.r",
     "varRefreshCmd": "cat(var_dic_list()) "
    }
   },
   "oldHeight": 122,
   "position": {
    "height": "144px",
    "left": "1650px",
    "right": "20px",
    "top": "120px",
    "width": "250px"
   },
   "types_to_exclude": [
    "module",
    "function",
    "builtin_function_or_method",
    "instance",
    "_Feature"
   ],
   "varInspector_section_display": "block",
   "window_display": true
  }
 },
 "nbformat": 4,
 "nbformat_minor": 2
}
