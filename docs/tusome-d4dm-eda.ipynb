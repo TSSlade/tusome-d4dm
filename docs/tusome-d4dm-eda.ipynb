{
 "cells": [
  {
   "cell_type": "code",
   "execution_count": 24,
   "metadata": {
    "ExecuteTime": {
     "end_time": "2018-10-25T08:06:12.072640Z",
     "start_time": "2018-10-25T08:06:12.065637Z"
    },
    "scrolled": true
   },
   "outputs": [],
   "source": [
    "import pandas as pd\n",
    "import numpy as np\n",
    "import altair as alt\n",
    "from altair import datum, expr\n",
    "import matplotlib.pyplot as plt\n",
    "import datetime as dt\n",
    "alt.renderers.enable('notebook')\n",
    "pd.set_option('display.max_colwidth', -1)"
   ]
  },
  {
   "cell_type": "code",
   "execution_count": 25,
   "metadata": {
    "ExecuteTime": {
     "end_time": "2018-10-25T08:06:12.880140Z",
     "start_time": "2018-10-25T08:06:12.076138Z"
    },
    "scrolled": true
   },
   "outputs": [],
   "source": [
    "tchrs = pd.read_stata(\"teacher_data.dta\", convert_categoricals=False)\n",
    "csos = pd.read_stata(\"cso_data.dta\", convert_categoricals=False)\n",
    "dirs = pd.read_stata(\"director_data.dta\", convert_categoricals=False)"
   ]
  },
  {
   "cell_type": "code",
   "execution_count": 26,
   "metadata": {
    "ExecuteTime": {
     "end_time": "2018-10-25T08:06:12.890639Z",
     "start_time": "2018-10-25T08:06:12.884136Z"
    },
    "scrolled": true
   },
   "outputs": [
    {
     "name": "stdout",
     "output_type": "stream",
     "text": [
      "The Teacher dataset contains 828 records\n",
      "The CSO dataset contains 152 records\n",
      "The Director dataset contains 242 records\n"
     ]
    }
   ],
   "source": [
    "print(f\"The Teacher dataset contains {tchrs.shape[0]} records\\nThe CSO dataset contains {csos.shape[0]} records\\nThe Director dataset contains {dirs.shape[0]} records\")"
   ]
  },
  {
   "cell_type": "markdown",
   "metadata": {
    "ExecuteTime": {
     "end_time": "2018-10-12T13:38:15.821761Z",
     "start_time": "2018-10-12T13:38:15.784758Z"
    }
   },
   "source": [
    "The main questions we want to ask are documented in the [analysis plan](https://github.com/TSSlade/tusome-d4dm/blob/master/analysis_plan.md), which is an evolving document."
   ]
  },
  {
   "cell_type": "markdown",
   "metadata": {
    "ExecuteTime": {
     "end_time": "2018-10-12T13:38:15.821761Z",
     "start_time": "2018-10-12T13:38:15.784758Z"
    }
   },
   "source": [
    "## Teacher Instrument"
   ]
  },
  {
   "cell_type": "markdown",
   "metadata": {},
   "source": [
    "Here we begin exploring the data we obtained from interviewing the teachers."
   ]
  },
  {
   "cell_type": "code",
   "execution_count": 27,
   "metadata": {
    "ExecuteTime": {
     "end_time": "2018-10-25T08:06:12.909142Z",
     "start_time": "2018-10-25T08:06:12.896137Z"
    },
    "scrolled": true
   },
   "outputs": [],
   "source": [
    "tchr_ct = tchrs.shape[0]"
   ]
  },
  {
   "cell_type": "markdown",
   "metadata": {
    "ExecuteTime": {
     "end_time": "2018-10-20T18:13:56.874778Z",
     "start_time": "2018-10-20T18:13:56.859149Z"
    },
    "variables": {
     "tchr_ct": "828"
    }
   },
   "source": [
    "Our dataset contains interviews with {{tchr_ct}} teachers."
   ]
  },
  {
   "cell_type": "markdown",
   "metadata": {},
   "source": [
    "### Teachers visited previously by CSOs\n",
    "\n",
    "The underlying assumption of most of the interview protocol is that the teacher has had a coaching interaction with a CSO. The first issue we should then address is the proportion of teachers who have received a visit from a CSO."
   ]
  },
  {
   "cell_type": "code",
   "execution_count": 28,
   "metadata": {
    "ExecuteTime": {
     "end_time": "2018-10-25T08:06:12.932150Z",
     "start_time": "2018-10-25T08:06:12.926138Z"
    },
    "scrolled": true
   },
   "outputs": [],
   "source": [
    "never = 100 * ((tchr_ct - tchrs.vis_before.sum())/tchr_ct)"
   ]
  },
  {
   "cell_type": "markdown",
   "metadata": {
    "ExecuteTime": {
     "end_time": "2018-10-20T18:13:56.874778Z",
     "start_time": "2018-10-20T18:13:56.859149Z"
    },
    "variables": {
     "np.round(never, decimals=2)": "7.37"
    }
   },
   "source": [
    "We see that {{np.round(never, decimals=2)}}% of teachers interviewed had never been previously visited by CSOs."
   ]
  },
  {
   "cell_type": "markdown",
   "metadata": {},
   "source": [
    "### Number of coaching visits in the last academic term\n",
    "\n",
    "We have confirmed that the overwhelming majority of our teachers have been visited. We can have greater confidence in the responses they give us over the course of the interview if they have had a visit in the recent past. We therefore asked the teachers to tell us how many times they had been visited by their CSO in the preceding academic term (Term 2 of the Kenyan academic year, running from roughly May-July 2018)."
   ]
  },
  {
   "cell_type": "code",
   "execution_count": 29,
   "metadata": {
    "ExecuteTime": {
     "end_time": "2018-10-25T08:06:13.006148Z",
     "start_time": "2018-10-25T08:06:12.950638Z"
    },
    "scrolled": true
   },
   "outputs": [
    {
     "data": {
      "application/javascript": [
       "var spec = {\"config\": {\"view\": {\"width\": 400, \"height\": 300}}, \"data\": {\"name\": \"data-2268ae746a22e261199a51936c9861c3\"}, \"mark\": \"bar\", \"encoding\": {\"tooltip\": {\"type\": \"quantitative\", \"field\": \"pct\"}, \"x\": {\"type\": \"quantitative\", \"field\": \"vis_before_freq\", \"title\": \"# Teachers\"}, \"y\": {\"type\": \"ordinal\", \"field\": \"prevterm_vis\", \"title\": \"CSO visits last term\"}}, \"title\": \"# of times CSO visited in preceding term\", \"$schema\": \"https://vega.github.io/schema/vega-lite/v2.6.0.json\", \"datasets\": {\"data-2268ae746a22e261199a51936c9861c3\": [{\"prevterm_vis\": 0.0, \"vis_before_freq\": 90, \"pct\": 11.73}, {\"prevterm_vis\": 1.0, \"vis_before_freq\": 155, \"pct\": 20.21}, {\"prevterm_vis\": 2.0, \"vis_before_freq\": 173, \"pct\": 22.56}, {\"prevterm_vis\": 3.0, \"vis_before_freq\": 170, \"pct\": 22.16}, {\"prevterm_vis\": 4.0, \"vis_before_freq\": 83, \"pct\": 10.82}, {\"prevterm_vis\": \">4x\", \"vis_before_freq\": 136, \"pct\": 17.73}]}};\n",
       "var opt = {};\n",
       "var type = \"vega-lite\";\n",
       "var id = \"f77cfaed-f29d-43a2-92ba-7536b9d8cae3\";\n",
       "\n",
       "var output_area = this;\n",
       "\n",
       "require([\"nbextensions/jupyter-vega/index\"], function(vega) {\n",
       "  var target = document.createElement(\"div\");\n",
       "  target.id = id;\n",
       "  target.className = \"vega-embed\";\n",
       "\n",
       "  var style = document.createElement(\"style\");\n",
       "  style.textContent = [\n",
       "    \".vega-embed .error p {\",\n",
       "    \"  color: firebrick;\",\n",
       "    \"  font-size: 14px;\",\n",
       "    \"}\",\n",
       "  ].join(\"\\\\n\");\n",
       "\n",
       "  // element is a jQuery wrapped DOM element inside the output area\n",
       "  // see http://ipython.readthedocs.io/en/stable/api/generated/\\\n",
       "  // IPython.display.html#IPython.display.Javascript.__init__\n",
       "  element[0].appendChild(target);\n",
       "  element[0].appendChild(style);\n",
       "\n",
       "  vega.render(\"#\" + id, spec, type, opt, output_area);\n",
       "}, function (err) {\n",
       "  if (err.requireType !== \"scripterror\") {\n",
       "    throw(err);\n",
       "  }\n",
       "});\n"
      ],
      "text/plain": [
       "<vega.vegalite.VegaLite at 0x1922f713a20>"
      ]
     },
     "metadata": {
      "jupyter-vega": "#f77cfaed-f29d-43a2-92ba-7536b9d8cae3"
     },
     "output_type": "display_data"
    },
    {
     "data": {
      "text/plain": []
     },
     "execution_count": 29,
     "metadata": {},
     "output_type": "execute_result"
    },
    {
     "data": {
      "image/png": "[encoded data removed]"
     },
     "metadata": {
      "jupyter-vega": "#f77cfaed-f29d-43a2-92ba-7536b9d8cae3"
     },
     "output_type": "display_data"
    }
   ],
   "source": [
    "tchrs.vis_before_freq = tchrs.vis_before_freq.replace({55: \">4x\"})\n",
    "viscount_df = pd.DataFrame(tchrs.vis_before_freq.value_counts(sort=False)).rename_axis(\"prevterm_vis\").reset_index()\n",
    "viscount_df[\"pct\"] = np.round(100 * (viscount_df.vis_before_freq / tchrs.vis_before.sum()), decimals=2)\n",
    "more_than_monthly = viscount_df[viscount_df.prevterm_vis.isin([4, \">4x\"])].pct.sum()\n",
    "alt.Chart(viscount_df, title=\"# of times CSO visited in preceding term\").mark_bar().encode(\n",
    "    alt.Y(\"prevterm_vis:O\", title=\"CSO visits last term\"),\n",
    "    alt.X(\"vis_before_freq:Q\", title=\"# Teachers\"),\n",
    "    tooltip=\"pct\")"
   ]
  },
  {
   "cell_type": "markdown",
   "metadata": {
    "ExecuteTime": {
     "end_time": "2018-10-20T19:51:28.176045Z",
     "start_time": "2018-10-20T19:51:28.127801Z"
    },
    "variables": {
     "int(more_than_monthly)": "28",
     "int(viscount_df[viscount_df.prevterm_vis.isin([1, 2, 3])].pct.sum())": "64",
     "int(viscount_df[viscount_df.prevterm_vis==0].pct[0])": "11"
    }
   },
   "source": [
    "We see that roughly {{int(viscount_df[viscount_df.prevterm_vis==0].pct[0])}}% of the respondents, while they'd been visited by a CSO in the past, had not been visited in the preceding term. However, roughly {{int(viscount_df[viscount_df.prevterm_vis.isin([1, 2, 3])].pct.sum())}}% of the respondents were visited between once per term and once per month. Roughly {{int(more_than_monthly)}}% of the teachers were visited by their CSOs more frequently than monthly."
   ]
  },
  {
   "cell_type": "markdown",
   "metadata": {},
   "source": [
    "### CSOs' activities during last coaching visit\n",
    "\n",
    "We are interested in knowing what CSOs are focusing on when they pay a visit to a school. Are they observing a lesson? Are they giving feedback to the teacher? Do they assess pupils' fluency rates? Do they take advantage of their presence at the school to meet with the head teacher (HT)? What kinds of things are they doing _besides_ these activities?"
   ]
  },
  {
   "cell_type": "code",
   "execution_count": 30,
   "metadata": {
    "ExecuteTime": {
     "end_time": "2018-10-25T08:06:13.184639Z",
     "start_time": "2018-10-25T08:06:13.140638Z"
    },
    "scrolled": true
   },
   "outputs": [
    {
     "data": {
      "text/html": [
       "<div>\n",
       "<style scoped>\n",
       "    .dataframe tbody tr th:only-of-type {\n",
       "        vertical-align: middle;\n",
       "    }\n",
       "\n",
       "    .dataframe tbody tr th {\n",
       "        vertical-align: top;\n",
       "    }\n",
       "\n",
       "    .dataframe thead th {\n",
       "        text-align: right;\n",
       "    }\n",
       "</style>\n",
       "<table border=\"1\" class=\"dataframe\">\n",
       "  <thead>\n",
       "    <tr style=\"text-align: right;\">\n",
       "      <th></th>\n",
       "      <th>activities</th>\n",
       "      <th>tchrs_reporting</th>\n",
       "      <th>pct</th>\n",
       "    </tr>\n",
       "  </thead>\n",
       "  <tbody>\n",
       "    <tr>\n",
       "      <th>0</th>\n",
       "      <td>Assessed pupils</td>\n",
       "      <td>688</td>\n",
       "      <td>83.84</td>\n",
       "    </tr>\n",
       "    <tr>\n",
       "      <th>1</th>\n",
       "      <td>Talked to HT</td>\n",
       "      <td>516</td>\n",
       "      <td>62.88</td>\n",
       "    </tr>\n",
       "    <tr>\n",
       "      <th>2</th>\n",
       "      <td>Provided feedback on lesson</td>\n",
       "      <td>734</td>\n",
       "      <td>89.44</td>\n",
       "    </tr>\n",
       "    <tr>\n",
       "      <th>3</th>\n",
       "      <td>Had general talk</td>\n",
       "      <td>364</td>\n",
       "      <td>44.36</td>\n",
       "    </tr>\n",
       "    <tr>\n",
       "      <th>4</th>\n",
       "      <td>Other</td>\n",
       "      <td>127</td>\n",
       "      <td>15.48</td>\n",
       "    </tr>\n",
       "  </tbody>\n",
       "</table>\n",
       "</div>"
      ],
      "text/plain": [
       "                    activities  tchrs_reporting    pct\n",
       "0  Assessed pupils              688              83.84\n",
       "1  Talked to HT                 516              62.88\n",
       "2  Provided feedback on lesson  734              89.44\n",
       "3  Had general talk             364              44.36\n",
       "4  Other                        127              15.48"
      ]
     },
     "execution_count": 30,
     "metadata": {},
     "output_type": "execute_result"
    }
   ],
   "source": [
    "visact_df = pd.DataFrame.from_dict({\"activities\": [\"Assessed pupils\",\n",
    "                                                   \"Talked to HT\",\n",
    "                                                   \"Provided feedback on lesson\",\n",
    "                                                   \"Had general talk\",\n",
    "                                                   \"Other\"],\n",
    "                                    \"tchrs_reporting\": [tchrs[tchrs.vis_before != 0].vis_act_kids.sum(),\n",
    "                                                        tchrs[tchrs.vis_before != 0].vis_act_ht.sum(),\n",
    "                                                        tchrs[tchrs.vis_before != 0].vis_act_fdbk.sum(),\n",
    "                                                        tchrs[tchrs.vis_before != 0].vis_act_gen.sum(),\n",
    "                                                        tchrs[tchrs.vis_before != 0].vis_act_other.sum()]})\n",
    "visact_df[\"pct\"] = np.round(visact_df.tchrs_reporting.apply(lambda x: 100 * (x/(tchr_ct - never))), decimals=2)\n",
    "visact_df"
   ]
  },
  {
   "cell_type": "code",
   "execution_count": 31,
   "metadata": {
    "ExecuteTime": {
     "end_time": "2018-10-25T08:06:13.224143Z",
     "start_time": "2018-10-25T08:06:13.189139Z"
    },
    "scrolled": true
   },
   "outputs": [
    {
     "data": {
      "application/javascript": [
       "var spec = {\"config\": {\"view\": {\"width\": 400, \"height\": 300}}, \"data\": {\"name\": \"data-36b520553dd65d19a5bcb665a2aaf9e0\"}, \"mark\": \"bar\", \"encoding\": {\"tooltip\": {\"type\": \"quantitative\", \"field\": \"tchrs_reporting\"}, \"x\": {\"type\": \"quantitative\", \"field\": \"pct\", \"title\": \"% of teachers responding\"}, \"y\": {\"type\": \"ordinal\", \"field\": \"activities\", \"sort\": {\"op\": \"values\", \"field\": \"tchrs_reporting\", \"order\": \"ascending\"}, \"title\": \"Activities named\"}}, \"title\": \"CSO activities during previous visit\", \"$schema\": \"https://vega.github.io/schema/vega-lite/v2.6.0.json\", \"datasets\": {\"data-36b520553dd65d19a5bcb665a2aaf9e0\": [{\"activities\": \"Assessed pupils\", \"tchrs_reporting\": 688, \"pct\": 83.84}, {\"activities\": \"Talked to HT\", \"tchrs_reporting\": 516, \"pct\": 62.88}, {\"activities\": \"Provided feedback on lesson\", \"tchrs_reporting\": 734, \"pct\": 89.44}, {\"activities\": \"Had general talk\", \"tchrs_reporting\": 364, \"pct\": 44.36}, {\"activities\": \"Other\", \"tchrs_reporting\": 127, \"pct\": 15.48}]}};\n",
       "var opt = {};\n",
       "var type = \"vega-lite\";\n",
       "var id = \"b8c1b051-8add-4114-b512-1a257988dd0b\";\n",
       "\n",
       "var output_area = this;\n",
       "\n",
       "require([\"nbextensions/jupyter-vega/index\"], function(vega) {\n",
       "  var target = document.createElement(\"div\");\n",
       "  target.id = id;\n",
       "  target.className = \"vega-embed\";\n",
       "\n",
       "  var style = document.createElement(\"style\");\n",
       "  style.textContent = [\n",
       "    \".vega-embed .error p {\",\n",
       "    \"  color: firebrick;\",\n",
       "    \"  font-size: 14px;\",\n",
       "    \"}\",\n",
       "  ].join(\"\\\\n\");\n",
       "\n",
       "  // element is a jQuery wrapped DOM element inside the output area\n",
       "  // see http://ipython.readthedocs.io/en/stable/api/generated/\\\n",
       "  // IPython.display.html#IPython.display.Javascript.__init__\n",
       "  element[0].appendChild(target);\n",
       "  element[0].appendChild(style);\n",
       "\n",
       "  vega.render(\"#\" + id, spec, type, opt, output_area);\n",
       "}, function (err) {\n",
       "  if (err.requireType !== \"scripterror\") {\n",
       "    throw(err);\n",
       "  }\n",
       "});\n"
      ],
      "text/plain": [
       "<vega.vegalite.VegaLite at 0x1922e546fd0>"
      ]
     },
     "metadata": {
      "jupyter-vega": "#b8c1b051-8add-4114-b512-1a257988dd0b"
     },
     "output_type": "display_data"
    },
    {
     "data": {
      "text/plain": []
     },
     "execution_count": 31,
     "metadata": {},
     "output_type": "execute_result"
    },
    {
     "data": {
      "image/png": "[encoded data removed]"
     },
     "metadata": {
      "jupyter-vega": "#b8c1b051-8add-4114-b512-1a257988dd0b"
     },
     "output_type": "display_data"
    }
   ],
   "source": [
    "alt.Chart(visact_df, title=\"CSO activities during previous visit\").mark_bar().encode(\n",
    "alt.Y(\"activities:O\", \n",
    "      title=\"Activities named\",\n",
    "      sort = alt.EncodingSortField(field=\"tchrs_reporting\", op=\"values\", order=\"ascending\")),\n",
    "alt.X(\"pct:Q\",\n",
    "      title=\"% of teachers responding\"),\n",
    "tooltip = \"tchrs_reporting\")"
   ]
  },
  {
   "cell_type": "markdown",
   "metadata": {
    "ExecuteTime": {
     "end_time": "2018-10-21T15:02:49.246011Z",
     "start_time": "2018-10-21T15:02:49.226011Z"
    },
    "variables": {
     "int(np.ceil(visact_df.pct.max()))": "90",
     "int(np.floor(visact_df[visact_df.activities==\"Other\"].pct))": "15"
    }
   },
   "source": [
    "Nearly {{int(np.ceil(visact_df.pct.max()))}}% of teachers report that when the CSO last visited, s/he provided feedback on a lesson. A fairly comparable proportion said that the CSO assessed pupils. Neither of these is surprising, as those activities are key features of a \"reimbursable\" or \"valid\" lesson observation. If anything, it is interesting that these numbers are not higher, given that we have excluded from our denominator those teachers who said they had never received a visit from the CSO.\n",
    "\n",
    "Of note is the relatively low proportion of teachers reporting the CSO had spoken with the HT. While Tusome encourages CSOs to speak with HTs as part of the standard protocol for visiting a school, it is not explicitly considered as a factor for reimbursement of transportation costs for visiting that school.\n",
    "\n",
    "That said, it is also possible that teachers may simply not be aware of activities taking place outside of their classroom. They and their classrooms would have been the objects of the lesson observation and fluency assessment; they may not have as much visibility into what happened before or after the CSO entered their classroom.\n",
    "\n",
    "A little over {{int(np.floor(visact_df[visact_df.activities==\"Other\"].pct))}}% of teachers reported the CSO conducted an activity that was not listed in the questionnaire. Below we have sampled 20 of the things that they reported which were not captured in the questionnaire."
   ]
  },
  {
   "cell_type": "code",
   "execution_count": 32,
   "metadata": {
    "ExecuteTime": {
     "end_time": "2018-10-25T08:06:13.304641Z",
     "start_time": "2018-10-25T08:06:13.291638Z"
    },
    "scrolled": true
   },
   "outputs": [
    {
     "name": "stdout",
     "output_type": "stream",
     "text": [
      "698    spoke to head teacher,assesed pupils and gave me feedback                                                                                                                                              \n",
      "734    The CSO assesssed me teaching tusome lessons and gave me feedback and at the same time he assessed three of my learners whom he picked randomly                                                        \n",
      "259    she requests for professional documents before starting to observe the lesson this includes lesson plans and schemes of work. she also inquires where i have challenges in regards to my profession    \n",
      "349    Talked about implementation of Maths                                                                                                                                                                   \n",
      "74     Checked on CBC infusion                                                                                                                                                                                \n",
      "482    demonstrates on concepts that are not clear                                                                                                                                                            \n",
      "717    Talked to the entire tusome teacher.                                                                                                                                                                   \n",
      "613    She talked to the head teacher,Guided us on scheming and lesson planning,assessed learners,Observed lessons and encouraged us to to make teaching learning material.                                   \n",
      "36     reminded me of steps of teaching vocubulary                                                                                                                                                            \n",
      "276    CSO called a meeting with other teachers to talk about professional documents                                                                                                                          \n",
      "600    He also advised us to continue giving homework even if there are NO homework books and sensitize parents on how to assist the learners to do their homework and not do the homework for their children.\n",
      "725    spoke to head teacher,assesed children and gave me feedback                                                                                                                                            \n",
      "735    The CSO observed my English and Kiswahili Lesson and gave me feedback on areas of improvement                                                                                                          \n",
      "553    reminded me of steps of teaching vocubulary                                                                                                                                                            \n",
      "29     Talking to other teachers in the school                                                                                                                                                                \n",
      "705    How learners behave                                                                                                                                                                                    \n",
      "765    First of all, he assesses how we teach and how we implement the CBC.                                                                                                                                   \n",
      "635    To improve on resources in class.                                                                                                                                                                      \n",
      "676    talked about the arrival and departure time for teachers, recovering lessons not taught because of school activities like games                                                                        \n",
      "814    The CSO observes as I teach,checks pupils work if it has been marked as well as checks the teaching aids                                                                                               \n",
      "Name: vis_act_other_det, dtype: object\n"
     ]
    }
   ],
   "source": [
    "print(tchrs[tchrs.vis_act_other_det.notna() & (tchrs.vis_act_other_det != \"\")].vis_act_other_det.sample(20))"
   ]
  },
  {
   "cell_type": "markdown",
   "metadata": {},
   "source": [
    "### CSOs using tablets or pen & paper during observation\n",
    "\n",
    "The _Tangerine:Tutor_ app was developed with the intent and belief that CSOs would use it _while observing_ the lesson. However, Tusome staff report that not all CSOs find the tablet interface comfortable, and not all use it with ease. So we asked teachers to report whether CSOs use the tablets during the lesson observation, and also whether they use pen and paper."
   ]
  },
  {
   "cell_type": "markdown",
   "metadata": {
    "ExecuteTime": {
     "end_time": "2018-10-21T15:27:58.583363Z",
     "start_time": "2018-10-21T15:27:58.575363Z"
    },
    "variables": {
     "int(np.round(100 * (tchrs.cso_usepcl_yn.sum()/tchr_ct), decimals=2))": "81",
     "int(np.round(100 * (tchrs.cso_usetab_yn.sum()/tchr_ct), decimals=2))": "90"
    }
   },
   "source": [
    "Roughly {{int(np.round(100 * (tchrs.cso_usetab_yn.sum()/tchr_ct), decimals=2))}}% of teachers reported that the CSOs use tablets during lesson observation; roughly {{int(np.round(100 * (tchrs.cso_usepcl_yn.sum()/tchr_ct), decimals=2))}}% of teachers reported the CSOs use pen and paper during the lesson observation."
   ]
  },
  {
   "cell_type": "code",
   "execution_count": 33,
   "metadata": {
    "ExecuteTime": {
     "end_time": "2018-10-25T08:06:13.536139Z",
     "start_time": "2018-10-25T08:06:13.508137Z"
    },
    "scrolled": true
   },
   "outputs": [],
   "source": [
    "tabs_n_pencils = pd.crosstab(tchrs.cso_usetab_yn, tchrs.cso_usepcl_yn)"
   ]
  },
  {
   "cell_type": "code",
   "execution_count": 34,
   "metadata": {
    "ExecuteTime": {
     "end_time": "2018-10-25T08:06:13.564641Z",
     "start_time": "2018-10-25T08:06:13.540140Z"
    },
    "scrolled": true
   },
   "outputs": [
    {
     "data": {
      "text/html": [
       "<div>\n",
       "<style scoped>\n",
       "    .dataframe tbody tr th:only-of-type {\n",
       "        vertical-align: middle;\n",
       "    }\n",
       "\n",
       "    .dataframe tbody tr th {\n",
       "        vertical-align: top;\n",
       "    }\n",
       "\n",
       "    .dataframe thead th {\n",
       "        text-align: right;\n",
       "    }\n",
       "</style>\n",
       "<table border=\"1\" class=\"dataframe\">\n",
       "  <thead>\n",
       "    <tr style=\"text-align: right;\">\n",
       "      <th>Uses pen and paper</th>\n",
       "      <th>No</th>\n",
       "      <th>Yes</th>\n",
       "    </tr>\n",
       "    <tr>\n",
       "      <th>Uses tablet</th>\n",
       "      <th></th>\n",
       "      <th></th>\n",
       "    </tr>\n",
       "  </thead>\n",
       "  <tbody>\n",
       "    <tr>\n",
       "      <th>No</th>\n",
       "      <td>3</td>\n",
       "      <td>17</td>\n",
       "    </tr>\n",
       "    <tr>\n",
       "      <th>Yes</th>\n",
       "      <td>72</td>\n",
       "      <td>657</td>\n",
       "    </tr>\n",
       "  </tbody>\n",
       "</table>\n",
       "</div>"
      ],
      "text/plain": [
       "Uses pen and paper  No  Yes\n",
       "Uses tablet                \n",
       "No                  3   17 \n",
       "Yes                 72  657"
      ]
     },
     "execution_count": 34,
     "metadata": {},
     "output_type": "execute_result"
    }
   ],
   "source": [
    "# tabs_n_pencils.rename(columns=[\"No pen\", \"Uses pen\"])\n",
    "tabs_n_pencils = tabs_n_pencils.rename_axis(\"Uses tablet\").rename_axis(\"Uses pen and paper\", axis=\"columns\")\n",
    "tabs_n_pencils = tabs_n_pencils.rename({0: \"No\", 1: \"Yes\"}, axis=\"columns\").rename({0: \"No\", 1: \"Yes\"}, axis=\"index\")\n",
    "tabs_n_pencils"
   ]
  },
  {
   "cell_type": "markdown",
   "metadata": {},
   "source": [
    "We see that the overwhelming majority of CSOs are using both tablets _and_ pen-and-paper systems when observing the teachers' lesson. There have historically been some instruments/data that CSOs were tasked by TSC to complete that were not rendered in _Tangerine_ format on the tablets; as of midway through Term 3 of the 2018 academic year, those instruments (mostly for the TSC's TPAD \\[Teacher Performance Appraisal and Development\\] project) are now in _Tangerine_. While the use of pen and paper does not appear to have come at the expense of using the tablets - indeed, it appears to be complementary, as nearly all CSOs are using both - Tusome should nonetheless follow up on these reports of CSOs' usage of pen and paper to understand the roots of the practice."
   ]
  },
  {
   "cell_type": "markdown",
   "metadata": {
    "variables": {
     "int(np.round(100 * (tchrs.cso_usetab_pup_yn.sum()/tchr_ct), decimals=2))": "88"
    }
   },
   "source": [
    "### CSOs' usage of the tablets to assess pupils' performance\n",
    "\n",
    "Tusome's coaching protocol requires CSOs to randomly select three children from the classroom at the end of the lesson to assess their reading fluency. The prompt the children are to read from is a laminated sheet of paper with a short passage printed on it; the CSOs are instructed to use the tablet to record the children's responses. The tablet is then able to calculate fluency rates and store those as data associated with that observation.\n",
    "\n",
    "Approximately {{int(np.round(100 * (tchrs.cso_usetab_pup_yn.sum()/tchr_ct), decimals=2))}}% of the teachers reported that CSOs use the tablets to assess children's reading fluency."
   ]
  },
  {
   "cell_type": "markdown",
   "metadata": {},
   "source": [
    "### Teachers' experience of feedback, and CSOs' use of tablets during feedback\n",
    "\n",
    "Tusome asked teachers whether the CSO gave feedback on the lesson last time s/he paid a visit, whether s/he used the tablet to do so, and whether the teacher was able to recall specific feedback the CSO provided."
   ]
  },
  {
   "cell_type": "code",
   "execution_count": 35,
   "metadata": {
    "ExecuteTime": {
     "end_time": "2018-10-25T08:06:13.988642Z",
     "start_time": "2018-10-25T08:06:13.958642Z"
    },
    "scrolled": true
   },
   "outputs": [
    {
     "data": {
      "text/html": [
       "<div>\n",
       "<style scoped>\n",
       "    .dataframe tbody tr th:only-of-type {\n",
       "        vertical-align: middle;\n",
       "    }\n",
       "\n",
       "    .dataframe tbody tr th {\n",
       "        vertical-align: top;\n",
       "    }\n",
       "\n",
       "    .dataframe thead th {\n",
       "        text-align: right;\n",
       "    }\n",
       "</style>\n",
       "<table border=\"1\" class=\"dataframe\">\n",
       "  <thead>\n",
       "    <tr style=\"text-align: right;\">\n",
       "      <th></th>\n",
       "      <th>event</th>\n",
       "      <th>ct</th>\n",
       "      <th>pct</th>\n",
       "    </tr>\n",
       "  </thead>\n",
       "  <tbody>\n",
       "    <tr>\n",
       "      <th>0</th>\n",
       "      <td>CSO gave feedback</td>\n",
       "      <td>757.0</td>\n",
       "      <td>91.4</td>\n",
       "    </tr>\n",
       "    <tr>\n",
       "      <th>1</th>\n",
       "      <td>CSO used a tablet for feedback</td>\n",
       "      <td>676.0</td>\n",
       "      <td>81.6</td>\n",
       "    </tr>\n",
       "    <tr>\n",
       "      <th>2</th>\n",
       "      <td>Tchr remembers feedback</td>\n",
       "      <td>725.0</td>\n",
       "      <td>87.6</td>\n",
       "    </tr>\n",
       "  </tbody>\n",
       "</table>\n",
       "</div>"
      ],
      "text/plain": [
       "                            event     ct   pct\n",
       "0  CSO gave feedback               757.0  91.4\n",
       "1  CSO used a tablet for feedback  676.0  81.6\n",
       "2  Tchr remembers feedback         725.0  87.6"
      ]
     },
     "execution_count": 35,
     "metadata": {},
     "output_type": "execute_result"
    }
   ],
   "source": [
    "feedback = {\"CSO gave feedback\": tchrs.cso_gave_fdbk_yn.sum(),\n",
    "            \"CSO used a tablet for feedback\": tchrs.cso_usetab_fdbk_yn.sum(),\n",
    "            \"Tchr remembers feedback\": tchrs.cso_fdbk_remember.sum()}\n",
    "fdbk_df = pd.DataFrame.from_dict(feedback, orient=\"index\", columns=[\"ct\"])\n",
    "fdbk_df[\"pct\"] = 100 * np.round(fdbk_df[\"ct\"] / tchrs.shape[0], decimals=3)\n",
    "fdbk_df = fdbk_df.rename_axis(\"event\").reset_index()\n",
    "fdbk_df"
   ]
  },
  {
   "cell_type": "markdown",
   "metadata": {
    "ExecuteTime": {
     "end_time": "2018-10-25T04:37:24.468447Z",
     "start_time": "2018-10-25T04:37:24.452443Z"
    }
   },
   "source": [
    "Below we have sampled 20 of the things that they reported which were not captured in the questionnaire."
   ]
  },
  {
   "cell_type": "code",
   "execution_count": 36,
   "metadata": {
    "ExecuteTime": {
     "end_time": "2018-10-25T08:06:14.967139Z",
     "start_time": "2018-10-25T08:06:14.946639Z"
    },
    "scrolled": true
   },
   "outputs": [
    {
     "name": "stdout",
     "output_type": "stream",
     "text": [
      "151    reinforced my understanding on the things i had done well during teaching,told me to follow the steps of teaching comprehension/ predictions, advised me on how to ensure that all pupils read to the expected fluency                                                                                                                                                                                         \n",
      "287    Pupils observe punctuaction martks during reading, correct articulation of sound /u/                                                                                                                                                                                                                                                                                                                           \n",
      "595    He majorly talked on infusion and told me to improve in infusing CBC. I didn't do it quite well.                                                                                                                                                                                                                                                                                                               \n",
      "214    The duration of the leasson.                                                                                                                                                                                                                                                                                                                                                                                   \n",
      "337    I was teaching Kiswahili and she was impressed with my prounouncements of words, She advised me to use more vocabulary words and should be relevant to the story I am preparing pupils to read., She told me the average correct words pupilswere able to read per minute, She told me to get stories from other sources to encourage learners to read more.                                                   \n",
      "565    The CSO said when it comes to vocubullary, i tool longer than the stipulated time especially the grammar part. He said its important that some times i give individuals time to read since those who are slow may not be able to read when it's the whole calss reading.                                                                                                                                       \n",
      "747    HE SAID THE TEACHERS GUIDE TO BE FOLLOWED WELL                                                                                                                                                                                                                                                                                                                                                                 \n",
      "343    Last feedback i did not discuss pictures in the story before reading the story. She guided me how to disucss the pictures.                                                                                                                                                                                                                                                                                     \n",
      "50     I was advised how to read the story in parts before the grade three books were issued                                                                                                                                                                                                                                                                                                                          \n",
      "641    empahsized on use of perky in learners                                                                                                                                                                                                                                                                                                                                                                         \n",
      "242    The CSO said there are pupils who are not able to read and advised me to group them according to those who know readng and those who don't. She encouraged me on peer teaching. We agreed that peer teaching to happen a lot during break time and lunch time..                                                                                                                                                \n",
      "301    He emphasised on helping learners reading through remedial teaching. He stressed on infusing the competence based curriuclum aspects in the Tusome lessons                                                                                                                                                                                                                                                     \n",
      "485    I reminded me to use the correct comphrehesion strategy as provided in the TE                                                                                                                                                                                                                                                                                                                                  \n",
      "131    I was advised to go throught the script first before covering the lesson and also not to write sounds on the board                                                                                                                                                                                                                                                                                             \n",
      "241    The CSO told me in a lesson i should always make sure there a group activity. He encouraged me to use a lot of learning materials. He also said in class, some pupils are getting kiswahili more than English , he said i should teach English in English and not in Kiswali but i find that a big challenge. The locality here is of pastrolists who don't even attend preunit so even kiswahili is difficult.\n",
      "77     She appriciated the effort I made in teaching the lesson and showed me how to teach grammar activity.                                                                                                                                                                                                                                                                                                          \n",
      "285    Correct Sound articulation                                                                                                                                                                                                                                                                                                                                                                                     \n",
      "500    I should create more time for the weak pupils in class.I should also check om my perky pace.                                                                                                                                                                                                                                                                                                                   \n",
      "315    he told me to use actions in teaching the meaning of the new words and use a sentence to bring out the meaning, i use my phone to time the speed of the learners                                                                                                                                                                                                                                               \n",
      "604    N/A.                                                                                                                                                                                                                                                                                                                                                                                                           \n",
      "Name: cso_fdbk_det, dtype: object\n"
     ]
    }
   ],
   "source": [
    "print(tchrs[tchrs.cso_fdbk_det.notna() & (tchrs.cso_fdbk_det != \"\")].cso_fdbk_det.sample(20))"
   ]
  },
  {
   "cell_type": "markdown",
   "metadata": {
    "ExecuteTime": {
     "end_time": "2018-10-21T16:01:03.622834Z",
     "start_time": "2018-10-21T16:01:03.615837Z"
    },
    "variables": {
     "int(100* (tchrs.cso_fdbk_showtab_yn.sum() / tchrs.vis_act_fdbk.sum()))": "56"
    }
   },
   "source": [
    "The tablets come equipped with various aids that CSOs could use to help coach teachers. In addition to the contents of the auto-generated feedback, CSOs could use the _Papaya_ application to model pronunciation of letter sounds, the videos demonstrating effective lesson delivery, etc. Of the teachers reporting CSOs provided feedback of some kind, {{int(100* (tchrs.cso_fdbk_showtab_yn.sum() / tchrs.vis_act_fdbk.sum()))}}% indicated that the CSO showed them something directly on the tablet."
   ]
  },
  {
   "cell_type": "code",
   "execution_count": 37,
   "metadata": {
    "ExecuteTime": {
     "end_time": "2018-10-25T08:06:15.297139Z",
     "start_time": "2018-10-25T08:06:15.224636Z"
    },
    "scrolled": true
   },
   "outputs": [
    {
     "data": {
      "text/html": [
       "<div>\n",
       "<style scoped>\n",
       "    .dataframe tbody tr th:only-of-type {\n",
       "        vertical-align: middle;\n",
       "    }\n",
       "\n",
       "    .dataframe tbody tr th {\n",
       "        vertical-align: top;\n",
       "    }\n",
       "\n",
       "    .dataframe thead th {\n",
       "        text-align: right;\n",
       "    }\n",
       "</style>\n",
       "<table border=\"1\" class=\"dataframe\">\n",
       "  <thead>\n",
       "    <tr style=\"text-align: right;\">\n",
       "      <th></th>\n",
       "      <th>resources</th>\n",
       "      <th>tchrs_reporting</th>\n",
       "      <th>pct</th>\n",
       "    </tr>\n",
       "  </thead>\n",
       "  <tbody>\n",
       "    <tr>\n",
       "      <th>0</th>\n",
       "      <td>Tips from feedback screen</td>\n",
       "      <td>167</td>\n",
       "      <td>22.75</td>\n",
       "    </tr>\n",
       "    <tr>\n",
       "      <th>1</th>\n",
       "      <td>Pupils' reading fluency</td>\n",
       "      <td>260</td>\n",
       "      <td>35.42</td>\n",
       "    </tr>\n",
       "    <tr>\n",
       "      <th>2</th>\n",
       "      <td>Videos of lesson delivery</td>\n",
       "      <td>128</td>\n",
       "      <td>17.44</td>\n",
       "    </tr>\n",
       "    <tr>\n",
       "      <th>3</th>\n",
       "      <td>Letter sounds in Papaya</td>\n",
       "      <td>230</td>\n",
       "      <td>31.34</td>\n",
       "    </tr>\n",
       "    <tr>\n",
       "      <th>4</th>\n",
       "      <td>Other</td>\n",
       "      <td>54</td>\n",
       "      <td>7.36</td>\n",
       "    </tr>\n",
       "  </tbody>\n",
       "</table>\n",
       "</div>"
      ],
      "text/plain": [
       "                   resources  tchrs_reporting    pct\n",
       "0  Tips from feedback screen  167              22.75\n",
       "1  Pupils' reading fluency    260              35.42\n",
       "2  Videos of lesson delivery  128              17.44\n",
       "3  Letter sounds in Papaya    230              31.34\n",
       "4  Other                      54               7.36 "
      ]
     },
     "execution_count": 37,
     "metadata": {},
     "output_type": "execute_result"
    }
   ],
   "source": [
    "fdbk_shown_df = pd.DataFrame.from_dict({\"resources\": [\"Tips from feedback screen\",\n",
    "                                                   \"Pupils' reading fluency\",\n",
    "                                                   \"Videos of lesson delivery\",\n",
    "                                                   \"Letter sounds in Papaya\",\n",
    "                                                   \"Other\"],\n",
    "                                    \"tchrs_reporting\":[\n",
    "                                        tchrs[tchrs.vis_act_fdbk != 0].cso_shw_tips.sum(),\n",
    "                                        tchrs[tchrs.vis_act_fdbk != 0].cso_shw_fluency.sum(),\n",
    "                                        tchrs[tchrs.vis_act_fdbk != 0].cso_shw_video.sum(),\n",
    "                                        tchrs[tchrs.vis_act_fdbk != 0].cso_shw_lsnd.sum(),\n",
    "                                        tchrs[tchrs.vis_act_fdbk != 0].cso_shw_other.sum()]})\n",
    "fdbk_shown_df[\"pct\"] = np.round(\n",
    "    fdbk_shown_df.tchrs_reporting.apply(\n",
    "    lambda x: 100 * (x/visact_df[visact_df.activities==\"Provided feedback on lesson\"].tchrs_reporting)),\n",
    "    decimals=2)\n",
    "fdbk_shown_df"
   ]
  },
  {
   "cell_type": "code",
   "execution_count": 38,
   "metadata": {
    "ExecuteTime": {
     "end_time": "2018-10-25T08:06:15.592639Z",
     "start_time": "2018-10-25T08:06:15.553638Z"
    },
    "scrolled": true
   },
   "outputs": [
    {
     "data": {
      "application/javascript": [
       "var spec = {\"config\": {\"view\": {\"width\": 400, \"height\": 300}}, \"data\": {\"name\": \"data-3455dea3988991c3c7a6a9b647d4bb91\"}, \"mark\": \"bar\", \"encoding\": {\"tooltip\": {\"type\": \"quantitative\", \"field\": \"tchrs_reporting\"}, \"x\": {\"type\": \"quantitative\", \"field\": \"pct\", \"title\": \"% of teachers responding\"}, \"y\": {\"type\": \"ordinal\", \"field\": \"resources\", \"sort\": {\"op\": \"values\", \"field\": \"tchrs_reporting\", \"order\": \"ascending\"}, \"title\": \"Resources named\"}}, \"title\": \"Tablet-based resources shown to Teachers by CSOs\", \"$schema\": \"https://vega.github.io/schema/vega-lite/v2.6.0.json\", \"datasets\": {\"data-3455dea3988991c3c7a6a9b647d4bb91\": [{\"resources\": \"Tips from feedback screen\", \"tchrs_reporting\": 167, \"pct\": 22.75}, {\"resources\": \"Pupils' reading fluency\", \"tchrs_reporting\": 260, \"pct\": 35.42}, {\"resources\": \"Videos of lesson delivery\", \"tchrs_reporting\": 128, \"pct\": 17.44}, {\"resources\": \"Letter sounds in Papaya\", \"tchrs_reporting\": 230, \"pct\": 31.34}, {\"resources\": \"Other\", \"tchrs_reporting\": 54, \"pct\": 7.36}]}};\n",
       "var opt = {};\n",
       "var type = \"vega-lite\";\n",
       "var id = \"379be127-6e0e-4a00-86d9-044b189f51f4\";\n",
       "\n",
       "var output_area = this;\n",
       "\n",
       "require([\"nbextensions/jupyter-vega/index\"], function(vega) {\n",
       "  var target = document.createElement(\"div\");\n",
       "  target.id = id;\n",
       "  target.className = \"vega-embed\";\n",
       "\n",
       "  var style = document.createElement(\"style\");\n",
       "  style.textContent = [\n",
       "    \".vega-embed .error p {\",\n",
       "    \"  color: firebrick;\",\n",
       "    \"  font-size: 14px;\",\n",
       "    \"}\",\n",
       "  ].join(\"\\\\n\");\n",
       "\n",
       "  // element is a jQuery wrapped DOM element inside the output area\n",
       "  // see http://ipython.readthedocs.io/en/stable/api/generated/\\\n",
       "  // IPython.display.html#IPython.display.Javascript.__init__\n",
       "  element[0].appendChild(target);\n",
       "  element[0].appendChild(style);\n",
       "\n",
       "  vega.render(\"#\" + id, spec, type, opt, output_area);\n",
       "}, function (err) {\n",
       "  if (err.requireType !== \"scripterror\") {\n",
       "    throw(err);\n",
       "  }\n",
       "});\n"
      ],
      "text/plain": [
       "<vega.vegalite.VegaLite at 0x1922f713a20>"
      ]
     },
     "metadata": {
      "jupyter-vega": "#379be127-6e0e-4a00-86d9-044b189f51f4"
     },
     "output_type": "display_data"
    },
    {
     "data": {
      "text/plain": []
     },
     "execution_count": 38,
     "metadata": {},
     "output_type": "execute_result"
    },
    {
     "data": {
      "image/png": "[encoded data removed]"
     },
     "metadata": {
      "jupyter-vega": "#379be127-6e0e-4a00-86d9-044b189f51f4"
     },
     "output_type": "display_data"
    }
   ],
   "source": [
    "alt.Chart(fdbk_shown_df, title=\"Tablet-based resources shown to Teachers by CSOs\").mark_bar().encode(\n",
    "alt.Y(\"resources:O\", \n",
    "      title=\"Resources named\",\n",
    "      sort = alt.EncodingSortField(field=\"tchrs_reporting\", op=\"values\", order=\"ascending\")),\n",
    "alt.X(\"pct:Q\",\n",
    "      title=\"% of teachers responding\"),\n",
    "tooltip = \"tchrs_reporting\")"
   ]
  },
  {
   "cell_type": "markdown",
   "metadata": {
    "ExecuteTime": {
     "end_time": "2018-10-25T04:51:04.504886Z",
     "start_time": "2018-10-25T04:51:04.494938Z"
    },
    "variables": {
     "int(fdbk_shown_df[fdbk_shown_df.resources==\"Letter sounds in Papaya\"].pct)": "31",
     "int(fdbk_shown_df[fdbk_shown_df.resources==\"Pupils' reading fluency\"].pct)": "35"
    }
   },
   "source": [
    "Overall, fewer than 50% of teachers indicated that CSOs showed them something on the tablet as part of the feedback session. Where the CSO showed something to the teacher, it was most frequently pupils' reading fluency (at {{int(fdbk_shown_df[fdbk_shown_df.resources==\"Pupils' reading fluency\"].pct)}}%), with Papaya letter sounds the next most common (at {{int(fdbk_shown_df[fdbk_shown_df.resources==\"Letter sounds in Papaya\"].pct)}}%)."
   ]
  },
  {
   "cell_type": "markdown",
   "metadata": {
    "ExecuteTime": {
     "end_time": "2018-10-25T05:02:19.094526Z",
     "start_time": "2018-10-25T05:02:19.086535Z"
    }
   },
   "source": [
    "**N.B.**: <span style=\"color:red\"> Update cell w literate programming re: which activity is in the lead. (Abstract one level further.)</span>\n",
    "\n",
    "Below we have sampled 20 of the things that they reported which were not captured in the questionnaire."
   ]
  },
  {
   "cell_type": "code",
   "execution_count": 39,
   "metadata": {
    "ExecuteTime": {
     "end_time": "2018-10-25T08:06:16.731639Z",
     "start_time": "2018-10-25T08:06:16.718640Z"
    },
    "scrolled": true
   },
   "outputs": [
    {
     "name": "stdout",
     "output_type": "stream",
     "text": [
      "245    She showed me how the lesson the is arranged from her teachers guide on the tablet                                              \n",
      "225    He showed me Lesson Duration and areas of improvements                                                                          \n",
      "733    The CSO showed me the duration i took while teaching the lesson and the number of words read by the learners that were assesssed\n",
      "640    fluecny level and played letter sound                                                                                           \n",
      "601    Some of the words that most learners didn't read correctly during pupils assessment                                             \n",
      "257    lesson duration, sometimes she does show me areas highlighted for improvement directly from the tablets                         \n",
      "275    Lesson duration                                                                                                                 \n",
      "676    in matehematics, he showed me a step in his tablet i had skipped,                                                               \n",
      "439    Video on teaching vocabulary                                                                                                    \n",
      "612    We are only shown something on tablet directly during Teacher training at zonal level                                           \n",
      "549    pronounciation of a word in the dictionary                                                                                      \n",
      "389    He showed me hand writing that he wanted my children to copy.                                                                   \n",
      "129    The time I took to teach the lesson.                                                                                            \n",
      "727    He showed me the number of words the learners were able to read with a specified time                                           \n",
      "326    He showed me the pupils fluency ability                                                                                         \n",
      "238    My lesson duration                                                                                                              \n",
      "353    showed me why she needs my TSC no,                                                                                              \n",
      "584    I could see him refer to the tablet as he gave me feedback                                                                      \n",
      "317    A video on a teacher teaching vocabulary                                                                                        \n",
      "465    To read the tablet feedback by myself                                                                                           \n",
      "Name: cso_shw_other_det, dtype: object\n"
     ]
    }
   ],
   "source": [
    "print(tchrs[tchrs.cso_shw_other_det.notna() & (tchrs.cso_shw_other_det != \"\")].cso_shw_other_det.sample(20))"
   ]
  },
  {
   "cell_type": "markdown",
   "metadata": {
    "variables": {
     "int(100 * (tchrs[tchrs.vis_before != 0].cso_ref_prev_fdbk_yn.sum()/tchrs.vis_before.sum()))": "63"
    }
   },
   "source": [
    "### CSOs' use of feedback visit-over-visit\n",
    "\n",
    "Tusome's theory of change stipulates that smaller, more frequent, and more targeted coaching interactions will shift teacher behavior more effectively than larger-scale, episodic training events that cover a broad range of topics. This is the reason Tusome invests so heavily in supporting CSOs to provide coaching support to teachers in the span between large-scale training events.\n",
    "\n",
    "Teachers, like most people, will be more likely to alter their behavior if feedback is timely and consistent, and the teachers' response to it is monitored rather than assumed. In this survey, roughly {{int(100 * (tchrs[tchrs.vis_before != 0].cso_ref_prev_fdbk_yn.sum()/tchrs.vis_before.sum()))}}% of teachers indicated that when CSOs visited the school and observed the teacher, they follow up on feedback from earlier visits."
   ]
  },
  {
   "cell_type": "markdown",
   "metadata": {
    "ExecuteTime": {
     "end_time": "2018-10-25T05:15:42.173892Z",
     "start_time": "2018-10-25T05:15:42.161890Z"
    }
   },
   "source": [
    "**T.D.**: <span style=\"color:red\"> Update cells so definitions of variable `literate programming` inputs are visible.</span>"
   ]
  },
  {
   "cell_type": "markdown",
   "metadata": {},
   "source": [
    "### Teachers self-reported improvement in response to coaching\n",
    "\n",
    "Effectively measuring the quality of instruction or lesson delivery is a very, very difficult task. (**T.D.**: <span style=\"color:red\"> Provide citations, examples of various approaches.</span>)\n",
    "\n",
    "The current study was not able to directly assess the quality of teachers' lesson delivery, although Tusome is working on various other studies which attempt to do so. However, we asked teachers whether they felt the coaching received from CSOs had improved the quality of their teaching. We first posed the question in regard to the teaching of reading in Kiswahili and English, and then asked them whether the coaching had improved their teaching in other subjects as well."
   ]
  },
  {
   "cell_type": "code",
   "execution_count": 40,
   "metadata": {
    "ExecuteTime": {
     "end_time": "2018-10-25T08:06:17.384157Z",
     "start_time": "2018-10-25T08:06:17.334154Z"
    },
    "scrolled": false
   },
   "outputs": [
    {
     "data": {
      "text/html": [
       "<div>\n",
       "<style scoped>\n",
       "    .dataframe tbody tr th:only-of-type {\n",
       "        vertical-align: middle;\n",
       "    }\n",
       "\n",
       "    .dataframe tbody tr th {\n",
       "        vertical-align: top;\n",
       "    }\n",
       "\n",
       "    .dataframe thead th {\n",
       "        text-align: right;\n",
       "    }\n",
       "</style>\n",
       "<table border=\"1\" class=\"dataframe\">\n",
       "  <thead>\n",
       "    <tr style=\"text-align: right;\">\n",
       "      <th></th>\n",
       "      <th>subject</th>\n",
       "      <th>tchrs_reporting</th>\n",
       "      <th>pct</th>\n",
       "    </tr>\n",
       "  </thead>\n",
       "  <tbody>\n",
       "    <tr>\n",
       "      <th>0</th>\n",
       "      <td>Kiswahili &amp; English reading</td>\n",
       "      <td>732.0</td>\n",
       "      <td>99.86</td>\n",
       "    </tr>\n",
       "    <tr>\n",
       "      <th>1</th>\n",
       "      <td>Other subjects</td>\n",
       "      <td>706.0</td>\n",
       "      <td>96.32</td>\n",
       "    </tr>\n",
       "  </tbody>\n",
       "</table>\n",
       "</div>"
      ],
      "text/plain": [
       "                       subject  tchrs_reporting    pct\n",
       "0  Kiswahili & English reading  732.0            99.86\n",
       "1  Other subjects               706.0            96.32"
      ]
     },
     "execution_count": 40,
     "metadata": {},
     "output_type": "execute_result"
    }
   ],
   "source": [
    "better_tchr_df = pd.DataFrame.from_dict(\n",
    "    {\"subject\": [\"Kiswahili & English reading\",\n",
    "                  \"Other subjects\"],\n",
    "     \"tchrs_reporting\": [tchrs[(tchrs.vis_act_fdbk != 0) &\n",
    "                                (tchrs.vis_before != 0)].cso_fdbk_better_tus.sum(),\n",
    "                          tchrs[(tchrs.vis_act_fdbk != 0) &\n",
    "                                (tchrs.vis_before != 0)].cso_fdbk_better_nont.sum()]})\n",
    "better_tchr_df[\"pct\"] = np.round(\n",
    "    better_tchr_df.tchrs_reporting.apply(\n",
    "    lambda x: 100 * (x/tchrs[(tchrs.vis_act_fdbk !=0) & (tchrs.vis_before != 0)].vis_before.sum())),\n",
    "    decimals=2)\n",
    "\n",
    "bttr_tus_pct = better_tchr_df[better_tchr_df.subject==\"Kiswahili & English reading\"].pct\n",
    "bttr_nont_pct = better_tchr_df[better_tchr_df.subject==\"Other subjects\"].pct\n",
    "better_tchr_df"
   ]
  },
  {
   "cell_type": "markdown",
   "metadata": {
    "ExecuteTime": {
     "end_time": "2018-10-25T08:00:36.505220Z",
     "start_time": "2018-10-25T08:00:36.491218Z"
    },
    "scrolled": true,
    "variables": {
     "float(bttr_nont_pct)": "96.32",
     "float(bttr_tus_pct)": "99.86"
    }
   },
   "source": [
    "Encouragingly, {{float(bttr_tus_pct)}}% and {{float(bttr_nont_pct)}}% - effectively all - teachers have indicated that the feedback they receive from CSOs has enabled them to be better teachers.\n",
    "\n",
    "Below we have sampled 20 of the examples teachers gave for how their teaching has improved as a result of the feedback."
   ]
  },
  {
   "cell_type": "code",
   "execution_count": 56,
   "metadata": {
    "ExecuteTime": {
     "end_time": "2018-10-25T08:21:31.462644Z",
     "start_time": "2018-10-25T08:21:31.447642Z"
    },
    "scrolled": false
   },
   "outputs": [
    {
     "name": "stdout",
     "output_type": "stream",
     "text": [
      "643    I had a problem with the pronounciation of sound/w/ and he corrected me using the sounds from the tablet                                                                                                                                                                                                           \n",
      "317    use the method to teach other classes I teach in upper.                                                                                                                                                                                                                                                            \n",
      "716    It has helped me improve Hygiene and Nutrition, Religious, Maths activities                                                                                                                                                                                                                                        \n",
      "686    when teaching comprehension ensure that pupils read fluently whille following punctuation mark                                                                                                                                                                                                                     \n",
      "641    use of perky pace has helped me enhance the speed                                                                                                                                                                                                                                                                  \n",
      "725    helped my lesson preparation                                                                                                                                                                                                                                                                                       \n",
      "721    lesson time management                                                                                                                                                                                                                                                                                             \n",
      "188    I now give formative feedback to learners in other subjects                                                                                                                                                                                                                                                        \n",
      "735    The feedback helped me improve on use of Tusome Direct model                                                                                                                                                                                                                                                       \n",
      "203    I able to link English and Kiswahili with other subjects like health and hygiene and environmental                                                                                                                                                                                                                 \n",
      "733    The CSO talked to me regarding making the class being a stimulating class that helped me replicate the same in other subjects                                                                                                                                                                                      \n",
      "464    I use English to help children under other subjects eg cart in scernce                                                                                                                                                                                                                                             \n",
      "405    It helps me to apply the use of i do/we do/you do while teaching other subjects                                                                                                                                                                                                                                    \n",
      "261    CSO told me to support slow readers in reading by creating more time for reading activities which has helped to improve reading levels of my pupils.I had a challenge in handling slow learners, CSO helped me with tips on how to support them which has improved performance.Learning has become more intresting.\n",
      "311    Infusion of CBC aspects in all the subjects. Reading levels                                                                                                                                                                                                                                                        \n",
      "619    I teach mother Tongue (literacy language) hence I borrow heavily sound pronounciation from Tusome.Tusome foundation has helped my childern to read and understand words in other learning areas.                                                                                                                   \n",
      "758    he told me to teach vocabulary words very clearly because they are the same words used in other subjects.                                                                                                                                                                                                          \n",
      "590    I use the DIM methodology in other subjects and also formative feedback to pupils i use it in other subjcets.                                                                                                                                                                                                      \n",
      "791    Letting pupils share ideas with partners in other subjects.                                                                                                                                                                                                                                                        \n",
      "298    I use flash cards, whch I have written words and ask my pupils to match the words with weather symbols during science lessons                                                                                                                                                                                      \n",
      "Name: cso_fdbk_better_det, dtype: object\n"
     ]
    }
   ],
   "source": [
    "print(tchrs[tchrs.cso_fdbk_better_det.notna() & (tchrs.cso_fdbk_better_det != \"\")].cso_fdbk_better_det.sample(20))"
   ]
  },
  {
   "cell_type": "markdown",
   "metadata": {
    "ExecuteTime": {
     "end_time": "2018-10-25T08:20:22.847466Z",
     "start_time": "2018-10-25T08:20:22.839964Z"
    },
    "scrolled": true
   },
   "source": [
    "### CSOs' discussion of pupil fluency\n",
    "\n",
    "The ultimate goal of Tusome is to improve reading outcomes in grades 1-3. Whether the project has been successful is determined by the pupils' reading skills (with an emphasis on _oral reading fluency_, or ORF, and reading comprehension) as demonstrated by their performance on an early grade reading assessment (EGRA).\n",
    "\n",
    "For a CSO's visit to be considered _complete_ or _valid_, one of the criteria is that it include an assessment of the reading skills of three randomly-selected pupils. These pupils are then provided a stimulus that contains a brief reading passage of ~50-100 words. As they read aloud from the stimulus, the CSO uses the _Tangerine_ application on the tablet to make note of any inaccurately read words. When the child has finished reading - or when 60 seconds elapses, whichever comes first - the assessment is complete. The child's fluency is then calculated using the formula\n",
    "\n",
    "$$\\frac{\\text{# of correct words}}{\\big(\\frac{60 \\ - \\ \\text{time remaining (s)}}{60}\\big)} = \\text{correct words per minute}$$\n",
    "\n",
    "The _Tangerine_ software calculates the average fluency in _cwpm_ across all three pupils and reports it as part of the lesson feedback. The CSO is able - but not required - to bring up the pupils' fluency as part of their feedback session."
   ]
  },
  {
   "cell_type": "code",
   "execution_count": 62,
   "metadata": {
    "ExecuteTime": {
     "end_time": "2018-10-25T08:42:10.042518Z",
     "start_time": "2018-10-25T08:42:10.002517Z"
    },
    "scrolled": true
   },
   "outputs": [
    {
     "data": {
      "text/html": [
       "<div>\n",
       "<style scoped>\n",
       "    .dataframe tbody tr th:only-of-type {\n",
       "        vertical-align: middle;\n",
       "    }\n",
       "\n",
       "    .dataframe tbody tr th {\n",
       "        vertical-align: top;\n",
       "    }\n",
       "\n",
       "    .dataframe thead th {\n",
       "        text-align: right;\n",
       "    }\n",
       "</style>\n",
       "<table border=\"1\" class=\"dataframe\">\n",
       "  <thead>\n",
       "    <tr style=\"text-align: right;\">\n",
       "      <th></th>\n",
       "      <th>response</th>\n",
       "      <th>tchrs_responding</th>\n",
       "      <th>pct</th>\n",
       "    </tr>\n",
       "  </thead>\n",
       "  <tbody>\n",
       "    <tr>\n",
       "      <th>0</th>\n",
       "      <td>CSO discusses fluency in feedback session</td>\n",
       "      <td>706.0</td>\n",
       "      <td>92.05</td>\n",
       "    </tr>\n",
       "    <tr>\n",
       "      <th>1</th>\n",
       "      <td>Teacher finds discussion of fluency useful</td>\n",
       "      <td>710.0</td>\n",
       "      <td>92.57</td>\n",
       "    </tr>\n",
       "  </tbody>\n",
       "</table>\n",
       "</div>"
      ],
      "text/plain": [
       "                                     response  tchrs_responding    pct\n",
       "0  CSO discusses fluency in feedback session   706.0             92.05\n",
       "1  Teacher finds discussion of fluency useful  710.0             92.57"
      ]
     },
     "execution_count": 62,
     "metadata": {},
     "output_type": "execute_result"
    }
   ],
   "source": [
    "fluency_disc_df = pd.DataFrame.from_dict({\"response\": [\n",
    "    \"CSO discusses fluency in feedback session\",\n",
    "    \"Teacher finds discussion of fluency useful\"],\n",
    "    \"tchrs_responding\": [\n",
    "        tchrs[tchrs.vis_before != 0].cso_fdbk_discfluency.sum(),\n",
    "        tchrs[tchrs.vis_before != 0].cso_fdbk_flu_useful.sum()]})\n",
    "\n",
    "fluency_disc_df[\"pct\"] = np.round(100 * \n",
    "                        fluency_disc_df.tchrs_responding.apply(\n",
    "                            lambda x: x / (tchrs.vis_before.sum())), decimals=2)\n",
    "\n",
    "flu_cso_disc = fluency_disc_df[fluency_disc_df.response==\"CSO discusses fluency in feedback session\"].pct\n",
    "flu_disc_use = fluency_disc_df[fluency_disc_df.response==\"Teacher finds discussion of fluency useful\"].pct\n",
    "fluency_disc_df"
   ]
  },
  {
   "cell_type": "markdown",
   "metadata": {
    "variables": {
     "float(flu_cso_disc)": "92.05",
     "float(flu_disc_use)": "92.57"
    }
   },
   "source": [
    "It appears the overwhelming majority of CSOs ({{float(flu_cso_disc)}}%) discuss the pupils' fluency with the teachers, and the teachers overwhelmingly ({{float(flu_disc_use)}}%) find it a useful discussion. But how do teachers make use of that insight?\n",
    "\n",
    "Below we have sampled 20 of the examples teachers gave for what they do with knowledge of their pupils' fluency rates."
   ]
  },
  {
   "cell_type": "code",
   "execution_count": 63,
   "metadata": {
    "ExecuteTime": {
     "end_time": "2018-10-25T08:45:10.201140Z",
     "start_time": "2018-10-25T08:45:10.186626Z"
    },
    "scrolled": false
   },
   "outputs": [
    {
     "name": "stdout",
     "output_type": "stream",
     "text": [
      "119    I use the information to assist slow/non-readers and encourage them work in groups of mixed ability for peer support                                                                                                                                       \n",
      "191    I work extra hard especially on weak learners so as to improve their fluency, for strong learners, i normally give them more materials to read.                                                                                                            \n",
      "49     I do remedial classes for those children who are not able to read                                                                                                                                                                                          \n",
      "551    I use this information to encourage the slow learners to improve by giving them more practice on reading..                                                                                                                                                 \n",
      "295    Feedback on assessment has made me know which learners are struggling and I have been able to help them.                                                                                                                                                   \n",
      "74     I give them story books to practice reading.                                                                                                                                                                                                               \n",
      "511    help me in giving those with difficulties activities that will help them improve                                                                                                                                                                           \n",
      "568    The fluency level helped me help my pupils on increasing their speed of reading since they were slow in reading.                                                                                                                                           \n",
      "750    I used the information to help the pupilswho were ragging behind in reading.                                                                                                                                                                               \n",
      "185    I just go back to my learners and put more effort to teach them how to read. As I had told you they are gifted differently. There are those who can say the sounds, there are those who can read the whole word. In the afternoon I help the weak learners.\n",
      "566    The information helps me to teach the pupils who are slow and ther weak areas. I have now been using story books for more parctice.                                                                                                                        \n",
      "192    I use the information this way, the fast learners can help/assist the slow learners                                                                                                                                                                        \n",
      "450    i use the rates to their abialitiesgauge my teaching effctiveness and focus on the weak learners to improv                                                                                                                                                 \n",
      "344    How to invlve all the pupils during learning                                                                                                                                                                                                               \n",
      "689    I share with my colleagues and then work on it                                                                                                                                                                                                             \n",
      "209    In my class, not all learners could read. He helped me on how to group them so that the onbe who knows how to read sits with the one who cannot read. Today I can say three quarters of my class can read well.                                            \n",
      "35     understand the level your learners                                                                                                                                                                                                                         \n",
      "457    It helps to assist the learners who cannot read well to be able to read at the benchmark.                                                                                                                                                                  \n",
      "796    It guides me to plan for remedial work and hence improve the fluency rates.                                                                                                                                                                                \n",
      "675    The information gave me an opportunity to continually support every pupil in my class to improve in their reading fluency.                                                                                                                                 \n",
      "Name: cso_fdbk_flu_dowith, dtype: object\n"
     ]
    }
   ],
   "source": [
    "print(tchrs[tchrs.cso_fdbk_flu_dowith.notna() & (tchrs.cso_fdbk_flu_dowith != \"\")].cso_fdbk_flu_dowith.sample(20))"
   ]
  },
  {
   "cell_type": "markdown",
   "metadata": {},
   "source": [
    "### Disruption caused by tablet use\n",
    "\n",
    "Pupils are easily distracted by the presence of unfamiliar adults in the classroom. However, if the adult sits quietly and unobtrusively in the rear of the classroom, the children rapidly become acclimated to the visitor's presence and are able to focus on the lesson.\n",
    "\n",
    "For many children in rural schools, however, tablet computers are an unfamiliar sight. Tusome was interested to know whether the CSOs' use of tablets to conduct the classroom observation or assess the pupils' fluency is perceived as disruptive."
   ]
  },
  {
   "cell_type": "code",
   "execution_count": 75,
   "metadata": {
    "ExecuteTime": {
     "end_time": "2018-10-25T09:13:54.772495Z",
     "start_time": "2018-10-25T09:13:54.743450Z"
    },
    "scrolled": true
   },
   "outputs": [
    {
     "data": {
      "text/html": [
       "<div>\n",
       "<style scoped>\n",
       "    .dataframe tbody tr th:only-of-type {\n",
       "        vertical-align: middle;\n",
       "    }\n",
       "\n",
       "    .dataframe tbody tr th {\n",
       "        vertical-align: top;\n",
       "    }\n",
       "\n",
       "    .dataframe thead th {\n",
       "        text-align: right;\n",
       "    }\n",
       "</style>\n",
       "<table border=\"1\" class=\"dataframe\">\n",
       "  <thead>\n",
       "    <tr style=\"text-align: right;\">\n",
       "      <th></th>\n",
       "      <th>case</th>\n",
       "      <th>distracting</th>\n",
       "      <th>pct</th>\n",
       "    </tr>\n",
       "  </thead>\n",
       "  <tbody>\n",
       "    <tr>\n",
       "      <th>0</th>\n",
       "      <td>CSO tablet use for observation</td>\n",
       "      <td>34.0</td>\n",
       "      <td>4.0</td>\n",
       "    </tr>\n",
       "    <tr>\n",
       "      <th>1</th>\n",
       "      <td>CSO tablet use for feedback</td>\n",
       "      <td>16.0</td>\n",
       "      <td>2.0</td>\n",
       "    </tr>\n",
       "  </tbody>\n",
       "</table>\n",
       "</div>"
      ],
      "text/plain": [
       "                             case  distracting  pct\n",
       "0  CSO tablet use for observation  34.0         4.0\n",
       "1  CSO tablet use for feedback     16.0         2.0"
      ]
     },
     "execution_count": 75,
     "metadata": {},
     "output_type": "execute_result"
    }
   ],
   "source": [
    "tchr_dist_df = pd.DataFrame.from_dict({\n",
    "    \"case\": [\n",
    "        \"CSO tablet use for observation\",\n",
    "        \"CSO tablet use for feedback\"],\n",
    "    \"distracting\": [\n",
    "        tchrs[tchrs.vis_before != 0].cso_tab_distract_yn.sum(),\n",
    "        tchrs[tchrs.vis_before != 0].cso_tab_fdbk_distrac.sum()]})\n",
    "\n",
    "tchr_dist_df[\"pct\"] = 100 * np.round(tchr_dist_df.distracting.apply(\n",
    "    lambda x: x / tchrs.vis_before.sum()),\n",
    "             decimals=2)\n",
    "\n",
    "distracting_tab_obs = float(tchr_dist_df[tchr_dist_df.case==\"CSO tablet use for observation\"].pct)\n",
    "distracting_tab_fdbk = float(tchr_dist_df[tchr_dist_df.case==\"CSO tablet use for feedback\"].pct)\n",
    "\n",
    "tchr_dist_df"
   ]
  },
  {
   "cell_type": "markdown",
   "metadata": {
    "variables": {
     "distracting_tab_fdbk": "2.0",
     "distracting_tab_obs": "4.0"
    }
   },
   "source": [
    "Reassuringly, very few teachers responded that they find it distracting when the CSO used a tablet during observation or during feedback ({{distracting_tab_obs}}% and {{distracting_tab_fdbk}}%, respectively). It is worth considering why they found the tablet use distracting; because the numbers are so low, the lists below present all responses rather than just a sample."
   ]
  },
  {
   "cell_type": "code",
   "execution_count": 77,
   "metadata": {
    "ExecuteTime": {
     "end_time": "2018-10-25T09:17:19.103340Z",
     "start_time": "2018-10-25T09:17:19.094340Z"
    },
    "scrolled": true
   },
   "outputs": [
    {
     "name": "stdout",
     "output_type": "stream",
     "text": [
      "1      Pupils get attention of the tablet                                                                                                                                                          \n",
      "13     at times it is distracting when the CSO takes a photo using the tablet. This mostly affects the pupils. It was a challenge to me the first time she took the photos but now I am used to it.\n",
      "26     some learners look at the CSO at the back of the class as he he uses tablet hence distracting their attention                                                                               \n",
      "47     The curious one always keep on looking at the tablet instead of listening to me                                                                                                             \n",
      "89     Some of the children sitting next to the children get distraccted and stop looking and the board.They are are also not comfortable because they are not used to it.                         \n",
      "108    N/A s                                                                                                                                                                                       \n",
      "113    N/As                                                                                                                                                                                        \n",
      "132    Because the pupils keep on looking at the CSO and not the teacher when am teaching                                                                                                          \n",
      "148    N/A                                                                                                                                                                                         \n",
      "165    N/A                                                                                                                                                                                         \n",
      "224    Sometimes the learners try to look behind but i control them.                                                                                                                               \n",
      "231    sometimes the pupils are atrracted by the tablet as the CSO type                                                                                                                            \n",
      "264    N/A                                                                                                                                                                                         \n",
      "273    N/A                                                                                                                                                                                         \n",
      "278    Pupils are glued to the tablet.                                                                                                                                                             \n",
      "284    The kids concentrate on the tablet                                                                                                                                                          \n",
      "297    My pupils are eager to find out what the CSO is keying in the tablet                                                                                                                        \n",
      "298    My pupils would be interested to know more about the tablet and hence poor concentration during the lesson                                                                                  \n",
      "324    helps me put those with difficulties in reading under remedial                                                                                                                              \n",
      "341    N/A                                                                                                                                                                                         \n",
      "387    I m not used to it                                                                                                                                                                          \n",
      "596    Some pupils tend to concetrate at the CSO using the tablets behind the class while am teaching in class                                                                                     \n",
      "625    Sometimes my learners become interested in what the CSO is doing                                                                                                                            \n",
      "654    It creates curiosit to my learners                                                                                                                                                          \n",
      "676    sometimes the learners turn to see what the CSo is doing, for me its not                                                                                                                    \n",
      "728    The table diverts the learners attention and they will not concentrate on the lesson i am teaching                                                                                          \n",
      "774    This is because i have a class of 71 learners and the ones who were near the CSO, were being distracted by the CSO's tablet. Majority of the learners were OK                               \n",
      "Name: cso_tab_distract_why, dtype: object\n"
     ]
    }
   ],
   "source": [
    "print(tchrs[(tchrs.cso_tab_distract_why != \"\") & tchrs.cso_tab_distract_why.notna()].cso_tab_distract_why)"
   ]
  },
  {
   "cell_type": "code",
   "execution_count": 78,
   "metadata": {
    "ExecuteTime": {
     "end_time": "2018-10-25T09:18:13.597449Z",
     "start_time": "2018-10-25T09:18:13.585454Z"
    },
    "scrolled": true
   },
   "outputs": [
    {
     "name": "stdout",
     "output_type": "stream",
     "text": [
      "35     it arouses curiosity therefore disrupt concentration of the learners                                                                                                                                                                                                         \n",
      "50     I am distracted because i don't know what he will tell me                                                                                                                                                                                                                    \n",
      "176    Because i am not aware what he is doing with the tablet but if both are looking at it, i will not find it distracting                                                                                                                                                        \n",
      "206    My thinking is that the CSO is recording me and can be used in other places                                                                                                                                                                                                  \n",
      "241    When he is giving me feedback find it distracting that the CSO has to keep on looking on the tablet, I wonder what he is looking at or reading from the tablet. I prefer that he uses a a hardcopy of a real book not from his tablet since i cant see what he is looking at.\n",
      "423    N/A                                                                                                                                                                                                                                                                          \n",
      "522    No                                                                                                                                                                                                                                                                           \n",
      "749    N/A                                                                                                                                                                                                                                                                          \n",
      "Name: cso_fdbk_tab_diswhy, dtype: object\n"
     ]
    }
   ],
   "source": [
    "print(tchrs[(tchrs.cso_fdbk_tab_diswhy != \"\") & tchrs.cso_fdbk_tab_diswhy.notna()].cso_fdbk_tab_diswhy)"
   ]
  },
  {
   "cell_type": "markdown",
   "metadata": {},
   "source": [
    "While these results are encouraging, it may be that CSOs' tablet use is more distracting when it is the pupils themselves who are the object of the CSO's attention. We asked teachers whether they were present during the assessment of pupils' reading skills, and if so, whether it was their sense that pupils were distracted by the tablet use."
   ]
  },
  {
   "cell_type": "code",
   "execution_count": 112,
   "metadata": {
    "ExecuteTime": {
     "end_time": "2018-10-25T09:46:40.534032Z",
     "start_time": "2018-10-25T09:46:40.492032Z"
    },
    "scrolled": true
   },
   "outputs": [
    {
     "data": {
      "text/html": [
       "<div>\n",
       "<style scoped>\n",
       "    .dataframe tbody tr th:only-of-type {\n",
       "        vertical-align: middle;\n",
       "    }\n",
       "\n",
       "    .dataframe tbody tr th {\n",
       "        vertical-align: top;\n",
       "    }\n",
       "\n",
       "    .dataframe thead th {\n",
       "        text-align: right;\n",
       "    }\n",
       "</style>\n",
       "<table border=\"1\" class=\"dataframe\">\n",
       "  <thead>\n",
       "    <tr style=\"text-align: right;\">\n",
       "      <th></th>\n",
       "      <th>response</th>\n",
       "      <th>tchrs_responding</th>\n",
       "      <th>numerator</th>\n",
       "      <th>pct</th>\n",
       "    </tr>\n",
       "  </thead>\n",
       "  <tbody>\n",
       "    <tr>\n",
       "      <th>0</th>\n",
       "      <td>Teacher observed the assessment</td>\n",
       "      <td>449</td>\n",
       "      <td>767</td>\n",
       "      <td>59.0</td>\n",
       "    </tr>\n",
       "    <tr>\n",
       "      <th>1</th>\n",
       "      <td>Pupils found the tablet distracting</td>\n",
       "      <td>98</td>\n",
       "      <td>449</td>\n",
       "      <td>22.0</td>\n",
       "    </tr>\n",
       "  </tbody>\n",
       "</table>\n",
       "</div>"
      ],
      "text/plain": [
       "                              response  tchrs_responding  numerator   pct\n",
       "0  Teacher observed the assessment      449               767        59.0\n",
       "1  Pupils found the tablet distracting  98                449        22.0"
      ]
     },
     "execution_count": 112,
     "metadata": {},
     "output_type": "execute_result"
    }
   ],
   "source": [
    "pupil_dist_df = pd.DataFrame.from_dict({\n",
    "    \"response\": [\n",
    "        \"Teacher observed the assessment\",\n",
    "        \"Pupils found the tablet distracting\"],\n",
    "    \"tchrs_responding\": [\n",
    "        int(tchrs[tchrs.vis_before != 0].cso_pres_ass_tab.sum()),\n",
    "        int(tchrs[tchrs.vis_before != 0].cso_pup_distract_ass.sum())]})\n",
    "\n",
    "pupil_dist_df[\"numerator\"] = [\n",
    "    int(tchrs.vis_before.sum()),\n",
    "    int(pupil_dist_df[pupil_dist_df.response==\"Teacher observed the assessment\"].tchrs_responding)]\n",
    "\n",
    "pupil_dist_df[\"pct\"] = 100 * np.round(pupil_dist_df.tchrs_responding / pupil_dist_df.numerator, 2)\n",
    "\n",
    "tchrs_obsd_assmt = int(pupil_dist_df[pupil_dist_df.response==\"Teacher observed the assessment\"].pct)\n",
    "pupils_distracted = int(pupil_dist_df[pupil_dist_df.response==\"Pupils found the tablet distracting\"].pct)\n",
    "\n",
    "pupil_dist_df"
   ]
  },
  {
   "cell_type": "markdown",
   "metadata": {
    "ExecuteTime": {
     "end_time": "2018-10-25T09:43:54.269939Z",
     "start_time": "2018-10-25T09:43:54.259439Z"
    }
   },
   "source": [
    "Roughly {{tchrs_obsd_assmt}}% of the teachers said they had observed the CSO's assessment of the pupils' reading skills. Of those, {{pupils_distracted}}% thought the pupils found the tablet distracting. This may suggest a need for Tusome to provide additional training or orientation to CSOs on best practices in assessment administration.\n",
    "\n",
    "Below we sample 20 of the reasons teachers provided for why they thought pupils found tablet use distracting during the assessment."
   ]
  },
  {
   "cell_type": "code",
   "execution_count": 115,
   "metadata": {
    "ExecuteTime": {
     "end_time": "2018-10-25T09:50:36.492518Z",
     "start_time": "2018-10-25T09:50:36.479515Z"
    }
   },
   "outputs": [
    {
     "name": "stdout",
     "output_type": "stream",
     "text": [
      "245    In class 1 the pupils look more at the tablet than the stimulus which affects the reading ability of the child. Sometimes the pupils just look at the tablets because they havent seen such a tablet before so they focus more on the tablet. The stimulus is also distracting because pupils are used to reading books. Small children are not used to new people so by the time they get used to the CSO, they fear her a lot affecting their reading.\n",
      "687    They wanted to see what she was doing                                                                                                                                                                                                                                                                                                                                                                                                                   \n",
      "440    Pupils want to see what he is typing in the tablet                                                                                                                                                                                                                                                                                                                                                                                                      \n",
      "102    N/A                                                                                                                                                                                                                                                                                                                                                                                                                                                     \n",
      "148    My learners find it distracting because they are not used to reading from the tablet. they like reading something written and not in a tablet.pls                                                                                                                                                                                                                                                                                                       \n",
      "181    N/A                                                                                                                                                                                                                                                                                                                                                                                                                                                     \n",
      "82     Others were somehow afraid to read as they could look at the tablet but others were quite ok with reading.                                                                                                                                                                                                                                                                                                                                              \n",
      "201    N/ A.                                                                                                                                                                                                                                                                                                                                                                                                                                                   \n",
      "220    Some pupils were shy                                                                                                                                                                                                                                                                                                                                                                                                                                    \n",
      "73     Others were looking at the back,they stopped doing their work.                                                                                                                                                                                                                                                                                                                                                                                          \n",
      "606    N/A                                                                                                                                                                                                                                                                                                                                                                                                                                                     \n",
      "650    For the first time due to curiosity                                                                                                                                                                                                                                                                                                                                                                                                                     \n",
      "300    My learners got distracted by looking at the colour, the shape and the tablet itself because it is not a common phenomena                                                                                                                                                                                                                                                                                                                               \n",
      "442    My learners are always wondering what the CSO is doing on the tablet                                                                                                                                                                                                                                                                                                                                                                                    \n",
      "91     They are used to the tablets since they also use them in class. So they are never distracted.                                                                                                                                                                                                                                                                                                                                                           \n",
      "433    their concentration was more on the tablet than the stimulus.It raised anxiety among pupils                                                                                                                                                                                                                                                                                                                                                             \n",
      "788    From the environment where most of them come from, most likey it is their first time to see a tablet, and might not concentrate on the reading part. One of them failed completely to read on the story given                                                                                                                                                                                                                                           \n",
      "129    N/A- The children are used to the tablets since their parents have them at home.                                                                                                                                                                                                                                                                                                                                                                        \n",
      "647    they are excited to see a visitor and the concetration is low                                                                                                                                                                                                                                                                                                                                                                                           \n",
      "815    some pupils are more interested in the features on the tablet unlike focussing on intended reading assesment.                                                                                                                                                                                                                                                                                                                                           \n",
      "Name: cso_pup_dist_why, dtype: object\n"
     ]
    }
   ],
   "source": [
    "print(tchrs[(tchrs.cso_pup_dist_why != \"\") & tchrs.cso_pup_dist_why.notna()].cso_pup_dist_why.sample(20))"
   ]
  },
  {
   "cell_type": "markdown",
   "metadata": {},
   "source": [
    "### Teachers' ongoing assessment of pupil fluency\n",
    "\n",
    "Teachers are fully capable of assessing their pupils' reading fluency without recourse to a tablet. However, RTI has experimented with an Android-based pupil performance tracking tool that might be of use to teachers. Therefore we were interested to understand the extent to which teachers are already assessing pupils' fluency, what tools they are using for the task, whether they have access to phones on which such a tool could be deployed, and whether they would want to use it if so."
   ]
  },
  {
   "cell_type": "code",
   "execution_count": 117,
   "metadata": {
    "ExecuteTime": {
     "end_time": "2018-10-25T10:20:32.593787Z",
     "start_time": "2018-10-25T10:20:32.588287Z"
    }
   },
   "outputs": [],
   "source": [
    "tchrs_assessing = 100 * np.round(tchrs.tchr_ass_pup_flu_yn.sum() / tchrs.shape[0], decimals=2)"
   ]
  },
  {
   "cell_type": "markdown",
   "metadata": {
    "variables": {
     "int(tchrs_assessing)": "91",
     "print(tchrs[(tchrs.tchr_ass_pup_flu_yn != 0) &amp; (tchrs.tchr_ass_pup_tools != \"\") &amp; tchrs.tchr_ass_pup_tools.notna()].tchr_ass_pup_tools.sample(20))": "<p><strong>SyntaxError</strong>: invalid syntax (<ipython-input-120-a549e6f8c225>, line 1)</p>\n"
    }
   },
   "source": [
    "Roughly {{int(tchrs_assessing)}}% of teachers we spoke to indicated they assess their pupils' fluency. When asked to specify what tools they use for the task, they specified the following.\n",
    "\n",
    "{{print(tchrs[(tchrs.tchr_ass_pup_flu_yn != 0) & (tchrs.tchr_ass_pup_tools != \"\") & tchrs.tchr_ass_pup_tools.notna()].tchr_ass_pup_tools.sample(20))}}"
   ]
  },
  {
   "cell_type": "code",
   "execution_count": 119,
   "metadata": {
    "ExecuteTime": {
     "end_time": "2018-10-25T10:22:59.416437Z",
     "start_time": "2018-10-25T10:22:59.402441Z"
    }
   },
   "outputs": [
    {
     "name": "stdout",
     "output_type": "stream",
     "text": [
      "302    I use reading materials like story books                                                                                                                                                                                                                                                                                                                                     \n",
      "438    i give pupils flash cards which I have put in a box and they read even the sounds,sometimes I give them paper articles to read/simple magazines\\r                                                                                                                                                                                                                            \n",
      "509    give them words and short sentences to read for me                                                                                                                                                                                                                                                                                                                           \n",
      "615    I usually write words on paper and call the targeted pupils to read individually outside lesson time or during lesson time.I also give them work to read to their Guadians or parents.And when they come back to school I call them to read to me as I record using below expectation,towards expectations,meeting expectations and exceeding expectations.I don't time them.\n",
      "120    I use individuals reading from Tusome stories during remedial and time them using a stop watch to test speed of reading.                                                                                                                                                                                                                                                     \n",
      "437    when it is time for story reading ,i have pupils read the Tusome story to the class and then I ask questions\\r                                                                                                                                                                                                                                                               \n",
      "449    I use a book called sound and read. I call on leaners to read and I record to know who are reading and who have challenges.                                                                                                                                                                                                                                                  \n",
      "359    I time them for 4 minutes to read an extract during exmas (English 100 words, Kiswahili 100words) using a watch                                                                                                                                                                                                                                                              \n",
      "368    I use my books. I call the child and then she comes and reads. That way am able to gauge their reading fluency                                                                                                                                                                                                                                                               \n",
      "686    write sentences and words to read                                                                                                                                                                                                                                                                                                                                            \n",
      "172    I use an already set story to assess their reading levels as i time                                                                                                                                                                                                                                                                                                          \n",
      "22     Use different words from different parts of the syllabus and write them somewhere and tell them to read to see ther speed                                                                                                                                                                                                                                                    \n",
      "733    i give individual learners texts to read from Tusome books and i also give them supplementary readers provided by Tusome. I give end term tusome reading assessments exams to the learners to read while timimg them using a watch                                                                                                                                           \n",
      "606    I give a passage or words to read and mark what is right.                                                                                                                                                                                                                                                                                                                    \n",
      "276    text from Tusome books, phone for timing                                                                                                                                                                                                                                                                                                                                     \n",
      "670    I give them passages to read as I gauge them.                                                                                                                                                                                                                                                                                                                                \n",
      "419    I use words and stories from Tusome books and also use my phone for timimg reading                                                                                                                                                                                                                                                                                           \n",
      "604    Pupils read a text, words and I observe their speed and pronunciations.                                                                                                                                                                                                                                                                                                      \n",
      "824    I do reading lessons in the afternoon, i don't use any device                                                                                                                                                                                                                                                                                                                \n",
      "78     I use reading materials like story books                                                                                                                                                                                                                                                                                                                                     \n",
      "Name: tchr_ass_pup_tools, dtype: object\n"
     ]
    }
   ],
   "source": [
    "print(tchrs[(tchrs.tchr_ass_pup_flu_yn != 0) & (tchrs.tchr_ass_pup_tools != \"\") & tchrs.tchr_ass_pup_tools.notna()].tchr_ass_pup_tools.sample(20))"
   ]
  },
  {
   "cell_type": "code",
   "execution_count": 123,
   "metadata": {
    "ExecuteTime": {
     "end_time": "2018-10-25T10:41:40.591649Z",
     "start_time": "2018-10-25T10:41:40.570648Z"
    }
   },
   "outputs": [
    {
     "data": {
      "text/html": [
       "<div>\n",
       "<style scoped>\n",
       "    .dataframe tbody tr th:only-of-type {\n",
       "        vertical-align: middle;\n",
       "    }\n",
       "\n",
       "    .dataframe tbody tr th {\n",
       "        vertical-align: top;\n",
       "    }\n",
       "\n",
       "    .dataframe thead th {\n",
       "        text-align: right;\n",
       "    }\n",
       "</style>\n",
       "<table border=\"1\" class=\"dataframe\">\n",
       "  <thead>\n",
       "    <tr style=\"text-align: right;\">\n",
       "      <th></th>\n",
       "      <th>response</th>\n",
       "      <th>tchrs_responding</th>\n",
       "      <th>pct</th>\n",
       "    </tr>\n",
       "  </thead>\n",
       "  <tbody>\n",
       "    <tr>\n",
       "      <th>0</th>\n",
       "      <td>Teacher has a phone</td>\n",
       "      <td>814.0</td>\n",
       "      <td>98.0</td>\n",
       "    </tr>\n",
       "    <tr>\n",
       "      <th>1</th>\n",
       "      <td>Phone is an Android</td>\n",
       "      <td>654.0</td>\n",
       "      <td>79.0</td>\n",
       "    </tr>\n",
       "    <tr>\n",
       "      <th>2</th>\n",
       "      <td>Teacher would like a tool</td>\n",
       "      <td>813.0</td>\n",
       "      <td>98.0</td>\n",
       "    </tr>\n",
       "  </tbody>\n",
       "</table>\n",
       "</div>"
      ],
      "text/plain": [
       "                    response  tchrs_responding   pct\n",
       "0  Teacher has a phone        814.0             98.0\n",
       "1  Phone is an Android        654.0             79.0\n",
       "2  Teacher would like a tool  813.0             98.0"
      ]
     },
     "execution_count": 123,
     "metadata": {},
     "output_type": "execute_result"
    }
   ],
   "source": [
    "tang_tool_df = pd.DataFrame.from_dict({\n",
    "    \"response\": [\"Teacher has a phone\",\n",
    "                 \"Phone is an Android\",\n",
    "                 \"Teacher would like a tool\"],\n",
    "    \"tchrs_responding\": [\n",
    "        tchrs.tch_mob_phone.sum(),\n",
    "        tchrs.tch_has_android.sum(),\n",
    "        tchrs.tch_wants_assess.sum()]})\n",
    "\n",
    "tang_tool_df[\"pct\"] = 100 * np.round(tang_tool_df.tchrs_responding.apply(lambda x: x / tchrs.shape[0]), decimals=2)\n",
    "tang_tool_df"
   ]
  },
  {
   "cell_type": "markdown",
   "metadata": {},
   "source": [
    "Nearly all teachers interviewed indicated they have access to a mobile phone; nearly 4 out of 5 teachers indicated their phone is an Android. Nearly all teachers - even those who don't have an Android - said they would like to have access to a tool that would provide them sample assessments they could do with their pupils."
   ]
  },
  {
   "cell_type": "code",
   "execution_count": null,
   "metadata": {},
   "outputs": [],
   "source": []
  },
  {
   "cell_type": "markdown",
   "metadata": {},
   "source": [
    "## CSO Instrument"
   ]
  },
  {
   "cell_type": "markdown",
   "metadata": {
    "ExecuteTime": {
     "end_time": "2018-10-12T13:38:15.821761Z",
     "start_time": "2018-10-12T13:38:15.784758Z"
    }
   },
   "source": [
    "Here we begin exploring the data we obtained from interviewing the CSOs."
   ]
  },
  {
   "cell_type": "markdown",
   "metadata": {},
   "source": [
    "### Length of experience using tablet-based Tangerine\n",
    "_When did you first receive a tablet from Tusome or PRIMR?_\n",
    "\n",
    "We want to convert the year/month CSOs provided into a number so we can work with it easily. We'll make the simplifying assumption that the tablet was received on the first day of the month they provided, and that this interview was conducted on the first day of the month. Neither of those are true, but the marginal days are unlikely to make a practical difference in a CSO's facility with the tool."
   ]
  },
  {
   "cell_type": "code",
   "execution_count": 41,
   "metadata": {
    "ExecuteTime": {
     "end_time": "2018-10-25T08:06:18.001828Z",
     "start_time": "2018-10-25T08:06:17.983303Z"
    },
    "scrolled": true
   },
   "outputs": [],
   "source": [
    "now = dt.datetime(2018, 10, 1)\n",
    "csos[\"tab_usage\"] = pd.to_timedelta(now - pd.to_datetime({\"year\": csos.recd_tab_yr, \"month\": csos.recd_tab_month, \"day\": 1})).dt.days"
   ]
  },
  {
   "cell_type": "markdown",
   "metadata": {
    "ExecuteTime": {
     "end_time": "2018-10-18T06:22:41.067578Z",
     "start_time": "2018-10-18T06:22:41.040577Z"
    }
   },
   "source": [
    "We'll also want to convert the duration to months, since that will be easier to digest, and filter out any missing values."
   ]
  },
  {
   "cell_type": "code",
   "execution_count": 42,
   "metadata": {
    "ExecuteTime": {
     "end_time": "2018-10-25T08:06:18.290884Z",
     "start_time": "2018-10-25T08:06:18.280882Z"
    },
    "scrolled": false
   },
   "outputs": [],
   "source": [
    "tab_usage = pd.DataFrame(csos[csos.tab_usage.notna()].tab_usage / 30)\n",
    "# tab_usage"
   ]
  },
  {
   "cell_type": "code",
   "execution_count": 43,
   "metadata": {
    "ExecuteTime": {
     "end_time": "2018-10-25T08:06:18.339381Z",
     "start_time": "2018-10-25T08:06:18.307882Z"
    },
    "scrolled": true
   },
   "outputs": [
    {
     "data": {
      "application/javascript": [
       "var spec = {\"config\": {\"view\": {\"width\": 400, \"height\": 300}}, \"data\": {\"name\": \"data-3b244c189a682ad7e2da9b5f2e9abe5c\"}, \"mark\": \"bar\", \"encoding\": {\"x\": {\"type\": \"quantitative\", \"bin\": {\"step\": 1}, \"field\": \"tab_usage\", \"title\": \"# Months has had a tablet\"}, \"y\": {\"type\": \"quantitative\", \"aggregate\": \"count\", \"title\": \"# of CSOs\"}}, \"title\": \"Distribution of CSO tablet usage, months\", \"$schema\": \"https://vega.github.io/schema/vega-lite/v2.6.0.json\", \"datasets\": {\"data-3b244c189a682ad7e2da9b5f2e9abe5c\": [{\"tab_usage\": 44.6}, {\"tab_usage\": 46.666666666666664}, {\"tab_usage\": 5.1}, {\"tab_usage\": 26.366666666666667}, {\"tab_usage\": 18.266666666666666}, {\"tab_usage\": 2.033333333333333}, {\"tab_usage\": 26.366666666666667}, {\"tab_usage\": 42.63333333333333}, {\"tab_usage\": 42.63333333333333}, {\"tab_usage\": 32.43333333333333}, {\"tab_usage\": 41.63333333333333}, {\"tab_usage\": 20.233333333333334}, {\"tab_usage\": 17.266666666666666}, {\"tab_usage\": 18.266666666666666}, {\"tab_usage\": 15.233333333333333}, {\"tab_usage\": 14.2}, {\"tab_usage\": 38.56666666666667}, {\"tab_usage\": 42.63333333333333}, {\"tab_usage\": 2.033333333333333}, {\"tab_usage\": 41.63333333333333}, {\"tab_usage\": 42.63333333333333}, {\"tab_usage\": 41.63333333333333}, {\"tab_usage\": 46.666666666666664}, {\"tab_usage\": 6.1}, {\"tab_usage\": 42.63333333333333}, {\"tab_usage\": 26.366666666666667}, {\"tab_usage\": 21.266666666666666}, {\"tab_usage\": 41.63333333333333}, {\"tab_usage\": 41.63333333333333}, {\"tab_usage\": 30.433333333333334}, {\"tab_usage\": 42.63333333333333}, {\"tab_usage\": 42.63333333333333}, {\"tab_usage\": 26.366666666666667}, {\"tab_usage\": 25.333333333333332}, {\"tab_usage\": 19.3}, {\"tab_usage\": 25.333333333333332}, {\"tab_usage\": 45.63333333333333}, {\"tab_usage\": 19.3}, {\"tab_usage\": 50.733333333333334}, {\"tab_usage\": 41.63333333333333}, {\"tab_usage\": 42.63333333333333}, {\"tab_usage\": 45.63333333333333}, {\"tab_usage\": 21.266666666666666}, {\"tab_usage\": 42.63333333333333}, {\"tab_usage\": 25.333333333333332}, {\"tab_usage\": 17.266666666666666}, {\"tab_usage\": 41.63333333333333}, {\"tab_usage\": 41.63333333333333}, {\"tab_usage\": 42.63333333333333}, {\"tab_usage\": 25.333333333333332}, {\"tab_usage\": 19.3}, {\"tab_usage\": 30.433333333333334}, {\"tab_usage\": 16.233333333333334}, {\"tab_usage\": 41.63333333333333}, {\"tab_usage\": 41.63333333333333}, {\"tab_usage\": 42.63333333333333}, {\"tab_usage\": 41.63333333333333}, {\"tab_usage\": 36.53333333333333}, {\"tab_usage\": 42.63333333333333}, {\"tab_usage\": 22.3}, {\"tab_usage\": 40.6}, {\"tab_usage\": 40.6}, {\"tab_usage\": 29.433333333333334}, {\"tab_usage\": 40.6}, {\"tab_usage\": 42.63333333333333}, {\"tab_usage\": 54.8}, {\"tab_usage\": 42.63333333333333}, {\"tab_usage\": 19.3}, {\"tab_usage\": 41.63333333333333}, {\"tab_usage\": 42.63333333333333}, {\"tab_usage\": 42.63333333333333}, {\"tab_usage\": 48.7}, {\"tab_usage\": 26.366666666666667}, {\"tab_usage\": 42.63333333333333}, {\"tab_usage\": 42.63333333333333}, {\"tab_usage\": 15.233333333333333}, {\"tab_usage\": 17.266666666666666}, {\"tab_usage\": 42.63333333333333}, {\"tab_usage\": 19.3}, {\"tab_usage\": 42.63333333333333}, {\"tab_usage\": 41.63333333333333}, {\"tab_usage\": 5.1}, {\"tab_usage\": 17.266666666666666}, {\"tab_usage\": 34.5}, {\"tab_usage\": 17.266666666666666}, {\"tab_usage\": 25.333333333333332}, {\"tab_usage\": 42.63333333333333}, {\"tab_usage\": 25.333333333333332}, {\"tab_usage\": 1.0}, {\"tab_usage\": 41.63333333333333}, {\"tab_usage\": 41.63333333333333}, {\"tab_usage\": 41.63333333333333}, {\"tab_usage\": 16.233333333333334}, {\"tab_usage\": 15.233333333333333}, {\"tab_usage\": 22.3}, {\"tab_usage\": 13.166666666666666}, {\"tab_usage\": 8.066666666666666}, {\"tab_usage\": 4.066666666666666}, {\"tab_usage\": 41.63333333333333}, {\"tab_usage\": 34.5}, {\"tab_usage\": 2.033333333333333}, {\"tab_usage\": 30.433333333333334}, {\"tab_usage\": 41.63333333333333}, {\"tab_usage\": 41.63333333333333}, {\"tab_usage\": 37.53333333333333}, {\"tab_usage\": 42.63333333333333}, {\"tab_usage\": 5.1}, {\"tab_usage\": 46.666666666666664}, {\"tab_usage\": 5.1}, {\"tab_usage\": 16.233333333333334}, {\"tab_usage\": 41.63333333333333}, {\"tab_usage\": 13.166666666666666}, {\"tab_usage\": 20.233333333333334}, {\"tab_usage\": 41.63333333333333}, {\"tab_usage\": 41.63333333333333}, {\"tab_usage\": 29.433333333333334}, {\"tab_usage\": 42.63333333333333}, {\"tab_usage\": 42.63333333333333}, {\"tab_usage\": 38.56666666666667}, {\"tab_usage\": 27.4}, {\"tab_usage\": 42.63333333333333}, {\"tab_usage\": 41.63333333333333}, {\"tab_usage\": 41.63333333333333}, {\"tab_usage\": 41.63333333333333}, {\"tab_usage\": 41.63333333333333}, {\"tab_usage\": 42.63333333333333}, {\"tab_usage\": 26.366666666666667}]}};\n",
       "var opt = {};\n",
       "var type = \"vega-lite\";\n",
       "var id = \"6d9a43c5-026e-4d08-8b93-d0ec3a62c6f7\";\n",
       "\n",
       "var output_area = this;\n",
       "\n",
       "require([\"nbextensions/jupyter-vega/index\"], function(vega) {\n",
       "  var target = document.createElement(\"div\");\n",
       "  target.id = id;\n",
       "  target.className = \"vega-embed\";\n",
       "\n",
       "  var style = document.createElement(\"style\");\n",
       "  style.textContent = [\n",
       "    \".vega-embed .error p {\",\n",
       "    \"  color: firebrick;\",\n",
       "    \"  font-size: 14px;\",\n",
       "    \"}\",\n",
       "  ].join(\"\\\\n\");\n",
       "\n",
       "  // element is a jQuery wrapped DOM element inside the output area\n",
       "  // see http://ipython.readthedocs.io/en/stable/api/generated/\\\n",
       "  // IPython.display.html#IPython.display.Javascript.__init__\n",
       "  element[0].appendChild(target);\n",
       "  element[0].appendChild(style);\n",
       "\n",
       "  vega.render(\"#\" + id, spec, type, opt, output_area);\n",
       "}, function (err) {\n",
       "  if (err.requireType !== \"scripterror\") {\n",
       "    throw(err);\n",
       "  }\n",
       "});\n"
      ],
      "text/plain": [
       "<vega.vegalite.VegaLite at 0x1922e28e358>"
      ]
     },
     "metadata": {
      "jupyter-vega": "#6d9a43c5-026e-4d08-8b93-d0ec3a62c6f7"
     },
     "output_type": "display_data"
    },
    {
     "data": {
      "text/plain": []
     },
     "execution_count": 43,
     "metadata": {},
     "output_type": "execute_result"
    },
    {
     "data": {
      "image/png": "[encoded data removed]"
     },
     "metadata": {
      "jupyter-vega": "#6d9a43c5-026e-4d08-8b93-d0ec3a62c6f7"
     },
     "output_type": "display_data"
    }
   ],
   "source": [
    "alt.Chart(tab_usage, title=\"Distribution of CSO tablet usage, months\").mark_bar().encode(\n",
    "    alt.X(\"tab_usage:Q\", \n",
    "          bin=alt.BinParams(step=1), title=\"# Months has had a tablet\"),\n",
    "    alt.Y(\"count()\", title=\"# of CSOs\"))"
   ]
  },
  {
   "cell_type": "markdown",
   "metadata": {
    "ExecuteTime": {
     "end_time": "2018-10-18T06:06:58.475520Z",
     "start_time": "2018-10-18T06:06:58.294467Z"
    },
    "variables": {
     "int(tab_usage.tab_usage.mode()[0])": "41",
     "np.round(tab_usage.tab_usage.mode()[0]/12, decimals=1)": "3.5"
    }
   },
   "source": [
    "We see that the majority of our CSOs have had their tablets for roughly {{int(tab_usage.tab_usage.mode()[0])}} months ({{np.round(tab_usage.tab_usage.mode()[0]/12, decimals=1)}} years). This is in keeping with the beginning of the Tusome program, and is as expected. CSOs who have had their tablets for longer are likely veterans of the PRIMR program (Tusome's predecessor); those who have had tablets for fewer months may have assumed their roles more recently. (CSO turnover due to retirement, promotion, maternity leave, etc. is an issue which Tusome is constantly needing to manage.)"
   ]
  },
  {
   "cell_type": "markdown",
   "metadata": {
    "ExecuteTime": {
     "end_time": "2018-10-12T13:38:15.821761Z",
     "start_time": "2018-10-12T13:38:15.784758Z"
    }
   },
   "source": [
    "### Proportion of CSOs reporting use of each application\n",
    "\n",
    "_Which applications do you use frequently when supporting teachers? ...After recording unprompted responses, read the list of options and record responses._\n",
    "  + Tangerine Tutor\n",
    "  + Papaya\n",
    "  + Tusome Books (in Adobe Acrobat)\n",
    "  + Tusome Videos (in MX Player)\n",
    "\n",
    "The CSOs' tablets come equipped with several tools meant to support their efforts as instructional coaches. These include the [_Tangerine:Tutor_](http://www.tangerinecentral.org/tutor/) application, the [_Papaya_](http://schoolsnetkenya.com/tusome-early-literacy-programme-sounds-application/) application, PDF versions of Tusome's instructional materials (pupil's books and teacher's guides), and videos that model effective instructional delivery.\n",
    "\n",
    "We are interested in which of those tools CSOs use, and how frequently. We will provide an analysis of their unprompted free-response answers to the question above. For the moment, we note the tools they said they use when we explicitly prompted them with the list of tools available."
   ]
  },
  {
   "cell_type": "code",
   "execution_count": 44,
   "metadata": {
    "ExecuteTime": {
     "end_time": "2018-10-25T08:06:18.969882Z",
     "start_time": "2018-10-25T08:06:18.950384Z"
    },
    "scrolled": true
   },
   "outputs": [],
   "source": [
    "app_users = {\"tutor\": csos.freqapps_tt_promp.sum(),\n",
    "         \"papaya\": csos.freqapps_papaya_promp.sum(),\n",
    "         \"books\": csos.freqapps_bks_promp.sum(),\n",
    "         \"videos\": csos.freqapps_vids_promp.sum()}\n",
    "app_usage = pd.DataFrame.from_dict(app_users, orient=\"index\", columns=[\"ct\"])\n",
    "app_usage[\"pct\"] = 100 * np.round(app_usage[\"ct\"] / csos.shape[0], decimals=3)\n",
    "app_usage = app_usage.rename_axis(\"app\").reset_index()"
   ]
  },
  {
   "cell_type": "code",
   "execution_count": 45,
   "metadata": {
    "ExecuteTime": {
     "end_time": "2018-10-25T08:06:19.036383Z",
     "start_time": "2018-10-25T08:06:18.997385Z"
    },
    "scrolled": true
   },
   "outputs": [
    {
     "data": {
      "application/javascript": [
       "var spec = {\"config\": {\"view\": {\"width\": 400, \"height\": 300}}, \"data\": {\"name\": \"data-8c0dc4d2068fb66b0a5ab5b21bfe3f27\"}, \"mark\": \"bar\", \"encoding\": {\"tooltip\": {\"type\": \"quantitative\", \"field\": \"pct\"}, \"x\": {\"type\": \"quantitative\", \"field\": \"pct\", \"title\": \"% of CSOs reporting usage\"}, \"y\": {\"type\": \"ordinal\", \"field\": \"app\", \"sort\": {\"op\": \"values\", \"field\": \"pct\", \"order\": \"ascending\"}, \"title\": \"Application\"}}, \"title\": \"Proportion of CSOs reporting tool usage\", \"$schema\": \"https://vega.github.io/schema/vega-lite/v2.6.0.json\", \"datasets\": {\"data-8c0dc4d2068fb66b0a5ab5b21bfe3f27\": [{\"app\": \"tutor\", \"ct\": 140, \"pct\": 92.10000000000001}, {\"app\": \"papaya\", \"ct\": 140, \"pct\": 92.10000000000001}, {\"app\": \"books\", \"ct\": 129, \"pct\": 84.89999999999999}, {\"app\": \"videos\", \"ct\": 124, \"pct\": 81.6}]}};\n",
       "var opt = {};\n",
       "var type = \"vega-lite\";\n",
       "var id = \"0e5f4f26-7513-41aa-9818-0ec6fcffe212\";\n",
       "\n",
       "var output_area = this;\n",
       "\n",
       "require([\"nbextensions/jupyter-vega/index\"], function(vega) {\n",
       "  var target = document.createElement(\"div\");\n",
       "  target.id = id;\n",
       "  target.className = \"vega-embed\";\n",
       "\n",
       "  var style = document.createElement(\"style\");\n",
       "  style.textContent = [\n",
       "    \".vega-embed .error p {\",\n",
       "    \"  color: firebrick;\",\n",
       "    \"  font-size: 14px;\",\n",
       "    \"}\",\n",
       "  ].join(\"\\\\n\");\n",
       "\n",
       "  // element is a jQuery wrapped DOM element inside the output area\n",
       "  // see http://ipython.readthedocs.io/en/stable/api/generated/\\\n",
       "  // IPython.display.html#IPython.display.Javascript.__init__\n",
       "  element[0].appendChild(target);\n",
       "  element[0].appendChild(style);\n",
       "\n",
       "  vega.render(\"#\" + id, spec, type, opt, output_area);\n",
       "}, function (err) {\n",
       "  if (err.requireType !== \"scripterror\") {\n",
       "    throw(err);\n",
       "  }\n",
       "});\n"
      ],
      "text/plain": [
       "<vega.vegalite.VegaLite at 0x1922e27fc88>"
      ]
     },
     "metadata": {
      "jupyter-vega": "#0e5f4f26-7513-41aa-9818-0ec6fcffe212"
     },
     "output_type": "display_data"
    },
    {
     "data": {
      "text/plain": []
     },
     "execution_count": 45,
     "metadata": {},
     "output_type": "execute_result"
    },
    {
     "data": {
      "image/png": "[encoded data removed]"
     },
     "metadata": {
      "jupyter-vega": "#0e5f4f26-7513-41aa-9818-0ec6fcffe212"
     },
     "output_type": "display_data"
    }
   ],
   "source": [
    "alt.Chart(app_usage, title=\"Proportion of CSOs reporting tool usage\").mark_bar().encode(\n",
    "    alt.Y(\"app:O\",\n",
    "          title=\"Application\",\n",
    "          sort = alt.EncodingSortField(field=\"pct\", op=\"values\", order=\"ascending\"),\n",
    "          ),\n",
    "    alt.X(\"pct:Q\", title=\"% of CSOs reporting usage\"),\n",
    "    tooltip=\"pct\")"
   ]
  },
  {
   "cell_type": "markdown",
   "metadata": {
    "ExecuteTime": {
     "end_time": "2018-10-18T10:11:51.996964Z",
     "start_time": "2018-10-18T10:11:51.970463Z"
    }
   },
   "source": [
    "The overwhelming majority of the CSOs report using all of the applications. That said, the videos and books are used less frequently."
   ]
  },
  {
   "cell_type": "markdown",
   "metadata": {
    "ExecuteTime": {
     "end_time": "2018-10-18T10:14:09.150850Z",
     "start_time": "2018-10-18T10:14:09.136848Z"
    }
   },
   "source": [
    "### Proportion of CSOs who refer to Tangerine to provide post-observation feedback\n",
    "\n",
    "_Do you refer to Tangerine when giving teachers feedback after observing a lesson?_\n",
    "\n",
    "The _Tangerine:Tutor_ application analyzes the pattern of the CSO's responses to the observation items and surfaces actionable feedback that could be share with the teacher to improve her or his instruction. While the auto-generated feedback is intended as a tool to help CSOs give more effective guidance to teachers, it can be quite extensive and is not prioritized. We were interested to know whether the CSOs make reference to the application's auto-generated feedback when they hold their post-observation debriefing session with the teacher."
   ]
  },
  {
   "cell_type": "code",
   "execution_count": 46,
   "metadata": {
    "ExecuteTime": {
     "end_time": "2018-10-25T08:06:19.444383Z",
     "start_time": "2018-10-25T08:06:19.436383Z"
    },
    "scrolled": true
   },
   "outputs": [
    {
     "data": {
      "text/plain": [
       "96.7"
      ]
     },
     "execution_count": 46,
     "metadata": {},
     "output_type": "execute_result"
    }
   ],
   "source": [
    "100 * np.round(csos.ref_tang_fdbk.sum() / csos.shape[0], decimals=3)"
   ]
  },
  {
   "cell_type": "markdown",
   "metadata": {
    "ExecuteTime": {
     "end_time": "2018-10-18T10:11:51.996964Z",
     "start_time": "2018-10-18T10:11:51.970463Z"
    }
   },
   "source": [
    "Again, the overwhelming majority of CSOs report using the auto-generated feedback when holding their debrief session with the teacher. We will separately provide an analysis of their open-ended answers regarding _what_ they refer to and what they find most useful."
   ]
  },
  {
   "cell_type": "markdown",
   "metadata": {
    "ExecuteTime": {
     "end_time": "2018-10-18T10:11:51.996964Z",
     "start_time": "2018-10-18T10:11:51.970463Z"
    }
   },
   "source": [
    "### Proportion of CSOs who use Tangerine to plan their work\n",
    "\n",
    "_Do you refer to Tangerine to help you plan your work when you are **not** either observing a teacher or giving the teacher feedback?_\n",
    "\n",
    "Version 3 of the _Tangerine:Tutor_ application features a screen which allows a CSO to see schools they have visited and which they have not. We were interested to know whether the CSOs are leveraging this feature—or others, such as the pupils' fluency rates, which are reported in the feedback—to make decisions about which schools to visit in the future."
   ]
  },
  {
   "cell_type": "code",
   "execution_count": 47,
   "metadata": {
    "ExecuteTime": {
     "end_time": "2018-10-25T08:06:20.697885Z",
     "start_time": "2018-10-25T08:06:20.688882Z"
    },
    "scrolled": true
   },
   "outputs": [
    {
     "data": {
      "text/plain": [
       "59.9"
      ]
     },
     "execution_count": 47,
     "metadata": {},
     "output_type": "execute_result"
    }
   ],
   "source": [
    "100 * np.round(csos.refer_tang_nonobs.sum() / csos.shape[0], decimals=3)"
   ]
  },
  {
   "cell_type": "markdown",
   "metadata": {
    "ExecuteTime": {
     "end_time": "2018-10-18T10:11:51.996964Z",
     "start_time": "2018-10-18T10:11:51.970463Z"
    }
   },
   "source": [
    "Fewer than two-thirds of CSOs refer to Tangerine to plan their work. A sampling of their reasons is provided surfaced below:"
   ]
  },
  {
   "cell_type": "code",
   "execution_count": 48,
   "metadata": {
    "ExecuteTime": {
     "end_time": "2018-10-25T08:06:20.955885Z",
     "start_time": "2018-10-25T08:06:20.941382Z"
    },
    "scrolled": true
   },
   "outputs": [
    {
     "data": {
      "text/plain": [
       "50     The problem is that i don't have enough time to check on it, there is a lot of work nowadays                                                        \n",
       "130    I only use it for CLO only.                                                                                                                         \n",
       "74     i fear to accidentally inerrupt the tangerine                                                                                                       \n",
       "60     I use my work schedule to monitor my school visits                                                                                                  \n",
       "31     She uses the personal schools information record to plan which school and teachers to support                                                       \n",
       "42     i had not realised that I can use it but it is a great idea that I can incorporate in the future                                                    \n",
       "47     I don't think I have any reason because I have my own program. I only use it when I am going to school. We normally prepare our own program of work.\n",
       "101    I normally use it for the observation and writing reports                                                                                           \n",
       "21     Yes Tangerine has schools visited or not visted hence useful for programming and familiaration of the tool                                          \n",
       "48     I have not been issued with a tablet                                                                                                                \n",
       "Name: tang_nonobs_nowhynot, dtype: object"
      ]
     },
     "execution_count": 48,
     "metadata": {},
     "output_type": "execute_result"
    }
   ],
   "source": [
    "pd.set_option('display.max_colwidth', -1)\n",
    "csos[csos.tang_nonobs_nowhynot.notnull() & (csos.tang_nonobs_nowhynot != \"\")].tang_nonobs_nowhynot.sample(10)"
   ]
  },
  {
   "cell_type": "markdown",
   "metadata": {},
   "source": [
    "This result surfaces a few issues Tusome might consider addressing next time CSOs receive a refresher training on Tangerine's use.\n",
    "  1. A lack of awareness of how the information provided by the tablet (schools visited and not visited) could be operationalized\n",
    "  1. A fear that they would be accused of falsifying observation data, rooted specifically in a misunderstanding of the application's GPS-capture functionality\n",
    "  1. A mental compartmentalization of Tangerine as being a Tusome-specific tool, not for use in broader contexts\n",
    "\n",
    "Other reasons given suggest that the need which Tangerine might fill is already being addressed separately.\n",
    "  1. The CSO keeps a personal record (outside of the tablet) in which they track school visitation\n",
    "  1. The CSO has prepared a work schedule, and uses that as their guide until the month's activities have concluded."
   ]
  },
  {
   "cell_type": "markdown",
   "metadata": {},
   "source": [
    "### Frequency with which users refer to the application\n",
    "\n",
    "\\[If the CSO refers to the Tangerine for planning purposes\\], _how often do you reference the data?_\n",
    "\n"
   ]
  },
  {
   "cell_type": "code",
   "execution_count": 49,
   "metadata": {
    "ExecuteTime": {
     "end_time": "2018-10-25T08:06:21.625883Z",
     "start_time": "2018-10-25T08:06:21.607380Z"
    },
    "scrolled": true
   },
   "outputs": [],
   "source": [
    "tchk_freq = csos[csos.freq_refer_tang_plan.notna()].freq_refer_tang_plan.sort_values().value_counts(sort=False).to_frame(name=\"ct\")\n",
    "tchk_freq = tchk_freq.rename_axis(\"frequency\").reset_index()\n",
    "tchk_freq[\"frequency\"] = tchk_freq[\"frequency\"].replace({\n",
    "    1: \"Daily\", \n",
    "    2: \"Weekly\",\n",
    "    3: \"Monthly\",\n",
    "    4: \"Termly\"})\n",
    "tchk_freq[\"sort_order\"] = tchk_freq.index"
   ]
  },
  {
   "cell_type": "markdown",
   "metadata": {
    "ExecuteTime": {
     "end_time": "2018-10-18T12:19:06.102224Z",
     "start_time": "2018-10-18T12:19:06.091229Z"
    }
   },
   "source": [
    "It appears that among the CSOs who check the application, it is most common to check it at least weekly."
   ]
  },
  {
   "cell_type": "code",
   "execution_count": 50,
   "metadata": {
    "ExecuteTime": {
     "end_time": "2018-10-25T08:06:21.807386Z",
     "start_time": "2018-10-25T08:06:21.776382Z"
    },
    "scrolled": true
   },
   "outputs": [
    {
     "data": {
      "application/javascript": [
       "var spec = {\"config\": {\"view\": {\"width\": 400, \"height\": 300}}, \"data\": {\"name\": \"data-e0c8178a2859fbedfd43b9603c42779d\"}, \"mark\": \"bar\", \"encoding\": {\"color\": {\"type\": \"nominal\", \"field\": \"frequency\"}, \"x\": {\"type\": \"quantitative\", \"field\": \"ct\"}, \"y\": {\"type\": \"ordinal\", \"field\": \"frequency\", \"sort\": {\"op\": \"values\", \"field\": \"sort_order:Q\", \"order\": \"ascending\"}}}, \"title\": \"Tangerine app checking behavior\", \"$schema\": \"https://vega.github.io/schema/vega-lite/v2.6.0.json\", \"datasets\": {\"data-e0c8178a2859fbedfd43b9603c42779d\": [{\"frequency\": \"Daily\", \"ct\": 23, \"sort_order\": 0}, {\"frequency\": \"Weekly\", \"ct\": 46, \"sort_order\": 1}, {\"frequency\": \"Monthly\", \"ct\": 19, \"sort_order\": 2}, {\"frequency\": \"Termly\", \"ct\": 4, \"sort_order\": 3}, {\"frequency\": 88.0, \"ct\": 1, \"sort_order\": 4}]}};\n",
       "var opt = {};\n",
       "var type = \"vega-lite\";\n",
       "var id = \"9ebf22f6-0c6c-4498-ae0d-0f0de3ac1aed\";\n",
       "\n",
       "var output_area = this;\n",
       "\n",
       "require([\"nbextensions/jupyter-vega/index\"], function(vega) {\n",
       "  var target = document.createElement(\"div\");\n",
       "  target.id = id;\n",
       "  target.className = \"vega-embed\";\n",
       "\n",
       "  var style = document.createElement(\"style\");\n",
       "  style.textContent = [\n",
       "    \".vega-embed .error p {\",\n",
       "    \"  color: firebrick;\",\n",
       "    \"  font-size: 14px;\",\n",
       "    \"}\",\n",
       "  ].join(\"\\\\n\");\n",
       "\n",
       "  // element is a jQuery wrapped DOM element inside the output area\n",
       "  // see http://ipython.readthedocs.io/en/stable/api/generated/\\\n",
       "  // IPython.display.html#IPython.display.Javascript.__init__\n",
       "  element[0].appendChild(target);\n",
       "  element[0].appendChild(style);\n",
       "\n",
       "  vega.render(\"#\" + id, spec, type, opt, output_area);\n",
       "}, function (err) {\n",
       "  if (err.requireType !== \"scripterror\") {\n",
       "    throw(err);\n",
       "  }\n",
       "});\n"
      ],
      "text/plain": [
       "<vega.vegalite.VegaLite at 0x1922e27f470>"
      ]
     },
     "metadata": {
      "jupyter-vega": "#9ebf22f6-0c6c-4498-ae0d-0f0de3ac1aed"
     },
     "output_type": "display_data"
    },
    {
     "data": {
      "text/plain": []
     },
     "execution_count": 50,
     "metadata": {},
     "output_type": "execute_result"
    },
    {
     "data": {
      "image/png": "[encoded data removed]"
     },
     "metadata": {
      "jupyter-vega": "#9ebf22f6-0c6c-4498-ae0d-0f0de3ac1aed"
     },
     "output_type": "display_data"
    }
   ],
   "source": [
    "alt.Chart(tchk_freq, title=\"Tangerine app checking behavior\").mark_bar().encode(\n",
    "    alt.X(\"ct:Q\"),\n",
    "    alt.Y(\"frequency:O\", sort = alt.EncodingSortField(field=\"sort_order:Q\", op=\"values\", order=\"ascending\")),\n",
    "    color = \"frequency\")"
   ]
  },
  {
   "cell_type": "markdown",
   "metadata": {},
   "source": [
    "### CSO reference to the Tangerine Dashboard\n",
    "\n",
    "_In the last term, how often did you look at the Tangerine Dashboard?_\n",
    "\n",
    "The data that is generated by the CSOs' lesson observations is uploaded to the cloud and reported on the [Tangerine Dashboard](http://tools.tusome.tangerinecentral.org/_csv/report/group-national_tablet_program/00b0a09a-2a9f-baca-2acb-c6264d4247cb,c835fc38-de99-d064-59d3-e772ccefcf7d/2018/1/ep8yqMKT.html#tutor). This Dashboard is reviewed by senior management within the Ministry of Education: the Principal Secretary, his Directors, and their deputies. It is also sent to the Directors of MOE and TSC at the County level. As these latter personnel oversee the CSOs, the Dashboard may have an effect ..."
   ]
  },
  {
   "cell_type": "code",
   "execution_count": null,
   "metadata": {
    "scrolled": true
   },
   "outputs": [],
   "source": []
  },
  {
   "cell_type": "code",
   "execution_count": 51,
   "metadata": {
    "ExecuteTime": {
     "end_time": "2018-10-25T08:06:21.982882Z",
     "start_time": "2018-10-25T08:06:21.975889Z"
    },
    "scrolled": true
   },
   "outputs": [
    {
     "name": "stdout",
     "output_type": "stream",
     "text": [
      "IPython location: C:\\Users\\tslade\\.ipython\n",
      "IPython profile location: <traitlets.config.loader.LazyConfigValue object at 0x000001922F72D358>\n"
     ]
    }
   ],
   "source": [
    "ip=get_ipython()\n",
    "locate_dir = ip.ipython_dir\n",
    "profile_dir = ip.config.ProfileDir.location\n",
    "print(\"IPython location: %s\" % locate_dir)\n",
    "print(\"IPython profile location: %s\" % profile_dir)\n"
   ]
  },
  {
   "cell_type": "code",
   "execution_count": 52,
   "metadata": {
    "ExecuteTime": {
     "end_time": "2018-10-25T08:06:22.064384Z",
     "start_time": "2018-10-25T08:06:22.009381Z"
    },
    "scrolled": true
   },
   "outputs": [
    {
     "ename": "TypeError",
     "evalue": "expected str, bytes or os.PathLike object, not LazyConfigValue",
     "output_type": "error",
     "traceback": [
      "\u001b[1;31m---------------------------------------------------------------------------\u001b[0m",
      "\u001b[1;31mTypeError\u001b[0m                                 Traceback (most recent call last)",
      "\u001b[1;32m<ipython-input-52-73622debe63e>\u001b[0m in \u001b[0;36m<module>\u001b[1;34m()\u001b[0m\n\u001b[0;32m      1\u001b[0m \u001b[1;32mimport\u001b[0m \u001b[0mos\u001b[0m\u001b[1;33m\u001b[0m\u001b[0m\n\u001b[0;32m      2\u001b[0m \u001b[0mextra_paths\u001b[0m \u001b[1;33m=\u001b[0m \u001b[0mip\u001b[0m\u001b[1;33m.\u001b[0m\u001b[0mconfig\u001b[0m\u001b[1;33m.\u001b[0m\u001b[0mNotebookApp\u001b[0m\u001b[1;33m[\u001b[0m\u001b[1;34m'extra_static_paths'\u001b[0m\u001b[1;33m]\u001b[0m\u001b[1;33m\u001b[0m\u001b[0m\n\u001b[1;32m----> 3\u001b[1;33m \u001b[0mstatic_paths\u001b[0m \u001b[1;33m=\u001b[0m \u001b[0mos\u001b[0m\u001b[1;33m.\u001b[0m\u001b[0mpath\u001b[0m\u001b[1;33m.\u001b[0m\u001b[0mjoin\u001b[0m\u001b[1;33m(\u001b[0m\u001b[0mprofile_dir\u001b[0m\u001b[1;33m,\u001b[0m\u001b[1;34m'static'\u001b[0m\u001b[1;33m)\u001b[0m\u001b[1;33m\u001b[0m\u001b[0m\n\u001b[0m\u001b[0;32m      4\u001b[0m \u001b[1;32mif\u001b[0m \u001b[0mtype\u001b[0m\u001b[1;33m(\u001b[0m \u001b[0mextra_paths\u001b[0m \u001b[1;33m)\u001b[0m \u001b[1;32mis\u001b[0m \u001b[0mlist\u001b[0m\u001b[1;33m:\u001b[0m\u001b[1;33m\u001b[0m\u001b[0m\n\u001b[0;32m      5\u001b[0m     \u001b[0mstatic_paths\u001b[0m \u001b[1;33m=\u001b[0m \u001b[0mextra_paths\u001b[0m \u001b[1;33m+\u001b[0m \u001b[0mstatic_paths\u001b[0m\u001b[1;33m\u001b[0m\u001b[0m\n",
      "\u001b[1;32m~\\AppData\\Local\\Continuum\\anaconda3\\lib\\ntpath.py\u001b[0m in \u001b[0;36mjoin\u001b[1;34m(path, *paths)\u001b[0m\n\u001b[0;32m     74\u001b[0m \u001b[1;31m# Join two (or more) paths.\u001b[0m\u001b[1;33m\u001b[0m\u001b[1;33m\u001b[0m\u001b[0m\n\u001b[0;32m     75\u001b[0m \u001b[1;32mdef\u001b[0m \u001b[0mjoin\u001b[0m\u001b[1;33m(\u001b[0m\u001b[0mpath\u001b[0m\u001b[1;33m,\u001b[0m \u001b[1;33m*\u001b[0m\u001b[0mpaths\u001b[0m\u001b[1;33m)\u001b[0m\u001b[1;33m:\u001b[0m\u001b[1;33m\u001b[0m\u001b[0m\n\u001b[1;32m---> 76\u001b[1;33m     \u001b[0mpath\u001b[0m \u001b[1;33m=\u001b[0m \u001b[0mos\u001b[0m\u001b[1;33m.\u001b[0m\u001b[0mfspath\u001b[0m\u001b[1;33m(\u001b[0m\u001b[0mpath\u001b[0m\u001b[1;33m)\u001b[0m\u001b[1;33m\u001b[0m\u001b[0m\n\u001b[0m\u001b[0;32m     77\u001b[0m     \u001b[1;32mif\u001b[0m \u001b[0misinstance\u001b[0m\u001b[1;33m(\u001b[0m\u001b[0mpath\u001b[0m\u001b[1;33m,\u001b[0m \u001b[0mbytes\u001b[0m\u001b[1;33m)\u001b[0m\u001b[1;33m:\u001b[0m\u001b[1;33m\u001b[0m\u001b[0m\n\u001b[0;32m     78\u001b[0m         \u001b[0msep\u001b[0m \u001b[1;33m=\u001b[0m \u001b[1;34mb'\\\\'\u001b[0m\u001b[1;33m\u001b[0m\u001b[0m\n",
      "\u001b[1;31mTypeError\u001b[0m: expected str, bytes or os.PathLike object, not LazyConfigValue"
     ]
    }
   ],
   "source": [
    "import os\n",
    "extra_paths = ip.config.NotebookApp['extra_static_paths']\n",
    "static_paths = os.path.join(profile_dir,'static')\n",
    "if type( extra_paths ) is list:\n",
    "    static_paths = extra_paths + static_paths\n",
    "print(\"The custom.js file will be searched in this list of directories: %s\" % static_paths)"
   ]
  },
  {
   "cell_type": "code",
   "execution_count": 53,
   "metadata": {
    "ExecuteTime": {
     "end_time": "2018-10-25T08:06:22.092380Z",
     "start_time": "2018-10-25T08:06:22.069881Z"
    },
    "scrolled": true
   },
   "outputs": [
    {
     "ename": "TypeError",
     "evalue": "expected str, bytes or os.PathLike object, not LazyConfigValue",
     "output_type": "error",
     "traceback": [
      "\u001b[1;31m---------------------------------------------------------------------------\u001b[0m",
      "\u001b[1;31mTypeError\u001b[0m                                 Traceback (most recent call last)",
      "\u001b[1;32m<ipython-input-53-c96518d9a782>\u001b[0m in \u001b[0;36m<module>\u001b[1;34m()\u001b[0m\n\u001b[1;32m----> 1\u001b[1;33m \u001b[0mstatic_paths\u001b[0m \u001b[1;33m=\u001b[0m \u001b[0mos\u001b[0m\u001b[1;33m.\u001b[0m\u001b[0mpath\u001b[0m\u001b[1;33m.\u001b[0m\u001b[0mjoin\u001b[0m\u001b[1;33m(\u001b[0m\u001b[0mprofile_dir\u001b[0m\u001b[1;33m,\u001b[0m\u001b[1;34m'static'\u001b[0m\u001b[1;33m)\u001b[0m\u001b[1;33m\u001b[0m\u001b[0m\n\u001b[0m",
      "\u001b[1;32m~\\AppData\\Local\\Continuum\\anaconda3\\lib\\ntpath.py\u001b[0m in \u001b[0;36mjoin\u001b[1;34m(path, *paths)\u001b[0m\n\u001b[0;32m     74\u001b[0m \u001b[1;31m# Join two (or more) paths.\u001b[0m\u001b[1;33m\u001b[0m\u001b[1;33m\u001b[0m\u001b[0m\n\u001b[0;32m     75\u001b[0m \u001b[1;32mdef\u001b[0m \u001b[0mjoin\u001b[0m\u001b[1;33m(\u001b[0m\u001b[0mpath\u001b[0m\u001b[1;33m,\u001b[0m \u001b[1;33m*\u001b[0m\u001b[0mpaths\u001b[0m\u001b[1;33m)\u001b[0m\u001b[1;33m:\u001b[0m\u001b[1;33m\u001b[0m\u001b[0m\n\u001b[1;32m---> 76\u001b[1;33m     \u001b[0mpath\u001b[0m \u001b[1;33m=\u001b[0m \u001b[0mos\u001b[0m\u001b[1;33m.\u001b[0m\u001b[0mfspath\u001b[0m\u001b[1;33m(\u001b[0m\u001b[0mpath\u001b[0m\u001b[1;33m)\u001b[0m\u001b[1;33m\u001b[0m\u001b[0m\n\u001b[0m\u001b[0;32m     77\u001b[0m     \u001b[1;32mif\u001b[0m \u001b[0misinstance\u001b[0m\u001b[1;33m(\u001b[0m\u001b[0mpath\u001b[0m\u001b[1;33m,\u001b[0m \u001b[0mbytes\u001b[0m\u001b[1;33m)\u001b[0m\u001b[1;33m:\u001b[0m\u001b[1;33m\u001b[0m\u001b[0m\n\u001b[0;32m     78\u001b[0m         \u001b[0msep\u001b[0m \u001b[1;33m=\u001b[0m \u001b[1;34mb'\\\\'\u001b[0m\u001b[1;33m\u001b[0m\u001b[0m\n",
      "\u001b[1;31mTypeError\u001b[0m: expected str, bytes or os.PathLike object, not LazyConfigValue"
     ]
    }
   ],
   "source": [
    "static_paths = os.path.join(profile_dir,'static')"
   ]
  },
  {
   "cell_type": "code",
   "execution_count": null,
   "metadata": {
    "ExecuteTime": {
     "end_time": "2018-10-25T08:06:22.093888Z",
     "start_time": "2018-10-25T08:06:22.094Z"
    },
    "scrolled": true
   },
   "outputs": [],
   "source": [
    "import os\n",
    "import re\n",
    "for static_path in static_paths:\n",
    "    custom_js = os.path.join(static_path,'custom', 'custom.js')\n",
    "    if os.path.isfile(custom_js) is True:\n",
    "        print(\"custom.js found in %s\" % custom_js)\n",
    "        break"
   ]
  },
  {
   "cell_type": "code",
   "execution_count": null,
   "metadata": {
    "ExecuteTime": {
     "end_time": "2018-10-25T08:06:22.103885Z",
     "start_time": "2018-10-25T08:06:22.101Z"
    },
    "scrolled": true
   },
   "outputs": [],
   "source": [
    "test = 91.1\n",
    "int(test)"
   ]
  },
  {
   "cell_type": "code",
   "execution_count": null,
   "metadata": {
    "ExecuteTime": {
     "end_time": "2018-10-25T08:06:22.114384Z",
     "start_time": "2018-10-25T08:06:22.110Z"
    },
    "scrolled": true
   },
   "outputs": [],
   "source": [
    "tab_usage.tab_usage.mode()"
   ]
  },
  {
   "cell_type": "code",
   "execution_count": null,
   "metadata": {
    "scrolled": true
   },
   "outputs": [],
   "source": []
  }
 ],
 "metadata": {
  "jupytext_formats": "py:percent",
  "kernelspec": {
   "display_name": "Python 3",
   "language": "python",
   "name": "python3"
  },
  "language_info": {
   "codemirror_mode": {
    "name": "ipython",
    "version": 3
   },
   "file_extension": ".py",
   "mimetype": "text/x-python",
   "name": "python",
   "nbconvert_exporter": "python",
   "pygments_lexer": "ipython3",
   "version": "3.6.6"
  },
  "toc": {
   "nav_menu": {},
   "number_sections": true,
   "sideBar": true,
   "skip_h1_title": false,
   "title_cell": "Table of Contents",
   "title_sidebar": "Contents",
   "toc_cell": false,
   "toc_position": {},
   "toc_section_display": true,
   "toc_window_display": false
  },
  "varInspector": {
   "cols": {
    "lenName": 16,
    "lenType": 16,
    "lenVar": 40
   },
   "kernels_config": {
    "python": {
     "delete_cmd_postfix": "",
     "delete_cmd_prefix": "del ",
     "library": "var_list.py",
     "varRefreshCmd": "print(var_dic_list())"
    },
    "r": {
     "delete_cmd_postfix": ") ",
     "delete_cmd_prefix": "rm(",
     "library": "var_list.r",
     "varRefreshCmd": "cat(var_dic_list()) "
    }
   },
   "oldHeight": 122,
   "position": {
    "height": "144px",
    "left": "1650px",
    "right": "20px",
    "top": "120px",
    "width": "250px"
   },
   "types_to_exclude": [
    "module",
    "function",
    "builtin_function_or_method",
    "instance",
    "_Feature"
   ],
   "varInspector_section_display": "block",
   "window_display": false
  }
 },
 "nbformat": 4,
 "nbformat_minor": 2
}