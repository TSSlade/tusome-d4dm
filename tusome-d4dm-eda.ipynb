{
 "cells": [
  {
   "cell_type": "code",
   "execution_count": 47,
   "metadata": {
    "ExecuteTime": {
     "end_time": "2018-10-25T19:19:15.059522Z",
     "start_time": "2018-10-25T19:19:15.051984Z"
    }
   },
   "outputs": [],
   "source": [
    "import pandas as pd\n",
    "import numpy as np\n",
    "import altair as alt\n",
    "from altair import datum, expr\n",
    "import matplotlib.pyplot as plt\n",
    "import datetime as dt\n",
    "alt.renderers.enable('notebook')\n",
    "pd.set_option('display.max_colwidth', -1)"
   ]
  },
  {
   "cell_type": "code",
   "execution_count": 48,
   "metadata": {
    "ExecuteTime": {
     "end_time": "2018-10-25T19:19:17.885627Z",
     "start_time": "2018-10-25T19:19:15.065007Z"
    }
   },
   "outputs": [],
   "source": [
    "tchrs = pd.read_stata(\"teacher_data.dta\", convert_categoricals=False)\n",
    "csos = pd.read_stata(\"cso_data.dta\", convert_categoricals=False)\n",
    "dirs = pd.read_stata(\"director_data.dta\", convert_categoricals=False)"
   ]
  },
  {
   "cell_type": "code",
   "execution_count": 49,
   "metadata": {
    "ExecuteTime": {
     "end_time": "2018-10-25T19:19:17.897127Z",
     "start_time": "2018-10-25T19:19:17.890630Z"
    }
   },
   "outputs": [
    {
     "name": "stdout",
     "output_type": "stream",
     "text": [
      "The Teacher dataset contains 828 records\n",
      "The CSO dataset contains 152 records\n",
      "The Director dataset contains 242 records\n"
     ]
    }
   ],
   "source": [
    "print(f\"The Teacher dataset contains {tchrs.shape[0]} records\\nThe CSO dataset contains {csos.shape[0]} records\\nThe Director dataset contains {dirs.shape[0]} records\")"
   ]
  },
  {
   "cell_type": "markdown",
   "metadata": {
    "ExecuteTime": {
     "end_time": "2018-10-12T13:38:15.821761Z",
     "start_time": "2018-10-12T13:38:15.784758Z"
    }
   },
   "source": [
    "The main questions we want to ask are documented in the [analysis plan](https://github.com/TSSlade/tusome-d4dm/blob/master/analysis_plan.md), which is an evolving document."
   ]
  },
  {
   "cell_type": "markdown",
   "metadata": {
    "ExecuteTime": {
     "end_time": "2018-10-12T13:38:15.821761Z",
     "start_time": "2018-10-12T13:38:15.784758Z"
    }
   },
   "source": [
    "## Teacher Instrument"
   ]
  },
  {
   "cell_type": "markdown",
   "metadata": {},
   "source": [
    "Here we begin exploring the data we obtained from interviewing the teachers."
   ]
  },
  {
   "cell_type": "code",
   "execution_count": 50,
   "metadata": {
    "ExecuteTime": {
     "end_time": "2018-10-25T19:19:17.926626Z",
     "start_time": "2018-10-25T19:19:17.901128Z"
    },
    "code_folding": [
     0
    ]
   },
   "outputs": [],
   "source": [
    "# Counting teacher records\n",
    "tchr_ct = tchrs.shape[0]"
   ]
  },
  {
   "cell_type": "markdown",
   "metadata": {
    "ExecuteTime": {
     "end_time": "2018-10-20T18:13:56.874778Z",
     "start_time": "2018-10-20T18:13:56.859149Z"
    },
    "variables": {
     "tchr_ct": "828"
    }
   },
   "source": [
    "Our dataset contains interviews with {{tchr_ct}} teachers."
   ]
  },
  {
   "cell_type": "markdown",
   "metadata": {},
   "source": [
    "### Teachers visited previously by CSOs\n",
    "\n",
    "The underlying assumption of most of the interview protocol is that the teacher has had a coaching interaction with a CSO. The first issue we should then address is the proportion of teachers who have received a visit from a CSO."
   ]
  },
  {
   "cell_type": "code",
   "execution_count": 51,
   "metadata": {
    "ExecuteTime": {
     "end_time": "2018-10-25T19:19:17.980628Z",
     "start_time": "2018-10-25T19:19:17.974629Z"
    },
    "code_folding": [
     0
    ]
   },
   "outputs": [],
   "source": [
    "# Counting teachers never visited\n",
    "never = 100 * ((tchr_ct - tchrs.vis_before.sum())/tchr_ct)"
   ]
  },
  {
   "cell_type": "markdown",
   "metadata": {
    "ExecuteTime": {
     "end_time": "2018-10-20T18:13:56.874778Z",
     "start_time": "2018-10-20T18:13:56.859149Z"
    },
    "variables": {
     "np.round(never, decimals=2)": "7.37"
    }
   },
   "source": [
    "We see that {{np.round(never, decimals=2)}}% of teachers interviewed had never been previously visited by CSOs."
   ]
  },
  {
   "cell_type": "markdown",
   "metadata": {},
   "source": [
    "### Number of coaching visits in the last academic term\n",
    "\n",
    "We have confirmed that the overwhelming majority of our teachers have been visited. We can have greater confidence in the responses they give us over the course of the interview if they have had a visit in the recent past. We therefore asked the teachers to tell us how many times they had been visited by their CSO in the preceding academic term (Term 2 of the Kenyan academic year, running from roughly May-July 2018)."
   ]
  },
  {
   "cell_type": "code",
   "execution_count": 52,
   "metadata": {
    "ExecuteTime": {
     "end_time": "2018-10-25T19:19:23.747300Z",
     "start_time": "2018-10-25T19:19:18.000628Z"
    },
    "code_folding": [
     0
    ]
   },
   "outputs": [],
   "source": [
    "# Generating CSO visit counts\n",
    "tchrs.vis_before_freq = tchrs.vis_before_freq.replace({55: \">4x\"})\n",
    "viscount_df = pd.DataFrame(tchrs.vis_before_freq.value_counts(sort=False)).rename_axis(\"prevterm_vis\").reset_index()\n",
    "viscount_df[\"pct\"] = np.round(100 * (viscount_df.vis_before_freq / tchrs.vis_before.sum()), decimals=2)\n",
    "more_than_monthly = viscount_df[viscount_df.prevterm_vis.isin([4, \">4x\"])].pct.sum()\n",
    "csovisct_ch = alt.Chart(viscount_df, title=\"# of times CSO visited in preceding term\").mark_bar().encode(\n",
    "    alt.Y(\"prevterm_vis:O\", title=\"CSO visits last term\"),\n",
    "    alt.X(\"vis_before_freq:Q\", title=\"# Teachers\"),\n",
    "    tooltip=\"pct\")\n",
    "\n",
    "csovisct_ch.save(\"./img/csovisct_ch.png\", scale_factor=2.0)"
   ]
  },
  {
   "cell_type": "markdown",
   "metadata": {
    "ExecuteTime": {
     "end_time": "2018-10-20T19:51:28.176045Z",
     "start_time": "2018-10-20T19:51:28.127801Z"
    }
   },
   "source": [
    "![title](img/csovis_ch.png)"
   ]
  },
  {
   "cell_type": "markdown",
   "metadata": {
    "ExecuteTime": {
     "end_time": "2018-10-20T19:51:28.176045Z",
     "start_time": "2018-10-20T19:51:28.127801Z"
    },
    "variables": {
     "int(more_than_monthly)": "28",
     "int(viscount_df[viscount_df.prevterm_vis.isin([1, 2, 3])].pct.sum())": "64",
     "int(viscount_df[viscount_df.prevterm_vis==0].pct[0])": "11"
    }
   },
   "source": [
    "We see that roughly {{int(viscount_df[viscount_df.prevterm_vis==0].pct[0])}}% of the respondents, while they'd been visited by a CSO in the past, had not been visited in the preceding term. However, {{int(viscount_df[viscount_df.prevterm_vis.isin([1, 2, 3])].pct.sum())}}% of the respondents were visited between once per term and once per month. Roughly {{int(more_than_monthly)}}% of the teachers were visited by their CSOs more frequently than monthly."
   ]
  },
  {
   "cell_type": "markdown",
   "metadata": {},
   "source": [
    "### CSOs' activities during last coaching visit\n",
    "\n",
    "We are interested in knowing what CSOs are focusing on when they pay a visit to a school. Are they observing a lesson? Are they giving feedback to the teacher? Do they assess pupils' fluency rates? Do they take advantage of their presence at the school to meet with the head teacher (HT)? What kinds of things are they doing _besides_ these activities?"
   ]
  },
  {
   "cell_type": "code",
   "execution_count": 53,
   "metadata": {
    "ExecuteTime": {
     "end_time": "2018-10-25T19:19:23.868825Z",
     "start_time": "2018-10-25T19:19:23.821827Z"
    },
    "code_folding": [
     0
    ]
   },
   "outputs": [
    {
     "data": {
      "text/html": [
       "<div>\n",
       "<style scoped>\n",
       "    .dataframe tbody tr th:only-of-type {\n",
       "        vertical-align: middle;\n",
       "    }\n",
       "\n",
       "    .dataframe tbody tr th {\n",
       "        vertical-align: top;\n",
       "    }\n",
       "\n",
       "    .dataframe thead th {\n",
       "        text-align: right;\n",
       "    }\n",
       "</style>\n",
       "<table border=\"1\" class=\"dataframe\">\n",
       "  <thead>\n",
       "    <tr style=\"text-align: right;\">\n",
       "      <th></th>\n",
       "      <th>activities</th>\n",
       "      <th>tchrs_reporting</th>\n",
       "      <th>pct</th>\n",
       "    </tr>\n",
       "  </thead>\n",
       "  <tbody>\n",
       "    <tr>\n",
       "      <th>0</th>\n",
       "      <td>Assessed pupils</td>\n",
       "      <td>688</td>\n",
       "      <td>83.84</td>\n",
       "    </tr>\n",
       "    <tr>\n",
       "      <th>1</th>\n",
       "      <td>Talked to HT</td>\n",
       "      <td>516</td>\n",
       "      <td>62.88</td>\n",
       "    </tr>\n",
       "    <tr>\n",
       "      <th>2</th>\n",
       "      <td>Provided feedback on lesson</td>\n",
       "      <td>734</td>\n",
       "      <td>89.44</td>\n",
       "    </tr>\n",
       "    <tr>\n",
       "      <th>3</th>\n",
       "      <td>Had general talk</td>\n",
       "      <td>364</td>\n",
       "      <td>44.36</td>\n",
       "    </tr>\n",
       "    <tr>\n",
       "      <th>4</th>\n",
       "      <td>Other</td>\n",
       "      <td>127</td>\n",
       "      <td>15.48</td>\n",
       "    </tr>\n",
       "  </tbody>\n",
       "</table>\n",
       "</div>"
      ],
      "text/plain": [
       "                    activities  tchrs_reporting    pct\n",
       "0  Assessed pupils              688              83.84\n",
       "1  Talked to HT                 516              62.88\n",
       "2  Provided feedback on lesson  734              89.44\n",
       "3  Had general talk             364              44.36\n",
       "4  Other                        127              15.48"
      ]
     },
     "execution_count": 53,
     "metadata": {},
     "output_type": "execute_result"
    }
   ],
   "source": [
    "# Generating table of CSOs' activities during visits\n",
    "visact_df = pd.DataFrame.from_dict({\"activities\": [\"Assessed pupils\",\n",
    "                                                   \"Talked to HT\",\n",
    "                                                   \"Provided feedback on lesson\",\n",
    "                                                   \"Had general talk\",\n",
    "                                                   \"Other\"],\n",
    "                                    \"tchrs_reporting\": [tchrs[tchrs.vis_before != 0].vis_act_kids.sum(),\n",
    "                                                        tchrs[tchrs.vis_before != 0].vis_act_ht.sum(),\n",
    "                                                        tchrs[tchrs.vis_before != 0].vis_act_fdbk.sum(),\n",
    "                                                        tchrs[tchrs.vis_before != 0].vis_act_gen.sum(),\n",
    "                                                        tchrs[tchrs.vis_before != 0].vis_act_other.sum()]})\n",
    "visact_df[\"pct\"] = np.round(visact_df.tchrs_reporting.apply(lambda x: 100 * (x/(tchr_ct - never))), decimals=2)\n",
    "visact_df"
   ]
  },
  {
   "cell_type": "code",
   "execution_count": 54,
   "metadata": {
    "ExecuteTime": {
     "end_time": "2018-10-25T19:19:29.467924Z",
     "start_time": "2018-10-25T19:19:23.874329Z"
    },
    "code_folding": [
     0
    ]
   },
   "outputs": [],
   "source": [
    "# Generating the graph of CSOs' activities during the previous visit\n",
    "csoprevvis_ch = alt.Chart(visact_df, title=\"CSO activities during previous visit\").mark_bar().encode(\n",
    "alt.Y(\"activities:O\", \n",
    "      title=\"Activities named\",\n",
    "      sort = alt.EncodingSortField(field=\"tchrs_reporting\", op=\"values\", order=\"ascending\")),\n",
    "alt.X(\"pct:Q\",\n",
    "      title=\"% of teachers responding\"),\n",
    "tooltip = \"tchrs_reporting\")\n",
    "\n",
    "csoprevvis_ch.save(\"./img/csoprevvis_ch.png\", scale_factor=2.0)"
   ]
  },
  {
   "cell_type": "markdown",
   "metadata": {
    "ExecuteTime": {
     "end_time": "2018-10-25T18:53:54.468291Z",
     "start_time": "2018-10-25T18:53:54.093247Z"
    }
   },
   "source": [
    "![title](img/csoprevvis_ch.png)"
   ]
  },
  {
   "cell_type": "markdown",
   "metadata": {
    "ExecuteTime": {
     "end_time": "2018-10-21T15:02:49.246011Z",
     "start_time": "2018-10-21T15:02:49.226011Z"
    },
    "variables": {
     "int(np.ceil(visact_df.pct.max()))": "90",
     "int(np.floor(visact_df[visact_df.activities==\"Other\"].pct))": "15"
    }
   },
   "source": [
    "Nearly {{int(np.ceil(visact_df.pct.max()))}}% of teachers report that when the CSO last visited, s/he provided feedback on a lesson. Nearly the same quantity said that the CSO assessed pupils. Neither of these is surprising, as those activities are key features of a \"reimbursable\" or \"valid\" lesson observation. If anything, it is interesting that these numbers are not higher, given that we have excluded from our denominator those teachers who said they had never received a visit from the CSO.\n",
    "\n",
    "Of note is the relatively low proportion of teachers reporting the CSO had spoken with the HT. While Tusome encourages CSOs to speak with HTs as part of the standard protocol for visiting a school, it is not explicitly considered as a factor for reimbursement of transportation costs for visiting that school.\n",
    "\n",
    "That said, it is also possible that teachers may simply not be aware of activities taking place outside of their classroom. They and their classrooms would have been the objects of the lesson observation and fluency assessment; they may not have as much visibility into what happened before or after the CSO entered their classroom.\n",
    "\n",
    "A little over {{int(np.floor(visact_df[visact_df.activities==\"Other\"].pct))}}% of teachers reported the CSO conducted an activity that was not listed in the questionnaire. Below we have sampled 20 of the things that they reported which were not captured in the questionnaire."
   ]
  },
  {
   "cell_type": "code",
   "execution_count": 55,
   "metadata": {
    "ExecuteTime": {
     "end_time": "2018-10-25T19:19:29.530439Z",
     "start_time": "2018-10-25T19:19:29.495923Z"
    },
    "code_folding": [
     0
    ]
   },
   "outputs": [
    {
     "name": "stdout",
     "output_type": "stream",
     "text": [
      "85     He sits at the back of the classroom to observe my lessons and thereafter supports                                                                                          \n",
      "766    He sits back, watch as I teach, check pupils books, lesson plans, teaching notes and schemes of work.                                                                       \n",
      "648    guidance on preparation of teacher documentation                                                                                                                            \n",
      "10     She observed the way I was teaching while sitted at the back of the class                                                                                                   \n",
      "768    Checked on book ratio                                                                                                                                                       \n",
      "514    He talks to me on my performance in teaching Tusome lessons                                                                                                                 \n",
      "635    To improve on resources in class.                                                                                                                                           \n",
      "516    He observes my lessons and corrects mistakes where appropriate                                                                                                              \n",
      "65     She checked if Tusome books are covered well                                                                                                                                \n",
      "736    He asked for the lesson i was teaching ,he sat at the back of the class and observed my lesson as I taught. After the lesson he assessed three learners and gave me feedback\n",
      "237    Took class enrollement by gender                                                                                                                                            \n",
      "401    He spoke to headteacher,observed my class,assessed pupils and gave me feed back on my class                                                                                 \n",
      "640    assessed children and gave me feedback on my lesson                                                                                                                         \n",
      "129    She observes the lesson                                                                                                                                                     \n",
      "346    Talks to other staff memebers.                                                                                                                                              \n",
      "730    The CSO observed my lessons (English,Kiswahili & Maths and gives me feedback on areas of improvement                                                                        \n",
      "186    If during the lesson he finds there is something I need correction he corrects me.                                                                                          \n",
      "717    Talked to the entire tusome teacher.                                                                                                                                        \n",
      "467    He always notifys me through the HT that he will come to support us on a given day.                                                                                         \n",
      "630    She checks on the books                                                                                                                                                     \n",
      "Name: vis_act_other_det, dtype: object\n"
     ]
    }
   ],
   "source": [
    "# Generating a list of the 'other' activities CSOs did when visiting\n",
    "print(tchrs[tchrs.vis_act_other_det.notna() & (tchrs.vis_act_other_det != \"\")].vis_act_other_det.sample(20))"
   ]
  },
  {
   "cell_type": "markdown",
   "metadata": {},
   "source": [
    "### CSOs using tablets or pen & paper during observation\n",
    "\n",
    "The _Tangerine:Tutor_ app was developed with the intent and belief that CSOs would use it _while observing_ the lesson. However, Tusome staff report that not all CSOs find the tablet interface comfortable, and not all use it with ease. So we asked teachers to report whether CSOs use the tablets during the lesson observation, and also whether they use pen and paper."
   ]
  },
  {
   "cell_type": "markdown",
   "metadata": {
    "ExecuteTime": {
     "end_time": "2018-10-21T15:27:58.583363Z",
     "start_time": "2018-10-21T15:27:58.575363Z"
    },
    "variables": {
     "int(np.round(100 * (tchrs.cso_usepcl_yn.sum()/tchr_ct), decimals=2))": "81",
     "int(np.round(100 * (tchrs.cso_usetab_yn.sum()/tchr_ct), decimals=2))": "90"
    }
   },
   "source": [
    "Roughly {{int(np.round(100 * (tchrs.cso_usetab_yn.sum()/tchr_ct), decimals=2))}}% of teachers reported that the CSOs use tablets during lesson observation; roughly {{int(np.round(100 * (tchrs.cso_usepcl_yn.sum()/tchr_ct), decimals=2))}}% of teachers reported the CSOs use pen and paper during the lesson observation."
   ]
  },
  {
   "cell_type": "code",
   "execution_count": 56,
   "metadata": {
    "ExecuteTime": {
     "end_time": "2018-10-25T19:19:34.653444Z",
     "start_time": "2018-10-25T19:19:29.565441Z"
    },
    "code_folding": [
     0
    ]
   },
   "outputs": [
    {
     "data": {
      "text/html": [
       "<div>\n",
       "<style scoped>\n",
       "    .dataframe tbody tr th:only-of-type {\n",
       "        vertical-align: middle;\n",
       "    }\n",
       "\n",
       "    .dataframe tbody tr th {\n",
       "        vertical-align: top;\n",
       "    }\n",
       "\n",
       "    .dataframe thead th {\n",
       "        text-align: right;\n",
       "    }\n",
       "</style>\n",
       "<table border=\"1\" class=\"dataframe\">\n",
       "  <thead>\n",
       "    <tr style=\"text-align: right;\">\n",
       "      <th>Uses pen and paper</th>\n",
       "      <th>No</th>\n",
       "      <th>Yes</th>\n",
       "    </tr>\n",
       "    <tr>\n",
       "      <th>Uses tablet</th>\n",
       "      <th></th>\n",
       "      <th></th>\n",
       "    </tr>\n",
       "  </thead>\n",
       "  <tbody>\n",
       "    <tr>\n",
       "      <th>No</th>\n",
       "      <td>3</td>\n",
       "      <td>17</td>\n",
       "    </tr>\n",
       "    <tr>\n",
       "      <th>Yes</th>\n",
       "      <td>72</td>\n",
       "      <td>657</td>\n",
       "    </tr>\n",
       "  </tbody>\n",
       "</table>\n",
       "</div>"
      ],
      "text/plain": [
       "Uses pen and paper  No  Yes\n",
       "Uses tablet                \n",
       "No                  3   17 \n",
       "Yes                 72  657"
      ]
     },
     "execution_count": 56,
     "metadata": {},
     "output_type": "execute_result"
    }
   ],
   "source": [
    "# Generating the table about usage of tablets and pencils\n",
    "tabs_n_pencils = pd.crosstab(tchrs.cso_usetab_yn, tchrs.cso_usepcl_yn)\n",
    "tabs_n_pencils = tabs_n_pencils.rename_axis(\"Uses tablet\").rename_axis(\"Uses pen and paper\", axis=\"columns\")\n",
    "tabs_n_pencils = tabs_n_pencils.rename({0: \"No\", 1: \"Yes\"}, axis=\"columns\").rename({0: \"No\", 1: \"Yes\"}, axis=\"index\")\n",
    "tabs_n_pencils"
   ]
  },
  {
   "cell_type": "markdown",
   "metadata": {},
   "source": [
    "We see that the overwhelming majority of CSOs are using both tablets _and_ pen-and-paper systems when observing the teachers' lesson. There have historically been some instruments/data that CSOs were tasked by TSC to complete that were not rendered in _Tangerine_ format on the tablets; as of midway through Term 3 of the 2018 academic year, those instruments (mostly for the TSC's TPAD \\[Teacher Professional Appraisal and Development\\] project) are now in _Tangerine_. While the use of pen and paper does not appear to have come at the expense of using the tablets - indeed, it appears to be complementary, as nearly all CSOs are using both - Tusome should nonetheless follow up on these reports of CSOs' usage of pen and paper to understand the roots of the practice."
   ]
  },
  {
   "cell_type": "markdown",
   "metadata": {
    "variables": {
     "int(np.round(100 * (tchrs.cso_usetab_pup_yn.sum()/tchr_ct), decimals=2))": "88"
    }
   },
   "source": [
    "### CSOs' usage of the tablets to assess pupils' performance\n",
    "\n",
    "Tusome's coaching protocol requires CSOs to randomly select three children from the classroom at the end of the lesson to assess their reading fluency. The prompt the children are to read from is a laminated sheet of paper with a short passage printed on it; the CSOs are instructed to use the tablet to record the children's responses. The tablet is then able to calculate fluency rates and store those as data associated with that observation.\n",
    "\n",
    "Approximately {{int(np.round(100 * (tchrs.cso_usetab_pup_yn.sum()/tchr_ct), decimals=2))}}% of the teachers reported that CSOs use the tablets to assess children's reading fluency."
   ]
  },
  {
   "cell_type": "markdown",
   "metadata": {},
   "source": [
    "### Teachers' experience of feedback, and CSOs' use of tablets\n",
    "\n",
    "Tusome asked teachers whether the CSO gave feedback on the lesson last time s/he paid a visit, whether s/he used the tablet to do so, and whether the teacher was able to recall specific feedback the CSO provided."
   ]
  },
  {
   "cell_type": "code",
   "execution_count": 57,
   "metadata": {
    "ExecuteTime": {
     "end_time": "2018-10-25T19:19:34.701493Z",
     "start_time": "2018-10-25T19:19:34.669464Z"
    },
    "code_folding": [
     0
    ]
   },
   "outputs": [
    {
     "data": {
      "text/html": [
       "<div>\n",
       "<style scoped>\n",
       "    .dataframe tbody tr th:only-of-type {\n",
       "        vertical-align: middle;\n",
       "    }\n",
       "\n",
       "    .dataframe tbody tr th {\n",
       "        vertical-align: top;\n",
       "    }\n",
       "\n",
       "    .dataframe thead th {\n",
       "        text-align: right;\n",
       "    }\n",
       "</style>\n",
       "<table border=\"1\" class=\"dataframe\">\n",
       "  <thead>\n",
       "    <tr style=\"text-align: right;\">\n",
       "      <th></th>\n",
       "      <th>event</th>\n",
       "      <th>ct</th>\n",
       "      <th>pct</th>\n",
       "    </tr>\n",
       "  </thead>\n",
       "  <tbody>\n",
       "    <tr>\n",
       "      <th>0</th>\n",
       "      <td>CSO gave feedback</td>\n",
       "      <td>757.0</td>\n",
       "      <td>91.4</td>\n",
       "    </tr>\n",
       "    <tr>\n",
       "      <th>1</th>\n",
       "      <td>CSO used a tablet</td>\n",
       "      <td>676.0</td>\n",
       "      <td>81.6</td>\n",
       "    </tr>\n",
       "    <tr>\n",
       "      <th>2</th>\n",
       "      <td>Tchr remembers feedback</td>\n",
       "      <td>725.0</td>\n",
       "      <td>87.6</td>\n",
       "    </tr>\n",
       "  </tbody>\n",
       "</table>\n",
       "</div>"
      ],
      "text/plain": [
       "                     event     ct   pct\n",
       "0  CSO gave feedback        757.0  91.4\n",
       "1  CSO used a tablet        676.0  81.6\n",
       "2  Tchr remembers feedback  725.0  87.6"
      ]
     },
     "execution_count": 57,
     "metadata": {},
     "output_type": "execute_result"
    }
   ],
   "source": [
    "# Generating table of CSO use of tablets for feedback\n",
    "feedback = {\"CSO gave feedback\": tchrs.cso_gave_fdbk_yn.sum(),\n",
    "            \"CSO used a tablet\": tchrs.cso_usetab_fdbk_yn.sum(),\n",
    "            \"Tchr remembers feedback\": tchrs.cso_fdbk_remember.sum()}\n",
    "fdbk_df = pd.DataFrame.from_dict(feedback, orient=\"index\", columns=[\"ct\"])\n",
    "fdbk_df[\"pct\"] = 100 * np.round(fdbk_df[\"ct\"] / tchrs.shape[0], decimals=3)\n",
    "fdbk_df = fdbk_df.rename_axis(\"event\").reset_index()\n",
    "fdbk_df"
   ]
  },
  {
   "cell_type": "code",
   "execution_count": 58,
   "metadata": {
    "ExecuteTime": {
     "end_time": "2018-10-25T19:19:34.737486Z",
     "start_time": "2018-10-25T19:19:34.709525Z"
    },
    "code_folding": [
     0
    ]
   },
   "outputs": [
    {
     "data": {
      "text/plain": [
       "314    guided me on infusing the Competency Based curriculum principles - communication, collaboaration, values etc, advised me to support learners to develop a faster reading speed                                                                                          \n",
       "613    I was reminded to check pupils predictions after reaing the story.                                                                                                                                                                                                      \n",
       "509    adviced to ensure that all learners are involved in the lesson                                                                                                                                                                                                          \n",
       "463    Learners fluency rate he said was ok for as per the Tusome bench mark for Grade 1.                                                                                                                                                                                      \n",
       "686    create time and help slow learners in word blending                                                                                                                                                                                                                     \n",
       "403    Use simple words to make sentences when teaching vocabulary activity                                                                                                                                                                                                    \n",
       "155    he told me about fluency levels of my class some pupils were not able to read fluently                                                                                                                                                                                  \n",
       "288    use of DIM                                                                                                                                                                                                                                                              \n",
       "213    One was about time i took in teaching that lesson and the other one was about how the learners read the assessment                                                                                                                                                      \n",
       "518    He guided me on how to invovle the enitre class in the lesson instead of concentrating on a few learners to answer questions.                                                                                                                                           \n",
       "371    he reminded me to give learners enough time to demonistrate the meaning of words by use of sentences                                                                                                                                                                    \n",
       "124    I was informed that my learners were reading in a low torn hence should encoureage them to read loudly or speak loudly                                                                                                                                                  \n",
       "588    The CSO said when it comes to vocubullary, i tool longer than the stipulated time especially the grammar part. He said its important that some times i give individuals time to read since those who are slow may not be able to read when it's the whole calss reading.\n",
       "603    He advised me to teach more than 1 tusome lesson so as to catch up with the rest in the zone                                                                                                                                                                            \n",
       "68     He showed me how to use the teachers guide and discussed about the CBC                                                                                                                                                                                                  \n",
       "810    Craete remedial lessons to help slow learners                                                                                                                                                                                                                           \n",
       "186    He told me am able to follow the Tusome steps of I do, We do, You do but in some areas am too fast. He also told me that a majority of my learners are able to read.                                                                                                    \n",
       "401    for me to orally blend rather write sounds on the board                                                                                                                                                                                                                 \n",
       "623    Mostly I forget to do prediction. The CSO reminded me to always remember to do it where applicatioable. She also advised on need to control responses in mother Tongue by learners during.the lesson                                                                    \n",
       "107    I was informed and guided on strategies to use to improve on the reading fluency levels in my learners                                                                                                                                                                  \n",
       "Name: cso_fdbk_det, dtype: object"
      ]
     },
     "execution_count": 58,
     "metadata": {},
     "output_type": "execute_result"
    }
   ],
   "source": [
    "# Sample of details regarding the details of feedback CSOs provided\n",
    "tchrs[tchrs.cso_fdbk_det.notna() & (tchrs.cso_fdbk_det != \"\")].cso_fdbk_det.sample(20)"
   ]
  },
  {
   "cell_type": "markdown",
   "metadata": {},
   "source": [
    "## CSO Instrument"
   ]
  },
  {
   "cell_type": "markdown",
   "metadata": {
    "ExecuteTime": {
     "end_time": "2018-10-12T13:38:15.821761Z",
     "start_time": "2018-10-12T13:38:15.784758Z"
    }
   },
   "source": [
    "Here we begin exploring the data we obtained from interviewing the CSOs."
   ]
  },
  {
   "cell_type": "markdown",
   "metadata": {},
   "source": [
    "### Length of experience using tablet-based Tangerine\n",
    "_When did you first receive a tablet from Tusome or PRIMR?_\n",
    "\n",
    "We want to convert the year/month CSOs provided into a number so we can work with it easily. We'll make the simplifying assumption that the tablet was received on the first day of the month they provided, and that this interview was conducted on the first day of the month. Neither of those are true, but the marginal days are unlikely to make a practical difference in a CSO's facility with the tool."
   ]
  },
  {
   "cell_type": "code",
   "execution_count": 59,
   "metadata": {
    "ExecuteTime": {
     "end_time": "2018-10-25T19:19:34.753485Z",
     "start_time": "2018-10-25T19:19:34.741511Z"
    },
    "code_folding": [
     0
    ]
   },
   "outputs": [],
   "source": [
    "# Converting the tablet years, months into a duration\n",
    "now = dt.datetime(2018, 10, 1)\n",
    "csos[\"tab_usage\"] = pd.to_timedelta(now - pd.to_datetime({\"year\": csos.recd_tab_yr, \"month\": csos.recd_tab_month, \"day\": 1})).dt.days"
   ]
  },
  {
   "cell_type": "markdown",
   "metadata": {
    "ExecuteTime": {
     "end_time": "2018-10-18T06:22:41.067578Z",
     "start_time": "2018-10-18T06:22:41.040577Z"
    }
   },
   "source": [
    "We'll also want to convert the duration to months, since that will be easier to digest, and filter out any missing values."
   ]
  },
  {
   "cell_type": "code",
   "execution_count": 60,
   "metadata": {
    "ExecuteTime": {
     "end_time": "2018-10-25T19:19:40.563893Z",
     "start_time": "2018-10-25T19:19:34.757486Z"
    },
    "code_folding": [
     0
    ],
    "scrolled": true
   },
   "outputs": [],
   "source": [
    "# Generating the df and chart for tablet usage\n",
    "tab_usage = pd.DataFrame(csos[csos.tab_usage.notna()].tab_usage / 30)\n",
    "tabdur_ch = alt.Chart(tab_usage, title=\"Distribution of CSO tablet usage, months\").mark_bar().encode(\n",
    "    alt.X(\"tab_usage:Q\", \n",
    "          bin=alt.BinParams(step=1), title=\"# Months has had a tablet\"),\n",
    "    alt.Y(\"count()\", title=\"# of CSOs\"))\n",
    "\n",
    "tabdur_ch.save(\"img/tabdur_ch.png\", scale_factor=2.0)"
   ]
  },
  {
   "cell_type": "markdown",
   "metadata": {
    "ExecuteTime": {
     "end_time": "2018-10-25T17:39:55.190891Z",
     "start_time": "2018-10-25T17:39:55.118893Z"
    }
   },
   "source": [
    "![title](img/tabdur_ch.png)"
   ]
  },
  {
   "cell_type": "markdown",
   "metadata": {
    "ExecuteTime": {
     "end_time": "2018-10-18T06:06:58.475520Z",
     "start_time": "2018-10-18T06:06:58.294467Z"
    },
    "variables": {
     "int(tab_usage.tab_usage.mode()[0])": "41",
     "np.round(tab_usage.tab_usage.mode()[0]/12, decimals=1)": "3.5"
    }
   },
   "source": [
    "We see that the majority of our CSOs have had their tablets for roughly {{int(tab_usage.tab_usage.mode()[0])}} months ({{np.round(tab_usage.tab_usage.mode()[0]/12, decimals=1)}} years). This is in keeping with the beginning of the Tusome program, and is as expected. CSOs who have had their tablets for longer are likely veterans of the PRIMR program (Tusome's predecessor); those who have had tablets for fewer months may have assumed their roles more recently. (CSO turnover due to retirement, promotion, maternity leave, etc. is an issue which Tusome is constantly needing to manage.)"
   ]
  },
  {
   "cell_type": "markdown",
   "metadata": {
    "ExecuteTime": {
     "end_time": "2018-10-12T13:38:15.821761Z",
     "start_time": "2018-10-12T13:38:15.784758Z"
    }
   },
   "source": [
    "### Proportion of CSOs reporting use of each application\n",
    "\n",
    "_Which applications do you use frequently when supporting teachers? ...After recording unprompted responses, read the list of options and record responses._\n",
    "  + Tangerine Tutor\n",
    "  + Papaya\n",
    "  + Tusome Books (in Adobe Acrobat)\n",
    "  + Tusome Videos (in MX Player)\n",
    "\n",
    "The CSOs' tablets come equipped with several tools meant to support their efforts as instructional coaches. These include the [_Tangerine:Tutor_](http://www.tangerinecentral.org/tutor/) application, the [_Papaya_](http://schoolsnetkenya.com/tusome-early-literacy-programme-sounds-application/) application, PDF versions of Tusome's instructional materials (pupil's books and teacher's guides), and videos that model effective instructional delivery.\n",
    "\n",
    "We are interested in which of those tools CSOs use, and how frequently. We will provide an analysis of their unprompted free-response answers to the question above. For the moment, we note the tools they said they use when we explicitly prompted them with the list of tools available."
   ]
  },
  {
   "cell_type": "code",
   "execution_count": 61,
   "metadata": {
    "ExecuteTime": {
     "end_time": "2018-10-25T19:19:40.615884Z",
     "start_time": "2018-10-25T19:19:40.591884Z"
    },
    "code_folding": [
     0
    ]
   },
   "outputs": [],
   "source": [
    "# Generating the df of app usage\n",
    "app_users = {\"tutor\": csos.freqapps_tt_promp.sum(),\n",
    "         \"papaya\": csos.freqapps_papaya_promp.sum(),\n",
    "         \"books\": csos.freqapps_bks_promp.sum(),\n",
    "         \"videos\": csos.freqapps_vids_promp.sum()}\n",
    "app_usage = pd.DataFrame.from_dict(app_users, orient=\"index\", columns=[\"ct\"])\n",
    "app_usage[\"pct\"] = 100 * np.round(app_usage[\"ct\"] / csos.shape[0], decimals=3)\n",
    "app_usage = app_usage.rename_axis(\"app\").reset_index()"
   ]
  },
  {
   "cell_type": "code",
   "execution_count": 68,
   "metadata": {
    "ExecuteTime": {
     "end_time": "2018-10-25T19:22:11.391422Z",
     "start_time": "2018-10-25T19:22:05.576041Z"
    }
   },
   "outputs": [],
   "source": [
    "appuse_ch = alt.Chart(app_usage, title=\"Proportion of CSOs reporting tool usage\").mark_bar().encode(\n",
    "    alt.Y(\"app:O\",\n",
    "          title=\"Application\",\n",
    "          sort = alt.EncodingSortField(field=\"pct\", op=\"values\", order=\"ascending\"),\n",
    "          ),\n",
    "    alt.X(\"pct:Q\", title=\"% of CSOs reporting usage\"),\n",
    "    tooltip=\"pct\")\n",
    "\n",
    "appuse_ch.save(\"img/appuse_ch.png\", scale_factor=2.0)"
   ]
  },
  {
   "cell_type": "markdown",
   "metadata": {},
   "source": [
    "![title](img/appuse_ch.png)"
   ]
  },
  {
   "cell_type": "markdown",
   "metadata": {
    "ExecuteTime": {
     "end_time": "2018-10-18T10:11:51.996964Z",
     "start_time": "2018-10-18T10:11:51.970463Z"
    }
   },
   "source": [
    "The overwhelming majority of the CSOs report using all of the applications. That said, the videos and books are used less frequently."
   ]
  },
  {
   "cell_type": "markdown",
   "metadata": {
    "ExecuteTime": {
     "end_time": "2018-10-18T10:14:09.150850Z",
     "start_time": "2018-10-18T10:14:09.136848Z"
    }
   },
   "source": [
    "### Proportion of CSOs who refer to Tangerine to provide post-observation feedback\n",
    "\n",
    "_Do you refer to Tangerine when giving teachers feedback after observing a lesson?_\n",
    "\n",
    "The _Tangerine:Tutor_ application analyzes the pattern of the CSO's responses to the observation items and surfaces actionable feedback that could be share with the teacher to improve her or his instruction. While the auto-generated feedback is intended as a tool to help CSOs give more effective guidance to teachers, it can be quite extensive and is not prioritized. We were interested to know whether the CSOs make reference to the application's auto-generated feedback when they hold their post-observation debriefing session with the teacher."
   ]
  },
  {
   "cell_type": "code",
   "execution_count": 63,
   "metadata": {
    "ExecuteTime": {
     "end_time": "2018-10-25T19:19:46.955525Z",
     "start_time": "2018-10-25T19:19:46.943529Z"
    },
    "code_folding": [
     0
    ]
   },
   "outputs": [
    {
     "data": {
      "text/plain": [
       "96.7"
      ]
     },
     "execution_count": 63,
     "metadata": {},
     "output_type": "execute_result"
    }
   ],
   "source": [
    "# Calculating proportion of CSOs who refer to Tangerine during feedback\n",
    "100 * np.round(csos.ref_tang_fdbk.sum() / csos.shape[0], decimals=3)"
   ]
  },
  {
   "cell_type": "markdown",
   "metadata": {
    "ExecuteTime": {
     "end_time": "2018-10-18T10:11:51.996964Z",
     "start_time": "2018-10-18T10:11:51.970463Z"
    }
   },
   "source": [
    "Again, the overwhelming majority of CSOs report using the auto-generated feedback when holding their debrief session with the teacher. We will separately provide an analysis of their open-ended answers regarding _what_ they refer to and what they find most useful."
   ]
  },
  {
   "cell_type": "markdown",
   "metadata": {
    "ExecuteTime": {
     "end_time": "2018-10-18T10:11:51.996964Z",
     "start_time": "2018-10-18T10:11:51.970463Z"
    }
   },
   "source": [
    "### Proportion of CSOs who use Tangerine to plan their work\n",
    "\n",
    "_Do you refer to Tangerine to help you plan your work when you are **not** either observing a teacher or giving the teacher feedback?_\n",
    "\n",
    "Version 3 of the _Tangerine:Tutor_ application features a screen which allows a CSO to see schools they have visited and which they have not. We were interested to know whether the CSOs are leveraging this feature—or others, such as the pupils' fluency rates, which are reported in the feedback—to make decisions about which schools to visit in the future."
   ]
  },
  {
   "cell_type": "code",
   "execution_count": 64,
   "metadata": {
    "ExecuteTime": {
     "end_time": "2018-10-25T19:19:47.027044Z",
     "start_time": "2018-10-25T19:19:46.959520Z"
    },
    "code_folding": [
     0
    ]
   },
   "outputs": [
    {
     "data": {
      "text/plain": [
       "59.9"
      ]
     },
     "execution_count": 64,
     "metadata": {},
     "output_type": "execute_result"
    }
   ],
   "source": [
    "# Generating proportion of CSOs who use Tangerine to plan their work\n",
    "100 * np.round(csos.refer_tang_nonobs.sum() / csos.shape[0], decimals=3)"
   ]
  },
  {
   "cell_type": "markdown",
   "metadata": {
    "ExecuteTime": {
     "end_time": "2018-10-18T10:11:51.996964Z",
     "start_time": "2018-10-18T10:11:51.970463Z"
    }
   },
   "source": [
    "Fewer than two-thirds of CSOs refer to Tangerine to plan their work. A sampling of their reasons is provided surfaced below:"
   ]
  },
  {
   "cell_type": "code",
   "execution_count": 65,
   "metadata": {
    "ExecuteTime": {
     "end_time": "2018-10-25T19:19:47.082046Z",
     "start_time": "2018-10-25T19:19:47.031044Z"
    },
    "code_folding": [
     0
    ]
   },
   "outputs": [
    {
     "data": {
      "text/plain": [
       "101    I normally use it for the observation and writing reports                                                                                           \n",
       "87     I ussually don't have enough time for that despite knowing it's the right thing to do but i will improve from next time                             \n",
       "17     I do not know other useful features that can help me plan my work                                                                                   \n",
       "62     I am still learning how to use the various features of the tangerine. With time, I will be able to use it more efficiently.                         \n",
       "146    Since i am not supporting the teachers, i don't open the tangerine but i open pdf books                                                             \n",
       "144    I have not used any other form from the Tangerine.                                                                                                  \n",
       "93     I normally use it for the observation and writing reports                                                                                           \n",
       "29     i HAVE THE INFORMATION I NEED FOR PLANNING MY WORK                                                                                                  \n",
       "47     I don't think I have any reason because I have my own program. I only use it when I am going to school. We normally prepare our own program of work.\n",
       "21     Yes Tangerine has schools visited or not visted hence useful for programming and familiaration of the tool                                          \n",
       "Name: tang_nonobs_nowhynot, dtype: object"
      ]
     },
     "execution_count": 65,
     "metadata": {},
     "output_type": "execute_result"
    }
   ],
   "source": [
    "# Generating list of sampled statements re: why CSOs didn't use Tangerine for planning\n",
    "pd.set_option('display.max_colwidth', -1)\n",
    "csos[csos.tang_nonobs_nowhynot.notnull() & (csos.tang_nonobs_nowhynot != \"\")].tang_nonobs_nowhynot.sample(10)"
   ]
  },
  {
   "cell_type": "markdown",
   "metadata": {},
   "source": [
    "This result surfaces a few issues Tusome might consider addressing next time CSOs receive a refresher training on Tangerine's use.\n",
    "  1. A lack of awareness of how the information provided by the tablet (schools visited and not visited) could be operationalized\n",
    "  1. A fear that they would be accused of falsifying observation data, rooted specifically in a misunderstanding of the application's GPS-capture functionality\n",
    "  1. A mental compartmentalization of Tangerine as being a Tusome-specific tool, not for use in broader contexts\n",
    "\n",
    "Other reasons given suggest that the need which Tangerine might fill is already being addressed separately.\n",
    "  1. The CSO keeps a personal record (outside of the tablet) in which they track school visitation\n",
    "  1. The CSO has prepared a work schedule, and uses that as their guide until the month's activities have concluded."
   ]
  },
  {
   "cell_type": "markdown",
   "metadata": {},
   "source": [
    "### Frequency with which users refer to the application\n",
    "\n",
    "\\[If the CSO refers to the Tangerine for planning purposes\\], _how often do you reference the data?_\n",
    "\n"
   ]
  },
  {
   "cell_type": "code",
   "execution_count": 66,
   "metadata": {
    "ExecuteTime": {
     "end_time": "2018-10-25T19:19:47.138044Z",
     "start_time": "2018-10-25T19:19:47.087047Z"
    },
    "code_folding": [
     0
    ]
   },
   "outputs": [],
   "source": [
    "# Generating the dataset of Tangerine checking behavior\n",
    "tchk_freq = csos[csos.freq_refer_tang_plan.notna()].freq_refer_tang_plan.sort_values().value_counts(sort=False).to_frame(name=\"ct\")\n",
    "tchk_freq = tchk_freq.rename_axis(\"frequency\").reset_index()\n",
    "tchk_freq[\"frequency\"] = tchk_freq[\"frequency\"].replace({\n",
    "    1: \"Daily\", \n",
    "    2: \"Weekly\",\n",
    "    3: \"Monthly\",\n",
    "    4: \"Termly\"})\n",
    "tchk_freq[\"sort_order\"] = tchk_freq.index"
   ]
  },
  {
   "cell_type": "markdown",
   "metadata": {
    "ExecuteTime": {
     "end_time": "2018-10-18T12:19:06.102224Z",
     "start_time": "2018-10-18T12:19:06.091229Z"
    }
   },
   "source": [
    "It appears that among the CSOs who check the application, it is most common to check it at least weekly."
   ]
  },
  {
   "cell_type": "code",
   "execution_count": 67,
   "metadata": {
    "ExecuteTime": {
     "end_time": "2018-10-25T19:19:57.254045Z",
     "start_time": "2018-10-25T19:19:47.145045Z"
    },
    "code_folding": [
     0
    ]
   },
   "outputs": [],
   "source": [
    "# Generating graph of Tangerine app checking behavior\n",
    "tangchk_ch = alt.Chart(tchk_freq, title=\"Tangerine app checking behavior\").mark_bar().encode(\n",
    "    alt.X(\"ct:Q\"),\n",
    "    alt.Y(\"frequency:O\", sort = alt.EncodingSortField(field=\"sort_order:Q\", op=\"values\", order=\"ascending\")),\n",
    "    color = \"frequency\")\n",
    "\n",
    "tangchk_ch.save(\"img/tangchk_ch.png\", scale_factor=2.0) "
   ]
  },
  {
   "cell_type": "markdown",
   "metadata": {},
   "source": [
    "![title](img/tangchk_ch.png)"
   ]
  },
  {
   "cell_type": "markdown",
   "metadata": {},
   "source": [
    "### CSO reference to the Tangerine Dashboard\n",
    "\n",
    "_In the last term, how often did you look at the Tangerine Dashboard?_\n",
    "\n",
    "The data that is generated by the CSOs' lesson observations is uploaded to the cloud and reported on the [Tangerine Dashboard](http://tools.tusome.tangerinecentral.org/_csv/report/group-national_tablet_program/00b0a09a-2a9f-baca-2acb-c6264d4247cb,c835fc38-de99-d064-59d3-e772ccefcf7d/2018/1/ep8yqMKT.html#tutor). This Dashboard is reviewed by senior management within the Ministry of Education: the Principal Secretary, his Directors, and their deputies. It is also sent to the Directors of MOE and TSC at the County level. As these latter personnel oversee the CSOs, the Dashboard may have an effect ..."
   ]
  },
  {
   "cell_type": "code",
   "execution_count": null,
   "metadata": {},
   "outputs": [],
   "source": []
  },
  {
   "cell_type": "code",
   "execution_count": null,
   "metadata": {},
   "outputs": [],
   "source": []
  }
 ],
 "metadata": {
  "jupytext_formats": "py:percent",
  "kernelspec": {
   "display_name": "Python 3",
   "language": "python",
   "name": "python3"
  },
  "language_info": {
   "codemirror_mode": {
    "name": "ipython",
    "version": 3
   },
   "file_extension": ".py",
   "mimetype": "text/x-python",
   "name": "python",
   "nbconvert_exporter": "python",
   "pygments_lexer": "ipython3",
   "version": "3.6.6"
  },
  "toc": {
   "nav_menu": {},
   "number_sections": true,
   "sideBar": true,
   "skip_h1_title": false,
   "title_cell": "Table of Contents",
   "title_sidebar": "Contents",
   "toc_cell": false,
   "toc_position": {},
   "toc_section_display": true,
   "toc_window_display": false
  },
  "varInspector": {
   "cols": {
    "lenName": 16,
    "lenType": 16,
    "lenVar": 40
   },
   "kernels_config": {
    "python": {
     "delete_cmd_postfix": "",
     "delete_cmd_prefix": "del ",
     "library": "var_list.py",
     "varRefreshCmd": "print(var_dic_list())"
    },
    "r": {
     "delete_cmd_postfix": ") ",
     "delete_cmd_prefix": "rm(",
     "library": "var_list.r",
     "varRefreshCmd": "cat(var_dic_list()) "
    }
   },
   "oldHeight": 122,
   "position": {
    "height": "144px",
    "left": "1650px",
    "right": "20px",
    "top": "120px",
    "width": "250px"
   },
   "types_to_exclude": [
    "module",
    "function",
    "builtin_function_or_method",
    "instance",
    "_Feature"
   ],
   "varInspector_section_display": "block",
   "window_display": false
  }
 },
 "nbformat": 4,
 "nbformat_minor": 2
}
